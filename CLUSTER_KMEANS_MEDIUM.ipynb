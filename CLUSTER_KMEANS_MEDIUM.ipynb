{
  "nbformat": 4,
  "nbformat_minor": 0,
  "metadata": {
    "colab": {
      "name": "CLUSTER KMEANS MEDIUM.ipynb",
      "provenance": [],
      "authorship_tag": "ABX9TyMAURArUO5tuB0qsIDDKnpc",
      "include_colab_link": true
    },
    "kernelspec": {
      "name": "python3",
      "display_name": "Python 3"
    },
    "language_info": {
      "name": "python"
    }
  },
  "cells": [
    {
      "cell_type": "markdown",
      "metadata": {
        "id": "view-in-github",
        "colab_type": "text"
      },
      "source": [
        "<a href=\"https://colab.research.google.com/github/pacomm5/PLANTILLAS2/blob/main/CLUSTER_KMEANS_MEDIUM.ipynb\" target=\"_parent\"><img src=\"https://colab.research.google.com/assets/colab-badge.svg\" alt=\"Open In Colab\"/></a>"
      ]
    },
    {
      "cell_type": "code",
      "execution_count": null,
      "metadata": {
        "id": "qTxiBnYb7Clp"
      },
      "outputs": [],
      "source": [
        "# PASOS A SEGUIR\n",
        "# DETERMINAR EL NUMERO DE K, NORMALMENTE CON EL METODO DEL CODO\n",
        "# ELEGIR LOS CENTROIDES.\n",
        "# CALCULAR LA DISTANCIA ENTRE LOS PUNTOS Y LOS CENTROIDES. \n",
        "# CRITERIOS DE DETENCION. \n",
        "# https://medium.com/geekculture/why-do-initial-cluster-centroids-in-k-means-affect-the-final-cluster-generated-71c115141be8"
      ]
    },
    {
      "cell_type": "code",
      "source": [
        "# para manipulación de datos.\n",
        "import pandas as pd\n",
        "# calculos de algebra\n",
        "import numpy as np\n",
        "# para generar datos.\n",
        "from sklearn.cluster import KMeans\n",
        "# para datos visuales. \n",
        "import plotnine\n",
        "from plotnine import *\n",
        "# para numeros aleatorios.\n",
        "import random\n",
        "# para ignorar warnings\n",
        "import warnings\n",
        "warnings.filterwarnings(\"ignore\")\n",
        "# en este he importado make_blobs que significa hacer bloques.\n",
        "from sklearn.datasets import make_blobs"
      ],
      "metadata": {
        "id": "ba97SuzG71SN"
      },
      "execution_count": 4,
      "outputs": []
    },
    {
      "cell_type": "code",
      "source": [
        "# vamos a generar datos dummy. \n",
        "features, clusters = make_blobs(\n",
        "    n_samples = 2000,\n",
        "    n_features = 2,\n",
        "    centers = 3,\n",
        "    cluster_std = 0.8,\n",
        "    shuffle = True,\n",
        "    random_state = 9\n",
        ")"
      ],
      "metadata": {
        "id": "Oq7wcAUl8ADq"
      },
      "execution_count": 5,
      "outputs": []
    },
    {
      "cell_type": "code",
      "source": [
        "# vamos a concatenar los arrays. \n",
        "array = np.column_stack([features, clusters])\n",
        "array"
      ],
      "metadata": {
        "colab": {
          "base_uri": "https://localhost:8080/"
        },
        "id": "Z_5O8_wX9e90",
        "outputId": "e45905f5-f3bd-4fa8-9150-a43eb4bd070d"
      },
      "execution_count": 6,
      "outputs": [
        {
          "output_type": "execute_result",
          "data": {
            "text/plain": [
              "array([[ -1.12165821,  -6.93867365,   1.        ],\n",
              "       [-11.1996175 ,   0.1390546 ,   0.        ],\n",
              "       [ -9.82051884,   0.17331046,   0.        ],\n",
              "       ...,\n",
              "       [  1.87317622,  -8.03479076,   1.        ],\n",
              "       [ -6.33051068,  -6.01479745,   2.        ],\n",
              "       [ -9.36028648,   0.28474266,   0.        ]])"
            ]
          },
          "metadata": {},
          "execution_count": 6
        }
      ]
    },
    {
      "cell_type": "code",
      "source": [
        "# ahora de esto vamos a hacer un dataframe\n",
        "df = pd.DataFrame(data = array,\n",
        "                  columns= [\n",
        "                            \"Feature 1\",\n",
        "                            \"Feature 2\",\n",
        "                            \"Cluster\"\n",
        "                  ]\n",
        ")\n",
        "# ahora mostramos el dataframe. \n",
        "\n",
        "print(\"Dimension: {} rows and {} columns\".format(\n",
        "    len(df),\n",
        "    len(df.columns))\n",
        ")\n",
        "df = df.astype({\"Cluster\": object})\n",
        "df.head()"
      ],
      "metadata": {
        "colab": {
          "base_uri": "https://localhost:8080/",
          "height": 223
        },
        "id": "c6TjCiy1-jd4",
        "outputId": "96d7da34-57c5-4f62-8157-ed6dd57368de"
      },
      "execution_count": 7,
      "outputs": [
        {
          "output_type": "stream",
          "name": "stdout",
          "text": [
            "Dimension: 2000 rows and 3 columns\n"
          ]
        },
        {
          "output_type": "execute_result",
          "data": {
            "text/plain": [
              "   Feature 1  Feature 2 Cluster\n",
              "0  -1.121658  -6.938674     1.0\n",
              "1 -11.199618   0.139055     0.0\n",
              "2  -9.820519   0.173310     0.0\n",
              "3 -10.481695  -0.809478     0.0\n",
              "4  -7.200004  -7.886425     2.0"
            ],
            "text/html": [
              "\n",
              "  <div id=\"df-84e79a61-90fa-4f2a-9212-e0919bff120f\">\n",
              "    <div class=\"colab-df-container\">\n",
              "      <div>\n",
              "<style scoped>\n",
              "    .dataframe tbody tr th:only-of-type {\n",
              "        vertical-align: middle;\n",
              "    }\n",
              "\n",
              "    .dataframe tbody tr th {\n",
              "        vertical-align: top;\n",
              "    }\n",
              "\n",
              "    .dataframe thead th {\n",
              "        text-align: right;\n",
              "    }\n",
              "</style>\n",
              "<table border=\"1\" class=\"dataframe\">\n",
              "  <thead>\n",
              "    <tr style=\"text-align: right;\">\n",
              "      <th></th>\n",
              "      <th>Feature 1</th>\n",
              "      <th>Feature 2</th>\n",
              "      <th>Cluster</th>\n",
              "    </tr>\n",
              "  </thead>\n",
              "  <tbody>\n",
              "    <tr>\n",
              "      <th>0</th>\n",
              "      <td>-1.121658</td>\n",
              "      <td>-6.938674</td>\n",
              "      <td>1.0</td>\n",
              "    </tr>\n",
              "    <tr>\n",
              "      <th>1</th>\n",
              "      <td>-11.199618</td>\n",
              "      <td>0.139055</td>\n",
              "      <td>0.0</td>\n",
              "    </tr>\n",
              "    <tr>\n",
              "      <th>2</th>\n",
              "      <td>-9.820519</td>\n",
              "      <td>0.173310</td>\n",
              "      <td>0.0</td>\n",
              "    </tr>\n",
              "    <tr>\n",
              "      <th>3</th>\n",
              "      <td>-10.481695</td>\n",
              "      <td>-0.809478</td>\n",
              "      <td>0.0</td>\n",
              "    </tr>\n",
              "    <tr>\n",
              "      <th>4</th>\n",
              "      <td>-7.200004</td>\n",
              "      <td>-7.886425</td>\n",
              "      <td>2.0</td>\n",
              "    </tr>\n",
              "  </tbody>\n",
              "</table>\n",
              "</div>\n",
              "      <button class=\"colab-df-convert\" onclick=\"convertToInteractive('df-84e79a61-90fa-4f2a-9212-e0919bff120f')\"\n",
              "              title=\"Convert this dataframe to an interactive table.\"\n",
              "              style=\"display:none;\">\n",
              "        \n",
              "  <svg xmlns=\"http://www.w3.org/2000/svg\" height=\"24px\"viewBox=\"0 0 24 24\"\n",
              "       width=\"24px\">\n",
              "    <path d=\"M0 0h24v24H0V0z\" fill=\"none\"/>\n",
              "    <path d=\"M18.56 5.44l.94 2.06.94-2.06 2.06-.94-2.06-.94-.94-2.06-.94 2.06-2.06.94zm-11 1L8.5 8.5l.94-2.06 2.06-.94-2.06-.94L8.5 2.5l-.94 2.06-2.06.94zm10 10l.94 2.06.94-2.06 2.06-.94-2.06-.94-.94-2.06-.94 2.06-2.06.94z\"/><path d=\"M17.41 7.96l-1.37-1.37c-.4-.4-.92-.59-1.43-.59-.52 0-1.04.2-1.43.59L10.3 9.45l-7.72 7.72c-.78.78-.78 2.05 0 2.83L4 21.41c.39.39.9.59 1.41.59.51 0 1.02-.2 1.41-.59l7.78-7.78 2.81-2.81c.8-.78.8-2.07 0-2.86zM5.41 20L4 18.59l7.72-7.72 1.47 1.35L5.41 20z\"/>\n",
              "  </svg>\n",
              "      </button>\n",
              "      \n",
              "  <style>\n",
              "    .colab-df-container {\n",
              "      display:flex;\n",
              "      flex-wrap:wrap;\n",
              "      gap: 12px;\n",
              "    }\n",
              "\n",
              "    .colab-df-convert {\n",
              "      background-color: #E8F0FE;\n",
              "      border: none;\n",
              "      border-radius: 50%;\n",
              "      cursor: pointer;\n",
              "      display: none;\n",
              "      fill: #1967D2;\n",
              "      height: 32px;\n",
              "      padding: 0 0 0 0;\n",
              "      width: 32px;\n",
              "    }\n",
              "\n",
              "    .colab-df-convert:hover {\n",
              "      background-color: #E2EBFA;\n",
              "      box-shadow: 0px 1px 2px rgba(60, 64, 67, 0.3), 0px 1px 3px 1px rgba(60, 64, 67, 0.15);\n",
              "      fill: #174EA6;\n",
              "    }\n",
              "\n",
              "    [theme=dark] .colab-df-convert {\n",
              "      background-color: #3B4455;\n",
              "      fill: #D2E3FC;\n",
              "    }\n",
              "\n",
              "    [theme=dark] .colab-df-convert:hover {\n",
              "      background-color: #434B5C;\n",
              "      box-shadow: 0px 1px 3px 1px rgba(0, 0, 0, 0.15);\n",
              "      filter: drop-shadow(0px 1px 2px rgba(0, 0, 0, 0.3));\n",
              "      fill: #FFFFFF;\n",
              "    }\n",
              "  </style>\n",
              "\n",
              "      <script>\n",
              "        const buttonEl =\n",
              "          document.querySelector('#df-84e79a61-90fa-4f2a-9212-e0919bff120f button.colab-df-convert');\n",
              "        buttonEl.style.display =\n",
              "          google.colab.kernel.accessAllowed ? 'block' : 'none';\n",
              "\n",
              "        async function convertToInteractive(key) {\n",
              "          const element = document.querySelector('#df-84e79a61-90fa-4f2a-9212-e0919bff120f');\n",
              "          const dataTable =\n",
              "            await google.colab.kernel.invokeFunction('convertToInteractive',\n",
              "                                                     [key], {});\n",
              "          if (!dataTable) return;\n",
              "\n",
              "          const docLinkHtml = 'Like what you see? Visit the ' +\n",
              "            '<a target=\"_blank\" href=https://colab.research.google.com/notebooks/data_table.ipynb>data table notebook</a>'\n",
              "            + ' to learn more about interactive tables.';\n",
              "          element.innerHTML = '';\n",
              "          dataTable['output_type'] = 'display_data';\n",
              "          await google.colab.output.renderOutput(dataTable, element);\n",
              "          const docLink = document.createElement('div');\n",
              "          docLink.innerHTML = docLinkHtml;\n",
              "          element.appendChild(docLink);\n",
              "        }\n",
              "      </script>\n",
              "    </div>\n",
              "  </div>\n",
              "  "
            ]
          },
          "metadata": {},
          "execution_count": 7
        }
      ]
    },
    {
      "cell_type": "code",
      "source": [
        ""
      ],
      "metadata": {
        "id": "OpAdC1mb_y3x"
      },
      "execution_count": null,
      "outputs": []
    }
  ]
}