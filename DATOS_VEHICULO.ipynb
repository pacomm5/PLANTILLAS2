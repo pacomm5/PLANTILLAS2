{
  "nbformat": 4,
  "nbformat_minor": 0,
  "metadata": {
    "colab": {
      "name": "DATOS_VEHICULO.ipynb",
      "provenance": [],
      "mount_file_id": "https://github.com/pacomm5/PLANTILLAS2/blob/main/DATOS_VEHICULO.ipynb",
      "authorship_tag": "ABX9TyOdhvoVR35EFws0eBgSTMzW",
      "include_colab_link": true
    },
    "kernelspec": {
      "name": "python3",
      "display_name": "Python 3"
    },
    "language_info": {
      "name": "python"
    }
  },
  "cells": [
    {
      "cell_type": "markdown",
      "metadata": {
        "id": "view-in-github",
        "colab_type": "text"
      },
      "source": [
        "<a href=\"https://colab.research.google.com/github/pacomm5/PLANTILLAS2/blob/main/DATOS_VEHICULO.ipynb\" target=\"_parent\"><img src=\"https://colab.research.google.com/assets/colab-badge.svg\" alt=\"Open In Colab\"/></a>"
      ]
    },
    {
      "cell_type": "code",
      "execution_count": 1,
      "metadata": {
        "id": "ucFID9HlnCet"
      },
      "outputs": [],
      "source": [
        "import pandas as pd"
      ]
    },
    {
      "cell_type": "code",
      "source": [
        "xlsx = pd.ExcelFile(\"/content/IMP_BASE_PILOTO_2.xlsx\")\n",
        "df = pd.read_excel(xlsx, \"IMP_BASE_PILOTO_2\")"
      ],
      "metadata": {
        "id": "KLIcPEvgnI68"
      },
      "execution_count": 2,
      "outputs": []
    },
    {
      "cell_type": "code",
      "source": [
        "df.shape"
      ],
      "metadata": {
        "id": "ZEjvYC9Fwjpp",
        "outputId": "a89877f8-7080-4fb1-b118-9b44ef532fd4",
        "colab": {
          "base_uri": "https://localhost:8080/"
        }
      },
      "execution_count": 3,
      "outputs": [
        {
          "output_type": "execute_result",
          "data": {
            "text/plain": [
              "(405662, 22)"
            ]
          },
          "metadata": {},
          "execution_count": 3
        }
      ]
    },
    {
      "cell_type": "code",
      "source": [
        "df.columns"
      ],
      "metadata": {
        "id": "ncBqQlpcxwxi",
        "outputId": "b66155a2-f0de-401d-a913-5624c3763fc8",
        "colab": {
          "base_uri": "https://localhost:8080/"
        }
      },
      "execution_count": 4,
      "outputs": [
        {
          "output_type": "execute_result",
          "data": {
            "text/plain": [
              "Index(['Cta.ti', 'Nombre titular', 'DNI/CIF', 'Movil', 'Teléfono', 'E-mail',\n",
              "       'Bastidor', 'Matricula', 'F.matric', 'Mar', 'Dirección', 'C.P.',\n",
              "       'Localidad', 'Marca/modelo', 'Cta.cargo', 'Nombre', 'DNI/CIF_1',\n",
              "       'Fec.aper', 'F.cierre', 'Km', 'Número', 'ORDEN_CORTA'],\n",
              "      dtype='object')"
            ]
          },
          "metadata": {},
          "execution_count": 4
        }
      ]
    },
    {
      "cell_type": "code",
      "source": [
        "# voy a cambiar el nombre de algunas columnas. \n",
        "df = df.rename(columns={\"Cta.ti\":\"Cta_tit\", \"Nombre titular\":\"Nombre_titular\", \"DNI/CIF\":\"DNI_CIF\",\"Teléfono\":\"Telefono\", \"E-mail\":\"Email\", \"F.matric\":\"Fech_matriculacion\", \n",
        "                   \"Dirección\":\"Direccion\", \"C.P.\":\"CP\", \"Marca/modelo\":\"Marca_modelo\", \"Cta.cargo\":\"Cta_cargo\", \"DNI/CIF_1\":\"DNI_CIF1\", \"Fec.aper\": \"Fech_apertura\", \"F.cierre\":\"Fech_cierre\",\n",
        "                   \"Número\":\"Numero\",  })\n"
      ],
      "metadata": {
        "id": "m9E6DOb_x0oA"
      },
      "execution_count": 5,
      "outputs": []
    },
    {
      "cell_type": "code",
      "source": [
        "df.columns"
      ],
      "metadata": {
        "id": "rclE4Moy0MqN",
        "outputId": "c7e234bc-8066-4a23-87ed-1a3728a9c8bb",
        "colab": {
          "base_uri": "https://localhost:8080/"
        }
      },
      "execution_count": 6,
      "outputs": [
        {
          "output_type": "execute_result",
          "data": {
            "text/plain": [
              "Index(['Cta_tit', 'Nombre_titular', 'DNI_CIF', 'Movil', 'Telefono', 'Email',\n",
              "       'Bastidor', 'Matricula', 'Fech_matriculacion', 'Mar', 'Direccion', 'CP',\n",
              "       'Localidad', 'Marca_modelo', 'Cta_cargo', 'Nombre', 'DNI_CIF1',\n",
              "       'Fech_apertura', 'Fech_cierre', 'Km', 'Numero', 'ORDEN_CORTA'],\n",
              "      dtype='object')"
            ]
          },
          "metadata": {},
          "execution_count": 6
        }
      ]
    },
    {
      "cell_type": "code",
      "source": [
        "df.isnull().sum()"
      ],
      "metadata": {
        "id": "fLtq-StE0PX3",
        "outputId": "01dba2f7-880b-46f9-88ab-f8c2a06f2c69",
        "colab": {
          "base_uri": "https://localhost:8080/"
        }
      },
      "execution_count": 8,
      "outputs": [
        {
          "output_type": "execute_result",
          "data": {
            "text/plain": [
              "Cta_tit                    8\n",
              "Nombre_titular             0\n",
              "DNI_CIF                    0\n",
              "Movil                   1951\n",
              "Telefono               23194\n",
              "Email                      0\n",
              "Bastidor                   0\n",
              "Matricula                  0\n",
              "Fech_matriculacion         4\n",
              "Mar                        0\n",
              "Direccion                  0\n",
              "CP                       200\n",
              "Localidad             116416\n",
              "Marca_modelo               0\n",
              "Cta_cargo             114924\n",
              "Nombre                     0\n",
              "DNI_CIF1                  36\n",
              "Fech_apertura              0\n",
              "Fech_cierre                0\n",
              "Km                         0\n",
              "Numero                     0\n",
              "ORDEN_CORTA                0\n",
              "dtype: int64"
            ]
          },
          "metadata": {},
          "execution_count": 8
        }
      ]
    },
    {
      "cell_type": "code",
      "source": [
        "df[\"Cta_tit\"] = df[\"Cta_tit\"].apply(str)\n",
        "df[\"Nombre_titular\"] = df[\"Nombre_titular\"].apply(str)\n",
        "df[\"DNI_CIF\"] = df[\"DNI_CIF\"].apply(str)\n",
        "df[\"Movil\"] = df[\"Movil\"].apply(str)\n",
        "df[\"Telefono\"] = df[\"Telefono\"].apply(str)\n",
        "df[\"Bastidor\"] = df[\"Bastidor\"].apply(str)\n",
        "df[\"Matricula\"] = df[\"Matricula\"].apply(str)\n",
        "df[\"Fech_matriculacion\"] = pd.to_datetime(df[\"Fech_matriculacion\"])\n",
        "df[\"Mar\"] = df[\"Mar\"].apply(str)\n",
        "df[\"Direccion\"] = df[\"Direccion\"].apply(str)\n",
        "df[\"CP\"] = df[\"CP\"].apply(str)\n",
        "df[\"Localidad\"] = df[\"Localidad\"].apply(str)\n",
        "df[\"Marca_modelo\"] = df[\"Marca_modelo\"].apply(str)\n",
        "df[\"Cta_cargo\"] = df[\"Cta_cargo\"].apply(str)\n",
        "df[\"Nombre\"] = df[\"Nombre\"].apply(str)\n",
        "df[\"DNI_CIF1\"] = df[\"DNI_CIF1\"].apply(str)\n",
        "df[\"Fech_apertura\"] = pd.to_datetime(df[\"Fech_apertura\"])\n",
        "df[\"Fech_cierre\"] = pd.to_datetime(df[\"Fech_cierre\"])\n",
        "df[\"Km\"] = df[\"Km\"].apply(int)\n",
        "df[\"Numero\"] = df[\"Numero\"].apply(str)\n",
        "df[\"ORDEN_CORTA\"] = df[\"ORDEN_CORTA\"].apply(str)"
      ],
      "metadata": {
        "id": "38_YIzJY0YBk"
      },
      "execution_count": 29,
      "outputs": []
    },
    {
      "cell_type": "code",
      "source": [
        ""
      ],
      "metadata": {
        "id": "OyL-ZQJm00SY"
      },
      "execution_count": null,
      "outputs": []
    }
  ]
}