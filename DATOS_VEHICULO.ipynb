{
  "nbformat": 4,
  "nbformat_minor": 0,
  "metadata": {
    "colab": {
      "name": "DATOS_VEHICULO.ipynb",
      "provenance": [],
      "mount_file_id": "https://github.com/pacomm5/PLANTILLAS2/blob/main/DATOS_VEHICULO.ipynb",
      "authorship_tag": "ABX9TyMfnRYXUOVoM8NPzPRURqRw",
      "include_colab_link": true
    },
    "kernelspec": {
      "name": "python3",
      "display_name": "Python 3"
    },
    "language_info": {
      "name": "python"
    }
  },
  "cells": [
    {
      "cell_type": "markdown",
      "metadata": {
        "id": "view-in-github",
        "colab_type": "text"
      },
      "source": [
        "<a href=\"https://colab.research.google.com/github/pacomm5/PLANTILLAS2/blob/main/DATOS_VEHICULO.ipynb\" target=\"_parent\"><img src=\"https://colab.research.google.com/assets/colab-badge.svg\" alt=\"Open In Colab\"/></a>"
      ]
    },
    {
      "cell_type": "code",
      "execution_count": 1,
      "metadata": {
        "id": "ucFID9HlnCet"
      },
      "outputs": [],
      "source": [
        "import pandas as pd"
      ]
    },
    {
      "cell_type": "code",
      "source": [
        "xlsx = pd.ExcelFile(\"/content/IMP_BASE_PILOTO_2.xlsx\")\n",
        "df = pd.read_excel(xlsx, \"IMP_BASE_PILOTO_2\")"
      ],
      "metadata": {
        "id": "KLIcPEvgnI68"
      },
      "execution_count": 2,
      "outputs": []
    },
    {
      "cell_type": "code",
      "source": [
        "df.shape"
      ],
      "metadata": {
        "colab": {
          "base_uri": "https://localhost:8080/"
        },
        "id": "ZEjvYC9Fwjpp",
        "outputId": "a89877f8-7080-4fb1-b118-9b44ef532fd4"
      },
      "execution_count": 3,
      "outputs": [
        {
          "output_type": "execute_result",
          "data": {
            "text/plain": [
              "(405662, 22)"
            ]
          },
          "metadata": {},
          "execution_count": 3
        }
      ]
    },
    {
      "cell_type": "code",
      "source": [
        "df.columns"
      ],
      "metadata": {
        "colab": {
          "base_uri": "https://localhost:8080/"
        },
        "id": "ncBqQlpcxwxi",
        "outputId": "b66155a2-f0de-401d-a913-5624c3763fc8"
      },
      "execution_count": 4,
      "outputs": [
        {
          "output_type": "execute_result",
          "data": {
            "text/plain": [
              "Index(['Cta.ti', 'Nombre titular', 'DNI/CIF', 'Movil', 'Teléfono', 'E-mail',\n",
              "       'Bastidor', 'Matricula', 'F.matric', 'Mar', 'Dirección', 'C.P.',\n",
              "       'Localidad', 'Marca/modelo', 'Cta.cargo', 'Nombre', 'DNI/CIF_1',\n",
              "       'Fec.aper', 'F.cierre', 'Km', 'Número', 'ORDEN_CORTA'],\n",
              "      dtype='object')"
            ]
          },
          "metadata": {},
          "execution_count": 4
        }
      ]
    },
    {
      "cell_type": "code",
      "source": [
        "# voy a cambiar el nombre de algunas columnas. \n",
        "df = df.rename(columns={\"Cta.ti\":\"Cta_tit\", \"Nombre titular\":\"Nombre_titular\", \"DNI/CIF\":\"DNI_CIF\",\"Teléfono\":\"Telefono\", \"E-mail\":\"Email\", \"F.matric\":\"Fech_matriculacion\", \n",
        "                   \"Dirección\":\"Direccion\", \"C.P.\":\"CP\", \"Marca/modelo\":\"Marca_modelo\", \"Cta.cargo\":\"Cta_cargo\", \"DNI/CIF_1\":\"DNI_CIF1\", \"Fec.aper\": \"Fech_apertura\", \"F.cierre\":\"Fech_cierre\",\n",
        "                   \"Número\":\"Numero\",  })\n"
      ],
      "metadata": {
        "id": "m9E6DOb_x0oA"
      },
      "execution_count": 5,
      "outputs": []
    },
    {
      "cell_type": "code",
      "source": [
        "df.columns"
      ],
      "metadata": {
        "colab": {
          "base_uri": "https://localhost:8080/"
        },
        "id": "rclE4Moy0MqN",
        "outputId": "c7e234bc-8066-4a23-87ed-1a3728a9c8bb"
      },
      "execution_count": 6,
      "outputs": [
        {
          "output_type": "execute_result",
          "data": {
            "text/plain": [
              "Index(['Cta_tit', 'Nombre_titular', 'DNI_CIF', 'Movil', 'Telefono', 'Email',\n",
              "       'Bastidor', 'Matricula', 'Fech_matriculacion', 'Mar', 'Direccion', 'CP',\n",
              "       'Localidad', 'Marca_modelo', 'Cta_cargo', 'Nombre', 'DNI_CIF1',\n",
              "       'Fech_apertura', 'Fech_cierre', 'Km', 'Numero', 'ORDEN_CORTA'],\n",
              "      dtype='object')"
            ]
          },
          "metadata": {},
          "execution_count": 6
        }
      ]
    },
    {
      "cell_type": "code",
      "source": [
        "df.isnull().sum()"
      ],
      "metadata": {
        "colab": {
          "base_uri": "https://localhost:8080/"
        },
        "id": "fLtq-StE0PX3",
        "outputId": "01dba2f7-880b-46f9-88ab-f8c2a06f2c69"
      },
      "execution_count": 8,
      "outputs": [
        {
          "output_type": "execute_result",
          "data": {
            "text/plain": [
              "Cta_tit                    8\n",
              "Nombre_titular             0\n",
              "DNI_CIF                    0\n",
              "Movil                   1951\n",
              "Telefono               23194\n",
              "Email                      0\n",
              "Bastidor                   0\n",
              "Matricula                  0\n",
              "Fech_matriculacion         4\n",
              "Mar                        0\n",
              "Direccion                  0\n",
              "CP                       200\n",
              "Localidad             116416\n",
              "Marca_modelo               0\n",
              "Cta_cargo             114924\n",
              "Nombre                     0\n",
              "DNI_CIF1                  36\n",
              "Fech_apertura              0\n",
              "Fech_cierre                0\n",
              "Km                         0\n",
              "Numero                     0\n",
              "ORDEN_CORTA                0\n",
              "dtype: int64"
            ]
          },
          "metadata": {},
          "execution_count": 8
        }
      ]
    },
    {
      "cell_type": "code",
      "source": [
        "df[\"Cta_tit\"] = df[\"Cta_tit\"].apply(str)\n",
        "df[\"Nombre_titular\"] = df[\"Nombre_titular\"].apply(str)\n",
        "df[\"DNI_CIF\"] = df[\"DNI_CIF\"].apply(str)\n",
        "df[\"Movil\"] = df[\"Movil\"].apply(str)\n",
        "df[\"Telefono\"] = df[\"Telefono\"].apply(str)\n",
        "df[\"Bastidor\"] = df[\"Bastidor\"].apply(str)\n",
        "df[\"Matricula\"] = df[\"Matricula\"].apply(str)\n",
        "df[\"Fech_matriculacion\"] = pd.to_datetime(df[\"Fech_matriculacion\"])\n",
        "df[\"Mar\"] = df[\"Mar\"].apply(str)\n",
        "df[\"Direccion\"] = df[\"Direccion\"].apply(str)\n",
        "df[\"CP\"] = df[\"CP\"].apply(str)\n",
        "df[\"Localidad\"] = df[\"Localidad\"].apply(str)\n",
        "df[\"Marca_modelo\"] = df[\"Marca_modelo\"].apply(str)\n",
        "df[\"Cta_cargo\"] = df[\"Cta_cargo\"].apply(str)\n",
        "df[\"Nombre\"] = df[\"Nombre\"].apply(str)\n",
        "df[\"DNI_CIF1\"] = df[\"DNI_CIF1\"].apply(str)\n",
        "df[\"Fech_apertura\"] = pd.to_datetime(df[\"Fech_apertura\"])\n",
        "df[\"Fech_cierre\"] = pd.to_datetime(df[\"Fech_cierre\"])\n",
        "df[\"Km\"] = df[\"Km\"].apply(int)\n",
        "df[\"Numero\"] = df[\"Numero\"].apply(str)\n",
        "df[\"ORDEN_CORTA\"] = df[\"ORDEN_CORTA\"].apply(str)"
      ],
      "metadata": {
        "id": "38_YIzJY0YBk"
      },
      "execution_count": 29,
      "outputs": []
    },
    {
      "cell_type": "code",
      "source": [
        "df.to_csv(\"/content/drive/MyDrive/Colab Notebooks/datos_vehiculo\")"
      ],
      "metadata": {
        "id": "OyL-ZQJm00SY"
      },
      "execution_count": 31,
      "outputs": []
    },
    {
      "cell_type": "code",
      "source": [
        ""
      ],
      "metadata": {
        "id": "AZg-QkLI4z7B"
      },
      "execution_count": null,
      "outputs": []
    },
    {
      "cell_type": "code",
      "source": [
        "# for data manipulation and analysis\n",
        "import pandas as pd\n",
        "import numpy as np\n",
        "\n",
        "# for plotting\n",
        "import seaborn as sns\n",
        "import matplotlib.pyplot as plt\n",
        "from mpl_toolkits import mplot3d\n",
        "sns.set_style('darkgrid')\n",
        "\n",
        "# Silhouette analysis\n",
        "from sklearn.metrics import silhouette_score\n",
        "\n",
        "# To perform KMeans clustering \n",
        "from sklearn.cluster import KMeans\n",
        "\n",
        "# for scaling\n",
        "from sklearn.preprocessing import StandardScaler\n",
        "\n",
        "import warnings\n",
        "warnings.filterwarnings('ignore')"
      ],
      "metadata": {
        "id": "v4OXUvZ-3v1p"
      },
      "execution_count": 32,
      "outputs": []
    },
    {
      "cell_type": "code",
      "source": [
        "pd.options.display.max_columns = 0"
      ],
      "metadata": {
        "id": "9d2K4Rcz4eZ2"
      },
      "execution_count": 33,
      "outputs": []
    },
    {
      "cell_type": "code",
      "source": [
        "df.head(10)"
      ],
      "metadata": {
        "id": "tN_LS19P4gzU",
        "outputId": "ef7cbe56-6ef7-40db-a39a-142f8c65a137",
        "colab": {
          "base_uri": "https://localhost:8080/",
          "height": 930
        }
      },
      "execution_count": 35,
      "outputs": [
        {
          "output_type": "execute_result",
          "data": {
            "text/plain": [
              "   Cta_tit           Nombre_titular    DNI_CIF  ...     Km   Numero ORDEN_CORTA\n",
              "0  28013.0              JARMAUTO SA  A78483294  ...     13  8382570      838257\n",
              "1  28013.0              JARMAUTO SA  A78483294  ...     13  8382570      838257\n",
              "2  28013.0              JARMAUTO SA  A78483294  ...     13  8382700      838270\n",
              "3  28013.0              JARMAUTO SA  A78483294  ...     13  8382700      838270\n",
              "4  28013.0              JARMAUTO SA  A78483294  ...     13  8382700      838270\n",
              "5  28013.0              JARMAUTO SA  A78483294  ...     13  8382700      838270\n",
              "6  98907.0  PRUNEDA PUERTAS ROBERTO  20255784Y  ...  57026  8383840      838384\n",
              "7  28013.0              JARMAUTO SA  A78483294  ...     13  8384520      838452\n",
              "8  28013.0              JARMAUTO SA  A78483294  ...     13  8384520      838452\n",
              "9  28013.0              JARMAUTO SA  A78483294  ...     13  8384520      838452\n",
              "\n",
              "[10 rows x 22 columns]"
            ],
            "text/html": [
              "\n",
              "  <div id=\"df-1587f3e7-281d-4c61-a15f-5baf46fef6b5\">\n",
              "    <div class=\"colab-df-container\">\n",
              "      <div>\n",
              "<style scoped>\n",
              "    .dataframe tbody tr th:only-of-type {\n",
              "        vertical-align: middle;\n",
              "    }\n",
              "\n",
              "    .dataframe tbody tr th {\n",
              "        vertical-align: top;\n",
              "    }\n",
              "\n",
              "    .dataframe thead th {\n",
              "        text-align: right;\n",
              "    }\n",
              "</style>\n",
              "<table border=\"1\" class=\"dataframe\">\n",
              "  <thead>\n",
              "    <tr style=\"text-align: right;\">\n",
              "      <th></th>\n",
              "      <th>Cta_tit</th>\n",
              "      <th>Nombre_titular</th>\n",
              "      <th>DNI_CIF</th>\n",
              "      <th>Movil</th>\n",
              "      <th>Telefono</th>\n",
              "      <th>Email</th>\n",
              "      <th>Bastidor</th>\n",
              "      <th>Matricula</th>\n",
              "      <th>Fech_matriculacion</th>\n",
              "      <th>Mar</th>\n",
              "      <th>Direccion</th>\n",
              "      <th>CP</th>\n",
              "      <th>Localidad</th>\n",
              "      <th>Marca_modelo</th>\n",
              "      <th>Cta_cargo</th>\n",
              "      <th>Nombre</th>\n",
              "      <th>DNI_CIF1</th>\n",
              "      <th>Fech_apertura</th>\n",
              "      <th>Fech_cierre</th>\n",
              "      <th>Km</th>\n",
              "      <th>Numero</th>\n",
              "      <th>ORDEN_CORTA</th>\n",
              "    </tr>\n",
              "  </thead>\n",
              "  <tbody>\n",
              "    <tr>\n",
              "      <th>0</th>\n",
              "      <td>28013.0</td>\n",
              "      <td>JARMAUTO SA</td>\n",
              "      <td>A78483294</td>\n",
              "      <td>649891168.0</td>\n",
              "      <td>915304406.0</td>\n",
              "      <td>WWW.JARMAUTO.ES</td>\n",
              "      <td>TALLER**TALLER***</td>\n",
              "      <td>TALLER</td>\n",
              "      <td>1998-01-01</td>\n",
              "      <td>AU</td>\n",
              "      <td>STA. MARIA DE LA CABEZA 4</td>\n",
              "      <td>28045.0</td>\n",
              "      <td>MADRID</td>\n",
              "      <td>AU A-2 1.4 75CV</td>\n",
              "      <td>610622</td>\n",
              "      <td>POLITICA COMERCIAL VN AUDI.</td>\n",
              "      <td>nan</td>\n",
              "      <td>2015-12-01</td>\n",
              "      <td>2015-12-30</td>\n",
              "      <td>13</td>\n",
              "      <td>8382570</td>\n",
              "      <td>838257</td>\n",
              "    </tr>\n",
              "    <tr>\n",
              "      <th>1</th>\n",
              "      <td>28013.0</td>\n",
              "      <td>JARMAUTO SA</td>\n",
              "      <td>A78483294</td>\n",
              "      <td>649891168.0</td>\n",
              "      <td>915304406.0</td>\n",
              "      <td>WWW.JARMAUTO.ES</td>\n",
              "      <td>TALLER**TALLER***</td>\n",
              "      <td>TALLER</td>\n",
              "      <td>1998-01-01</td>\n",
              "      <td>AU</td>\n",
              "      <td>STA. MARIA DE LA CABEZA 4</td>\n",
              "      <td>28045.0</td>\n",
              "      <td>MADRID</td>\n",
              "      <td>AU A-2 1.4 75CV</td>\n",
              "      <td>610681</td>\n",
              "      <td>LAVADOS DE VEH. CLI MECANICA</td>\n",
              "      <td>nan</td>\n",
              "      <td>2015-12-01</td>\n",
              "      <td>2015-12-30</td>\n",
              "      <td>13</td>\n",
              "      <td>8382570</td>\n",
              "      <td>838257</td>\n",
              "    </tr>\n",
              "    <tr>\n",
              "      <th>2</th>\n",
              "      <td>28013.0</td>\n",
              "      <td>JARMAUTO SA</td>\n",
              "      <td>A78483294</td>\n",
              "      <td>649891168.0</td>\n",
              "      <td>915304406.0</td>\n",
              "      <td>WWW.JARMAUTO.ES</td>\n",
              "      <td>TALLER**TALLER***</td>\n",
              "      <td>TALLER</td>\n",
              "      <td>1998-01-01</td>\n",
              "      <td>AU</td>\n",
              "      <td>STA. MARIA DE LA CABEZA 4</td>\n",
              "      <td>28045.0</td>\n",
              "      <td>MADRID</td>\n",
              "      <td>AU A-2 1.4 75CV</td>\n",
              "      <td>610622</td>\n",
              "      <td>POLITICA COMERCIAL VN AUDI.</td>\n",
              "      <td>nan</td>\n",
              "      <td>2015-12-01</td>\n",
              "      <td>2015-12-30</td>\n",
              "      <td>13</td>\n",
              "      <td>8382700</td>\n",
              "      <td>838270</td>\n",
              "    </tr>\n",
              "    <tr>\n",
              "      <th>3</th>\n",
              "      <td>28013.0</td>\n",
              "      <td>JARMAUTO SA</td>\n",
              "      <td>A78483294</td>\n",
              "      <td>649891168.0</td>\n",
              "      <td>915304406.0</td>\n",
              "      <td>WWW.JARMAUTO.ES</td>\n",
              "      <td>TALLER**TALLER***</td>\n",
              "      <td>TALLER</td>\n",
              "      <td>1998-01-01</td>\n",
              "      <td>AU</td>\n",
              "      <td>STA. MARIA DE LA CABEZA 4</td>\n",
              "      <td>28045.0</td>\n",
              "      <td>MADRID</td>\n",
              "      <td>AU A-2 1.4 75CV</td>\n",
              "      <td>610621</td>\n",
              "      <td>GASTOS PREENTREGA VN AUDI.</td>\n",
              "      <td>nan</td>\n",
              "      <td>2015-12-01</td>\n",
              "      <td>2015-12-30</td>\n",
              "      <td>13</td>\n",
              "      <td>8382700</td>\n",
              "      <td>838270</td>\n",
              "    </tr>\n",
              "    <tr>\n",
              "      <th>4</th>\n",
              "      <td>28013.0</td>\n",
              "      <td>JARMAUTO SA</td>\n",
              "      <td>A78483294</td>\n",
              "      <td>649891168.0</td>\n",
              "      <td>915304406.0</td>\n",
              "      <td>WWW.JARMAUTO.ES</td>\n",
              "      <td>TALLER**TALLER***</td>\n",
              "      <td>TALLER</td>\n",
              "      <td>1998-01-01</td>\n",
              "      <td>AU</td>\n",
              "      <td>STA. MARIA DE LA CABEZA 4</td>\n",
              "      <td>28045.0</td>\n",
              "      <td>MADRID</td>\n",
              "      <td>AU A-2 1.4 75CV</td>\n",
              "      <td>610662</td>\n",
              "      <td>GASTOS ASUMIDOS POR TALLER</td>\n",
              "      <td>nan</td>\n",
              "      <td>2015-12-01</td>\n",
              "      <td>2015-12-30</td>\n",
              "      <td>13</td>\n",
              "      <td>8382700</td>\n",
              "      <td>838270</td>\n",
              "    </tr>\n",
              "    <tr>\n",
              "      <th>5</th>\n",
              "      <td>28013.0</td>\n",
              "      <td>JARMAUTO SA</td>\n",
              "      <td>A78483294</td>\n",
              "      <td>649891168.0</td>\n",
              "      <td>915304406.0</td>\n",
              "      <td>WWW.JARMAUTO.ES</td>\n",
              "      <td>TALLER**TALLER***</td>\n",
              "      <td>TALLER</td>\n",
              "      <td>1998-01-01</td>\n",
              "      <td>AU</td>\n",
              "      <td>STA. MARIA DE LA CABEZA 4</td>\n",
              "      <td>28045.0</td>\n",
              "      <td>MADRID</td>\n",
              "      <td>AU A-2 1.4 75CV</td>\n",
              "      <td>610672</td>\n",
              "      <td>GOLPES DADOS POR EL PERSONAL</td>\n",
              "      <td>nan</td>\n",
              "      <td>2015-12-01</td>\n",
              "      <td>2015-12-30</td>\n",
              "      <td>13</td>\n",
              "      <td>8382700</td>\n",
              "      <td>838270</td>\n",
              "    </tr>\n",
              "    <tr>\n",
              "      <th>6</th>\n",
              "      <td>98907.0</td>\n",
              "      <td>PRUNEDA PUERTAS ROBERTO</td>\n",
              "      <td>20255784Y</td>\n",
              "      <td>609028727.0</td>\n",
              "      <td>609028727.0</td>\n",
              "      <td>ROBERPRU@GMAIL.COM</td>\n",
              "      <td>WVWZZZAUZFW070402</td>\n",
              "      <td>4161HZJ</td>\n",
              "      <td>2014-09-26</td>\n",
              "      <td>VW</td>\n",
              "      <td>CL EROS 7 B 2º F</td>\n",
              "      <td>28045.0</td>\n",
              "      <td>MADRID</td>\n",
              "      <td>VW GOLF ADVANCE</td>\n",
              "      <td>610662</td>\n",
              "      <td>GASTOS ASUMIDOS POR TALLER</td>\n",
              "      <td>nan</td>\n",
              "      <td>2015-12-15</td>\n",
              "      <td>2015-12-30</td>\n",
              "      <td>57026</td>\n",
              "      <td>8383840</td>\n",
              "      <td>838384</td>\n",
              "    </tr>\n",
              "    <tr>\n",
              "      <th>7</th>\n",
              "      <td>28013.0</td>\n",
              "      <td>JARMAUTO SA</td>\n",
              "      <td>A78483294</td>\n",
              "      <td>649891168.0</td>\n",
              "      <td>915304406.0</td>\n",
              "      <td>WWW.JARMAUTO.ES</td>\n",
              "      <td>TALLER**TALLER***</td>\n",
              "      <td>TALLER</td>\n",
              "      <td>1998-01-01</td>\n",
              "      <td>AU</td>\n",
              "      <td>STA. MARIA DE LA CABEZA 4</td>\n",
              "      <td>28045.0</td>\n",
              "      <td>MADRID</td>\n",
              "      <td>AU A-2 1.4 75CV</td>\n",
              "      <td>610623</td>\n",
              "      <td>OTR.GTOS.INTER.VARIAB.VN AUDI.</td>\n",
              "      <td>nan</td>\n",
              "      <td>2015-12-01</td>\n",
              "      <td>2015-12-30</td>\n",
              "      <td>13</td>\n",
              "      <td>8384520</td>\n",
              "      <td>838452</td>\n",
              "    </tr>\n",
              "    <tr>\n",
              "      <th>8</th>\n",
              "      <td>28013.0</td>\n",
              "      <td>JARMAUTO SA</td>\n",
              "      <td>A78483294</td>\n",
              "      <td>649891168.0</td>\n",
              "      <td>915304406.0</td>\n",
              "      <td>WWW.JARMAUTO.ES</td>\n",
              "      <td>TALLER**TALLER***</td>\n",
              "      <td>TALLER</td>\n",
              "      <td>1998-01-01</td>\n",
              "      <td>AU</td>\n",
              "      <td>STA. MARIA DE LA CABEZA 4</td>\n",
              "      <td>28045.0</td>\n",
              "      <td>MADRID</td>\n",
              "      <td>AU A-2 1.4 75CV</td>\n",
              "      <td>610671</td>\n",
              "      <td>ROTURA DE PIEZAS POR TALLER</td>\n",
              "      <td>nan</td>\n",
              "      <td>2015-12-01</td>\n",
              "      <td>2015-12-30</td>\n",
              "      <td>13</td>\n",
              "      <td>8384520</td>\n",
              "      <td>838452</td>\n",
              "    </tr>\n",
              "    <tr>\n",
              "      <th>9</th>\n",
              "      <td>28013.0</td>\n",
              "      <td>JARMAUTO SA</td>\n",
              "      <td>A78483294</td>\n",
              "      <td>649891168.0</td>\n",
              "      <td>915304406.0</td>\n",
              "      <td>WWW.JARMAUTO.ES</td>\n",
              "      <td>TALLER**TALLER***</td>\n",
              "      <td>TALLER</td>\n",
              "      <td>1998-01-01</td>\n",
              "      <td>AU</td>\n",
              "      <td>STA. MARIA DE LA CABEZA 4</td>\n",
              "      <td>28045.0</td>\n",
              "      <td>MADRID</td>\n",
              "      <td>AU A-2 1.4 75CV</td>\n",
              "      <td>610666</td>\n",
              "      <td>GASTOS ROPA PERSONAL</td>\n",
              "      <td>nan</td>\n",
              "      <td>2015-12-01</td>\n",
              "      <td>2015-12-30</td>\n",
              "      <td>13</td>\n",
              "      <td>8384520</td>\n",
              "      <td>838452</td>\n",
              "    </tr>\n",
              "  </tbody>\n",
              "</table>\n",
              "</div>\n",
              "      <button class=\"colab-df-convert\" onclick=\"convertToInteractive('df-1587f3e7-281d-4c61-a15f-5baf46fef6b5')\"\n",
              "              title=\"Convert this dataframe to an interactive table.\"\n",
              "              style=\"display:none;\">\n",
              "        \n",
              "  <svg xmlns=\"http://www.w3.org/2000/svg\" height=\"24px\"viewBox=\"0 0 24 24\"\n",
              "       width=\"24px\">\n",
              "    <path d=\"M0 0h24v24H0V0z\" fill=\"none\"/>\n",
              "    <path d=\"M18.56 5.44l.94 2.06.94-2.06 2.06-.94-2.06-.94-.94-2.06-.94 2.06-2.06.94zm-11 1L8.5 8.5l.94-2.06 2.06-.94-2.06-.94L8.5 2.5l-.94 2.06-2.06.94zm10 10l.94 2.06.94-2.06 2.06-.94-2.06-.94-.94-2.06-.94 2.06-2.06.94z\"/><path d=\"M17.41 7.96l-1.37-1.37c-.4-.4-.92-.59-1.43-.59-.52 0-1.04.2-1.43.59L10.3 9.45l-7.72 7.72c-.78.78-.78 2.05 0 2.83L4 21.41c.39.39.9.59 1.41.59.51 0 1.02-.2 1.41-.59l7.78-7.78 2.81-2.81c.8-.78.8-2.07 0-2.86zM5.41 20L4 18.59l7.72-7.72 1.47 1.35L5.41 20z\"/>\n",
              "  </svg>\n",
              "      </button>\n",
              "      \n",
              "  <style>\n",
              "    .colab-df-container {\n",
              "      display:flex;\n",
              "      flex-wrap:wrap;\n",
              "      gap: 12px;\n",
              "    }\n",
              "\n",
              "    .colab-df-convert {\n",
              "      background-color: #E8F0FE;\n",
              "      border: none;\n",
              "      border-radius: 50%;\n",
              "      cursor: pointer;\n",
              "      display: none;\n",
              "      fill: #1967D2;\n",
              "      height: 32px;\n",
              "      padding: 0 0 0 0;\n",
              "      width: 32px;\n",
              "    }\n",
              "\n",
              "    .colab-df-convert:hover {\n",
              "      background-color: #E2EBFA;\n",
              "      box-shadow: 0px 1px 2px rgba(60, 64, 67, 0.3), 0px 1px 3px 1px rgba(60, 64, 67, 0.15);\n",
              "      fill: #174EA6;\n",
              "    }\n",
              "\n",
              "    [theme=dark] .colab-df-convert {\n",
              "      background-color: #3B4455;\n",
              "      fill: #D2E3FC;\n",
              "    }\n",
              "\n",
              "    [theme=dark] .colab-df-convert:hover {\n",
              "      background-color: #434B5C;\n",
              "      box-shadow: 0px 1px 3px 1px rgba(0, 0, 0, 0.15);\n",
              "      filter: drop-shadow(0px 1px 2px rgba(0, 0, 0, 0.3));\n",
              "      fill: #FFFFFF;\n",
              "    }\n",
              "  </style>\n",
              "\n",
              "      <script>\n",
              "        const buttonEl =\n",
              "          document.querySelector('#df-1587f3e7-281d-4c61-a15f-5baf46fef6b5 button.colab-df-convert');\n",
              "        buttonEl.style.display =\n",
              "          google.colab.kernel.accessAllowed ? 'block' : 'none';\n",
              "\n",
              "        async function convertToInteractive(key) {\n",
              "          const element = document.querySelector('#df-1587f3e7-281d-4c61-a15f-5baf46fef6b5');\n",
              "          const dataTable =\n",
              "            await google.colab.kernel.invokeFunction('convertToInteractive',\n",
              "                                                     [key], {});\n",
              "          if (!dataTable) return;\n",
              "\n",
              "          const docLinkHtml = 'Like what you see? Visit the ' +\n",
              "            '<a target=\"_blank\" href=https://colab.research.google.com/notebooks/data_table.ipynb>data table notebook</a>'\n",
              "            + ' to learn more about interactive tables.';\n",
              "          element.innerHTML = '';\n",
              "          dataTable['output_type'] = 'display_data';\n",
              "          await google.colab.output.renderOutput(dataTable, element);\n",
              "          const docLink = document.createElement('div');\n",
              "          docLink.innerHTML = docLinkHtml;\n",
              "          element.appendChild(docLink);\n",
              "        }\n",
              "      </script>\n",
              "    </div>\n",
              "  </div>\n",
              "  "
            ]
          },
          "metadata": {},
          "execution_count": 35
        }
      ]
    },
    {
      "cell_type": "code",
      "source": [
        ""
      ],
      "metadata": {
        "id": "FcGFBq174izp"
      },
      "execution_count": null,
      "outputs": []
    }
  ]
}