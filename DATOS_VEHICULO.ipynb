{
  "nbformat": 4,
  "nbformat_minor": 0,
  "metadata": {
    "colab": {
      "name": "DATOS_VEHICULO.ipynb",
      "provenance": [],
      "mount_file_id": "19rQeAWM_8sE5ZEdy7fBbxDG1lI7AU8Rx",
      "authorship_tag": "ABX9TyOThTLo12ocgPTfAyIrP8Nx",
      "include_colab_link": true
    },
    "kernelspec": {
      "name": "python3",
      "display_name": "Python 3"
    },
    "language_info": {
      "name": "python"
    }
  },
  "cells": [
    {
      "cell_type": "markdown",
      "metadata": {
        "id": "view-in-github",
        "colab_type": "text"
      },
      "source": [
        "<a href=\"https://colab.research.google.com/github/pacomm5/PLANTILLAS2/blob/main/DATOS_VEHICULO.ipynb\" target=\"_parent\"><img src=\"https://colab.research.google.com/assets/colab-badge.svg\" alt=\"Open In Colab\"/></a>"
      ]
    },
    {
      "cell_type": "code",
      "execution_count": 1,
      "metadata": {
        "id": "ucFID9HlnCet"
      },
      "outputs": [],
      "source": [
        "import pandas as pd"
      ]
    },
    {
      "cell_type": "code",
      "source": [
        "xlsx = pd.ExcelFile(\"/content/IMP_BASE_PILOTO_2.xlsx\")\n",
        "df = pd.read_excel(xlsx, \"IMP_BASE_PILOTO_2\")"
      ],
      "metadata": {
        "id": "KLIcPEvgnI68"
      },
      "execution_count": 2,
      "outputs": []
    }
  ]
}