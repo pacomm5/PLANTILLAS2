{
  "nbformat": 4,
  "nbformat_minor": 0,
  "metadata": {
    "colab": {
      "name": "cnn",
      "provenance": [],
      "collapsed_sections": [],
      "toc_visible": true,
      "include_colab_link": true
    },
    "kernelspec": {
      "name": "python3",
      "display_name": "Python 3"
    }
  },
  "cells": [
    {
      "cell_type": "markdown",
      "metadata": {
        "id": "view-in-github",
        "colab_type": "text"
      },
      "source": [
        "<a href=\"https://colab.research.google.com/github/pacomm5/PLANTILLAS2/blob/main/cnn.ipynb\" target=\"_parent\"><img src=\"https://colab.research.google.com/assets/colab-badge.svg\" alt=\"Open In Colab\"/></a>"
      ]
    },
    {
      "cell_type": "markdown",
      "metadata": {
        "id": "A1HshwCgWKdU"
      },
      "source": [
        "# Redes Neuronales de Convolución"
      ]
    },
    {
      "cell_type": "markdown",
      "metadata": {
        "id": "lidXLdDfzoLA"
      },
      "source": [
        "## Instalación de Theano\n",
        "#### pip install --upgrade --no-deps git+git://github.com/Theano/Theano.git\n",
        "\n",
        "## Instalación Tensorflow\n",
        "#### pip install tensorflow\n",
        "\n",
        "## Instalación de Keras\n",
        "#### pip install --upgrade keras"
      ]
    },
    {
      "cell_type": "markdown",
      "metadata": {
        "id": "e_zYxNUAzuXE"
      },
      "source": [
        "# Parte 1 - Construir la CNN\n"
      ]
    },
    {
      "cell_type": "markdown",
      "metadata": {
        "id": "EXgeoJp_zzuP"
      },
      "source": [
        "## Importación de las librerías y paquetes de Keras\n"
      ]
    },
    {
      "cell_type": "code",
      "metadata": {
        "id": "pchrP86cWTrQ"
      },
      "source": [
        "from keras.models import Sequential\n",
        "from keras.layers import Conv2D\n",
        "from keras.layers import MaxPooling2D\n",
        "from keras.layers import Flatten\n",
        "from keras.layers import Dense"
      ],
      "execution_count": null,
      "outputs": []
    },
    {
      "cell_type": "markdown",
      "metadata": {
        "id": "aEiwlq4G3Go9"
      },
      "source": [
        "## Inicializar la CNN\n",
        "\n",
        "\n"
      ]
    },
    {
      "cell_type": "code",
      "metadata": {
        "id": "M9zmSZFo3xMS"
      },
      "source": [
        "classifier = Sequential()"
      ],
      "execution_count": null,
      "outputs": []
    },
    {
      "cell_type": "markdown",
      "metadata": {
        "id": "6dvde9Cs3ygC"
      },
      "source": [
        "## Paso 1 - Convolución"
      ]
    },
    {
      "cell_type": "code",
      "metadata": {
        "id": "BGMgPL0i39Zz"
      },
      "source": [
        "classifier.add(Conv2D(32, (3, 3), input_shape = (64, 64, 3), activation = 'relu'))\n",
        "\n"
      ],
      "execution_count": null,
      "outputs": []
    },
    {
      "cell_type": "markdown",
      "metadata": {
        "id": "12PVk3Jg3_eU"
      },
      "source": [
        "## Paso 2 - Agrupar"
      ]
    },
    {
      "cell_type": "code",
      "metadata": {
        "id": "E0YoKBog4Dn8"
      },
      "source": [
        "classifier.add(MaxPooling2D(pool_size = (2, 2)))\n"
      ],
      "execution_count": null,
      "outputs": []
    },
    {
      "cell_type": "markdown",
      "metadata": {
        "id": "eXDG767u4KC4"
      },
      "source": [
        "## Agregar una segunda capa convolucional"
      ]
    },
    {
      "cell_type": "code",
      "metadata": {
        "id": "Hmtpliu84LSw"
      },
      "source": [
        "classifier.add(Conv2D(32, (3, 3), activation = 'relu'))\n",
        "classifier.add(MaxPooling2D(pool_size = (2, 2)))"
      ],
      "execution_count": null,
      "outputs": []
    },
    {
      "cell_type": "markdown",
      "metadata": {
        "id": "AG1OwcrI5RaI"
      },
      "source": [
        "## Paso 3- Flattening\n",
        "\n",
        "\n"
      ]
    },
    {
      "cell_type": "code",
      "metadata": {
        "id": "WfE0cQg15T2w"
      },
      "source": [
        "classifier.add(Flatten())"
      ],
      "execution_count": null,
      "outputs": []
    },
    {
      "cell_type": "markdown",
      "metadata": {
        "id": "HuOR4S76xFOh"
      },
      "source": [
        "## Paso 4 - Capa fully connected"
      ]
    },
    {
      "cell_type": "code",
      "metadata": {
        "id": "NiKdfPlE5bvg"
      },
      "source": [
        "classifier.add(Dense(units = 128, activation = 'relu'))\n",
        "classifier.add(Dense(units = 1, activation = 'sigmoid'))"
      ],
      "execution_count": null,
      "outputs": []
    },
    {
      "cell_type": "markdown",
      "metadata": {
        "id": "jYkUgF2X5d0O"
      },
      "source": [
        "## Compilar la CNN"
      ]
    },
    {
      "cell_type": "code",
      "metadata": {
        "id": "9z2iN3fd5f-o"
      },
      "source": [
        "classifier.compile(optimizer = 'adam', loss = 'binary_crossentropy', metrics = ['accuracy'])"
      ],
      "execution_count": null,
      "outputs": []
    },
    {
      "cell_type": "markdown",
      "metadata": {
        "id": "4Rg4jrPq5iAj"
      },
      "source": [
        "#Parte 2 - Ajustar la CNN a las imágenes"
      ]
    },
    {
      "cell_type": "code",
      "metadata": {
        "id": "_3_Dm_fJ8hiH"
      },
      "source": [
        "from keras.preprocessing.image import ImageDataGenerator\n",
        "\n",
        "train_datagen = ImageDataGenerator(rescale = 1./255,\n",
        "                                   shear_range = 0.2,\n",
        "                                   zoom_range = 0.2,\n",
        "                                   horizontal_flip = True)\n",
        "\n",
        "test_datagen = ImageDataGenerator(rescale = 1./255)\n",
        "\n",
        "training_set = train_datagen.flow_from_directory('dataset/training_set',\n",
        "                                                 target_size = (64, 64),\n",
        "                                                 batch_size = 32,\n",
        "                                                 class_mode = 'binary')\n",
        "\n",
        "test_set = test_datagen.flow_from_directory('dataset/test_set',\n",
        "                                            target_size = (64, 64),\n",
        "                                            batch_size = 32,\n",
        "                                            class_mode = 'binary')\n",
        "\n",
        "classifier.fit_generator(training_set,\n",
        "                         steps_per_epoch = 8000,\n",
        "                         epochs = 25,\n",
        "                         validation_data = test_set,\n",
        "                         validation_steps = 2000)"
      ],
      "execution_count": null,
      "outputs": []
    }
  ]
}