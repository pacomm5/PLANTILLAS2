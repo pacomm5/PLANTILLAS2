{
  "nbformat": 4,
  "nbformat_minor": 0,
  "metadata": {
    "colab": {
      "name": "Excel_abrir.ipynb",
      "provenance": [],
      "authorship_tag": "ABX9TyPLzg//GNO3KphTFTMFZVvb",
      "include_colab_link": true
    },
    "kernelspec": {
      "name": "python3",
      "display_name": "Python 3"
    },
    "language_info": {
      "name": "python"
    }
  },
  "cells": [
    {
      "cell_type": "markdown",
      "metadata": {
        "id": "view-in-github",
        "colab_type": "text"
      },
      "source": [
        "<a href=\"https://colab.research.google.com/github/pacomm5/PLANTILLAS2/blob/main/U382_FECHA_APERTURA.ipynb\" target=\"_parent\"><img src=\"https://colab.research.google.com/assets/colab-badge.svg\" alt=\"Open In Colab\"/></a>"
      ]
    },
    {
      "cell_type": "code",
      "source": [
        "# SUBIMOS PROVISIONALMENTE EL ARCHIVO A GOOGLE COLAB. \n",
        "# El archivo esta aquí C:\\Users\\FJMartin\\OneDrive - JARMAUTO\\Documentos\\2018\\POWER BI INFORMES\\DATOS MAESTROS\\MACHINE LEARNING\n",
        "# y es el que esta debajo CONSULTA1_AGR_F_APERTURA  es el u382 agrupado por fecha de apertura\n"
      ],
      "metadata": {
        "id": "cZfwTe9beOOQ"
      },
      "execution_count": null,
      "outputs": []
    },
    {
      "cell_type": "code",
      "execution_count": 1,
      "metadata": {
        "id": "0_Xpa5yh2aDE"
      },
      "outputs": [],
      "source": [
        "import pandas as pd"
      ]
    },
    {
      "cell_type": "markdown",
      "source": [
        "- esto abriendo una consulta dentro de un excel.\n",
        "- lo he subido a colab y luego lo he abierto. TArda un poco en subir.\n",
        "- tengo que poner el nombre de la pestaña. \n",
        "- ojo tarda un poco en subir el archivo a colab. un archivo de 34mb ha tardado 1 minuto y 30 segundos. "
      ],
      "metadata": {
        "id": "vQ1fgzR84YB_"
      }
    },
    {
      "cell_type": "code",
      "source": [
        "xlsx = pd.ExcelFile(\"/content/U382_BASE2.xlsx\")\n",
        "df = pd.read_excel(xlsx, \"CONSULTA1_AGR_F_APERTURA\" )"
      ],
      "metadata": {
        "id": "MZb45ZLp2ekH"
      },
      "execution_count": 2,
      "outputs": []
    },
    {
      "cell_type": "code",
      "source": [
        "df.head()"
      ],
      "metadata": {
        "colab": {
          "base_uri": "https://localhost:8080/",
          "height": 206
        },
        "id": "vw_lDK_b3oBw",
        "outputId": "89d3b099-46cf-4935-f15c-49455f904fd6"
      },
      "execution_count": 3,
      "outputs": [
        {
          "output_type": "execute_result",
          "data": {
            "text/plain": [
              "   Orden_Corta  Recuento F_APERTURA  SUMA_RECAMBIOS  SUMA_MO  \\\n",
              "0       775439         1 2015-01-02            0.00    19.83   \n",
              "1       774412         1 2015-01-02          119.78    62.04   \n",
              "2       774401         1 2015-01-02          136.80   161.70   \n",
              "3       774715         2 2015-01-02          236.36   317.02   \n",
              "4       775595         1 2015-01-02            0.00     0.00   \n",
              "\n",
              "   SUMA_HORAS_FACTURADAS  AÑOS_VEHICULO  \n",
              "0                   0.28       0.758904  \n",
              "1                   1.20       2.512329  \n",
              "2                   2.10       3.306849  \n",
              "3                   4.20       5.512329  \n",
              "4                   0.00       5.183562  "
            ],
            "text/html": [
              "\n",
              "  <div id=\"df-9acfa074-0a57-44f9-8bd1-fcaefb7146a0\">\n",
              "    <div class=\"colab-df-container\">\n",
              "      <div>\n",
              "<style scoped>\n",
              "    .dataframe tbody tr th:only-of-type {\n",
              "        vertical-align: middle;\n",
              "    }\n",
              "\n",
              "    .dataframe tbody tr th {\n",
              "        vertical-align: top;\n",
              "    }\n",
              "\n",
              "    .dataframe thead th {\n",
              "        text-align: right;\n",
              "    }\n",
              "</style>\n",
              "<table border=\"1\" class=\"dataframe\">\n",
              "  <thead>\n",
              "    <tr style=\"text-align: right;\">\n",
              "      <th></th>\n",
              "      <th>Orden_Corta</th>\n",
              "      <th>Recuento</th>\n",
              "      <th>F_APERTURA</th>\n",
              "      <th>SUMA_RECAMBIOS</th>\n",
              "      <th>SUMA_MO</th>\n",
              "      <th>SUMA_HORAS_FACTURADAS</th>\n",
              "      <th>AÑOS_VEHICULO</th>\n",
              "    </tr>\n",
              "  </thead>\n",
              "  <tbody>\n",
              "    <tr>\n",
              "      <th>0</th>\n",
              "      <td>775439</td>\n",
              "      <td>1</td>\n",
              "      <td>2015-01-02</td>\n",
              "      <td>0.00</td>\n",
              "      <td>19.83</td>\n",
              "      <td>0.28</td>\n",
              "      <td>0.758904</td>\n",
              "    </tr>\n",
              "    <tr>\n",
              "      <th>1</th>\n",
              "      <td>774412</td>\n",
              "      <td>1</td>\n",
              "      <td>2015-01-02</td>\n",
              "      <td>119.78</td>\n",
              "      <td>62.04</td>\n",
              "      <td>1.20</td>\n",
              "      <td>2.512329</td>\n",
              "    </tr>\n",
              "    <tr>\n",
              "      <th>2</th>\n",
              "      <td>774401</td>\n",
              "      <td>1</td>\n",
              "      <td>2015-01-02</td>\n",
              "      <td>136.80</td>\n",
              "      <td>161.70</td>\n",
              "      <td>2.10</td>\n",
              "      <td>3.306849</td>\n",
              "    </tr>\n",
              "    <tr>\n",
              "      <th>3</th>\n",
              "      <td>774715</td>\n",
              "      <td>2</td>\n",
              "      <td>2015-01-02</td>\n",
              "      <td>236.36</td>\n",
              "      <td>317.02</td>\n",
              "      <td>4.20</td>\n",
              "      <td>5.512329</td>\n",
              "    </tr>\n",
              "    <tr>\n",
              "      <th>4</th>\n",
              "      <td>775595</td>\n",
              "      <td>1</td>\n",
              "      <td>2015-01-02</td>\n",
              "      <td>0.00</td>\n",
              "      <td>0.00</td>\n",
              "      <td>0.00</td>\n",
              "      <td>5.183562</td>\n",
              "    </tr>\n",
              "  </tbody>\n",
              "</table>\n",
              "</div>\n",
              "      <button class=\"colab-df-convert\" onclick=\"convertToInteractive('df-9acfa074-0a57-44f9-8bd1-fcaefb7146a0')\"\n",
              "              title=\"Convert this dataframe to an interactive table.\"\n",
              "              style=\"display:none;\">\n",
              "        \n",
              "  <svg xmlns=\"http://www.w3.org/2000/svg\" height=\"24px\"viewBox=\"0 0 24 24\"\n",
              "       width=\"24px\">\n",
              "    <path d=\"M0 0h24v24H0V0z\" fill=\"none\"/>\n",
              "    <path d=\"M18.56 5.44l.94 2.06.94-2.06 2.06-.94-2.06-.94-.94-2.06-.94 2.06-2.06.94zm-11 1L8.5 8.5l.94-2.06 2.06-.94-2.06-.94L8.5 2.5l-.94 2.06-2.06.94zm10 10l.94 2.06.94-2.06 2.06-.94-2.06-.94-.94-2.06-.94 2.06-2.06.94z\"/><path d=\"M17.41 7.96l-1.37-1.37c-.4-.4-.92-.59-1.43-.59-.52 0-1.04.2-1.43.59L10.3 9.45l-7.72 7.72c-.78.78-.78 2.05 0 2.83L4 21.41c.39.39.9.59 1.41.59.51 0 1.02-.2 1.41-.59l7.78-7.78 2.81-2.81c.8-.78.8-2.07 0-2.86zM5.41 20L4 18.59l7.72-7.72 1.47 1.35L5.41 20z\"/>\n",
              "  </svg>\n",
              "      </button>\n",
              "      \n",
              "  <style>\n",
              "    .colab-df-container {\n",
              "      display:flex;\n",
              "      flex-wrap:wrap;\n",
              "      gap: 12px;\n",
              "    }\n",
              "\n",
              "    .colab-df-convert {\n",
              "      background-color: #E8F0FE;\n",
              "      border: none;\n",
              "      border-radius: 50%;\n",
              "      cursor: pointer;\n",
              "      display: none;\n",
              "      fill: #1967D2;\n",
              "      height: 32px;\n",
              "      padding: 0 0 0 0;\n",
              "      width: 32px;\n",
              "    }\n",
              "\n",
              "    .colab-df-convert:hover {\n",
              "      background-color: #E2EBFA;\n",
              "      box-shadow: 0px 1px 2px rgba(60, 64, 67, 0.3), 0px 1px 3px 1px rgba(60, 64, 67, 0.15);\n",
              "      fill: #174EA6;\n",
              "    }\n",
              "\n",
              "    [theme=dark] .colab-df-convert {\n",
              "      background-color: #3B4455;\n",
              "      fill: #D2E3FC;\n",
              "    }\n",
              "\n",
              "    [theme=dark] .colab-df-convert:hover {\n",
              "      background-color: #434B5C;\n",
              "      box-shadow: 0px 1px 3px 1px rgba(0, 0, 0, 0.15);\n",
              "      filter: drop-shadow(0px 1px 2px rgba(0, 0, 0, 0.3));\n",
              "      fill: #FFFFFF;\n",
              "    }\n",
              "  </style>\n",
              "\n",
              "      <script>\n",
              "        const buttonEl =\n",
              "          document.querySelector('#df-9acfa074-0a57-44f9-8bd1-fcaefb7146a0 button.colab-df-convert');\n",
              "        buttonEl.style.display =\n",
              "          google.colab.kernel.accessAllowed ? 'block' : 'none';\n",
              "\n",
              "        async function convertToInteractive(key) {\n",
              "          const element = document.querySelector('#df-9acfa074-0a57-44f9-8bd1-fcaefb7146a0');\n",
              "          const dataTable =\n",
              "            await google.colab.kernel.invokeFunction('convertToInteractive',\n",
              "                                                     [key], {});\n",
              "          if (!dataTable) return;\n",
              "\n",
              "          const docLinkHtml = 'Like what you see? Visit the ' +\n",
              "            '<a target=\"_blank\" href=https://colab.research.google.com/notebooks/data_table.ipynb>data table notebook</a>'\n",
              "            + ' to learn more about interactive tables.';\n",
              "          element.innerHTML = '';\n",
              "          dataTable['output_type'] = 'display_data';\n",
              "          await google.colab.output.renderOutput(dataTable, element);\n",
              "          const docLink = document.createElement('div');\n",
              "          docLink.innerHTML = docLinkHtml;\n",
              "          element.appendChild(docLink);\n",
              "        }\n",
              "      </script>\n",
              "    </div>\n",
              "  </div>\n",
              "  "
            ]
          },
          "metadata": {},
          "execution_count": 3
        }
      ]
    },
    {
      "cell_type": "code",
      "source": [
        ""
      ],
      "metadata": {
        "id": "ANSOzc6teB7W"
      },
      "execution_count": null,
      "outputs": []
    },
    {
      "cell_type": "code",
      "source": [
        "df.info()"
      ],
      "metadata": {
        "id": "l1sPVrLo4Chk",
        "colab": {
          "base_uri": "https://localhost:8080/"
        },
        "outputId": "87df5791-9f21-426d-9aa2-92551d52070b"
      },
      "execution_count": 4,
      "outputs": [
        {
          "output_type": "stream",
          "name": "stdout",
          "text": [
            "<class 'pandas.core.frame.DataFrame'>\n",
            "RangeIndex: 145695 entries, 0 to 145694\n",
            "Data columns (total 7 columns):\n",
            " #   Column                 Non-Null Count   Dtype         \n",
            "---  ------                 --------------   -----         \n",
            " 0   Orden_Corta            145695 non-null  int64         \n",
            " 1   Recuento               145695 non-null  int64         \n",
            " 2   F_APERTURA             145695 non-null  datetime64[ns]\n",
            " 3   SUMA_RECAMBIOS         145695 non-null  float64       \n",
            " 4   SUMA_MO                145694 non-null  float64       \n",
            " 5   SUMA_HORAS_FACTURADAS  145695 non-null  float64       \n",
            " 6   AÑOS_VEHICULO          145695 non-null  float64       \n",
            "dtypes: datetime64[ns](1), float64(4), int64(2)\n",
            "memory usage: 7.8 MB\n"
          ]
        }
      ]
    },
    {
      "cell_type": "code",
      "source": [
        "df.describe()"
      ],
      "metadata": {
        "colab": {
          "base_uri": "https://localhost:8080/",
          "height": 300
        },
        "id": "H75jvLsP56mk",
        "outputId": "8d6bbd22-1a01-4a59-d357-49a5ec0505de"
      },
      "execution_count": 5,
      "outputs": [
        {
          "output_type": "execute_result",
          "data": {
            "text/plain": [
              "        Orden_Corta       Recuento  SUMA_RECAMBIOS        SUMA_MO  \\\n",
              "count  1.456950e+05  145695.000000   145695.000000  145694.000000   \n",
              "mean   1.070782e+06       1.453564      334.529579     242.391004   \n",
              "std    1.727761e+05       0.850063      702.359577     371.963158   \n",
              "min    3.532300e+05       1.000000   -16621.630000  -16621.630000   \n",
              "25%    9.238030e+05       1.000000       42.120000      60.200000   \n",
              "50%    1.063734e+06       1.000000      167.760000     139.565000   \n",
              "75%    1.220650e+06       2.000000      383.900000     279.560000   \n",
              "max    1.377125e+06      16.000000    27892.830000   33243.260000   \n",
              "\n",
              "       SUMA_HORAS_FACTURADAS  AÑOS_VEHICULO  \n",
              "count          145695.000000  145695.000000  \n",
              "mean                4.443828       5.785898  \n",
              "std                 7.411066       4.488056  \n",
              "min              -313.620000       0.000000  \n",
              "25%                 1.000000       2.167123  \n",
              "50%                 2.200000       4.410959  \n",
              "75%                 4.650000       8.369863  \n",
              "max               763.860000      29.953425  "
            ],
            "text/html": [
              "\n",
              "  <div id=\"df-5013ad49-0272-441e-ae25-10ca71a2d14c\">\n",
              "    <div class=\"colab-df-container\">\n",
              "      <div>\n",
              "<style scoped>\n",
              "    .dataframe tbody tr th:only-of-type {\n",
              "        vertical-align: middle;\n",
              "    }\n",
              "\n",
              "    .dataframe tbody tr th {\n",
              "        vertical-align: top;\n",
              "    }\n",
              "\n",
              "    .dataframe thead th {\n",
              "        text-align: right;\n",
              "    }\n",
              "</style>\n",
              "<table border=\"1\" class=\"dataframe\">\n",
              "  <thead>\n",
              "    <tr style=\"text-align: right;\">\n",
              "      <th></th>\n",
              "      <th>Orden_Corta</th>\n",
              "      <th>Recuento</th>\n",
              "      <th>SUMA_RECAMBIOS</th>\n",
              "      <th>SUMA_MO</th>\n",
              "      <th>SUMA_HORAS_FACTURADAS</th>\n",
              "      <th>AÑOS_VEHICULO</th>\n",
              "    </tr>\n",
              "  </thead>\n",
              "  <tbody>\n",
              "    <tr>\n",
              "      <th>count</th>\n",
              "      <td>1.456950e+05</td>\n",
              "      <td>145695.000000</td>\n",
              "      <td>145695.000000</td>\n",
              "      <td>145694.000000</td>\n",
              "      <td>145695.000000</td>\n",
              "      <td>145695.000000</td>\n",
              "    </tr>\n",
              "    <tr>\n",
              "      <th>mean</th>\n",
              "      <td>1.070782e+06</td>\n",
              "      <td>1.453564</td>\n",
              "      <td>334.529579</td>\n",
              "      <td>242.391004</td>\n",
              "      <td>4.443828</td>\n",
              "      <td>5.785898</td>\n",
              "    </tr>\n",
              "    <tr>\n",
              "      <th>std</th>\n",
              "      <td>1.727761e+05</td>\n",
              "      <td>0.850063</td>\n",
              "      <td>702.359577</td>\n",
              "      <td>371.963158</td>\n",
              "      <td>7.411066</td>\n",
              "      <td>4.488056</td>\n",
              "    </tr>\n",
              "    <tr>\n",
              "      <th>min</th>\n",
              "      <td>3.532300e+05</td>\n",
              "      <td>1.000000</td>\n",
              "      <td>-16621.630000</td>\n",
              "      <td>-16621.630000</td>\n",
              "      <td>-313.620000</td>\n",
              "      <td>0.000000</td>\n",
              "    </tr>\n",
              "    <tr>\n",
              "      <th>25%</th>\n",
              "      <td>9.238030e+05</td>\n",
              "      <td>1.000000</td>\n",
              "      <td>42.120000</td>\n",
              "      <td>60.200000</td>\n",
              "      <td>1.000000</td>\n",
              "      <td>2.167123</td>\n",
              "    </tr>\n",
              "    <tr>\n",
              "      <th>50%</th>\n",
              "      <td>1.063734e+06</td>\n",
              "      <td>1.000000</td>\n",
              "      <td>167.760000</td>\n",
              "      <td>139.565000</td>\n",
              "      <td>2.200000</td>\n",
              "      <td>4.410959</td>\n",
              "    </tr>\n",
              "    <tr>\n",
              "      <th>75%</th>\n",
              "      <td>1.220650e+06</td>\n",
              "      <td>2.000000</td>\n",
              "      <td>383.900000</td>\n",
              "      <td>279.560000</td>\n",
              "      <td>4.650000</td>\n",
              "      <td>8.369863</td>\n",
              "    </tr>\n",
              "    <tr>\n",
              "      <th>max</th>\n",
              "      <td>1.377125e+06</td>\n",
              "      <td>16.000000</td>\n",
              "      <td>27892.830000</td>\n",
              "      <td>33243.260000</td>\n",
              "      <td>763.860000</td>\n",
              "      <td>29.953425</td>\n",
              "    </tr>\n",
              "  </tbody>\n",
              "</table>\n",
              "</div>\n",
              "      <button class=\"colab-df-convert\" onclick=\"convertToInteractive('df-5013ad49-0272-441e-ae25-10ca71a2d14c')\"\n",
              "              title=\"Convert this dataframe to an interactive table.\"\n",
              "              style=\"display:none;\">\n",
              "        \n",
              "  <svg xmlns=\"http://www.w3.org/2000/svg\" height=\"24px\"viewBox=\"0 0 24 24\"\n",
              "       width=\"24px\">\n",
              "    <path d=\"M0 0h24v24H0V0z\" fill=\"none\"/>\n",
              "    <path d=\"M18.56 5.44l.94 2.06.94-2.06 2.06-.94-2.06-.94-.94-2.06-.94 2.06-2.06.94zm-11 1L8.5 8.5l.94-2.06 2.06-.94-2.06-.94L8.5 2.5l-.94 2.06-2.06.94zm10 10l.94 2.06.94-2.06 2.06-.94-2.06-.94-.94-2.06-.94 2.06-2.06.94z\"/><path d=\"M17.41 7.96l-1.37-1.37c-.4-.4-.92-.59-1.43-.59-.52 0-1.04.2-1.43.59L10.3 9.45l-7.72 7.72c-.78.78-.78 2.05 0 2.83L4 21.41c.39.39.9.59 1.41.59.51 0 1.02-.2 1.41-.59l7.78-7.78 2.81-2.81c.8-.78.8-2.07 0-2.86zM5.41 20L4 18.59l7.72-7.72 1.47 1.35L5.41 20z\"/>\n",
              "  </svg>\n",
              "      </button>\n",
              "      \n",
              "  <style>\n",
              "    .colab-df-container {\n",
              "      display:flex;\n",
              "      flex-wrap:wrap;\n",
              "      gap: 12px;\n",
              "    }\n",
              "\n",
              "    .colab-df-convert {\n",
              "      background-color: #E8F0FE;\n",
              "      border: none;\n",
              "      border-radius: 50%;\n",
              "      cursor: pointer;\n",
              "      display: none;\n",
              "      fill: #1967D2;\n",
              "      height: 32px;\n",
              "      padding: 0 0 0 0;\n",
              "      width: 32px;\n",
              "    }\n",
              "\n",
              "    .colab-df-convert:hover {\n",
              "      background-color: #E2EBFA;\n",
              "      box-shadow: 0px 1px 2px rgba(60, 64, 67, 0.3), 0px 1px 3px 1px rgba(60, 64, 67, 0.15);\n",
              "      fill: #174EA6;\n",
              "    }\n",
              "\n",
              "    [theme=dark] .colab-df-convert {\n",
              "      background-color: #3B4455;\n",
              "      fill: #D2E3FC;\n",
              "    }\n",
              "\n",
              "    [theme=dark] .colab-df-convert:hover {\n",
              "      background-color: #434B5C;\n",
              "      box-shadow: 0px 1px 3px 1px rgba(0, 0, 0, 0.15);\n",
              "      filter: drop-shadow(0px 1px 2px rgba(0, 0, 0, 0.3));\n",
              "      fill: #FFFFFF;\n",
              "    }\n",
              "  </style>\n",
              "\n",
              "      <script>\n",
              "        const buttonEl =\n",
              "          document.querySelector('#df-5013ad49-0272-441e-ae25-10ca71a2d14c button.colab-df-convert');\n",
              "        buttonEl.style.display =\n",
              "          google.colab.kernel.accessAllowed ? 'block' : 'none';\n",
              "\n",
              "        async function convertToInteractive(key) {\n",
              "          const element = document.querySelector('#df-5013ad49-0272-441e-ae25-10ca71a2d14c');\n",
              "          const dataTable =\n",
              "            await google.colab.kernel.invokeFunction('convertToInteractive',\n",
              "                                                     [key], {});\n",
              "          if (!dataTable) return;\n",
              "\n",
              "          const docLinkHtml = 'Like what you see? Visit the ' +\n",
              "            '<a target=\"_blank\" href=https://colab.research.google.com/notebooks/data_table.ipynb>data table notebook</a>'\n",
              "            + ' to learn more about interactive tables.';\n",
              "          element.innerHTML = '';\n",
              "          dataTable['output_type'] = 'display_data';\n",
              "          await google.colab.output.renderOutput(dataTable, element);\n",
              "          const docLink = document.createElement('div');\n",
              "          docLink.innerHTML = docLinkHtml;\n",
              "          element.appendChild(docLink);\n",
              "        }\n",
              "      </script>\n",
              "    </div>\n",
              "  </div>\n",
              "  "
            ]
          },
          "metadata": {},
          "execution_count": 5
        }
      ]
    },
    {
      "cell_type": "code",
      "source": [
        "df.isnull().sum()"
      ],
      "metadata": {
        "colab": {
          "base_uri": "https://localhost:8080/"
        },
        "id": "ogWB0TMG9N_a",
        "outputId": "de3da536-90f2-48fe-f583-0d89cf731714"
      },
      "execution_count": 6,
      "outputs": [
        {
          "output_type": "execute_result",
          "data": {
            "text/plain": [
              "Orden_Corta              0\n",
              "Recuento                 0\n",
              "F_APERTURA               0\n",
              "SUMA_RECAMBIOS           0\n",
              "SUMA_MO                  1\n",
              "SUMA_HORAS_FACTURADAS    0\n",
              "AÑOS_VEHICULO            0\n",
              "dtype: int64"
            ]
          },
          "metadata": {},
          "execution_count": 6
        }
      ]
    },
    {
      "cell_type": "markdown",
      "source": [
        "#HACEMOS EL CLUSTER"
      ],
      "metadata": {
        "id": "LvldPuaceHWG"
      }
    },
    {
      "cell_type": "code",
      "source": [
        "from google.colab import drive\n",
        "drive.mount('/content/drive')"
      ],
      "metadata": {
        "id": "BP4U-Yy29hoQ",
        "outputId": "3ede63ba-e7a8-411c-9bef-b2bd3dc248bc",
        "colab": {
          "base_uri": "https://localhost:8080/"
        }
      },
      "execution_count": 7,
      "outputs": [
        {
          "output_type": "stream",
          "name": "stdout",
          "text": [
            "Mounted at /content/drive\n"
          ]
        }
      ]
    },
    {
      "cell_type": "code",
      "source": [
        "from google.colab import files # Para manejar los archivos y, por ejemplo, exportar a su navegador\n",
        "import glob # Para manejar los archivos y, por ejemplo, exportar a su navegador\n",
        "from google.colab import drive # Montar tu Google drive"
      ],
      "metadata": {
        "id": "RXXetgShexJl"
      },
      "execution_count": 8,
      "outputs": []
    },
    {
      "cell_type": "code",
      "source": [
        "# Import Libraries\n",
        "\n",
        "import numpy as np\n",
        "import pandas as pd\n",
        "import matplotlib.pyplot as plt\n",
        "import seaborn as sns\n",
        "%matplotlib inline\n",
        "\n",
        "from sklearn.preprocessing import StandardScaler\n",
        "from sklearn.cluster import KMeans"
      ],
      "metadata": {
        "id": "AOWTRi3ce2jK"
      },
      "execution_count": 9,
      "outputs": []
    },
    {
      "cell_type": "code",
      "source": [
        "# Suppress Warning\n",
        "\n",
        "import warnings\n",
        "warnings.filterwarnings(\"ignore\")"
      ],
      "metadata": {
        "id": "5xGCXGO3e6HU"
      },
      "execution_count": 10,
      "outputs": []
    },
    {
      "cell_type": "code",
      "source": [
        "df.head()"
      ],
      "metadata": {
        "id": "-ODPufeze9nm",
        "outputId": "3ce229af-693c-4905-f0b2-77bfe5b459ff",
        "colab": {
          "base_uri": "https://localhost:8080/",
          "height": 206
        }
      },
      "execution_count": 11,
      "outputs": [
        {
          "output_type": "execute_result",
          "data": {
            "text/plain": [
              "   Orden_Corta  Recuento F_APERTURA  SUMA_RECAMBIOS  SUMA_MO  \\\n",
              "0       775439         1 2015-01-02            0.00    19.83   \n",
              "1       774412         1 2015-01-02          119.78    62.04   \n",
              "2       774401         1 2015-01-02          136.80   161.70   \n",
              "3       774715         2 2015-01-02          236.36   317.02   \n",
              "4       775595         1 2015-01-02            0.00     0.00   \n",
              "\n",
              "   SUMA_HORAS_FACTURADAS  AÑOS_VEHICULO  \n",
              "0                   0.28       0.758904  \n",
              "1                   1.20       2.512329  \n",
              "2                   2.10       3.306849  \n",
              "3                   4.20       5.512329  \n",
              "4                   0.00       5.183562  "
            ],
            "text/html": [
              "\n",
              "  <div id=\"df-ed30b74b-5e26-4308-82c5-7c0a3f917252\">\n",
              "    <div class=\"colab-df-container\">\n",
              "      <div>\n",
              "<style scoped>\n",
              "    .dataframe tbody tr th:only-of-type {\n",
              "        vertical-align: middle;\n",
              "    }\n",
              "\n",
              "    .dataframe tbody tr th {\n",
              "        vertical-align: top;\n",
              "    }\n",
              "\n",
              "    .dataframe thead th {\n",
              "        text-align: right;\n",
              "    }\n",
              "</style>\n",
              "<table border=\"1\" class=\"dataframe\">\n",
              "  <thead>\n",
              "    <tr style=\"text-align: right;\">\n",
              "      <th></th>\n",
              "      <th>Orden_Corta</th>\n",
              "      <th>Recuento</th>\n",
              "      <th>F_APERTURA</th>\n",
              "      <th>SUMA_RECAMBIOS</th>\n",
              "      <th>SUMA_MO</th>\n",
              "      <th>SUMA_HORAS_FACTURADAS</th>\n",
              "      <th>AÑOS_VEHICULO</th>\n",
              "    </tr>\n",
              "  </thead>\n",
              "  <tbody>\n",
              "    <tr>\n",
              "      <th>0</th>\n",
              "      <td>775439</td>\n",
              "      <td>1</td>\n",
              "      <td>2015-01-02</td>\n",
              "      <td>0.00</td>\n",
              "      <td>19.83</td>\n",
              "      <td>0.28</td>\n",
              "      <td>0.758904</td>\n",
              "    </tr>\n",
              "    <tr>\n",
              "      <th>1</th>\n",
              "      <td>774412</td>\n",
              "      <td>1</td>\n",
              "      <td>2015-01-02</td>\n",
              "      <td>119.78</td>\n",
              "      <td>62.04</td>\n",
              "      <td>1.20</td>\n",
              "      <td>2.512329</td>\n",
              "    </tr>\n",
              "    <tr>\n",
              "      <th>2</th>\n",
              "      <td>774401</td>\n",
              "      <td>1</td>\n",
              "      <td>2015-01-02</td>\n",
              "      <td>136.80</td>\n",
              "      <td>161.70</td>\n",
              "      <td>2.10</td>\n",
              "      <td>3.306849</td>\n",
              "    </tr>\n",
              "    <tr>\n",
              "      <th>3</th>\n",
              "      <td>774715</td>\n",
              "      <td>2</td>\n",
              "      <td>2015-01-02</td>\n",
              "      <td>236.36</td>\n",
              "      <td>317.02</td>\n",
              "      <td>4.20</td>\n",
              "      <td>5.512329</td>\n",
              "    </tr>\n",
              "    <tr>\n",
              "      <th>4</th>\n",
              "      <td>775595</td>\n",
              "      <td>1</td>\n",
              "      <td>2015-01-02</td>\n",
              "      <td>0.00</td>\n",
              "      <td>0.00</td>\n",
              "      <td>0.00</td>\n",
              "      <td>5.183562</td>\n",
              "    </tr>\n",
              "  </tbody>\n",
              "</table>\n",
              "</div>\n",
              "      <button class=\"colab-df-convert\" onclick=\"convertToInteractive('df-ed30b74b-5e26-4308-82c5-7c0a3f917252')\"\n",
              "              title=\"Convert this dataframe to an interactive table.\"\n",
              "              style=\"display:none;\">\n",
              "        \n",
              "  <svg xmlns=\"http://www.w3.org/2000/svg\" height=\"24px\"viewBox=\"0 0 24 24\"\n",
              "       width=\"24px\">\n",
              "    <path d=\"M0 0h24v24H0V0z\" fill=\"none\"/>\n",
              "    <path d=\"M18.56 5.44l.94 2.06.94-2.06 2.06-.94-2.06-.94-.94-2.06-.94 2.06-2.06.94zm-11 1L8.5 8.5l.94-2.06 2.06-.94-2.06-.94L8.5 2.5l-.94 2.06-2.06.94zm10 10l.94 2.06.94-2.06 2.06-.94-2.06-.94-.94-2.06-.94 2.06-2.06.94z\"/><path d=\"M17.41 7.96l-1.37-1.37c-.4-.4-.92-.59-1.43-.59-.52 0-1.04.2-1.43.59L10.3 9.45l-7.72 7.72c-.78.78-.78 2.05 0 2.83L4 21.41c.39.39.9.59 1.41.59.51 0 1.02-.2 1.41-.59l7.78-7.78 2.81-2.81c.8-.78.8-2.07 0-2.86zM5.41 20L4 18.59l7.72-7.72 1.47 1.35L5.41 20z\"/>\n",
              "  </svg>\n",
              "      </button>\n",
              "      \n",
              "  <style>\n",
              "    .colab-df-container {\n",
              "      display:flex;\n",
              "      flex-wrap:wrap;\n",
              "      gap: 12px;\n",
              "    }\n",
              "\n",
              "    .colab-df-convert {\n",
              "      background-color: #E8F0FE;\n",
              "      border: none;\n",
              "      border-radius: 50%;\n",
              "      cursor: pointer;\n",
              "      display: none;\n",
              "      fill: #1967D2;\n",
              "      height: 32px;\n",
              "      padding: 0 0 0 0;\n",
              "      width: 32px;\n",
              "    }\n",
              "\n",
              "    .colab-df-convert:hover {\n",
              "      background-color: #E2EBFA;\n",
              "      box-shadow: 0px 1px 2px rgba(60, 64, 67, 0.3), 0px 1px 3px 1px rgba(60, 64, 67, 0.15);\n",
              "      fill: #174EA6;\n",
              "    }\n",
              "\n",
              "    [theme=dark] .colab-df-convert {\n",
              "      background-color: #3B4455;\n",
              "      fill: #D2E3FC;\n",
              "    }\n",
              "\n",
              "    [theme=dark] .colab-df-convert:hover {\n",
              "      background-color: #434B5C;\n",
              "      box-shadow: 0px 1px 3px 1px rgba(0, 0, 0, 0.15);\n",
              "      filter: drop-shadow(0px 1px 2px rgba(0, 0, 0, 0.3));\n",
              "      fill: #FFFFFF;\n",
              "    }\n",
              "  </style>\n",
              "\n",
              "      <script>\n",
              "        const buttonEl =\n",
              "          document.querySelector('#df-ed30b74b-5e26-4308-82c5-7c0a3f917252 button.colab-df-convert');\n",
              "        buttonEl.style.display =\n",
              "          google.colab.kernel.accessAllowed ? 'block' : 'none';\n",
              "\n",
              "        async function convertToInteractive(key) {\n",
              "          const element = document.querySelector('#df-ed30b74b-5e26-4308-82c5-7c0a3f917252');\n",
              "          const dataTable =\n",
              "            await google.colab.kernel.invokeFunction('convertToInteractive',\n",
              "                                                     [key], {});\n",
              "          if (!dataTable) return;\n",
              "\n",
              "          const docLinkHtml = 'Like what you see? Visit the ' +\n",
              "            '<a target=\"_blank\" href=https://colab.research.google.com/notebooks/data_table.ipynb>data table notebook</a>'\n",
              "            + ' to learn more about interactive tables.';\n",
              "          element.innerHTML = '';\n",
              "          dataTable['output_type'] = 'display_data';\n",
              "          await google.colab.output.renderOutput(dataTable, element);\n",
              "          const docLink = document.createElement('div');\n",
              "          docLink.innerHTML = docLinkHtml;\n",
              "          element.appendChild(docLink);\n",
              "        }\n",
              "      </script>\n",
              "    </div>\n",
              "  </div>\n",
              "  "
            ]
          },
          "metadata": {},
          "execution_count": 11
        }
      ]
    },
    {
      "cell_type": "code",
      "source": [
        "df.info() # tengo que cambiar formatos. "
      ],
      "metadata": {
        "id": "UaQEKpCbfBdV",
        "outputId": "255b1230-ae1c-4a5e-e15e-51133c98b068",
        "colab": {
          "base_uri": "https://localhost:8080/"
        }
      },
      "execution_count": 14,
      "outputs": [
        {
          "output_type": "stream",
          "name": "stdout",
          "text": [
            "<class 'pandas.core.frame.DataFrame'>\n",
            "RangeIndex: 145695 entries, 0 to 145694\n",
            "Data columns (total 7 columns):\n",
            " #   Column                 Non-Null Count   Dtype         \n",
            "---  ------                 --------------   -----         \n",
            " 0   Orden_Corta            145695 non-null  object        \n",
            " 1   Recuento               145695 non-null  int64         \n",
            " 2   F_APERTURA             145695 non-null  datetime64[ns]\n",
            " 3   SUMA_RECAMBIOS         145695 non-null  float64       \n",
            " 4   SUMA_MO                145694 non-null  float64       \n",
            " 5   SUMA_HORAS_FACTURADAS  145695 non-null  float64       \n",
            " 6   AÑOS_VEHICULO          145695 non-null  float64       \n",
            "dtypes: datetime64[ns](1), float64(4), int64(1), object(1)\n",
            "memory usage: 7.8+ MB\n"
          ]
        }
      ]
    },
    {
      "cell_type": "code",
      "source": [
        "df[\"Orden_Corta\"] = df[\"Orden_Corta\"].astype(str)\n",
        "df.info()"
      ],
      "metadata": {
        "id": "IqEeasI7fHEn",
        "outputId": "635416ed-8b17-4a61-9bea-07cf06b2ecc6",
        "colab": {
          "base_uri": "https://localhost:8080/"
        }
      },
      "execution_count": 15,
      "outputs": [
        {
          "output_type": "stream",
          "name": "stdout",
          "text": [
            "<class 'pandas.core.frame.DataFrame'>\n",
            "RangeIndex: 145695 entries, 0 to 145694\n",
            "Data columns (total 7 columns):\n",
            " #   Column                 Non-Null Count   Dtype         \n",
            "---  ------                 --------------   -----         \n",
            " 0   Orden_Corta            145695 non-null  object        \n",
            " 1   Recuento               145695 non-null  int64         \n",
            " 2   F_APERTURA             145695 non-null  datetime64[ns]\n",
            " 3   SUMA_RECAMBIOS         145695 non-null  float64       \n",
            " 4   SUMA_MO                145694 non-null  float64       \n",
            " 5   SUMA_HORAS_FACTURADAS  145695 non-null  float64       \n",
            " 6   AÑOS_VEHICULO          145695 non-null  float64       \n",
            "dtypes: datetime64[ns](1), float64(4), int64(1), object(1)\n",
            "memory usage: 7.8+ MB\n"
          ]
        }
      ]
    },
    {
      "cell_type": "code",
      "source": [
        "df.shape # tenemos 145695 pasos de taller y 7 variables"
      ],
      "metadata": {
        "id": "VrEtVWBXfgWg",
        "outputId": "5f6683dc-98fb-4343-a9a2-efc8efb0f27c",
        "colab": {
          "base_uri": "https://localhost:8080/"
        }
      },
      "execution_count": 17,
      "outputs": [
        {
          "output_type": "execute_result",
          "data": {
            "text/plain": [
              "(145695, 7)"
            ]
          },
          "metadata": {},
          "execution_count": 17
        }
      ]
    },
    {
      "cell_type": "code",
      "source": [
        "df.describe()"
      ],
      "metadata": {
        "id": "2Y--FMkvfwU4",
        "outputId": "d784b124-3867-4a69-8464-70ca250df9e6",
        "colab": {
          "base_uri": "https://localhost:8080/",
          "height": 300
        }
      },
      "execution_count": 18,
      "outputs": [
        {
          "output_type": "execute_result",
          "data": {
            "text/plain": [
              "            Recuento  SUMA_RECAMBIOS        SUMA_MO  SUMA_HORAS_FACTURADAS  \\\n",
              "count  145695.000000   145695.000000  145694.000000          145695.000000   \n",
              "mean        1.453564      334.529579     242.391004               4.443828   \n",
              "std         0.850063      702.359577     371.963158               7.411066   \n",
              "min         1.000000   -16621.630000  -16621.630000            -313.620000   \n",
              "25%         1.000000       42.120000      60.200000               1.000000   \n",
              "50%         1.000000      167.760000     139.565000               2.200000   \n",
              "75%         2.000000      383.900000     279.560000               4.650000   \n",
              "max        16.000000    27892.830000   33243.260000             763.860000   \n",
              "\n",
              "       AÑOS_VEHICULO  \n",
              "count  145695.000000  \n",
              "mean        5.785898  \n",
              "std         4.488056  \n",
              "min         0.000000  \n",
              "25%         2.167123  \n",
              "50%         4.410959  \n",
              "75%         8.369863  \n",
              "max        29.953425  "
            ],
            "text/html": [
              "\n",
              "  <div id=\"df-7fa6b156-e5da-4f6e-b97f-46cf982e4fba\">\n",
              "    <div class=\"colab-df-container\">\n",
              "      <div>\n",
              "<style scoped>\n",
              "    .dataframe tbody tr th:only-of-type {\n",
              "        vertical-align: middle;\n",
              "    }\n",
              "\n",
              "    .dataframe tbody tr th {\n",
              "        vertical-align: top;\n",
              "    }\n",
              "\n",
              "    .dataframe thead th {\n",
              "        text-align: right;\n",
              "    }\n",
              "</style>\n",
              "<table border=\"1\" class=\"dataframe\">\n",
              "  <thead>\n",
              "    <tr style=\"text-align: right;\">\n",
              "      <th></th>\n",
              "      <th>Recuento</th>\n",
              "      <th>SUMA_RECAMBIOS</th>\n",
              "      <th>SUMA_MO</th>\n",
              "      <th>SUMA_HORAS_FACTURADAS</th>\n",
              "      <th>AÑOS_VEHICULO</th>\n",
              "    </tr>\n",
              "  </thead>\n",
              "  <tbody>\n",
              "    <tr>\n",
              "      <th>count</th>\n",
              "      <td>145695.000000</td>\n",
              "      <td>145695.000000</td>\n",
              "      <td>145694.000000</td>\n",
              "      <td>145695.000000</td>\n",
              "      <td>145695.000000</td>\n",
              "    </tr>\n",
              "    <tr>\n",
              "      <th>mean</th>\n",
              "      <td>1.453564</td>\n",
              "      <td>334.529579</td>\n",
              "      <td>242.391004</td>\n",
              "      <td>4.443828</td>\n",
              "      <td>5.785898</td>\n",
              "    </tr>\n",
              "    <tr>\n",
              "      <th>std</th>\n",
              "      <td>0.850063</td>\n",
              "      <td>702.359577</td>\n",
              "      <td>371.963158</td>\n",
              "      <td>7.411066</td>\n",
              "      <td>4.488056</td>\n",
              "    </tr>\n",
              "    <tr>\n",
              "      <th>min</th>\n",
              "      <td>1.000000</td>\n",
              "      <td>-16621.630000</td>\n",
              "      <td>-16621.630000</td>\n",
              "      <td>-313.620000</td>\n",
              "      <td>0.000000</td>\n",
              "    </tr>\n",
              "    <tr>\n",
              "      <th>25%</th>\n",
              "      <td>1.000000</td>\n",
              "      <td>42.120000</td>\n",
              "      <td>60.200000</td>\n",
              "      <td>1.000000</td>\n",
              "      <td>2.167123</td>\n",
              "    </tr>\n",
              "    <tr>\n",
              "      <th>50%</th>\n",
              "      <td>1.000000</td>\n",
              "      <td>167.760000</td>\n",
              "      <td>139.565000</td>\n",
              "      <td>2.200000</td>\n",
              "      <td>4.410959</td>\n",
              "    </tr>\n",
              "    <tr>\n",
              "      <th>75%</th>\n",
              "      <td>2.000000</td>\n",
              "      <td>383.900000</td>\n",
              "      <td>279.560000</td>\n",
              "      <td>4.650000</td>\n",
              "      <td>8.369863</td>\n",
              "    </tr>\n",
              "    <tr>\n",
              "      <th>max</th>\n",
              "      <td>16.000000</td>\n",
              "      <td>27892.830000</td>\n",
              "      <td>33243.260000</td>\n",
              "      <td>763.860000</td>\n",
              "      <td>29.953425</td>\n",
              "    </tr>\n",
              "  </tbody>\n",
              "</table>\n",
              "</div>\n",
              "      <button class=\"colab-df-convert\" onclick=\"convertToInteractive('df-7fa6b156-e5da-4f6e-b97f-46cf982e4fba')\"\n",
              "              title=\"Convert this dataframe to an interactive table.\"\n",
              "              style=\"display:none;\">\n",
              "        \n",
              "  <svg xmlns=\"http://www.w3.org/2000/svg\" height=\"24px\"viewBox=\"0 0 24 24\"\n",
              "       width=\"24px\">\n",
              "    <path d=\"M0 0h24v24H0V0z\" fill=\"none\"/>\n",
              "    <path d=\"M18.56 5.44l.94 2.06.94-2.06 2.06-.94-2.06-.94-.94-2.06-.94 2.06-2.06.94zm-11 1L8.5 8.5l.94-2.06 2.06-.94-2.06-.94L8.5 2.5l-.94 2.06-2.06.94zm10 10l.94 2.06.94-2.06 2.06-.94-2.06-.94-.94-2.06-.94 2.06-2.06.94z\"/><path d=\"M17.41 7.96l-1.37-1.37c-.4-.4-.92-.59-1.43-.59-.52 0-1.04.2-1.43.59L10.3 9.45l-7.72 7.72c-.78.78-.78 2.05 0 2.83L4 21.41c.39.39.9.59 1.41.59.51 0 1.02-.2 1.41-.59l7.78-7.78 2.81-2.81c.8-.78.8-2.07 0-2.86zM5.41 20L4 18.59l7.72-7.72 1.47 1.35L5.41 20z\"/>\n",
              "  </svg>\n",
              "      </button>\n",
              "      \n",
              "  <style>\n",
              "    .colab-df-container {\n",
              "      display:flex;\n",
              "      flex-wrap:wrap;\n",
              "      gap: 12px;\n",
              "    }\n",
              "\n",
              "    .colab-df-convert {\n",
              "      background-color: #E8F0FE;\n",
              "      border: none;\n",
              "      border-radius: 50%;\n",
              "      cursor: pointer;\n",
              "      display: none;\n",
              "      fill: #1967D2;\n",
              "      height: 32px;\n",
              "      padding: 0 0 0 0;\n",
              "      width: 32px;\n",
              "    }\n",
              "\n",
              "    .colab-df-convert:hover {\n",
              "      background-color: #E2EBFA;\n",
              "      box-shadow: 0px 1px 2px rgba(60, 64, 67, 0.3), 0px 1px 3px 1px rgba(60, 64, 67, 0.15);\n",
              "      fill: #174EA6;\n",
              "    }\n",
              "\n",
              "    [theme=dark] .colab-df-convert {\n",
              "      background-color: #3B4455;\n",
              "      fill: #D2E3FC;\n",
              "    }\n",
              "\n",
              "    [theme=dark] .colab-df-convert:hover {\n",
              "      background-color: #434B5C;\n",
              "      box-shadow: 0px 1px 3px 1px rgba(0, 0, 0, 0.15);\n",
              "      filter: drop-shadow(0px 1px 2px rgba(0, 0, 0, 0.3));\n",
              "      fill: #FFFFFF;\n",
              "    }\n",
              "  </style>\n",
              "\n",
              "      <script>\n",
              "        const buttonEl =\n",
              "          document.querySelector('#df-7fa6b156-e5da-4f6e-b97f-46cf982e4fba button.colab-df-convert');\n",
              "        buttonEl.style.display =\n",
              "          google.colab.kernel.accessAllowed ? 'block' : 'none';\n",
              "\n",
              "        async function convertToInteractive(key) {\n",
              "          const element = document.querySelector('#df-7fa6b156-e5da-4f6e-b97f-46cf982e4fba');\n",
              "          const dataTable =\n",
              "            await google.colab.kernel.invokeFunction('convertToInteractive',\n",
              "                                                     [key], {});\n",
              "          if (!dataTable) return;\n",
              "\n",
              "          const docLinkHtml = 'Like what you see? Visit the ' +\n",
              "            '<a target=\"_blank\" href=https://colab.research.google.com/notebooks/data_table.ipynb>data table notebook</a>'\n",
              "            + ' to learn more about interactive tables.';\n",
              "          element.innerHTML = '';\n",
              "          dataTable['output_type'] = 'display_data';\n",
              "          await google.colab.output.renderOutput(dataTable, element);\n",
              "          const docLink = document.createElement('div');\n",
              "          docLink.innerHTML = docLinkHtml;\n",
              "          element.appendChild(docLink);\n",
              "        }\n",
              "      </script>\n",
              "    </div>\n",
              "  </div>\n",
              "  "
            ]
          },
          "metadata": {},
          "execution_count": 18
        }
      ]
    },
    {
      "cell_type": "markdown",
      "source": [
        "- La media de Recambios por paso es 334 y la mediana 167.76\n",
        "- la media de Mo por paso es de 242.39 y la mediana 139.56\n",
        "- la media de horas por paso es de 4.43 y la mediana 2.20\n",
        "- la media de la edad de los vehículo es de 5.75 y la mediana 4.41"
      ],
      "metadata": {
        "id": "i2lvArYhgFld"
      }
    },
    {
      "cell_type": "code",
      "source": [
        "df.isnull().sum()"
      ],
      "metadata": {
        "id": "d6bDEvqDf6p0",
        "outputId": "c3aae893-beb1-4ff0-cc5d-11600e5d6d10",
        "colab": {
          "base_uri": "https://localhost:8080/"
        }
      },
      "execution_count": 19,
      "outputs": [
        {
          "output_type": "execute_result",
          "data": {
            "text/plain": [
              "Orden_Corta              0\n",
              "Recuento                 0\n",
              "F_APERTURA               0\n",
              "SUMA_RECAMBIOS           0\n",
              "SUMA_MO                  1\n",
              "SUMA_HORAS_FACTURADAS    0\n",
              "AÑOS_VEHICULO            0\n",
              "dtype: int64"
            ]
          },
          "metadata": {},
          "execution_count": 19
        }
      ]
    },
    {
      "cell_type": "markdown",
      "source": [
        "## CHEQUEANDO OUTLIERS"
      ],
      "metadata": {
        "id": "vjxJLQGHg4Z-"
      }
    },
    {
      "cell_type": "code",
      "source": [
        "plt.figure(figsize=(15,5)) # aqui poenmos el tamaño de cada cuadradro. \n",
        "\n",
        "plt.subplot(1,2,1)\n",
        "sns.boxplot(data=df, y=\"AÑOS_VEHICULO\") # este va a ocupar el primer lugar de la segunda fila. \n",
        "\n",
        "plt.subplot(1,2,2)\n",
        "sns.boxplot(data=dataset, y=\"Km\") # este va a ocupar el segundo lugar de la primera fila. \n",
        "\n",
        "plt.show()\n",
        "# lo que estamos viendo es un diagrama de bigotes donde apreciamos que no hay outliers.\n",
        "\n",
        "# lo voy a hacer con outliers, mas adelante lo veré quitandolos. "
      ],
      "metadata": {
        "id": "rKBmGXvogugn"
      },
      "execution_count": null,
      "outputs": []
    }
  ]
}