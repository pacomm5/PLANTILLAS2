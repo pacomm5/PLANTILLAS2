{
  "nbformat": 4,
  "nbformat_minor": 0,
  "metadata": {
    "colab": {
      "name": "RECAMBIOS_NUEVO_LISTADO.ipynb",
      "provenance": [],
      "mount_file_id": "https://github.com/pacomm5/PLANTILLAS2/blob/main/RECAMBIOS_NUEVO_LISTADO.ipynb",
      "authorship_tag": "ABX9TyPvDOVElSwi9AZ8siyXEbux",
      "include_colab_link": true
    },
    "kernelspec": {
      "name": "python3",
      "display_name": "Python 3"
    },
    "language_info": {
      "name": "python"
    }
  },
  "cells": [
    {
      "cell_type": "markdown",
      "metadata": {
        "id": "view-in-github",
        "colab_type": "text"
      },
      "source": [
        "<a href=\"https://colab.research.google.com/github/pacomm5/PLANTILLAS2/blob/main/RECAMBIOS_NUEVO_LISTADO.ipynb\" target=\"_parent\"><img src=\"https://colab.research.google.com/assets/colab-badge.svg\" alt=\"Open In Colab\"/></a>"
      ]
    },
    {
      "cell_type": "markdown",
      "source": [
        "# CREANDO ARCHIVOS POR AÑOS Y TOTAL"
      ],
      "metadata": {
        "id": "NDnXVkcqPKqo"
      }
    },
    {
      "cell_type": "code",
      "source": [
        "import pandas as pd\n"
      ],
      "metadata": {
        "id": "2-pPDO6ZNK4y"
      },
      "execution_count": null,
      "outputs": []
    },
    {
      "cell_type": "code",
      "source": [
        "enero2015 = pd.read_csv(\"/content/201501.TXT\", sep=\",\", encoding= \"ISO-8859-1\")"
      ],
      "metadata": {
        "id": "pR6MZwDuU5Ds"
      },
      "execution_count": null,
      "outputs": []
    },
    {
      "cell_type": "code",
      "source": [
        "enero2015.head()"
      ],
      "metadata": {
        "colab": {
          "base_uri": "https://localhost:8080/",
          "height": 490
        },
        "id": "QdhS0xN4a9Q2",
        "outputId": "6e4e054a-3545-44a0-e5e2-840e6cf89b01"
      },
      "execution_count": null,
      "outputs": [
        {
          "output_type": "execute_result",
          "data": {
            "text/plain": [
              "  Alma Cuenta     Refer.  Fec.sali           Artículo Clav  Denominacion  \\\n",
              "0    1  98253  6522204.0  27/01/15      11/5K0807109M    6   REFUERZO 10   \n",
              "1    1  98253  6522204.0  27/01/15  11/5K0807217BLGRU    4  GUARNECID 10   \n",
              "2    1  98253  6522204.0  27/01/15      11/5K0807571J    6       GUIA 10   \n",
              "3    1  98253  6522204.0  27/01/15      11/5K0919491B    8     HALTER 10   \n",
              "4    1  98253  6522204.0  27/01/15      11/5K0919493G    8     HALTER 10   \n",
              "\n",
              "  Canti  P.V.P.   Dto.  ...  F.cierre Tipo Recep P.V.P..1 TOTAL PVP Opera  \\\n",
              "0     1  173,93  10,00  ...  27/01/15   5V  85.0   214,00    214,00   1.0   \n",
              "1     1  316,39  10,00  ...  27/01/15   5V  85.0   401,00    401,00   1.0   \n",
              "2     1   31,75  10,00  ...  27/01/15   5V  85.0    45,40     45,40   1.0   \n",
              "3     2   13,60  10,00  ...  27/01/15   5V  85.0    11,15     22,30   1.0   \n",
              "4     2   13,60  10,00  ...  27/01/15   5V  85.0    11,15     22,30   1.0   \n",
              "\n",
              "                   Nombre Tipo.1  Famil           Bastidor  \n",
              "0  MANUEL ESCUDERO GARCIA     7V    AL8  WVWZZZ1KZ9W487026  \n",
              "1  MANUEL ESCUDERO GARCIA     7V    ALH  WVWZZZ1KZ9W487026  \n",
              "2  MANUEL ESCUDERO GARCIA     7V    AL7  WVWZZZ1KZ9W487026  \n",
              "3  MANUEL ESCUDERO GARCIA     7V    ANW  WVWZZZ1KZ9W487026  \n",
              "4  MANUEL ESCUDERO GARCIA     7V    ANW  WVWZZZ1KZ9W487026  \n",
              "\n",
              "[5 rows x 26 columns]"
            ],
            "text/html": [
              "\n",
              "  <div id=\"df-f0990bd6-fb63-4be2-84d3-d68e402d8229\">\n",
              "    <div class=\"colab-df-container\">\n",
              "      <div>\n",
              "<style scoped>\n",
              "    .dataframe tbody tr th:only-of-type {\n",
              "        vertical-align: middle;\n",
              "    }\n",
              "\n",
              "    .dataframe tbody tr th {\n",
              "        vertical-align: top;\n",
              "    }\n",
              "\n",
              "    .dataframe thead th {\n",
              "        text-align: right;\n",
              "    }\n",
              "</style>\n",
              "<table border=\"1\" class=\"dataframe\">\n",
              "  <thead>\n",
              "    <tr style=\"text-align: right;\">\n",
              "      <th></th>\n",
              "      <th>Alma</th>\n",
              "      <th>Cuenta</th>\n",
              "      <th>Refer.</th>\n",
              "      <th>Fec.sali</th>\n",
              "      <th>Artículo</th>\n",
              "      <th>Clav</th>\n",
              "      <th>Denominacion</th>\n",
              "      <th>Canti</th>\n",
              "      <th>P.V.P.</th>\n",
              "      <th>Dto.</th>\n",
              "      <th>...</th>\n",
              "      <th>F.cierre</th>\n",
              "      <th>Tipo</th>\n",
              "      <th>Recep</th>\n",
              "      <th>P.V.P..1</th>\n",
              "      <th>TOTAL PVP</th>\n",
              "      <th>Opera</th>\n",
              "      <th>Nombre</th>\n",
              "      <th>Tipo.1</th>\n",
              "      <th>Famil</th>\n",
              "      <th>Bastidor</th>\n",
              "    </tr>\n",
              "  </thead>\n",
              "  <tbody>\n",
              "    <tr>\n",
              "      <th>0</th>\n",
              "      <td>1</td>\n",
              "      <td>98253</td>\n",
              "      <td>6522204.0</td>\n",
              "      <td>27/01/15</td>\n",
              "      <td>11/5K0807109M</td>\n",
              "      <td>6</td>\n",
              "      <td>REFUERZO 10</td>\n",
              "      <td>1</td>\n",
              "      <td>173,93</td>\n",
              "      <td>10,00</td>\n",
              "      <td>...</td>\n",
              "      <td>27/01/15</td>\n",
              "      <td>5V</td>\n",
              "      <td>85.0</td>\n",
              "      <td>214,00</td>\n",
              "      <td>214,00</td>\n",
              "      <td>1.0</td>\n",
              "      <td>MANUEL ESCUDERO GARCIA</td>\n",
              "      <td>7V</td>\n",
              "      <td>AL8</td>\n",
              "      <td>WVWZZZ1KZ9W487026</td>\n",
              "    </tr>\n",
              "    <tr>\n",
              "      <th>1</th>\n",
              "      <td>1</td>\n",
              "      <td>98253</td>\n",
              "      <td>6522204.0</td>\n",
              "      <td>27/01/15</td>\n",
              "      <td>11/5K0807217BLGRU</td>\n",
              "      <td>4</td>\n",
              "      <td>GUARNECID 10</td>\n",
              "      <td>1</td>\n",
              "      <td>316,39</td>\n",
              "      <td>10,00</td>\n",
              "      <td>...</td>\n",
              "      <td>27/01/15</td>\n",
              "      <td>5V</td>\n",
              "      <td>85.0</td>\n",
              "      <td>401,00</td>\n",
              "      <td>401,00</td>\n",
              "      <td>1.0</td>\n",
              "      <td>MANUEL ESCUDERO GARCIA</td>\n",
              "      <td>7V</td>\n",
              "      <td>ALH</td>\n",
              "      <td>WVWZZZ1KZ9W487026</td>\n",
              "    </tr>\n",
              "    <tr>\n",
              "      <th>2</th>\n",
              "      <td>1</td>\n",
              "      <td>98253</td>\n",
              "      <td>6522204.0</td>\n",
              "      <td>27/01/15</td>\n",
              "      <td>11/5K0807571J</td>\n",
              "      <td>6</td>\n",
              "      <td>GUIA 10</td>\n",
              "      <td>1</td>\n",
              "      <td>31,75</td>\n",
              "      <td>10,00</td>\n",
              "      <td>...</td>\n",
              "      <td>27/01/15</td>\n",
              "      <td>5V</td>\n",
              "      <td>85.0</td>\n",
              "      <td>45,40</td>\n",
              "      <td>45,40</td>\n",
              "      <td>1.0</td>\n",
              "      <td>MANUEL ESCUDERO GARCIA</td>\n",
              "      <td>7V</td>\n",
              "      <td>AL7</td>\n",
              "      <td>WVWZZZ1KZ9W487026</td>\n",
              "    </tr>\n",
              "    <tr>\n",
              "      <th>3</th>\n",
              "      <td>1</td>\n",
              "      <td>98253</td>\n",
              "      <td>6522204.0</td>\n",
              "      <td>27/01/15</td>\n",
              "      <td>11/5K0919491B</td>\n",
              "      <td>8</td>\n",
              "      <td>HALTER 10</td>\n",
              "      <td>2</td>\n",
              "      <td>13,60</td>\n",
              "      <td>10,00</td>\n",
              "      <td>...</td>\n",
              "      <td>27/01/15</td>\n",
              "      <td>5V</td>\n",
              "      <td>85.0</td>\n",
              "      <td>11,15</td>\n",
              "      <td>22,30</td>\n",
              "      <td>1.0</td>\n",
              "      <td>MANUEL ESCUDERO GARCIA</td>\n",
              "      <td>7V</td>\n",
              "      <td>ANW</td>\n",
              "      <td>WVWZZZ1KZ9W487026</td>\n",
              "    </tr>\n",
              "    <tr>\n",
              "      <th>4</th>\n",
              "      <td>1</td>\n",
              "      <td>98253</td>\n",
              "      <td>6522204.0</td>\n",
              "      <td>27/01/15</td>\n",
              "      <td>11/5K0919493G</td>\n",
              "      <td>8</td>\n",
              "      <td>HALTER 10</td>\n",
              "      <td>2</td>\n",
              "      <td>13,60</td>\n",
              "      <td>10,00</td>\n",
              "      <td>...</td>\n",
              "      <td>27/01/15</td>\n",
              "      <td>5V</td>\n",
              "      <td>85.0</td>\n",
              "      <td>11,15</td>\n",
              "      <td>22,30</td>\n",
              "      <td>1.0</td>\n",
              "      <td>MANUEL ESCUDERO GARCIA</td>\n",
              "      <td>7V</td>\n",
              "      <td>ANW</td>\n",
              "      <td>WVWZZZ1KZ9W487026</td>\n",
              "    </tr>\n",
              "  </tbody>\n",
              "</table>\n",
              "<p>5 rows × 26 columns</p>\n",
              "</div>\n",
              "      <button class=\"colab-df-convert\" onclick=\"convertToInteractive('df-f0990bd6-fb63-4be2-84d3-d68e402d8229')\"\n",
              "              title=\"Convert this dataframe to an interactive table.\"\n",
              "              style=\"display:none;\">\n",
              "        \n",
              "  <svg xmlns=\"http://www.w3.org/2000/svg\" height=\"24px\"viewBox=\"0 0 24 24\"\n",
              "       width=\"24px\">\n",
              "    <path d=\"M0 0h24v24H0V0z\" fill=\"none\"/>\n",
              "    <path d=\"M18.56 5.44l.94 2.06.94-2.06 2.06-.94-2.06-.94-.94-2.06-.94 2.06-2.06.94zm-11 1L8.5 8.5l.94-2.06 2.06-.94-2.06-.94L8.5 2.5l-.94 2.06-2.06.94zm10 10l.94 2.06.94-2.06 2.06-.94-2.06-.94-.94-2.06-.94 2.06-2.06.94z\"/><path d=\"M17.41 7.96l-1.37-1.37c-.4-.4-.92-.59-1.43-.59-.52 0-1.04.2-1.43.59L10.3 9.45l-7.72 7.72c-.78.78-.78 2.05 0 2.83L4 21.41c.39.39.9.59 1.41.59.51 0 1.02-.2 1.41-.59l7.78-7.78 2.81-2.81c.8-.78.8-2.07 0-2.86zM5.41 20L4 18.59l7.72-7.72 1.47 1.35L5.41 20z\"/>\n",
              "  </svg>\n",
              "      </button>\n",
              "      \n",
              "  <style>\n",
              "    .colab-df-container {\n",
              "      display:flex;\n",
              "      flex-wrap:wrap;\n",
              "      gap: 12px;\n",
              "    }\n",
              "\n",
              "    .colab-df-convert {\n",
              "      background-color: #E8F0FE;\n",
              "      border: none;\n",
              "      border-radius: 50%;\n",
              "      cursor: pointer;\n",
              "      display: none;\n",
              "      fill: #1967D2;\n",
              "      height: 32px;\n",
              "      padding: 0 0 0 0;\n",
              "      width: 32px;\n",
              "    }\n",
              "\n",
              "    .colab-df-convert:hover {\n",
              "      background-color: #E2EBFA;\n",
              "      box-shadow: 0px 1px 2px rgba(60, 64, 67, 0.3), 0px 1px 3px 1px rgba(60, 64, 67, 0.15);\n",
              "      fill: #174EA6;\n",
              "    }\n",
              "\n",
              "    [theme=dark] .colab-df-convert {\n",
              "      background-color: #3B4455;\n",
              "      fill: #D2E3FC;\n",
              "    }\n",
              "\n",
              "    [theme=dark] .colab-df-convert:hover {\n",
              "      background-color: #434B5C;\n",
              "      box-shadow: 0px 1px 3px 1px rgba(0, 0, 0, 0.15);\n",
              "      filter: drop-shadow(0px 1px 2px rgba(0, 0, 0, 0.3));\n",
              "      fill: #FFFFFF;\n",
              "    }\n",
              "  </style>\n",
              "\n",
              "      <script>\n",
              "        const buttonEl =\n",
              "          document.querySelector('#df-f0990bd6-fb63-4be2-84d3-d68e402d8229 button.colab-df-convert');\n",
              "        buttonEl.style.display =\n",
              "          google.colab.kernel.accessAllowed ? 'block' : 'none';\n",
              "\n",
              "        async function convertToInteractive(key) {\n",
              "          const element = document.querySelector('#df-f0990bd6-fb63-4be2-84d3-d68e402d8229');\n",
              "          const dataTable =\n",
              "            await google.colab.kernel.invokeFunction('convertToInteractive',\n",
              "                                                     [key], {});\n",
              "          if (!dataTable) return;\n",
              "\n",
              "          const docLinkHtml = 'Like what you see? Visit the ' +\n",
              "            '<a target=\"_blank\" href=https://colab.research.google.com/notebooks/data_table.ipynb>data table notebook</a>'\n",
              "            + ' to learn more about interactive tables.';\n",
              "          element.innerHTML = '';\n",
              "          dataTable['output_type'] = 'display_data';\n",
              "          await google.colab.output.renderOutput(dataTable, element);\n",
              "          const docLink = document.createElement('div');\n",
              "          docLink.innerHTML = docLinkHtml;\n",
              "          element.appendChild(docLink);\n",
              "        }\n",
              "      </script>\n",
              "    </div>\n",
              "  </div>\n",
              "  "
            ]
          },
          "metadata": {},
          "execution_count": 31
        }
      ]
    },
    {
      "cell_type": "code",
      "source": [
        "enero2015.shape"
      ],
      "metadata": {
        "colab": {
          "base_uri": "https://localhost:8080/"
        },
        "id": "F5HBi1XYefcT",
        "outputId": "46549180-5de4-4494-f083-2e9aa7a4bf9b"
      },
      "execution_count": null,
      "outputs": [
        {
          "output_type": "execute_result",
          "data": {
            "text/plain": [
              "(12463, 26)"
            ]
          },
          "metadata": {},
          "execution_count": 32
        }
      ]
    },
    {
      "cell_type": "code",
      "source": [
        "enero2015 = enero2015[~enero2015.Cuenta.isnull()]"
      ],
      "metadata": {
        "id": "IPkh4jJ8hy69"
      },
      "execution_count": null,
      "outputs": []
    },
    {
      "cell_type": "code",
      "source": [
        "enero2015.isnull().sum()"
      ],
      "metadata": {
        "colab": {
          "base_uri": "https://localhost:8080/"
        },
        "id": "HGQ6aQOtiMb8",
        "outputId": "a874cef5-1872-427e-cff1-8d6005cdd02a"
      },
      "execution_count": null,
      "outputs": [
        {
          "output_type": "execute_result",
          "data": {
            "text/plain": [
              "Alma               0\n",
              "Cuenta             0\n",
              "Refer.             0\n",
              "Fec.sali           0\n",
              "Artículo           0\n",
              "Clav             972\n",
              "Denominacion       0\n",
              "Canti              0\n",
              "P.V.P.             0\n",
              "Dto.            6506\n",
              "Neto               0\n",
              "Costo              0\n",
              "Beneficio          0\n",
              "% Com              0\n",
              "Comision           0\n",
              "Fam.a            720\n",
              "F.cierre           0\n",
              "Tipo               0\n",
              "Recep              0\n",
              "P.V.P..1           0\n",
              "TOTAL PVP          0\n",
              "Opera              0\n",
              "Nombre             0\n",
              "Tipo.1             0\n",
              "Famil              3\n",
              "Bastidor           0\n",
              "dtype: int64"
            ]
          },
          "metadata": {},
          "execution_count": 34
        }
      ]
    },
    {
      "cell_type": "code",
      "source": [
        "febrero2015 = pd.read_csv(\"/content/201502.txt\", sep=\",\", encoding= \"ISO-8859-1\")"
      ],
      "metadata": {
        "id": "R9LXmfTbdRV_"
      },
      "execution_count": null,
      "outputs": []
    },
    {
      "cell_type": "code",
      "source": [
        "febrero2015.shape"
      ],
      "metadata": {
        "colab": {
          "base_uri": "https://localhost:8080/"
        },
        "id": "MTO0PVraf3TI",
        "outputId": "db07157c-fa97-4d6a-85fb-9ee6954be19b"
      },
      "execution_count": null,
      "outputs": [
        {
          "output_type": "execute_result",
          "data": {
            "text/plain": [
              "(13526, 26)"
            ]
          },
          "metadata": {},
          "execution_count": 36
        }
      ]
    },
    {
      "cell_type": "code",
      "source": [
        "febrero2015 = febrero2015[~febrero2015.Cuenta.isnull()]"
      ],
      "metadata": {
        "id": "-9H2wfgUgjsB"
      },
      "execution_count": null,
      "outputs": []
    },
    {
      "cell_type": "code",
      "source": [
        "febrero2015.isnull().sum()"
      ],
      "metadata": {
        "colab": {
          "base_uri": "https://localhost:8080/"
        },
        "id": "3JpLV1Xyf6TS",
        "outputId": "8cb2df98-e4d3-4870-dcfa-3eca1a3d047d"
      },
      "execution_count": null,
      "outputs": [
        {
          "output_type": "execute_result",
          "data": {
            "text/plain": [
              "Alma               0\n",
              "Cuenta             0\n",
              "Refer.             0\n",
              "Fec.sali           0\n",
              "Artículo           0\n",
              "Clav            1036\n",
              "Denominacion       0\n",
              "Canti              0\n",
              "P.V.P.             0\n",
              "Dto.            6979\n",
              "Neto               0\n",
              "Costo              0\n",
              "Beneficio          0\n",
              "% Com              0\n",
              "Comision           0\n",
              "Fam.a            724\n",
              "F.cierre           0\n",
              "Tipo               0\n",
              "Recep              0\n",
              "P.V.P..1           0\n",
              "TOTAL PVP          0\n",
              "Opera              1\n",
              "Nombre             1\n",
              "Tipo.1             0\n",
              "Famil              0\n",
              "Bastidor           0\n",
              "dtype: int64"
            ]
          },
          "metadata": {},
          "execution_count": 38
        }
      ]
    },
    {
      "cell_type": "code",
      "source": [
        "febrero2015.shape"
      ],
      "metadata": {
        "colab": {
          "base_uri": "https://localhost:8080/"
        },
        "id": "zh5xXosHgFi8",
        "outputId": "c6ea2587-ba8b-4886-a362-556df9989ae6"
      },
      "execution_count": null,
      "outputs": [
        {
          "output_type": "execute_result",
          "data": {
            "text/plain": [
              "(13415, 26)"
            ]
          },
          "metadata": {},
          "execution_count": 39
        }
      ]
    },
    {
      "cell_type": "code",
      "source": [
        "dataframes = [enero2015, febrero2015]\n",
        "resultado = pd.concat(dataframes)"
      ],
      "metadata": {
        "id": "HWRqS2kyiYo6"
      },
      "execution_count": null,
      "outputs": []
    },
    {
      "cell_type": "code",
      "source": [
        "resultado.head()"
      ],
      "metadata": {
        "colab": {
          "base_uri": "https://localhost:8080/",
          "height": 490
        },
        "id": "jFPeQYqCjA0n",
        "outputId": "6146197f-b8cc-4fea-b086-697a4a56c330"
      },
      "execution_count": null,
      "outputs": [
        {
          "output_type": "execute_result",
          "data": {
            "text/plain": [
              "  Alma Cuenta     Refer.  Fec.sali           Artículo Clav  Denominacion  \\\n",
              "0    1  98253  6522204.0  27/01/15      11/5K0807109M    6   REFUERZO 10   \n",
              "1    1  98253  6522204.0  27/01/15  11/5K0807217BLGRU    4  GUARNECID 10   \n",
              "2    1  98253  6522204.0  27/01/15      11/5K0807571J    6       GUIA 10   \n",
              "3    1  98253  6522204.0  27/01/15      11/5K0919491B    8     HALTER 10   \n",
              "4    1  98253  6522204.0  27/01/15      11/5K0919493G    8     HALTER 10   \n",
              "\n",
              "  Canti  P.V.P.   Dto.  ...  F.cierre Tipo Recep P.V.P..1 TOTAL PVP Opera  \\\n",
              "0     1  173,93  10,00  ...  27/01/15   5V  85.0   214,00    214,00   1.0   \n",
              "1     1  316,39  10,00  ...  27/01/15   5V  85.0   401,00    401,00   1.0   \n",
              "2     1   31,75  10,00  ...  27/01/15   5V  85.0    45,40     45,40   1.0   \n",
              "3     2   13,60  10,00  ...  27/01/15   5V  85.0    11,15     22,30   1.0   \n",
              "4     2   13,60  10,00  ...  27/01/15   5V  85.0    11,15     22,30   1.0   \n",
              "\n",
              "                   Nombre Tipo.1  Famil           Bastidor  \n",
              "0  MANUEL ESCUDERO GARCIA     7V    AL8  WVWZZZ1KZ9W487026  \n",
              "1  MANUEL ESCUDERO GARCIA     7V    ALH  WVWZZZ1KZ9W487026  \n",
              "2  MANUEL ESCUDERO GARCIA     7V    AL7  WVWZZZ1KZ9W487026  \n",
              "3  MANUEL ESCUDERO GARCIA     7V    ANW  WVWZZZ1KZ9W487026  \n",
              "4  MANUEL ESCUDERO GARCIA     7V    ANW  WVWZZZ1KZ9W487026  \n",
              "\n",
              "[5 rows x 26 columns]"
            ],
            "text/html": [
              "\n",
              "  <div id=\"df-c7c8effc-662f-4600-89cc-2c4f9bfb8332\">\n",
              "    <div class=\"colab-df-container\">\n",
              "      <div>\n",
              "<style scoped>\n",
              "    .dataframe tbody tr th:only-of-type {\n",
              "        vertical-align: middle;\n",
              "    }\n",
              "\n",
              "    .dataframe tbody tr th {\n",
              "        vertical-align: top;\n",
              "    }\n",
              "\n",
              "    .dataframe thead th {\n",
              "        text-align: right;\n",
              "    }\n",
              "</style>\n",
              "<table border=\"1\" class=\"dataframe\">\n",
              "  <thead>\n",
              "    <tr style=\"text-align: right;\">\n",
              "      <th></th>\n",
              "      <th>Alma</th>\n",
              "      <th>Cuenta</th>\n",
              "      <th>Refer.</th>\n",
              "      <th>Fec.sali</th>\n",
              "      <th>Artículo</th>\n",
              "      <th>Clav</th>\n",
              "      <th>Denominacion</th>\n",
              "      <th>Canti</th>\n",
              "      <th>P.V.P.</th>\n",
              "      <th>Dto.</th>\n",
              "      <th>...</th>\n",
              "      <th>F.cierre</th>\n",
              "      <th>Tipo</th>\n",
              "      <th>Recep</th>\n",
              "      <th>P.V.P..1</th>\n",
              "      <th>TOTAL PVP</th>\n",
              "      <th>Opera</th>\n",
              "      <th>Nombre</th>\n",
              "      <th>Tipo.1</th>\n",
              "      <th>Famil</th>\n",
              "      <th>Bastidor</th>\n",
              "    </tr>\n",
              "  </thead>\n",
              "  <tbody>\n",
              "    <tr>\n",
              "      <th>0</th>\n",
              "      <td>1</td>\n",
              "      <td>98253</td>\n",
              "      <td>6522204.0</td>\n",
              "      <td>27/01/15</td>\n",
              "      <td>11/5K0807109M</td>\n",
              "      <td>6</td>\n",
              "      <td>REFUERZO 10</td>\n",
              "      <td>1</td>\n",
              "      <td>173,93</td>\n",
              "      <td>10,00</td>\n",
              "      <td>...</td>\n",
              "      <td>27/01/15</td>\n",
              "      <td>5V</td>\n",
              "      <td>85.0</td>\n",
              "      <td>214,00</td>\n",
              "      <td>214,00</td>\n",
              "      <td>1.0</td>\n",
              "      <td>MANUEL ESCUDERO GARCIA</td>\n",
              "      <td>7V</td>\n",
              "      <td>AL8</td>\n",
              "      <td>WVWZZZ1KZ9W487026</td>\n",
              "    </tr>\n",
              "    <tr>\n",
              "      <th>1</th>\n",
              "      <td>1</td>\n",
              "      <td>98253</td>\n",
              "      <td>6522204.0</td>\n",
              "      <td>27/01/15</td>\n",
              "      <td>11/5K0807217BLGRU</td>\n",
              "      <td>4</td>\n",
              "      <td>GUARNECID 10</td>\n",
              "      <td>1</td>\n",
              "      <td>316,39</td>\n",
              "      <td>10,00</td>\n",
              "      <td>...</td>\n",
              "      <td>27/01/15</td>\n",
              "      <td>5V</td>\n",
              "      <td>85.0</td>\n",
              "      <td>401,00</td>\n",
              "      <td>401,00</td>\n",
              "      <td>1.0</td>\n",
              "      <td>MANUEL ESCUDERO GARCIA</td>\n",
              "      <td>7V</td>\n",
              "      <td>ALH</td>\n",
              "      <td>WVWZZZ1KZ9W487026</td>\n",
              "    </tr>\n",
              "    <tr>\n",
              "      <th>2</th>\n",
              "      <td>1</td>\n",
              "      <td>98253</td>\n",
              "      <td>6522204.0</td>\n",
              "      <td>27/01/15</td>\n",
              "      <td>11/5K0807571J</td>\n",
              "      <td>6</td>\n",
              "      <td>GUIA 10</td>\n",
              "      <td>1</td>\n",
              "      <td>31,75</td>\n",
              "      <td>10,00</td>\n",
              "      <td>...</td>\n",
              "      <td>27/01/15</td>\n",
              "      <td>5V</td>\n",
              "      <td>85.0</td>\n",
              "      <td>45,40</td>\n",
              "      <td>45,40</td>\n",
              "      <td>1.0</td>\n",
              "      <td>MANUEL ESCUDERO GARCIA</td>\n",
              "      <td>7V</td>\n",
              "      <td>AL7</td>\n",
              "      <td>WVWZZZ1KZ9W487026</td>\n",
              "    </tr>\n",
              "    <tr>\n",
              "      <th>3</th>\n",
              "      <td>1</td>\n",
              "      <td>98253</td>\n",
              "      <td>6522204.0</td>\n",
              "      <td>27/01/15</td>\n",
              "      <td>11/5K0919491B</td>\n",
              "      <td>8</td>\n",
              "      <td>HALTER 10</td>\n",
              "      <td>2</td>\n",
              "      <td>13,60</td>\n",
              "      <td>10,00</td>\n",
              "      <td>...</td>\n",
              "      <td>27/01/15</td>\n",
              "      <td>5V</td>\n",
              "      <td>85.0</td>\n",
              "      <td>11,15</td>\n",
              "      <td>22,30</td>\n",
              "      <td>1.0</td>\n",
              "      <td>MANUEL ESCUDERO GARCIA</td>\n",
              "      <td>7V</td>\n",
              "      <td>ANW</td>\n",
              "      <td>WVWZZZ1KZ9W487026</td>\n",
              "    </tr>\n",
              "    <tr>\n",
              "      <th>4</th>\n",
              "      <td>1</td>\n",
              "      <td>98253</td>\n",
              "      <td>6522204.0</td>\n",
              "      <td>27/01/15</td>\n",
              "      <td>11/5K0919493G</td>\n",
              "      <td>8</td>\n",
              "      <td>HALTER 10</td>\n",
              "      <td>2</td>\n",
              "      <td>13,60</td>\n",
              "      <td>10,00</td>\n",
              "      <td>...</td>\n",
              "      <td>27/01/15</td>\n",
              "      <td>5V</td>\n",
              "      <td>85.0</td>\n",
              "      <td>11,15</td>\n",
              "      <td>22,30</td>\n",
              "      <td>1.0</td>\n",
              "      <td>MANUEL ESCUDERO GARCIA</td>\n",
              "      <td>7V</td>\n",
              "      <td>ANW</td>\n",
              "      <td>WVWZZZ1KZ9W487026</td>\n",
              "    </tr>\n",
              "  </tbody>\n",
              "</table>\n",
              "<p>5 rows × 26 columns</p>\n",
              "</div>\n",
              "      <button class=\"colab-df-convert\" onclick=\"convertToInteractive('df-c7c8effc-662f-4600-89cc-2c4f9bfb8332')\"\n",
              "              title=\"Convert this dataframe to an interactive table.\"\n",
              "              style=\"display:none;\">\n",
              "        \n",
              "  <svg xmlns=\"http://www.w3.org/2000/svg\" height=\"24px\"viewBox=\"0 0 24 24\"\n",
              "       width=\"24px\">\n",
              "    <path d=\"M0 0h24v24H0V0z\" fill=\"none\"/>\n",
              "    <path d=\"M18.56 5.44l.94 2.06.94-2.06 2.06-.94-2.06-.94-.94-2.06-.94 2.06-2.06.94zm-11 1L8.5 8.5l.94-2.06 2.06-.94-2.06-.94L8.5 2.5l-.94 2.06-2.06.94zm10 10l.94 2.06.94-2.06 2.06-.94-2.06-.94-.94-2.06-.94 2.06-2.06.94z\"/><path d=\"M17.41 7.96l-1.37-1.37c-.4-.4-.92-.59-1.43-.59-.52 0-1.04.2-1.43.59L10.3 9.45l-7.72 7.72c-.78.78-.78 2.05 0 2.83L4 21.41c.39.39.9.59 1.41.59.51 0 1.02-.2 1.41-.59l7.78-7.78 2.81-2.81c.8-.78.8-2.07 0-2.86zM5.41 20L4 18.59l7.72-7.72 1.47 1.35L5.41 20z\"/>\n",
              "  </svg>\n",
              "      </button>\n",
              "      \n",
              "  <style>\n",
              "    .colab-df-container {\n",
              "      display:flex;\n",
              "      flex-wrap:wrap;\n",
              "      gap: 12px;\n",
              "    }\n",
              "\n",
              "    .colab-df-convert {\n",
              "      background-color: #E8F0FE;\n",
              "      border: none;\n",
              "      border-radius: 50%;\n",
              "      cursor: pointer;\n",
              "      display: none;\n",
              "      fill: #1967D2;\n",
              "      height: 32px;\n",
              "      padding: 0 0 0 0;\n",
              "      width: 32px;\n",
              "    }\n",
              "\n",
              "    .colab-df-convert:hover {\n",
              "      background-color: #E2EBFA;\n",
              "      box-shadow: 0px 1px 2px rgba(60, 64, 67, 0.3), 0px 1px 3px 1px rgba(60, 64, 67, 0.15);\n",
              "      fill: #174EA6;\n",
              "    }\n",
              "\n",
              "    [theme=dark] .colab-df-convert {\n",
              "      background-color: #3B4455;\n",
              "      fill: #D2E3FC;\n",
              "    }\n",
              "\n",
              "    [theme=dark] .colab-df-convert:hover {\n",
              "      background-color: #434B5C;\n",
              "      box-shadow: 0px 1px 3px 1px rgba(0, 0, 0, 0.15);\n",
              "      filter: drop-shadow(0px 1px 2px rgba(0, 0, 0, 0.3));\n",
              "      fill: #FFFFFF;\n",
              "    }\n",
              "  </style>\n",
              "\n",
              "      <script>\n",
              "        const buttonEl =\n",
              "          document.querySelector('#df-c7c8effc-662f-4600-89cc-2c4f9bfb8332 button.colab-df-convert');\n",
              "        buttonEl.style.display =\n",
              "          google.colab.kernel.accessAllowed ? 'block' : 'none';\n",
              "\n",
              "        async function convertToInteractive(key) {\n",
              "          const element = document.querySelector('#df-c7c8effc-662f-4600-89cc-2c4f9bfb8332');\n",
              "          const dataTable =\n",
              "            await google.colab.kernel.invokeFunction('convertToInteractive',\n",
              "                                                     [key], {});\n",
              "          if (!dataTable) return;\n",
              "\n",
              "          const docLinkHtml = 'Like what you see? Visit the ' +\n",
              "            '<a target=\"_blank\" href=https://colab.research.google.com/notebooks/data_table.ipynb>data table notebook</a>'\n",
              "            + ' to learn more about interactive tables.';\n",
              "          element.innerHTML = '';\n",
              "          dataTable['output_type'] = 'display_data';\n",
              "          await google.colab.output.renderOutput(dataTable, element);\n",
              "          const docLink = document.createElement('div');\n",
              "          docLink.innerHTML = docLinkHtml;\n",
              "          element.appendChild(docLink);\n",
              "        }\n",
              "      </script>\n",
              "    </div>\n",
              "  </div>\n",
              "  "
            ]
          },
          "metadata": {},
          "execution_count": 41
        }
      ]
    },
    {
      "cell_type": "code",
      "source": [
        "resultado.shape"
      ],
      "metadata": {
        "colab": {
          "base_uri": "https://localhost:8080/"
        },
        "id": "lB5Wa91TjDka",
        "outputId": "5fdadc99-d996-4167-a0a1-959cda29c0bf"
      },
      "execution_count": null,
      "outputs": [
        {
          "output_type": "execute_result",
          "data": {
            "text/plain": [
              "(25767, 26)"
            ]
          },
          "metadata": {},
          "execution_count": 42
        }
      ]
    },
    {
      "cell_type": "code",
      "source": [
        "enero2015 = pd.read_csv(\"/content/201501.TXT\", sep=\",\", encoding= \"ISO-8859-1\")\n",
        "febrero2015 = pd.read_csv(\"/content/201502.txt\", sep=\",\", encoding= \"ISO-8859-1\")\n",
        "marzo2015 = pd.read_csv(\"/content/201503.txt\", sep=\",\", encoding= \"ISO-8859-1\")\n",
        "abril2015 = pd.read_csv(\"/content/201504.txt\", sep=\",\", encoding= \"ISO-8859-1\")\n",
        "mayo2015 = pd.read_csv(\"/content/201505.txt\", sep=\",\", encoding= \"ISO-8859-1\")\n",
        "junio2015 = pd.read_csv(\"/content/201506.txt\", sep=\",\", encoding= \"ISO-8859-1\")\n",
        "julio2015 = pd.read_csv(\"/content/201507.txt\", sep=\",\", encoding= \"ISO-8859-1\")\n",
        "agosto2015 = pd.read_csv(\"/content/201508.txt\", sep=\",\", encoding= \"ISO-8859-1\")\n",
        "septiembre2015 = pd.read_csv(\"/content/201509.txt\", sep=\",\", encoding= \"ISO-8859-1\")\n",
        "octubre2015 = pd.read_csv(\"/content/201510.txt\", sep=\",\", encoding= \"ISO-8859-1\")\n",
        "noviembre2015 = pd.read_csv(\"/content/201511.txt\", sep=\",\", encoding= \"ISO-8859-1\")\n",
        "diciembre2015 = pd.read_csv(\"/content/201512.txt\", sep=\",\", encoding= \"ISO-8859-1\")"
      ],
      "metadata": {
        "id": "W0vdE8UdjIEW"
      },
      "execution_count": null,
      "outputs": []
    },
    {
      "cell_type": "code",
      "source": [
        "dataframes = [enero2015, febrero2015, marzo2015, abril2015, mayo2015, junio2015, julio2015, agosto2015, septiembre2015, octubre2015, noviembre2015,diciembre2015]\n",
        "total_2015 = pd.concat(dataframes)"
      ],
      "metadata": {
        "id": "QT0VwqYzqCfM"
      },
      "execution_count": null,
      "outputs": []
    },
    {
      "cell_type": "code",
      "source": [
        "total_2015.shape"
      ],
      "metadata": {
        "colab": {
          "base_uri": "https://localhost:8080/"
        },
        "id": "ss_C8VyFrbF7",
        "outputId": "9b1d9bc7-8967-454d-c16f-c9326ac7df26"
      },
      "execution_count": null,
      "outputs": [
        {
          "output_type": "execute_result",
          "data": {
            "text/plain": [
              "(166528, 26)"
            ]
          },
          "metadata": {},
          "execution_count": 50
        }
      ]
    },
    {
      "cell_type": "code",
      "source": [
        "total_2015.to_csv(\"/content/drive/MyDrive/Colab Notebooks/total_recambios_2015.csv\")"
      ],
      "metadata": {
        "id": "jzZqSUvlsJLa"
      },
      "execution_count": null,
      "outputs": []
    },
    {
      "cell_type": "code",
      "source": [
        "prueba = pd.read_csv(\"/content/drive/MyDrive/Colab Notebooks/total_recambios_2015.csv\")"
      ],
      "metadata": {
        "id": "_DrUC9UosxbX"
      },
      "execution_count": null,
      "outputs": []
    },
    {
      "cell_type": "code",
      "source": [
        "prueba.head()"
      ],
      "metadata": {
        "colab": {
          "base_uri": "https://localhost:8080/",
          "height": 490
        },
        "id": "TPy8XR9Ls8Og",
        "outputId": "a20f3b12-7913-4e77-fe92-d7de7b63bb4e"
      },
      "execution_count": null,
      "outputs": [
        {
          "output_type": "execute_result",
          "data": {
            "text/plain": [
              "   Unnamed: 0 Alma Cuenta     Refer.  Fec.sali           Artículo Clav  \\\n",
              "0           0    1  98253  6522204.0  27/01/15      11/5K0807109M    6   \n",
              "1           1    1  98253  6522204.0  27/01/15  11/5K0807217BLGRU    4   \n",
              "2           2    1  98253  6522204.0  27/01/15      11/5K0807571J    6   \n",
              "3           3    1  98253  6522204.0  27/01/15      11/5K0919491B    8   \n",
              "4           4    1  98253  6522204.0  27/01/15      11/5K0919493G    8   \n",
              "\n",
              "   Denominacion Canti  P.V.P.  ...  F.cierre Tipo Recep P.V.P..1 TOTAL PVP  \\\n",
              "0   REFUERZO 10     1  173,93  ...  27/01/15   5V  85.0   214,00    214,00   \n",
              "1  GUARNECID 10     1  316,39  ...  27/01/15   5V  85.0   401,00    401,00   \n",
              "2       GUIA 10     1   31,75  ...  27/01/15   5V  85.0    45,40     45,40   \n",
              "3     HALTER 10     2   13,60  ...  27/01/15   5V  85.0    11,15     22,30   \n",
              "4     HALTER 10     2   13,60  ...  27/01/15   5V  85.0    11,15     22,30   \n",
              "\n",
              "  Opera                  Nombre Tipo.1 Famil           Bastidor  \n",
              "0   1.0  MANUEL ESCUDERO GARCIA     7V   AL8  WVWZZZ1KZ9W487026  \n",
              "1   1.0  MANUEL ESCUDERO GARCIA     7V   ALH  WVWZZZ1KZ9W487026  \n",
              "2   1.0  MANUEL ESCUDERO GARCIA     7V   AL7  WVWZZZ1KZ9W487026  \n",
              "3   1.0  MANUEL ESCUDERO GARCIA     7V   ANW  WVWZZZ1KZ9W487026  \n",
              "4   1.0  MANUEL ESCUDERO GARCIA     7V   ANW  WVWZZZ1KZ9W487026  \n",
              "\n",
              "[5 rows x 27 columns]"
            ],
            "text/html": [
              "\n",
              "  <div id=\"df-56eb7551-5b0e-4217-a504-6f168cdfd5e1\">\n",
              "    <div class=\"colab-df-container\">\n",
              "      <div>\n",
              "<style scoped>\n",
              "    .dataframe tbody tr th:only-of-type {\n",
              "        vertical-align: middle;\n",
              "    }\n",
              "\n",
              "    .dataframe tbody tr th {\n",
              "        vertical-align: top;\n",
              "    }\n",
              "\n",
              "    .dataframe thead th {\n",
              "        text-align: right;\n",
              "    }\n",
              "</style>\n",
              "<table border=\"1\" class=\"dataframe\">\n",
              "  <thead>\n",
              "    <tr style=\"text-align: right;\">\n",
              "      <th></th>\n",
              "      <th>Unnamed: 0</th>\n",
              "      <th>Alma</th>\n",
              "      <th>Cuenta</th>\n",
              "      <th>Refer.</th>\n",
              "      <th>Fec.sali</th>\n",
              "      <th>Artículo</th>\n",
              "      <th>Clav</th>\n",
              "      <th>Denominacion</th>\n",
              "      <th>Canti</th>\n",
              "      <th>P.V.P.</th>\n",
              "      <th>...</th>\n",
              "      <th>F.cierre</th>\n",
              "      <th>Tipo</th>\n",
              "      <th>Recep</th>\n",
              "      <th>P.V.P..1</th>\n",
              "      <th>TOTAL PVP</th>\n",
              "      <th>Opera</th>\n",
              "      <th>Nombre</th>\n",
              "      <th>Tipo.1</th>\n",
              "      <th>Famil</th>\n",
              "      <th>Bastidor</th>\n",
              "    </tr>\n",
              "  </thead>\n",
              "  <tbody>\n",
              "    <tr>\n",
              "      <th>0</th>\n",
              "      <td>0</td>\n",
              "      <td>1</td>\n",
              "      <td>98253</td>\n",
              "      <td>6522204.0</td>\n",
              "      <td>27/01/15</td>\n",
              "      <td>11/5K0807109M</td>\n",
              "      <td>6</td>\n",
              "      <td>REFUERZO 10</td>\n",
              "      <td>1</td>\n",
              "      <td>173,93</td>\n",
              "      <td>...</td>\n",
              "      <td>27/01/15</td>\n",
              "      <td>5V</td>\n",
              "      <td>85.0</td>\n",
              "      <td>214,00</td>\n",
              "      <td>214,00</td>\n",
              "      <td>1.0</td>\n",
              "      <td>MANUEL ESCUDERO GARCIA</td>\n",
              "      <td>7V</td>\n",
              "      <td>AL8</td>\n",
              "      <td>WVWZZZ1KZ9W487026</td>\n",
              "    </tr>\n",
              "    <tr>\n",
              "      <th>1</th>\n",
              "      <td>1</td>\n",
              "      <td>1</td>\n",
              "      <td>98253</td>\n",
              "      <td>6522204.0</td>\n",
              "      <td>27/01/15</td>\n",
              "      <td>11/5K0807217BLGRU</td>\n",
              "      <td>4</td>\n",
              "      <td>GUARNECID 10</td>\n",
              "      <td>1</td>\n",
              "      <td>316,39</td>\n",
              "      <td>...</td>\n",
              "      <td>27/01/15</td>\n",
              "      <td>5V</td>\n",
              "      <td>85.0</td>\n",
              "      <td>401,00</td>\n",
              "      <td>401,00</td>\n",
              "      <td>1.0</td>\n",
              "      <td>MANUEL ESCUDERO GARCIA</td>\n",
              "      <td>7V</td>\n",
              "      <td>ALH</td>\n",
              "      <td>WVWZZZ1KZ9W487026</td>\n",
              "    </tr>\n",
              "    <tr>\n",
              "      <th>2</th>\n",
              "      <td>2</td>\n",
              "      <td>1</td>\n",
              "      <td>98253</td>\n",
              "      <td>6522204.0</td>\n",
              "      <td>27/01/15</td>\n",
              "      <td>11/5K0807571J</td>\n",
              "      <td>6</td>\n",
              "      <td>GUIA 10</td>\n",
              "      <td>1</td>\n",
              "      <td>31,75</td>\n",
              "      <td>...</td>\n",
              "      <td>27/01/15</td>\n",
              "      <td>5V</td>\n",
              "      <td>85.0</td>\n",
              "      <td>45,40</td>\n",
              "      <td>45,40</td>\n",
              "      <td>1.0</td>\n",
              "      <td>MANUEL ESCUDERO GARCIA</td>\n",
              "      <td>7V</td>\n",
              "      <td>AL7</td>\n",
              "      <td>WVWZZZ1KZ9W487026</td>\n",
              "    </tr>\n",
              "    <tr>\n",
              "      <th>3</th>\n",
              "      <td>3</td>\n",
              "      <td>1</td>\n",
              "      <td>98253</td>\n",
              "      <td>6522204.0</td>\n",
              "      <td>27/01/15</td>\n",
              "      <td>11/5K0919491B</td>\n",
              "      <td>8</td>\n",
              "      <td>HALTER 10</td>\n",
              "      <td>2</td>\n",
              "      <td>13,60</td>\n",
              "      <td>...</td>\n",
              "      <td>27/01/15</td>\n",
              "      <td>5V</td>\n",
              "      <td>85.0</td>\n",
              "      <td>11,15</td>\n",
              "      <td>22,30</td>\n",
              "      <td>1.0</td>\n",
              "      <td>MANUEL ESCUDERO GARCIA</td>\n",
              "      <td>7V</td>\n",
              "      <td>ANW</td>\n",
              "      <td>WVWZZZ1KZ9W487026</td>\n",
              "    </tr>\n",
              "    <tr>\n",
              "      <th>4</th>\n",
              "      <td>4</td>\n",
              "      <td>1</td>\n",
              "      <td>98253</td>\n",
              "      <td>6522204.0</td>\n",
              "      <td>27/01/15</td>\n",
              "      <td>11/5K0919493G</td>\n",
              "      <td>8</td>\n",
              "      <td>HALTER 10</td>\n",
              "      <td>2</td>\n",
              "      <td>13,60</td>\n",
              "      <td>...</td>\n",
              "      <td>27/01/15</td>\n",
              "      <td>5V</td>\n",
              "      <td>85.0</td>\n",
              "      <td>11,15</td>\n",
              "      <td>22,30</td>\n",
              "      <td>1.0</td>\n",
              "      <td>MANUEL ESCUDERO GARCIA</td>\n",
              "      <td>7V</td>\n",
              "      <td>ANW</td>\n",
              "      <td>WVWZZZ1KZ9W487026</td>\n",
              "    </tr>\n",
              "  </tbody>\n",
              "</table>\n",
              "<p>5 rows × 27 columns</p>\n",
              "</div>\n",
              "      <button class=\"colab-df-convert\" onclick=\"convertToInteractive('df-56eb7551-5b0e-4217-a504-6f168cdfd5e1')\"\n",
              "              title=\"Convert this dataframe to an interactive table.\"\n",
              "              style=\"display:none;\">\n",
              "        \n",
              "  <svg xmlns=\"http://www.w3.org/2000/svg\" height=\"24px\"viewBox=\"0 0 24 24\"\n",
              "       width=\"24px\">\n",
              "    <path d=\"M0 0h24v24H0V0z\" fill=\"none\"/>\n",
              "    <path d=\"M18.56 5.44l.94 2.06.94-2.06 2.06-.94-2.06-.94-.94-2.06-.94 2.06-2.06.94zm-11 1L8.5 8.5l.94-2.06 2.06-.94-2.06-.94L8.5 2.5l-.94 2.06-2.06.94zm10 10l.94 2.06.94-2.06 2.06-.94-2.06-.94-.94-2.06-.94 2.06-2.06.94z\"/><path d=\"M17.41 7.96l-1.37-1.37c-.4-.4-.92-.59-1.43-.59-.52 0-1.04.2-1.43.59L10.3 9.45l-7.72 7.72c-.78.78-.78 2.05 0 2.83L4 21.41c.39.39.9.59 1.41.59.51 0 1.02-.2 1.41-.59l7.78-7.78 2.81-2.81c.8-.78.8-2.07 0-2.86zM5.41 20L4 18.59l7.72-7.72 1.47 1.35L5.41 20z\"/>\n",
              "  </svg>\n",
              "      </button>\n",
              "      \n",
              "  <style>\n",
              "    .colab-df-container {\n",
              "      display:flex;\n",
              "      flex-wrap:wrap;\n",
              "      gap: 12px;\n",
              "    }\n",
              "\n",
              "    .colab-df-convert {\n",
              "      background-color: #E8F0FE;\n",
              "      border: none;\n",
              "      border-radius: 50%;\n",
              "      cursor: pointer;\n",
              "      display: none;\n",
              "      fill: #1967D2;\n",
              "      height: 32px;\n",
              "      padding: 0 0 0 0;\n",
              "      width: 32px;\n",
              "    }\n",
              "\n",
              "    .colab-df-convert:hover {\n",
              "      background-color: #E2EBFA;\n",
              "      box-shadow: 0px 1px 2px rgba(60, 64, 67, 0.3), 0px 1px 3px 1px rgba(60, 64, 67, 0.15);\n",
              "      fill: #174EA6;\n",
              "    }\n",
              "\n",
              "    [theme=dark] .colab-df-convert {\n",
              "      background-color: #3B4455;\n",
              "      fill: #D2E3FC;\n",
              "    }\n",
              "\n",
              "    [theme=dark] .colab-df-convert:hover {\n",
              "      background-color: #434B5C;\n",
              "      box-shadow: 0px 1px 3px 1px rgba(0, 0, 0, 0.15);\n",
              "      filter: drop-shadow(0px 1px 2px rgba(0, 0, 0, 0.3));\n",
              "      fill: #FFFFFF;\n",
              "    }\n",
              "  </style>\n",
              "\n",
              "      <script>\n",
              "        const buttonEl =\n",
              "          document.querySelector('#df-56eb7551-5b0e-4217-a504-6f168cdfd5e1 button.colab-df-convert');\n",
              "        buttonEl.style.display =\n",
              "          google.colab.kernel.accessAllowed ? 'block' : 'none';\n",
              "\n",
              "        async function convertToInteractive(key) {\n",
              "          const element = document.querySelector('#df-56eb7551-5b0e-4217-a504-6f168cdfd5e1');\n",
              "          const dataTable =\n",
              "            await google.colab.kernel.invokeFunction('convertToInteractive',\n",
              "                                                     [key], {});\n",
              "          if (!dataTable) return;\n",
              "\n",
              "          const docLinkHtml = 'Like what you see? Visit the ' +\n",
              "            '<a target=\"_blank\" href=https://colab.research.google.com/notebooks/data_table.ipynb>data table notebook</a>'\n",
              "            + ' to learn more about interactive tables.';\n",
              "          element.innerHTML = '';\n",
              "          dataTable['output_type'] = 'display_data';\n",
              "          await google.colab.output.renderOutput(dataTable, element);\n",
              "          const docLink = document.createElement('div');\n",
              "          docLink.innerHTML = docLinkHtml;\n",
              "          element.appendChild(docLink);\n",
              "        }\n",
              "      </script>\n",
              "    </div>\n",
              "  </div>\n",
              "  "
            ]
          },
          "metadata": {},
          "execution_count": 53
        }
      ]
    },
    {
      "cell_type": "code",
      "source": [
        "prueba.shape"
      ],
      "metadata": {
        "colab": {
          "base_uri": "https://localhost:8080/"
        },
        "id": "1qITXVVcs-Wl",
        "outputId": "ee27c484-af23-4a79-cceb-b54df12cdc47"
      },
      "execution_count": null,
      "outputs": [
        {
          "output_type": "execute_result",
          "data": {
            "text/plain": [
              "(166528, 27)"
            ]
          },
          "metadata": {},
          "execution_count": 54
        }
      ]
    },
    {
      "cell_type": "code",
      "source": [
        "enero2016 = pd.read_csv(\"/201601.txt\", sep=\",\", encoding= \"ISO-8859-1\")\n",
        "febrero2016 = pd.read_csv(\"/201602.txt\", sep=\",\", encoding= \"ISO-8859-1\")\n",
        "marzo2016 = pd.read_csv(\"/201603.txt\", sep=\",\", encoding= \"ISO-8859-1\")\n",
        "abril2016 = pd.read_csv(\"/201604.txt\", sep=\",\", encoding= \"ISO-8859-1\")\n",
        "mayo2016 = pd.read_csv(\"/201605.txt\", sep=\",\", encoding= \"ISO-8859-1\")\n",
        "junio2016 = pd.read_csv(\"/201606.txt\", sep=\",\", encoding= \"ISO-8859-1\")\n",
        "julio2016 = pd.read_csv(\"/201607.txt\", sep=\",\", encoding= \"ISO-8859-1\")\n",
        "agosto2016 = pd.read_csv(\"/201608.txt\", sep=\",\", encoding= \"ISO-8859-1\")\n",
        "septiembre2016 = pd.read_csv(\"/201609.txt\", sep=\",\", encoding= \"ISO-8859-1\")\n",
        "octubre2016 = pd.read_csv(\"/201610.txt\", sep=\",\", encoding= \"ISO-8859-1\")\n",
        "noviembre2016 = pd.read_csv(\"/201611.txt\", sep=\",\", encoding= \"ISO-8859-1\")\n",
        "diciembre2016 = pd.read_csv(\"/201612.txt\", sep=\",\", encoding= \"ISO-8859-1\")"
      ],
      "metadata": {
        "id": "bdT-kQvUtBj3"
      },
      "execution_count": null,
      "outputs": []
    },
    {
      "cell_type": "code",
      "source": [
        "dataframes = [enero2016, febrero2016, marzo2016, abril2016, mayo2016, junio2016, julio2016, agosto2016, septiembre2016, octubre2016, noviembre2016,diciembre2016]\n",
        "total_2016 = pd.concat(dataframes)"
      ],
      "metadata": {
        "id": "6j5zd_yN1oDc"
      },
      "execution_count": null,
      "outputs": []
    },
    {
      "cell_type": "code",
      "source": [
        "total_2016.shape"
      ],
      "metadata": {
        "colab": {
          "base_uri": "https://localhost:8080/"
        },
        "id": "4zGe_2lO4wsJ",
        "outputId": "d08a5343-dee5-4c4e-96f1-d97fe607055c"
      },
      "execution_count": null,
      "outputs": [
        {
          "output_type": "execute_result",
          "data": {
            "text/plain": [
              "(199835, 26)"
            ]
          },
          "metadata": {},
          "execution_count": 61
        }
      ]
    },
    {
      "cell_type": "code",
      "source": [
        "total_2016.to_csv(\"/content/drive/MyDrive/Colab Notebooks/total_recambios_2016.csv\")\n"
      ],
      "metadata": {
        "id": "V2NjXaRm49vG"
      },
      "execution_count": null,
      "outputs": []
    },
    {
      "cell_type": "code",
      "source": [
        "prueba = pd.read_csv(\"/content/drive/MyDrive/Colab Notebooks/total_recambios_2016.csv\")"
      ],
      "metadata": {
        "colab": {
          "base_uri": "https://localhost:8080/"
        },
        "id": "bbE4qpCh5I7m",
        "outputId": "052d8051-aa57-427f-9dce-b9cc0a8b0210"
      },
      "execution_count": null,
      "outputs": [
        {
          "output_type": "stream",
          "name": "stderr",
          "text": [
            "/usr/local/lib/python3.7/dist-packages/IPython/core/interactiveshell.py:2882: DtypeWarning: Columns (2) have mixed types.Specify dtype option on import or set low_memory=False.\n",
            "  exec(code_obj, self.user_global_ns, self.user_ns)\n"
          ]
        }
      ]
    },
    {
      "cell_type": "code",
      "source": [
        "prueba.head()"
      ],
      "metadata": {
        "colab": {
          "base_uri": "https://localhost:8080/",
          "height": 436
        },
        "id": "3UftCK2w5Pnd",
        "outputId": "633f00f2-679a-47a6-bf20-24d1f62a7c05"
      },
      "execution_count": null,
      "outputs": [
        {
          "output_type": "execute_result",
          "data": {
            "text/plain": [
              "   Unnamed: 0 Alma Cuenta     Refer.  Fec.sali      Artículo Clav  \\\n",
              "0           0    1   116W  8469522.0  29/01/16  11/000010006    8   \n",
              "1           1    1   2004  8355551.0  11/12/15     99/000003   15   \n",
              "2           2    1  77828  8353954.0  12/01/16          11/G  NaN   \n",
              "3           3    1  77828  8353954.0  12/01/16          11/G  NaN   \n",
              "4           4    1  77828  8353954.0  12/01/16          11/G  NaN   \n",
              "\n",
              "           Denominacion Canti P.V.P.  ...  F.cierre Tipo Recep P.V.P..1  \\\n",
              "0            ROTULO EXP     1   0,07  ...  29/01/16   8V  85.0     0,15   \n",
              "1             SACAR COD   NaN   0,00  ...  05/01/16   5V  85.0    12,92   \n",
              "2  02E305051C - CARTUCH     1  21,82  ...  26/01/16   6V   9.0     0,00   \n",
              "3     02E315141A - TAPA     1  28,24  ...  26/01/16   6V   9.0     0,00   \n",
              "4    02E321371E - JUNTA     1  10,42  ...  26/01/16   6V   9.0     0,00   \n",
              "\n",
              "  TOTAL PVP Opera                  Nombre Tipo.1 Famil           Bastidor  \n",
              "0      0,15   NaN                     NaN     4V   ADW  WVWZZZ3CZFE438441  \n",
              "1      0,00   1.0  MANUEL ESCUDERO GARCIA     7V    VO  WVWZZZ6RZFY033277  \n",
              "2      0,00   1.0  MANUEL ESCUDERO GARCIA     2V     G  WVWZZZ3CZ7P090459  \n",
              "3      0,00   1.0  MANUEL ESCUDERO GARCIA     2V     G  WVWZZZ3CZ7P090459  \n",
              "4      0,00   1.0  MANUEL ESCUDERO GARCIA     2V     G  WVWZZZ3CZ7P090459  \n",
              "\n",
              "[5 rows x 27 columns]"
            ],
            "text/html": [
              "\n",
              "  <div id=\"df-2dd65f93-026c-45c5-8117-bd93ad44c573\">\n",
              "    <div class=\"colab-df-container\">\n",
              "      <div>\n",
              "<style scoped>\n",
              "    .dataframe tbody tr th:only-of-type {\n",
              "        vertical-align: middle;\n",
              "    }\n",
              "\n",
              "    .dataframe tbody tr th {\n",
              "        vertical-align: top;\n",
              "    }\n",
              "\n",
              "    .dataframe thead th {\n",
              "        text-align: right;\n",
              "    }\n",
              "</style>\n",
              "<table border=\"1\" class=\"dataframe\">\n",
              "  <thead>\n",
              "    <tr style=\"text-align: right;\">\n",
              "      <th></th>\n",
              "      <th>Unnamed: 0</th>\n",
              "      <th>Alma</th>\n",
              "      <th>Cuenta</th>\n",
              "      <th>Refer.</th>\n",
              "      <th>Fec.sali</th>\n",
              "      <th>Artículo</th>\n",
              "      <th>Clav</th>\n",
              "      <th>Denominacion</th>\n",
              "      <th>Canti</th>\n",
              "      <th>P.V.P.</th>\n",
              "      <th>...</th>\n",
              "      <th>F.cierre</th>\n",
              "      <th>Tipo</th>\n",
              "      <th>Recep</th>\n",
              "      <th>P.V.P..1</th>\n",
              "      <th>TOTAL PVP</th>\n",
              "      <th>Opera</th>\n",
              "      <th>Nombre</th>\n",
              "      <th>Tipo.1</th>\n",
              "      <th>Famil</th>\n",
              "      <th>Bastidor</th>\n",
              "    </tr>\n",
              "  </thead>\n",
              "  <tbody>\n",
              "    <tr>\n",
              "      <th>0</th>\n",
              "      <td>0</td>\n",
              "      <td>1</td>\n",
              "      <td>116W</td>\n",
              "      <td>8469522.0</td>\n",
              "      <td>29/01/16</td>\n",
              "      <td>11/000010006</td>\n",
              "      <td>8</td>\n",
              "      <td>ROTULO EXP</td>\n",
              "      <td>1</td>\n",
              "      <td>0,07</td>\n",
              "      <td>...</td>\n",
              "      <td>29/01/16</td>\n",
              "      <td>8V</td>\n",
              "      <td>85.0</td>\n",
              "      <td>0,15</td>\n",
              "      <td>0,15</td>\n",
              "      <td>NaN</td>\n",
              "      <td>NaN</td>\n",
              "      <td>4V</td>\n",
              "      <td>ADW</td>\n",
              "      <td>WVWZZZ3CZFE438441</td>\n",
              "    </tr>\n",
              "    <tr>\n",
              "      <th>1</th>\n",
              "      <td>1</td>\n",
              "      <td>1</td>\n",
              "      <td>2004</td>\n",
              "      <td>8355551.0</td>\n",
              "      <td>11/12/15</td>\n",
              "      <td>99/000003</td>\n",
              "      <td>15</td>\n",
              "      <td>SACAR COD</td>\n",
              "      <td>NaN</td>\n",
              "      <td>0,00</td>\n",
              "      <td>...</td>\n",
              "      <td>05/01/16</td>\n",
              "      <td>5V</td>\n",
              "      <td>85.0</td>\n",
              "      <td>12,92</td>\n",
              "      <td>0,00</td>\n",
              "      <td>1.0</td>\n",
              "      <td>MANUEL ESCUDERO GARCIA</td>\n",
              "      <td>7V</td>\n",
              "      <td>VO</td>\n",
              "      <td>WVWZZZ6RZFY033277</td>\n",
              "    </tr>\n",
              "    <tr>\n",
              "      <th>2</th>\n",
              "      <td>2</td>\n",
              "      <td>1</td>\n",
              "      <td>77828</td>\n",
              "      <td>8353954.0</td>\n",
              "      <td>12/01/16</td>\n",
              "      <td>11/G</td>\n",
              "      <td>NaN</td>\n",
              "      <td>02E305051C - CARTUCH</td>\n",
              "      <td>1</td>\n",
              "      <td>21,82</td>\n",
              "      <td>...</td>\n",
              "      <td>26/01/16</td>\n",
              "      <td>6V</td>\n",
              "      <td>9.0</td>\n",
              "      <td>0,00</td>\n",
              "      <td>0,00</td>\n",
              "      <td>1.0</td>\n",
              "      <td>MANUEL ESCUDERO GARCIA</td>\n",
              "      <td>2V</td>\n",
              "      <td>G</td>\n",
              "      <td>WVWZZZ3CZ7P090459</td>\n",
              "    </tr>\n",
              "    <tr>\n",
              "      <th>3</th>\n",
              "      <td>3</td>\n",
              "      <td>1</td>\n",
              "      <td>77828</td>\n",
              "      <td>8353954.0</td>\n",
              "      <td>12/01/16</td>\n",
              "      <td>11/G</td>\n",
              "      <td>NaN</td>\n",
              "      <td>02E315141A - TAPA</td>\n",
              "      <td>1</td>\n",
              "      <td>28,24</td>\n",
              "      <td>...</td>\n",
              "      <td>26/01/16</td>\n",
              "      <td>6V</td>\n",
              "      <td>9.0</td>\n",
              "      <td>0,00</td>\n",
              "      <td>0,00</td>\n",
              "      <td>1.0</td>\n",
              "      <td>MANUEL ESCUDERO GARCIA</td>\n",
              "      <td>2V</td>\n",
              "      <td>G</td>\n",
              "      <td>WVWZZZ3CZ7P090459</td>\n",
              "    </tr>\n",
              "    <tr>\n",
              "      <th>4</th>\n",
              "      <td>4</td>\n",
              "      <td>1</td>\n",
              "      <td>77828</td>\n",
              "      <td>8353954.0</td>\n",
              "      <td>12/01/16</td>\n",
              "      <td>11/G</td>\n",
              "      <td>NaN</td>\n",
              "      <td>02E321371E - JUNTA</td>\n",
              "      <td>1</td>\n",
              "      <td>10,42</td>\n",
              "      <td>...</td>\n",
              "      <td>26/01/16</td>\n",
              "      <td>6V</td>\n",
              "      <td>9.0</td>\n",
              "      <td>0,00</td>\n",
              "      <td>0,00</td>\n",
              "      <td>1.0</td>\n",
              "      <td>MANUEL ESCUDERO GARCIA</td>\n",
              "      <td>2V</td>\n",
              "      <td>G</td>\n",
              "      <td>WVWZZZ3CZ7P090459</td>\n",
              "    </tr>\n",
              "  </tbody>\n",
              "</table>\n",
              "<p>5 rows × 27 columns</p>\n",
              "</div>\n",
              "      <button class=\"colab-df-convert\" onclick=\"convertToInteractive('df-2dd65f93-026c-45c5-8117-bd93ad44c573')\"\n",
              "              title=\"Convert this dataframe to an interactive table.\"\n",
              "              style=\"display:none;\">\n",
              "        \n",
              "  <svg xmlns=\"http://www.w3.org/2000/svg\" height=\"24px\"viewBox=\"0 0 24 24\"\n",
              "       width=\"24px\">\n",
              "    <path d=\"M0 0h24v24H0V0z\" fill=\"none\"/>\n",
              "    <path d=\"M18.56 5.44l.94 2.06.94-2.06 2.06-.94-2.06-.94-.94-2.06-.94 2.06-2.06.94zm-11 1L8.5 8.5l.94-2.06 2.06-.94-2.06-.94L8.5 2.5l-.94 2.06-2.06.94zm10 10l.94 2.06.94-2.06 2.06-.94-2.06-.94-.94-2.06-.94 2.06-2.06.94z\"/><path d=\"M17.41 7.96l-1.37-1.37c-.4-.4-.92-.59-1.43-.59-.52 0-1.04.2-1.43.59L10.3 9.45l-7.72 7.72c-.78.78-.78 2.05 0 2.83L4 21.41c.39.39.9.59 1.41.59.51 0 1.02-.2 1.41-.59l7.78-7.78 2.81-2.81c.8-.78.8-2.07 0-2.86zM5.41 20L4 18.59l7.72-7.72 1.47 1.35L5.41 20z\"/>\n",
              "  </svg>\n",
              "      </button>\n",
              "      \n",
              "  <style>\n",
              "    .colab-df-container {\n",
              "      display:flex;\n",
              "      flex-wrap:wrap;\n",
              "      gap: 12px;\n",
              "    }\n",
              "\n",
              "    .colab-df-convert {\n",
              "      background-color: #E8F0FE;\n",
              "      border: none;\n",
              "      border-radius: 50%;\n",
              "      cursor: pointer;\n",
              "      display: none;\n",
              "      fill: #1967D2;\n",
              "      height: 32px;\n",
              "      padding: 0 0 0 0;\n",
              "      width: 32px;\n",
              "    }\n",
              "\n",
              "    .colab-df-convert:hover {\n",
              "      background-color: #E2EBFA;\n",
              "      box-shadow: 0px 1px 2px rgba(60, 64, 67, 0.3), 0px 1px 3px 1px rgba(60, 64, 67, 0.15);\n",
              "      fill: #174EA6;\n",
              "    }\n",
              "\n",
              "    [theme=dark] .colab-df-convert {\n",
              "      background-color: #3B4455;\n",
              "      fill: #D2E3FC;\n",
              "    }\n",
              "\n",
              "    [theme=dark] .colab-df-convert:hover {\n",
              "      background-color: #434B5C;\n",
              "      box-shadow: 0px 1px 3px 1px rgba(0, 0, 0, 0.15);\n",
              "      filter: drop-shadow(0px 1px 2px rgba(0, 0, 0, 0.3));\n",
              "      fill: #FFFFFF;\n",
              "    }\n",
              "  </style>\n",
              "\n",
              "      <script>\n",
              "        const buttonEl =\n",
              "          document.querySelector('#df-2dd65f93-026c-45c5-8117-bd93ad44c573 button.colab-df-convert');\n",
              "        buttonEl.style.display =\n",
              "          google.colab.kernel.accessAllowed ? 'block' : 'none';\n",
              "\n",
              "        async function convertToInteractive(key) {\n",
              "          const element = document.querySelector('#df-2dd65f93-026c-45c5-8117-bd93ad44c573');\n",
              "          const dataTable =\n",
              "            await google.colab.kernel.invokeFunction('convertToInteractive',\n",
              "                                                     [key], {});\n",
              "          if (!dataTable) return;\n",
              "\n",
              "          const docLinkHtml = 'Like what you see? Visit the ' +\n",
              "            '<a target=\"_blank\" href=https://colab.research.google.com/notebooks/data_table.ipynb>data table notebook</a>'\n",
              "            + ' to learn more about interactive tables.';\n",
              "          element.innerHTML = '';\n",
              "          dataTable['output_type'] = 'display_data';\n",
              "          await google.colab.output.renderOutput(dataTable, element);\n",
              "          const docLink = document.createElement('div');\n",
              "          docLink.innerHTML = docLinkHtml;\n",
              "          element.appendChild(docLink);\n",
              "        }\n",
              "      </script>\n",
              "    </div>\n",
              "  </div>\n",
              "  "
            ]
          },
          "metadata": {},
          "execution_count": 64
        }
      ]
    },
    {
      "cell_type": "code",
      "source": [
        "dataframes = [total_2015,total_2016]\n",
        "total_2015_2016 = pd.concat(dataframes)"
      ],
      "metadata": {
        "id": "vlcf_G1T5VLO"
      },
      "execution_count": null,
      "outputs": []
    },
    {
      "cell_type": "code",
      "source": [
        "total_2015_2016.shape"
      ],
      "metadata": {
        "colab": {
          "base_uri": "https://localhost:8080/"
        },
        "id": "MtA_Selb732g",
        "outputId": "665f0eaf-5311-47c0-daa0-5f9c99807ccf"
      },
      "execution_count": null,
      "outputs": [
        {
          "output_type": "execute_result",
          "data": {
            "text/plain": [
              "(366363, 26)"
            ]
          },
          "metadata": {},
          "execution_count": 66
        }
      ]
    },
    {
      "cell_type": "code",
      "source": [
        "enero2017 = pd.read_csv(\"/content/201701.txt\", sep=\",\", encoding= \"ISO-8859-1\")\n",
        "febrero2017 = pd.read_csv(\"/content/201702.txt\", sep=\",\", encoding= \"ISO-8859-1\")\n",
        "marzo2017 = pd.read_csv(\"/content/201703.txt\", sep=\",\", encoding= \"ISO-8859-1\")\n",
        "abril2017 = pd.read_csv(\"/content/201704.txt\", sep=\",\", encoding= \"ISO-8859-1\")\n",
        "mayo2017 = pd.read_csv(\"/content/201705.txt\", sep=\",\", encoding= \"ISO-8859-1\")\n",
        "junio2017 = pd.read_csv(\"/content/201706.txt\", sep=\",\", encoding= \"ISO-8859-1\")\n",
        "julio2017 = pd.read_csv(\"/content/201707.txt\", sep=\",\", encoding= \"ISO-8859-1\")\n",
        "agosto2017 = pd.read_csv(\"/content/201708.txt\", sep=\",\", encoding= \"ISO-8859-1\")\n",
        "septiembre2017 = pd.read_csv(\"/content/201709.txt\", sep=\",\", encoding= \"ISO-8859-1\")\n",
        "octubre2017 = pd.read_csv(\"/content/201710.txt\", sep=\",\", encoding= \"ISO-8859-1\")\n",
        "noviembre2017 = pd.read_csv(\"/content/201711.txt\", sep=\",\", encoding= \"ISO-8859-1\")\n",
        "diciembre2017 = pd.read_csv(\"/content/201712.txt\", sep=\",\", encoding= \"ISO-8859-1\")"
      ],
      "metadata": {
        "id": "zykB1WQW7677"
      },
      "execution_count": null,
      "outputs": []
    },
    {
      "cell_type": "code",
      "source": [
        "dataframes = [enero2017, febrero2017, marzo2017, abril2017, mayo2017, junio2017, julio2017, agosto2017, septiembre2017, octubre2017, noviembre2017,diciembre2017]"
      ],
      "metadata": {
        "id": "5yinKdlGTzEv"
      },
      "execution_count": null,
      "outputs": []
    },
    {
      "cell_type": "code",
      "source": [
        "total_2017 = pd.concat(dataframes)"
      ],
      "metadata": {
        "id": "CN7us-t8U8H4"
      },
      "execution_count": null,
      "outputs": []
    },
    {
      "cell_type": "code",
      "source": [
        "total_2017.to_csv(\"/content/drive/MyDrive/Colab Notebooks/total_recambios_2017.csv\")"
      ],
      "metadata": {
        "id": "bTeXjezIVHDh"
      },
      "execution_count": null,
      "outputs": []
    },
    {
      "cell_type": "code",
      "source": [
        "enero2018 = pd.read_csv(\"/content/201801.txt\", sep=\",\", encoding= \"ISO-8859-1\")\n",
        "febrero2018 = pd.read_csv(\"/content/201802.txt\", sep=\",\", encoding= \"ISO-8859-1\")\n",
        "marzo2018 = pd.read_csv(\"/content/201803.txt\", sep=\",\", encoding= \"ISO-8859-1\")\n",
        "abril2018 = pd.read_csv(\"/content/201804.txt\", sep=\",\", encoding= \"ISO-8859-1\")\n",
        "mayo2018 = pd.read_csv(\"/content/201805.txt\", sep=\",\", encoding= \"ISO-8859-1\")\n",
        "junio2018 = pd.read_csv(\"/content/201806.txt\", sep=\",\", encoding= \"ISO-8859-1\")\n",
        "julio2018 = pd.read_csv(\"/content/201807.txt\", sep=\",\", encoding= \"ISO-8859-1\")\n",
        "agosto2018 = pd.read_csv(\"/content/201808.txt\", sep=\",\", encoding= \"ISO-8859-1\")\n",
        "septiembre2018 = pd.read_csv(\"/content/201809.txt\", sep=\",\", encoding= \"ISO-8859-1\")\n",
        "octubre2018 = pd.read_csv(\"/content/201810.txt\", sep=\",\", encoding= \"ISO-8859-1\")\n",
        "noviembre2018 = pd.read_csv(\"/content/201811.txt\", sep=\",\", encoding= \"ISO-8859-1\")\n",
        "diciembre2018 = pd.read_csv(\"/content/201812.txt\", sep=\",\", encoding= \"ISO-8859-1\")"
      ],
      "metadata": {
        "id": "fFgi8H0HVP4z"
      },
      "execution_count": null,
      "outputs": []
    },
    {
      "cell_type": "code",
      "source": [
        "dataframes = [enero2018, febrero2018, marzo2018, abril2018, mayo2018, junio2018, julio2018, agosto2018, septiembre2018, octubre2018, noviembre2018,diciembre2018]"
      ],
      "metadata": {
        "id": "DuMqTTXtcd-w"
      },
      "execution_count": null,
      "outputs": []
    },
    {
      "cell_type": "code",
      "source": [
        "total_2018 = pd.concat(dataframes)"
      ],
      "metadata": {
        "id": "hlhnI8C3cxLC"
      },
      "execution_count": null,
      "outputs": []
    },
    {
      "cell_type": "code",
      "source": [
        "total_2018.to_csv(\"/content/drive/MyDrive/Colab Notebooks/total_recambios_2018.csv\")"
      ],
      "metadata": {
        "id": "bGZNUHzMc1w4"
      },
      "execution_count": null,
      "outputs": []
    },
    {
      "cell_type": "code",
      "source": [
        "enero2019 = pd.read_csv(\"/content/201901.txt\", sep=\",\", encoding= \"ISO-8859-1\")\n",
        "febrero2019 = pd.read_csv(\"/content/201902.txt\", sep=\",\", encoding= \"ISO-8859-1\")\n",
        "marzo2019 = pd.read_csv(\"/content/201903.txt\", sep=\",\", encoding= \"ISO-8859-1\")\n",
        "abril2019 = pd.read_csv(\"/content/201904.txt\", sep=\",\", encoding= \"ISO-8859-1\")\n",
        "mayo2019 = pd.read_csv(\"/content/201905.txt\", sep=\",\", encoding= \"ISO-8859-1\")\n",
        "junio2019 = pd.read_csv(\"/content/201906.txt\", sep=\",\", encoding= \"ISO-8859-1\")\n",
        "julio2019 = pd.read_csv(\"/content/201907.txt\", sep=\",\", encoding= \"ISO-8859-1\")\n",
        "agosto2019 = pd.read_csv(\"/content/201908.txt\", sep=\",\", encoding= \"ISO-8859-1\")\n",
        "septiembre2019 = pd.read_csv(\"/content/201909.txt\", sep=\",\", encoding= \"ISO-8859-1\")\n",
        "octubre2019 = pd.read_csv(\"/content/201910.txt\", sep=\",\", encoding= \"ISO-8859-1\")\n",
        "noviembre2019 = pd.read_csv(\"/content/201911.txt\", sep=\",\", encoding= \"ISO-8859-1\")\n",
        "diciembre2019 = pd.read_csv(\"/content/201912.txt\", sep=\",\", encoding= \"ISO-8859-1\")"
      ],
      "metadata": {
        "id": "W2lby2koc8Vr"
      },
      "execution_count": null,
      "outputs": []
    },
    {
      "cell_type": "code",
      "source": [
        "dataframes = [enero2019, febrero2019, marzo2019, abril2019, mayo2019, junio2019, julio2019, agosto2019, septiembre2019, octubre2019, noviembre2019,diciembre2019]"
      ],
      "metadata": {
        "id": "TteKchaUi50s"
      },
      "execution_count": null,
      "outputs": []
    },
    {
      "cell_type": "code",
      "source": [
        "total_2019 = pd.concat(dataframes)"
      ],
      "metadata": {
        "id": "1_3ghC4EjLJf"
      },
      "execution_count": null,
      "outputs": []
    },
    {
      "cell_type": "code",
      "source": [
        "total_2019.to_csv(\"/content/drive/MyDrive/Colab Notebooks/total_recambios_2019.csv\")"
      ],
      "metadata": {
        "id": "BJm-HJ83jOla"
      },
      "execution_count": null,
      "outputs": []
    },
    {
      "cell_type": "code",
      "source": [
        "enero2020 = pd.read_csv(\"/content/202001.txt\", sep=\",\", encoding= \"ISO-8859-1\")\n",
        "febrero2020 = pd.read_csv(\"/content/202002.txt\", sep=\",\", encoding= \"ISO-8859-1\")\n",
        "marzo2020 = pd.read_csv(\"/content/202003.txt\", sep=\",\", encoding= \"ISO-8859-1\")\n",
        "abril2020 = pd.read_csv(\"/content/202004.txt\", sep=\",\", encoding= \"ISO-8859-1\")\n",
        "mayo2020 = pd.read_csv(\"/content/202005.txt\", sep=\",\", encoding= \"ISO-8859-1\")\n",
        "junio2020 = pd.read_csv(\"/content/202006.txt\", sep=\",\", encoding= \"ISO-8859-1\")\n",
        "julio2020 = pd.read_csv(\"/content/202007.txt\", sep=\",\", encoding= \"ISO-8859-1\")\n",
        "agosto2020 = pd.read_csv(\"/content/202008.txt\", sep=\",\", encoding= \"ISO-8859-1\")\n",
        "septiembre2020 = pd.read_csv(\"/content/202009.txt\", sep=\",\", encoding= \"ISO-8859-1\")\n",
        "octubre2020 = pd.read_csv(\"/content/202010.txt\", sep=\",\", encoding= \"ISO-8859-1\")\n",
        "noviembre2020 = pd.read_csv(\"/content/202011.txt\", sep=\",\", encoding= \"ISO-8859-1\")\n",
        "diciembre2020 = pd.read_csv(\"/content/202012.txt\", sep=\",\", encoding= \"ISO-8859-1\")"
      ],
      "metadata": {
        "id": "23AqsmvijW-n"
      },
      "execution_count": null,
      "outputs": []
    },
    {
      "cell_type": "code",
      "source": [
        "dataframes = [enero2020, febrero2020, marzo2020, abril2020, mayo2020, junio2020, julio2020, agosto2020, septiembre2020, octubre2020, noviembre2020,diciembre2020]"
      ],
      "metadata": {
        "id": "G7xi_wHT6pY0"
      },
      "execution_count": null,
      "outputs": []
    },
    {
      "cell_type": "code",
      "source": [
        "total_2020 = pd.concat(dataframes)"
      ],
      "metadata": {
        "id": "eA95aTLC66dT"
      },
      "execution_count": null,
      "outputs": []
    },
    {
      "cell_type": "code",
      "source": [
        "total_2020.to_csv(\"/content/drive/MyDrive/Colab Notebooks/total_recambios_2020.csv\")"
      ],
      "metadata": {
        "id": "Ow-jvjFt6-if"
      },
      "execution_count": null,
      "outputs": []
    },
    {
      "cell_type": "code",
      "source": [
        "enero2021 = pd.read_csv(\"/content/202101.txt\", sep=\",\", encoding= \"ISO-8859-1\")\n",
        "febrero2021 = pd.read_csv(\"/content/202102.txt\", sep=\",\", encoding= \"ISO-8859-1\")\n",
        "marzo2021 = pd.read_csv(\"/content/202103.txt\", sep=\",\", encoding= \"ISO-8859-1\")\n",
        "abril2021 = pd.read_csv(\"/content/202104.txt\", sep=\",\", encoding= \"ISO-8859-1\")\n",
        "mayo2021 = pd.read_csv(\"/content/202105.txt\", sep=\",\", encoding= \"ISO-8859-1\")\n",
        "junio2021 = pd.read_csv(\"/content/202106.txt\", sep=\",\", encoding= \"ISO-8859-1\")\n",
        "julio2021 = pd.read_csv(\"/content/202107.txt\", sep=\",\", encoding= \"ISO-8859-1\")\n",
        "agosto2021 = pd.read_csv(\"/content/202108.txt\", sep=\",\", encoding= \"ISO-8859-1\")\n",
        "septiembre2021 = pd.read_csv(\"/content/202109.txt\", sep=\",\", encoding= \"ISO-8859-1\")\n",
        "octubre2021 = pd.read_csv(\"/content/202110.txt\", sep=\",\", encoding= \"ISO-8859-1\")\n",
        "noviembre2021 = pd.read_csv(\"/content/202111.txt\", sep=\",\", encoding= \"ISO-8859-1\")\n",
        "diciembre2021 = pd.read_csv(\"/content/202112.txt\", sep=\",\", encoding= \"ISO-8859-1\")"
      ],
      "metadata": {
        "id": "OQg59MN67EBs"
      },
      "execution_count": null,
      "outputs": []
    },
    {
      "cell_type": "code",
      "source": [
        "dataframes = [enero2021, febrero2021, marzo2021, abril2021, mayo2021, junio2021, julio2021, agosto2021, septiembre2021, octubre2021, noviembre2021,diciembre2021]"
      ],
      "metadata": {
        "id": "JKJEfttnFrEB"
      },
      "execution_count": null,
      "outputs": []
    },
    {
      "cell_type": "code",
      "source": [
        "total_2021 = pd.concat(dataframes)"
      ],
      "metadata": {
        "id": "xZb2fRrBGz37"
      },
      "execution_count": null,
      "outputs": []
    },
    {
      "cell_type": "code",
      "source": [
        "total_2021.to_csv(\"/content/drive/MyDrive/Colab Notebooks/total_recambios_2021.csv\")"
      ],
      "metadata": {
        "id": "NURVILFdG3Wz"
      },
      "execution_count": null,
      "outputs": []
    },
    {
      "cell_type": "code",
      "source": [
        "enero2022 = pd.read_csv(\"/content/202201.txt\", sep=\",\", encoding= \"ISO-8859-1\")\n",
        "febrero2022 = pd.read_csv(\"/content/202202.txt\", sep=\",\", encoding= \"ISO-8859-1\")\n",
        "marzo2022 = pd.read_csv(\"/content/202203.txt\", sep=\",\", encoding= \"ISO-8859-1\")\n",
        "abril2022 = pd.read_csv(\"/content/202204.txt\", sep=\",\", encoding= \"ISO-8859-1\")\n",
        "mayo2022 = pd.read_csv(\"/content/202205.txt\", sep=\",\", encoding= \"ISO-8859-1\")\n",
        "junio2022 = pd.read_csv(\"/content/202206.txt\", sep=\",\", encoding= \"ISO-8859-1\")\n"
      ],
      "metadata": {
        "id": "9igjDgCiG-1n"
      },
      "execution_count": null,
      "outputs": []
    },
    {
      "cell_type": "code",
      "source": [
        "dataframes = [enero2022, febrero2022, marzo2022, abril2022, mayo2022, junio2022]"
      ],
      "metadata": {
        "id": "aUxUfnAHrhkJ"
      },
      "execution_count": null,
      "outputs": []
    },
    {
      "cell_type": "code",
      "source": [
        "total_2022 = pd.concat(dataframes)"
      ],
      "metadata": {
        "id": "T50S-Do4rX4c"
      },
      "execution_count": null,
      "outputs": []
    },
    {
      "cell_type": "code",
      "source": [
        "total_2022.to_csv(\"/content/drive/MyDrive/Colab Notebooks/total_recambios_2022.csv\")"
      ],
      "metadata": {
        "id": "cWbENf20rgRG"
      },
      "execution_count": null,
      "outputs": []
    },
    {
      "cell_type": "code",
      "source": [
        "df_2015 = pd.read_csv(\"/content/drive/MyDrive/Colab Notebooks/total_recambios_2015.csv\", sep=\",\", encoding= \"ISO-8859-1\")\n",
        "df_2016 = pd.read_csv(\"/content/drive/MyDrive/Colab Notebooks/total_recambios_2016.csv\", sep=\",\", encoding= \"ISO-8859-1\")\n",
        "df_2017 = pd.read_csv(\"/content/drive/MyDrive/Colab Notebooks/total_recambios_2017.csv\", sep=\",\", encoding= \"ISO-8859-1\")\n",
        "df_2018 = pd.read_csv(\"/content/drive/MyDrive/Colab Notebooks/total_recambios_2018.csv\", sep=\",\", encoding= \"ISO-8859-1\")\n",
        "df_2019 = pd.read_csv(\"/content/drive/MyDrive/Colab Notebooks/total_recambios_2019.csv\", sep=\",\", encoding= \"ISO-8859-1\")\n",
        "df_2020 = pd.read_csv(\"/content/drive/MyDrive/Colab Notebooks/total_recambios_2020.csv\", sep=\",\", encoding= \"ISO-8859-1\")\n",
        "df_2021 = pd.read_csv(\"/content/drive/MyDrive/Colab Notebooks/total_recambios_2021.csv\", sep=\",\", encoding= \"ISO-8859-1\")\n",
        "df_2022 = pd.read_csv(\"/content/drive/MyDrive/Colab Notebooks/total_recambios_2022.csv\", sep=\",\", encoding= \"ISO-8859-1\")"
      ],
      "metadata": {
        "colab": {
          "base_uri": "https://localhost:8080/"
        },
        "id": "T8a0o4X8rxYS",
        "outputId": "bee32711-6608-47e8-a453-d0b7167bca56"
      },
      "execution_count": null,
      "outputs": [
        {
          "output_type": "stream",
          "name": "stderr",
          "text": [
            "/usr/local/lib/python3.7/dist-packages/IPython/core/interactiveshell.py:2882: DtypeWarning: Columns (2) have mixed types.Specify dtype option on import or set low_memory=False.\n",
            "  exec(code_obj, self.user_global_ns, self.user_ns)\n"
          ]
        }
      ]
    },
    {
      "cell_type": "code",
      "source": [
        "df_2015.head(2)"
      ],
      "metadata": {
        "colab": {
          "base_uri": "https://localhost:8080/",
          "height": 263
        },
        "id": "daqHECoKswh7",
        "outputId": "169a6003-f15c-47b9-b143-92bc936ef0ab"
      },
      "execution_count": null,
      "outputs": [
        {
          "output_type": "execute_result",
          "data": {
            "text/plain": [
              "   Unnamed: 0 Alma Cuenta  ...  Tipo.1 Famil           Bastidor\n",
              "0           0    1  98253  ...      7V   AL8  WVWZZZ1KZ9W487026\n",
              "1           1    1  98253  ...      7V   ALH  WVWZZZ1KZ9W487026\n",
              "\n",
              "[2 rows x 27 columns]"
            ],
            "text/html": [
              "\n",
              "  <div id=\"df-6fa81e35-8518-4527-8171-7049de32fc00\">\n",
              "    <div class=\"colab-df-container\">\n",
              "      <div>\n",
              "<style scoped>\n",
              "    .dataframe tbody tr th:only-of-type {\n",
              "        vertical-align: middle;\n",
              "    }\n",
              "\n",
              "    .dataframe tbody tr th {\n",
              "        vertical-align: top;\n",
              "    }\n",
              "\n",
              "    .dataframe thead th {\n",
              "        text-align: right;\n",
              "    }\n",
              "</style>\n",
              "<table border=\"1\" class=\"dataframe\">\n",
              "  <thead>\n",
              "    <tr style=\"text-align: right;\">\n",
              "      <th></th>\n",
              "      <th>Unnamed: 0</th>\n",
              "      <th>Alma</th>\n",
              "      <th>Cuenta</th>\n",
              "      <th>Refer.</th>\n",
              "      <th>Fec.sali</th>\n",
              "      <th>ArtÃ­culo</th>\n",
              "      <th>Clav</th>\n",
              "      <th>Denominacion</th>\n",
              "      <th>Canti</th>\n",
              "      <th>P.V.P.</th>\n",
              "      <th>Dto.</th>\n",
              "      <th>Neto</th>\n",
              "      <th>Costo</th>\n",
              "      <th>Beneficio</th>\n",
              "      <th>% Com</th>\n",
              "      <th>Comision</th>\n",
              "      <th>Fam.a</th>\n",
              "      <th>F.cierre</th>\n",
              "      <th>Tipo</th>\n",
              "      <th>Recep</th>\n",
              "      <th>P.V.P..1</th>\n",
              "      <th>TOTAL PVP</th>\n",
              "      <th>Opera</th>\n",
              "      <th>Nombre</th>\n",
              "      <th>Tipo.1</th>\n",
              "      <th>Famil</th>\n",
              "      <th>Bastidor</th>\n",
              "    </tr>\n",
              "  </thead>\n",
              "  <tbody>\n",
              "    <tr>\n",
              "      <th>0</th>\n",
              "      <td>0</td>\n",
              "      <td>1</td>\n",
              "      <td>98253</td>\n",
              "      <td>6522204.0</td>\n",
              "      <td>27/01/15</td>\n",
              "      <td>11/5K0807109M</td>\n",
              "      <td>6</td>\n",
              "      <td>REFUERZO 10</td>\n",
              "      <td>1</td>\n",
              "      <td>173,93</td>\n",
              "      <td>10,00</td>\n",
              "      <td>156,54</td>\n",
              "      <td>140,44</td>\n",
              "      <td>16,10</td>\n",
              "      <td>0,00</td>\n",
              "      <td>0,00</td>\n",
              "      <td>AL8</td>\n",
              "      <td>27/01/15</td>\n",
              "      <td>5V</td>\n",
              "      <td>85.0</td>\n",
              "      <td>214,00</td>\n",
              "      <td>214,00</td>\n",
              "      <td>1.0</td>\n",
              "      <td>MANUEL ESCUDERO GARCIA</td>\n",
              "      <td>7V</td>\n",
              "      <td>AL8</td>\n",
              "      <td>WVWZZZ1KZ9W487026</td>\n",
              "    </tr>\n",
              "    <tr>\n",
              "      <th>1</th>\n",
              "      <td>1</td>\n",
              "      <td>1</td>\n",
              "      <td>98253</td>\n",
              "      <td>6522204.0</td>\n",
              "      <td>27/01/15</td>\n",
              "      <td>11/5K0807217BLGRU</td>\n",
              "      <td>4</td>\n",
              "      <td>GUARNECID 10</td>\n",
              "      <td>1</td>\n",
              "      <td>316,39</td>\n",
              "      <td>10,00</td>\n",
              "      <td>284,75</td>\n",
              "      <td>186,05</td>\n",
              "      <td>98,70</td>\n",
              "      <td>0,00</td>\n",
              "      <td>0,00</td>\n",
              "      <td>ALH</td>\n",
              "      <td>27/01/15</td>\n",
              "      <td>5V</td>\n",
              "      <td>85.0</td>\n",
              "      <td>401,00</td>\n",
              "      <td>401,00</td>\n",
              "      <td>1.0</td>\n",
              "      <td>MANUEL ESCUDERO GARCIA</td>\n",
              "      <td>7V</td>\n",
              "      <td>ALH</td>\n",
              "      <td>WVWZZZ1KZ9W487026</td>\n",
              "    </tr>\n",
              "  </tbody>\n",
              "</table>\n",
              "</div>\n",
              "      <button class=\"colab-df-convert\" onclick=\"convertToInteractive('df-6fa81e35-8518-4527-8171-7049de32fc00')\"\n",
              "              title=\"Convert this dataframe to an interactive table.\"\n",
              "              style=\"display:none;\">\n",
              "        \n",
              "  <svg xmlns=\"http://www.w3.org/2000/svg\" height=\"24px\"viewBox=\"0 0 24 24\"\n",
              "       width=\"24px\">\n",
              "    <path d=\"M0 0h24v24H0V0z\" fill=\"none\"/>\n",
              "    <path d=\"M18.56 5.44l.94 2.06.94-2.06 2.06-.94-2.06-.94-.94-2.06-.94 2.06-2.06.94zm-11 1L8.5 8.5l.94-2.06 2.06-.94-2.06-.94L8.5 2.5l-.94 2.06-2.06.94zm10 10l.94 2.06.94-2.06 2.06-.94-2.06-.94-.94-2.06-.94 2.06-2.06.94z\"/><path d=\"M17.41 7.96l-1.37-1.37c-.4-.4-.92-.59-1.43-.59-.52 0-1.04.2-1.43.59L10.3 9.45l-7.72 7.72c-.78.78-.78 2.05 0 2.83L4 21.41c.39.39.9.59 1.41.59.51 0 1.02-.2 1.41-.59l7.78-7.78 2.81-2.81c.8-.78.8-2.07 0-2.86zM5.41 20L4 18.59l7.72-7.72 1.47 1.35L5.41 20z\"/>\n",
              "  </svg>\n",
              "      </button>\n",
              "      \n",
              "  <style>\n",
              "    .colab-df-container {\n",
              "      display:flex;\n",
              "      flex-wrap:wrap;\n",
              "      gap: 12px;\n",
              "    }\n",
              "\n",
              "    .colab-df-convert {\n",
              "      background-color: #E8F0FE;\n",
              "      border: none;\n",
              "      border-radius: 50%;\n",
              "      cursor: pointer;\n",
              "      display: none;\n",
              "      fill: #1967D2;\n",
              "      height: 32px;\n",
              "      padding: 0 0 0 0;\n",
              "      width: 32px;\n",
              "    }\n",
              "\n",
              "    .colab-df-convert:hover {\n",
              "      background-color: #E2EBFA;\n",
              "      box-shadow: 0px 1px 2px rgba(60, 64, 67, 0.3), 0px 1px 3px 1px rgba(60, 64, 67, 0.15);\n",
              "      fill: #174EA6;\n",
              "    }\n",
              "\n",
              "    [theme=dark] .colab-df-convert {\n",
              "      background-color: #3B4455;\n",
              "      fill: #D2E3FC;\n",
              "    }\n",
              "\n",
              "    [theme=dark] .colab-df-convert:hover {\n",
              "      background-color: #434B5C;\n",
              "      box-shadow: 0px 1px 3px 1px rgba(0, 0, 0, 0.15);\n",
              "      filter: drop-shadow(0px 1px 2px rgba(0, 0, 0, 0.3));\n",
              "      fill: #FFFFFF;\n",
              "    }\n",
              "  </style>\n",
              "\n",
              "      <script>\n",
              "        const buttonEl =\n",
              "          document.querySelector('#df-6fa81e35-8518-4527-8171-7049de32fc00 button.colab-df-convert');\n",
              "        buttonEl.style.display =\n",
              "          google.colab.kernel.accessAllowed ? 'block' : 'none';\n",
              "\n",
              "        async function convertToInteractive(key) {\n",
              "          const element = document.querySelector('#df-6fa81e35-8518-4527-8171-7049de32fc00');\n",
              "          const dataTable =\n",
              "            await google.colab.kernel.invokeFunction('convertToInteractive',\n",
              "                                                     [key], {});\n",
              "          if (!dataTable) return;\n",
              "\n",
              "          const docLinkHtml = 'Like what you see? Visit the ' +\n",
              "            '<a target=\"_blank\" href=https://colab.research.google.com/notebooks/data_table.ipynb>data table notebook</a>'\n",
              "            + ' to learn more about interactive tables.';\n",
              "          element.innerHTML = '';\n",
              "          dataTable['output_type'] = 'display_data';\n",
              "          await google.colab.output.renderOutput(dataTable, element);\n",
              "          const docLink = document.createElement('div');\n",
              "          docLink.innerHTML = docLinkHtml;\n",
              "          element.appendChild(docLink);\n",
              "        }\n",
              "      </script>\n",
              "    </div>\n",
              "  </div>\n",
              "  "
            ]
          },
          "metadata": {},
          "execution_count": 47
        }
      ]
    },
    {
      "cell_type": "code",
      "source": [
        "df[\"Fech_cierre\"] = pd.to_datetime(df[\"Fech_cierre\"])"
      ],
      "metadata": {
        "id": "t46xjjSrskMq"
      },
      "execution_count": null,
      "outputs": []
    },
    {
      "cell_type": "code",
      "source": [
        "print(\"la fecha va desde {} a {}\".format(df_2015.F.cierre.min(), df_2015.F.cierre.max()))"
      ],
      "metadata": {
        "colab": {
          "base_uri": "https://localhost:8080/",
          "height": 299
        },
        "id": "7zhJTNn1sOrl",
        "outputId": "882fe52c-2292-4a8d-b957-c6bd72ae4684"
      },
      "execution_count": null,
      "outputs": [
        {
          "output_type": "error",
          "ename": "AttributeError",
          "evalue": "ignored",
          "traceback": [
            "\u001b[0;31m---------------------------------------------------------------------------\u001b[0m",
            "\u001b[0;31mAttributeError\u001b[0m                            Traceback (most recent call last)",
            "\u001b[0;32m<ipython-input-48-f36eef02776b>\u001b[0m in \u001b[0;36m<module>\u001b[0;34m()\u001b[0m\n\u001b[0;32m----> 1\u001b[0;31m \u001b[0mprint\u001b[0m\u001b[0;34m(\u001b[0m\u001b[0;34m\"la fecha va desde {} a {}\"\u001b[0m\u001b[0;34m.\u001b[0m\u001b[0mformat\u001b[0m\u001b[0;34m(\u001b[0m\u001b[0mdf_2015\u001b[0m\u001b[0;34m.\u001b[0m\u001b[0mF\u001b[0m\u001b[0;34m.\u001b[0m\u001b[0mcierre\u001b[0m\u001b[0;34m.\u001b[0m\u001b[0mmin\u001b[0m\u001b[0;34m(\u001b[0m\u001b[0;34m)\u001b[0m\u001b[0;34m,\u001b[0m \u001b[0mdf_2015\u001b[0m\u001b[0;34m.\u001b[0m\u001b[0mF\u001b[0m\u001b[0;34m.\u001b[0m\u001b[0mcierre\u001b[0m\u001b[0;34m.\u001b[0m\u001b[0mmax\u001b[0m\u001b[0;34m(\u001b[0m\u001b[0;34m)\u001b[0m\u001b[0;34m)\u001b[0m\u001b[0;34m)\u001b[0m\u001b[0;34m\u001b[0m\u001b[0;34m\u001b[0m\u001b[0m\n\u001b[0m",
            "\u001b[0;32m/usr/local/lib/python3.7/dist-packages/pandas/core/generic.py\u001b[0m in \u001b[0;36m__getattr__\u001b[0;34m(self, name)\u001b[0m\n\u001b[1;32m   5485\u001b[0m         ):\n\u001b[1;32m   5486\u001b[0m             \u001b[0;32mreturn\u001b[0m \u001b[0mself\u001b[0m\u001b[0;34m[\u001b[0m\u001b[0mname\u001b[0m\u001b[0;34m]\u001b[0m\u001b[0;34m\u001b[0m\u001b[0;34m\u001b[0m\u001b[0m\n\u001b[0;32m-> 5487\u001b[0;31m         \u001b[0;32mreturn\u001b[0m \u001b[0mobject\u001b[0m\u001b[0;34m.\u001b[0m\u001b[0m__getattribute__\u001b[0m\u001b[0;34m(\u001b[0m\u001b[0mself\u001b[0m\u001b[0;34m,\u001b[0m \u001b[0mname\u001b[0m\u001b[0;34m)\u001b[0m\u001b[0;34m\u001b[0m\u001b[0;34m\u001b[0m\u001b[0m\n\u001b[0m\u001b[1;32m   5488\u001b[0m \u001b[0;34m\u001b[0m\u001b[0m\n\u001b[1;32m   5489\u001b[0m     \u001b[0;32mdef\u001b[0m \u001b[0m__setattr__\u001b[0m\u001b[0;34m(\u001b[0m\u001b[0mself\u001b[0m\u001b[0;34m,\u001b[0m \u001b[0mname\u001b[0m\u001b[0;34m:\u001b[0m \u001b[0mstr\u001b[0m\u001b[0;34m,\u001b[0m \u001b[0mvalue\u001b[0m\u001b[0;34m)\u001b[0m \u001b[0;34m->\u001b[0m \u001b[0;32mNone\u001b[0m\u001b[0;34m:\u001b[0m\u001b[0;34m\u001b[0m\u001b[0;34m\u001b[0m\u001b[0m\n",
            "\u001b[0;31mAttributeError\u001b[0m: 'DataFrame' object has no attribute 'F'"
          ]
        }
      ]
    },
    {
      "cell_type": "code",
      "source": [
        "dataframes = [df_2015, df_2016, df_2017, df_2018, df_2019, df_2020, df_2021, df_2022]"
      ],
      "metadata": {
        "id": "_nhLLW4msbeP"
      },
      "execution_count": null,
      "outputs": []
    },
    {
      "cell_type": "code",
      "source": [
        "total_recambios_hasta_junio = pd.concat(dataframes)"
      ],
      "metadata": {
        "id": "8z3n6TA_tRvV"
      },
      "execution_count": null,
      "outputs": []
    },
    {
      "cell_type": "code",
      "source": [
        "total_recambios_hasta_junio.shape"
      ],
      "metadata": {
        "colab": {
          "base_uri": "https://localhost:8080/"
        },
        "id": "eZEjQzvftchz",
        "outputId": "6e2b4b35-ce4d-46ae-a5a2-1fec2eaa8b64"
      },
      "execution_count": null,
      "outputs": [
        {
          "output_type": "execute_result",
          "data": {
            "text/plain": [
              "(1521897, 27)"
            ]
          },
          "metadata": {},
          "execution_count": 14
        }
      ]
    },
    {
      "cell_type": "code",
      "source": [
        "total_recambios_hasta_junio.to_csv(\"/content/drive/MyDrive/Colab Notebooks/total_recambios_recambios_hasta_junio.csv\")"
      ],
      "metadata": {
        "id": "jsrSd1xCtfxM"
      },
      "execution_count": null,
      "outputs": []
    },
    {
      "cell_type": "code",
      "source": [
        ""
      ],
      "metadata": {
        "id": "L4vJUCrqnuJi"
      },
      "execution_count": null,
      "outputs": []
    },
    {
      "cell_type": "code",
      "source": [
        ""
      ],
      "metadata": {
        "id": "iA3T42dDNmdS"
      },
      "execution_count": null,
      "outputs": []
    },
    {
      "cell_type": "markdown",
      "source": [
        "# TRATAMIENTO DEL ARCHIVO"
      ],
      "metadata": {
        "id": "sZ5CR2PFPrdk"
      }
    },
    {
      "cell_type": "code",
      "source": [
        "import pandas as pd\n"
      ],
      "metadata": {
        "id": "i_jPDj_SSfce"
      },
      "execution_count": null,
      "outputs": []
    },
    {
      "cell_type": "code",
      "source": [
        "df = pd.read_csv(\"/content/drive/MyDrive/Colab Notebooks/total_recambios_recambios_hasta_junio.csv\", decimal=\",\")"
      ],
      "metadata": {
        "id": "9hMNMNwItsom"
      },
      "execution_count": null,
      "outputs": []
    },
    {
      "cell_type": "code",
      "source": [
        "pd.options.display.max_columns = 0"
      ],
      "metadata": {
        "id": "4abUomV_P4r8"
      },
      "execution_count": null,
      "outputs": []
    },
    {
      "cell_type": "code",
      "source": [
        "df.head()"
      ],
      "metadata": {
        "colab": {
          "base_uri": "https://localhost:8080/",
          "height": 461
        },
        "id": "yVX4moUZPnud",
        "outputId": "2a937e1f-3ff6-45a5-e161-4211b555bcaa"
      },
      "execution_count": null,
      "outputs": [
        {
          "output_type": "execute_result",
          "data": {
            "text/plain": [
              "   Unnamed: 0  Unnamed: 0.1 Alma  ... Tipo.1 Famil           Bastidor\n",
              "0           0             0    1  ...     7V   AL8  WVWZZZ1KZ9W487026\n",
              "1           1             1    1  ...     7V   ALH  WVWZZZ1KZ9W487026\n",
              "2           2             2    1  ...     7V   AL7  WVWZZZ1KZ9W487026\n",
              "3           3             3    1  ...     7V   ANW  WVWZZZ1KZ9W487026\n",
              "4           4             4    1  ...     7V   ANW  WVWZZZ1KZ9W487026\n",
              "\n",
              "[5 rows x 28 columns]"
            ],
            "text/html": [
              "\n",
              "  <div id=\"df-65131076-8e26-4e3d-8759-9f0f14fc817c\">\n",
              "    <div class=\"colab-df-container\">\n",
              "      <div>\n",
              "<style scoped>\n",
              "    .dataframe tbody tr th:only-of-type {\n",
              "        vertical-align: middle;\n",
              "    }\n",
              "\n",
              "    .dataframe tbody tr th {\n",
              "        vertical-align: top;\n",
              "    }\n",
              "\n",
              "    .dataframe thead th {\n",
              "        text-align: right;\n",
              "    }\n",
              "</style>\n",
              "<table border=\"1\" class=\"dataframe\">\n",
              "  <thead>\n",
              "    <tr style=\"text-align: right;\">\n",
              "      <th></th>\n",
              "      <th>Unnamed: 0</th>\n",
              "      <th>Unnamed: 0.1</th>\n",
              "      <th>Alma</th>\n",
              "      <th>Cuenta</th>\n",
              "      <th>Refer.</th>\n",
              "      <th>Fec.sali</th>\n",
              "      <th>ArtÃ­culo</th>\n",
              "      <th>Clav</th>\n",
              "      <th>Denominacion</th>\n",
              "      <th>Canti</th>\n",
              "      <th>P.V.P.</th>\n",
              "      <th>Dto.</th>\n",
              "      <th>Neto</th>\n",
              "      <th>Costo</th>\n",
              "      <th>Beneficio</th>\n",
              "      <th>% Com</th>\n",
              "      <th>Comision</th>\n",
              "      <th>Fam.a</th>\n",
              "      <th>F.cierre</th>\n",
              "      <th>Tipo</th>\n",
              "      <th>Recep</th>\n",
              "      <th>P.V.P..1</th>\n",
              "      <th>TOTAL PVP</th>\n",
              "      <th>Opera</th>\n",
              "      <th>Nombre</th>\n",
              "      <th>Tipo.1</th>\n",
              "      <th>Famil</th>\n",
              "      <th>Bastidor</th>\n",
              "    </tr>\n",
              "  </thead>\n",
              "  <tbody>\n",
              "    <tr>\n",
              "      <th>0</th>\n",
              "      <td>0</td>\n",
              "      <td>0</td>\n",
              "      <td>1</td>\n",
              "      <td>98253</td>\n",
              "      <td>6522204.0</td>\n",
              "      <td>27/01/15</td>\n",
              "      <td>11/5K0807109M</td>\n",
              "      <td>6</td>\n",
              "      <td>REFUERZO 10</td>\n",
              "      <td>1.0</td>\n",
              "      <td>173.93</td>\n",
              "      <td>10.0</td>\n",
              "      <td>156.54</td>\n",
              "      <td>140.44</td>\n",
              "      <td>16.10</td>\n",
              "      <td>0.0</td>\n",
              "      <td>0.0</td>\n",
              "      <td>AL8</td>\n",
              "      <td>27/01/15</td>\n",
              "      <td>5V</td>\n",
              "      <td>85.0</td>\n",
              "      <td>214.00</td>\n",
              "      <td>214.0</td>\n",
              "      <td>1.0</td>\n",
              "      <td>MANUEL ESCUDERO GARCIA</td>\n",
              "      <td>7V</td>\n",
              "      <td>AL8</td>\n",
              "      <td>WVWZZZ1KZ9W487026</td>\n",
              "    </tr>\n",
              "    <tr>\n",
              "      <th>1</th>\n",
              "      <td>1</td>\n",
              "      <td>1</td>\n",
              "      <td>1</td>\n",
              "      <td>98253</td>\n",
              "      <td>6522204.0</td>\n",
              "      <td>27/01/15</td>\n",
              "      <td>11/5K0807217BLGRU</td>\n",
              "      <td>4</td>\n",
              "      <td>GUARNECID 10</td>\n",
              "      <td>1.0</td>\n",
              "      <td>316.39</td>\n",
              "      <td>10.0</td>\n",
              "      <td>284.75</td>\n",
              "      <td>186.05</td>\n",
              "      <td>98.70</td>\n",
              "      <td>0.0</td>\n",
              "      <td>0.0</td>\n",
              "      <td>ALH</td>\n",
              "      <td>27/01/15</td>\n",
              "      <td>5V</td>\n",
              "      <td>85.0</td>\n",
              "      <td>401.00</td>\n",
              "      <td>401.0</td>\n",
              "      <td>1.0</td>\n",
              "      <td>MANUEL ESCUDERO GARCIA</td>\n",
              "      <td>7V</td>\n",
              "      <td>ALH</td>\n",
              "      <td>WVWZZZ1KZ9W487026</td>\n",
              "    </tr>\n",
              "    <tr>\n",
              "      <th>2</th>\n",
              "      <td>2</td>\n",
              "      <td>2</td>\n",
              "      <td>1</td>\n",
              "      <td>98253</td>\n",
              "      <td>6522204.0</td>\n",
              "      <td>27/01/15</td>\n",
              "      <td>11/5K0807571J</td>\n",
              "      <td>6</td>\n",
              "      <td>GUIA 10</td>\n",
              "      <td>1.0</td>\n",
              "      <td>31.75</td>\n",
              "      <td>10.0</td>\n",
              "      <td>28.58</td>\n",
              "      <td>25.68</td>\n",
              "      <td>2.90</td>\n",
              "      <td>0.0</td>\n",
              "      <td>0.0</td>\n",
              "      <td>AL7</td>\n",
              "      <td>27/01/15</td>\n",
              "      <td>5V</td>\n",
              "      <td>85.0</td>\n",
              "      <td>45.40</td>\n",
              "      <td>45.4</td>\n",
              "      <td>1.0</td>\n",
              "      <td>MANUEL ESCUDERO GARCIA</td>\n",
              "      <td>7V</td>\n",
              "      <td>AL7</td>\n",
              "      <td>WVWZZZ1KZ9W487026</td>\n",
              "    </tr>\n",
              "    <tr>\n",
              "      <th>3</th>\n",
              "      <td>3</td>\n",
              "      <td>3</td>\n",
              "      <td>1</td>\n",
              "      <td>98253</td>\n",
              "      <td>6522204.0</td>\n",
              "      <td>27/01/15</td>\n",
              "      <td>11/5K0919491B</td>\n",
              "      <td>8</td>\n",
              "      <td>HALTER 10</td>\n",
              "      <td>2.0</td>\n",
              "      <td>13.60</td>\n",
              "      <td>10.0</td>\n",
              "      <td>12.24</td>\n",
              "      <td>12.66</td>\n",
              "      <td>-0.42</td>\n",
              "      <td>0.0</td>\n",
              "      <td>0.0</td>\n",
              "      <td>ANW</td>\n",
              "      <td>27/01/15</td>\n",
              "      <td>5V</td>\n",
              "      <td>85.0</td>\n",
              "      <td>11.15</td>\n",
              "      <td>22.3</td>\n",
              "      <td>1.0</td>\n",
              "      <td>MANUEL ESCUDERO GARCIA</td>\n",
              "      <td>7V</td>\n",
              "      <td>ANW</td>\n",
              "      <td>WVWZZZ1KZ9W487026</td>\n",
              "    </tr>\n",
              "    <tr>\n",
              "      <th>4</th>\n",
              "      <td>4</td>\n",
              "      <td>4</td>\n",
              "      <td>1</td>\n",
              "      <td>98253</td>\n",
              "      <td>6522204.0</td>\n",
              "      <td>27/01/15</td>\n",
              "      <td>11/5K0919493G</td>\n",
              "      <td>8</td>\n",
              "      <td>HALTER 10</td>\n",
              "      <td>2.0</td>\n",
              "      <td>13.60</td>\n",
              "      <td>10.0</td>\n",
              "      <td>12.24</td>\n",
              "      <td>12.54</td>\n",
              "      <td>-0.30</td>\n",
              "      <td>0.0</td>\n",
              "      <td>0.0</td>\n",
              "      <td>ANW</td>\n",
              "      <td>27/01/15</td>\n",
              "      <td>5V</td>\n",
              "      <td>85.0</td>\n",
              "      <td>11.15</td>\n",
              "      <td>22.3</td>\n",
              "      <td>1.0</td>\n",
              "      <td>MANUEL ESCUDERO GARCIA</td>\n",
              "      <td>7V</td>\n",
              "      <td>ANW</td>\n",
              "      <td>WVWZZZ1KZ9W487026</td>\n",
              "    </tr>\n",
              "  </tbody>\n",
              "</table>\n",
              "</div>\n",
              "      <button class=\"colab-df-convert\" onclick=\"convertToInteractive('df-65131076-8e26-4e3d-8759-9f0f14fc817c')\"\n",
              "              title=\"Convert this dataframe to an interactive table.\"\n",
              "              style=\"display:none;\">\n",
              "        \n",
              "  <svg xmlns=\"http://www.w3.org/2000/svg\" height=\"24px\"viewBox=\"0 0 24 24\"\n",
              "       width=\"24px\">\n",
              "    <path d=\"M0 0h24v24H0V0z\" fill=\"none\"/>\n",
              "    <path d=\"M18.56 5.44l.94 2.06.94-2.06 2.06-.94-2.06-.94-.94-2.06-.94 2.06-2.06.94zm-11 1L8.5 8.5l.94-2.06 2.06-.94-2.06-.94L8.5 2.5l-.94 2.06-2.06.94zm10 10l.94 2.06.94-2.06 2.06-.94-2.06-.94-.94-2.06-.94 2.06-2.06.94z\"/><path d=\"M17.41 7.96l-1.37-1.37c-.4-.4-.92-.59-1.43-.59-.52 0-1.04.2-1.43.59L10.3 9.45l-7.72 7.72c-.78.78-.78 2.05 0 2.83L4 21.41c.39.39.9.59 1.41.59.51 0 1.02-.2 1.41-.59l7.78-7.78 2.81-2.81c.8-.78.8-2.07 0-2.86zM5.41 20L4 18.59l7.72-7.72 1.47 1.35L5.41 20z\"/>\n",
              "  </svg>\n",
              "      </button>\n",
              "      \n",
              "  <style>\n",
              "    .colab-df-container {\n",
              "      display:flex;\n",
              "      flex-wrap:wrap;\n",
              "      gap: 12px;\n",
              "    }\n",
              "\n",
              "    .colab-df-convert {\n",
              "      background-color: #E8F0FE;\n",
              "      border: none;\n",
              "      border-radius: 50%;\n",
              "      cursor: pointer;\n",
              "      display: none;\n",
              "      fill: #1967D2;\n",
              "      height: 32px;\n",
              "      padding: 0 0 0 0;\n",
              "      width: 32px;\n",
              "    }\n",
              "\n",
              "    .colab-df-convert:hover {\n",
              "      background-color: #E2EBFA;\n",
              "      box-shadow: 0px 1px 2px rgba(60, 64, 67, 0.3), 0px 1px 3px 1px rgba(60, 64, 67, 0.15);\n",
              "      fill: #174EA6;\n",
              "    }\n",
              "\n",
              "    [theme=dark] .colab-df-convert {\n",
              "      background-color: #3B4455;\n",
              "      fill: #D2E3FC;\n",
              "    }\n",
              "\n",
              "    [theme=dark] .colab-df-convert:hover {\n",
              "      background-color: #434B5C;\n",
              "      box-shadow: 0px 1px 3px 1px rgba(0, 0, 0, 0.15);\n",
              "      filter: drop-shadow(0px 1px 2px rgba(0, 0, 0, 0.3));\n",
              "      fill: #FFFFFF;\n",
              "    }\n",
              "  </style>\n",
              "\n",
              "      <script>\n",
              "        const buttonEl =\n",
              "          document.querySelector('#df-65131076-8e26-4e3d-8759-9f0f14fc817c button.colab-df-convert');\n",
              "        buttonEl.style.display =\n",
              "          google.colab.kernel.accessAllowed ? 'block' : 'none';\n",
              "\n",
              "        async function convertToInteractive(key) {\n",
              "          const element = document.querySelector('#df-65131076-8e26-4e3d-8759-9f0f14fc817c');\n",
              "          const dataTable =\n",
              "            await google.colab.kernel.invokeFunction('convertToInteractive',\n",
              "                                                     [key], {});\n",
              "          if (!dataTable) return;\n",
              "\n",
              "          const docLinkHtml = 'Like what you see? Visit the ' +\n",
              "            '<a target=\"_blank\" href=https://colab.research.google.com/notebooks/data_table.ipynb>data table notebook</a>'\n",
              "            + ' to learn more about interactive tables.';\n",
              "          element.innerHTML = '';\n",
              "          dataTable['output_type'] = 'display_data';\n",
              "          await google.colab.output.renderOutput(dataTable, element);\n",
              "          const docLink = document.createElement('div');\n",
              "          docLink.innerHTML = docLinkHtml;\n",
              "          element.appendChild(docLink);\n",
              "        }\n",
              "      </script>\n",
              "    </div>\n",
              "  </div>\n",
              "  "
            ]
          },
          "metadata": {},
          "execution_count": 4
        }
      ]
    },
    {
      "cell_type": "code",
      "source": [
        "df.columns"
      ],
      "metadata": {
        "colab": {
          "base_uri": "https://localhost:8080/"
        },
        "id": "-rH3L0yoPyXn",
        "outputId": "6011a897-1abd-496c-e2cc-93f175c85646"
      },
      "execution_count": null,
      "outputs": [
        {
          "output_type": "execute_result",
          "data": {
            "text/plain": [
              "Index(['Unnamed: 0', 'Unnamed: 0.1', 'Alma', 'Cuenta', 'Refer.', 'Fec.sali',\n",
              "       'ArtÃ­culo', 'Clav', 'Denominacion', 'Canti', 'P.V.P.', 'Dto.', 'Neto',\n",
              "       'Costo', 'Beneficio', '% Com', 'Comision', 'Fam.a', 'F.cierre', 'Tipo',\n",
              "       'Recep', 'P.V.P..1', 'TOTAL PVP', 'Opera', 'Nombre', 'Tipo.1', 'Famil',\n",
              "       'Bastidor'],\n",
              "      dtype='object')"
            ]
          },
          "metadata": {},
          "execution_count": 5
        }
      ]
    },
    {
      "cell_type": "code",
      "source": [
        "df = df.rename(columns={\"Refer.\":\"Refer\", \"Fec.sali\": \"Fech_Salida\", \"ArtÃ­culo\":\"Articulo\", \"P.V.P.\": \"PVP\", \"Dto.\":\"Dto\", \"% Com\":\"COM\", \"Fam.a\":\"Famil_apr\", \"F.cierre\":\"Fech_cierre\",\n",
        "                        \"P.V.P..1\": \"PVP1\", \"TOTAL PVP\":\"TOTAL_PVP\",\"Tipo.1\": \"Tipo_venta\" })"
      ],
      "metadata": {
        "id": "SIJ8oYfSQCvo"
      },
      "execution_count": null,
      "outputs": []
    },
    {
      "cell_type": "code",
      "source": [
        "df.tail()"
      ],
      "metadata": {
        "colab": {
          "base_uri": "https://localhost:8080/",
          "height": 513
        },
        "id": "N7KrL46wSBx_",
        "outputId": "9272f6f0-7621-4ec7-b867-cd2f5ff9dc9b"
      },
      "execution_count": null,
      "outputs": [
        {
          "output_type": "execute_result",
          "data": {
            "text/plain": [
              "         Unnamed: 0  Unnamed: 0.1 Alma  ... Tipo_venta Famil           Bastidor\n",
              "1521887       96403         15376    9  ...         5V    MP  WVWZZZAUZLW905090\n",
              "1521888       96404         15377    9  ...         7V   ALS  WVWZZZAWZLY054759\n",
              "1521889       96405         15378    9  ...         7V   ANW  WVWZZZAWZLY054759\n",
              "1521890       96406         15379    9  ...         7V    VA  WVWZZZAWZLY054759\n",
              "1521891       96407         15380    9  ...         5V    MP  WVWZZZCDZMW303010\n",
              "\n",
              "[5 rows x 28 columns]"
            ],
            "text/html": [
              "\n",
              "  <div id=\"df-888a8e55-9f9f-484b-bb63-211ed027d2f3\">\n",
              "    <div class=\"colab-df-container\">\n",
              "      <div>\n",
              "<style scoped>\n",
              "    .dataframe tbody tr th:only-of-type {\n",
              "        vertical-align: middle;\n",
              "    }\n",
              "\n",
              "    .dataframe tbody tr th {\n",
              "        vertical-align: top;\n",
              "    }\n",
              "\n",
              "    .dataframe thead th {\n",
              "        text-align: right;\n",
              "    }\n",
              "</style>\n",
              "<table border=\"1\" class=\"dataframe\">\n",
              "  <thead>\n",
              "    <tr style=\"text-align: right;\">\n",
              "      <th></th>\n",
              "      <th>Unnamed: 0</th>\n",
              "      <th>Unnamed: 0.1</th>\n",
              "      <th>Alma</th>\n",
              "      <th>Cuenta</th>\n",
              "      <th>Refer</th>\n",
              "      <th>Fech_Salida</th>\n",
              "      <th>Articulo</th>\n",
              "      <th>Clav</th>\n",
              "      <th>Denominacion</th>\n",
              "      <th>Canti</th>\n",
              "      <th>PVP</th>\n",
              "      <th>Dto</th>\n",
              "      <th>Neto</th>\n",
              "      <th>Costo</th>\n",
              "      <th>Beneficio</th>\n",
              "      <th>COM</th>\n",
              "      <th>Comision</th>\n",
              "      <th>Famil_apr</th>\n",
              "      <th>Fech_cierre</th>\n",
              "      <th>Tipo</th>\n",
              "      <th>Recep</th>\n",
              "      <th>PVP1</th>\n",
              "      <th>TOTAL_PVP</th>\n",
              "      <th>Opera</th>\n",
              "      <th>Nombre</th>\n",
              "      <th>Tipo_venta</th>\n",
              "      <th>Famil</th>\n",
              "      <th>Bastidor</th>\n",
              "    </tr>\n",
              "  </thead>\n",
              "  <tbody>\n",
              "    <tr>\n",
              "      <th>1521887</th>\n",
              "      <td>96403</td>\n",
              "      <td>15376</td>\n",
              "      <td>9</td>\n",
              "      <td>610431</td>\n",
              "      <td>13828461.0</td>\n",
              "      <td>27/06/22</td>\n",
              "      <td>99/MPC</td>\n",
              "      <td>0</td>\n",
              "      <td>MATERIAL DE PINTURA</td>\n",
              "      <td>9000.0</td>\n",
              "      <td>90.00</td>\n",
              "      <td>NaN</td>\n",
              "      <td>90.00</td>\n",
              "      <td>90.00</td>\n",
              "      <td>0.00</td>\n",
              "      <td>0.0</td>\n",
              "      <td>0.0</td>\n",
              "      <td>0.0</td>\n",
              "      <td>2022-06-27</td>\n",
              "      <td>9A</td>\n",
              "      <td>796.0</td>\n",
              "      <td>0.01</td>\n",
              "      <td>90.00</td>\n",
              "      <td>151.0</td>\n",
              "      <td>JOSE DAVID NUÃEZ</td>\n",
              "      <td>5V</td>\n",
              "      <td>MP</td>\n",
              "      <td>WVWZZZAUZLW905090</td>\n",
              "    </tr>\n",
              "    <tr>\n",
              "      <th>1521888</th>\n",
              "      <td>96404</td>\n",
              "      <td>15377</td>\n",
              "      <td>9</td>\n",
              "      <td>104596</td>\n",
              "      <td>13830592.0</td>\n",
              "      <td>27/06/22</td>\n",
              "      <td>11/2G0845011T NVB</td>\n",
              "      <td>2</td>\n",
              "      <td>PARABRISAS Y10</td>\n",
              "      <td>1.0</td>\n",
              "      <td>294.00</td>\n",
              "      <td>10.0</td>\n",
              "      <td>264.60</td>\n",
              "      <td>141.12</td>\n",
              "      <td>123.48</td>\n",
              "      <td>0.0</td>\n",
              "      <td>0.0</td>\n",
              "      <td>0.0</td>\n",
              "      <td>2022-06-28</td>\n",
              "      <td>5V</td>\n",
              "      <td>679.0</td>\n",
              "      <td>294.00</td>\n",
              "      <td>294.00</td>\n",
              "      <td>70.0</td>\n",
              "      <td>JOSE CARLOS GALLARDO CARR</td>\n",
              "      <td>7V</td>\n",
              "      <td>ALS</td>\n",
              "      <td>WVWZZZAWZLY054759</td>\n",
              "    </tr>\n",
              "    <tr>\n",
              "      <th>1521889</th>\n",
              "      <td>96405</td>\n",
              "      <td>15378</td>\n",
              "      <td>9</td>\n",
              "      <td>104596</td>\n",
              "      <td>13830592.0</td>\n",
              "      <td>27/06/22</td>\n",
              "      <td>11/7N0955609</td>\n",
              "      <td>8</td>\n",
              "      <td>LAMINA GEL Y10</td>\n",
              "      <td>1.0</td>\n",
              "      <td>36.85</td>\n",
              "      <td>10.0</td>\n",
              "      <td>33.17</td>\n",
              "      <td>30.78</td>\n",
              "      <td>2.39</td>\n",
              "      <td>0.0</td>\n",
              "      <td>0.0</td>\n",
              "      <td>0.0</td>\n",
              "      <td>2022-06-28</td>\n",
              "      <td>5V</td>\n",
              "      <td>679.0</td>\n",
              "      <td>36.85</td>\n",
              "      <td>36.85</td>\n",
              "      <td>70.0</td>\n",
              "      <td>JOSE CARLOS GALLARDO CARR</td>\n",
              "      <td>7V</td>\n",
              "      <td>ANW</td>\n",
              "      <td>WVWZZZAWZLY054759</td>\n",
              "    </tr>\n",
              "    <tr>\n",
              "      <th>1521890</th>\n",
              "      <td>96406</td>\n",
              "      <td>15379</td>\n",
              "      <td>9</td>\n",
              "      <td>104596</td>\n",
              "      <td>13830592.0</td>\n",
              "      <td>27/06/22</td>\n",
              "      <td>99/D004660M</td>\n",
              "      <td>60</td>\n",
              "      <td>KIT LUNAS</td>\n",
              "      <td>1.0</td>\n",
              "      <td>54.17</td>\n",
              "      <td>10.0</td>\n",
              "      <td>48.75</td>\n",
              "      <td>14.27</td>\n",
              "      <td>34.48</td>\n",
              "      <td>0.0</td>\n",
              "      <td>0.0</td>\n",
              "      <td>0.0</td>\n",
              "      <td>2022-06-28</td>\n",
              "      <td>5V</td>\n",
              "      <td>679.0</td>\n",
              "      <td>54.17</td>\n",
              "      <td>54.17</td>\n",
              "      <td>70.0</td>\n",
              "      <td>JOSE CARLOS GALLARDO CARR</td>\n",
              "      <td>7V</td>\n",
              "      <td>VA</td>\n",
              "      <td>WVWZZZAWZLY054759</td>\n",
              "    </tr>\n",
              "    <tr>\n",
              "      <th>1521891</th>\n",
              "      <td>96407</td>\n",
              "      <td>15380</td>\n",
              "      <td>9</td>\n",
              "      <td>610624</td>\n",
              "      <td>13831741.0</td>\n",
              "      <td>29/06/22</td>\n",
              "      <td>99/MPC</td>\n",
              "      <td>0</td>\n",
              "      <td>MATERIAL DE PINTURA</td>\n",
              "      <td>1200.0</td>\n",
              "      <td>12.00</td>\n",
              "      <td>NaN</td>\n",
              "      <td>12.00</td>\n",
              "      <td>12.00</td>\n",
              "      <td>0.00</td>\n",
              "      <td>0.0</td>\n",
              "      <td>0.0</td>\n",
              "      <td>0.0</td>\n",
              "      <td>2022-06-29</td>\n",
              "      <td>9A</td>\n",
              "      <td>796.0</td>\n",
              "      <td>0.01</td>\n",
              "      <td>12.00</td>\n",
              "      <td>151.0</td>\n",
              "      <td>JOSE DAVID NUÃEZ</td>\n",
              "      <td>5V</td>\n",
              "      <td>MP</td>\n",
              "      <td>WVWZZZCDZMW303010</td>\n",
              "    </tr>\n",
              "  </tbody>\n",
              "</table>\n",
              "</div>\n",
              "      <button class=\"colab-df-convert\" onclick=\"convertToInteractive('df-888a8e55-9f9f-484b-bb63-211ed027d2f3')\"\n",
              "              title=\"Convert this dataframe to an interactive table.\"\n",
              "              style=\"display:none;\">\n",
              "        \n",
              "  <svg xmlns=\"http://www.w3.org/2000/svg\" height=\"24px\"viewBox=\"0 0 24 24\"\n",
              "       width=\"24px\">\n",
              "    <path d=\"M0 0h24v24H0V0z\" fill=\"none\"/>\n",
              "    <path d=\"M18.56 5.44l.94 2.06.94-2.06 2.06-.94-2.06-.94-.94-2.06-.94 2.06-2.06.94zm-11 1L8.5 8.5l.94-2.06 2.06-.94-2.06-.94L8.5 2.5l-.94 2.06-2.06.94zm10 10l.94 2.06.94-2.06 2.06-.94-2.06-.94-.94-2.06-.94 2.06-2.06.94z\"/><path d=\"M17.41 7.96l-1.37-1.37c-.4-.4-.92-.59-1.43-.59-.52 0-1.04.2-1.43.59L10.3 9.45l-7.72 7.72c-.78.78-.78 2.05 0 2.83L4 21.41c.39.39.9.59 1.41.59.51 0 1.02-.2 1.41-.59l7.78-7.78 2.81-2.81c.8-.78.8-2.07 0-2.86zM5.41 20L4 18.59l7.72-7.72 1.47 1.35L5.41 20z\"/>\n",
              "  </svg>\n",
              "      </button>\n",
              "      \n",
              "  <style>\n",
              "    .colab-df-container {\n",
              "      display:flex;\n",
              "      flex-wrap:wrap;\n",
              "      gap: 12px;\n",
              "    }\n",
              "\n",
              "    .colab-df-convert {\n",
              "      background-color: #E8F0FE;\n",
              "      border: none;\n",
              "      border-radius: 50%;\n",
              "      cursor: pointer;\n",
              "      display: none;\n",
              "      fill: #1967D2;\n",
              "      height: 32px;\n",
              "      padding: 0 0 0 0;\n",
              "      width: 32px;\n",
              "    }\n",
              "\n",
              "    .colab-df-convert:hover {\n",
              "      background-color: #E2EBFA;\n",
              "      box-shadow: 0px 1px 2px rgba(60, 64, 67, 0.3), 0px 1px 3px 1px rgba(60, 64, 67, 0.15);\n",
              "      fill: #174EA6;\n",
              "    }\n",
              "\n",
              "    [theme=dark] .colab-df-convert {\n",
              "      background-color: #3B4455;\n",
              "      fill: #D2E3FC;\n",
              "    }\n",
              "\n",
              "    [theme=dark] .colab-df-convert:hover {\n",
              "      background-color: #434B5C;\n",
              "      box-shadow: 0px 1px 3px 1px rgba(0, 0, 0, 0.15);\n",
              "      filter: drop-shadow(0px 1px 2px rgba(0, 0, 0, 0.3));\n",
              "      fill: #FFFFFF;\n",
              "    }\n",
              "  </style>\n",
              "\n",
              "      <script>\n",
              "        const buttonEl =\n",
              "          document.querySelector('#df-888a8e55-9f9f-484b-bb63-211ed027d2f3 button.colab-df-convert');\n",
              "        buttonEl.style.display =\n",
              "          google.colab.kernel.accessAllowed ? 'block' : 'none';\n",
              "\n",
              "        async function convertToInteractive(key) {\n",
              "          const element = document.querySelector('#df-888a8e55-9f9f-484b-bb63-211ed027d2f3');\n",
              "          const dataTable =\n",
              "            await google.colab.kernel.invokeFunction('convertToInteractive',\n",
              "                                                     [key], {});\n",
              "          if (!dataTable) return;\n",
              "\n",
              "          const docLinkHtml = 'Like what you see? Visit the ' +\n",
              "            '<a target=\"_blank\" href=https://colab.research.google.com/notebooks/data_table.ipynb>data table notebook</a>'\n",
              "            + ' to learn more about interactive tables.';\n",
              "          element.innerHTML = '';\n",
              "          dataTable['output_type'] = 'display_data';\n",
              "          await google.colab.output.renderOutput(dataTable, element);\n",
              "          const docLink = document.createElement('div');\n",
              "          docLink.innerHTML = docLinkHtml;\n",
              "          element.appendChild(docLink);\n",
              "        }\n",
              "      </script>\n",
              "    </div>\n",
              "  </div>\n",
              "  "
            ]
          },
          "metadata": {},
          "execution_count": 42
        }
      ]
    },
    {
      "cell_type": "code",
      "source": [
        "df.isnull().sum()"
      ],
      "metadata": {
        "colab": {
          "base_uri": "https://localhost:8080/"
        },
        "id": "kcfazesvW-Pg",
        "outputId": "38f8829c-9749-4b9c-ca2b-98c5a2d9f6ce"
      },
      "execution_count": null,
      "outputs": [
        {
          "output_type": "execute_result",
          "data": {
            "text/plain": [
              "Unnamed: 0           0\n",
              "Unnamed: 0.1         0\n",
              "Alma             33879\n",
              "Cuenta           36673\n",
              "Refer            36673\n",
              "Fech_Salida      36681\n",
              "Articulo         36673\n",
              "Clav            148627\n",
              "Denominacion     36674\n",
              "Canti            36674\n",
              "PVP              33872\n",
              "Dto             569407\n",
              "Neto             33872\n",
              "Costo            33879\n",
              "Beneficio        33871\n",
              "COM              36673\n",
              "Comision         33879\n",
              "Famil_apr       147425\n",
              "Fech_cierre      36673\n",
              "Tipo             36673\n",
              "Recep            36673\n",
              "PVP1             36673\n",
              "TOTAL_PVP        36673\n",
              "Opera            37021\n",
              "Nombre           37025\n",
              "Tipo_venta       36673\n",
              "Famil            36687\n",
              "Bastidor         36810\n",
              "dtype: int64"
            ]
          },
          "metadata": {},
          "execution_count": 8
        }
      ]
    },
    {
      "cell_type": "code",
      "source": [
        "df = df[~df.Cuenta.isnull()]"
      ],
      "metadata": {
        "id": "WQAYoqxvXtEV"
      },
      "execution_count": null,
      "outputs": []
    },
    {
      "cell_type": "code",
      "source": [
        "df.isnull().sum()"
      ],
      "metadata": {
        "colab": {
          "base_uri": "https://localhost:8080/"
        },
        "id": "y5n83htbX5wH",
        "outputId": "998d79a5-166a-487a-d1fe-33e1014f6f85"
      },
      "execution_count": null,
      "outputs": [
        {
          "output_type": "execute_result",
          "data": {
            "text/plain": [
              "Unnamed: 0           0\n",
              "Unnamed: 0.1         0\n",
              "Alma                 0\n",
              "Cuenta               0\n",
              "Refer                0\n",
              "Fech_Salida          8\n",
              "Articulo             0\n",
              "Clav            111954\n",
              "Denominacion         1\n",
              "Canti              206\n",
              "PVP                  0\n",
              "Dto             558282\n",
              "Neto                 0\n",
              "Costo                0\n",
              "Beneficio            0\n",
              "COM                  0\n",
              "Comision             0\n",
              "Famil_apr       110752\n",
              "Fech_cierre          0\n",
              "Tipo                 0\n",
              "Recep                0\n",
              "PVP1                 0\n",
              "TOTAL_PVP            0\n",
              "Opera              348\n",
              "Nombre             352\n",
              "Tipo_venta           0\n",
              "Famil               14\n",
              "Bastidor           137\n",
              "dtype: int64"
            ]
          },
          "metadata": {},
          "execution_count": 10
        }
      ]
    },
    {
      "cell_type": "code",
      "source": [
        "df.columns"
      ],
      "metadata": {
        "colab": {
          "base_uri": "https://localhost:8080/"
        },
        "id": "3mE_50AlS73L",
        "outputId": "d94db8fd-fe31-48c9-cf51-a54e3d54666f"
      },
      "execution_count": null,
      "outputs": [
        {
          "output_type": "execute_result",
          "data": {
            "text/plain": [
              "Index(['Unnamed: 0', 'Unnamed: 0.1', 'Alma', 'Cuenta', 'Refer', 'Fech_Salida',\n",
              "       'Articulo', 'Clav', 'Denominacion', 'Canti', 'PVP', 'Dto', 'Neto',\n",
              "       'Costo', 'Beneficio', 'COM', 'Comision', 'Famil_apr', 'Fech_cierre',\n",
              "       'Tipo', 'Recep', 'PVP1', 'TOTAL_PVP', 'Opera', 'Nombre', 'Tipo_venta',\n",
              "       'Famil', 'Bastidor'],\n",
              "      dtype='object')"
            ]
          },
          "metadata": {},
          "execution_count": 11
        }
      ]
    },
    {
      "cell_type": "code",
      "source": [
        "# lo primero que voy a hacer es cambiar de tipo de datos. \n",
        "df[\"Alma\"] = df[\"Alma\"].apply(str)\n",
        "df[\"Cuenta\"] = df[\"Cuenta\"].apply(str)\n",
        "df[\"Refer\"] = df[\"Refer\"].apply(str)\n",
        "df[\"Fech_cierre\"] = pd.to_datetime(df[\"Fech_cierre\"])\n",
        "df[\"Articulo\"] = df[\"Articulo\"].apply(str)\n",
        "df[\"Clav\"] = df[\"Clav\"].apply(str)\n",
        "df[\"Denominacion\"] = df[\"Denominacion\"].apply(str)\n",
        "df[\"Canti\"] = df[\"Canti\"].apply(float)\n",
        "df[\"PVP\"] = df[\"PVP\"].apply(float)\n",
        "df[\"Dto\"] = df[\"Dto\"].apply(float)\n",
        "df[\"Neto\"] = df[\"Neto\"].apply(float)\n",
        "df[\"Costo\"] = df[\"Costo\"].apply(float)\n",
        "df[\"Beneficio\"] = df[\"Beneficio\"].apply(float)\n",
        "df[\"COM\"] = df[\"COM\"].apply(float)\n",
        "df[\"Comision\"] = df[\"Comision\"].apply(float)\n",
        "df[\"Famil_apr\"] = df[\"COM\"].apply(str)\n",
        "df[\"Tipo\"] = df[\"Tipo\"].apply(str)\n",
        "df[\"Recep\"] = df[\"Recep\"].apply(str)\n",
        "df[\"PVP1\"] = df[\"PVP1\"].apply(float)\n",
        "df[\"TOTAL_PVP\"] = df[\"TOTAL_PVP\"].apply(float)\n",
        "df[\"Opera\"] = df[\"Opera\"].apply(str)\n",
        "df[\"Nombre\"] = df[\"Nombre\"].apply(str)\n",
        "df[\"Tipo_venta\"] = df[\"Tipo_venta\"].apply(str)\n",
        "df[\"Famil\"] = df[\"Famil\"].apply(str)\n",
        "df[\"Bastidor\"] = df[\"Bastidor\"].apply(str)"
      ],
      "metadata": {
        "id": "2KOW2VloTDRq"
      },
      "execution_count": null,
      "outputs": []
    },
    {
      "cell_type": "code",
      "source": [
        "df.Fech_cierre.value_counts()"
      ],
      "metadata": {
        "colab": {
          "base_uri": "https://localhost:8080/"
        },
        "id": "FAFn6RDznYmi",
        "outputId": "ff66005b-2620-4c64-acc3-bf3255232204"
      },
      "execution_count": null,
      "outputs": [
        {
          "output_type": "execute_result",
          "data": {
            "text/plain": [
              "2016-07-29    5440\n",
              "2018-02-28    5074\n",
              "2016-05-31    4422\n",
              "2016-09-30    4143\n",
              "2018-05-31    3788\n",
              "              ... \n",
              "2020-08-03       1\n",
              "2018-09-09       1\n",
              "2018-07-07       1\n",
              "2019-02-02       1\n",
              "2017-03-06       1\n",
              "Name: Fech_cierre, Length: 1911, dtype: int64"
            ]
          },
          "metadata": {},
          "execution_count": 44
        }
      ]
    },
    {
      "cell_type": "code",
      "source": [
        "print(\"la fecha va desde {} a {}\".format(df.Fech_cierre.min(), df.Fech_cierre.max()))"
      ],
      "metadata": {
        "colab": {
          "base_uri": "https://localhost:8080/"
        },
        "id": "fIT-_vwig3Ip",
        "outputId": "69549d65-93c5-4265-b954-d1b12141fcec"
      },
      "execution_count": null,
      "outputs": [
        {
          "output_type": "stream",
          "name": "stdout",
          "text": [
            "la fecha va desde 2015-01-04 00:00:00 a 2022-12-05 00:00:00\n"
          ]
        }
      ]
    },
    {
      "cell_type": "code",
      "source": [
        ""
      ],
      "metadata": {
        "id": "5WyhVaZriqeD"
      },
      "execution_count": null,
      "outputs": []
    },
    {
      "cell_type": "code",
      "source": [
        "df.info()"
      ],
      "metadata": {
        "colab": {
          "base_uri": "https://localhost:8080/"
        },
        "id": "OpHbJkM6VDGi",
        "outputId": "19c39666-a344-4b69-dd93-ee97d9030e9e"
      },
      "execution_count": null,
      "outputs": [
        {
          "output_type": "stream",
          "name": "stdout",
          "text": [
            "<class 'pandas.core.frame.DataFrame'>\n",
            "Int64Index: 1485224 entries, 0 to 1521891\n",
            "Data columns (total 28 columns):\n",
            " #   Column        Non-Null Count    Dtype         \n",
            "---  ------        --------------    -----         \n",
            " 0   Unnamed: 0    1485224 non-null  int64         \n",
            " 1   Unnamed: 0.1  1485224 non-null  int64         \n",
            " 2   Alma          1485224 non-null  object        \n",
            " 3   Cuenta        1485224 non-null  object        \n",
            " 4   Refer         1485224 non-null  object        \n",
            " 5   Fech_Salida   1485216 non-null  object        \n",
            " 6   Articulo      1485224 non-null  object        \n",
            " 7   Clav          1485224 non-null  object        \n",
            " 8   Denominacion  1485224 non-null  object        \n",
            " 9   Canti         1485018 non-null  float64       \n",
            " 10  PVP           1485224 non-null  float64       \n",
            " 11  Dto           926942 non-null   float64       \n",
            " 12  Neto          1485224 non-null  float64       \n",
            " 13  Costo         1485224 non-null  float64       \n",
            " 14  Beneficio     1485224 non-null  float64       \n",
            " 15  COM           1485224 non-null  float64       \n",
            " 16  Comision      1485224 non-null  float64       \n",
            " 17  Famil_apr     1485224 non-null  object        \n",
            " 18  Fech_cierre   1485224 non-null  datetime64[ns]\n",
            " 19  Tipo          1485224 non-null  object        \n",
            " 20  Recep         1485224 non-null  object        \n",
            " 21  PVP1          1485224 non-null  float64       \n",
            " 22  TOTAL_PVP     1485224 non-null  float64       \n",
            " 23  Opera         1485224 non-null  object        \n",
            " 24  Nombre        1485224 non-null  object        \n",
            " 25  Tipo_venta    1485224 non-null  object        \n",
            " 26  Famil         1485224 non-null  object        \n",
            " 27  Bastidor      1485224 non-null  object        \n",
            "dtypes: datetime64[ns](1), float64(10), int64(2), object(15)\n",
            "memory usage: 328.6+ MB\n"
          ]
        }
      ]
    },
    {
      "cell_type": "code",
      "source": [
        "df.columns"
      ],
      "metadata": {
        "colab": {
          "base_uri": "https://localhost:8080/"
        },
        "id": "ca8bC0arVEcz",
        "outputId": "113b0075-9ebf-4fd3-ac40-d525b5c22ed7"
      },
      "execution_count": null,
      "outputs": [
        {
          "output_type": "execute_result",
          "data": {
            "text/plain": [
              "Index(['Unnamed: 0', 'Unnamed: 0.1', 'Alma', 'Cuenta', 'Refer', 'Fech_Salida',\n",
              "       'Articulo', 'Clav', 'Denominacion', 'Canti', 'PVP', 'Dto', 'Neto',\n",
              "       'Costo', 'Beneficio', 'COM', 'Comision', 'Famil_apr', 'Fech_cierre',\n",
              "       'Tipo', 'Recep', 'PVP1', 'TOTAL_PVP', 'Opera', 'Nombre', 'Tipo_venta',\n",
              "       'Famil', 'Bastidor'],\n",
              "      dtype='object')"
            ]
          },
          "metadata": {},
          "execution_count": 18
        }
      ]
    },
    {
      "cell_type": "code",
      "source": [
        "df.head(2)"
      ],
      "metadata": {
        "colab": {
          "base_uri": "https://localhost:8080/",
          "height": 263
        },
        "id": "mF8gk1s3azpu",
        "outputId": "ff5c1b8f-9314-4882-b34f-1ae668081eb6"
      },
      "execution_count": null,
      "outputs": [
        {
          "output_type": "execute_result",
          "data": {
            "text/plain": [
              "   Unnamed: 0  Unnamed: 0.1 Alma  ... Tipo_venta Famil           Bastidor\n",
              "0           0             0    1  ...         7V   AL8  WVWZZZ1KZ9W487026\n",
              "1           1             1    1  ...         7V   ALH  WVWZZZ1KZ9W487026\n",
              "\n",
              "[2 rows x 28 columns]"
            ],
            "text/html": [
              "\n",
              "  <div id=\"df-9ac2fc3c-e193-4259-be66-9ae4de370f0e\">\n",
              "    <div class=\"colab-df-container\">\n",
              "      <div>\n",
              "<style scoped>\n",
              "    .dataframe tbody tr th:only-of-type {\n",
              "        vertical-align: middle;\n",
              "    }\n",
              "\n",
              "    .dataframe tbody tr th {\n",
              "        vertical-align: top;\n",
              "    }\n",
              "\n",
              "    .dataframe thead th {\n",
              "        text-align: right;\n",
              "    }\n",
              "</style>\n",
              "<table border=\"1\" class=\"dataframe\">\n",
              "  <thead>\n",
              "    <tr style=\"text-align: right;\">\n",
              "      <th></th>\n",
              "      <th>Unnamed: 0</th>\n",
              "      <th>Unnamed: 0.1</th>\n",
              "      <th>Alma</th>\n",
              "      <th>Cuenta</th>\n",
              "      <th>Refer</th>\n",
              "      <th>Fech_Salida</th>\n",
              "      <th>Articulo</th>\n",
              "      <th>Clav</th>\n",
              "      <th>Denominacion</th>\n",
              "      <th>Canti</th>\n",
              "      <th>PVP</th>\n",
              "      <th>Dto</th>\n",
              "      <th>Neto</th>\n",
              "      <th>Costo</th>\n",
              "      <th>Beneficio</th>\n",
              "      <th>COM</th>\n",
              "      <th>Comision</th>\n",
              "      <th>Famil_apr</th>\n",
              "      <th>Fech_cierre</th>\n",
              "      <th>Tipo</th>\n",
              "      <th>Recep</th>\n",
              "      <th>PVP1</th>\n",
              "      <th>TOTAL_PVP</th>\n",
              "      <th>Opera</th>\n",
              "      <th>Nombre</th>\n",
              "      <th>Tipo_venta</th>\n",
              "      <th>Famil</th>\n",
              "      <th>Bastidor</th>\n",
              "    </tr>\n",
              "  </thead>\n",
              "  <tbody>\n",
              "    <tr>\n",
              "      <th>0</th>\n",
              "      <td>0</td>\n",
              "      <td>0</td>\n",
              "      <td>1</td>\n",
              "      <td>98253</td>\n",
              "      <td>6522204.0</td>\n",
              "      <td>27/01/15</td>\n",
              "      <td>11/5K0807109M</td>\n",
              "      <td>6</td>\n",
              "      <td>REFUERZO 10</td>\n",
              "      <td>1.0</td>\n",
              "      <td>173.93</td>\n",
              "      <td>10.0</td>\n",
              "      <td>156.54</td>\n",
              "      <td>140.44</td>\n",
              "      <td>16.1</td>\n",
              "      <td>0.0</td>\n",
              "      <td>0.0</td>\n",
              "      <td>0.0</td>\n",
              "      <td>2015-01-27</td>\n",
              "      <td>5V</td>\n",
              "      <td>85.0</td>\n",
              "      <td>214.0</td>\n",
              "      <td>214.0</td>\n",
              "      <td>1.0</td>\n",
              "      <td>MANUEL ESCUDERO GARCIA</td>\n",
              "      <td>7V</td>\n",
              "      <td>AL8</td>\n",
              "      <td>WVWZZZ1KZ9W487026</td>\n",
              "    </tr>\n",
              "    <tr>\n",
              "      <th>1</th>\n",
              "      <td>1</td>\n",
              "      <td>1</td>\n",
              "      <td>1</td>\n",
              "      <td>98253</td>\n",
              "      <td>6522204.0</td>\n",
              "      <td>27/01/15</td>\n",
              "      <td>11/5K0807217BLGRU</td>\n",
              "      <td>4</td>\n",
              "      <td>GUARNECID 10</td>\n",
              "      <td>1.0</td>\n",
              "      <td>316.39</td>\n",
              "      <td>10.0</td>\n",
              "      <td>284.75</td>\n",
              "      <td>186.05</td>\n",
              "      <td>98.7</td>\n",
              "      <td>0.0</td>\n",
              "      <td>0.0</td>\n",
              "      <td>0.0</td>\n",
              "      <td>2015-01-27</td>\n",
              "      <td>5V</td>\n",
              "      <td>85.0</td>\n",
              "      <td>401.0</td>\n",
              "      <td>401.0</td>\n",
              "      <td>1.0</td>\n",
              "      <td>MANUEL ESCUDERO GARCIA</td>\n",
              "      <td>7V</td>\n",
              "      <td>ALH</td>\n",
              "      <td>WVWZZZ1KZ9W487026</td>\n",
              "    </tr>\n",
              "  </tbody>\n",
              "</table>\n",
              "</div>\n",
              "      <button class=\"colab-df-convert\" onclick=\"convertToInteractive('df-9ac2fc3c-e193-4259-be66-9ae4de370f0e')\"\n",
              "              title=\"Convert this dataframe to an interactive table.\"\n",
              "              style=\"display:none;\">\n",
              "        \n",
              "  <svg xmlns=\"http://www.w3.org/2000/svg\" height=\"24px\"viewBox=\"0 0 24 24\"\n",
              "       width=\"24px\">\n",
              "    <path d=\"M0 0h24v24H0V0z\" fill=\"none\"/>\n",
              "    <path d=\"M18.56 5.44l.94 2.06.94-2.06 2.06-.94-2.06-.94-.94-2.06-.94 2.06-2.06.94zm-11 1L8.5 8.5l.94-2.06 2.06-.94-2.06-.94L8.5 2.5l-.94 2.06-2.06.94zm10 10l.94 2.06.94-2.06 2.06-.94-2.06-.94-.94-2.06-.94 2.06-2.06.94z\"/><path d=\"M17.41 7.96l-1.37-1.37c-.4-.4-.92-.59-1.43-.59-.52 0-1.04.2-1.43.59L10.3 9.45l-7.72 7.72c-.78.78-.78 2.05 0 2.83L4 21.41c.39.39.9.59 1.41.59.51 0 1.02-.2 1.41-.59l7.78-7.78 2.81-2.81c.8-.78.8-2.07 0-2.86zM5.41 20L4 18.59l7.72-7.72 1.47 1.35L5.41 20z\"/>\n",
              "  </svg>\n",
              "      </button>\n",
              "      \n",
              "  <style>\n",
              "    .colab-df-container {\n",
              "      display:flex;\n",
              "      flex-wrap:wrap;\n",
              "      gap: 12px;\n",
              "    }\n",
              "\n",
              "    .colab-df-convert {\n",
              "      background-color: #E8F0FE;\n",
              "      border: none;\n",
              "      border-radius: 50%;\n",
              "      cursor: pointer;\n",
              "      display: none;\n",
              "      fill: #1967D2;\n",
              "      height: 32px;\n",
              "      padding: 0 0 0 0;\n",
              "      width: 32px;\n",
              "    }\n",
              "\n",
              "    .colab-df-convert:hover {\n",
              "      background-color: #E2EBFA;\n",
              "      box-shadow: 0px 1px 2px rgba(60, 64, 67, 0.3), 0px 1px 3px 1px rgba(60, 64, 67, 0.15);\n",
              "      fill: #174EA6;\n",
              "    }\n",
              "\n",
              "    [theme=dark] .colab-df-convert {\n",
              "      background-color: #3B4455;\n",
              "      fill: #D2E3FC;\n",
              "    }\n",
              "\n",
              "    [theme=dark] .colab-df-convert:hover {\n",
              "      background-color: #434B5C;\n",
              "      box-shadow: 0px 1px 3px 1px rgba(0, 0, 0, 0.15);\n",
              "      filter: drop-shadow(0px 1px 2px rgba(0, 0, 0, 0.3));\n",
              "      fill: #FFFFFF;\n",
              "    }\n",
              "  </style>\n",
              "\n",
              "      <script>\n",
              "        const buttonEl =\n",
              "          document.querySelector('#df-9ac2fc3c-e193-4259-be66-9ae4de370f0e button.colab-df-convert');\n",
              "        buttonEl.style.display =\n",
              "          google.colab.kernel.accessAllowed ? 'block' : 'none';\n",
              "\n",
              "        async function convertToInteractive(key) {\n",
              "          const element = document.querySelector('#df-9ac2fc3c-e193-4259-be66-9ae4de370f0e');\n",
              "          const dataTable =\n",
              "            await google.colab.kernel.invokeFunction('convertToInteractive',\n",
              "                                                     [key], {});\n",
              "          if (!dataTable) return;\n",
              "\n",
              "          const docLinkHtml = 'Like what you see? Visit the ' +\n",
              "            '<a target=\"_blank\" href=https://colab.research.google.com/notebooks/data_table.ipynb>data table notebook</a>'\n",
              "            + ' to learn more about interactive tables.';\n",
              "          element.innerHTML = '';\n",
              "          dataTable['output_type'] = 'display_data';\n",
              "          await google.colab.output.renderOutput(dataTable, element);\n",
              "          const docLink = document.createElement('div');\n",
              "          docLink.innerHTML = docLinkHtml;\n",
              "          element.appendChild(docLink);\n",
              "        }\n",
              "      </script>\n",
              "    </div>\n",
              "  </div>\n",
              "  "
            ]
          },
          "metadata": {},
          "execution_count": 19
        }
      ]
    },
    {
      "cell_type": "code",
      "source": [
        "mis_columnas = [\"Alma\", \"Refer\", \"Clav\", \"Canti\", \"PVP\", \"Fech_cierre\", \"Opera\", \"Tipo_venta\", \"Famil\", \"Bastidor\" ]"
      ],
      "metadata": {
        "id": "Pf7WAkOJag_J"
      },
      "execution_count": null,
      "outputs": []
    },
    {
      "cell_type": "code",
      "source": [
        "df2 = df[mis_columnas]\n",
        "df2.head(2)"
      ],
      "metadata": {
        "colab": {
          "base_uri": "https://localhost:8080/",
          "height": 112
        },
        "id": "-y2hRbXmbp36",
        "outputId": "f62ef300-9368-4f7d-f760-3b8528c8b7f0"
      },
      "execution_count": null,
      "outputs": [
        {
          "output_type": "execute_result",
          "data": {
            "text/plain": [
              "  Alma      Refer Clav  Canti  ...  Opera Tipo_venta Famil           Bastidor\n",
              "0    1  6522204.0    6    1.0  ...    1.0         7V   AL8  WVWZZZ1KZ9W487026\n",
              "1    1  6522204.0    4    1.0  ...    1.0         7V   ALH  WVWZZZ1KZ9W487026\n",
              "\n",
              "[2 rows x 10 columns]"
            ],
            "text/html": [
              "\n",
              "  <div id=\"df-bf2218f6-234f-4f79-84de-c540a9dd8ac5\">\n",
              "    <div class=\"colab-df-container\">\n",
              "      <div>\n",
              "<style scoped>\n",
              "    .dataframe tbody tr th:only-of-type {\n",
              "        vertical-align: middle;\n",
              "    }\n",
              "\n",
              "    .dataframe tbody tr th {\n",
              "        vertical-align: top;\n",
              "    }\n",
              "\n",
              "    .dataframe thead th {\n",
              "        text-align: right;\n",
              "    }\n",
              "</style>\n",
              "<table border=\"1\" class=\"dataframe\">\n",
              "  <thead>\n",
              "    <tr style=\"text-align: right;\">\n",
              "      <th></th>\n",
              "      <th>Alma</th>\n",
              "      <th>Refer</th>\n",
              "      <th>Clav</th>\n",
              "      <th>Canti</th>\n",
              "      <th>PVP</th>\n",
              "      <th>Fech_cierre</th>\n",
              "      <th>Opera</th>\n",
              "      <th>Tipo_venta</th>\n",
              "      <th>Famil</th>\n",
              "      <th>Bastidor</th>\n",
              "    </tr>\n",
              "  </thead>\n",
              "  <tbody>\n",
              "    <tr>\n",
              "      <th>0</th>\n",
              "      <td>1</td>\n",
              "      <td>6522204.0</td>\n",
              "      <td>6</td>\n",
              "      <td>1.0</td>\n",
              "      <td>173.93</td>\n",
              "      <td>2015-01-27</td>\n",
              "      <td>1.0</td>\n",
              "      <td>7V</td>\n",
              "      <td>AL8</td>\n",
              "      <td>WVWZZZ1KZ9W487026</td>\n",
              "    </tr>\n",
              "    <tr>\n",
              "      <th>1</th>\n",
              "      <td>1</td>\n",
              "      <td>6522204.0</td>\n",
              "      <td>4</td>\n",
              "      <td>1.0</td>\n",
              "      <td>316.39</td>\n",
              "      <td>2015-01-27</td>\n",
              "      <td>1.0</td>\n",
              "      <td>7V</td>\n",
              "      <td>ALH</td>\n",
              "      <td>WVWZZZ1KZ9W487026</td>\n",
              "    </tr>\n",
              "  </tbody>\n",
              "</table>\n",
              "</div>\n",
              "      <button class=\"colab-df-convert\" onclick=\"convertToInteractive('df-bf2218f6-234f-4f79-84de-c540a9dd8ac5')\"\n",
              "              title=\"Convert this dataframe to an interactive table.\"\n",
              "              style=\"display:none;\">\n",
              "        \n",
              "  <svg xmlns=\"http://www.w3.org/2000/svg\" height=\"24px\"viewBox=\"0 0 24 24\"\n",
              "       width=\"24px\">\n",
              "    <path d=\"M0 0h24v24H0V0z\" fill=\"none\"/>\n",
              "    <path d=\"M18.56 5.44l.94 2.06.94-2.06 2.06-.94-2.06-.94-.94-2.06-.94 2.06-2.06.94zm-11 1L8.5 8.5l.94-2.06 2.06-.94-2.06-.94L8.5 2.5l-.94 2.06-2.06.94zm10 10l.94 2.06.94-2.06 2.06-.94-2.06-.94-.94-2.06-.94 2.06-2.06.94z\"/><path d=\"M17.41 7.96l-1.37-1.37c-.4-.4-.92-.59-1.43-.59-.52 0-1.04.2-1.43.59L10.3 9.45l-7.72 7.72c-.78.78-.78 2.05 0 2.83L4 21.41c.39.39.9.59 1.41.59.51 0 1.02-.2 1.41-.59l7.78-7.78 2.81-2.81c.8-.78.8-2.07 0-2.86zM5.41 20L4 18.59l7.72-7.72 1.47 1.35L5.41 20z\"/>\n",
              "  </svg>\n",
              "      </button>\n",
              "      \n",
              "  <style>\n",
              "    .colab-df-container {\n",
              "      display:flex;\n",
              "      flex-wrap:wrap;\n",
              "      gap: 12px;\n",
              "    }\n",
              "\n",
              "    .colab-df-convert {\n",
              "      background-color: #E8F0FE;\n",
              "      border: none;\n",
              "      border-radius: 50%;\n",
              "      cursor: pointer;\n",
              "      display: none;\n",
              "      fill: #1967D2;\n",
              "      height: 32px;\n",
              "      padding: 0 0 0 0;\n",
              "      width: 32px;\n",
              "    }\n",
              "\n",
              "    .colab-df-convert:hover {\n",
              "      background-color: #E2EBFA;\n",
              "      box-shadow: 0px 1px 2px rgba(60, 64, 67, 0.3), 0px 1px 3px 1px rgba(60, 64, 67, 0.15);\n",
              "      fill: #174EA6;\n",
              "    }\n",
              "\n",
              "    [theme=dark] .colab-df-convert {\n",
              "      background-color: #3B4455;\n",
              "      fill: #D2E3FC;\n",
              "    }\n",
              "\n",
              "    [theme=dark] .colab-df-convert:hover {\n",
              "      background-color: #434B5C;\n",
              "      box-shadow: 0px 1px 3px 1px rgba(0, 0, 0, 0.15);\n",
              "      filter: drop-shadow(0px 1px 2px rgba(0, 0, 0, 0.3));\n",
              "      fill: #FFFFFF;\n",
              "    }\n",
              "  </style>\n",
              "\n",
              "      <script>\n",
              "        const buttonEl =\n",
              "          document.querySelector('#df-bf2218f6-234f-4f79-84de-c540a9dd8ac5 button.colab-df-convert');\n",
              "        buttonEl.style.display =\n",
              "          google.colab.kernel.accessAllowed ? 'block' : 'none';\n",
              "\n",
              "        async function convertToInteractive(key) {\n",
              "          const element = document.querySelector('#df-bf2218f6-234f-4f79-84de-c540a9dd8ac5');\n",
              "          const dataTable =\n",
              "            await google.colab.kernel.invokeFunction('convertToInteractive',\n",
              "                                                     [key], {});\n",
              "          if (!dataTable) return;\n",
              "\n",
              "          const docLinkHtml = 'Like what you see? Visit the ' +\n",
              "            '<a target=\"_blank\" href=https://colab.research.google.com/notebooks/data_table.ipynb>data table notebook</a>'\n",
              "            + ' to learn more about interactive tables.';\n",
              "          element.innerHTML = '';\n",
              "          dataTable['output_type'] = 'display_data';\n",
              "          await google.colab.output.renderOutput(dataTable, element);\n",
              "          const docLink = document.createElement('div');\n",
              "          docLink.innerHTML = docLinkHtml;\n",
              "          element.appendChild(docLink);\n",
              "        }\n",
              "      </script>\n",
              "    </div>\n",
              "  </div>\n",
              "  "
            ]
          },
          "metadata": {},
          "execution_count": 21
        }
      ]
    },
    {
      "cell_type": "code",
      "source": [
        "df2.shape"
      ],
      "metadata": {
        "colab": {
          "base_uri": "https://localhost:8080/"
        },
        "id": "6EHFNj2Xbva1",
        "outputId": "01274e30-f759-4d4e-89b4-07bb91dc1d41"
      },
      "execution_count": null,
      "outputs": [
        {
          "output_type": "execute_result",
          "data": {
            "text/plain": [
              "(1485224, 10)"
            ]
          },
          "metadata": {},
          "execution_count": 22
        }
      ]
    },
    {
      "cell_type": "code",
      "source": [
        "df2['Refer2'] = df.apply(lambda x: x[\"Refer\"][:-3], axis=1)"
      ],
      "metadata": {
        "colab": {
          "base_uri": "https://localhost:8080/"
        },
        "id": "e1MoAEVdb2q7",
        "outputId": "af43c0cf-148d-47ae-8b2b-54e11b5ef938"
      },
      "execution_count": null,
      "outputs": [
        {
          "output_type": "stream",
          "name": "stderr",
          "text": [
            "/usr/local/lib/python3.7/dist-packages/ipykernel_launcher.py:1: SettingWithCopyWarning: \n",
            "A value is trying to be set on a copy of a slice from a DataFrame.\n",
            "Try using .loc[row_indexer,col_indexer] = value instead\n",
            "\n",
            "See the caveats in the documentation: https://pandas.pydata.org/pandas-docs/stable/user_guide/indexing.html#returning-a-view-versus-a-copy\n",
            "  \"\"\"Entry point for launching an IPython kernel.\n"
          ]
        }
      ]
    },
    {
      "cell_type": "code",
      "source": [
        "df2.head()"
      ],
      "metadata": {
        "colab": {
          "base_uri": "https://localhost:8080/",
          "height": 206
        },
        "id": "qF2wuYMMcSE3",
        "outputId": "191d0476-750c-4a7e-f9c5-594b1bd33aea"
      },
      "execution_count": null,
      "outputs": [
        {
          "output_type": "execute_result",
          "data": {
            "text/plain": [
              "  Alma      Refer Clav  Canti  ...  Tipo_venta Famil           Bastidor  Refer2\n",
              "0    1  6522204.0    6    1.0  ...          7V   AL8  WVWZZZ1KZ9W487026  652220\n",
              "1    1  6522204.0    4    1.0  ...          7V   ALH  WVWZZZ1KZ9W487026  652220\n",
              "2    1  6522204.0    6    1.0  ...          7V   AL7  WVWZZZ1KZ9W487026  652220\n",
              "3    1  6522204.0    8    2.0  ...          7V   ANW  WVWZZZ1KZ9W487026  652220\n",
              "4    1  6522204.0    8    2.0  ...          7V   ANW  WVWZZZ1KZ9W487026  652220\n",
              "\n",
              "[5 rows x 11 columns]"
            ],
            "text/html": [
              "\n",
              "  <div id=\"df-30956a64-c9ed-494b-9ca2-0af56cefef9c\">\n",
              "    <div class=\"colab-df-container\">\n",
              "      <div>\n",
              "<style scoped>\n",
              "    .dataframe tbody tr th:only-of-type {\n",
              "        vertical-align: middle;\n",
              "    }\n",
              "\n",
              "    .dataframe tbody tr th {\n",
              "        vertical-align: top;\n",
              "    }\n",
              "\n",
              "    .dataframe thead th {\n",
              "        text-align: right;\n",
              "    }\n",
              "</style>\n",
              "<table border=\"1\" class=\"dataframe\">\n",
              "  <thead>\n",
              "    <tr style=\"text-align: right;\">\n",
              "      <th></th>\n",
              "      <th>Alma</th>\n",
              "      <th>Refer</th>\n",
              "      <th>Clav</th>\n",
              "      <th>Canti</th>\n",
              "      <th>PVP</th>\n",
              "      <th>Fech_cierre</th>\n",
              "      <th>Opera</th>\n",
              "      <th>Tipo_venta</th>\n",
              "      <th>Famil</th>\n",
              "      <th>Bastidor</th>\n",
              "      <th>Refer2</th>\n",
              "    </tr>\n",
              "  </thead>\n",
              "  <tbody>\n",
              "    <tr>\n",
              "      <th>0</th>\n",
              "      <td>1</td>\n",
              "      <td>6522204.0</td>\n",
              "      <td>6</td>\n",
              "      <td>1.0</td>\n",
              "      <td>173.93</td>\n",
              "      <td>2015-01-27</td>\n",
              "      <td>1.0</td>\n",
              "      <td>7V</td>\n",
              "      <td>AL8</td>\n",
              "      <td>WVWZZZ1KZ9W487026</td>\n",
              "      <td>652220</td>\n",
              "    </tr>\n",
              "    <tr>\n",
              "      <th>1</th>\n",
              "      <td>1</td>\n",
              "      <td>6522204.0</td>\n",
              "      <td>4</td>\n",
              "      <td>1.0</td>\n",
              "      <td>316.39</td>\n",
              "      <td>2015-01-27</td>\n",
              "      <td>1.0</td>\n",
              "      <td>7V</td>\n",
              "      <td>ALH</td>\n",
              "      <td>WVWZZZ1KZ9W487026</td>\n",
              "      <td>652220</td>\n",
              "    </tr>\n",
              "    <tr>\n",
              "      <th>2</th>\n",
              "      <td>1</td>\n",
              "      <td>6522204.0</td>\n",
              "      <td>6</td>\n",
              "      <td>1.0</td>\n",
              "      <td>31.75</td>\n",
              "      <td>2015-01-27</td>\n",
              "      <td>1.0</td>\n",
              "      <td>7V</td>\n",
              "      <td>AL7</td>\n",
              "      <td>WVWZZZ1KZ9W487026</td>\n",
              "      <td>652220</td>\n",
              "    </tr>\n",
              "    <tr>\n",
              "      <th>3</th>\n",
              "      <td>1</td>\n",
              "      <td>6522204.0</td>\n",
              "      <td>8</td>\n",
              "      <td>2.0</td>\n",
              "      <td>13.60</td>\n",
              "      <td>2015-01-27</td>\n",
              "      <td>1.0</td>\n",
              "      <td>7V</td>\n",
              "      <td>ANW</td>\n",
              "      <td>WVWZZZ1KZ9W487026</td>\n",
              "      <td>652220</td>\n",
              "    </tr>\n",
              "    <tr>\n",
              "      <th>4</th>\n",
              "      <td>1</td>\n",
              "      <td>6522204.0</td>\n",
              "      <td>8</td>\n",
              "      <td>2.0</td>\n",
              "      <td>13.60</td>\n",
              "      <td>2015-01-27</td>\n",
              "      <td>1.0</td>\n",
              "      <td>7V</td>\n",
              "      <td>ANW</td>\n",
              "      <td>WVWZZZ1KZ9W487026</td>\n",
              "      <td>652220</td>\n",
              "    </tr>\n",
              "  </tbody>\n",
              "</table>\n",
              "</div>\n",
              "      <button class=\"colab-df-convert\" onclick=\"convertToInteractive('df-30956a64-c9ed-494b-9ca2-0af56cefef9c')\"\n",
              "              title=\"Convert this dataframe to an interactive table.\"\n",
              "              style=\"display:none;\">\n",
              "        \n",
              "  <svg xmlns=\"http://www.w3.org/2000/svg\" height=\"24px\"viewBox=\"0 0 24 24\"\n",
              "       width=\"24px\">\n",
              "    <path d=\"M0 0h24v24H0V0z\" fill=\"none\"/>\n",
              "    <path d=\"M18.56 5.44l.94 2.06.94-2.06 2.06-.94-2.06-.94-.94-2.06-.94 2.06-2.06.94zm-11 1L8.5 8.5l.94-2.06 2.06-.94-2.06-.94L8.5 2.5l-.94 2.06-2.06.94zm10 10l.94 2.06.94-2.06 2.06-.94-2.06-.94-.94-2.06-.94 2.06-2.06.94z\"/><path d=\"M17.41 7.96l-1.37-1.37c-.4-.4-.92-.59-1.43-.59-.52 0-1.04.2-1.43.59L10.3 9.45l-7.72 7.72c-.78.78-.78 2.05 0 2.83L4 21.41c.39.39.9.59 1.41.59.51 0 1.02-.2 1.41-.59l7.78-7.78 2.81-2.81c.8-.78.8-2.07 0-2.86zM5.41 20L4 18.59l7.72-7.72 1.47 1.35L5.41 20z\"/>\n",
              "  </svg>\n",
              "      </button>\n",
              "      \n",
              "  <style>\n",
              "    .colab-df-container {\n",
              "      display:flex;\n",
              "      flex-wrap:wrap;\n",
              "      gap: 12px;\n",
              "    }\n",
              "\n",
              "    .colab-df-convert {\n",
              "      background-color: #E8F0FE;\n",
              "      border: none;\n",
              "      border-radius: 50%;\n",
              "      cursor: pointer;\n",
              "      display: none;\n",
              "      fill: #1967D2;\n",
              "      height: 32px;\n",
              "      padding: 0 0 0 0;\n",
              "      width: 32px;\n",
              "    }\n",
              "\n",
              "    .colab-df-convert:hover {\n",
              "      background-color: #E2EBFA;\n",
              "      box-shadow: 0px 1px 2px rgba(60, 64, 67, 0.3), 0px 1px 3px 1px rgba(60, 64, 67, 0.15);\n",
              "      fill: #174EA6;\n",
              "    }\n",
              "\n",
              "    [theme=dark] .colab-df-convert {\n",
              "      background-color: #3B4455;\n",
              "      fill: #D2E3FC;\n",
              "    }\n",
              "\n",
              "    [theme=dark] .colab-df-convert:hover {\n",
              "      background-color: #434B5C;\n",
              "      box-shadow: 0px 1px 3px 1px rgba(0, 0, 0, 0.15);\n",
              "      filter: drop-shadow(0px 1px 2px rgba(0, 0, 0, 0.3));\n",
              "      fill: #FFFFFF;\n",
              "    }\n",
              "  </style>\n",
              "\n",
              "      <script>\n",
              "        const buttonEl =\n",
              "          document.querySelector('#df-30956a64-c9ed-494b-9ca2-0af56cefef9c button.colab-df-convert');\n",
              "        buttonEl.style.display =\n",
              "          google.colab.kernel.accessAllowed ? 'block' : 'none';\n",
              "\n",
              "        async function convertToInteractive(key) {\n",
              "          const element = document.querySelector('#df-30956a64-c9ed-494b-9ca2-0af56cefef9c');\n",
              "          const dataTable =\n",
              "            await google.colab.kernel.invokeFunction('convertToInteractive',\n",
              "                                                     [key], {});\n",
              "          if (!dataTable) return;\n",
              "\n",
              "          const docLinkHtml = 'Like what you see? Visit the ' +\n",
              "            '<a target=\"_blank\" href=https://colab.research.google.com/notebooks/data_table.ipynb>data table notebook</a>'\n",
              "            + ' to learn more about interactive tables.';\n",
              "          element.innerHTML = '';\n",
              "          dataTable['output_type'] = 'display_data';\n",
              "          await google.colab.output.renderOutput(dataTable, element);\n",
              "          const docLink = document.createElement('div');\n",
              "          docLink.innerHTML = docLinkHtml;\n",
              "          element.appendChild(docLink);\n",
              "        }\n",
              "      </script>\n",
              "    </div>\n",
              "  </div>\n",
              "  "
            ]
          },
          "metadata": {},
          "execution_count": 24
        }
      ]
    },
    {
      "cell_type": "code",
      "source": [
        "df.shape"
      ],
      "metadata": {
        "colab": {
          "base_uri": "https://localhost:8080/"
        },
        "id": "zItoTxmocaWW",
        "outputId": "46277c86-087e-4171-f8f8-c602fedd71d2"
      },
      "execution_count": null,
      "outputs": [
        {
          "output_type": "execute_result",
          "data": {
            "text/plain": [
              "(1485224, 28)"
            ]
          },
          "metadata": {},
          "execution_count": 25
        }
      ]
    },
    {
      "cell_type": "code",
      "source": [
        "df2['year'] = df2['Fech_cierre'].dt.year # sacamos el año de la fecha\n",
        "df2['month'] = df2['Fech_cierre'].dt.month # sacamos el mes\n",
        "df2['day'] = df2['Fech_cierre'].dt.day # sacamos el día. \n",
        "df2['day_of_week'] = df2['Fech_cierre'].dt.dayofweek # sacamos el día de la semana. "
      ],
      "metadata": {
        "colab": {
          "base_uri": "https://localhost:8080/"
        },
        "id": "XZDt81gndXIe",
        "outputId": "d21b8e3c-16c0-4405-d79c-69a99cc16c3a"
      },
      "execution_count": null,
      "outputs": [
        {
          "output_type": "stream",
          "name": "stderr",
          "text": [
            "/usr/local/lib/python3.7/dist-packages/ipykernel_launcher.py:1: SettingWithCopyWarning: \n",
            "A value is trying to be set on a copy of a slice from a DataFrame.\n",
            "Try using .loc[row_indexer,col_indexer] = value instead\n",
            "\n",
            "See the caveats in the documentation: https://pandas.pydata.org/pandas-docs/stable/user_guide/indexing.html#returning-a-view-versus-a-copy\n",
            "  \"\"\"Entry point for launching an IPython kernel.\n",
            "/usr/local/lib/python3.7/dist-packages/ipykernel_launcher.py:2: SettingWithCopyWarning: \n",
            "A value is trying to be set on a copy of a slice from a DataFrame.\n",
            "Try using .loc[row_indexer,col_indexer] = value instead\n",
            "\n",
            "See the caveats in the documentation: https://pandas.pydata.org/pandas-docs/stable/user_guide/indexing.html#returning-a-view-versus-a-copy\n",
            "  \n",
            "/usr/local/lib/python3.7/dist-packages/ipykernel_launcher.py:3: SettingWithCopyWarning: \n",
            "A value is trying to be set on a copy of a slice from a DataFrame.\n",
            "Try using .loc[row_indexer,col_indexer] = value instead\n",
            "\n",
            "See the caveats in the documentation: https://pandas.pydata.org/pandas-docs/stable/user_guide/indexing.html#returning-a-view-versus-a-copy\n",
            "  This is separate from the ipykernel package so we can avoid doing imports until\n",
            "/usr/local/lib/python3.7/dist-packages/ipykernel_launcher.py:4: SettingWithCopyWarning: \n",
            "A value is trying to be set on a copy of a slice from a DataFrame.\n",
            "Try using .loc[row_indexer,col_indexer] = value instead\n",
            "\n",
            "See the caveats in the documentation: https://pandas.pydata.org/pandas-docs/stable/user_guide/indexing.html#returning-a-view-versus-a-copy\n",
            "  after removing the cwd from sys.path.\n"
          ]
        }
      ]
    },
    {
      "cell_type": "code",
      "source": [
        "df2.head(2)"
      ],
      "metadata": {
        "colab": {
          "base_uri": "https://localhost:8080/",
          "height": 112
        },
        "id": "cZ6eOmFzdm8-",
        "outputId": "b8a99808-5af9-442c-dc51-d71b2c8d0b5d"
      },
      "execution_count": null,
      "outputs": [
        {
          "output_type": "execute_result",
          "data": {
            "text/plain": [
              "  Alma      Refer Clav  Canti     PVP  ...  Refer2  year month day day_of_week\n",
              "0    1  6522204.0    6    1.0  173.93  ...  652220  2015     1  27           1\n",
              "1    1  6522204.0    4    1.0  316.39  ...  652220  2015     1  27           1\n",
              "\n",
              "[2 rows x 15 columns]"
            ],
            "text/html": [
              "\n",
              "  <div id=\"df-21a82377-a193-4f6b-8241-c359fc28a0e2\">\n",
              "    <div class=\"colab-df-container\">\n",
              "      <div>\n",
              "<style scoped>\n",
              "    .dataframe tbody tr th:only-of-type {\n",
              "        vertical-align: middle;\n",
              "    }\n",
              "\n",
              "    .dataframe tbody tr th {\n",
              "        vertical-align: top;\n",
              "    }\n",
              "\n",
              "    .dataframe thead th {\n",
              "        text-align: right;\n",
              "    }\n",
              "</style>\n",
              "<table border=\"1\" class=\"dataframe\">\n",
              "  <thead>\n",
              "    <tr style=\"text-align: right;\">\n",
              "      <th></th>\n",
              "      <th>Alma</th>\n",
              "      <th>Refer</th>\n",
              "      <th>Clav</th>\n",
              "      <th>Canti</th>\n",
              "      <th>PVP</th>\n",
              "      <th>Fech_cierre</th>\n",
              "      <th>Opera</th>\n",
              "      <th>Tipo_venta</th>\n",
              "      <th>Famil</th>\n",
              "      <th>Bastidor</th>\n",
              "      <th>Refer2</th>\n",
              "      <th>year</th>\n",
              "      <th>month</th>\n",
              "      <th>day</th>\n",
              "      <th>day_of_week</th>\n",
              "    </tr>\n",
              "  </thead>\n",
              "  <tbody>\n",
              "    <tr>\n",
              "      <th>0</th>\n",
              "      <td>1</td>\n",
              "      <td>6522204.0</td>\n",
              "      <td>6</td>\n",
              "      <td>1.0</td>\n",
              "      <td>173.93</td>\n",
              "      <td>2015-01-27</td>\n",
              "      <td>1.0</td>\n",
              "      <td>7V</td>\n",
              "      <td>AL8</td>\n",
              "      <td>WVWZZZ1KZ9W487026</td>\n",
              "      <td>652220</td>\n",
              "      <td>2015</td>\n",
              "      <td>1</td>\n",
              "      <td>27</td>\n",
              "      <td>1</td>\n",
              "    </tr>\n",
              "    <tr>\n",
              "      <th>1</th>\n",
              "      <td>1</td>\n",
              "      <td>6522204.0</td>\n",
              "      <td>4</td>\n",
              "      <td>1.0</td>\n",
              "      <td>316.39</td>\n",
              "      <td>2015-01-27</td>\n",
              "      <td>1.0</td>\n",
              "      <td>7V</td>\n",
              "      <td>ALH</td>\n",
              "      <td>WVWZZZ1KZ9W487026</td>\n",
              "      <td>652220</td>\n",
              "      <td>2015</td>\n",
              "      <td>1</td>\n",
              "      <td>27</td>\n",
              "      <td>1</td>\n",
              "    </tr>\n",
              "  </tbody>\n",
              "</table>\n",
              "</div>\n",
              "      <button class=\"colab-df-convert\" onclick=\"convertToInteractive('df-21a82377-a193-4f6b-8241-c359fc28a0e2')\"\n",
              "              title=\"Convert this dataframe to an interactive table.\"\n",
              "              style=\"display:none;\">\n",
              "        \n",
              "  <svg xmlns=\"http://www.w3.org/2000/svg\" height=\"24px\"viewBox=\"0 0 24 24\"\n",
              "       width=\"24px\">\n",
              "    <path d=\"M0 0h24v24H0V0z\" fill=\"none\"/>\n",
              "    <path d=\"M18.56 5.44l.94 2.06.94-2.06 2.06-.94-2.06-.94-.94-2.06-.94 2.06-2.06.94zm-11 1L8.5 8.5l.94-2.06 2.06-.94-2.06-.94L8.5 2.5l-.94 2.06-2.06.94zm10 10l.94 2.06.94-2.06 2.06-.94-2.06-.94-.94-2.06-.94 2.06-2.06.94z\"/><path d=\"M17.41 7.96l-1.37-1.37c-.4-.4-.92-.59-1.43-.59-.52 0-1.04.2-1.43.59L10.3 9.45l-7.72 7.72c-.78.78-.78 2.05 0 2.83L4 21.41c.39.39.9.59 1.41.59.51 0 1.02-.2 1.41-.59l7.78-7.78 2.81-2.81c.8-.78.8-2.07 0-2.86zM5.41 20L4 18.59l7.72-7.72 1.47 1.35L5.41 20z\"/>\n",
              "  </svg>\n",
              "      </button>\n",
              "      \n",
              "  <style>\n",
              "    .colab-df-container {\n",
              "      display:flex;\n",
              "      flex-wrap:wrap;\n",
              "      gap: 12px;\n",
              "    }\n",
              "\n",
              "    .colab-df-convert {\n",
              "      background-color: #E8F0FE;\n",
              "      border: none;\n",
              "      border-radius: 50%;\n",
              "      cursor: pointer;\n",
              "      display: none;\n",
              "      fill: #1967D2;\n",
              "      height: 32px;\n",
              "      padding: 0 0 0 0;\n",
              "      width: 32px;\n",
              "    }\n",
              "\n",
              "    .colab-df-convert:hover {\n",
              "      background-color: #E2EBFA;\n",
              "      box-shadow: 0px 1px 2px rgba(60, 64, 67, 0.3), 0px 1px 3px 1px rgba(60, 64, 67, 0.15);\n",
              "      fill: #174EA6;\n",
              "    }\n",
              "\n",
              "    [theme=dark] .colab-df-convert {\n",
              "      background-color: #3B4455;\n",
              "      fill: #D2E3FC;\n",
              "    }\n",
              "\n",
              "    [theme=dark] .colab-df-convert:hover {\n",
              "      background-color: #434B5C;\n",
              "      box-shadow: 0px 1px 3px 1px rgba(0, 0, 0, 0.15);\n",
              "      filter: drop-shadow(0px 1px 2px rgba(0, 0, 0, 0.3));\n",
              "      fill: #FFFFFF;\n",
              "    }\n",
              "  </style>\n",
              "\n",
              "      <script>\n",
              "        const buttonEl =\n",
              "          document.querySelector('#df-21a82377-a193-4f6b-8241-c359fc28a0e2 button.colab-df-convert');\n",
              "        buttonEl.style.display =\n",
              "          google.colab.kernel.accessAllowed ? 'block' : 'none';\n",
              "\n",
              "        async function convertToInteractive(key) {\n",
              "          const element = document.querySelector('#df-21a82377-a193-4f6b-8241-c359fc28a0e2');\n",
              "          const dataTable =\n",
              "            await google.colab.kernel.invokeFunction('convertToInteractive',\n",
              "                                                     [key], {});\n",
              "          if (!dataTable) return;\n",
              "\n",
              "          const docLinkHtml = 'Like what you see? Visit the ' +\n",
              "            '<a target=\"_blank\" href=https://colab.research.google.com/notebooks/data_table.ipynb>data table notebook</a>'\n",
              "            + ' to learn more about interactive tables.';\n",
              "          element.innerHTML = '';\n",
              "          dataTable['output_type'] = 'display_data';\n",
              "          await google.colab.output.renderOutput(dataTable, element);\n",
              "          const docLink = document.createElement('div');\n",
              "          docLink.innerHTML = docLinkHtml;\n",
              "          element.appendChild(docLink);\n",
              "        }\n",
              "      </script>\n",
              "    </div>\n",
              "  </div>\n",
              "  "
            ]
          },
          "metadata": {},
          "execution_count": 27
        }
      ]
    },
    {
      "cell_type": "code",
      "source": [
        "# voy a quitar las internas. \n",
        "df2 = df2[df2[\"Tipo_venta\"].str.startswith(\"5\")!=True]\n",
        "# voy a quitar las internas. \n",
        "df2 = df2[df2[\"Tipo_venta\"].str.startswith(\"6\")!=True]"
      ],
      "metadata": {
        "id": "d0sKwO9Gd1iY"
      },
      "execution_count": null,
      "outputs": []
    },
    {
      "cell_type": "code",
      "source": [
        "df2.shape"
      ],
      "metadata": {
        "colab": {
          "base_uri": "https://localhost:8080/"
        },
        "id": "jwK4CtaUeMFj",
        "outputId": "48e92c32-3cf4-4392-bbc8-c1150d79d4bc"
      },
      "execution_count": null,
      "outputs": [
        {
          "output_type": "execute_result",
          "data": {
            "text/plain": [
              "(1197530, 15)"
            ]
          },
          "metadata": {},
          "execution_count": 29
        }
      ]
    },
    {
      "cell_type": "code",
      "source": [
        "df2 = df2[df2[\"Famil\"]==\"AIB\"]"
      ],
      "metadata": {
        "id": "xF1nqH7MePs3"
      },
      "execution_count": null,
      "outputs": []
    },
    {
      "cell_type": "code",
      "source": [
        "df2.shape"
      ],
      "metadata": {
        "colab": {
          "base_uri": "https://localhost:8080/"
        },
        "id": "dK6htEanebnE",
        "outputId": "bdf05166-9903-4842-bf86-d8c58596d36a"
      },
      "execution_count": null,
      "outputs": [
        {
          "output_type": "execute_result",
          "data": {
            "text/plain": [
              "(61866, 15)"
            ]
          },
          "metadata": {},
          "execution_count": 31
        }
      ]
    },
    {
      "cell_type": "code",
      "source": [
        "df2.Tipo_venta.value_counts(normalize=True)"
      ],
      "metadata": {
        "colab": {
          "base_uri": "https://localhost:8080/"
        },
        "id": "HgWA-2wsfhkp",
        "outputId": "44ff19b4-37fa-4090-be56-f727fd58f1dd"
      },
      "execution_count": null,
      "outputs": [
        {
          "output_type": "execute_result",
          "data": {
            "text/plain": [
              "2A      0.469191\n",
              "2V      0.303769\n",
              "11LA    0.093945\n",
              "11LV    0.091779\n",
              "2RA     0.006482\n",
              "4A      0.006417\n",
              "12LA    0.005544\n",
              "2L      0.004833\n",
              "2RV     0.004235\n",
              "7A      0.003152\n",
              "12LV    0.002554\n",
              "11LL    0.002554\n",
              "7V      0.001891\n",
              "4V      0.001794\n",
              "12LL    0.000420\n",
              "2RL     0.000323\n",
              "DG      0.000307\n",
              "2Q      0.000226\n",
              "7LV     0.000162\n",
              "4L      0.000145\n",
              "7LA     0.000113\n",
              "GD      0.000065\n",
              "2P      0.000032\n",
              "1A      0.000032\n",
              "2VR     0.000032\n",
              "Name: Tipo_venta, dtype: float64"
            ]
          },
          "metadata": {},
          "execution_count": 32
        }
      ]
    },
    {
      "cell_type": "code",
      "source": [
        "print(\"la fecha va desde {} a {}\".format(df.Fech_cierre.min(), df.Fech_cierre.max()))"
      ],
      "metadata": {
        "colab": {
          "base_uri": "https://localhost:8080/"
        },
        "id": "b1yMeWXcfu2W",
        "outputId": "d3e9d1d1-4716-4437-b928-2776ec814c68"
      },
      "execution_count": null,
      "outputs": [
        {
          "output_type": "stream",
          "name": "stdout",
          "text": [
            "la fecha va desde 2015-01-04 00:00:00 a 2022-12-05 00:00:00\n"
          ]
        }
      ]
    },
    {
      "cell_type": "code",
      "source": [
        "df2.tail()"
      ],
      "metadata": {
        "colab": {
          "base_uri": "https://localhost:8080/",
          "height": 206
        },
        "id": "ElePe-KvgSMv",
        "outputId": "cc9e6655-538b-4eb7-dbcd-7a9a59e59bec"
      },
      "execution_count": null,
      "outputs": [
        {
          "output_type": "execute_result",
          "data": {
            "text/plain": [
              "        Alma       Refer Clav  Canti  ...  year month day day_of_week\n",
              "1521357    3  13773131.0    1    1.0  ...  2022    10   6           3\n",
              "1521380    3  13772921.0    1    1.0  ...  2022     6  13           0\n",
              "1521506    3  13838511.0    1    1.0  ...  2022     6  29           2\n",
              "1521663    9  13695303.0    1   -1.0  ...  2022     2   6           6\n",
              "1521664    9  13695304.0    1    1.0  ...  2022     2   6           6\n",
              "\n",
              "[5 rows x 15 columns]"
            ],
            "text/html": [
              "\n",
              "  <div id=\"df-4bc97b49-34dc-400c-a387-63cc6c8e5172\">\n",
              "    <div class=\"colab-df-container\">\n",
              "      <div>\n",
              "<style scoped>\n",
              "    .dataframe tbody tr th:only-of-type {\n",
              "        vertical-align: middle;\n",
              "    }\n",
              "\n",
              "    .dataframe tbody tr th {\n",
              "        vertical-align: top;\n",
              "    }\n",
              "\n",
              "    .dataframe thead th {\n",
              "        text-align: right;\n",
              "    }\n",
              "</style>\n",
              "<table border=\"1\" class=\"dataframe\">\n",
              "  <thead>\n",
              "    <tr style=\"text-align: right;\">\n",
              "      <th></th>\n",
              "      <th>Alma</th>\n",
              "      <th>Refer</th>\n",
              "      <th>Clav</th>\n",
              "      <th>Canti</th>\n",
              "      <th>PVP</th>\n",
              "      <th>Fech_cierre</th>\n",
              "      <th>Opera</th>\n",
              "      <th>Tipo_venta</th>\n",
              "      <th>Famil</th>\n",
              "      <th>Bastidor</th>\n",
              "      <th>Refer2</th>\n",
              "      <th>year</th>\n",
              "      <th>month</th>\n",
              "      <th>day</th>\n",
              "      <th>day_of_week</th>\n",
              "    </tr>\n",
              "  </thead>\n",
              "  <tbody>\n",
              "    <tr>\n",
              "      <th>1521357</th>\n",
              "      <td>3</td>\n",
              "      <td>13773131.0</td>\n",
              "      <td>1</td>\n",
              "      <td>1.0</td>\n",
              "      <td>18.13</td>\n",
              "      <td>2022-10-06</td>\n",
              "      <td>70.0</td>\n",
              "      <td>2A</td>\n",
              "      <td>AIB</td>\n",
              "      <td>WAUZZZF40HA020960</td>\n",
              "      <td>1377313</td>\n",
              "      <td>2022</td>\n",
              "      <td>10</td>\n",
              "      <td>6</td>\n",
              "      <td>3</td>\n",
              "    </tr>\n",
              "    <tr>\n",
              "      <th>1521380</th>\n",
              "      <td>3</td>\n",
              "      <td>13772921.0</td>\n",
              "      <td>1</td>\n",
              "      <td>1.0</td>\n",
              "      <td>18.13</td>\n",
              "      <td>2022-06-13</td>\n",
              "      <td>70.0</td>\n",
              "      <td>11LA</td>\n",
              "      <td>AIB</td>\n",
              "      <td>WAUZZZ8U1JR071288</td>\n",
              "      <td>1377292</td>\n",
              "      <td>2022</td>\n",
              "      <td>6</td>\n",
              "      <td>13</td>\n",
              "      <td>0</td>\n",
              "    </tr>\n",
              "    <tr>\n",
              "      <th>1521506</th>\n",
              "      <td>3</td>\n",
              "      <td>13838511.0</td>\n",
              "      <td>1</td>\n",
              "      <td>1.0</td>\n",
              "      <td>18.13</td>\n",
              "      <td>2022-06-29</td>\n",
              "      <td>70.0</td>\n",
              "      <td>2A</td>\n",
              "      <td>AIB</td>\n",
              "      <td>WAUZZZ8R2GA004606</td>\n",
              "      <td>1383851</td>\n",
              "      <td>2022</td>\n",
              "      <td>6</td>\n",
              "      <td>29</td>\n",
              "      <td>2</td>\n",
              "    </tr>\n",
              "    <tr>\n",
              "      <th>1521663</th>\n",
              "      <td>9</td>\n",
              "      <td>13695303.0</td>\n",
              "      <td>1</td>\n",
              "      <td>-1.0</td>\n",
              "      <td>-16.70</td>\n",
              "      <td>2022-02-06</td>\n",
              "      <td>151.0</td>\n",
              "      <td>2V</td>\n",
              "      <td>AIB</td>\n",
              "      <td>WVWZZZAUZJW289969</td>\n",
              "      <td>1369530</td>\n",
              "      <td>2022</td>\n",
              "      <td>2</td>\n",
              "      <td>6</td>\n",
              "      <td>6</td>\n",
              "    </tr>\n",
              "    <tr>\n",
              "      <th>1521664</th>\n",
              "      <td>9</td>\n",
              "      <td>13695304.0</td>\n",
              "      <td>1</td>\n",
              "      <td>1.0</td>\n",
              "      <td>16.70</td>\n",
              "      <td>2022-02-06</td>\n",
              "      <td>151.0</td>\n",
              "      <td>2V</td>\n",
              "      <td>AIB</td>\n",
              "      <td>WVWZZZAUZJW289969</td>\n",
              "      <td>1369530</td>\n",
              "      <td>2022</td>\n",
              "      <td>2</td>\n",
              "      <td>6</td>\n",
              "      <td>6</td>\n",
              "    </tr>\n",
              "  </tbody>\n",
              "</table>\n",
              "</div>\n",
              "      <button class=\"colab-df-convert\" onclick=\"convertToInteractive('df-4bc97b49-34dc-400c-a387-63cc6c8e5172')\"\n",
              "              title=\"Convert this dataframe to an interactive table.\"\n",
              "              style=\"display:none;\">\n",
              "        \n",
              "  <svg xmlns=\"http://www.w3.org/2000/svg\" height=\"24px\"viewBox=\"0 0 24 24\"\n",
              "       width=\"24px\">\n",
              "    <path d=\"M0 0h24v24H0V0z\" fill=\"none\"/>\n",
              "    <path d=\"M18.56 5.44l.94 2.06.94-2.06 2.06-.94-2.06-.94-.94-2.06-.94 2.06-2.06.94zm-11 1L8.5 8.5l.94-2.06 2.06-.94-2.06-.94L8.5 2.5l-.94 2.06-2.06.94zm10 10l.94 2.06.94-2.06 2.06-.94-2.06-.94-.94-2.06-.94 2.06-2.06.94z\"/><path d=\"M17.41 7.96l-1.37-1.37c-.4-.4-.92-.59-1.43-.59-.52 0-1.04.2-1.43.59L10.3 9.45l-7.72 7.72c-.78.78-.78 2.05 0 2.83L4 21.41c.39.39.9.59 1.41.59.51 0 1.02-.2 1.41-.59l7.78-7.78 2.81-2.81c.8-.78.8-2.07 0-2.86zM5.41 20L4 18.59l7.72-7.72 1.47 1.35L5.41 20z\"/>\n",
              "  </svg>\n",
              "      </button>\n",
              "      \n",
              "  <style>\n",
              "    .colab-df-container {\n",
              "      display:flex;\n",
              "      flex-wrap:wrap;\n",
              "      gap: 12px;\n",
              "    }\n",
              "\n",
              "    .colab-df-convert {\n",
              "      background-color: #E8F0FE;\n",
              "      border: none;\n",
              "      border-radius: 50%;\n",
              "      cursor: pointer;\n",
              "      display: none;\n",
              "      fill: #1967D2;\n",
              "      height: 32px;\n",
              "      padding: 0 0 0 0;\n",
              "      width: 32px;\n",
              "    }\n",
              "\n",
              "    .colab-df-convert:hover {\n",
              "      background-color: #E2EBFA;\n",
              "      box-shadow: 0px 1px 2px rgba(60, 64, 67, 0.3), 0px 1px 3px 1px rgba(60, 64, 67, 0.15);\n",
              "      fill: #174EA6;\n",
              "    }\n",
              "\n",
              "    [theme=dark] .colab-df-convert {\n",
              "      background-color: #3B4455;\n",
              "      fill: #D2E3FC;\n",
              "    }\n",
              "\n",
              "    [theme=dark] .colab-df-convert:hover {\n",
              "      background-color: #434B5C;\n",
              "      box-shadow: 0px 1px 3px 1px rgba(0, 0, 0, 0.15);\n",
              "      filter: drop-shadow(0px 1px 2px rgba(0, 0, 0, 0.3));\n",
              "      fill: #FFFFFF;\n",
              "    }\n",
              "  </style>\n",
              "\n",
              "      <script>\n",
              "        const buttonEl =\n",
              "          document.querySelector('#df-4bc97b49-34dc-400c-a387-63cc6c8e5172 button.colab-df-convert');\n",
              "        buttonEl.style.display =\n",
              "          google.colab.kernel.accessAllowed ? 'block' : 'none';\n",
              "\n",
              "        async function convertToInteractive(key) {\n",
              "          const element = document.querySelector('#df-4bc97b49-34dc-400c-a387-63cc6c8e5172');\n",
              "          const dataTable =\n",
              "            await google.colab.kernel.invokeFunction('convertToInteractive',\n",
              "                                                     [key], {});\n",
              "          if (!dataTable) return;\n",
              "\n",
              "          const docLinkHtml = 'Like what you see? Visit the ' +\n",
              "            '<a target=\"_blank\" href=https://colab.research.google.com/notebooks/data_table.ipynb>data table notebook</a>'\n",
              "            + ' to learn more about interactive tables.';\n",
              "          element.innerHTML = '';\n",
              "          dataTable['output_type'] = 'display_data';\n",
              "          await google.colab.output.renderOutput(dataTable, element);\n",
              "          const docLink = document.createElement('div');\n",
              "          docLink.innerHTML = docLinkHtml;\n",
              "          element.appendChild(docLink);\n",
              "        }\n",
              "      </script>\n",
              "    </div>\n",
              "  </div>\n",
              "  "
            ]
          },
          "metadata": {},
          "execution_count": 34
        }
      ]
    },
    {
      "cell_type": "code",
      "source": [
        "df2.loc[(df2[\"year\"] == \"2022\") | (df2[\"month\"] == \"10\")]"
      ],
      "metadata": {
        "colab": {
          "base_uri": "https://localhost:8080/",
          "height": 49
        },
        "id": "l19Oal34iGWy",
        "outputId": "2e09f968-b1b3-4892-d37f-bd2c1083c580"
      },
      "execution_count": null,
      "outputs": [
        {
          "output_type": "execute_result",
          "data": {
            "text/plain": [
              "Empty DataFrame\n",
              "Columns: [Alma, Refer, Clav, Canti, PVP, Fech_cierre, Opera, Tipo_venta, Famil, Bastidor, Refer2, year, month, day, day_of_week]\n",
              "Index: []"
            ],
            "text/html": [
              "\n",
              "  <div id=\"df-3987b28f-fbfa-46c3-aeaa-b5af4265cfc6\">\n",
              "    <div class=\"colab-df-container\">\n",
              "      <div>\n",
              "<style scoped>\n",
              "    .dataframe tbody tr th:only-of-type {\n",
              "        vertical-align: middle;\n",
              "    }\n",
              "\n",
              "    .dataframe tbody tr th {\n",
              "        vertical-align: top;\n",
              "    }\n",
              "\n",
              "    .dataframe thead th {\n",
              "        text-align: right;\n",
              "    }\n",
              "</style>\n",
              "<table border=\"1\" class=\"dataframe\">\n",
              "  <thead>\n",
              "    <tr style=\"text-align: right;\">\n",
              "      <th></th>\n",
              "      <th>Alma</th>\n",
              "      <th>Refer</th>\n",
              "      <th>Clav</th>\n",
              "      <th>Canti</th>\n",
              "      <th>PVP</th>\n",
              "      <th>Fech_cierre</th>\n",
              "      <th>Opera</th>\n",
              "      <th>Tipo_venta</th>\n",
              "      <th>Famil</th>\n",
              "      <th>Bastidor</th>\n",
              "      <th>Refer2</th>\n",
              "      <th>year</th>\n",
              "      <th>month</th>\n",
              "      <th>day</th>\n",
              "      <th>day_of_week</th>\n",
              "    </tr>\n",
              "  </thead>\n",
              "  <tbody>\n",
              "  </tbody>\n",
              "</table>\n",
              "</div>\n",
              "      <button class=\"colab-df-convert\" onclick=\"convertToInteractive('df-3987b28f-fbfa-46c3-aeaa-b5af4265cfc6')\"\n",
              "              title=\"Convert this dataframe to an interactive table.\"\n",
              "              style=\"display:none;\">\n",
              "        \n",
              "  <svg xmlns=\"http://www.w3.org/2000/svg\" height=\"24px\"viewBox=\"0 0 24 24\"\n",
              "       width=\"24px\">\n",
              "    <path d=\"M0 0h24v24H0V0z\" fill=\"none\"/>\n",
              "    <path d=\"M18.56 5.44l.94 2.06.94-2.06 2.06-.94-2.06-.94-.94-2.06-.94 2.06-2.06.94zm-11 1L8.5 8.5l.94-2.06 2.06-.94-2.06-.94L8.5 2.5l-.94 2.06-2.06.94zm10 10l.94 2.06.94-2.06 2.06-.94-2.06-.94-.94-2.06-.94 2.06-2.06.94z\"/><path d=\"M17.41 7.96l-1.37-1.37c-.4-.4-.92-.59-1.43-.59-.52 0-1.04.2-1.43.59L10.3 9.45l-7.72 7.72c-.78.78-.78 2.05 0 2.83L4 21.41c.39.39.9.59 1.41.59.51 0 1.02-.2 1.41-.59l7.78-7.78 2.81-2.81c.8-.78.8-2.07 0-2.86zM5.41 20L4 18.59l7.72-7.72 1.47 1.35L5.41 20z\"/>\n",
              "  </svg>\n",
              "      </button>\n",
              "      \n",
              "  <style>\n",
              "    .colab-df-container {\n",
              "      display:flex;\n",
              "      flex-wrap:wrap;\n",
              "      gap: 12px;\n",
              "    }\n",
              "\n",
              "    .colab-df-convert {\n",
              "      background-color: #E8F0FE;\n",
              "      border: none;\n",
              "      border-radius: 50%;\n",
              "      cursor: pointer;\n",
              "      display: none;\n",
              "      fill: #1967D2;\n",
              "      height: 32px;\n",
              "      padding: 0 0 0 0;\n",
              "      width: 32px;\n",
              "    }\n",
              "\n",
              "    .colab-df-convert:hover {\n",
              "      background-color: #E2EBFA;\n",
              "      box-shadow: 0px 1px 2px rgba(60, 64, 67, 0.3), 0px 1px 3px 1px rgba(60, 64, 67, 0.15);\n",
              "      fill: #174EA6;\n",
              "    }\n",
              "\n",
              "    [theme=dark] .colab-df-convert {\n",
              "      background-color: #3B4455;\n",
              "      fill: #D2E3FC;\n",
              "    }\n",
              "\n",
              "    [theme=dark] .colab-df-convert:hover {\n",
              "      background-color: #434B5C;\n",
              "      box-shadow: 0px 1px 3px 1px rgba(0, 0, 0, 0.15);\n",
              "      filter: drop-shadow(0px 1px 2px rgba(0, 0, 0, 0.3));\n",
              "      fill: #FFFFFF;\n",
              "    }\n",
              "  </style>\n",
              "\n",
              "      <script>\n",
              "        const buttonEl =\n",
              "          document.querySelector('#df-3987b28f-fbfa-46c3-aeaa-b5af4265cfc6 button.colab-df-convert');\n",
              "        buttonEl.style.display =\n",
              "          google.colab.kernel.accessAllowed ? 'block' : 'none';\n",
              "\n",
              "        async function convertToInteractive(key) {\n",
              "          const element = document.querySelector('#df-3987b28f-fbfa-46c3-aeaa-b5af4265cfc6');\n",
              "          const dataTable =\n",
              "            await google.colab.kernel.invokeFunction('convertToInteractive',\n",
              "                                                     [key], {});\n",
              "          if (!dataTable) return;\n",
              "\n",
              "          const docLinkHtml = 'Like what you see? Visit the ' +\n",
              "            '<a target=\"_blank\" href=https://colab.research.google.com/notebooks/data_table.ipynb>data table notebook</a>'\n",
              "            + ' to learn more about interactive tables.';\n",
              "          element.innerHTML = '';\n",
              "          dataTable['output_type'] = 'display_data';\n",
              "          await google.colab.output.renderOutput(dataTable, element);\n",
              "          const docLink = document.createElement('div');\n",
              "          docLink.innerHTML = docLinkHtml;\n",
              "          element.appendChild(docLink);\n",
              "        }\n",
              "      </script>\n",
              "    </div>\n",
              "  </div>\n",
              "  "
            ]
          },
          "metadata": {},
          "execution_count": 41
        }
      ]
    },
    {
      "cell_type": "markdown",
      "source": [
        "# NUEVO INTENTO"
      ],
      "metadata": {
        "id": "iE2AA7OjI9Dn"
      }
    },
    {
      "cell_type": "code",
      "source": [
        "import pandas as pd"
      ],
      "metadata": {
        "id": "IN5bIzrXjbwl"
      },
      "execution_count": 1,
      "outputs": []
    },
    {
      "cell_type": "code",
      "source": [
        "df_2015 = pd.read_csv(\"/content/drive/MyDrive/Colab Notebooks/total_recambios_2015.csv\", decimal=\",\")"
      ],
      "metadata": {
        "id": "SpVEaQltJUsN"
      },
      "execution_count": 2,
      "outputs": []
    },
    {
      "cell_type": "code",
      "source": [
        "df_2015.columns"
      ],
      "metadata": {
        "colab": {
          "base_uri": "https://localhost:8080/"
        },
        "id": "NiaxnBKXJvPA",
        "outputId": "792379d8-a08b-4e48-e5ac-252d311a736c"
      },
      "execution_count": 3,
      "outputs": [
        {
          "output_type": "execute_result",
          "data": {
            "text/plain": [
              "Index(['Unnamed: 0', 'Alma', 'Cuenta', 'Refer.', 'Fec.sali', 'Artículo',\n",
              "       'Clav', 'Denominacion', 'Canti', 'P.V.P.', 'Dto.', 'Neto', 'Costo',\n",
              "       'Beneficio', '% Com', 'Comision', 'Fam.a', 'F.cierre', 'Tipo', 'Recep',\n",
              "       'P.V.P..1', 'TOTAL PVP', 'Opera', 'Nombre', 'Tipo.1', 'Famil',\n",
              "       'Bastidor'],\n",
              "      dtype='object')"
            ]
          },
          "metadata": {},
          "execution_count": 3
        }
      ]
    },
    {
      "cell_type": "code",
      "source": [
        "df_2015 = df_2015.rename(columns={\"Refer.\":\"Refer\", \"Fec.sali\": \"Fech_Salida\", \"Artículo\":\"Articulo\", \"P.V.P.\": \"PVP\", \"Dto.\":\"Dto\", \"% Com\":\"COM\", \"Fam.a\":\"Famil_apr\", \"F.cierre\":\"Fech_cierre\",\n",
        "                        \"P.V.P..1\": \"PVP1\", \"TOTAL PVP\":\"TOTAL_PVP\",\"Tipo.1\": \"Tipo_venta\" })"
      ],
      "metadata": {
        "id": "GKxLJ25CKHY_"
      },
      "execution_count": 4,
      "outputs": []
    },
    {
      "cell_type": "code",
      "source": [
        "df_2015 = df_2015[~df_2015.Cuenta.isnull()]\n",
        "df_2015 = df_2015[~df_2015.Fech_cierre.isnull()]\n",
        "df_2015 = df_2015[~df_2015.Canti.isnull()]"
      ],
      "metadata": {
        "id": "ryltWz7gKrzt"
      },
      "execution_count": 5,
      "outputs": []
    },
    {
      "cell_type": "code",
      "source": [
        "# lo primero que voy a hacer es cambiar de tipo de datos. \n",
        "df_2015[\"Alma\"] = df_2015[\"Alma\"].apply(str)\n",
        "df_2015[\"Cuenta\"] = df_2015[\"Cuenta\"].apply(str)\n",
        "df_2015[\"Refer\"] = df_2015[\"Refer\"].apply(str)\n",
        "df_2015[\"Fech_cierre\"] = pd.to_datetime(df_2015[\"Fech_cierre\"])\n",
        "df_2015[\"Articulo\"] = df_2015[\"Articulo\"].apply(str)\n",
        "df_2015[\"Clav\"] = df_2015[\"Clav\"].apply(str)\n",
        "df_2015[\"Denominacion\"] = df_2015[\"Denominacion\"].apply(str)\n",
        "df_2015[\"Canti\"] = df_2015[\"Canti\"].apply(float)\n",
        "df_2015[\"PVP\"] = df_2015[\"PVP\"].apply(float)\n",
        "df_2015[\"Dto\"] = df_2015[\"Dto\"].apply(float)\n",
        "df_2015[\"Neto\"] = df_2015[\"Neto\"].apply(float)\n",
        "df_2015[\"Costo\"] = df_2015[\"Costo\"].apply(float)\n",
        "df_2015[\"Beneficio\"] = df_2015[\"Beneficio\"].apply(float)\n",
        "df_2015[\"COM\"] = df_2015[\"COM\"].apply(float)\n",
        "df_2015[\"Comision\"] = df_2015[\"Comision\"].apply(float)\n",
        "df_2015[\"Famil_apr\"] = df_2015[\"COM\"].apply(str)\n",
        "df_2015[\"Tipo\"] = df_2015[\"Tipo\"].apply(str)\n",
        "df_2015[\"Recep\"] = df_2015[\"Recep\"].apply(str)\n",
        "df_2015[\"PVP1\"] = df_2015[\"PVP1\"].apply(float)\n",
        "df_2015[\"TOTAL_PVP\"] = df_2015[\"TOTAL_PVP\"].apply(float)\n",
        "df_2015[\"Opera\"] = df_2015[\"Opera\"].apply(str)\n",
        "df_2015[\"Nombre\"] = df_2015[\"Nombre\"].apply(str)\n",
        "df_2015[\"Tipo_venta\"] = df_2015[\"Tipo_venta\"].apply(str)\n",
        "df_2015[\"Famil\"] = df_2015[\"Famil\"].apply(str)\n",
        "df_2015[\"Bastidor\"] = df_2015[\"Bastidor\"].apply(str)"
      ],
      "metadata": {
        "id": "yuE96QD8JNQw"
      },
      "execution_count": 6,
      "outputs": []
    },
    {
      "cell_type": "code",
      "source": [
        "df_2015.info()"
      ],
      "metadata": {
        "colab": {
          "base_uri": "https://localhost:8080/"
        },
        "id": "fxvwAvG_KE4U",
        "outputId": "67a5a83b-796d-4873-d245-9d4c4b65cbdd"
      },
      "execution_count": 7,
      "outputs": [
        {
          "output_type": "stream",
          "name": "stdout",
          "text": [
            "<class 'pandas.core.frame.DataFrame'>\n",
            "Int64Index: 165140 entries, 0 to 166522\n",
            "Data columns (total 27 columns):\n",
            " #   Column        Non-Null Count   Dtype         \n",
            "---  ------        --------------   -----         \n",
            " 0   Unnamed: 0    165140 non-null  int64         \n",
            " 1   Alma          165140 non-null  object        \n",
            " 2   Cuenta        165140 non-null  object        \n",
            " 3   Refer         165140 non-null  object        \n",
            " 4   Fech_Salida   165140 non-null  object        \n",
            " 5   Articulo      165140 non-null  object        \n",
            " 6   Clav          165140 non-null  object        \n",
            " 7   Denominacion  165140 non-null  object        \n",
            " 8   Canti         165140 non-null  float64       \n",
            " 9   PVP           165140 non-null  float64       \n",
            " 10  Dto           81251 non-null   float64       \n",
            " 11  Neto          165140 non-null  float64       \n",
            " 12  Costo         165140 non-null  float64       \n",
            " 13  Beneficio     165140 non-null  float64       \n",
            " 14  COM           165140 non-null  float64       \n",
            " 15  Comision      165140 non-null  float64       \n",
            " 16  Famil_apr     165140 non-null  object        \n",
            " 17  Fech_cierre   165140 non-null  datetime64[ns]\n",
            " 18  Tipo          165140 non-null  object        \n",
            " 19  Recep         165140 non-null  object        \n",
            " 20  PVP1          165140 non-null  float64       \n",
            " 21  TOTAL_PVP     165140 non-null  float64       \n",
            " 22  Opera         165140 non-null  object        \n",
            " 23  Nombre        165140 non-null  object        \n",
            " 24  Tipo_venta    165140 non-null  object        \n",
            " 25  Famil         165140 non-null  object        \n",
            " 26  Bastidor      165140 non-null  object        \n",
            "dtypes: datetime64[ns](1), float64(10), int64(1), object(15)\n",
            "memory usage: 35.3+ MB\n"
          ]
        }
      ]
    },
    {
      "cell_type": "code",
      "source": [
        "print(\"la fecha va desde {} a {}\".format(df_2015.Fech_cierre.min(), df_2015.Fech_cierre.max()))"
      ],
      "metadata": {
        "colab": {
          "base_uri": "https://localhost:8080/"
        },
        "id": "0Jq1oqB8LXpp",
        "outputId": "9962b616-5f03-47eb-b45b-3e3658a806e2"
      },
      "execution_count": 8,
      "outputs": [
        {
          "output_type": "stream",
          "name": "stdout",
          "text": [
            "la fecha va desde 2015-01-04 00:00:00 a 2015-12-30 00:00:00\n"
          ]
        }
      ]
    },
    {
      "cell_type": "code",
      "source": [
        "df_2015.shape"
      ],
      "metadata": {
        "colab": {
          "base_uri": "https://localhost:8080/"
        },
        "id": "SHRsr80cLfHw",
        "outputId": "ce20aaff-ab2f-497c-9165-9936984a0745"
      },
      "execution_count": 9,
      "outputs": [
        {
          "output_type": "execute_result",
          "data": {
            "text/plain": [
              "(165140, 27)"
            ]
          },
          "metadata": {},
          "execution_count": 9
        }
      ]
    },
    {
      "cell_type": "code",
      "source": [
        "df_2016 = pd.read_csv(\"/content/drive/MyDrive/Colab Notebooks/total_recambios_2016.csv\", decimal=\",\")"
      ],
      "metadata": {
        "colab": {
          "base_uri": "https://localhost:8080/"
        },
        "id": "TvMfKyBQLkWK",
        "outputId": "21d5e4f2-44dd-4b60-a74e-a5eeb9dc77bf"
      },
      "execution_count": 10,
      "outputs": [
        {
          "output_type": "stream",
          "name": "stderr",
          "text": [
            "/usr/local/lib/python3.7/dist-packages/IPython/core/interactiveshell.py:2882: DtypeWarning: Columns (2) have mixed types.Specify dtype option on import or set low_memory=False.\n",
            "  exec(code_obj, self.user_global_ns, self.user_ns)\n"
          ]
        }
      ]
    },
    {
      "cell_type": "code",
      "source": [
        "df_2016.columns"
      ],
      "metadata": {
        "colab": {
          "base_uri": "https://localhost:8080/"
        },
        "id": "JpqZjXnPL7CH",
        "outputId": "d36e9366-792e-4228-d938-9a40e535535e"
      },
      "execution_count": 11,
      "outputs": [
        {
          "output_type": "execute_result",
          "data": {
            "text/plain": [
              "Index(['Unnamed: 0', 'Alma', 'Cuenta', 'Refer.', 'Fec.sali', 'Artículo',\n",
              "       'Clav', 'Denominacion', 'Canti', 'P.V.P.', 'Dto.', 'Neto', 'Costo',\n",
              "       'Beneficio', '% Com', 'Comision', 'Fam.a', 'F.cierre', 'Tipo', 'Recep',\n",
              "       'P.V.P..1', 'TOTAL PVP', 'Opera', 'Nombre', 'Tipo.1', 'Famil',\n",
              "       'Bastidor'],\n",
              "      dtype='object')"
            ]
          },
          "metadata": {},
          "execution_count": 11
        }
      ]
    },
    {
      "cell_type": "code",
      "source": [
        "df_2016 = df_2016.rename(columns={\"Refer.\":\"Refer\", \"Fec.sali\": \"Fech_Salida\", \"Artículo\":\"Articulo\", \"P.V.P.\": \"PVP\", \"Dto.\":\"Dto\", \"% Com\":\"COM\", \"Fam.a\":\"Famil_apr\", \"F.cierre\":\"Fech_cierre\",\n",
        "                        \"P.V.P..1\": \"PVP1\", \"TOTAL PVP\":\"TOTAL_PVP\",\"Tipo.1\": \"Tipo_venta\" })"
      ],
      "metadata": {
        "id": "BgozQJc6MK8n"
      },
      "execution_count": 12,
      "outputs": []
    },
    {
      "cell_type": "code",
      "source": [
        "df_2016 = df_2016[~df_2016.Cuenta.isnull()]\n",
        "df_2016 = df_2016[~df_2016.Fech_cierre.isnull()]\n",
        "df_2016 = df_2016[~df_2016.Canti.isnull()]"
      ],
      "metadata": {
        "id": "5kGckYWiUlnV"
      },
      "execution_count": 13,
      "outputs": []
    },
    {
      "cell_type": "code",
      "source": [
        "# lo primero que voy a hacer es cambiar de tipo de datos. \n",
        "df_2016[\"Alma\"] = df_2016[\"Alma\"].apply(str)\n",
        "df_2016[\"Cuenta\"] = df_2016[\"Cuenta\"].apply(str)\n",
        "df_2016[\"Refer\"] = df_2016[\"Refer\"].apply(str)\n",
        "df_2016[\"Fech_cierre\"] = pd.to_datetime(df_2016[\"Fech_cierre\"])\n",
        "df_2016[\"Articulo\"] = df_2016[\"Articulo\"].apply(str)\n",
        "df_2016[\"Clav\"] = df_2016[\"Clav\"].apply(str)\n",
        "df_2016[\"Denominacion\"] = df_2016[\"Denominacion\"].apply(str)\n",
        "df_2016[\"Canti\"] = df_2016[\"Canti\"].apply(float)\n",
        "df_2016[\"PVP\"] = df_2016[\"PVP\"].apply(float)\n",
        "df_2016[\"Dto\"] = df_2016[\"Dto\"].apply(float)\n",
        "df_2016[\"Neto\"] = df_2016[\"Neto\"].apply(float)\n",
        "df_2016[\"Costo\"] = df_2016[\"Costo\"].apply(float)\n",
        "df_2016[\"Beneficio\"] = df_2016[\"Beneficio\"].apply(float)\n",
        "df_2016[\"COM\"] = df_2016[\"COM\"].apply(float)\n",
        "df_2016[\"Comision\"] = df_2016[\"Comision\"].apply(float)\n",
        "df_2016[\"Famil_apr\"] = df_2016[\"COM\"].apply(str)\n",
        "df_2016[\"Tipo\"] = df_2016[\"Tipo\"].apply(str)\n",
        "df_2016[\"Recep\"] = df_2016[\"Recep\"].apply(str)\n",
        "df_2016[\"PVP1\"] = df_2016[\"PVP1\"].apply(float)\n",
        "df_2016[\"TOTAL_PVP\"] = df_2016[\"TOTAL_PVP\"].apply(float)\n",
        "df_2016[\"Opera\"] = df_2016[\"Opera\"].apply(str)\n",
        "df_2016[\"Nombre\"] = df_2016[\"Nombre\"].apply(str)\n",
        "df_2016[\"Tipo_venta\"] = df_2016[\"Tipo_venta\"].apply(str)\n",
        "df_2016[\"Famil\"] = df_2016[\"Famil\"].apply(str)\n",
        "df_2016[\"Bastidor\"] = df_2016[\"Bastidor\"].apply(str)"
      ],
      "metadata": {
        "id": "Rjy6dyCNMUGo"
      },
      "execution_count": 14,
      "outputs": []
    },
    {
      "cell_type": "code",
      "source": [
        "print(\"la fecha va desde {} a {}\".format(df_2016.Fech_cierre.min(), df_2016.Fech_cierre.max()))"
      ],
      "metadata": {
        "colab": {
          "base_uri": "https://localhost:8080/"
        },
        "id": "ybbnx17mMcIn",
        "outputId": "874b49ef-3ea9-40cf-f737-b1dc1454f6ae"
      },
      "execution_count": 15,
      "outputs": [
        {
          "output_type": "stream",
          "name": "stdout",
          "text": [
            "la fecha va desde 2016-01-02 00:00:00 a 2016-12-30 00:00:00\n"
          ]
        }
      ]
    },
    {
      "cell_type": "code",
      "source": [
        "dataframes = [df_2015, df_2016]"
      ],
      "metadata": {
        "id": "ky-iquBuMki3"
      },
      "execution_count": 16,
      "outputs": []
    },
    {
      "cell_type": "code",
      "source": [
        "total_2015_2016 = pd.concat(dataframes)"
      ],
      "metadata": {
        "id": "seoAA9VjNDf8"
      },
      "execution_count": 17,
      "outputs": []
    },
    {
      "cell_type": "code",
      "source": [
        "total_2015_2016.shape"
      ],
      "metadata": {
        "colab": {
          "base_uri": "https://localhost:8080/"
        },
        "id": "gZhzgm6uNTt4",
        "outputId": "bfcc3982-596a-4b5f-f5bc-f9bc142a9749"
      },
      "execution_count": 18,
      "outputs": [
        {
          "output_type": "execute_result",
          "data": {
            "text/plain": [
              "(363329, 27)"
            ]
          },
          "metadata": {},
          "execution_count": 18
        }
      ]
    },
    {
      "cell_type": "code",
      "source": [
        "print(\"la fecha va desde {} a {}\".format(total_2015_2016.Fech_cierre.min(), total_2015_2016.Fech_cierre.max()))"
      ],
      "metadata": {
        "colab": {
          "base_uri": "https://localhost:8080/"
        },
        "id": "Bn1rTEyZNXoD",
        "outputId": "2d98341b-adde-4764-8a56-5aa8ffde7453"
      },
      "execution_count": 19,
      "outputs": [
        {
          "output_type": "stream",
          "name": "stdout",
          "text": [
            "la fecha va desde 2015-01-04 00:00:00 a 2016-12-30 00:00:00\n"
          ]
        }
      ]
    },
    {
      "cell_type": "code",
      "source": [
        "total_2015_2016.isnull().sum()"
      ],
      "metadata": {
        "colab": {
          "base_uri": "https://localhost:8080/"
        },
        "id": "x7i_1YK2Nd6U",
        "outputId": "1c57e28f-b9cf-4af0-ec09-d76d98859a9a"
      },
      "execution_count": 20,
      "outputs": [
        {
          "output_type": "execute_result",
          "data": {
            "text/plain": [
              "Unnamed: 0           0\n",
              "Alma                 0\n",
              "Cuenta               0\n",
              "Refer                0\n",
              "Fech_Salida          2\n",
              "Articulo             0\n",
              "Clav                 0\n",
              "Denominacion         0\n",
              "Canti                0\n",
              "PVP                  0\n",
              "Dto             174829\n",
              "Neto                 0\n",
              "Costo                0\n",
              "Beneficio            0\n",
              "COM                  0\n",
              "Comision             0\n",
              "Famil_apr            0\n",
              "Fech_cierre          0\n",
              "Tipo                 0\n",
              "Recep                0\n",
              "PVP1                 0\n",
              "TOTAL_PVP            0\n",
              "Opera                0\n",
              "Nombre               0\n",
              "Tipo_venta           0\n",
              "Famil                0\n",
              "Bastidor             0\n",
              "dtype: int64"
            ]
          },
          "metadata": {},
          "execution_count": 20
        }
      ]
    },
    {
      "cell_type": "code",
      "source": [
        "total_2015_2016 = total_2015_2016[~total_2015_2016.Fech_cierre.isnull()]"
      ],
      "metadata": {
        "id": "VG2n1_UDNsTr"
      },
      "execution_count": 21,
      "outputs": []
    },
    {
      "cell_type": "code",
      "source": [
        "total_2015_2016.isnull().sum()"
      ],
      "metadata": {
        "colab": {
          "base_uri": "https://localhost:8080/"
        },
        "id": "x_WysX3UOPMR",
        "outputId": "0c196585-5d25-4743-fb63-4869e986ac1e"
      },
      "execution_count": 22,
      "outputs": [
        {
          "output_type": "execute_result",
          "data": {
            "text/plain": [
              "Unnamed: 0           0\n",
              "Alma                 0\n",
              "Cuenta               0\n",
              "Refer                0\n",
              "Fech_Salida          2\n",
              "Articulo             0\n",
              "Clav                 0\n",
              "Denominacion         0\n",
              "Canti                0\n",
              "PVP                  0\n",
              "Dto             174829\n",
              "Neto                 0\n",
              "Costo                0\n",
              "Beneficio            0\n",
              "COM                  0\n",
              "Comision             0\n",
              "Famil_apr            0\n",
              "Fech_cierre          0\n",
              "Tipo                 0\n",
              "Recep                0\n",
              "PVP1                 0\n",
              "TOTAL_PVP            0\n",
              "Opera                0\n",
              "Nombre               0\n",
              "Tipo_venta           0\n",
              "Famil                0\n",
              "Bastidor             0\n",
              "dtype: int64"
            ]
          },
          "metadata": {},
          "execution_count": 22
        }
      ]
    },
    {
      "cell_type": "code",
      "source": [
        "total_2015_2016.shape"
      ],
      "metadata": {
        "colab": {
          "base_uri": "https://localhost:8080/"
        },
        "id": "7LSpj4a3OZvH",
        "outputId": "da91396a-2224-4f3e-95d7-f04c1d5bdcaf"
      },
      "execution_count": 23,
      "outputs": [
        {
          "output_type": "execute_result",
          "data": {
            "text/plain": [
              "(363329, 27)"
            ]
          },
          "metadata": {},
          "execution_count": 23
        }
      ]
    },
    {
      "cell_type": "code",
      "source": [
        "df_2017 = pd.read_csv(\"/content/drive/MyDrive/Colab Notebooks/total_recambios_2017.csv\", decimal=\",\")"
      ],
      "metadata": {
        "id": "Ewh0LKzsOl8V"
      },
      "execution_count": 24,
      "outputs": []
    },
    {
      "cell_type": "code",
      "source": [
        "df_2017 = df_2017.rename(columns={\"Refer.\":\"Refer\", \"Fec.sali\": \"Fech_Salida\", \"Artículo\":\"Articulo\", \"P.V.P.\": \"PVP\", \"Dto.\":\"Dto\", \"% Com\":\"COM\", \"Fam.a\":\"Famil_apr\", \"F.cierre\":\"Fech_cierre\",\n",
        "                        \"P.V.P..1\": \"PVP1\", \"TOTAL PVP\":\"TOTAL_PVP\",\"Tipo.1\": \"Tipo_venta\" })"
      ],
      "metadata": {
        "id": "N7BbsCJkOv7o"
      },
      "execution_count": 25,
      "outputs": []
    },
    {
      "cell_type": "code",
      "source": [
        "df_2017.shape"
      ],
      "metadata": {
        "colab": {
          "base_uri": "https://localhost:8080/"
        },
        "id": "JFYPc2oZO4x0",
        "outputId": "bef7b93d-37e9-4353-f693-d87ac0828245"
      },
      "execution_count": 26,
      "outputs": [
        {
          "output_type": "execute_result",
          "data": {
            "text/plain": [
              "(229351, 27)"
            ]
          },
          "metadata": {},
          "execution_count": 26
        }
      ]
    },
    {
      "cell_type": "code",
      "source": [
        "df_2017 = df_2017[~df_2017.Cuenta.isnull()]\n",
        "df_2017 = df_2017[~df_2017.Fech_cierre.isnull()]\n",
        "df_2017 = df_2017[~df_2017.Canti.isnull()]"
      ],
      "metadata": {
        "id": "I6lrg_anUt18"
      },
      "execution_count": 27,
      "outputs": []
    },
    {
      "cell_type": "code",
      "source": [
        "# lo primero que voy a hacer es cambiar de tipo de datos. \n",
        "df_2017[\"Alma\"] = df_2017[\"Alma\"].apply(str)\n",
        "df_2017[\"Cuenta\"] = df_2017[\"Cuenta\"].apply(str)\n",
        "df_2017[\"Refer\"] = df_2017[\"Refer\"].apply(str)\n",
        "df_2017[\"Fech_cierre\"] = pd.to_datetime(df_2017[\"Fech_cierre\"])\n",
        "df_2017[\"Articulo\"] = df_2017[\"Articulo\"].apply(str)\n",
        "df_2017[\"Clav\"] = df_2017[\"Clav\"].apply(str)\n",
        "df_2017[\"Denominacion\"] = df_2017[\"Denominacion\"].apply(str)\n",
        "df_2017[\"Canti\"] = df_2017[\"Canti\"].apply(float)\n",
        "df_2017[\"PVP\"] = df_2017[\"PVP\"].apply(float)\n",
        "df_2017[\"Dto\"] = df_2017[\"Dto\"].apply(float)\n",
        "df_2017[\"Neto\"] = df_2017[\"Neto\"].apply(float)\n",
        "df_2017[\"Costo\"] = df_2017[\"Costo\"].apply(float)\n",
        "df_2017[\"Beneficio\"] = df_2017[\"Beneficio\"].apply(float)\n",
        "df_2017[\"COM\"] = df_2017[\"COM\"].apply(float)\n",
        "df_2017[\"Comision\"] = df_2017[\"Comision\"].apply(float)\n",
        "df_2017[\"Famil_apr\"] = df_2017[\"COM\"].apply(str)\n",
        "df_2017[\"Tipo\"] = df_2017[\"Tipo\"].apply(str)\n",
        "df_2017[\"Recep\"] = df_2017[\"Recep\"].apply(str)\n",
        "df_2017[\"PVP1\"] = df_2017[\"PVP1\"].apply(float)\n",
        "df_2017[\"TOTAL_PVP\"] = df_2017[\"TOTAL_PVP\"].apply(float)\n",
        "df_2017[\"Opera\"] = df_2017[\"Opera\"].apply(str)\n",
        "df_2017[\"Nombre\"] = df_2017[\"Nombre\"].apply(str)\n",
        "df_2017[\"Tipo_venta\"] = df_2017[\"Tipo_venta\"].apply(str)\n",
        "df_2017[\"Famil\"] = df_2017[\"Famil\"].apply(str)\n",
        "df_2017[\"Bastidor\"] = df_2017[\"Bastidor\"].apply(str)"
      ],
      "metadata": {
        "id": "DxA4ruHIO60m"
      },
      "execution_count": 28,
      "outputs": []
    },
    {
      "cell_type": "code",
      "source": [
        "print(\"la fecha va desde {} a {}\".format(df_2017.Fech_cierre.min(), df_2017.Fech_cierre.max()))"
      ],
      "metadata": {
        "colab": {
          "base_uri": "https://localhost:8080/"
        },
        "id": "K6dInxojPEko",
        "outputId": "8e534430-7cb7-4da3-e859-e42ee2b53373"
      },
      "execution_count": 29,
      "outputs": [
        {
          "output_type": "stream",
          "name": "stdout",
          "text": [
            "la fecha va desde 2017-01-02 00:00:00 a 2017-12-29 00:00:00\n"
          ]
        }
      ]
    },
    {
      "cell_type": "code",
      "source": [
        "dataframes = [df_2015, df_2016, df_2017]"
      ],
      "metadata": {
        "id": "4k-GSeo7PP3b"
      },
      "execution_count": 30,
      "outputs": []
    },
    {
      "cell_type": "code",
      "source": [
        "total_2015_2016_2017 = pd.concat(dataframes)"
      ],
      "metadata": {
        "id": "NE9YsAn5PbWL"
      },
      "execution_count": 31,
      "outputs": []
    },
    {
      "cell_type": "code",
      "source": [
        "total_2015_2016_2017.shape"
      ],
      "metadata": {
        "colab": {
          "base_uri": "https://localhost:8080/"
        },
        "id": "2Q9uVinHPkAn",
        "outputId": "87cbc707-f21f-41ec-ef4f-ac291cf1655a"
      },
      "execution_count": 32,
      "outputs": [
        {
          "output_type": "execute_result",
          "data": {
            "text/plain": [
              "(590079, 27)"
            ]
          },
          "metadata": {},
          "execution_count": 32
        }
      ]
    },
    {
      "cell_type": "code",
      "source": [
        "total_2015_2016_2017 = total_2015_2016_2017[~total_2015_2016_2017.Fech_cierre.isnull()]\n"
      ],
      "metadata": {
        "id": "lYL-qdwFPmrH"
      },
      "execution_count": 33,
      "outputs": []
    },
    {
      "cell_type": "code",
      "source": [
        "total_2015_2016_2017.isnull().sum()"
      ],
      "metadata": {
        "colab": {
          "base_uri": "https://localhost:8080/"
        },
        "id": "f2hvKccGPyST",
        "outputId": "3cfb3c59-2d4f-4924-c528-dbfd2efbce51"
      },
      "execution_count": 34,
      "outputs": [
        {
          "output_type": "execute_result",
          "data": {
            "text/plain": [
              "Unnamed: 0           0\n",
              "Alma                 0\n",
              "Cuenta               0\n",
              "Refer                0\n",
              "Fech_Salida          2\n",
              "Articulo             0\n",
              "Clav                 0\n",
              "Denominacion         0\n",
              "Canti                0\n",
              "PVP                  0\n",
              "Dto             273694\n",
              "Neto                 0\n",
              "Costo                0\n",
              "Beneficio            0\n",
              "COM                  0\n",
              "Comision             0\n",
              "Famil_apr            0\n",
              "Fech_cierre          0\n",
              "Tipo                 0\n",
              "Recep                0\n",
              "PVP1                 0\n",
              "TOTAL_PVP            0\n",
              "Opera                0\n",
              "Nombre               0\n",
              "Tipo_venta           0\n",
              "Famil                0\n",
              "Bastidor             0\n",
              "dtype: int64"
            ]
          },
          "metadata": {},
          "execution_count": 34
        }
      ]
    },
    {
      "cell_type": "code",
      "source": [
        "print(\"la fecha va desde {} a {}\".format(total_2015_2016_2017.Fech_cierre.min(), total_2015_2016_2017.Fech_cierre.max()))"
      ],
      "metadata": {
        "colab": {
          "base_uri": "https://localhost:8080/"
        },
        "id": "Uv391itCP2Nq",
        "outputId": "9e17a1e3-f5dd-462d-aa6c-9bf396f689c6"
      },
      "execution_count": 35,
      "outputs": [
        {
          "output_type": "stream",
          "name": "stdout",
          "text": [
            "la fecha va desde 2015-01-04 00:00:00 a 2017-12-29 00:00:00\n"
          ]
        }
      ]
    },
    {
      "cell_type": "code",
      "source": [
        "total_2015_2016_2017.shape"
      ],
      "metadata": {
        "colab": {
          "base_uri": "https://localhost:8080/"
        },
        "id": "yUirEYYBQHSc",
        "outputId": "6dfc36c5-665f-48ff-a0c3-f372ae9b38bc"
      },
      "execution_count": 36,
      "outputs": [
        {
          "output_type": "execute_result",
          "data": {
            "text/plain": [
              "(590079, 27)"
            ]
          },
          "metadata": {},
          "execution_count": 36
        }
      ]
    },
    {
      "cell_type": "code",
      "source": [
        "df_2018 = pd.read_csv(\"/content/drive/MyDrive/Colab Notebooks/total_recambios_2018.csv\", decimal=\",\")"
      ],
      "metadata": {
        "id": "KRPox8fRQn6o"
      },
      "execution_count": 37,
      "outputs": []
    },
    {
      "cell_type": "code",
      "source": [
        "df_2018.shape"
      ],
      "metadata": {
        "id": "OexhtLH9Rb-n",
        "outputId": "6c055c92-8610-426e-85a8-259902ee7bc3",
        "colab": {
          "base_uri": "https://localhost:8080/"
        }
      },
      "execution_count": 38,
      "outputs": [
        {
          "output_type": "execute_result",
          "data": {
            "text/plain": [
              "(234023, 27)"
            ]
          },
          "metadata": {},
          "execution_count": 38
        }
      ]
    },
    {
      "cell_type": "code",
      "source": [
        "df_2018 = df_2018.rename(columns={\"Refer.\":\"Refer\", \"Fec.sali\": \"Fech_Salida\", \"Artículo\":\"Articulo\", \"P.V.P.\": \"PVP\", \"Dto.\":\"Dto\", \"% Com\":\"COM\", \"Fam.a\":\"Famil_apr\", \"F.cierre\":\"Fech_cierre\",\n",
        "                        \"P.V.P..1\": \"PVP1\", \"TOTAL PVP\":\"TOTAL_PVP\",\"Tipo.1\": \"Tipo_venta\" })"
      ],
      "metadata": {
        "id": "AxDOiPY9RtvD"
      },
      "execution_count": 39,
      "outputs": []
    },
    {
      "cell_type": "code",
      "source": [
        "df_2018 = df_2018[~df_2018.Cuenta.isnull()]\n",
        "df_2018 = df_2018[~df_2018.Fech_cierre.isnull()]\n",
        "df_2018 = df_2018[~df_2018.Canti.isnull()]"
      ],
      "metadata": {
        "id": "Psc-yGrTSFgy"
      },
      "execution_count": 40,
      "outputs": []
    },
    {
      "cell_type": "code",
      "source": [
        "# lo primero que voy a hacer es cambiar de tipo de datos. \n",
        "df_2018[\"Alma\"] = df_2018[\"Alma\"].apply(str)\n",
        "df_2018[\"Cuenta\"] = df_2018[\"Cuenta\"].apply(str)\n",
        "df_2018[\"Refer\"] = df_2018[\"Refer\"].apply(str)\n",
        "df_2018[\"Fech_cierre\"] = pd.to_datetime(df_2018[\"Fech_cierre\"])\n",
        "df_2018[\"Articulo\"] = df_2018[\"Articulo\"].apply(str)\n",
        "df_2018[\"Clav\"] = df_2018[\"Clav\"].apply(str)\n",
        "df_2018[\"Denominacion\"] = df_2018[\"Denominacion\"].apply(str)\n",
        "df_2018[\"Canti\"] = df_2018[\"Canti\"].apply(float)\n",
        "df_2018[\"PVP\"] = df_2018[\"PVP\"].apply(float)\n",
        "df_2018[\"Dto\"] = df_2018[\"Dto\"].apply(float)\n",
        "df_2018[\"Neto\"] = df_2018[\"Neto\"].apply(float)\n",
        "df_2018[\"Costo\"] = df_2018[\"Costo\"].apply(float)\n",
        "df_2018[\"Beneficio\"] = df_2018[\"Beneficio\"].apply(float)\n",
        "df_2018[\"COM\"] = df_2018[\"COM\"].apply(float)\n",
        "df_2018[\"Comision\"] = df_2018[\"Comision\"].apply(float)\n",
        "df_2018[\"Famil_apr\"] = df_2018[\"COM\"].apply(str)\n",
        "df_2018[\"Tipo\"] = df_2018[\"Tipo\"].apply(str)\n",
        "df_2018[\"Recep\"] = df_2018[\"Recep\"].apply(str)\n",
        "df_2018[\"PVP1\"] = df_2018[\"PVP1\"].apply(float)\n",
        "df_2018[\"TOTAL_PVP\"] = df_2018[\"TOTAL_PVP\"].apply(float)\n",
        "df_2018[\"Opera\"] = df_2018[\"Opera\"].apply(str)\n",
        "df_2018[\"Nombre\"] = df_2018[\"Nombre\"].apply(str)\n",
        "df_2018[\"Tipo_venta\"] = df_2018[\"Tipo_venta\"].apply(str)\n",
        "df_2018[\"Famil\"] = df_2018[\"Famil\"].apply(str)\n",
        "df_2018[\"Bastidor\"] = df_2018[\"Bastidor\"].apply(str)"
      ],
      "metadata": {
        "id": "ysoV3iolR19A"
      },
      "execution_count": 41,
      "outputs": []
    },
    {
      "cell_type": "code",
      "source": [
        "df_2018.isnull().sum()"
      ],
      "metadata": {
        "id": "JTbE7loCR-OF",
        "outputId": "1158e7f3-c31f-4f19-8898-793ac856be73",
        "colab": {
          "base_uri": "https://localhost:8080/"
        }
      },
      "execution_count": 42,
      "outputs": [
        {
          "output_type": "execute_result",
          "data": {
            "text/plain": [
              "Unnamed: 0          0\n",
              "Alma                0\n",
              "Cuenta              0\n",
              "Refer               0\n",
              "Fech_Salida         0\n",
              "Articulo            0\n",
              "Clav                0\n",
              "Denominacion        0\n",
              "Canti               0\n",
              "PVP                 0\n",
              "Dto             80003\n",
              "Neto                0\n",
              "Costo               0\n",
              "Beneficio           0\n",
              "COM                 0\n",
              "Comision            0\n",
              "Famil_apr           0\n",
              "Fech_cierre         0\n",
              "Tipo                0\n",
              "Recep               0\n",
              "PVP1                0\n",
              "TOTAL_PVP           0\n",
              "Opera               0\n",
              "Nombre              0\n",
              "Tipo_venta          0\n",
              "Famil               0\n",
              "Bastidor            0\n",
              "dtype: int64"
            ]
          },
          "metadata": {},
          "execution_count": 42
        }
      ]
    },
    {
      "cell_type": "code",
      "source": [
        "print(\"la fecha va desde {} a {}\".format(df_2018.Fech_cierre.min(), df_2018.Fech_cierre.max()))"
      ],
      "metadata": {
        "id": "BGnR9lXBTCUD",
        "outputId": "e132ca07-a028-4fd3-e5b3-7e4ef8bd4829",
        "colab": {
          "base_uri": "https://localhost:8080/"
        }
      },
      "execution_count": 43,
      "outputs": [
        {
          "output_type": "stream",
          "name": "stdout",
          "text": [
            "la fecha va desde 2018-01-02 00:00:00 a 2018-12-28 00:00:00\n"
          ]
        }
      ]
    },
    {
      "cell_type": "code",
      "source": [
        "dataframes = [df_2015, df_2016, df_2017, df_2018]"
      ],
      "metadata": {
        "id": "AZ6bYDHcTPTJ"
      },
      "execution_count": 44,
      "outputs": []
    },
    {
      "cell_type": "code",
      "source": [
        "total_2015_2016_2017_2018 = pd.concat(dataframes)"
      ],
      "metadata": {
        "id": "halYbnvVTprt"
      },
      "execution_count": 45,
      "outputs": []
    },
    {
      "cell_type": "code",
      "source": [
        "total_2015_2016_2017_2018.shape"
      ],
      "metadata": {
        "id": "wOe_ZauOTwKN",
        "outputId": "492b4b6a-1765-4832-cb67-af46d551d850",
        "colab": {
          "base_uri": "https://localhost:8080/"
        }
      },
      "execution_count": 46,
      "outputs": [
        {
          "output_type": "execute_result",
          "data": {
            "text/plain": [
              "(818583, 27)"
            ]
          },
          "metadata": {},
          "execution_count": 46
        }
      ]
    },
    {
      "cell_type": "code",
      "source": [
        "total_2015_2016_2017_2018.isnull().sum()"
      ],
      "metadata": {
        "id": "NhN0EUWlTzNr",
        "outputId": "063950e5-42e3-456a-8b47-ea179d4e13b1",
        "colab": {
          "base_uri": "https://localhost:8080/"
        }
      },
      "execution_count": 47,
      "outputs": [
        {
          "output_type": "execute_result",
          "data": {
            "text/plain": [
              "Unnamed: 0           0\n",
              "Alma                 0\n",
              "Cuenta               0\n",
              "Refer                0\n",
              "Fech_Salida          2\n",
              "Articulo             0\n",
              "Clav                 0\n",
              "Denominacion         0\n",
              "Canti                0\n",
              "PVP                  0\n",
              "Dto             353697\n",
              "Neto                 0\n",
              "Costo                0\n",
              "Beneficio            0\n",
              "COM                  0\n",
              "Comision             0\n",
              "Famil_apr            0\n",
              "Fech_cierre          0\n",
              "Tipo                 0\n",
              "Recep                0\n",
              "PVP1                 0\n",
              "TOTAL_PVP            0\n",
              "Opera                0\n",
              "Nombre               0\n",
              "Tipo_venta           0\n",
              "Famil                0\n",
              "Bastidor             0\n",
              "dtype: int64"
            ]
          },
          "metadata": {},
          "execution_count": 47
        }
      ]
    },
    {
      "cell_type": "code",
      "source": [
        ""
      ],
      "metadata": {
        "id": "B2-LuhZ9T3CW"
      },
      "execution_count": 47,
      "outputs": []
    }
  ]
}