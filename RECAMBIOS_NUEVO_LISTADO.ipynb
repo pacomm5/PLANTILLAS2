{
  "nbformat": 4,
  "nbformat_minor": 0,
  "metadata": {
    "colab": {
      "name": "RECAMBIOS_NUEVO_LISTADO.ipynb",
      "provenance": [],
      "authorship_tag": "ABX9TyNlOg4RJ+XCG1eGWkSoH5SP",
      "include_colab_link": true
    },
    "kernelspec": {
      "name": "python3",
      "display_name": "Python 3"
    },
    "language_info": {
      "name": "python"
    }
  },
  "cells": [
    {
      "cell_type": "markdown",
      "metadata": {
        "id": "view-in-github",
        "colab_type": "text"
      },
      "source": [
        "<a href=\"https://colab.research.google.com/github/pacomm5/PLANTILLAS2/blob/main/RECAMBIOS_NUEVO_LISTADO.ipynb\" target=\"_parent\"><img src=\"https://colab.research.google.com/assets/colab-badge.svg\" alt=\"Open In Colab\"/></a>"
      ]
    },
    {
      "cell_type": "code",
      "source": [
        "import pandas as pd\n"
      ],
      "metadata": {
        "id": "2-pPDO6ZNK4y"
      },
      "execution_count": 29,
      "outputs": []
    },
    {
      "cell_type": "code",
      "source": [
        "enero2015 = pd.read_csv(\"/content/201501.TXT\", sep=\",\", encoding= \"ISO-8859-1\")"
      ],
      "metadata": {
        "id": "pR6MZwDuU5Ds"
      },
      "execution_count": 30,
      "outputs": []
    },
    {
      "cell_type": "code",
      "source": [
        "enero2015.head()"
      ],
      "metadata": {
        "colab": {
          "base_uri": "https://localhost:8080/",
          "height": 236
        },
        "id": "QdhS0xN4a9Q2",
        "outputId": "6e4e054a-3545-44a0-e5e2-840e6cf89b01"
      },
      "execution_count": 31,
      "outputs": [
        {
          "output_type": "execute_result",
          "data": {
            "text/plain": [
              "  Alma Cuenta     Refer.  Fec.sali           Artículo Clav  Denominacion  \\\n",
              "0    1  98253  6522204.0  27/01/15      11/5K0807109M    6   REFUERZO 10   \n",
              "1    1  98253  6522204.0  27/01/15  11/5K0807217BLGRU    4  GUARNECID 10   \n",
              "2    1  98253  6522204.0  27/01/15      11/5K0807571J    6       GUIA 10   \n",
              "3    1  98253  6522204.0  27/01/15      11/5K0919491B    8     HALTER 10   \n",
              "4    1  98253  6522204.0  27/01/15      11/5K0919493G    8     HALTER 10   \n",
              "\n",
              "  Canti  P.V.P.   Dto.  ...  F.cierre Tipo Recep P.V.P..1 TOTAL PVP Opera  \\\n",
              "0     1  173,93  10,00  ...  27/01/15   5V  85.0   214,00    214,00   1.0   \n",
              "1     1  316,39  10,00  ...  27/01/15   5V  85.0   401,00    401,00   1.0   \n",
              "2     1   31,75  10,00  ...  27/01/15   5V  85.0    45,40     45,40   1.0   \n",
              "3     2   13,60  10,00  ...  27/01/15   5V  85.0    11,15     22,30   1.0   \n",
              "4     2   13,60  10,00  ...  27/01/15   5V  85.0    11,15     22,30   1.0   \n",
              "\n",
              "                   Nombre Tipo.1  Famil           Bastidor  \n",
              "0  MANUEL ESCUDERO GARCIA     7V    AL8  WVWZZZ1KZ9W487026  \n",
              "1  MANUEL ESCUDERO GARCIA     7V    ALH  WVWZZZ1KZ9W487026  \n",
              "2  MANUEL ESCUDERO GARCIA     7V    AL7  WVWZZZ1KZ9W487026  \n",
              "3  MANUEL ESCUDERO GARCIA     7V    ANW  WVWZZZ1KZ9W487026  \n",
              "4  MANUEL ESCUDERO GARCIA     7V    ANW  WVWZZZ1KZ9W487026  \n",
              "\n",
              "[5 rows x 26 columns]"
            ],
            "text/html": [
              "\n",
              "  <div id=\"df-f0990bd6-fb63-4be2-84d3-d68e402d8229\">\n",
              "    <div class=\"colab-df-container\">\n",
              "      <div>\n",
              "<style scoped>\n",
              "    .dataframe tbody tr th:only-of-type {\n",
              "        vertical-align: middle;\n",
              "    }\n",
              "\n",
              "    .dataframe tbody tr th {\n",
              "        vertical-align: top;\n",
              "    }\n",
              "\n",
              "    .dataframe thead th {\n",
              "        text-align: right;\n",
              "    }\n",
              "</style>\n",
              "<table border=\"1\" class=\"dataframe\">\n",
              "  <thead>\n",
              "    <tr style=\"text-align: right;\">\n",
              "      <th></th>\n",
              "      <th>Alma</th>\n",
              "      <th>Cuenta</th>\n",
              "      <th>Refer.</th>\n",
              "      <th>Fec.sali</th>\n",
              "      <th>Artículo</th>\n",
              "      <th>Clav</th>\n",
              "      <th>Denominacion</th>\n",
              "      <th>Canti</th>\n",
              "      <th>P.V.P.</th>\n",
              "      <th>Dto.</th>\n",
              "      <th>...</th>\n",
              "      <th>F.cierre</th>\n",
              "      <th>Tipo</th>\n",
              "      <th>Recep</th>\n",
              "      <th>P.V.P..1</th>\n",
              "      <th>TOTAL PVP</th>\n",
              "      <th>Opera</th>\n",
              "      <th>Nombre</th>\n",
              "      <th>Tipo.1</th>\n",
              "      <th>Famil</th>\n",
              "      <th>Bastidor</th>\n",
              "    </tr>\n",
              "  </thead>\n",
              "  <tbody>\n",
              "    <tr>\n",
              "      <th>0</th>\n",
              "      <td>1</td>\n",
              "      <td>98253</td>\n",
              "      <td>6522204.0</td>\n",
              "      <td>27/01/15</td>\n",
              "      <td>11/5K0807109M</td>\n",
              "      <td>6</td>\n",
              "      <td>REFUERZO 10</td>\n",
              "      <td>1</td>\n",
              "      <td>173,93</td>\n",
              "      <td>10,00</td>\n",
              "      <td>...</td>\n",
              "      <td>27/01/15</td>\n",
              "      <td>5V</td>\n",
              "      <td>85.0</td>\n",
              "      <td>214,00</td>\n",
              "      <td>214,00</td>\n",
              "      <td>1.0</td>\n",
              "      <td>MANUEL ESCUDERO GARCIA</td>\n",
              "      <td>7V</td>\n",
              "      <td>AL8</td>\n",
              "      <td>WVWZZZ1KZ9W487026</td>\n",
              "    </tr>\n",
              "    <tr>\n",
              "      <th>1</th>\n",
              "      <td>1</td>\n",
              "      <td>98253</td>\n",
              "      <td>6522204.0</td>\n",
              "      <td>27/01/15</td>\n",
              "      <td>11/5K0807217BLGRU</td>\n",
              "      <td>4</td>\n",
              "      <td>GUARNECID 10</td>\n",
              "      <td>1</td>\n",
              "      <td>316,39</td>\n",
              "      <td>10,00</td>\n",
              "      <td>...</td>\n",
              "      <td>27/01/15</td>\n",
              "      <td>5V</td>\n",
              "      <td>85.0</td>\n",
              "      <td>401,00</td>\n",
              "      <td>401,00</td>\n",
              "      <td>1.0</td>\n",
              "      <td>MANUEL ESCUDERO GARCIA</td>\n",
              "      <td>7V</td>\n",
              "      <td>ALH</td>\n",
              "      <td>WVWZZZ1KZ9W487026</td>\n",
              "    </tr>\n",
              "    <tr>\n",
              "      <th>2</th>\n",
              "      <td>1</td>\n",
              "      <td>98253</td>\n",
              "      <td>6522204.0</td>\n",
              "      <td>27/01/15</td>\n",
              "      <td>11/5K0807571J</td>\n",
              "      <td>6</td>\n",
              "      <td>GUIA 10</td>\n",
              "      <td>1</td>\n",
              "      <td>31,75</td>\n",
              "      <td>10,00</td>\n",
              "      <td>...</td>\n",
              "      <td>27/01/15</td>\n",
              "      <td>5V</td>\n",
              "      <td>85.0</td>\n",
              "      <td>45,40</td>\n",
              "      <td>45,40</td>\n",
              "      <td>1.0</td>\n",
              "      <td>MANUEL ESCUDERO GARCIA</td>\n",
              "      <td>7V</td>\n",
              "      <td>AL7</td>\n",
              "      <td>WVWZZZ1KZ9W487026</td>\n",
              "    </tr>\n",
              "    <tr>\n",
              "      <th>3</th>\n",
              "      <td>1</td>\n",
              "      <td>98253</td>\n",
              "      <td>6522204.0</td>\n",
              "      <td>27/01/15</td>\n",
              "      <td>11/5K0919491B</td>\n",
              "      <td>8</td>\n",
              "      <td>HALTER 10</td>\n",
              "      <td>2</td>\n",
              "      <td>13,60</td>\n",
              "      <td>10,00</td>\n",
              "      <td>...</td>\n",
              "      <td>27/01/15</td>\n",
              "      <td>5V</td>\n",
              "      <td>85.0</td>\n",
              "      <td>11,15</td>\n",
              "      <td>22,30</td>\n",
              "      <td>1.0</td>\n",
              "      <td>MANUEL ESCUDERO GARCIA</td>\n",
              "      <td>7V</td>\n",
              "      <td>ANW</td>\n",
              "      <td>WVWZZZ1KZ9W487026</td>\n",
              "    </tr>\n",
              "    <tr>\n",
              "      <th>4</th>\n",
              "      <td>1</td>\n",
              "      <td>98253</td>\n",
              "      <td>6522204.0</td>\n",
              "      <td>27/01/15</td>\n",
              "      <td>11/5K0919493G</td>\n",
              "      <td>8</td>\n",
              "      <td>HALTER 10</td>\n",
              "      <td>2</td>\n",
              "      <td>13,60</td>\n",
              "      <td>10,00</td>\n",
              "      <td>...</td>\n",
              "      <td>27/01/15</td>\n",
              "      <td>5V</td>\n",
              "      <td>85.0</td>\n",
              "      <td>11,15</td>\n",
              "      <td>22,30</td>\n",
              "      <td>1.0</td>\n",
              "      <td>MANUEL ESCUDERO GARCIA</td>\n",
              "      <td>7V</td>\n",
              "      <td>ANW</td>\n",
              "      <td>WVWZZZ1KZ9W487026</td>\n",
              "    </tr>\n",
              "  </tbody>\n",
              "</table>\n",
              "<p>5 rows × 26 columns</p>\n",
              "</div>\n",
              "      <button class=\"colab-df-convert\" onclick=\"convertToInteractive('df-f0990bd6-fb63-4be2-84d3-d68e402d8229')\"\n",
              "              title=\"Convert this dataframe to an interactive table.\"\n",
              "              style=\"display:none;\">\n",
              "        \n",
              "  <svg xmlns=\"http://www.w3.org/2000/svg\" height=\"24px\"viewBox=\"0 0 24 24\"\n",
              "       width=\"24px\">\n",
              "    <path d=\"M0 0h24v24H0V0z\" fill=\"none\"/>\n",
              "    <path d=\"M18.56 5.44l.94 2.06.94-2.06 2.06-.94-2.06-.94-.94-2.06-.94 2.06-2.06.94zm-11 1L8.5 8.5l.94-2.06 2.06-.94-2.06-.94L8.5 2.5l-.94 2.06-2.06.94zm10 10l.94 2.06.94-2.06 2.06-.94-2.06-.94-.94-2.06-.94 2.06-2.06.94z\"/><path d=\"M17.41 7.96l-1.37-1.37c-.4-.4-.92-.59-1.43-.59-.52 0-1.04.2-1.43.59L10.3 9.45l-7.72 7.72c-.78.78-.78 2.05 0 2.83L4 21.41c.39.39.9.59 1.41.59.51 0 1.02-.2 1.41-.59l7.78-7.78 2.81-2.81c.8-.78.8-2.07 0-2.86zM5.41 20L4 18.59l7.72-7.72 1.47 1.35L5.41 20z\"/>\n",
              "  </svg>\n",
              "      </button>\n",
              "      \n",
              "  <style>\n",
              "    .colab-df-container {\n",
              "      display:flex;\n",
              "      flex-wrap:wrap;\n",
              "      gap: 12px;\n",
              "    }\n",
              "\n",
              "    .colab-df-convert {\n",
              "      background-color: #E8F0FE;\n",
              "      border: none;\n",
              "      border-radius: 50%;\n",
              "      cursor: pointer;\n",
              "      display: none;\n",
              "      fill: #1967D2;\n",
              "      height: 32px;\n",
              "      padding: 0 0 0 0;\n",
              "      width: 32px;\n",
              "    }\n",
              "\n",
              "    .colab-df-convert:hover {\n",
              "      background-color: #E2EBFA;\n",
              "      box-shadow: 0px 1px 2px rgba(60, 64, 67, 0.3), 0px 1px 3px 1px rgba(60, 64, 67, 0.15);\n",
              "      fill: #174EA6;\n",
              "    }\n",
              "\n",
              "    [theme=dark] .colab-df-convert {\n",
              "      background-color: #3B4455;\n",
              "      fill: #D2E3FC;\n",
              "    }\n",
              "\n",
              "    [theme=dark] .colab-df-convert:hover {\n",
              "      background-color: #434B5C;\n",
              "      box-shadow: 0px 1px 3px 1px rgba(0, 0, 0, 0.15);\n",
              "      filter: drop-shadow(0px 1px 2px rgba(0, 0, 0, 0.3));\n",
              "      fill: #FFFFFF;\n",
              "    }\n",
              "  </style>\n",
              "\n",
              "      <script>\n",
              "        const buttonEl =\n",
              "          document.querySelector('#df-f0990bd6-fb63-4be2-84d3-d68e402d8229 button.colab-df-convert');\n",
              "        buttonEl.style.display =\n",
              "          google.colab.kernel.accessAllowed ? 'block' : 'none';\n",
              "\n",
              "        async function convertToInteractive(key) {\n",
              "          const element = document.querySelector('#df-f0990bd6-fb63-4be2-84d3-d68e402d8229');\n",
              "          const dataTable =\n",
              "            await google.colab.kernel.invokeFunction('convertToInteractive',\n",
              "                                                     [key], {});\n",
              "          if (!dataTable) return;\n",
              "\n",
              "          const docLinkHtml = 'Like what you see? Visit the ' +\n",
              "            '<a target=\"_blank\" href=https://colab.research.google.com/notebooks/data_table.ipynb>data table notebook</a>'\n",
              "            + ' to learn more about interactive tables.';\n",
              "          element.innerHTML = '';\n",
              "          dataTable['output_type'] = 'display_data';\n",
              "          await google.colab.output.renderOutput(dataTable, element);\n",
              "          const docLink = document.createElement('div');\n",
              "          docLink.innerHTML = docLinkHtml;\n",
              "          element.appendChild(docLink);\n",
              "        }\n",
              "      </script>\n",
              "    </div>\n",
              "  </div>\n",
              "  "
            ]
          },
          "metadata": {},
          "execution_count": 31
        }
      ]
    },
    {
      "cell_type": "code",
      "source": [
        "enero2015.shape"
      ],
      "metadata": {
        "colab": {
          "base_uri": "https://localhost:8080/"
        },
        "id": "F5HBi1XYefcT",
        "outputId": "46549180-5de4-4494-f083-2e9aa7a4bf9b"
      },
      "execution_count": 32,
      "outputs": [
        {
          "output_type": "execute_result",
          "data": {
            "text/plain": [
              "(12463, 26)"
            ]
          },
          "metadata": {},
          "execution_count": 32
        }
      ]
    },
    {
      "cell_type": "code",
      "source": [
        "enero2015 = enero2015[~enero2015.Cuenta.isnull()]"
      ],
      "metadata": {
        "id": "IPkh4jJ8hy69"
      },
      "execution_count": 33,
      "outputs": []
    },
    {
      "cell_type": "code",
      "source": [
        "enero2015.isnull().sum()"
      ],
      "metadata": {
        "colab": {
          "base_uri": "https://localhost:8080/"
        },
        "id": "HGQ6aQOtiMb8",
        "outputId": "a874cef5-1872-427e-cff1-8d6005cdd02a"
      },
      "execution_count": 34,
      "outputs": [
        {
          "output_type": "execute_result",
          "data": {
            "text/plain": [
              "Alma               0\n",
              "Cuenta             0\n",
              "Refer.             0\n",
              "Fec.sali           0\n",
              "Artículo           0\n",
              "Clav             972\n",
              "Denominacion       0\n",
              "Canti              0\n",
              "P.V.P.             0\n",
              "Dto.            6506\n",
              "Neto               0\n",
              "Costo              0\n",
              "Beneficio          0\n",
              "% Com              0\n",
              "Comision           0\n",
              "Fam.a            720\n",
              "F.cierre           0\n",
              "Tipo               0\n",
              "Recep              0\n",
              "P.V.P..1           0\n",
              "TOTAL PVP          0\n",
              "Opera              0\n",
              "Nombre             0\n",
              "Tipo.1             0\n",
              "Famil              3\n",
              "Bastidor           0\n",
              "dtype: int64"
            ]
          },
          "metadata": {},
          "execution_count": 34
        }
      ]
    },
    {
      "cell_type": "code",
      "source": [
        "febrero2015 = pd.read_csv(\"/content/201502.txt\", sep=\",\", encoding= \"ISO-8859-1\")"
      ],
      "metadata": {
        "id": "R9LXmfTbdRV_"
      },
      "execution_count": 35,
      "outputs": []
    },
    {
      "cell_type": "code",
      "source": [
        "febrero2015.shape"
      ],
      "metadata": {
        "colab": {
          "base_uri": "https://localhost:8080/"
        },
        "id": "MTO0PVraf3TI",
        "outputId": "db07157c-fa97-4d6a-85fb-9ee6954be19b"
      },
      "execution_count": 36,
      "outputs": [
        {
          "output_type": "execute_result",
          "data": {
            "text/plain": [
              "(13526, 26)"
            ]
          },
          "metadata": {},
          "execution_count": 36
        }
      ]
    },
    {
      "cell_type": "code",
      "source": [
        "febrero2015 = febrero2015[~febrero2015.Cuenta.isnull()]"
      ],
      "metadata": {
        "id": "-9H2wfgUgjsB"
      },
      "execution_count": 37,
      "outputs": []
    },
    {
      "cell_type": "code",
      "source": [
        "febrero2015.isnull().sum()"
      ],
      "metadata": {
        "colab": {
          "base_uri": "https://localhost:8080/"
        },
        "id": "3JpLV1Xyf6TS",
        "outputId": "8cb2df98-e4d3-4870-dcfa-3eca1a3d047d"
      },
      "execution_count": 38,
      "outputs": [
        {
          "output_type": "execute_result",
          "data": {
            "text/plain": [
              "Alma               0\n",
              "Cuenta             0\n",
              "Refer.             0\n",
              "Fec.sali           0\n",
              "Artículo           0\n",
              "Clav            1036\n",
              "Denominacion       0\n",
              "Canti              0\n",
              "P.V.P.             0\n",
              "Dto.            6979\n",
              "Neto               0\n",
              "Costo              0\n",
              "Beneficio          0\n",
              "% Com              0\n",
              "Comision           0\n",
              "Fam.a            724\n",
              "F.cierre           0\n",
              "Tipo               0\n",
              "Recep              0\n",
              "P.V.P..1           0\n",
              "TOTAL PVP          0\n",
              "Opera              1\n",
              "Nombre             1\n",
              "Tipo.1             0\n",
              "Famil              0\n",
              "Bastidor           0\n",
              "dtype: int64"
            ]
          },
          "metadata": {},
          "execution_count": 38
        }
      ]
    },
    {
      "cell_type": "code",
      "source": [
        "febrero2015.shape"
      ],
      "metadata": {
        "colab": {
          "base_uri": "https://localhost:8080/"
        },
        "id": "zh5xXosHgFi8",
        "outputId": "c6ea2587-ba8b-4886-a362-556df9989ae6"
      },
      "execution_count": 39,
      "outputs": [
        {
          "output_type": "execute_result",
          "data": {
            "text/plain": [
              "(13415, 26)"
            ]
          },
          "metadata": {},
          "execution_count": 39
        }
      ]
    },
    {
      "cell_type": "code",
      "source": [
        "dataframes = [enero2015, febrero2015]\n",
        "resultado = pd.concat(dataframes)"
      ],
      "metadata": {
        "id": "HWRqS2kyiYo6"
      },
      "execution_count": 40,
      "outputs": []
    },
    {
      "cell_type": "code",
      "source": [
        "resultado.head()"
      ],
      "metadata": {
        "colab": {
          "base_uri": "https://localhost:8080/",
          "height": 236
        },
        "id": "jFPeQYqCjA0n",
        "outputId": "6146197f-b8cc-4fea-b086-697a4a56c330"
      },
      "execution_count": 41,
      "outputs": [
        {
          "output_type": "execute_result",
          "data": {
            "text/plain": [
              "  Alma Cuenta     Refer.  Fec.sali           Artículo Clav  Denominacion  \\\n",
              "0    1  98253  6522204.0  27/01/15      11/5K0807109M    6   REFUERZO 10   \n",
              "1    1  98253  6522204.0  27/01/15  11/5K0807217BLGRU    4  GUARNECID 10   \n",
              "2    1  98253  6522204.0  27/01/15      11/5K0807571J    6       GUIA 10   \n",
              "3    1  98253  6522204.0  27/01/15      11/5K0919491B    8     HALTER 10   \n",
              "4    1  98253  6522204.0  27/01/15      11/5K0919493G    8     HALTER 10   \n",
              "\n",
              "  Canti  P.V.P.   Dto.  ...  F.cierre Tipo Recep P.V.P..1 TOTAL PVP Opera  \\\n",
              "0     1  173,93  10,00  ...  27/01/15   5V  85.0   214,00    214,00   1.0   \n",
              "1     1  316,39  10,00  ...  27/01/15   5V  85.0   401,00    401,00   1.0   \n",
              "2     1   31,75  10,00  ...  27/01/15   5V  85.0    45,40     45,40   1.0   \n",
              "3     2   13,60  10,00  ...  27/01/15   5V  85.0    11,15     22,30   1.0   \n",
              "4     2   13,60  10,00  ...  27/01/15   5V  85.0    11,15     22,30   1.0   \n",
              "\n",
              "                   Nombre Tipo.1  Famil           Bastidor  \n",
              "0  MANUEL ESCUDERO GARCIA     7V    AL8  WVWZZZ1KZ9W487026  \n",
              "1  MANUEL ESCUDERO GARCIA     7V    ALH  WVWZZZ1KZ9W487026  \n",
              "2  MANUEL ESCUDERO GARCIA     7V    AL7  WVWZZZ1KZ9W487026  \n",
              "3  MANUEL ESCUDERO GARCIA     7V    ANW  WVWZZZ1KZ9W487026  \n",
              "4  MANUEL ESCUDERO GARCIA     7V    ANW  WVWZZZ1KZ9W487026  \n",
              "\n",
              "[5 rows x 26 columns]"
            ],
            "text/html": [
              "\n",
              "  <div id=\"df-c7c8effc-662f-4600-89cc-2c4f9bfb8332\">\n",
              "    <div class=\"colab-df-container\">\n",
              "      <div>\n",
              "<style scoped>\n",
              "    .dataframe tbody tr th:only-of-type {\n",
              "        vertical-align: middle;\n",
              "    }\n",
              "\n",
              "    .dataframe tbody tr th {\n",
              "        vertical-align: top;\n",
              "    }\n",
              "\n",
              "    .dataframe thead th {\n",
              "        text-align: right;\n",
              "    }\n",
              "</style>\n",
              "<table border=\"1\" class=\"dataframe\">\n",
              "  <thead>\n",
              "    <tr style=\"text-align: right;\">\n",
              "      <th></th>\n",
              "      <th>Alma</th>\n",
              "      <th>Cuenta</th>\n",
              "      <th>Refer.</th>\n",
              "      <th>Fec.sali</th>\n",
              "      <th>Artículo</th>\n",
              "      <th>Clav</th>\n",
              "      <th>Denominacion</th>\n",
              "      <th>Canti</th>\n",
              "      <th>P.V.P.</th>\n",
              "      <th>Dto.</th>\n",
              "      <th>...</th>\n",
              "      <th>F.cierre</th>\n",
              "      <th>Tipo</th>\n",
              "      <th>Recep</th>\n",
              "      <th>P.V.P..1</th>\n",
              "      <th>TOTAL PVP</th>\n",
              "      <th>Opera</th>\n",
              "      <th>Nombre</th>\n",
              "      <th>Tipo.1</th>\n",
              "      <th>Famil</th>\n",
              "      <th>Bastidor</th>\n",
              "    </tr>\n",
              "  </thead>\n",
              "  <tbody>\n",
              "    <tr>\n",
              "      <th>0</th>\n",
              "      <td>1</td>\n",
              "      <td>98253</td>\n",
              "      <td>6522204.0</td>\n",
              "      <td>27/01/15</td>\n",
              "      <td>11/5K0807109M</td>\n",
              "      <td>6</td>\n",
              "      <td>REFUERZO 10</td>\n",
              "      <td>1</td>\n",
              "      <td>173,93</td>\n",
              "      <td>10,00</td>\n",
              "      <td>...</td>\n",
              "      <td>27/01/15</td>\n",
              "      <td>5V</td>\n",
              "      <td>85.0</td>\n",
              "      <td>214,00</td>\n",
              "      <td>214,00</td>\n",
              "      <td>1.0</td>\n",
              "      <td>MANUEL ESCUDERO GARCIA</td>\n",
              "      <td>7V</td>\n",
              "      <td>AL8</td>\n",
              "      <td>WVWZZZ1KZ9W487026</td>\n",
              "    </tr>\n",
              "    <tr>\n",
              "      <th>1</th>\n",
              "      <td>1</td>\n",
              "      <td>98253</td>\n",
              "      <td>6522204.0</td>\n",
              "      <td>27/01/15</td>\n",
              "      <td>11/5K0807217BLGRU</td>\n",
              "      <td>4</td>\n",
              "      <td>GUARNECID 10</td>\n",
              "      <td>1</td>\n",
              "      <td>316,39</td>\n",
              "      <td>10,00</td>\n",
              "      <td>...</td>\n",
              "      <td>27/01/15</td>\n",
              "      <td>5V</td>\n",
              "      <td>85.0</td>\n",
              "      <td>401,00</td>\n",
              "      <td>401,00</td>\n",
              "      <td>1.0</td>\n",
              "      <td>MANUEL ESCUDERO GARCIA</td>\n",
              "      <td>7V</td>\n",
              "      <td>ALH</td>\n",
              "      <td>WVWZZZ1KZ9W487026</td>\n",
              "    </tr>\n",
              "    <tr>\n",
              "      <th>2</th>\n",
              "      <td>1</td>\n",
              "      <td>98253</td>\n",
              "      <td>6522204.0</td>\n",
              "      <td>27/01/15</td>\n",
              "      <td>11/5K0807571J</td>\n",
              "      <td>6</td>\n",
              "      <td>GUIA 10</td>\n",
              "      <td>1</td>\n",
              "      <td>31,75</td>\n",
              "      <td>10,00</td>\n",
              "      <td>...</td>\n",
              "      <td>27/01/15</td>\n",
              "      <td>5V</td>\n",
              "      <td>85.0</td>\n",
              "      <td>45,40</td>\n",
              "      <td>45,40</td>\n",
              "      <td>1.0</td>\n",
              "      <td>MANUEL ESCUDERO GARCIA</td>\n",
              "      <td>7V</td>\n",
              "      <td>AL7</td>\n",
              "      <td>WVWZZZ1KZ9W487026</td>\n",
              "    </tr>\n",
              "    <tr>\n",
              "      <th>3</th>\n",
              "      <td>1</td>\n",
              "      <td>98253</td>\n",
              "      <td>6522204.0</td>\n",
              "      <td>27/01/15</td>\n",
              "      <td>11/5K0919491B</td>\n",
              "      <td>8</td>\n",
              "      <td>HALTER 10</td>\n",
              "      <td>2</td>\n",
              "      <td>13,60</td>\n",
              "      <td>10,00</td>\n",
              "      <td>...</td>\n",
              "      <td>27/01/15</td>\n",
              "      <td>5V</td>\n",
              "      <td>85.0</td>\n",
              "      <td>11,15</td>\n",
              "      <td>22,30</td>\n",
              "      <td>1.0</td>\n",
              "      <td>MANUEL ESCUDERO GARCIA</td>\n",
              "      <td>7V</td>\n",
              "      <td>ANW</td>\n",
              "      <td>WVWZZZ1KZ9W487026</td>\n",
              "    </tr>\n",
              "    <tr>\n",
              "      <th>4</th>\n",
              "      <td>1</td>\n",
              "      <td>98253</td>\n",
              "      <td>6522204.0</td>\n",
              "      <td>27/01/15</td>\n",
              "      <td>11/5K0919493G</td>\n",
              "      <td>8</td>\n",
              "      <td>HALTER 10</td>\n",
              "      <td>2</td>\n",
              "      <td>13,60</td>\n",
              "      <td>10,00</td>\n",
              "      <td>...</td>\n",
              "      <td>27/01/15</td>\n",
              "      <td>5V</td>\n",
              "      <td>85.0</td>\n",
              "      <td>11,15</td>\n",
              "      <td>22,30</td>\n",
              "      <td>1.0</td>\n",
              "      <td>MANUEL ESCUDERO GARCIA</td>\n",
              "      <td>7V</td>\n",
              "      <td>ANW</td>\n",
              "      <td>WVWZZZ1KZ9W487026</td>\n",
              "    </tr>\n",
              "  </tbody>\n",
              "</table>\n",
              "<p>5 rows × 26 columns</p>\n",
              "</div>\n",
              "      <button class=\"colab-df-convert\" onclick=\"convertToInteractive('df-c7c8effc-662f-4600-89cc-2c4f9bfb8332')\"\n",
              "              title=\"Convert this dataframe to an interactive table.\"\n",
              "              style=\"display:none;\">\n",
              "        \n",
              "  <svg xmlns=\"http://www.w3.org/2000/svg\" height=\"24px\"viewBox=\"0 0 24 24\"\n",
              "       width=\"24px\">\n",
              "    <path d=\"M0 0h24v24H0V0z\" fill=\"none\"/>\n",
              "    <path d=\"M18.56 5.44l.94 2.06.94-2.06 2.06-.94-2.06-.94-.94-2.06-.94 2.06-2.06.94zm-11 1L8.5 8.5l.94-2.06 2.06-.94-2.06-.94L8.5 2.5l-.94 2.06-2.06.94zm10 10l.94 2.06.94-2.06 2.06-.94-2.06-.94-.94-2.06-.94 2.06-2.06.94z\"/><path d=\"M17.41 7.96l-1.37-1.37c-.4-.4-.92-.59-1.43-.59-.52 0-1.04.2-1.43.59L10.3 9.45l-7.72 7.72c-.78.78-.78 2.05 0 2.83L4 21.41c.39.39.9.59 1.41.59.51 0 1.02-.2 1.41-.59l7.78-7.78 2.81-2.81c.8-.78.8-2.07 0-2.86zM5.41 20L4 18.59l7.72-7.72 1.47 1.35L5.41 20z\"/>\n",
              "  </svg>\n",
              "      </button>\n",
              "      \n",
              "  <style>\n",
              "    .colab-df-container {\n",
              "      display:flex;\n",
              "      flex-wrap:wrap;\n",
              "      gap: 12px;\n",
              "    }\n",
              "\n",
              "    .colab-df-convert {\n",
              "      background-color: #E8F0FE;\n",
              "      border: none;\n",
              "      border-radius: 50%;\n",
              "      cursor: pointer;\n",
              "      display: none;\n",
              "      fill: #1967D2;\n",
              "      height: 32px;\n",
              "      padding: 0 0 0 0;\n",
              "      width: 32px;\n",
              "    }\n",
              "\n",
              "    .colab-df-convert:hover {\n",
              "      background-color: #E2EBFA;\n",
              "      box-shadow: 0px 1px 2px rgba(60, 64, 67, 0.3), 0px 1px 3px 1px rgba(60, 64, 67, 0.15);\n",
              "      fill: #174EA6;\n",
              "    }\n",
              "\n",
              "    [theme=dark] .colab-df-convert {\n",
              "      background-color: #3B4455;\n",
              "      fill: #D2E3FC;\n",
              "    }\n",
              "\n",
              "    [theme=dark] .colab-df-convert:hover {\n",
              "      background-color: #434B5C;\n",
              "      box-shadow: 0px 1px 3px 1px rgba(0, 0, 0, 0.15);\n",
              "      filter: drop-shadow(0px 1px 2px rgba(0, 0, 0, 0.3));\n",
              "      fill: #FFFFFF;\n",
              "    }\n",
              "  </style>\n",
              "\n",
              "      <script>\n",
              "        const buttonEl =\n",
              "          document.querySelector('#df-c7c8effc-662f-4600-89cc-2c4f9bfb8332 button.colab-df-convert');\n",
              "        buttonEl.style.display =\n",
              "          google.colab.kernel.accessAllowed ? 'block' : 'none';\n",
              "\n",
              "        async function convertToInteractive(key) {\n",
              "          const element = document.querySelector('#df-c7c8effc-662f-4600-89cc-2c4f9bfb8332');\n",
              "          const dataTable =\n",
              "            await google.colab.kernel.invokeFunction('convertToInteractive',\n",
              "                                                     [key], {});\n",
              "          if (!dataTable) return;\n",
              "\n",
              "          const docLinkHtml = 'Like what you see? Visit the ' +\n",
              "            '<a target=\"_blank\" href=https://colab.research.google.com/notebooks/data_table.ipynb>data table notebook</a>'\n",
              "            + ' to learn more about interactive tables.';\n",
              "          element.innerHTML = '';\n",
              "          dataTable['output_type'] = 'display_data';\n",
              "          await google.colab.output.renderOutput(dataTable, element);\n",
              "          const docLink = document.createElement('div');\n",
              "          docLink.innerHTML = docLinkHtml;\n",
              "          element.appendChild(docLink);\n",
              "        }\n",
              "      </script>\n",
              "    </div>\n",
              "  </div>\n",
              "  "
            ]
          },
          "metadata": {},
          "execution_count": 41
        }
      ]
    },
    {
      "cell_type": "code",
      "source": [
        "resultado.shape"
      ],
      "metadata": {
        "colab": {
          "base_uri": "https://localhost:8080/"
        },
        "id": "lB5Wa91TjDka",
        "outputId": "5fdadc99-d996-4167-a0a1-959cda29c0bf"
      },
      "execution_count": 42,
      "outputs": [
        {
          "output_type": "execute_result",
          "data": {
            "text/plain": [
              "(25767, 26)"
            ]
          },
          "metadata": {},
          "execution_count": 42
        }
      ]
    },
    {
      "cell_type": "code",
      "source": [
        ""
      ],
      "metadata": {
        "id": "W0vdE8UdjIEW"
      },
      "execution_count": null,
      "outputs": []
    }
  ]
}