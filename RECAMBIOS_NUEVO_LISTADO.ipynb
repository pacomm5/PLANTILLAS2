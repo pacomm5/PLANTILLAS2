{
  "nbformat": 4,
  "nbformat_minor": 0,
  "metadata": {
    "colab": {
      "name": "RECAMBIOS_NUEVO_LISTADO.ipynb",
      "provenance": [],
      "mount_file_id": "1N7XlaVI8fMjBkgQWJaoiXPF9xQqrQI_c",
      "authorship_tag": "ABX9TyOylBAi2I8A+8GowcRMDtSP",
      "include_colab_link": true
    },
    "kernelspec": {
      "name": "python3",
      "display_name": "Python 3"
    },
    "language_info": {
      "name": "python"
    }
  },
  "cells": [
    {
      "cell_type": "markdown",
      "metadata": {
        "id": "view-in-github",
        "colab_type": "text"
      },
      "source": [
        "<a href=\"https://colab.research.google.com/github/pacomm5/PLANTILLAS2/blob/main/RECAMBIOS_NUEVO_LISTADO.ipynb\" target=\"_parent\"><img src=\"https://colab.research.google.com/assets/colab-badge.svg\" alt=\"Open In Colab\"/></a>"
      ]
    },
    {
      "cell_type": "code",
      "source": [
        "import pandas as pd\n"
      ],
      "metadata": {
        "id": "2-pPDO6ZNK4y"
      },
      "execution_count": null,
      "outputs": []
    },
    {
      "cell_type": "code",
      "source": [
        "enero2015 = pd.read_csv(\"/content/201501.TXT\", sep=\",\", encoding= \"ISO-8859-1\")"
      ],
      "metadata": {
        "id": "pR6MZwDuU5Ds"
      },
      "execution_count": null,
      "outputs": []
    },
    {
      "cell_type": "code",
      "source": [
        "enero2015.head()"
      ],
      "metadata": {
        "colab": {
          "base_uri": "https://localhost:8080/",
          "height": 490
        },
        "id": "QdhS0xN4a9Q2",
        "outputId": "6e4e054a-3545-44a0-e5e2-840e6cf89b01"
      },
      "execution_count": null,
      "outputs": [
        {
          "output_type": "execute_result",
          "data": {
            "text/plain": [
              "  Alma Cuenta     Refer.  Fec.sali           Artículo Clav  Denominacion  \\\n",
              "0    1  98253  6522204.0  27/01/15      11/5K0807109M    6   REFUERZO 10   \n",
              "1    1  98253  6522204.0  27/01/15  11/5K0807217BLGRU    4  GUARNECID 10   \n",
              "2    1  98253  6522204.0  27/01/15      11/5K0807571J    6       GUIA 10   \n",
              "3    1  98253  6522204.0  27/01/15      11/5K0919491B    8     HALTER 10   \n",
              "4    1  98253  6522204.0  27/01/15      11/5K0919493G    8     HALTER 10   \n",
              "\n",
              "  Canti  P.V.P.   Dto.  ...  F.cierre Tipo Recep P.V.P..1 TOTAL PVP Opera  \\\n",
              "0     1  173,93  10,00  ...  27/01/15   5V  85.0   214,00    214,00   1.0   \n",
              "1     1  316,39  10,00  ...  27/01/15   5V  85.0   401,00    401,00   1.0   \n",
              "2     1   31,75  10,00  ...  27/01/15   5V  85.0    45,40     45,40   1.0   \n",
              "3     2   13,60  10,00  ...  27/01/15   5V  85.0    11,15     22,30   1.0   \n",
              "4     2   13,60  10,00  ...  27/01/15   5V  85.0    11,15     22,30   1.0   \n",
              "\n",
              "                   Nombre Tipo.1  Famil           Bastidor  \n",
              "0  MANUEL ESCUDERO GARCIA     7V    AL8  WVWZZZ1KZ9W487026  \n",
              "1  MANUEL ESCUDERO GARCIA     7V    ALH  WVWZZZ1KZ9W487026  \n",
              "2  MANUEL ESCUDERO GARCIA     7V    AL7  WVWZZZ1KZ9W487026  \n",
              "3  MANUEL ESCUDERO GARCIA     7V    ANW  WVWZZZ1KZ9W487026  \n",
              "4  MANUEL ESCUDERO GARCIA     7V    ANW  WVWZZZ1KZ9W487026  \n",
              "\n",
              "[5 rows x 26 columns]"
            ],
            "text/html": [
              "\n",
              "  <div id=\"df-f0990bd6-fb63-4be2-84d3-d68e402d8229\">\n",
              "    <div class=\"colab-df-container\">\n",
              "      <div>\n",
              "<style scoped>\n",
              "    .dataframe tbody tr th:only-of-type {\n",
              "        vertical-align: middle;\n",
              "    }\n",
              "\n",
              "    .dataframe tbody tr th {\n",
              "        vertical-align: top;\n",
              "    }\n",
              "\n",
              "    .dataframe thead th {\n",
              "        text-align: right;\n",
              "    }\n",
              "</style>\n",
              "<table border=\"1\" class=\"dataframe\">\n",
              "  <thead>\n",
              "    <tr style=\"text-align: right;\">\n",
              "      <th></th>\n",
              "      <th>Alma</th>\n",
              "      <th>Cuenta</th>\n",
              "      <th>Refer.</th>\n",
              "      <th>Fec.sali</th>\n",
              "      <th>Artículo</th>\n",
              "      <th>Clav</th>\n",
              "      <th>Denominacion</th>\n",
              "      <th>Canti</th>\n",
              "      <th>P.V.P.</th>\n",
              "      <th>Dto.</th>\n",
              "      <th>...</th>\n",
              "      <th>F.cierre</th>\n",
              "      <th>Tipo</th>\n",
              "      <th>Recep</th>\n",
              "      <th>P.V.P..1</th>\n",
              "      <th>TOTAL PVP</th>\n",
              "      <th>Opera</th>\n",
              "      <th>Nombre</th>\n",
              "      <th>Tipo.1</th>\n",
              "      <th>Famil</th>\n",
              "      <th>Bastidor</th>\n",
              "    </tr>\n",
              "  </thead>\n",
              "  <tbody>\n",
              "    <tr>\n",
              "      <th>0</th>\n",
              "      <td>1</td>\n",
              "      <td>98253</td>\n",
              "      <td>6522204.0</td>\n",
              "      <td>27/01/15</td>\n",
              "      <td>11/5K0807109M</td>\n",
              "      <td>6</td>\n",
              "      <td>REFUERZO 10</td>\n",
              "      <td>1</td>\n",
              "      <td>173,93</td>\n",
              "      <td>10,00</td>\n",
              "      <td>...</td>\n",
              "      <td>27/01/15</td>\n",
              "      <td>5V</td>\n",
              "      <td>85.0</td>\n",
              "      <td>214,00</td>\n",
              "      <td>214,00</td>\n",
              "      <td>1.0</td>\n",
              "      <td>MANUEL ESCUDERO GARCIA</td>\n",
              "      <td>7V</td>\n",
              "      <td>AL8</td>\n",
              "      <td>WVWZZZ1KZ9W487026</td>\n",
              "    </tr>\n",
              "    <tr>\n",
              "      <th>1</th>\n",
              "      <td>1</td>\n",
              "      <td>98253</td>\n",
              "      <td>6522204.0</td>\n",
              "      <td>27/01/15</td>\n",
              "      <td>11/5K0807217BLGRU</td>\n",
              "      <td>4</td>\n",
              "      <td>GUARNECID 10</td>\n",
              "      <td>1</td>\n",
              "      <td>316,39</td>\n",
              "      <td>10,00</td>\n",
              "      <td>...</td>\n",
              "      <td>27/01/15</td>\n",
              "      <td>5V</td>\n",
              "      <td>85.0</td>\n",
              "      <td>401,00</td>\n",
              "      <td>401,00</td>\n",
              "      <td>1.0</td>\n",
              "      <td>MANUEL ESCUDERO GARCIA</td>\n",
              "      <td>7V</td>\n",
              "      <td>ALH</td>\n",
              "      <td>WVWZZZ1KZ9W487026</td>\n",
              "    </tr>\n",
              "    <tr>\n",
              "      <th>2</th>\n",
              "      <td>1</td>\n",
              "      <td>98253</td>\n",
              "      <td>6522204.0</td>\n",
              "      <td>27/01/15</td>\n",
              "      <td>11/5K0807571J</td>\n",
              "      <td>6</td>\n",
              "      <td>GUIA 10</td>\n",
              "      <td>1</td>\n",
              "      <td>31,75</td>\n",
              "      <td>10,00</td>\n",
              "      <td>...</td>\n",
              "      <td>27/01/15</td>\n",
              "      <td>5V</td>\n",
              "      <td>85.0</td>\n",
              "      <td>45,40</td>\n",
              "      <td>45,40</td>\n",
              "      <td>1.0</td>\n",
              "      <td>MANUEL ESCUDERO GARCIA</td>\n",
              "      <td>7V</td>\n",
              "      <td>AL7</td>\n",
              "      <td>WVWZZZ1KZ9W487026</td>\n",
              "    </tr>\n",
              "    <tr>\n",
              "      <th>3</th>\n",
              "      <td>1</td>\n",
              "      <td>98253</td>\n",
              "      <td>6522204.0</td>\n",
              "      <td>27/01/15</td>\n",
              "      <td>11/5K0919491B</td>\n",
              "      <td>8</td>\n",
              "      <td>HALTER 10</td>\n",
              "      <td>2</td>\n",
              "      <td>13,60</td>\n",
              "      <td>10,00</td>\n",
              "      <td>...</td>\n",
              "      <td>27/01/15</td>\n",
              "      <td>5V</td>\n",
              "      <td>85.0</td>\n",
              "      <td>11,15</td>\n",
              "      <td>22,30</td>\n",
              "      <td>1.0</td>\n",
              "      <td>MANUEL ESCUDERO GARCIA</td>\n",
              "      <td>7V</td>\n",
              "      <td>ANW</td>\n",
              "      <td>WVWZZZ1KZ9W487026</td>\n",
              "    </tr>\n",
              "    <tr>\n",
              "      <th>4</th>\n",
              "      <td>1</td>\n",
              "      <td>98253</td>\n",
              "      <td>6522204.0</td>\n",
              "      <td>27/01/15</td>\n",
              "      <td>11/5K0919493G</td>\n",
              "      <td>8</td>\n",
              "      <td>HALTER 10</td>\n",
              "      <td>2</td>\n",
              "      <td>13,60</td>\n",
              "      <td>10,00</td>\n",
              "      <td>...</td>\n",
              "      <td>27/01/15</td>\n",
              "      <td>5V</td>\n",
              "      <td>85.0</td>\n",
              "      <td>11,15</td>\n",
              "      <td>22,30</td>\n",
              "      <td>1.0</td>\n",
              "      <td>MANUEL ESCUDERO GARCIA</td>\n",
              "      <td>7V</td>\n",
              "      <td>ANW</td>\n",
              "      <td>WVWZZZ1KZ9W487026</td>\n",
              "    </tr>\n",
              "  </tbody>\n",
              "</table>\n",
              "<p>5 rows × 26 columns</p>\n",
              "</div>\n",
              "      <button class=\"colab-df-convert\" onclick=\"convertToInteractive('df-f0990bd6-fb63-4be2-84d3-d68e402d8229')\"\n",
              "              title=\"Convert this dataframe to an interactive table.\"\n",
              "              style=\"display:none;\">\n",
              "        \n",
              "  <svg xmlns=\"http://www.w3.org/2000/svg\" height=\"24px\"viewBox=\"0 0 24 24\"\n",
              "       width=\"24px\">\n",
              "    <path d=\"M0 0h24v24H0V0z\" fill=\"none\"/>\n",
              "    <path d=\"M18.56 5.44l.94 2.06.94-2.06 2.06-.94-2.06-.94-.94-2.06-.94 2.06-2.06.94zm-11 1L8.5 8.5l.94-2.06 2.06-.94-2.06-.94L8.5 2.5l-.94 2.06-2.06.94zm10 10l.94 2.06.94-2.06 2.06-.94-2.06-.94-.94-2.06-.94 2.06-2.06.94z\"/><path d=\"M17.41 7.96l-1.37-1.37c-.4-.4-.92-.59-1.43-.59-.52 0-1.04.2-1.43.59L10.3 9.45l-7.72 7.72c-.78.78-.78 2.05 0 2.83L4 21.41c.39.39.9.59 1.41.59.51 0 1.02-.2 1.41-.59l7.78-7.78 2.81-2.81c.8-.78.8-2.07 0-2.86zM5.41 20L4 18.59l7.72-7.72 1.47 1.35L5.41 20z\"/>\n",
              "  </svg>\n",
              "      </button>\n",
              "      \n",
              "  <style>\n",
              "    .colab-df-container {\n",
              "      display:flex;\n",
              "      flex-wrap:wrap;\n",
              "      gap: 12px;\n",
              "    }\n",
              "\n",
              "    .colab-df-convert {\n",
              "      background-color: #E8F0FE;\n",
              "      border: none;\n",
              "      border-radius: 50%;\n",
              "      cursor: pointer;\n",
              "      display: none;\n",
              "      fill: #1967D2;\n",
              "      height: 32px;\n",
              "      padding: 0 0 0 0;\n",
              "      width: 32px;\n",
              "    }\n",
              "\n",
              "    .colab-df-convert:hover {\n",
              "      background-color: #E2EBFA;\n",
              "      box-shadow: 0px 1px 2px rgba(60, 64, 67, 0.3), 0px 1px 3px 1px rgba(60, 64, 67, 0.15);\n",
              "      fill: #174EA6;\n",
              "    }\n",
              "\n",
              "    [theme=dark] .colab-df-convert {\n",
              "      background-color: #3B4455;\n",
              "      fill: #D2E3FC;\n",
              "    }\n",
              "\n",
              "    [theme=dark] .colab-df-convert:hover {\n",
              "      background-color: #434B5C;\n",
              "      box-shadow: 0px 1px 3px 1px rgba(0, 0, 0, 0.15);\n",
              "      filter: drop-shadow(0px 1px 2px rgba(0, 0, 0, 0.3));\n",
              "      fill: #FFFFFF;\n",
              "    }\n",
              "  </style>\n",
              "\n",
              "      <script>\n",
              "        const buttonEl =\n",
              "          document.querySelector('#df-f0990bd6-fb63-4be2-84d3-d68e402d8229 button.colab-df-convert');\n",
              "        buttonEl.style.display =\n",
              "          google.colab.kernel.accessAllowed ? 'block' : 'none';\n",
              "\n",
              "        async function convertToInteractive(key) {\n",
              "          const element = document.querySelector('#df-f0990bd6-fb63-4be2-84d3-d68e402d8229');\n",
              "          const dataTable =\n",
              "            await google.colab.kernel.invokeFunction('convertToInteractive',\n",
              "                                                     [key], {});\n",
              "          if (!dataTable) return;\n",
              "\n",
              "          const docLinkHtml = 'Like what you see? Visit the ' +\n",
              "            '<a target=\"_blank\" href=https://colab.research.google.com/notebooks/data_table.ipynb>data table notebook</a>'\n",
              "            + ' to learn more about interactive tables.';\n",
              "          element.innerHTML = '';\n",
              "          dataTable['output_type'] = 'display_data';\n",
              "          await google.colab.output.renderOutput(dataTable, element);\n",
              "          const docLink = document.createElement('div');\n",
              "          docLink.innerHTML = docLinkHtml;\n",
              "          element.appendChild(docLink);\n",
              "        }\n",
              "      </script>\n",
              "    </div>\n",
              "  </div>\n",
              "  "
            ]
          },
          "metadata": {},
          "execution_count": 31
        }
      ]
    },
    {
      "cell_type": "code",
      "source": [
        "enero2015.shape"
      ],
      "metadata": {
        "colab": {
          "base_uri": "https://localhost:8080/"
        },
        "id": "F5HBi1XYefcT",
        "outputId": "46549180-5de4-4494-f083-2e9aa7a4bf9b"
      },
      "execution_count": null,
      "outputs": [
        {
          "output_type": "execute_result",
          "data": {
            "text/plain": [
              "(12463, 26)"
            ]
          },
          "metadata": {},
          "execution_count": 32
        }
      ]
    },
    {
      "cell_type": "code",
      "source": [
        "enero2015 = enero2015[~enero2015.Cuenta.isnull()]"
      ],
      "metadata": {
        "id": "IPkh4jJ8hy69"
      },
      "execution_count": null,
      "outputs": []
    },
    {
      "cell_type": "code",
      "source": [
        "enero2015.isnull().sum()"
      ],
      "metadata": {
        "colab": {
          "base_uri": "https://localhost:8080/"
        },
        "id": "HGQ6aQOtiMb8",
        "outputId": "a874cef5-1872-427e-cff1-8d6005cdd02a"
      },
      "execution_count": null,
      "outputs": [
        {
          "output_type": "execute_result",
          "data": {
            "text/plain": [
              "Alma               0\n",
              "Cuenta             0\n",
              "Refer.             0\n",
              "Fec.sali           0\n",
              "Artículo           0\n",
              "Clav             972\n",
              "Denominacion       0\n",
              "Canti              0\n",
              "P.V.P.             0\n",
              "Dto.            6506\n",
              "Neto               0\n",
              "Costo              0\n",
              "Beneficio          0\n",
              "% Com              0\n",
              "Comision           0\n",
              "Fam.a            720\n",
              "F.cierre           0\n",
              "Tipo               0\n",
              "Recep              0\n",
              "P.V.P..1           0\n",
              "TOTAL PVP          0\n",
              "Opera              0\n",
              "Nombre             0\n",
              "Tipo.1             0\n",
              "Famil              3\n",
              "Bastidor           0\n",
              "dtype: int64"
            ]
          },
          "metadata": {},
          "execution_count": 34
        }
      ]
    },
    {
      "cell_type": "code",
      "source": [
        "febrero2015 = pd.read_csv(\"/content/201502.txt\", sep=\",\", encoding= \"ISO-8859-1\")"
      ],
      "metadata": {
        "id": "R9LXmfTbdRV_"
      },
      "execution_count": null,
      "outputs": []
    },
    {
      "cell_type": "code",
      "source": [
        "febrero2015.shape"
      ],
      "metadata": {
        "colab": {
          "base_uri": "https://localhost:8080/"
        },
        "id": "MTO0PVraf3TI",
        "outputId": "db07157c-fa97-4d6a-85fb-9ee6954be19b"
      },
      "execution_count": null,
      "outputs": [
        {
          "output_type": "execute_result",
          "data": {
            "text/plain": [
              "(13526, 26)"
            ]
          },
          "metadata": {},
          "execution_count": 36
        }
      ]
    },
    {
      "cell_type": "code",
      "source": [
        "febrero2015 = febrero2015[~febrero2015.Cuenta.isnull()]"
      ],
      "metadata": {
        "id": "-9H2wfgUgjsB"
      },
      "execution_count": null,
      "outputs": []
    },
    {
      "cell_type": "code",
      "source": [
        "febrero2015.isnull().sum()"
      ],
      "metadata": {
        "colab": {
          "base_uri": "https://localhost:8080/"
        },
        "id": "3JpLV1Xyf6TS",
        "outputId": "8cb2df98-e4d3-4870-dcfa-3eca1a3d047d"
      },
      "execution_count": null,
      "outputs": [
        {
          "output_type": "execute_result",
          "data": {
            "text/plain": [
              "Alma               0\n",
              "Cuenta             0\n",
              "Refer.             0\n",
              "Fec.sali           0\n",
              "Artículo           0\n",
              "Clav            1036\n",
              "Denominacion       0\n",
              "Canti              0\n",
              "P.V.P.             0\n",
              "Dto.            6979\n",
              "Neto               0\n",
              "Costo              0\n",
              "Beneficio          0\n",
              "% Com              0\n",
              "Comision           0\n",
              "Fam.a            724\n",
              "F.cierre           0\n",
              "Tipo               0\n",
              "Recep              0\n",
              "P.V.P..1           0\n",
              "TOTAL PVP          0\n",
              "Opera              1\n",
              "Nombre             1\n",
              "Tipo.1             0\n",
              "Famil              0\n",
              "Bastidor           0\n",
              "dtype: int64"
            ]
          },
          "metadata": {},
          "execution_count": 38
        }
      ]
    },
    {
      "cell_type": "code",
      "source": [
        "febrero2015.shape"
      ],
      "metadata": {
        "colab": {
          "base_uri": "https://localhost:8080/"
        },
        "id": "zh5xXosHgFi8",
        "outputId": "c6ea2587-ba8b-4886-a362-556df9989ae6"
      },
      "execution_count": null,
      "outputs": [
        {
          "output_type": "execute_result",
          "data": {
            "text/plain": [
              "(13415, 26)"
            ]
          },
          "metadata": {},
          "execution_count": 39
        }
      ]
    },
    {
      "cell_type": "code",
      "source": [
        "dataframes = [enero2015, febrero2015]\n",
        "resultado = pd.concat(dataframes)"
      ],
      "metadata": {
        "id": "HWRqS2kyiYo6"
      },
      "execution_count": null,
      "outputs": []
    },
    {
      "cell_type": "code",
      "source": [
        "resultado.head()"
      ],
      "metadata": {
        "colab": {
          "base_uri": "https://localhost:8080/",
          "height": 490
        },
        "id": "jFPeQYqCjA0n",
        "outputId": "6146197f-b8cc-4fea-b086-697a4a56c330"
      },
      "execution_count": null,
      "outputs": [
        {
          "output_type": "execute_result",
          "data": {
            "text/plain": [
              "  Alma Cuenta     Refer.  Fec.sali           Artículo Clav  Denominacion  \\\n",
              "0    1  98253  6522204.0  27/01/15      11/5K0807109M    6   REFUERZO 10   \n",
              "1    1  98253  6522204.0  27/01/15  11/5K0807217BLGRU    4  GUARNECID 10   \n",
              "2    1  98253  6522204.0  27/01/15      11/5K0807571J    6       GUIA 10   \n",
              "3    1  98253  6522204.0  27/01/15      11/5K0919491B    8     HALTER 10   \n",
              "4    1  98253  6522204.0  27/01/15      11/5K0919493G    8     HALTER 10   \n",
              "\n",
              "  Canti  P.V.P.   Dto.  ...  F.cierre Tipo Recep P.V.P..1 TOTAL PVP Opera  \\\n",
              "0     1  173,93  10,00  ...  27/01/15   5V  85.0   214,00    214,00   1.0   \n",
              "1     1  316,39  10,00  ...  27/01/15   5V  85.0   401,00    401,00   1.0   \n",
              "2     1   31,75  10,00  ...  27/01/15   5V  85.0    45,40     45,40   1.0   \n",
              "3     2   13,60  10,00  ...  27/01/15   5V  85.0    11,15     22,30   1.0   \n",
              "4     2   13,60  10,00  ...  27/01/15   5V  85.0    11,15     22,30   1.0   \n",
              "\n",
              "                   Nombre Tipo.1  Famil           Bastidor  \n",
              "0  MANUEL ESCUDERO GARCIA     7V    AL8  WVWZZZ1KZ9W487026  \n",
              "1  MANUEL ESCUDERO GARCIA     7V    ALH  WVWZZZ1KZ9W487026  \n",
              "2  MANUEL ESCUDERO GARCIA     7V    AL7  WVWZZZ1KZ9W487026  \n",
              "3  MANUEL ESCUDERO GARCIA     7V    ANW  WVWZZZ1KZ9W487026  \n",
              "4  MANUEL ESCUDERO GARCIA     7V    ANW  WVWZZZ1KZ9W487026  \n",
              "\n",
              "[5 rows x 26 columns]"
            ],
            "text/html": [
              "\n",
              "  <div id=\"df-c7c8effc-662f-4600-89cc-2c4f9bfb8332\">\n",
              "    <div class=\"colab-df-container\">\n",
              "      <div>\n",
              "<style scoped>\n",
              "    .dataframe tbody tr th:only-of-type {\n",
              "        vertical-align: middle;\n",
              "    }\n",
              "\n",
              "    .dataframe tbody tr th {\n",
              "        vertical-align: top;\n",
              "    }\n",
              "\n",
              "    .dataframe thead th {\n",
              "        text-align: right;\n",
              "    }\n",
              "</style>\n",
              "<table border=\"1\" class=\"dataframe\">\n",
              "  <thead>\n",
              "    <tr style=\"text-align: right;\">\n",
              "      <th></th>\n",
              "      <th>Alma</th>\n",
              "      <th>Cuenta</th>\n",
              "      <th>Refer.</th>\n",
              "      <th>Fec.sali</th>\n",
              "      <th>Artículo</th>\n",
              "      <th>Clav</th>\n",
              "      <th>Denominacion</th>\n",
              "      <th>Canti</th>\n",
              "      <th>P.V.P.</th>\n",
              "      <th>Dto.</th>\n",
              "      <th>...</th>\n",
              "      <th>F.cierre</th>\n",
              "      <th>Tipo</th>\n",
              "      <th>Recep</th>\n",
              "      <th>P.V.P..1</th>\n",
              "      <th>TOTAL PVP</th>\n",
              "      <th>Opera</th>\n",
              "      <th>Nombre</th>\n",
              "      <th>Tipo.1</th>\n",
              "      <th>Famil</th>\n",
              "      <th>Bastidor</th>\n",
              "    </tr>\n",
              "  </thead>\n",
              "  <tbody>\n",
              "    <tr>\n",
              "      <th>0</th>\n",
              "      <td>1</td>\n",
              "      <td>98253</td>\n",
              "      <td>6522204.0</td>\n",
              "      <td>27/01/15</td>\n",
              "      <td>11/5K0807109M</td>\n",
              "      <td>6</td>\n",
              "      <td>REFUERZO 10</td>\n",
              "      <td>1</td>\n",
              "      <td>173,93</td>\n",
              "      <td>10,00</td>\n",
              "      <td>...</td>\n",
              "      <td>27/01/15</td>\n",
              "      <td>5V</td>\n",
              "      <td>85.0</td>\n",
              "      <td>214,00</td>\n",
              "      <td>214,00</td>\n",
              "      <td>1.0</td>\n",
              "      <td>MANUEL ESCUDERO GARCIA</td>\n",
              "      <td>7V</td>\n",
              "      <td>AL8</td>\n",
              "      <td>WVWZZZ1KZ9W487026</td>\n",
              "    </tr>\n",
              "    <tr>\n",
              "      <th>1</th>\n",
              "      <td>1</td>\n",
              "      <td>98253</td>\n",
              "      <td>6522204.0</td>\n",
              "      <td>27/01/15</td>\n",
              "      <td>11/5K0807217BLGRU</td>\n",
              "      <td>4</td>\n",
              "      <td>GUARNECID 10</td>\n",
              "      <td>1</td>\n",
              "      <td>316,39</td>\n",
              "      <td>10,00</td>\n",
              "      <td>...</td>\n",
              "      <td>27/01/15</td>\n",
              "      <td>5V</td>\n",
              "      <td>85.0</td>\n",
              "      <td>401,00</td>\n",
              "      <td>401,00</td>\n",
              "      <td>1.0</td>\n",
              "      <td>MANUEL ESCUDERO GARCIA</td>\n",
              "      <td>7V</td>\n",
              "      <td>ALH</td>\n",
              "      <td>WVWZZZ1KZ9W487026</td>\n",
              "    </tr>\n",
              "    <tr>\n",
              "      <th>2</th>\n",
              "      <td>1</td>\n",
              "      <td>98253</td>\n",
              "      <td>6522204.0</td>\n",
              "      <td>27/01/15</td>\n",
              "      <td>11/5K0807571J</td>\n",
              "      <td>6</td>\n",
              "      <td>GUIA 10</td>\n",
              "      <td>1</td>\n",
              "      <td>31,75</td>\n",
              "      <td>10,00</td>\n",
              "      <td>...</td>\n",
              "      <td>27/01/15</td>\n",
              "      <td>5V</td>\n",
              "      <td>85.0</td>\n",
              "      <td>45,40</td>\n",
              "      <td>45,40</td>\n",
              "      <td>1.0</td>\n",
              "      <td>MANUEL ESCUDERO GARCIA</td>\n",
              "      <td>7V</td>\n",
              "      <td>AL7</td>\n",
              "      <td>WVWZZZ1KZ9W487026</td>\n",
              "    </tr>\n",
              "    <tr>\n",
              "      <th>3</th>\n",
              "      <td>1</td>\n",
              "      <td>98253</td>\n",
              "      <td>6522204.0</td>\n",
              "      <td>27/01/15</td>\n",
              "      <td>11/5K0919491B</td>\n",
              "      <td>8</td>\n",
              "      <td>HALTER 10</td>\n",
              "      <td>2</td>\n",
              "      <td>13,60</td>\n",
              "      <td>10,00</td>\n",
              "      <td>...</td>\n",
              "      <td>27/01/15</td>\n",
              "      <td>5V</td>\n",
              "      <td>85.0</td>\n",
              "      <td>11,15</td>\n",
              "      <td>22,30</td>\n",
              "      <td>1.0</td>\n",
              "      <td>MANUEL ESCUDERO GARCIA</td>\n",
              "      <td>7V</td>\n",
              "      <td>ANW</td>\n",
              "      <td>WVWZZZ1KZ9W487026</td>\n",
              "    </tr>\n",
              "    <tr>\n",
              "      <th>4</th>\n",
              "      <td>1</td>\n",
              "      <td>98253</td>\n",
              "      <td>6522204.0</td>\n",
              "      <td>27/01/15</td>\n",
              "      <td>11/5K0919493G</td>\n",
              "      <td>8</td>\n",
              "      <td>HALTER 10</td>\n",
              "      <td>2</td>\n",
              "      <td>13,60</td>\n",
              "      <td>10,00</td>\n",
              "      <td>...</td>\n",
              "      <td>27/01/15</td>\n",
              "      <td>5V</td>\n",
              "      <td>85.0</td>\n",
              "      <td>11,15</td>\n",
              "      <td>22,30</td>\n",
              "      <td>1.0</td>\n",
              "      <td>MANUEL ESCUDERO GARCIA</td>\n",
              "      <td>7V</td>\n",
              "      <td>ANW</td>\n",
              "      <td>WVWZZZ1KZ9W487026</td>\n",
              "    </tr>\n",
              "  </tbody>\n",
              "</table>\n",
              "<p>5 rows × 26 columns</p>\n",
              "</div>\n",
              "      <button class=\"colab-df-convert\" onclick=\"convertToInteractive('df-c7c8effc-662f-4600-89cc-2c4f9bfb8332')\"\n",
              "              title=\"Convert this dataframe to an interactive table.\"\n",
              "              style=\"display:none;\">\n",
              "        \n",
              "  <svg xmlns=\"http://www.w3.org/2000/svg\" height=\"24px\"viewBox=\"0 0 24 24\"\n",
              "       width=\"24px\">\n",
              "    <path d=\"M0 0h24v24H0V0z\" fill=\"none\"/>\n",
              "    <path d=\"M18.56 5.44l.94 2.06.94-2.06 2.06-.94-2.06-.94-.94-2.06-.94 2.06-2.06.94zm-11 1L8.5 8.5l.94-2.06 2.06-.94-2.06-.94L8.5 2.5l-.94 2.06-2.06.94zm10 10l.94 2.06.94-2.06 2.06-.94-2.06-.94-.94-2.06-.94 2.06-2.06.94z\"/><path d=\"M17.41 7.96l-1.37-1.37c-.4-.4-.92-.59-1.43-.59-.52 0-1.04.2-1.43.59L10.3 9.45l-7.72 7.72c-.78.78-.78 2.05 0 2.83L4 21.41c.39.39.9.59 1.41.59.51 0 1.02-.2 1.41-.59l7.78-7.78 2.81-2.81c.8-.78.8-2.07 0-2.86zM5.41 20L4 18.59l7.72-7.72 1.47 1.35L5.41 20z\"/>\n",
              "  </svg>\n",
              "      </button>\n",
              "      \n",
              "  <style>\n",
              "    .colab-df-container {\n",
              "      display:flex;\n",
              "      flex-wrap:wrap;\n",
              "      gap: 12px;\n",
              "    }\n",
              "\n",
              "    .colab-df-convert {\n",
              "      background-color: #E8F0FE;\n",
              "      border: none;\n",
              "      border-radius: 50%;\n",
              "      cursor: pointer;\n",
              "      display: none;\n",
              "      fill: #1967D2;\n",
              "      height: 32px;\n",
              "      padding: 0 0 0 0;\n",
              "      width: 32px;\n",
              "    }\n",
              "\n",
              "    .colab-df-convert:hover {\n",
              "      background-color: #E2EBFA;\n",
              "      box-shadow: 0px 1px 2px rgba(60, 64, 67, 0.3), 0px 1px 3px 1px rgba(60, 64, 67, 0.15);\n",
              "      fill: #174EA6;\n",
              "    }\n",
              "\n",
              "    [theme=dark] .colab-df-convert {\n",
              "      background-color: #3B4455;\n",
              "      fill: #D2E3FC;\n",
              "    }\n",
              "\n",
              "    [theme=dark] .colab-df-convert:hover {\n",
              "      background-color: #434B5C;\n",
              "      box-shadow: 0px 1px 3px 1px rgba(0, 0, 0, 0.15);\n",
              "      filter: drop-shadow(0px 1px 2px rgba(0, 0, 0, 0.3));\n",
              "      fill: #FFFFFF;\n",
              "    }\n",
              "  </style>\n",
              "\n",
              "      <script>\n",
              "        const buttonEl =\n",
              "          document.querySelector('#df-c7c8effc-662f-4600-89cc-2c4f9bfb8332 button.colab-df-convert');\n",
              "        buttonEl.style.display =\n",
              "          google.colab.kernel.accessAllowed ? 'block' : 'none';\n",
              "\n",
              "        async function convertToInteractive(key) {\n",
              "          const element = document.querySelector('#df-c7c8effc-662f-4600-89cc-2c4f9bfb8332');\n",
              "          const dataTable =\n",
              "            await google.colab.kernel.invokeFunction('convertToInteractive',\n",
              "                                                     [key], {});\n",
              "          if (!dataTable) return;\n",
              "\n",
              "          const docLinkHtml = 'Like what you see? Visit the ' +\n",
              "            '<a target=\"_blank\" href=https://colab.research.google.com/notebooks/data_table.ipynb>data table notebook</a>'\n",
              "            + ' to learn more about interactive tables.';\n",
              "          element.innerHTML = '';\n",
              "          dataTable['output_type'] = 'display_data';\n",
              "          await google.colab.output.renderOutput(dataTable, element);\n",
              "          const docLink = document.createElement('div');\n",
              "          docLink.innerHTML = docLinkHtml;\n",
              "          element.appendChild(docLink);\n",
              "        }\n",
              "      </script>\n",
              "    </div>\n",
              "  </div>\n",
              "  "
            ]
          },
          "metadata": {},
          "execution_count": 41
        }
      ]
    },
    {
      "cell_type": "code",
      "source": [
        "resultado.shape"
      ],
      "metadata": {
        "colab": {
          "base_uri": "https://localhost:8080/"
        },
        "id": "lB5Wa91TjDka",
        "outputId": "5fdadc99-d996-4167-a0a1-959cda29c0bf"
      },
      "execution_count": null,
      "outputs": [
        {
          "output_type": "execute_result",
          "data": {
            "text/plain": [
              "(25767, 26)"
            ]
          },
          "metadata": {},
          "execution_count": 42
        }
      ]
    },
    {
      "cell_type": "code",
      "source": [
        "enero2015 = pd.read_csv(\"/content/201501.TXT\", sep=\",\", encoding= \"ISO-8859-1\")\n",
        "febrero2015 = pd.read_csv(\"/content/201502.txt\", sep=\",\", encoding= \"ISO-8859-1\")\n",
        "marzo2015 = pd.read_csv(\"/content/201503.txt\", sep=\",\", encoding= \"ISO-8859-1\")\n",
        "abril2015 = pd.read_csv(\"/content/201504.txt\", sep=\",\", encoding= \"ISO-8859-1\")\n",
        "mayo2015 = pd.read_csv(\"/content/201505.txt\", sep=\",\", encoding= \"ISO-8859-1\")\n",
        "junio2015 = pd.read_csv(\"/content/201506.txt\", sep=\",\", encoding= \"ISO-8859-1\")\n",
        "julio2015 = pd.read_csv(\"/content/201507.txt\", sep=\",\", encoding= \"ISO-8859-1\")\n",
        "agosto2015 = pd.read_csv(\"/content/201508.txt\", sep=\",\", encoding= \"ISO-8859-1\")\n",
        "septiembre2015 = pd.read_csv(\"/content/201509.txt\", sep=\",\", encoding= \"ISO-8859-1\")\n",
        "octubre2015 = pd.read_csv(\"/content/201510.txt\", sep=\",\", encoding= \"ISO-8859-1\")\n",
        "noviembre2015 = pd.read_csv(\"/content/201511.txt\", sep=\",\", encoding= \"ISO-8859-1\")\n",
        "diciembre2015 = pd.read_csv(\"/content/201512.txt\", sep=\",\", encoding= \"ISO-8859-1\")"
      ],
      "metadata": {
        "id": "W0vdE8UdjIEW"
      },
      "execution_count": null,
      "outputs": []
    },
    {
      "cell_type": "code",
      "source": [
        "dataframes = [enero2015, febrero2015, marzo2015, abril2015, mayo2015, junio2015, julio2015, agosto2015, septiembre2015, octubre2015, noviembre2015,diciembre2015]\n",
        "total_2015 = pd.concat(dataframes)"
      ],
      "metadata": {
        "id": "QT0VwqYzqCfM"
      },
      "execution_count": null,
      "outputs": []
    },
    {
      "cell_type": "code",
      "source": [
        "total_2015.shape"
      ],
      "metadata": {
        "colab": {
          "base_uri": "https://localhost:8080/"
        },
        "id": "ss_C8VyFrbF7",
        "outputId": "9b1d9bc7-8967-454d-c16f-c9326ac7df26"
      },
      "execution_count": null,
      "outputs": [
        {
          "output_type": "execute_result",
          "data": {
            "text/plain": [
              "(166528, 26)"
            ]
          },
          "metadata": {},
          "execution_count": 50
        }
      ]
    },
    {
      "cell_type": "code",
      "source": [
        "total_2015.to_csv(\"/content/drive/MyDrive/Colab Notebooks/total_recambios_2015.csv\")"
      ],
      "metadata": {
        "id": "jzZqSUvlsJLa"
      },
      "execution_count": null,
      "outputs": []
    },
    {
      "cell_type": "code",
      "source": [
        "prueba = pd.read_csv(\"/content/drive/MyDrive/Colab Notebooks/total_recambios_2015.csv\")"
      ],
      "metadata": {
        "id": "_DrUC9UosxbX"
      },
      "execution_count": null,
      "outputs": []
    },
    {
      "cell_type": "code",
      "source": [
        "prueba.head()"
      ],
      "metadata": {
        "colab": {
          "base_uri": "https://localhost:8080/",
          "height": 490
        },
        "id": "TPy8XR9Ls8Og",
        "outputId": "a20f3b12-7913-4e77-fe92-d7de7b63bb4e"
      },
      "execution_count": null,
      "outputs": [
        {
          "output_type": "execute_result",
          "data": {
            "text/plain": [
              "   Unnamed: 0 Alma Cuenta     Refer.  Fec.sali           Artículo Clav  \\\n",
              "0           0    1  98253  6522204.0  27/01/15      11/5K0807109M    6   \n",
              "1           1    1  98253  6522204.0  27/01/15  11/5K0807217BLGRU    4   \n",
              "2           2    1  98253  6522204.0  27/01/15      11/5K0807571J    6   \n",
              "3           3    1  98253  6522204.0  27/01/15      11/5K0919491B    8   \n",
              "4           4    1  98253  6522204.0  27/01/15      11/5K0919493G    8   \n",
              "\n",
              "   Denominacion Canti  P.V.P.  ...  F.cierre Tipo Recep P.V.P..1 TOTAL PVP  \\\n",
              "0   REFUERZO 10     1  173,93  ...  27/01/15   5V  85.0   214,00    214,00   \n",
              "1  GUARNECID 10     1  316,39  ...  27/01/15   5V  85.0   401,00    401,00   \n",
              "2       GUIA 10     1   31,75  ...  27/01/15   5V  85.0    45,40     45,40   \n",
              "3     HALTER 10     2   13,60  ...  27/01/15   5V  85.0    11,15     22,30   \n",
              "4     HALTER 10     2   13,60  ...  27/01/15   5V  85.0    11,15     22,30   \n",
              "\n",
              "  Opera                  Nombre Tipo.1 Famil           Bastidor  \n",
              "0   1.0  MANUEL ESCUDERO GARCIA     7V   AL8  WVWZZZ1KZ9W487026  \n",
              "1   1.0  MANUEL ESCUDERO GARCIA     7V   ALH  WVWZZZ1KZ9W487026  \n",
              "2   1.0  MANUEL ESCUDERO GARCIA     7V   AL7  WVWZZZ1KZ9W487026  \n",
              "3   1.0  MANUEL ESCUDERO GARCIA     7V   ANW  WVWZZZ1KZ9W487026  \n",
              "4   1.0  MANUEL ESCUDERO GARCIA     7V   ANW  WVWZZZ1KZ9W487026  \n",
              "\n",
              "[5 rows x 27 columns]"
            ],
            "text/html": [
              "\n",
              "  <div id=\"df-56eb7551-5b0e-4217-a504-6f168cdfd5e1\">\n",
              "    <div class=\"colab-df-container\">\n",
              "      <div>\n",
              "<style scoped>\n",
              "    .dataframe tbody tr th:only-of-type {\n",
              "        vertical-align: middle;\n",
              "    }\n",
              "\n",
              "    .dataframe tbody tr th {\n",
              "        vertical-align: top;\n",
              "    }\n",
              "\n",
              "    .dataframe thead th {\n",
              "        text-align: right;\n",
              "    }\n",
              "</style>\n",
              "<table border=\"1\" class=\"dataframe\">\n",
              "  <thead>\n",
              "    <tr style=\"text-align: right;\">\n",
              "      <th></th>\n",
              "      <th>Unnamed: 0</th>\n",
              "      <th>Alma</th>\n",
              "      <th>Cuenta</th>\n",
              "      <th>Refer.</th>\n",
              "      <th>Fec.sali</th>\n",
              "      <th>Artículo</th>\n",
              "      <th>Clav</th>\n",
              "      <th>Denominacion</th>\n",
              "      <th>Canti</th>\n",
              "      <th>P.V.P.</th>\n",
              "      <th>...</th>\n",
              "      <th>F.cierre</th>\n",
              "      <th>Tipo</th>\n",
              "      <th>Recep</th>\n",
              "      <th>P.V.P..1</th>\n",
              "      <th>TOTAL PVP</th>\n",
              "      <th>Opera</th>\n",
              "      <th>Nombre</th>\n",
              "      <th>Tipo.1</th>\n",
              "      <th>Famil</th>\n",
              "      <th>Bastidor</th>\n",
              "    </tr>\n",
              "  </thead>\n",
              "  <tbody>\n",
              "    <tr>\n",
              "      <th>0</th>\n",
              "      <td>0</td>\n",
              "      <td>1</td>\n",
              "      <td>98253</td>\n",
              "      <td>6522204.0</td>\n",
              "      <td>27/01/15</td>\n",
              "      <td>11/5K0807109M</td>\n",
              "      <td>6</td>\n",
              "      <td>REFUERZO 10</td>\n",
              "      <td>1</td>\n",
              "      <td>173,93</td>\n",
              "      <td>...</td>\n",
              "      <td>27/01/15</td>\n",
              "      <td>5V</td>\n",
              "      <td>85.0</td>\n",
              "      <td>214,00</td>\n",
              "      <td>214,00</td>\n",
              "      <td>1.0</td>\n",
              "      <td>MANUEL ESCUDERO GARCIA</td>\n",
              "      <td>7V</td>\n",
              "      <td>AL8</td>\n",
              "      <td>WVWZZZ1KZ9W487026</td>\n",
              "    </tr>\n",
              "    <tr>\n",
              "      <th>1</th>\n",
              "      <td>1</td>\n",
              "      <td>1</td>\n",
              "      <td>98253</td>\n",
              "      <td>6522204.0</td>\n",
              "      <td>27/01/15</td>\n",
              "      <td>11/5K0807217BLGRU</td>\n",
              "      <td>4</td>\n",
              "      <td>GUARNECID 10</td>\n",
              "      <td>1</td>\n",
              "      <td>316,39</td>\n",
              "      <td>...</td>\n",
              "      <td>27/01/15</td>\n",
              "      <td>5V</td>\n",
              "      <td>85.0</td>\n",
              "      <td>401,00</td>\n",
              "      <td>401,00</td>\n",
              "      <td>1.0</td>\n",
              "      <td>MANUEL ESCUDERO GARCIA</td>\n",
              "      <td>7V</td>\n",
              "      <td>ALH</td>\n",
              "      <td>WVWZZZ1KZ9W487026</td>\n",
              "    </tr>\n",
              "    <tr>\n",
              "      <th>2</th>\n",
              "      <td>2</td>\n",
              "      <td>1</td>\n",
              "      <td>98253</td>\n",
              "      <td>6522204.0</td>\n",
              "      <td>27/01/15</td>\n",
              "      <td>11/5K0807571J</td>\n",
              "      <td>6</td>\n",
              "      <td>GUIA 10</td>\n",
              "      <td>1</td>\n",
              "      <td>31,75</td>\n",
              "      <td>...</td>\n",
              "      <td>27/01/15</td>\n",
              "      <td>5V</td>\n",
              "      <td>85.0</td>\n",
              "      <td>45,40</td>\n",
              "      <td>45,40</td>\n",
              "      <td>1.0</td>\n",
              "      <td>MANUEL ESCUDERO GARCIA</td>\n",
              "      <td>7V</td>\n",
              "      <td>AL7</td>\n",
              "      <td>WVWZZZ1KZ9W487026</td>\n",
              "    </tr>\n",
              "    <tr>\n",
              "      <th>3</th>\n",
              "      <td>3</td>\n",
              "      <td>1</td>\n",
              "      <td>98253</td>\n",
              "      <td>6522204.0</td>\n",
              "      <td>27/01/15</td>\n",
              "      <td>11/5K0919491B</td>\n",
              "      <td>8</td>\n",
              "      <td>HALTER 10</td>\n",
              "      <td>2</td>\n",
              "      <td>13,60</td>\n",
              "      <td>...</td>\n",
              "      <td>27/01/15</td>\n",
              "      <td>5V</td>\n",
              "      <td>85.0</td>\n",
              "      <td>11,15</td>\n",
              "      <td>22,30</td>\n",
              "      <td>1.0</td>\n",
              "      <td>MANUEL ESCUDERO GARCIA</td>\n",
              "      <td>7V</td>\n",
              "      <td>ANW</td>\n",
              "      <td>WVWZZZ1KZ9W487026</td>\n",
              "    </tr>\n",
              "    <tr>\n",
              "      <th>4</th>\n",
              "      <td>4</td>\n",
              "      <td>1</td>\n",
              "      <td>98253</td>\n",
              "      <td>6522204.0</td>\n",
              "      <td>27/01/15</td>\n",
              "      <td>11/5K0919493G</td>\n",
              "      <td>8</td>\n",
              "      <td>HALTER 10</td>\n",
              "      <td>2</td>\n",
              "      <td>13,60</td>\n",
              "      <td>...</td>\n",
              "      <td>27/01/15</td>\n",
              "      <td>5V</td>\n",
              "      <td>85.0</td>\n",
              "      <td>11,15</td>\n",
              "      <td>22,30</td>\n",
              "      <td>1.0</td>\n",
              "      <td>MANUEL ESCUDERO GARCIA</td>\n",
              "      <td>7V</td>\n",
              "      <td>ANW</td>\n",
              "      <td>WVWZZZ1KZ9W487026</td>\n",
              "    </tr>\n",
              "  </tbody>\n",
              "</table>\n",
              "<p>5 rows × 27 columns</p>\n",
              "</div>\n",
              "      <button class=\"colab-df-convert\" onclick=\"convertToInteractive('df-56eb7551-5b0e-4217-a504-6f168cdfd5e1')\"\n",
              "              title=\"Convert this dataframe to an interactive table.\"\n",
              "              style=\"display:none;\">\n",
              "        \n",
              "  <svg xmlns=\"http://www.w3.org/2000/svg\" height=\"24px\"viewBox=\"0 0 24 24\"\n",
              "       width=\"24px\">\n",
              "    <path d=\"M0 0h24v24H0V0z\" fill=\"none\"/>\n",
              "    <path d=\"M18.56 5.44l.94 2.06.94-2.06 2.06-.94-2.06-.94-.94-2.06-.94 2.06-2.06.94zm-11 1L8.5 8.5l.94-2.06 2.06-.94-2.06-.94L8.5 2.5l-.94 2.06-2.06.94zm10 10l.94 2.06.94-2.06 2.06-.94-2.06-.94-.94-2.06-.94 2.06-2.06.94z\"/><path d=\"M17.41 7.96l-1.37-1.37c-.4-.4-.92-.59-1.43-.59-.52 0-1.04.2-1.43.59L10.3 9.45l-7.72 7.72c-.78.78-.78 2.05 0 2.83L4 21.41c.39.39.9.59 1.41.59.51 0 1.02-.2 1.41-.59l7.78-7.78 2.81-2.81c.8-.78.8-2.07 0-2.86zM5.41 20L4 18.59l7.72-7.72 1.47 1.35L5.41 20z\"/>\n",
              "  </svg>\n",
              "      </button>\n",
              "      \n",
              "  <style>\n",
              "    .colab-df-container {\n",
              "      display:flex;\n",
              "      flex-wrap:wrap;\n",
              "      gap: 12px;\n",
              "    }\n",
              "\n",
              "    .colab-df-convert {\n",
              "      background-color: #E8F0FE;\n",
              "      border: none;\n",
              "      border-radius: 50%;\n",
              "      cursor: pointer;\n",
              "      display: none;\n",
              "      fill: #1967D2;\n",
              "      height: 32px;\n",
              "      padding: 0 0 0 0;\n",
              "      width: 32px;\n",
              "    }\n",
              "\n",
              "    .colab-df-convert:hover {\n",
              "      background-color: #E2EBFA;\n",
              "      box-shadow: 0px 1px 2px rgba(60, 64, 67, 0.3), 0px 1px 3px 1px rgba(60, 64, 67, 0.15);\n",
              "      fill: #174EA6;\n",
              "    }\n",
              "\n",
              "    [theme=dark] .colab-df-convert {\n",
              "      background-color: #3B4455;\n",
              "      fill: #D2E3FC;\n",
              "    }\n",
              "\n",
              "    [theme=dark] .colab-df-convert:hover {\n",
              "      background-color: #434B5C;\n",
              "      box-shadow: 0px 1px 3px 1px rgba(0, 0, 0, 0.15);\n",
              "      filter: drop-shadow(0px 1px 2px rgba(0, 0, 0, 0.3));\n",
              "      fill: #FFFFFF;\n",
              "    }\n",
              "  </style>\n",
              "\n",
              "      <script>\n",
              "        const buttonEl =\n",
              "          document.querySelector('#df-56eb7551-5b0e-4217-a504-6f168cdfd5e1 button.colab-df-convert');\n",
              "        buttonEl.style.display =\n",
              "          google.colab.kernel.accessAllowed ? 'block' : 'none';\n",
              "\n",
              "        async function convertToInteractive(key) {\n",
              "          const element = document.querySelector('#df-56eb7551-5b0e-4217-a504-6f168cdfd5e1');\n",
              "          const dataTable =\n",
              "            await google.colab.kernel.invokeFunction('convertToInteractive',\n",
              "                                                     [key], {});\n",
              "          if (!dataTable) return;\n",
              "\n",
              "          const docLinkHtml = 'Like what you see? Visit the ' +\n",
              "            '<a target=\"_blank\" href=https://colab.research.google.com/notebooks/data_table.ipynb>data table notebook</a>'\n",
              "            + ' to learn more about interactive tables.';\n",
              "          element.innerHTML = '';\n",
              "          dataTable['output_type'] = 'display_data';\n",
              "          await google.colab.output.renderOutput(dataTable, element);\n",
              "          const docLink = document.createElement('div');\n",
              "          docLink.innerHTML = docLinkHtml;\n",
              "          element.appendChild(docLink);\n",
              "        }\n",
              "      </script>\n",
              "    </div>\n",
              "  </div>\n",
              "  "
            ]
          },
          "metadata": {},
          "execution_count": 53
        }
      ]
    },
    {
      "cell_type": "code",
      "source": [
        "prueba.shape"
      ],
      "metadata": {
        "colab": {
          "base_uri": "https://localhost:8080/"
        },
        "id": "1qITXVVcs-Wl",
        "outputId": "ee27c484-af23-4a79-cceb-b54df12cdc47"
      },
      "execution_count": null,
      "outputs": [
        {
          "output_type": "execute_result",
          "data": {
            "text/plain": [
              "(166528, 27)"
            ]
          },
          "metadata": {},
          "execution_count": 54
        }
      ]
    },
    {
      "cell_type": "code",
      "source": [
        "enero2016 = pd.read_csv(\"/201601.txt\", sep=\",\", encoding= \"ISO-8859-1\")\n",
        "febrero2016 = pd.read_csv(\"/201602.txt\", sep=\",\", encoding= \"ISO-8859-1\")\n",
        "marzo2016 = pd.read_csv(\"/201603.txt\", sep=\",\", encoding= \"ISO-8859-1\")\n",
        "abril2016 = pd.read_csv(\"/201604.txt\", sep=\",\", encoding= \"ISO-8859-1\")\n",
        "mayo2016 = pd.read_csv(\"/201605.txt\", sep=\",\", encoding= \"ISO-8859-1\")\n",
        "junio2016 = pd.read_csv(\"/201606.txt\", sep=\",\", encoding= \"ISO-8859-1\")\n",
        "julio2016 = pd.read_csv(\"/201607.txt\", sep=\",\", encoding= \"ISO-8859-1\")\n",
        "agosto2016 = pd.read_csv(\"/201608.txt\", sep=\",\", encoding= \"ISO-8859-1\")\n",
        "septiembre2016 = pd.read_csv(\"/201609.txt\", sep=\",\", encoding= \"ISO-8859-1\")\n",
        "octubre2016 = pd.read_csv(\"/201610.txt\", sep=\",\", encoding= \"ISO-8859-1\")\n",
        "noviembre2016 = pd.read_csv(\"/201611.txt\", sep=\",\", encoding= \"ISO-8859-1\")\n",
        "diciembre2016 = pd.read_csv(\"/201612.txt\", sep=\",\", encoding= \"ISO-8859-1\")"
      ],
      "metadata": {
        "id": "bdT-kQvUtBj3"
      },
      "execution_count": null,
      "outputs": []
    },
    {
      "cell_type": "code",
      "source": [
        "dataframes = [enero2016, febrero2016, marzo2016, abril2016, mayo2016, junio2016, julio2016, agosto2016, septiembre2016, octubre2016, noviembre2016,diciembre2016]\n",
        "total_2016 = pd.concat(dataframes)"
      ],
      "metadata": {
        "id": "6j5zd_yN1oDc"
      },
      "execution_count": null,
      "outputs": []
    },
    {
      "cell_type": "code",
      "source": [
        "total_2016.shape"
      ],
      "metadata": {
        "colab": {
          "base_uri": "https://localhost:8080/"
        },
        "id": "4zGe_2lO4wsJ",
        "outputId": "d08a5343-dee5-4c4e-96f1-d97fe607055c"
      },
      "execution_count": null,
      "outputs": [
        {
          "output_type": "execute_result",
          "data": {
            "text/plain": [
              "(199835, 26)"
            ]
          },
          "metadata": {},
          "execution_count": 61
        }
      ]
    },
    {
      "cell_type": "code",
      "source": [
        "total_2016.to_csv(\"/content/drive/MyDrive/Colab Notebooks/total_recambios_2016.csv\")\n"
      ],
      "metadata": {
        "id": "V2NjXaRm49vG"
      },
      "execution_count": null,
      "outputs": []
    },
    {
      "cell_type": "code",
      "source": [
        "prueba = pd.read_csv(\"/content/drive/MyDrive/Colab Notebooks/total_recambios_2016.csv\")"
      ],
      "metadata": {
        "colab": {
          "base_uri": "https://localhost:8080/"
        },
        "id": "bbE4qpCh5I7m",
        "outputId": "052d8051-aa57-427f-9dce-b9cc0a8b0210"
      },
      "execution_count": null,
      "outputs": [
        {
          "output_type": "stream",
          "name": "stderr",
          "text": [
            "/usr/local/lib/python3.7/dist-packages/IPython/core/interactiveshell.py:2882: DtypeWarning: Columns (2) have mixed types.Specify dtype option on import or set low_memory=False.\n",
            "  exec(code_obj, self.user_global_ns, self.user_ns)\n"
          ]
        }
      ]
    },
    {
      "cell_type": "code",
      "source": [
        "prueba.head()"
      ],
      "metadata": {
        "colab": {
          "base_uri": "https://localhost:8080/",
          "height": 436
        },
        "id": "3UftCK2w5Pnd",
        "outputId": "633f00f2-679a-47a6-bf20-24d1f62a7c05"
      },
      "execution_count": null,
      "outputs": [
        {
          "output_type": "execute_result",
          "data": {
            "text/plain": [
              "   Unnamed: 0 Alma Cuenta     Refer.  Fec.sali      Artículo Clav  \\\n",
              "0           0    1   116W  8469522.0  29/01/16  11/000010006    8   \n",
              "1           1    1   2004  8355551.0  11/12/15     99/000003   15   \n",
              "2           2    1  77828  8353954.0  12/01/16          11/G  NaN   \n",
              "3           3    1  77828  8353954.0  12/01/16          11/G  NaN   \n",
              "4           4    1  77828  8353954.0  12/01/16          11/G  NaN   \n",
              "\n",
              "           Denominacion Canti P.V.P.  ...  F.cierre Tipo Recep P.V.P..1  \\\n",
              "0            ROTULO EXP     1   0,07  ...  29/01/16   8V  85.0     0,15   \n",
              "1             SACAR COD   NaN   0,00  ...  05/01/16   5V  85.0    12,92   \n",
              "2  02E305051C - CARTUCH     1  21,82  ...  26/01/16   6V   9.0     0,00   \n",
              "3     02E315141A - TAPA     1  28,24  ...  26/01/16   6V   9.0     0,00   \n",
              "4    02E321371E - JUNTA     1  10,42  ...  26/01/16   6V   9.0     0,00   \n",
              "\n",
              "  TOTAL PVP Opera                  Nombre Tipo.1 Famil           Bastidor  \n",
              "0      0,15   NaN                     NaN     4V   ADW  WVWZZZ3CZFE438441  \n",
              "1      0,00   1.0  MANUEL ESCUDERO GARCIA     7V    VO  WVWZZZ6RZFY033277  \n",
              "2      0,00   1.0  MANUEL ESCUDERO GARCIA     2V     G  WVWZZZ3CZ7P090459  \n",
              "3      0,00   1.0  MANUEL ESCUDERO GARCIA     2V     G  WVWZZZ3CZ7P090459  \n",
              "4      0,00   1.0  MANUEL ESCUDERO GARCIA     2V     G  WVWZZZ3CZ7P090459  \n",
              "\n",
              "[5 rows x 27 columns]"
            ],
            "text/html": [
              "\n",
              "  <div id=\"df-2dd65f93-026c-45c5-8117-bd93ad44c573\">\n",
              "    <div class=\"colab-df-container\">\n",
              "      <div>\n",
              "<style scoped>\n",
              "    .dataframe tbody tr th:only-of-type {\n",
              "        vertical-align: middle;\n",
              "    }\n",
              "\n",
              "    .dataframe tbody tr th {\n",
              "        vertical-align: top;\n",
              "    }\n",
              "\n",
              "    .dataframe thead th {\n",
              "        text-align: right;\n",
              "    }\n",
              "</style>\n",
              "<table border=\"1\" class=\"dataframe\">\n",
              "  <thead>\n",
              "    <tr style=\"text-align: right;\">\n",
              "      <th></th>\n",
              "      <th>Unnamed: 0</th>\n",
              "      <th>Alma</th>\n",
              "      <th>Cuenta</th>\n",
              "      <th>Refer.</th>\n",
              "      <th>Fec.sali</th>\n",
              "      <th>Artículo</th>\n",
              "      <th>Clav</th>\n",
              "      <th>Denominacion</th>\n",
              "      <th>Canti</th>\n",
              "      <th>P.V.P.</th>\n",
              "      <th>...</th>\n",
              "      <th>F.cierre</th>\n",
              "      <th>Tipo</th>\n",
              "      <th>Recep</th>\n",
              "      <th>P.V.P..1</th>\n",
              "      <th>TOTAL PVP</th>\n",
              "      <th>Opera</th>\n",
              "      <th>Nombre</th>\n",
              "      <th>Tipo.1</th>\n",
              "      <th>Famil</th>\n",
              "      <th>Bastidor</th>\n",
              "    </tr>\n",
              "  </thead>\n",
              "  <tbody>\n",
              "    <tr>\n",
              "      <th>0</th>\n",
              "      <td>0</td>\n",
              "      <td>1</td>\n",
              "      <td>116W</td>\n",
              "      <td>8469522.0</td>\n",
              "      <td>29/01/16</td>\n",
              "      <td>11/000010006</td>\n",
              "      <td>8</td>\n",
              "      <td>ROTULO EXP</td>\n",
              "      <td>1</td>\n",
              "      <td>0,07</td>\n",
              "      <td>...</td>\n",
              "      <td>29/01/16</td>\n",
              "      <td>8V</td>\n",
              "      <td>85.0</td>\n",
              "      <td>0,15</td>\n",
              "      <td>0,15</td>\n",
              "      <td>NaN</td>\n",
              "      <td>NaN</td>\n",
              "      <td>4V</td>\n",
              "      <td>ADW</td>\n",
              "      <td>WVWZZZ3CZFE438441</td>\n",
              "    </tr>\n",
              "    <tr>\n",
              "      <th>1</th>\n",
              "      <td>1</td>\n",
              "      <td>1</td>\n",
              "      <td>2004</td>\n",
              "      <td>8355551.0</td>\n",
              "      <td>11/12/15</td>\n",
              "      <td>99/000003</td>\n",
              "      <td>15</td>\n",
              "      <td>SACAR COD</td>\n",
              "      <td>NaN</td>\n",
              "      <td>0,00</td>\n",
              "      <td>...</td>\n",
              "      <td>05/01/16</td>\n",
              "      <td>5V</td>\n",
              "      <td>85.0</td>\n",
              "      <td>12,92</td>\n",
              "      <td>0,00</td>\n",
              "      <td>1.0</td>\n",
              "      <td>MANUEL ESCUDERO GARCIA</td>\n",
              "      <td>7V</td>\n",
              "      <td>VO</td>\n",
              "      <td>WVWZZZ6RZFY033277</td>\n",
              "    </tr>\n",
              "    <tr>\n",
              "      <th>2</th>\n",
              "      <td>2</td>\n",
              "      <td>1</td>\n",
              "      <td>77828</td>\n",
              "      <td>8353954.0</td>\n",
              "      <td>12/01/16</td>\n",
              "      <td>11/G</td>\n",
              "      <td>NaN</td>\n",
              "      <td>02E305051C - CARTUCH</td>\n",
              "      <td>1</td>\n",
              "      <td>21,82</td>\n",
              "      <td>...</td>\n",
              "      <td>26/01/16</td>\n",
              "      <td>6V</td>\n",
              "      <td>9.0</td>\n",
              "      <td>0,00</td>\n",
              "      <td>0,00</td>\n",
              "      <td>1.0</td>\n",
              "      <td>MANUEL ESCUDERO GARCIA</td>\n",
              "      <td>2V</td>\n",
              "      <td>G</td>\n",
              "      <td>WVWZZZ3CZ7P090459</td>\n",
              "    </tr>\n",
              "    <tr>\n",
              "      <th>3</th>\n",
              "      <td>3</td>\n",
              "      <td>1</td>\n",
              "      <td>77828</td>\n",
              "      <td>8353954.0</td>\n",
              "      <td>12/01/16</td>\n",
              "      <td>11/G</td>\n",
              "      <td>NaN</td>\n",
              "      <td>02E315141A - TAPA</td>\n",
              "      <td>1</td>\n",
              "      <td>28,24</td>\n",
              "      <td>...</td>\n",
              "      <td>26/01/16</td>\n",
              "      <td>6V</td>\n",
              "      <td>9.0</td>\n",
              "      <td>0,00</td>\n",
              "      <td>0,00</td>\n",
              "      <td>1.0</td>\n",
              "      <td>MANUEL ESCUDERO GARCIA</td>\n",
              "      <td>2V</td>\n",
              "      <td>G</td>\n",
              "      <td>WVWZZZ3CZ7P090459</td>\n",
              "    </tr>\n",
              "    <tr>\n",
              "      <th>4</th>\n",
              "      <td>4</td>\n",
              "      <td>1</td>\n",
              "      <td>77828</td>\n",
              "      <td>8353954.0</td>\n",
              "      <td>12/01/16</td>\n",
              "      <td>11/G</td>\n",
              "      <td>NaN</td>\n",
              "      <td>02E321371E - JUNTA</td>\n",
              "      <td>1</td>\n",
              "      <td>10,42</td>\n",
              "      <td>...</td>\n",
              "      <td>26/01/16</td>\n",
              "      <td>6V</td>\n",
              "      <td>9.0</td>\n",
              "      <td>0,00</td>\n",
              "      <td>0,00</td>\n",
              "      <td>1.0</td>\n",
              "      <td>MANUEL ESCUDERO GARCIA</td>\n",
              "      <td>2V</td>\n",
              "      <td>G</td>\n",
              "      <td>WVWZZZ3CZ7P090459</td>\n",
              "    </tr>\n",
              "  </tbody>\n",
              "</table>\n",
              "<p>5 rows × 27 columns</p>\n",
              "</div>\n",
              "      <button class=\"colab-df-convert\" onclick=\"convertToInteractive('df-2dd65f93-026c-45c5-8117-bd93ad44c573')\"\n",
              "              title=\"Convert this dataframe to an interactive table.\"\n",
              "              style=\"display:none;\">\n",
              "        \n",
              "  <svg xmlns=\"http://www.w3.org/2000/svg\" height=\"24px\"viewBox=\"0 0 24 24\"\n",
              "       width=\"24px\">\n",
              "    <path d=\"M0 0h24v24H0V0z\" fill=\"none\"/>\n",
              "    <path d=\"M18.56 5.44l.94 2.06.94-2.06 2.06-.94-2.06-.94-.94-2.06-.94 2.06-2.06.94zm-11 1L8.5 8.5l.94-2.06 2.06-.94-2.06-.94L8.5 2.5l-.94 2.06-2.06.94zm10 10l.94 2.06.94-2.06 2.06-.94-2.06-.94-.94-2.06-.94 2.06-2.06.94z\"/><path d=\"M17.41 7.96l-1.37-1.37c-.4-.4-.92-.59-1.43-.59-.52 0-1.04.2-1.43.59L10.3 9.45l-7.72 7.72c-.78.78-.78 2.05 0 2.83L4 21.41c.39.39.9.59 1.41.59.51 0 1.02-.2 1.41-.59l7.78-7.78 2.81-2.81c.8-.78.8-2.07 0-2.86zM5.41 20L4 18.59l7.72-7.72 1.47 1.35L5.41 20z\"/>\n",
              "  </svg>\n",
              "      </button>\n",
              "      \n",
              "  <style>\n",
              "    .colab-df-container {\n",
              "      display:flex;\n",
              "      flex-wrap:wrap;\n",
              "      gap: 12px;\n",
              "    }\n",
              "\n",
              "    .colab-df-convert {\n",
              "      background-color: #E8F0FE;\n",
              "      border: none;\n",
              "      border-radius: 50%;\n",
              "      cursor: pointer;\n",
              "      display: none;\n",
              "      fill: #1967D2;\n",
              "      height: 32px;\n",
              "      padding: 0 0 0 0;\n",
              "      width: 32px;\n",
              "    }\n",
              "\n",
              "    .colab-df-convert:hover {\n",
              "      background-color: #E2EBFA;\n",
              "      box-shadow: 0px 1px 2px rgba(60, 64, 67, 0.3), 0px 1px 3px 1px rgba(60, 64, 67, 0.15);\n",
              "      fill: #174EA6;\n",
              "    }\n",
              "\n",
              "    [theme=dark] .colab-df-convert {\n",
              "      background-color: #3B4455;\n",
              "      fill: #D2E3FC;\n",
              "    }\n",
              "\n",
              "    [theme=dark] .colab-df-convert:hover {\n",
              "      background-color: #434B5C;\n",
              "      box-shadow: 0px 1px 3px 1px rgba(0, 0, 0, 0.15);\n",
              "      filter: drop-shadow(0px 1px 2px rgba(0, 0, 0, 0.3));\n",
              "      fill: #FFFFFF;\n",
              "    }\n",
              "  </style>\n",
              "\n",
              "      <script>\n",
              "        const buttonEl =\n",
              "          document.querySelector('#df-2dd65f93-026c-45c5-8117-bd93ad44c573 button.colab-df-convert');\n",
              "        buttonEl.style.display =\n",
              "          google.colab.kernel.accessAllowed ? 'block' : 'none';\n",
              "\n",
              "        async function convertToInteractive(key) {\n",
              "          const element = document.querySelector('#df-2dd65f93-026c-45c5-8117-bd93ad44c573');\n",
              "          const dataTable =\n",
              "            await google.colab.kernel.invokeFunction('convertToInteractive',\n",
              "                                                     [key], {});\n",
              "          if (!dataTable) return;\n",
              "\n",
              "          const docLinkHtml = 'Like what you see? Visit the ' +\n",
              "            '<a target=\"_blank\" href=https://colab.research.google.com/notebooks/data_table.ipynb>data table notebook</a>'\n",
              "            + ' to learn more about interactive tables.';\n",
              "          element.innerHTML = '';\n",
              "          dataTable['output_type'] = 'display_data';\n",
              "          await google.colab.output.renderOutput(dataTable, element);\n",
              "          const docLink = document.createElement('div');\n",
              "          docLink.innerHTML = docLinkHtml;\n",
              "          element.appendChild(docLink);\n",
              "        }\n",
              "      </script>\n",
              "    </div>\n",
              "  </div>\n",
              "  "
            ]
          },
          "metadata": {},
          "execution_count": 64
        }
      ]
    },
    {
      "cell_type": "code",
      "source": [
        "dataframes = [total_2015,total_2016]\n",
        "total_2015_2016 = pd.concat(dataframes)"
      ],
      "metadata": {
        "id": "vlcf_G1T5VLO"
      },
      "execution_count": null,
      "outputs": []
    },
    {
      "cell_type": "code",
      "source": [
        "total_2015_2016.shape"
      ],
      "metadata": {
        "colab": {
          "base_uri": "https://localhost:8080/"
        },
        "id": "MtA_Selb732g",
        "outputId": "665f0eaf-5311-47c0-daa0-5f9c99807ccf"
      },
      "execution_count": null,
      "outputs": [
        {
          "output_type": "execute_result",
          "data": {
            "text/plain": [
              "(366363, 26)"
            ]
          },
          "metadata": {},
          "execution_count": 66
        }
      ]
    },
    {
      "cell_type": "code",
      "source": [
        "enero2017 = pd.read_csv(\"/content/201701.txt\", sep=\",\", encoding= \"ISO-8859-1\")\n",
        "febrero2017 = pd.read_csv(\"/content/201702.txt\", sep=\",\", encoding= \"ISO-8859-1\")\n",
        "marzo2017 = pd.read_csv(\"/content/201703.txt\", sep=\",\", encoding= \"ISO-8859-1\")\n",
        "abril2017 = pd.read_csv(\"/content/201704.txt\", sep=\",\", encoding= \"ISO-8859-1\")\n",
        "mayo2017 = pd.read_csv(\"/content/201705.txt\", sep=\",\", encoding= \"ISO-8859-1\")\n",
        "junio2017 = pd.read_csv(\"/content/201706.txt\", sep=\",\", encoding= \"ISO-8859-1\")\n",
        "julio2017 = pd.read_csv(\"/content/201707.txt\", sep=\",\", encoding= \"ISO-8859-1\")\n",
        "agosto2017 = pd.read_csv(\"/content/201708.txt\", sep=\",\", encoding= \"ISO-8859-1\")\n",
        "septiembre2017 = pd.read_csv(\"/content/201709.txt\", sep=\",\", encoding= \"ISO-8859-1\")\n",
        "octubre2017 = pd.read_csv(\"/content/201710.txt\", sep=\",\", encoding= \"ISO-8859-1\")\n",
        "noviembre2017 = pd.read_csv(\"/content/201711.txt\", sep=\",\", encoding= \"ISO-8859-1\")\n",
        "diciembre2017 = pd.read_csv(\"/content/201712.txt\", sep=\",\", encoding= \"ISO-8859-1\")"
      ],
      "metadata": {
        "id": "zykB1WQW7677"
      },
      "execution_count": null,
      "outputs": []
    },
    {
      "cell_type": "code",
      "source": [
        "dataframes = [enero2017, febrero2017, marzo2017, abril2017, mayo2017, junio2017, julio2017, agosto2017, septiembre2017, octubre2017, noviembre2017,diciembre2017]"
      ],
      "metadata": {
        "id": "5yinKdlGTzEv"
      },
      "execution_count": null,
      "outputs": []
    },
    {
      "cell_type": "code",
      "source": [
        "total_2017 = pd.concat(dataframes)"
      ],
      "metadata": {
        "id": "CN7us-t8U8H4"
      },
      "execution_count": null,
      "outputs": []
    },
    {
      "cell_type": "code",
      "source": [
        "total_2017.to_csv(\"/content/drive/MyDrive/Colab Notebooks/total_recambios_2017.csv\")"
      ],
      "metadata": {
        "id": "bTeXjezIVHDh"
      },
      "execution_count": null,
      "outputs": []
    },
    {
      "cell_type": "code",
      "source": [
        "enero2018 = pd.read_csv(\"/content/201801.txt\", sep=\",\", encoding= \"ISO-8859-1\")\n",
        "febrero2018 = pd.read_csv(\"/content/201802.txt\", sep=\",\", encoding= \"ISO-8859-1\")\n",
        "marzo2018 = pd.read_csv(\"/content/201803.txt\", sep=\",\", encoding= \"ISO-8859-1\")\n",
        "abril2018 = pd.read_csv(\"/content/201804.txt\", sep=\",\", encoding= \"ISO-8859-1\")\n",
        "mayo2018 = pd.read_csv(\"/content/201805.txt\", sep=\",\", encoding= \"ISO-8859-1\")\n",
        "junio2018 = pd.read_csv(\"/content/201806.txt\", sep=\",\", encoding= \"ISO-8859-1\")\n",
        "julio2018 = pd.read_csv(\"/content/201807.txt\", sep=\",\", encoding= \"ISO-8859-1\")\n",
        "agosto2018 = pd.read_csv(\"/content/201808.txt\", sep=\",\", encoding= \"ISO-8859-1\")\n",
        "septiembre2018 = pd.read_csv(\"/content/201809.txt\", sep=\",\", encoding= \"ISO-8859-1\")\n",
        "octubre2018 = pd.read_csv(\"/content/201810.txt\", sep=\",\", encoding= \"ISO-8859-1\")\n",
        "noviembre2018 = pd.read_csv(\"/content/201811.txt\", sep=\",\", encoding= \"ISO-8859-1\")\n",
        "diciembre2018 = pd.read_csv(\"/content/201812.txt\", sep=\",\", encoding= \"ISO-8859-1\")"
      ],
      "metadata": {
        "id": "fFgi8H0HVP4z"
      },
      "execution_count": null,
      "outputs": []
    },
    {
      "cell_type": "code",
      "source": [
        "dataframes = [enero2018, febrero2018, marzo2018, abril2018, mayo2018, junio2018, julio2018, agosto2018, septiembre2018, octubre2018, noviembre2018,diciembre2018]"
      ],
      "metadata": {
        "id": "DuMqTTXtcd-w"
      },
      "execution_count": null,
      "outputs": []
    },
    {
      "cell_type": "code",
      "source": [
        "total_2018 = pd.concat(dataframes)"
      ],
      "metadata": {
        "id": "hlhnI8C3cxLC"
      },
      "execution_count": null,
      "outputs": []
    },
    {
      "cell_type": "code",
      "source": [
        "total_2018.to_csv(\"/content/drive/MyDrive/Colab Notebooks/total_recambios_2018.csv\")"
      ],
      "metadata": {
        "id": "bGZNUHzMc1w4"
      },
      "execution_count": null,
      "outputs": []
    },
    {
      "cell_type": "code",
      "source": [
        "enero2019 = pd.read_csv(\"/content/201901.txt\", sep=\",\", encoding= \"ISO-8859-1\")\n",
        "febrero2019 = pd.read_csv(\"/content/201902.txt\", sep=\",\", encoding= \"ISO-8859-1\")\n",
        "marzo2019 = pd.read_csv(\"/content/201903.txt\", sep=\",\", encoding= \"ISO-8859-1\")\n",
        "abril2019 = pd.read_csv(\"/content/201904.txt\", sep=\",\", encoding= \"ISO-8859-1\")\n",
        "mayo2019 = pd.read_csv(\"/content/201905.txt\", sep=\",\", encoding= \"ISO-8859-1\")\n",
        "junio2019 = pd.read_csv(\"/content/201906.txt\", sep=\",\", encoding= \"ISO-8859-1\")\n",
        "julio2019 = pd.read_csv(\"/content/201907.txt\", sep=\",\", encoding= \"ISO-8859-1\")\n",
        "agosto2019 = pd.read_csv(\"/content/201908.txt\", sep=\",\", encoding= \"ISO-8859-1\")\n",
        "septiembre2019 = pd.read_csv(\"/content/201909.txt\", sep=\",\", encoding= \"ISO-8859-1\")\n",
        "octubre2019 = pd.read_csv(\"/content/201910.txt\", sep=\",\", encoding= \"ISO-8859-1\")\n",
        "noviembre2019 = pd.read_csv(\"/content/201911.txt\", sep=\",\", encoding= \"ISO-8859-1\")\n",
        "diciembre2019 = pd.read_csv(\"/content/201912.txt\", sep=\",\", encoding= \"ISO-8859-1\")"
      ],
      "metadata": {
        "id": "W2lby2koc8Vr"
      },
      "execution_count": null,
      "outputs": []
    },
    {
      "cell_type": "code",
      "source": [
        "dataframes = [enero2019, febrero2019, marzo2019, abril2019, mayo2019, junio2019, julio2019, agosto2019, septiembre2019, octubre2019, noviembre2019,diciembre2019]"
      ],
      "metadata": {
        "id": "TteKchaUi50s"
      },
      "execution_count": null,
      "outputs": []
    },
    {
      "cell_type": "code",
      "source": [
        "total_2019 = pd.concat(dataframes)"
      ],
      "metadata": {
        "id": "1_3ghC4EjLJf"
      },
      "execution_count": null,
      "outputs": []
    },
    {
      "cell_type": "code",
      "source": [
        "total_2019.to_csv(\"/content/drive/MyDrive/Colab Notebooks/total_recambios_2019.csv\")"
      ],
      "metadata": {
        "id": "BJm-HJ83jOla"
      },
      "execution_count": null,
      "outputs": []
    },
    {
      "cell_type": "code",
      "source": [
        "enero2020 = pd.read_csv(\"/content/202001.txt\", sep=\",\", encoding= \"ISO-8859-1\")\n",
        "febrero2020 = pd.read_csv(\"/content/202002.txt\", sep=\",\", encoding= \"ISO-8859-1\")\n",
        "marzo2020 = pd.read_csv(\"/content/202003.txt\", sep=\",\", encoding= \"ISO-8859-1\")\n",
        "abril2020 = pd.read_csv(\"/content/202004.txt\", sep=\",\", encoding= \"ISO-8859-1\")\n",
        "mayo2020 = pd.read_csv(\"/content/202005.txt\", sep=\",\", encoding= \"ISO-8859-1\")\n",
        "junio2020 = pd.read_csv(\"/content/202006.txt\", sep=\",\", encoding= \"ISO-8859-1\")\n",
        "julio2020 = pd.read_csv(\"/content/202007.txt\", sep=\",\", encoding= \"ISO-8859-1\")\n",
        "agosto2020 = pd.read_csv(\"/content/202008.txt\", sep=\",\", encoding= \"ISO-8859-1\")\n",
        "septiembre2020 = pd.read_csv(\"/content/202009.txt\", sep=\",\", encoding= \"ISO-8859-1\")\n",
        "octubre2020 = pd.read_csv(\"/content/202010.txt\", sep=\",\", encoding= \"ISO-8859-1\")\n",
        "noviembre2020 = pd.read_csv(\"/content/202011.txt\", sep=\",\", encoding= \"ISO-8859-1\")\n",
        "diciembre2020 = pd.read_csv(\"/content/202012.txt\", sep=\",\", encoding= \"ISO-8859-1\")"
      ],
      "metadata": {
        "id": "23AqsmvijW-n"
      },
      "execution_count": null,
      "outputs": []
    },
    {
      "cell_type": "code",
      "source": [
        "dataframes = [enero2020, febrero2020, marzo2020, abril2020, mayo2020, junio2020, julio2020, agosto2020, septiembre2020, octubre2020, noviembre2020,diciembre2020]"
      ],
      "metadata": {
        "id": "G7xi_wHT6pY0"
      },
      "execution_count": null,
      "outputs": []
    },
    {
      "cell_type": "code",
      "source": [
        "total_2020 = pd.concat(dataframes)"
      ],
      "metadata": {
        "id": "eA95aTLC66dT"
      },
      "execution_count": null,
      "outputs": []
    },
    {
      "cell_type": "code",
      "source": [
        "total_2020.to_csv(\"/content/drive/MyDrive/Colab Notebooks/total_recambios_2020.csv\")"
      ],
      "metadata": {
        "id": "Ow-jvjFt6-if"
      },
      "execution_count": null,
      "outputs": []
    },
    {
      "cell_type": "code",
      "source": [
        "enero2021 = pd.read_csv(\"/content/202101.txt\", sep=\",\", encoding= \"ISO-8859-1\")\n",
        "febrero2021 = pd.read_csv(\"/content/202102.txt\", sep=\",\", encoding= \"ISO-8859-1\")\n",
        "marzo2021 = pd.read_csv(\"/content/202103.txt\", sep=\",\", encoding= \"ISO-8859-1\")\n",
        "abril2021 = pd.read_csv(\"/content/202104.txt\", sep=\",\", encoding= \"ISO-8859-1\")\n",
        "mayo2021 = pd.read_csv(\"/content/202105.txt\", sep=\",\", encoding= \"ISO-8859-1\")\n",
        "junio2021 = pd.read_csv(\"/content/202106.txt\", sep=\",\", encoding= \"ISO-8859-1\")\n",
        "julio2021 = pd.read_csv(\"/content/202107.txt\", sep=\",\", encoding= \"ISO-8859-1\")\n",
        "agosto2021 = pd.read_csv(\"/content/202108.txt\", sep=\",\", encoding= \"ISO-8859-1\")\n",
        "septiembre2021 = pd.read_csv(\"/content/202109.txt\", sep=\",\", encoding= \"ISO-8859-1\")\n",
        "octubre2021 = pd.read_csv(\"/content/202110.txt\", sep=\",\", encoding= \"ISO-8859-1\")\n",
        "noviembre2021 = pd.read_csv(\"/content/202111.txt\", sep=\",\", encoding= \"ISO-8859-1\")\n",
        "diciembre2021 = pd.read_csv(\"/content/202112.txt\", sep=\",\", encoding= \"ISO-8859-1\")"
      ],
      "metadata": {
        "id": "OQg59MN67EBs"
      },
      "execution_count": null,
      "outputs": []
    },
    {
      "cell_type": "code",
      "source": [
        "dataframes = [enero2021, febrero2021, marzo2021, abril2021, mayo2021, junio2021, julio2021, agosto2021, septiembre2021, octubre2021, noviembre2021,diciembre2021]"
      ],
      "metadata": {
        "id": "JKJEfttnFrEB"
      },
      "execution_count": null,
      "outputs": []
    },
    {
      "cell_type": "code",
      "source": [
        "total_2021 = pd.concat(dataframes)"
      ],
      "metadata": {
        "id": "xZb2fRrBGz37"
      },
      "execution_count": null,
      "outputs": []
    },
    {
      "cell_type": "code",
      "source": [
        "total_2021.to_csv(\"/content/drive/MyDrive/Colab Notebooks/total_recambios_2021.csv\")"
      ],
      "metadata": {
        "id": "NURVILFdG3Wz"
      },
      "execution_count": null,
      "outputs": []
    },
    {
      "cell_type": "code",
      "source": [
        ""
      ],
      "metadata": {
        "id": "9igjDgCiG-1n"
      },
      "execution_count": null,
      "outputs": []
    }
  ]
}