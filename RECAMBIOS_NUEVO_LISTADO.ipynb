{
  "nbformat": 4,
  "nbformat_minor": 0,
  "metadata": {
    "colab": {
      "name": "RECAMBIOS_NUEVO_LISTADO.ipynb",
      "provenance": [],
      "mount_file_id": "https://github.com/pacomm5/PLANTILLAS2/blob/main/RECAMBIOS_NUEVO_LISTADO.ipynb",
      "authorship_tag": "ABX9TyMHoX7CYQdQ/b6Sggxne1u5",
      "include_colab_link": true
    },
    "kernelspec": {
      "name": "python3",
      "display_name": "Python 3"
    },
    "language_info": {
      "name": "python"
    }
  },
  "cells": [
    {
      "cell_type": "markdown",
      "metadata": {
        "id": "view-in-github",
        "colab_type": "text"
      },
      "source": [
        "<a href=\"https://colab.research.google.com/github/pacomm5/PLANTILLAS2/blob/main/RECAMBIOS_NUEVO_LISTADO.ipynb\" target=\"_parent\"><img src=\"https://colab.research.google.com/assets/colab-badge.svg\" alt=\"Open In Colab\"/></a>"
      ]
    },
    {
      "cell_type": "markdown",
      "source": [
        "# CREANDO ARCHIVOS POR AÑOS Y TOTAL"
      ],
      "metadata": {
        "id": "NDnXVkcqPKqo"
      }
    },
    {
      "cell_type": "code",
      "source": [
        "import pandas as pd\n"
      ],
      "metadata": {
        "id": "2-pPDO6ZNK4y"
      },
      "execution_count": null,
      "outputs": []
    },
    {
      "cell_type": "code",
      "source": [
        "enero2015 = pd.read_csv(\"/content/201501.TXT\", sep=\",\", encoding= \"ISO-8859-1\")"
      ],
      "metadata": {
        "id": "pR6MZwDuU5Ds"
      },
      "execution_count": null,
      "outputs": []
    },
    {
      "cell_type": "code",
      "source": [
        "enero2015.head()"
      ],
      "metadata": {
        "colab": {
          "base_uri": "https://localhost:8080/",
          "height": 490
        },
        "id": "QdhS0xN4a9Q2",
        "outputId": "6e4e054a-3545-44a0-e5e2-840e6cf89b01"
      },
      "execution_count": null,
      "outputs": [
        {
          "output_type": "execute_result",
          "data": {
            "text/plain": [
              "  Alma Cuenta     Refer.  Fec.sali           Artículo Clav  Denominacion  \\\n",
              "0    1  98253  6522204.0  27/01/15      11/5K0807109M    6   REFUERZO 10   \n",
              "1    1  98253  6522204.0  27/01/15  11/5K0807217BLGRU    4  GUARNECID 10   \n",
              "2    1  98253  6522204.0  27/01/15      11/5K0807571J    6       GUIA 10   \n",
              "3    1  98253  6522204.0  27/01/15      11/5K0919491B    8     HALTER 10   \n",
              "4    1  98253  6522204.0  27/01/15      11/5K0919493G    8     HALTER 10   \n",
              "\n",
              "  Canti  P.V.P.   Dto.  ...  F.cierre Tipo Recep P.V.P..1 TOTAL PVP Opera  \\\n",
              "0     1  173,93  10,00  ...  27/01/15   5V  85.0   214,00    214,00   1.0   \n",
              "1     1  316,39  10,00  ...  27/01/15   5V  85.0   401,00    401,00   1.0   \n",
              "2     1   31,75  10,00  ...  27/01/15   5V  85.0    45,40     45,40   1.0   \n",
              "3     2   13,60  10,00  ...  27/01/15   5V  85.0    11,15     22,30   1.0   \n",
              "4     2   13,60  10,00  ...  27/01/15   5V  85.0    11,15     22,30   1.0   \n",
              "\n",
              "                   Nombre Tipo.1  Famil           Bastidor  \n",
              "0  MANUEL ESCUDERO GARCIA     7V    AL8  WVWZZZ1KZ9W487026  \n",
              "1  MANUEL ESCUDERO GARCIA     7V    ALH  WVWZZZ1KZ9W487026  \n",
              "2  MANUEL ESCUDERO GARCIA     7V    AL7  WVWZZZ1KZ9W487026  \n",
              "3  MANUEL ESCUDERO GARCIA     7V    ANW  WVWZZZ1KZ9W487026  \n",
              "4  MANUEL ESCUDERO GARCIA     7V    ANW  WVWZZZ1KZ9W487026  \n",
              "\n",
              "[5 rows x 26 columns]"
            ],
            "text/html": [
              "\n",
              "  <div id=\"df-f0990bd6-fb63-4be2-84d3-d68e402d8229\">\n",
              "    <div class=\"colab-df-container\">\n",
              "      <div>\n",
              "<style scoped>\n",
              "    .dataframe tbody tr th:only-of-type {\n",
              "        vertical-align: middle;\n",
              "    }\n",
              "\n",
              "    .dataframe tbody tr th {\n",
              "        vertical-align: top;\n",
              "    }\n",
              "\n",
              "    .dataframe thead th {\n",
              "        text-align: right;\n",
              "    }\n",
              "</style>\n",
              "<table border=\"1\" class=\"dataframe\">\n",
              "  <thead>\n",
              "    <tr style=\"text-align: right;\">\n",
              "      <th></th>\n",
              "      <th>Alma</th>\n",
              "      <th>Cuenta</th>\n",
              "      <th>Refer.</th>\n",
              "      <th>Fec.sali</th>\n",
              "      <th>Artículo</th>\n",
              "      <th>Clav</th>\n",
              "      <th>Denominacion</th>\n",
              "      <th>Canti</th>\n",
              "      <th>P.V.P.</th>\n",
              "      <th>Dto.</th>\n",
              "      <th>...</th>\n",
              "      <th>F.cierre</th>\n",
              "      <th>Tipo</th>\n",
              "      <th>Recep</th>\n",
              "      <th>P.V.P..1</th>\n",
              "      <th>TOTAL PVP</th>\n",
              "      <th>Opera</th>\n",
              "      <th>Nombre</th>\n",
              "      <th>Tipo.1</th>\n",
              "      <th>Famil</th>\n",
              "      <th>Bastidor</th>\n",
              "    </tr>\n",
              "  </thead>\n",
              "  <tbody>\n",
              "    <tr>\n",
              "      <th>0</th>\n",
              "      <td>1</td>\n",
              "      <td>98253</td>\n",
              "      <td>6522204.0</td>\n",
              "      <td>27/01/15</td>\n",
              "      <td>11/5K0807109M</td>\n",
              "      <td>6</td>\n",
              "      <td>REFUERZO 10</td>\n",
              "      <td>1</td>\n",
              "      <td>173,93</td>\n",
              "      <td>10,00</td>\n",
              "      <td>...</td>\n",
              "      <td>27/01/15</td>\n",
              "      <td>5V</td>\n",
              "      <td>85.0</td>\n",
              "      <td>214,00</td>\n",
              "      <td>214,00</td>\n",
              "      <td>1.0</td>\n",
              "      <td>MANUEL ESCUDERO GARCIA</td>\n",
              "      <td>7V</td>\n",
              "      <td>AL8</td>\n",
              "      <td>WVWZZZ1KZ9W487026</td>\n",
              "    </tr>\n",
              "    <tr>\n",
              "      <th>1</th>\n",
              "      <td>1</td>\n",
              "      <td>98253</td>\n",
              "      <td>6522204.0</td>\n",
              "      <td>27/01/15</td>\n",
              "      <td>11/5K0807217BLGRU</td>\n",
              "      <td>4</td>\n",
              "      <td>GUARNECID 10</td>\n",
              "      <td>1</td>\n",
              "      <td>316,39</td>\n",
              "      <td>10,00</td>\n",
              "      <td>...</td>\n",
              "      <td>27/01/15</td>\n",
              "      <td>5V</td>\n",
              "      <td>85.0</td>\n",
              "      <td>401,00</td>\n",
              "      <td>401,00</td>\n",
              "      <td>1.0</td>\n",
              "      <td>MANUEL ESCUDERO GARCIA</td>\n",
              "      <td>7V</td>\n",
              "      <td>ALH</td>\n",
              "      <td>WVWZZZ1KZ9W487026</td>\n",
              "    </tr>\n",
              "    <tr>\n",
              "      <th>2</th>\n",
              "      <td>1</td>\n",
              "      <td>98253</td>\n",
              "      <td>6522204.0</td>\n",
              "      <td>27/01/15</td>\n",
              "      <td>11/5K0807571J</td>\n",
              "      <td>6</td>\n",
              "      <td>GUIA 10</td>\n",
              "      <td>1</td>\n",
              "      <td>31,75</td>\n",
              "      <td>10,00</td>\n",
              "      <td>...</td>\n",
              "      <td>27/01/15</td>\n",
              "      <td>5V</td>\n",
              "      <td>85.0</td>\n",
              "      <td>45,40</td>\n",
              "      <td>45,40</td>\n",
              "      <td>1.0</td>\n",
              "      <td>MANUEL ESCUDERO GARCIA</td>\n",
              "      <td>7V</td>\n",
              "      <td>AL7</td>\n",
              "      <td>WVWZZZ1KZ9W487026</td>\n",
              "    </tr>\n",
              "    <tr>\n",
              "      <th>3</th>\n",
              "      <td>1</td>\n",
              "      <td>98253</td>\n",
              "      <td>6522204.0</td>\n",
              "      <td>27/01/15</td>\n",
              "      <td>11/5K0919491B</td>\n",
              "      <td>8</td>\n",
              "      <td>HALTER 10</td>\n",
              "      <td>2</td>\n",
              "      <td>13,60</td>\n",
              "      <td>10,00</td>\n",
              "      <td>...</td>\n",
              "      <td>27/01/15</td>\n",
              "      <td>5V</td>\n",
              "      <td>85.0</td>\n",
              "      <td>11,15</td>\n",
              "      <td>22,30</td>\n",
              "      <td>1.0</td>\n",
              "      <td>MANUEL ESCUDERO GARCIA</td>\n",
              "      <td>7V</td>\n",
              "      <td>ANW</td>\n",
              "      <td>WVWZZZ1KZ9W487026</td>\n",
              "    </tr>\n",
              "    <tr>\n",
              "      <th>4</th>\n",
              "      <td>1</td>\n",
              "      <td>98253</td>\n",
              "      <td>6522204.0</td>\n",
              "      <td>27/01/15</td>\n",
              "      <td>11/5K0919493G</td>\n",
              "      <td>8</td>\n",
              "      <td>HALTER 10</td>\n",
              "      <td>2</td>\n",
              "      <td>13,60</td>\n",
              "      <td>10,00</td>\n",
              "      <td>...</td>\n",
              "      <td>27/01/15</td>\n",
              "      <td>5V</td>\n",
              "      <td>85.0</td>\n",
              "      <td>11,15</td>\n",
              "      <td>22,30</td>\n",
              "      <td>1.0</td>\n",
              "      <td>MANUEL ESCUDERO GARCIA</td>\n",
              "      <td>7V</td>\n",
              "      <td>ANW</td>\n",
              "      <td>WVWZZZ1KZ9W487026</td>\n",
              "    </tr>\n",
              "  </tbody>\n",
              "</table>\n",
              "<p>5 rows × 26 columns</p>\n",
              "</div>\n",
              "      <button class=\"colab-df-convert\" onclick=\"convertToInteractive('df-f0990bd6-fb63-4be2-84d3-d68e402d8229')\"\n",
              "              title=\"Convert this dataframe to an interactive table.\"\n",
              "              style=\"display:none;\">\n",
              "        \n",
              "  <svg xmlns=\"http://www.w3.org/2000/svg\" height=\"24px\"viewBox=\"0 0 24 24\"\n",
              "       width=\"24px\">\n",
              "    <path d=\"M0 0h24v24H0V0z\" fill=\"none\"/>\n",
              "    <path d=\"M18.56 5.44l.94 2.06.94-2.06 2.06-.94-2.06-.94-.94-2.06-.94 2.06-2.06.94zm-11 1L8.5 8.5l.94-2.06 2.06-.94-2.06-.94L8.5 2.5l-.94 2.06-2.06.94zm10 10l.94 2.06.94-2.06 2.06-.94-2.06-.94-.94-2.06-.94 2.06-2.06.94z\"/><path d=\"M17.41 7.96l-1.37-1.37c-.4-.4-.92-.59-1.43-.59-.52 0-1.04.2-1.43.59L10.3 9.45l-7.72 7.72c-.78.78-.78 2.05 0 2.83L4 21.41c.39.39.9.59 1.41.59.51 0 1.02-.2 1.41-.59l7.78-7.78 2.81-2.81c.8-.78.8-2.07 0-2.86zM5.41 20L4 18.59l7.72-7.72 1.47 1.35L5.41 20z\"/>\n",
              "  </svg>\n",
              "      </button>\n",
              "      \n",
              "  <style>\n",
              "    .colab-df-container {\n",
              "      display:flex;\n",
              "      flex-wrap:wrap;\n",
              "      gap: 12px;\n",
              "    }\n",
              "\n",
              "    .colab-df-convert {\n",
              "      background-color: #E8F0FE;\n",
              "      border: none;\n",
              "      border-radius: 50%;\n",
              "      cursor: pointer;\n",
              "      display: none;\n",
              "      fill: #1967D2;\n",
              "      height: 32px;\n",
              "      padding: 0 0 0 0;\n",
              "      width: 32px;\n",
              "    }\n",
              "\n",
              "    .colab-df-convert:hover {\n",
              "      background-color: #E2EBFA;\n",
              "      box-shadow: 0px 1px 2px rgba(60, 64, 67, 0.3), 0px 1px 3px 1px rgba(60, 64, 67, 0.15);\n",
              "      fill: #174EA6;\n",
              "    }\n",
              "\n",
              "    [theme=dark] .colab-df-convert {\n",
              "      background-color: #3B4455;\n",
              "      fill: #D2E3FC;\n",
              "    }\n",
              "\n",
              "    [theme=dark] .colab-df-convert:hover {\n",
              "      background-color: #434B5C;\n",
              "      box-shadow: 0px 1px 3px 1px rgba(0, 0, 0, 0.15);\n",
              "      filter: drop-shadow(0px 1px 2px rgba(0, 0, 0, 0.3));\n",
              "      fill: #FFFFFF;\n",
              "    }\n",
              "  </style>\n",
              "\n",
              "      <script>\n",
              "        const buttonEl =\n",
              "          document.querySelector('#df-f0990bd6-fb63-4be2-84d3-d68e402d8229 button.colab-df-convert');\n",
              "        buttonEl.style.display =\n",
              "          google.colab.kernel.accessAllowed ? 'block' : 'none';\n",
              "\n",
              "        async function convertToInteractive(key) {\n",
              "          const element = document.querySelector('#df-f0990bd6-fb63-4be2-84d3-d68e402d8229');\n",
              "          const dataTable =\n",
              "            await google.colab.kernel.invokeFunction('convertToInteractive',\n",
              "                                                     [key], {});\n",
              "          if (!dataTable) return;\n",
              "\n",
              "          const docLinkHtml = 'Like what you see? Visit the ' +\n",
              "            '<a target=\"_blank\" href=https://colab.research.google.com/notebooks/data_table.ipynb>data table notebook</a>'\n",
              "            + ' to learn more about interactive tables.';\n",
              "          element.innerHTML = '';\n",
              "          dataTable['output_type'] = 'display_data';\n",
              "          await google.colab.output.renderOutput(dataTable, element);\n",
              "          const docLink = document.createElement('div');\n",
              "          docLink.innerHTML = docLinkHtml;\n",
              "          element.appendChild(docLink);\n",
              "        }\n",
              "      </script>\n",
              "    </div>\n",
              "  </div>\n",
              "  "
            ]
          },
          "metadata": {},
          "execution_count": 31
        }
      ]
    },
    {
      "cell_type": "code",
      "source": [
        "enero2015.shape"
      ],
      "metadata": {
        "colab": {
          "base_uri": "https://localhost:8080/"
        },
        "id": "F5HBi1XYefcT",
        "outputId": "46549180-5de4-4494-f083-2e9aa7a4bf9b"
      },
      "execution_count": null,
      "outputs": [
        {
          "output_type": "execute_result",
          "data": {
            "text/plain": [
              "(12463, 26)"
            ]
          },
          "metadata": {},
          "execution_count": 32
        }
      ]
    },
    {
      "cell_type": "code",
      "source": [
        "enero2015 = enero2015[~enero2015.Cuenta.isnull()]"
      ],
      "metadata": {
        "id": "IPkh4jJ8hy69"
      },
      "execution_count": null,
      "outputs": []
    },
    {
      "cell_type": "code",
      "source": [
        "enero2015.isnull().sum()"
      ],
      "metadata": {
        "colab": {
          "base_uri": "https://localhost:8080/"
        },
        "id": "HGQ6aQOtiMb8",
        "outputId": "a874cef5-1872-427e-cff1-8d6005cdd02a"
      },
      "execution_count": null,
      "outputs": [
        {
          "output_type": "execute_result",
          "data": {
            "text/plain": [
              "Alma               0\n",
              "Cuenta             0\n",
              "Refer.             0\n",
              "Fec.sali           0\n",
              "Artículo           0\n",
              "Clav             972\n",
              "Denominacion       0\n",
              "Canti              0\n",
              "P.V.P.             0\n",
              "Dto.            6506\n",
              "Neto               0\n",
              "Costo              0\n",
              "Beneficio          0\n",
              "% Com              0\n",
              "Comision           0\n",
              "Fam.a            720\n",
              "F.cierre           0\n",
              "Tipo               0\n",
              "Recep              0\n",
              "P.V.P..1           0\n",
              "TOTAL PVP          0\n",
              "Opera              0\n",
              "Nombre             0\n",
              "Tipo.1             0\n",
              "Famil              3\n",
              "Bastidor           0\n",
              "dtype: int64"
            ]
          },
          "metadata": {},
          "execution_count": 34
        }
      ]
    },
    {
      "cell_type": "code",
      "source": [
        "febrero2015 = pd.read_csv(\"/content/201502.txt\", sep=\",\", encoding= \"ISO-8859-1\")"
      ],
      "metadata": {
        "id": "R9LXmfTbdRV_"
      },
      "execution_count": null,
      "outputs": []
    },
    {
      "cell_type": "code",
      "source": [
        "febrero2015.shape"
      ],
      "metadata": {
        "colab": {
          "base_uri": "https://localhost:8080/"
        },
        "id": "MTO0PVraf3TI",
        "outputId": "db07157c-fa97-4d6a-85fb-9ee6954be19b"
      },
      "execution_count": null,
      "outputs": [
        {
          "output_type": "execute_result",
          "data": {
            "text/plain": [
              "(13526, 26)"
            ]
          },
          "metadata": {},
          "execution_count": 36
        }
      ]
    },
    {
      "cell_type": "code",
      "source": [
        "febrero2015 = febrero2015[~febrero2015.Cuenta.isnull()]"
      ],
      "metadata": {
        "id": "-9H2wfgUgjsB"
      },
      "execution_count": null,
      "outputs": []
    },
    {
      "cell_type": "code",
      "source": [
        "febrero2015.isnull().sum()"
      ],
      "metadata": {
        "colab": {
          "base_uri": "https://localhost:8080/"
        },
        "id": "3JpLV1Xyf6TS",
        "outputId": "8cb2df98-e4d3-4870-dcfa-3eca1a3d047d"
      },
      "execution_count": null,
      "outputs": [
        {
          "output_type": "execute_result",
          "data": {
            "text/plain": [
              "Alma               0\n",
              "Cuenta             0\n",
              "Refer.             0\n",
              "Fec.sali           0\n",
              "Artículo           0\n",
              "Clav            1036\n",
              "Denominacion       0\n",
              "Canti              0\n",
              "P.V.P.             0\n",
              "Dto.            6979\n",
              "Neto               0\n",
              "Costo              0\n",
              "Beneficio          0\n",
              "% Com              0\n",
              "Comision           0\n",
              "Fam.a            724\n",
              "F.cierre           0\n",
              "Tipo               0\n",
              "Recep              0\n",
              "P.V.P..1           0\n",
              "TOTAL PVP          0\n",
              "Opera              1\n",
              "Nombre             1\n",
              "Tipo.1             0\n",
              "Famil              0\n",
              "Bastidor           0\n",
              "dtype: int64"
            ]
          },
          "metadata": {},
          "execution_count": 38
        }
      ]
    },
    {
      "cell_type": "code",
      "source": [
        "febrero2015.shape"
      ],
      "metadata": {
        "colab": {
          "base_uri": "https://localhost:8080/"
        },
        "id": "zh5xXosHgFi8",
        "outputId": "c6ea2587-ba8b-4886-a362-556df9989ae6"
      },
      "execution_count": null,
      "outputs": [
        {
          "output_type": "execute_result",
          "data": {
            "text/plain": [
              "(13415, 26)"
            ]
          },
          "metadata": {},
          "execution_count": 39
        }
      ]
    },
    {
      "cell_type": "code",
      "source": [
        "dataframes = [enero2015, febrero2015]\n",
        "resultado = pd.concat(dataframes)"
      ],
      "metadata": {
        "id": "HWRqS2kyiYo6"
      },
      "execution_count": null,
      "outputs": []
    },
    {
      "cell_type": "code",
      "source": [
        "resultado.head()"
      ],
      "metadata": {
        "colab": {
          "base_uri": "https://localhost:8080/",
          "height": 490
        },
        "id": "jFPeQYqCjA0n",
        "outputId": "6146197f-b8cc-4fea-b086-697a4a56c330"
      },
      "execution_count": null,
      "outputs": [
        {
          "output_type": "execute_result",
          "data": {
            "text/plain": [
              "  Alma Cuenta     Refer.  Fec.sali           Artículo Clav  Denominacion  \\\n",
              "0    1  98253  6522204.0  27/01/15      11/5K0807109M    6   REFUERZO 10   \n",
              "1    1  98253  6522204.0  27/01/15  11/5K0807217BLGRU    4  GUARNECID 10   \n",
              "2    1  98253  6522204.0  27/01/15      11/5K0807571J    6       GUIA 10   \n",
              "3    1  98253  6522204.0  27/01/15      11/5K0919491B    8     HALTER 10   \n",
              "4    1  98253  6522204.0  27/01/15      11/5K0919493G    8     HALTER 10   \n",
              "\n",
              "  Canti  P.V.P.   Dto.  ...  F.cierre Tipo Recep P.V.P..1 TOTAL PVP Opera  \\\n",
              "0     1  173,93  10,00  ...  27/01/15   5V  85.0   214,00    214,00   1.0   \n",
              "1     1  316,39  10,00  ...  27/01/15   5V  85.0   401,00    401,00   1.0   \n",
              "2     1   31,75  10,00  ...  27/01/15   5V  85.0    45,40     45,40   1.0   \n",
              "3     2   13,60  10,00  ...  27/01/15   5V  85.0    11,15     22,30   1.0   \n",
              "4     2   13,60  10,00  ...  27/01/15   5V  85.0    11,15     22,30   1.0   \n",
              "\n",
              "                   Nombre Tipo.1  Famil           Bastidor  \n",
              "0  MANUEL ESCUDERO GARCIA     7V    AL8  WVWZZZ1KZ9W487026  \n",
              "1  MANUEL ESCUDERO GARCIA     7V    ALH  WVWZZZ1KZ9W487026  \n",
              "2  MANUEL ESCUDERO GARCIA     7V    AL7  WVWZZZ1KZ9W487026  \n",
              "3  MANUEL ESCUDERO GARCIA     7V    ANW  WVWZZZ1KZ9W487026  \n",
              "4  MANUEL ESCUDERO GARCIA     7V    ANW  WVWZZZ1KZ9W487026  \n",
              "\n",
              "[5 rows x 26 columns]"
            ],
            "text/html": [
              "\n",
              "  <div id=\"df-c7c8effc-662f-4600-89cc-2c4f9bfb8332\">\n",
              "    <div class=\"colab-df-container\">\n",
              "      <div>\n",
              "<style scoped>\n",
              "    .dataframe tbody tr th:only-of-type {\n",
              "        vertical-align: middle;\n",
              "    }\n",
              "\n",
              "    .dataframe tbody tr th {\n",
              "        vertical-align: top;\n",
              "    }\n",
              "\n",
              "    .dataframe thead th {\n",
              "        text-align: right;\n",
              "    }\n",
              "</style>\n",
              "<table border=\"1\" class=\"dataframe\">\n",
              "  <thead>\n",
              "    <tr style=\"text-align: right;\">\n",
              "      <th></th>\n",
              "      <th>Alma</th>\n",
              "      <th>Cuenta</th>\n",
              "      <th>Refer.</th>\n",
              "      <th>Fec.sali</th>\n",
              "      <th>Artículo</th>\n",
              "      <th>Clav</th>\n",
              "      <th>Denominacion</th>\n",
              "      <th>Canti</th>\n",
              "      <th>P.V.P.</th>\n",
              "      <th>Dto.</th>\n",
              "      <th>...</th>\n",
              "      <th>F.cierre</th>\n",
              "      <th>Tipo</th>\n",
              "      <th>Recep</th>\n",
              "      <th>P.V.P..1</th>\n",
              "      <th>TOTAL PVP</th>\n",
              "      <th>Opera</th>\n",
              "      <th>Nombre</th>\n",
              "      <th>Tipo.1</th>\n",
              "      <th>Famil</th>\n",
              "      <th>Bastidor</th>\n",
              "    </tr>\n",
              "  </thead>\n",
              "  <tbody>\n",
              "    <tr>\n",
              "      <th>0</th>\n",
              "      <td>1</td>\n",
              "      <td>98253</td>\n",
              "      <td>6522204.0</td>\n",
              "      <td>27/01/15</td>\n",
              "      <td>11/5K0807109M</td>\n",
              "      <td>6</td>\n",
              "      <td>REFUERZO 10</td>\n",
              "      <td>1</td>\n",
              "      <td>173,93</td>\n",
              "      <td>10,00</td>\n",
              "      <td>...</td>\n",
              "      <td>27/01/15</td>\n",
              "      <td>5V</td>\n",
              "      <td>85.0</td>\n",
              "      <td>214,00</td>\n",
              "      <td>214,00</td>\n",
              "      <td>1.0</td>\n",
              "      <td>MANUEL ESCUDERO GARCIA</td>\n",
              "      <td>7V</td>\n",
              "      <td>AL8</td>\n",
              "      <td>WVWZZZ1KZ9W487026</td>\n",
              "    </tr>\n",
              "    <tr>\n",
              "      <th>1</th>\n",
              "      <td>1</td>\n",
              "      <td>98253</td>\n",
              "      <td>6522204.0</td>\n",
              "      <td>27/01/15</td>\n",
              "      <td>11/5K0807217BLGRU</td>\n",
              "      <td>4</td>\n",
              "      <td>GUARNECID 10</td>\n",
              "      <td>1</td>\n",
              "      <td>316,39</td>\n",
              "      <td>10,00</td>\n",
              "      <td>...</td>\n",
              "      <td>27/01/15</td>\n",
              "      <td>5V</td>\n",
              "      <td>85.0</td>\n",
              "      <td>401,00</td>\n",
              "      <td>401,00</td>\n",
              "      <td>1.0</td>\n",
              "      <td>MANUEL ESCUDERO GARCIA</td>\n",
              "      <td>7V</td>\n",
              "      <td>ALH</td>\n",
              "      <td>WVWZZZ1KZ9W487026</td>\n",
              "    </tr>\n",
              "    <tr>\n",
              "      <th>2</th>\n",
              "      <td>1</td>\n",
              "      <td>98253</td>\n",
              "      <td>6522204.0</td>\n",
              "      <td>27/01/15</td>\n",
              "      <td>11/5K0807571J</td>\n",
              "      <td>6</td>\n",
              "      <td>GUIA 10</td>\n",
              "      <td>1</td>\n",
              "      <td>31,75</td>\n",
              "      <td>10,00</td>\n",
              "      <td>...</td>\n",
              "      <td>27/01/15</td>\n",
              "      <td>5V</td>\n",
              "      <td>85.0</td>\n",
              "      <td>45,40</td>\n",
              "      <td>45,40</td>\n",
              "      <td>1.0</td>\n",
              "      <td>MANUEL ESCUDERO GARCIA</td>\n",
              "      <td>7V</td>\n",
              "      <td>AL7</td>\n",
              "      <td>WVWZZZ1KZ9W487026</td>\n",
              "    </tr>\n",
              "    <tr>\n",
              "      <th>3</th>\n",
              "      <td>1</td>\n",
              "      <td>98253</td>\n",
              "      <td>6522204.0</td>\n",
              "      <td>27/01/15</td>\n",
              "      <td>11/5K0919491B</td>\n",
              "      <td>8</td>\n",
              "      <td>HALTER 10</td>\n",
              "      <td>2</td>\n",
              "      <td>13,60</td>\n",
              "      <td>10,00</td>\n",
              "      <td>...</td>\n",
              "      <td>27/01/15</td>\n",
              "      <td>5V</td>\n",
              "      <td>85.0</td>\n",
              "      <td>11,15</td>\n",
              "      <td>22,30</td>\n",
              "      <td>1.0</td>\n",
              "      <td>MANUEL ESCUDERO GARCIA</td>\n",
              "      <td>7V</td>\n",
              "      <td>ANW</td>\n",
              "      <td>WVWZZZ1KZ9W487026</td>\n",
              "    </tr>\n",
              "    <tr>\n",
              "      <th>4</th>\n",
              "      <td>1</td>\n",
              "      <td>98253</td>\n",
              "      <td>6522204.0</td>\n",
              "      <td>27/01/15</td>\n",
              "      <td>11/5K0919493G</td>\n",
              "      <td>8</td>\n",
              "      <td>HALTER 10</td>\n",
              "      <td>2</td>\n",
              "      <td>13,60</td>\n",
              "      <td>10,00</td>\n",
              "      <td>...</td>\n",
              "      <td>27/01/15</td>\n",
              "      <td>5V</td>\n",
              "      <td>85.0</td>\n",
              "      <td>11,15</td>\n",
              "      <td>22,30</td>\n",
              "      <td>1.0</td>\n",
              "      <td>MANUEL ESCUDERO GARCIA</td>\n",
              "      <td>7V</td>\n",
              "      <td>ANW</td>\n",
              "      <td>WVWZZZ1KZ9W487026</td>\n",
              "    </tr>\n",
              "  </tbody>\n",
              "</table>\n",
              "<p>5 rows × 26 columns</p>\n",
              "</div>\n",
              "      <button class=\"colab-df-convert\" onclick=\"convertToInteractive('df-c7c8effc-662f-4600-89cc-2c4f9bfb8332')\"\n",
              "              title=\"Convert this dataframe to an interactive table.\"\n",
              "              style=\"display:none;\">\n",
              "        \n",
              "  <svg xmlns=\"http://www.w3.org/2000/svg\" height=\"24px\"viewBox=\"0 0 24 24\"\n",
              "       width=\"24px\">\n",
              "    <path d=\"M0 0h24v24H0V0z\" fill=\"none\"/>\n",
              "    <path d=\"M18.56 5.44l.94 2.06.94-2.06 2.06-.94-2.06-.94-.94-2.06-.94 2.06-2.06.94zm-11 1L8.5 8.5l.94-2.06 2.06-.94-2.06-.94L8.5 2.5l-.94 2.06-2.06.94zm10 10l.94 2.06.94-2.06 2.06-.94-2.06-.94-.94-2.06-.94 2.06-2.06.94z\"/><path d=\"M17.41 7.96l-1.37-1.37c-.4-.4-.92-.59-1.43-.59-.52 0-1.04.2-1.43.59L10.3 9.45l-7.72 7.72c-.78.78-.78 2.05 0 2.83L4 21.41c.39.39.9.59 1.41.59.51 0 1.02-.2 1.41-.59l7.78-7.78 2.81-2.81c.8-.78.8-2.07 0-2.86zM5.41 20L4 18.59l7.72-7.72 1.47 1.35L5.41 20z\"/>\n",
              "  </svg>\n",
              "      </button>\n",
              "      \n",
              "  <style>\n",
              "    .colab-df-container {\n",
              "      display:flex;\n",
              "      flex-wrap:wrap;\n",
              "      gap: 12px;\n",
              "    }\n",
              "\n",
              "    .colab-df-convert {\n",
              "      background-color: #E8F0FE;\n",
              "      border: none;\n",
              "      border-radius: 50%;\n",
              "      cursor: pointer;\n",
              "      display: none;\n",
              "      fill: #1967D2;\n",
              "      height: 32px;\n",
              "      padding: 0 0 0 0;\n",
              "      width: 32px;\n",
              "    }\n",
              "\n",
              "    .colab-df-convert:hover {\n",
              "      background-color: #E2EBFA;\n",
              "      box-shadow: 0px 1px 2px rgba(60, 64, 67, 0.3), 0px 1px 3px 1px rgba(60, 64, 67, 0.15);\n",
              "      fill: #174EA6;\n",
              "    }\n",
              "\n",
              "    [theme=dark] .colab-df-convert {\n",
              "      background-color: #3B4455;\n",
              "      fill: #D2E3FC;\n",
              "    }\n",
              "\n",
              "    [theme=dark] .colab-df-convert:hover {\n",
              "      background-color: #434B5C;\n",
              "      box-shadow: 0px 1px 3px 1px rgba(0, 0, 0, 0.15);\n",
              "      filter: drop-shadow(0px 1px 2px rgba(0, 0, 0, 0.3));\n",
              "      fill: #FFFFFF;\n",
              "    }\n",
              "  </style>\n",
              "\n",
              "      <script>\n",
              "        const buttonEl =\n",
              "          document.querySelector('#df-c7c8effc-662f-4600-89cc-2c4f9bfb8332 button.colab-df-convert');\n",
              "        buttonEl.style.display =\n",
              "          google.colab.kernel.accessAllowed ? 'block' : 'none';\n",
              "\n",
              "        async function convertToInteractive(key) {\n",
              "          const element = document.querySelector('#df-c7c8effc-662f-4600-89cc-2c4f9bfb8332');\n",
              "          const dataTable =\n",
              "            await google.colab.kernel.invokeFunction('convertToInteractive',\n",
              "                                                     [key], {});\n",
              "          if (!dataTable) return;\n",
              "\n",
              "          const docLinkHtml = 'Like what you see? Visit the ' +\n",
              "            '<a target=\"_blank\" href=https://colab.research.google.com/notebooks/data_table.ipynb>data table notebook</a>'\n",
              "            + ' to learn more about interactive tables.';\n",
              "          element.innerHTML = '';\n",
              "          dataTable['output_type'] = 'display_data';\n",
              "          await google.colab.output.renderOutput(dataTable, element);\n",
              "          const docLink = document.createElement('div');\n",
              "          docLink.innerHTML = docLinkHtml;\n",
              "          element.appendChild(docLink);\n",
              "        }\n",
              "      </script>\n",
              "    </div>\n",
              "  </div>\n",
              "  "
            ]
          },
          "metadata": {},
          "execution_count": 41
        }
      ]
    },
    {
      "cell_type": "code",
      "source": [
        "resultado.shape"
      ],
      "metadata": {
        "colab": {
          "base_uri": "https://localhost:8080/"
        },
        "id": "lB5Wa91TjDka",
        "outputId": "5fdadc99-d996-4167-a0a1-959cda29c0bf"
      },
      "execution_count": null,
      "outputs": [
        {
          "output_type": "execute_result",
          "data": {
            "text/plain": [
              "(25767, 26)"
            ]
          },
          "metadata": {},
          "execution_count": 42
        }
      ]
    },
    {
      "cell_type": "code",
      "source": [
        "enero2015 = pd.read_csv(\"/content/201501.TXT\", sep=\",\", encoding= \"ISO-8859-1\")\n",
        "febrero2015 = pd.read_csv(\"/content/201502.txt\", sep=\",\", encoding= \"ISO-8859-1\")\n",
        "marzo2015 = pd.read_csv(\"/content/201503.txt\", sep=\",\", encoding= \"ISO-8859-1\")\n",
        "abril2015 = pd.read_csv(\"/content/201504.txt\", sep=\",\", encoding= \"ISO-8859-1\")\n",
        "mayo2015 = pd.read_csv(\"/content/201505.txt\", sep=\",\", encoding= \"ISO-8859-1\")\n",
        "junio2015 = pd.read_csv(\"/content/201506.txt\", sep=\",\", encoding= \"ISO-8859-1\")\n",
        "julio2015 = pd.read_csv(\"/content/201507.txt\", sep=\",\", encoding= \"ISO-8859-1\")\n",
        "agosto2015 = pd.read_csv(\"/content/201508.txt\", sep=\",\", encoding= \"ISO-8859-1\")\n",
        "septiembre2015 = pd.read_csv(\"/content/201509.txt\", sep=\",\", encoding= \"ISO-8859-1\")\n",
        "octubre2015 = pd.read_csv(\"/content/201510.txt\", sep=\",\", encoding= \"ISO-8859-1\")\n",
        "noviembre2015 = pd.read_csv(\"/content/201511.txt\", sep=\",\", encoding= \"ISO-8859-1\")\n",
        "diciembre2015 = pd.read_csv(\"/content/201512.txt\", sep=\",\", encoding= \"ISO-8859-1\")"
      ],
      "metadata": {
        "id": "W0vdE8UdjIEW"
      },
      "execution_count": null,
      "outputs": []
    },
    {
      "cell_type": "code",
      "source": [
        "dataframes = [enero2015, febrero2015, marzo2015, abril2015, mayo2015, junio2015, julio2015, agosto2015, septiembre2015, octubre2015, noviembre2015,diciembre2015]\n",
        "total_2015 = pd.concat(dataframes)"
      ],
      "metadata": {
        "id": "QT0VwqYzqCfM"
      },
      "execution_count": null,
      "outputs": []
    },
    {
      "cell_type": "code",
      "source": [
        "total_2015.shape"
      ],
      "metadata": {
        "colab": {
          "base_uri": "https://localhost:8080/"
        },
        "id": "ss_C8VyFrbF7",
        "outputId": "9b1d9bc7-8967-454d-c16f-c9326ac7df26"
      },
      "execution_count": null,
      "outputs": [
        {
          "output_type": "execute_result",
          "data": {
            "text/plain": [
              "(166528, 26)"
            ]
          },
          "metadata": {},
          "execution_count": 50
        }
      ]
    },
    {
      "cell_type": "code",
      "source": [
        "total_2015.to_csv(\"/content/drive/MyDrive/Colab Notebooks/total_recambios_2015.csv\")"
      ],
      "metadata": {
        "id": "jzZqSUvlsJLa"
      },
      "execution_count": null,
      "outputs": []
    },
    {
      "cell_type": "code",
      "source": [
        "prueba = pd.read_csv(\"/content/drive/MyDrive/Colab Notebooks/total_recambios_2015.csv\")"
      ],
      "metadata": {
        "id": "_DrUC9UosxbX"
      },
      "execution_count": null,
      "outputs": []
    },
    {
      "cell_type": "code",
      "source": [
        "prueba.head()"
      ],
      "metadata": {
        "colab": {
          "base_uri": "https://localhost:8080/",
          "height": 490
        },
        "id": "TPy8XR9Ls8Og",
        "outputId": "a20f3b12-7913-4e77-fe92-d7de7b63bb4e"
      },
      "execution_count": null,
      "outputs": [
        {
          "output_type": "execute_result",
          "data": {
            "text/plain": [
              "   Unnamed: 0 Alma Cuenta     Refer.  Fec.sali           Artículo Clav  \\\n",
              "0           0    1  98253  6522204.0  27/01/15      11/5K0807109M    6   \n",
              "1           1    1  98253  6522204.0  27/01/15  11/5K0807217BLGRU    4   \n",
              "2           2    1  98253  6522204.0  27/01/15      11/5K0807571J    6   \n",
              "3           3    1  98253  6522204.0  27/01/15      11/5K0919491B    8   \n",
              "4           4    1  98253  6522204.0  27/01/15      11/5K0919493G    8   \n",
              "\n",
              "   Denominacion Canti  P.V.P.  ...  F.cierre Tipo Recep P.V.P..1 TOTAL PVP  \\\n",
              "0   REFUERZO 10     1  173,93  ...  27/01/15   5V  85.0   214,00    214,00   \n",
              "1  GUARNECID 10     1  316,39  ...  27/01/15   5V  85.0   401,00    401,00   \n",
              "2       GUIA 10     1   31,75  ...  27/01/15   5V  85.0    45,40     45,40   \n",
              "3     HALTER 10     2   13,60  ...  27/01/15   5V  85.0    11,15     22,30   \n",
              "4     HALTER 10     2   13,60  ...  27/01/15   5V  85.0    11,15     22,30   \n",
              "\n",
              "  Opera                  Nombre Tipo.1 Famil           Bastidor  \n",
              "0   1.0  MANUEL ESCUDERO GARCIA     7V   AL8  WVWZZZ1KZ9W487026  \n",
              "1   1.0  MANUEL ESCUDERO GARCIA     7V   ALH  WVWZZZ1KZ9W487026  \n",
              "2   1.0  MANUEL ESCUDERO GARCIA     7V   AL7  WVWZZZ1KZ9W487026  \n",
              "3   1.0  MANUEL ESCUDERO GARCIA     7V   ANW  WVWZZZ1KZ9W487026  \n",
              "4   1.0  MANUEL ESCUDERO GARCIA     7V   ANW  WVWZZZ1KZ9W487026  \n",
              "\n",
              "[5 rows x 27 columns]"
            ],
            "text/html": [
              "\n",
              "  <div id=\"df-56eb7551-5b0e-4217-a504-6f168cdfd5e1\">\n",
              "    <div class=\"colab-df-container\">\n",
              "      <div>\n",
              "<style scoped>\n",
              "    .dataframe tbody tr th:only-of-type {\n",
              "        vertical-align: middle;\n",
              "    }\n",
              "\n",
              "    .dataframe tbody tr th {\n",
              "        vertical-align: top;\n",
              "    }\n",
              "\n",
              "    .dataframe thead th {\n",
              "        text-align: right;\n",
              "    }\n",
              "</style>\n",
              "<table border=\"1\" class=\"dataframe\">\n",
              "  <thead>\n",
              "    <tr style=\"text-align: right;\">\n",
              "      <th></th>\n",
              "      <th>Unnamed: 0</th>\n",
              "      <th>Alma</th>\n",
              "      <th>Cuenta</th>\n",
              "      <th>Refer.</th>\n",
              "      <th>Fec.sali</th>\n",
              "      <th>Artículo</th>\n",
              "      <th>Clav</th>\n",
              "      <th>Denominacion</th>\n",
              "      <th>Canti</th>\n",
              "      <th>P.V.P.</th>\n",
              "      <th>...</th>\n",
              "      <th>F.cierre</th>\n",
              "      <th>Tipo</th>\n",
              "      <th>Recep</th>\n",
              "      <th>P.V.P..1</th>\n",
              "      <th>TOTAL PVP</th>\n",
              "      <th>Opera</th>\n",
              "      <th>Nombre</th>\n",
              "      <th>Tipo.1</th>\n",
              "      <th>Famil</th>\n",
              "      <th>Bastidor</th>\n",
              "    </tr>\n",
              "  </thead>\n",
              "  <tbody>\n",
              "    <tr>\n",
              "      <th>0</th>\n",
              "      <td>0</td>\n",
              "      <td>1</td>\n",
              "      <td>98253</td>\n",
              "      <td>6522204.0</td>\n",
              "      <td>27/01/15</td>\n",
              "      <td>11/5K0807109M</td>\n",
              "      <td>6</td>\n",
              "      <td>REFUERZO 10</td>\n",
              "      <td>1</td>\n",
              "      <td>173,93</td>\n",
              "      <td>...</td>\n",
              "      <td>27/01/15</td>\n",
              "      <td>5V</td>\n",
              "      <td>85.0</td>\n",
              "      <td>214,00</td>\n",
              "      <td>214,00</td>\n",
              "      <td>1.0</td>\n",
              "      <td>MANUEL ESCUDERO GARCIA</td>\n",
              "      <td>7V</td>\n",
              "      <td>AL8</td>\n",
              "      <td>WVWZZZ1KZ9W487026</td>\n",
              "    </tr>\n",
              "    <tr>\n",
              "      <th>1</th>\n",
              "      <td>1</td>\n",
              "      <td>1</td>\n",
              "      <td>98253</td>\n",
              "      <td>6522204.0</td>\n",
              "      <td>27/01/15</td>\n",
              "      <td>11/5K0807217BLGRU</td>\n",
              "      <td>4</td>\n",
              "      <td>GUARNECID 10</td>\n",
              "      <td>1</td>\n",
              "      <td>316,39</td>\n",
              "      <td>...</td>\n",
              "      <td>27/01/15</td>\n",
              "      <td>5V</td>\n",
              "      <td>85.0</td>\n",
              "      <td>401,00</td>\n",
              "      <td>401,00</td>\n",
              "      <td>1.0</td>\n",
              "      <td>MANUEL ESCUDERO GARCIA</td>\n",
              "      <td>7V</td>\n",
              "      <td>ALH</td>\n",
              "      <td>WVWZZZ1KZ9W487026</td>\n",
              "    </tr>\n",
              "    <tr>\n",
              "      <th>2</th>\n",
              "      <td>2</td>\n",
              "      <td>1</td>\n",
              "      <td>98253</td>\n",
              "      <td>6522204.0</td>\n",
              "      <td>27/01/15</td>\n",
              "      <td>11/5K0807571J</td>\n",
              "      <td>6</td>\n",
              "      <td>GUIA 10</td>\n",
              "      <td>1</td>\n",
              "      <td>31,75</td>\n",
              "      <td>...</td>\n",
              "      <td>27/01/15</td>\n",
              "      <td>5V</td>\n",
              "      <td>85.0</td>\n",
              "      <td>45,40</td>\n",
              "      <td>45,40</td>\n",
              "      <td>1.0</td>\n",
              "      <td>MANUEL ESCUDERO GARCIA</td>\n",
              "      <td>7V</td>\n",
              "      <td>AL7</td>\n",
              "      <td>WVWZZZ1KZ9W487026</td>\n",
              "    </tr>\n",
              "    <tr>\n",
              "      <th>3</th>\n",
              "      <td>3</td>\n",
              "      <td>1</td>\n",
              "      <td>98253</td>\n",
              "      <td>6522204.0</td>\n",
              "      <td>27/01/15</td>\n",
              "      <td>11/5K0919491B</td>\n",
              "      <td>8</td>\n",
              "      <td>HALTER 10</td>\n",
              "      <td>2</td>\n",
              "      <td>13,60</td>\n",
              "      <td>...</td>\n",
              "      <td>27/01/15</td>\n",
              "      <td>5V</td>\n",
              "      <td>85.0</td>\n",
              "      <td>11,15</td>\n",
              "      <td>22,30</td>\n",
              "      <td>1.0</td>\n",
              "      <td>MANUEL ESCUDERO GARCIA</td>\n",
              "      <td>7V</td>\n",
              "      <td>ANW</td>\n",
              "      <td>WVWZZZ1KZ9W487026</td>\n",
              "    </tr>\n",
              "    <tr>\n",
              "      <th>4</th>\n",
              "      <td>4</td>\n",
              "      <td>1</td>\n",
              "      <td>98253</td>\n",
              "      <td>6522204.0</td>\n",
              "      <td>27/01/15</td>\n",
              "      <td>11/5K0919493G</td>\n",
              "      <td>8</td>\n",
              "      <td>HALTER 10</td>\n",
              "      <td>2</td>\n",
              "      <td>13,60</td>\n",
              "      <td>...</td>\n",
              "      <td>27/01/15</td>\n",
              "      <td>5V</td>\n",
              "      <td>85.0</td>\n",
              "      <td>11,15</td>\n",
              "      <td>22,30</td>\n",
              "      <td>1.0</td>\n",
              "      <td>MANUEL ESCUDERO GARCIA</td>\n",
              "      <td>7V</td>\n",
              "      <td>ANW</td>\n",
              "      <td>WVWZZZ1KZ9W487026</td>\n",
              "    </tr>\n",
              "  </tbody>\n",
              "</table>\n",
              "<p>5 rows × 27 columns</p>\n",
              "</div>\n",
              "      <button class=\"colab-df-convert\" onclick=\"convertToInteractive('df-56eb7551-5b0e-4217-a504-6f168cdfd5e1')\"\n",
              "              title=\"Convert this dataframe to an interactive table.\"\n",
              "              style=\"display:none;\">\n",
              "        \n",
              "  <svg xmlns=\"http://www.w3.org/2000/svg\" height=\"24px\"viewBox=\"0 0 24 24\"\n",
              "       width=\"24px\">\n",
              "    <path d=\"M0 0h24v24H0V0z\" fill=\"none\"/>\n",
              "    <path d=\"M18.56 5.44l.94 2.06.94-2.06 2.06-.94-2.06-.94-.94-2.06-.94 2.06-2.06.94zm-11 1L8.5 8.5l.94-2.06 2.06-.94-2.06-.94L8.5 2.5l-.94 2.06-2.06.94zm10 10l.94 2.06.94-2.06 2.06-.94-2.06-.94-.94-2.06-.94 2.06-2.06.94z\"/><path d=\"M17.41 7.96l-1.37-1.37c-.4-.4-.92-.59-1.43-.59-.52 0-1.04.2-1.43.59L10.3 9.45l-7.72 7.72c-.78.78-.78 2.05 0 2.83L4 21.41c.39.39.9.59 1.41.59.51 0 1.02-.2 1.41-.59l7.78-7.78 2.81-2.81c.8-.78.8-2.07 0-2.86zM5.41 20L4 18.59l7.72-7.72 1.47 1.35L5.41 20z\"/>\n",
              "  </svg>\n",
              "      </button>\n",
              "      \n",
              "  <style>\n",
              "    .colab-df-container {\n",
              "      display:flex;\n",
              "      flex-wrap:wrap;\n",
              "      gap: 12px;\n",
              "    }\n",
              "\n",
              "    .colab-df-convert {\n",
              "      background-color: #E8F0FE;\n",
              "      border: none;\n",
              "      border-radius: 50%;\n",
              "      cursor: pointer;\n",
              "      display: none;\n",
              "      fill: #1967D2;\n",
              "      height: 32px;\n",
              "      padding: 0 0 0 0;\n",
              "      width: 32px;\n",
              "    }\n",
              "\n",
              "    .colab-df-convert:hover {\n",
              "      background-color: #E2EBFA;\n",
              "      box-shadow: 0px 1px 2px rgba(60, 64, 67, 0.3), 0px 1px 3px 1px rgba(60, 64, 67, 0.15);\n",
              "      fill: #174EA6;\n",
              "    }\n",
              "\n",
              "    [theme=dark] .colab-df-convert {\n",
              "      background-color: #3B4455;\n",
              "      fill: #D2E3FC;\n",
              "    }\n",
              "\n",
              "    [theme=dark] .colab-df-convert:hover {\n",
              "      background-color: #434B5C;\n",
              "      box-shadow: 0px 1px 3px 1px rgba(0, 0, 0, 0.15);\n",
              "      filter: drop-shadow(0px 1px 2px rgba(0, 0, 0, 0.3));\n",
              "      fill: #FFFFFF;\n",
              "    }\n",
              "  </style>\n",
              "\n",
              "      <script>\n",
              "        const buttonEl =\n",
              "          document.querySelector('#df-56eb7551-5b0e-4217-a504-6f168cdfd5e1 button.colab-df-convert');\n",
              "        buttonEl.style.display =\n",
              "          google.colab.kernel.accessAllowed ? 'block' : 'none';\n",
              "\n",
              "        async function convertToInteractive(key) {\n",
              "          const element = document.querySelector('#df-56eb7551-5b0e-4217-a504-6f168cdfd5e1');\n",
              "          const dataTable =\n",
              "            await google.colab.kernel.invokeFunction('convertToInteractive',\n",
              "                                                     [key], {});\n",
              "          if (!dataTable) return;\n",
              "\n",
              "          const docLinkHtml = 'Like what you see? Visit the ' +\n",
              "            '<a target=\"_blank\" href=https://colab.research.google.com/notebooks/data_table.ipynb>data table notebook</a>'\n",
              "            + ' to learn more about interactive tables.';\n",
              "          element.innerHTML = '';\n",
              "          dataTable['output_type'] = 'display_data';\n",
              "          await google.colab.output.renderOutput(dataTable, element);\n",
              "          const docLink = document.createElement('div');\n",
              "          docLink.innerHTML = docLinkHtml;\n",
              "          element.appendChild(docLink);\n",
              "        }\n",
              "      </script>\n",
              "    </div>\n",
              "  </div>\n",
              "  "
            ]
          },
          "metadata": {},
          "execution_count": 53
        }
      ]
    },
    {
      "cell_type": "code",
      "source": [
        "prueba.shape"
      ],
      "metadata": {
        "colab": {
          "base_uri": "https://localhost:8080/"
        },
        "id": "1qITXVVcs-Wl",
        "outputId": "ee27c484-af23-4a79-cceb-b54df12cdc47"
      },
      "execution_count": null,
      "outputs": [
        {
          "output_type": "execute_result",
          "data": {
            "text/plain": [
              "(166528, 27)"
            ]
          },
          "metadata": {},
          "execution_count": 54
        }
      ]
    },
    {
      "cell_type": "code",
      "source": [
        "enero2016 = pd.read_csv(\"/201601.txt\", sep=\",\", encoding= \"ISO-8859-1\")\n",
        "febrero2016 = pd.read_csv(\"/201602.txt\", sep=\",\", encoding= \"ISO-8859-1\")\n",
        "marzo2016 = pd.read_csv(\"/201603.txt\", sep=\",\", encoding= \"ISO-8859-1\")\n",
        "abril2016 = pd.read_csv(\"/201604.txt\", sep=\",\", encoding= \"ISO-8859-1\")\n",
        "mayo2016 = pd.read_csv(\"/201605.txt\", sep=\",\", encoding= \"ISO-8859-1\")\n",
        "junio2016 = pd.read_csv(\"/201606.txt\", sep=\",\", encoding= \"ISO-8859-1\")\n",
        "julio2016 = pd.read_csv(\"/201607.txt\", sep=\",\", encoding= \"ISO-8859-1\")\n",
        "agosto2016 = pd.read_csv(\"/201608.txt\", sep=\",\", encoding= \"ISO-8859-1\")\n",
        "septiembre2016 = pd.read_csv(\"/201609.txt\", sep=\",\", encoding= \"ISO-8859-1\")\n",
        "octubre2016 = pd.read_csv(\"/201610.txt\", sep=\",\", encoding= \"ISO-8859-1\")\n",
        "noviembre2016 = pd.read_csv(\"/201611.txt\", sep=\",\", encoding= \"ISO-8859-1\")\n",
        "diciembre2016 = pd.read_csv(\"/201612.txt\", sep=\",\", encoding= \"ISO-8859-1\")"
      ],
      "metadata": {
        "id": "bdT-kQvUtBj3"
      },
      "execution_count": null,
      "outputs": []
    },
    {
      "cell_type": "code",
      "source": [
        "dataframes = [enero2016, febrero2016, marzo2016, abril2016, mayo2016, junio2016, julio2016, agosto2016, septiembre2016, octubre2016, noviembre2016,diciembre2016]\n",
        "total_2016 = pd.concat(dataframes)"
      ],
      "metadata": {
        "id": "6j5zd_yN1oDc"
      },
      "execution_count": null,
      "outputs": []
    },
    {
      "cell_type": "code",
      "source": [
        "total_2016.shape"
      ],
      "metadata": {
        "colab": {
          "base_uri": "https://localhost:8080/"
        },
        "id": "4zGe_2lO4wsJ",
        "outputId": "d08a5343-dee5-4c4e-96f1-d97fe607055c"
      },
      "execution_count": null,
      "outputs": [
        {
          "output_type": "execute_result",
          "data": {
            "text/plain": [
              "(199835, 26)"
            ]
          },
          "metadata": {},
          "execution_count": 61
        }
      ]
    },
    {
      "cell_type": "code",
      "source": [
        "total_2016.to_csv(\"/content/drive/MyDrive/Colab Notebooks/total_recambios_2016.csv\")\n"
      ],
      "metadata": {
        "id": "V2NjXaRm49vG"
      },
      "execution_count": null,
      "outputs": []
    },
    {
      "cell_type": "code",
      "source": [
        "prueba = pd.read_csv(\"/content/drive/MyDrive/Colab Notebooks/total_recambios_2016.csv\")"
      ],
      "metadata": {
        "colab": {
          "base_uri": "https://localhost:8080/"
        },
        "id": "bbE4qpCh5I7m",
        "outputId": "052d8051-aa57-427f-9dce-b9cc0a8b0210"
      },
      "execution_count": null,
      "outputs": [
        {
          "output_type": "stream",
          "name": "stderr",
          "text": [
            "/usr/local/lib/python3.7/dist-packages/IPython/core/interactiveshell.py:2882: DtypeWarning: Columns (2) have mixed types.Specify dtype option on import or set low_memory=False.\n",
            "  exec(code_obj, self.user_global_ns, self.user_ns)\n"
          ]
        }
      ]
    },
    {
      "cell_type": "code",
      "source": [
        "prueba.head()"
      ],
      "metadata": {
        "colab": {
          "base_uri": "https://localhost:8080/",
          "height": 436
        },
        "id": "3UftCK2w5Pnd",
        "outputId": "633f00f2-679a-47a6-bf20-24d1f62a7c05"
      },
      "execution_count": null,
      "outputs": [
        {
          "output_type": "execute_result",
          "data": {
            "text/plain": [
              "   Unnamed: 0 Alma Cuenta     Refer.  Fec.sali      Artículo Clav  \\\n",
              "0           0    1   116W  8469522.0  29/01/16  11/000010006    8   \n",
              "1           1    1   2004  8355551.0  11/12/15     99/000003   15   \n",
              "2           2    1  77828  8353954.0  12/01/16          11/G  NaN   \n",
              "3           3    1  77828  8353954.0  12/01/16          11/G  NaN   \n",
              "4           4    1  77828  8353954.0  12/01/16          11/G  NaN   \n",
              "\n",
              "           Denominacion Canti P.V.P.  ...  F.cierre Tipo Recep P.V.P..1  \\\n",
              "0            ROTULO EXP     1   0,07  ...  29/01/16   8V  85.0     0,15   \n",
              "1             SACAR COD   NaN   0,00  ...  05/01/16   5V  85.0    12,92   \n",
              "2  02E305051C - CARTUCH     1  21,82  ...  26/01/16   6V   9.0     0,00   \n",
              "3     02E315141A - TAPA     1  28,24  ...  26/01/16   6V   9.0     0,00   \n",
              "4    02E321371E - JUNTA     1  10,42  ...  26/01/16   6V   9.0     0,00   \n",
              "\n",
              "  TOTAL PVP Opera                  Nombre Tipo.1 Famil           Bastidor  \n",
              "0      0,15   NaN                     NaN     4V   ADW  WVWZZZ3CZFE438441  \n",
              "1      0,00   1.0  MANUEL ESCUDERO GARCIA     7V    VO  WVWZZZ6RZFY033277  \n",
              "2      0,00   1.0  MANUEL ESCUDERO GARCIA     2V     G  WVWZZZ3CZ7P090459  \n",
              "3      0,00   1.0  MANUEL ESCUDERO GARCIA     2V     G  WVWZZZ3CZ7P090459  \n",
              "4      0,00   1.0  MANUEL ESCUDERO GARCIA     2V     G  WVWZZZ3CZ7P090459  \n",
              "\n",
              "[5 rows x 27 columns]"
            ],
            "text/html": [
              "\n",
              "  <div id=\"df-2dd65f93-026c-45c5-8117-bd93ad44c573\">\n",
              "    <div class=\"colab-df-container\">\n",
              "      <div>\n",
              "<style scoped>\n",
              "    .dataframe tbody tr th:only-of-type {\n",
              "        vertical-align: middle;\n",
              "    }\n",
              "\n",
              "    .dataframe tbody tr th {\n",
              "        vertical-align: top;\n",
              "    }\n",
              "\n",
              "    .dataframe thead th {\n",
              "        text-align: right;\n",
              "    }\n",
              "</style>\n",
              "<table border=\"1\" class=\"dataframe\">\n",
              "  <thead>\n",
              "    <tr style=\"text-align: right;\">\n",
              "      <th></th>\n",
              "      <th>Unnamed: 0</th>\n",
              "      <th>Alma</th>\n",
              "      <th>Cuenta</th>\n",
              "      <th>Refer.</th>\n",
              "      <th>Fec.sali</th>\n",
              "      <th>Artículo</th>\n",
              "      <th>Clav</th>\n",
              "      <th>Denominacion</th>\n",
              "      <th>Canti</th>\n",
              "      <th>P.V.P.</th>\n",
              "      <th>...</th>\n",
              "      <th>F.cierre</th>\n",
              "      <th>Tipo</th>\n",
              "      <th>Recep</th>\n",
              "      <th>P.V.P..1</th>\n",
              "      <th>TOTAL PVP</th>\n",
              "      <th>Opera</th>\n",
              "      <th>Nombre</th>\n",
              "      <th>Tipo.1</th>\n",
              "      <th>Famil</th>\n",
              "      <th>Bastidor</th>\n",
              "    </tr>\n",
              "  </thead>\n",
              "  <tbody>\n",
              "    <tr>\n",
              "      <th>0</th>\n",
              "      <td>0</td>\n",
              "      <td>1</td>\n",
              "      <td>116W</td>\n",
              "      <td>8469522.0</td>\n",
              "      <td>29/01/16</td>\n",
              "      <td>11/000010006</td>\n",
              "      <td>8</td>\n",
              "      <td>ROTULO EXP</td>\n",
              "      <td>1</td>\n",
              "      <td>0,07</td>\n",
              "      <td>...</td>\n",
              "      <td>29/01/16</td>\n",
              "      <td>8V</td>\n",
              "      <td>85.0</td>\n",
              "      <td>0,15</td>\n",
              "      <td>0,15</td>\n",
              "      <td>NaN</td>\n",
              "      <td>NaN</td>\n",
              "      <td>4V</td>\n",
              "      <td>ADW</td>\n",
              "      <td>WVWZZZ3CZFE438441</td>\n",
              "    </tr>\n",
              "    <tr>\n",
              "      <th>1</th>\n",
              "      <td>1</td>\n",
              "      <td>1</td>\n",
              "      <td>2004</td>\n",
              "      <td>8355551.0</td>\n",
              "      <td>11/12/15</td>\n",
              "      <td>99/000003</td>\n",
              "      <td>15</td>\n",
              "      <td>SACAR COD</td>\n",
              "      <td>NaN</td>\n",
              "      <td>0,00</td>\n",
              "      <td>...</td>\n",
              "      <td>05/01/16</td>\n",
              "      <td>5V</td>\n",
              "      <td>85.0</td>\n",
              "      <td>12,92</td>\n",
              "      <td>0,00</td>\n",
              "      <td>1.0</td>\n",
              "      <td>MANUEL ESCUDERO GARCIA</td>\n",
              "      <td>7V</td>\n",
              "      <td>VO</td>\n",
              "      <td>WVWZZZ6RZFY033277</td>\n",
              "    </tr>\n",
              "    <tr>\n",
              "      <th>2</th>\n",
              "      <td>2</td>\n",
              "      <td>1</td>\n",
              "      <td>77828</td>\n",
              "      <td>8353954.0</td>\n",
              "      <td>12/01/16</td>\n",
              "      <td>11/G</td>\n",
              "      <td>NaN</td>\n",
              "      <td>02E305051C - CARTUCH</td>\n",
              "      <td>1</td>\n",
              "      <td>21,82</td>\n",
              "      <td>...</td>\n",
              "      <td>26/01/16</td>\n",
              "      <td>6V</td>\n",
              "      <td>9.0</td>\n",
              "      <td>0,00</td>\n",
              "      <td>0,00</td>\n",
              "      <td>1.0</td>\n",
              "      <td>MANUEL ESCUDERO GARCIA</td>\n",
              "      <td>2V</td>\n",
              "      <td>G</td>\n",
              "      <td>WVWZZZ3CZ7P090459</td>\n",
              "    </tr>\n",
              "    <tr>\n",
              "      <th>3</th>\n",
              "      <td>3</td>\n",
              "      <td>1</td>\n",
              "      <td>77828</td>\n",
              "      <td>8353954.0</td>\n",
              "      <td>12/01/16</td>\n",
              "      <td>11/G</td>\n",
              "      <td>NaN</td>\n",
              "      <td>02E315141A - TAPA</td>\n",
              "      <td>1</td>\n",
              "      <td>28,24</td>\n",
              "      <td>...</td>\n",
              "      <td>26/01/16</td>\n",
              "      <td>6V</td>\n",
              "      <td>9.0</td>\n",
              "      <td>0,00</td>\n",
              "      <td>0,00</td>\n",
              "      <td>1.0</td>\n",
              "      <td>MANUEL ESCUDERO GARCIA</td>\n",
              "      <td>2V</td>\n",
              "      <td>G</td>\n",
              "      <td>WVWZZZ3CZ7P090459</td>\n",
              "    </tr>\n",
              "    <tr>\n",
              "      <th>4</th>\n",
              "      <td>4</td>\n",
              "      <td>1</td>\n",
              "      <td>77828</td>\n",
              "      <td>8353954.0</td>\n",
              "      <td>12/01/16</td>\n",
              "      <td>11/G</td>\n",
              "      <td>NaN</td>\n",
              "      <td>02E321371E - JUNTA</td>\n",
              "      <td>1</td>\n",
              "      <td>10,42</td>\n",
              "      <td>...</td>\n",
              "      <td>26/01/16</td>\n",
              "      <td>6V</td>\n",
              "      <td>9.0</td>\n",
              "      <td>0,00</td>\n",
              "      <td>0,00</td>\n",
              "      <td>1.0</td>\n",
              "      <td>MANUEL ESCUDERO GARCIA</td>\n",
              "      <td>2V</td>\n",
              "      <td>G</td>\n",
              "      <td>WVWZZZ3CZ7P090459</td>\n",
              "    </tr>\n",
              "  </tbody>\n",
              "</table>\n",
              "<p>5 rows × 27 columns</p>\n",
              "</div>\n",
              "      <button class=\"colab-df-convert\" onclick=\"convertToInteractive('df-2dd65f93-026c-45c5-8117-bd93ad44c573')\"\n",
              "              title=\"Convert this dataframe to an interactive table.\"\n",
              "              style=\"display:none;\">\n",
              "        \n",
              "  <svg xmlns=\"http://www.w3.org/2000/svg\" height=\"24px\"viewBox=\"0 0 24 24\"\n",
              "       width=\"24px\">\n",
              "    <path d=\"M0 0h24v24H0V0z\" fill=\"none\"/>\n",
              "    <path d=\"M18.56 5.44l.94 2.06.94-2.06 2.06-.94-2.06-.94-.94-2.06-.94 2.06-2.06.94zm-11 1L8.5 8.5l.94-2.06 2.06-.94-2.06-.94L8.5 2.5l-.94 2.06-2.06.94zm10 10l.94 2.06.94-2.06 2.06-.94-2.06-.94-.94-2.06-.94 2.06-2.06.94z\"/><path d=\"M17.41 7.96l-1.37-1.37c-.4-.4-.92-.59-1.43-.59-.52 0-1.04.2-1.43.59L10.3 9.45l-7.72 7.72c-.78.78-.78 2.05 0 2.83L4 21.41c.39.39.9.59 1.41.59.51 0 1.02-.2 1.41-.59l7.78-7.78 2.81-2.81c.8-.78.8-2.07 0-2.86zM5.41 20L4 18.59l7.72-7.72 1.47 1.35L5.41 20z\"/>\n",
              "  </svg>\n",
              "      </button>\n",
              "      \n",
              "  <style>\n",
              "    .colab-df-container {\n",
              "      display:flex;\n",
              "      flex-wrap:wrap;\n",
              "      gap: 12px;\n",
              "    }\n",
              "\n",
              "    .colab-df-convert {\n",
              "      background-color: #E8F0FE;\n",
              "      border: none;\n",
              "      border-radius: 50%;\n",
              "      cursor: pointer;\n",
              "      display: none;\n",
              "      fill: #1967D2;\n",
              "      height: 32px;\n",
              "      padding: 0 0 0 0;\n",
              "      width: 32px;\n",
              "    }\n",
              "\n",
              "    .colab-df-convert:hover {\n",
              "      background-color: #E2EBFA;\n",
              "      box-shadow: 0px 1px 2px rgba(60, 64, 67, 0.3), 0px 1px 3px 1px rgba(60, 64, 67, 0.15);\n",
              "      fill: #174EA6;\n",
              "    }\n",
              "\n",
              "    [theme=dark] .colab-df-convert {\n",
              "      background-color: #3B4455;\n",
              "      fill: #D2E3FC;\n",
              "    }\n",
              "\n",
              "    [theme=dark] .colab-df-convert:hover {\n",
              "      background-color: #434B5C;\n",
              "      box-shadow: 0px 1px 3px 1px rgba(0, 0, 0, 0.15);\n",
              "      filter: drop-shadow(0px 1px 2px rgba(0, 0, 0, 0.3));\n",
              "      fill: #FFFFFF;\n",
              "    }\n",
              "  </style>\n",
              "\n",
              "      <script>\n",
              "        const buttonEl =\n",
              "          document.querySelector('#df-2dd65f93-026c-45c5-8117-bd93ad44c573 button.colab-df-convert');\n",
              "        buttonEl.style.display =\n",
              "          google.colab.kernel.accessAllowed ? 'block' : 'none';\n",
              "\n",
              "        async function convertToInteractive(key) {\n",
              "          const element = document.querySelector('#df-2dd65f93-026c-45c5-8117-bd93ad44c573');\n",
              "          const dataTable =\n",
              "            await google.colab.kernel.invokeFunction('convertToInteractive',\n",
              "                                                     [key], {});\n",
              "          if (!dataTable) return;\n",
              "\n",
              "          const docLinkHtml = 'Like what you see? Visit the ' +\n",
              "            '<a target=\"_blank\" href=https://colab.research.google.com/notebooks/data_table.ipynb>data table notebook</a>'\n",
              "            + ' to learn more about interactive tables.';\n",
              "          element.innerHTML = '';\n",
              "          dataTable['output_type'] = 'display_data';\n",
              "          await google.colab.output.renderOutput(dataTable, element);\n",
              "          const docLink = document.createElement('div');\n",
              "          docLink.innerHTML = docLinkHtml;\n",
              "          element.appendChild(docLink);\n",
              "        }\n",
              "      </script>\n",
              "    </div>\n",
              "  </div>\n",
              "  "
            ]
          },
          "metadata": {},
          "execution_count": 64
        }
      ]
    },
    {
      "cell_type": "code",
      "source": [
        "dataframes = [total_2015,total_2016]\n",
        "total_2015_2016 = pd.concat(dataframes)"
      ],
      "metadata": {
        "id": "vlcf_G1T5VLO"
      },
      "execution_count": null,
      "outputs": []
    },
    {
      "cell_type": "code",
      "source": [
        "total_2015_2016.shape"
      ],
      "metadata": {
        "colab": {
          "base_uri": "https://localhost:8080/"
        },
        "id": "MtA_Selb732g",
        "outputId": "665f0eaf-5311-47c0-daa0-5f9c99807ccf"
      },
      "execution_count": null,
      "outputs": [
        {
          "output_type": "execute_result",
          "data": {
            "text/plain": [
              "(366363, 26)"
            ]
          },
          "metadata": {},
          "execution_count": 66
        }
      ]
    },
    {
      "cell_type": "code",
      "source": [
        "enero2017 = pd.read_csv(\"/content/201701.txt\", sep=\",\", encoding= \"ISO-8859-1\")\n",
        "febrero2017 = pd.read_csv(\"/content/201702.txt\", sep=\",\", encoding= \"ISO-8859-1\")\n",
        "marzo2017 = pd.read_csv(\"/content/201703.txt\", sep=\",\", encoding= \"ISO-8859-1\")\n",
        "abril2017 = pd.read_csv(\"/content/201704.txt\", sep=\",\", encoding= \"ISO-8859-1\")\n",
        "mayo2017 = pd.read_csv(\"/content/201705.txt\", sep=\",\", encoding= \"ISO-8859-1\")\n",
        "junio2017 = pd.read_csv(\"/content/201706.txt\", sep=\",\", encoding= \"ISO-8859-1\")\n",
        "julio2017 = pd.read_csv(\"/content/201707.txt\", sep=\",\", encoding= \"ISO-8859-1\")\n",
        "agosto2017 = pd.read_csv(\"/content/201708.txt\", sep=\",\", encoding= \"ISO-8859-1\")\n",
        "septiembre2017 = pd.read_csv(\"/content/201709.txt\", sep=\",\", encoding= \"ISO-8859-1\")\n",
        "octubre2017 = pd.read_csv(\"/content/201710.txt\", sep=\",\", encoding= \"ISO-8859-1\")\n",
        "noviembre2017 = pd.read_csv(\"/content/201711.txt\", sep=\",\", encoding= \"ISO-8859-1\")\n",
        "diciembre2017 = pd.read_csv(\"/content/201712.txt\", sep=\",\", encoding= \"ISO-8859-1\")"
      ],
      "metadata": {
        "id": "zykB1WQW7677"
      },
      "execution_count": null,
      "outputs": []
    },
    {
      "cell_type": "code",
      "source": [
        "dataframes = [enero2017, febrero2017, marzo2017, abril2017, mayo2017, junio2017, julio2017, agosto2017, septiembre2017, octubre2017, noviembre2017,diciembre2017]"
      ],
      "metadata": {
        "id": "5yinKdlGTzEv"
      },
      "execution_count": null,
      "outputs": []
    },
    {
      "cell_type": "code",
      "source": [
        "total_2017 = pd.concat(dataframes)"
      ],
      "metadata": {
        "id": "CN7us-t8U8H4"
      },
      "execution_count": null,
      "outputs": []
    },
    {
      "cell_type": "code",
      "source": [
        "total_2017.to_csv(\"/content/drive/MyDrive/Colab Notebooks/total_recambios_2017.csv\")"
      ],
      "metadata": {
        "id": "bTeXjezIVHDh"
      },
      "execution_count": null,
      "outputs": []
    },
    {
      "cell_type": "code",
      "source": [
        "enero2018 = pd.read_csv(\"/content/201801.txt\", sep=\",\", encoding= \"ISO-8859-1\")\n",
        "febrero2018 = pd.read_csv(\"/content/201802.txt\", sep=\",\", encoding= \"ISO-8859-1\")\n",
        "marzo2018 = pd.read_csv(\"/content/201803.txt\", sep=\",\", encoding= \"ISO-8859-1\")\n",
        "abril2018 = pd.read_csv(\"/content/201804.txt\", sep=\",\", encoding= \"ISO-8859-1\")\n",
        "mayo2018 = pd.read_csv(\"/content/201805.txt\", sep=\",\", encoding= \"ISO-8859-1\")\n",
        "junio2018 = pd.read_csv(\"/content/201806.txt\", sep=\",\", encoding= \"ISO-8859-1\")\n",
        "julio2018 = pd.read_csv(\"/content/201807.txt\", sep=\",\", encoding= \"ISO-8859-1\")\n",
        "agosto2018 = pd.read_csv(\"/content/201808.txt\", sep=\",\", encoding= \"ISO-8859-1\")\n",
        "septiembre2018 = pd.read_csv(\"/content/201809.txt\", sep=\",\", encoding= \"ISO-8859-1\")\n",
        "octubre2018 = pd.read_csv(\"/content/201810.txt\", sep=\",\", encoding= \"ISO-8859-1\")\n",
        "noviembre2018 = pd.read_csv(\"/content/201811.txt\", sep=\",\", encoding= \"ISO-8859-1\")\n",
        "diciembre2018 = pd.read_csv(\"/content/201812.txt\", sep=\",\", encoding= \"ISO-8859-1\")"
      ],
      "metadata": {
        "id": "fFgi8H0HVP4z"
      },
      "execution_count": null,
      "outputs": []
    },
    {
      "cell_type": "code",
      "source": [
        "dataframes = [enero2018, febrero2018, marzo2018, abril2018, mayo2018, junio2018, julio2018, agosto2018, septiembre2018, octubre2018, noviembre2018,diciembre2018]"
      ],
      "metadata": {
        "id": "DuMqTTXtcd-w"
      },
      "execution_count": null,
      "outputs": []
    },
    {
      "cell_type": "code",
      "source": [
        "total_2018 = pd.concat(dataframes)"
      ],
      "metadata": {
        "id": "hlhnI8C3cxLC"
      },
      "execution_count": null,
      "outputs": []
    },
    {
      "cell_type": "code",
      "source": [
        "total_2018.to_csv(\"/content/drive/MyDrive/Colab Notebooks/total_recambios_2018.csv\")"
      ],
      "metadata": {
        "id": "bGZNUHzMc1w4"
      },
      "execution_count": null,
      "outputs": []
    },
    {
      "cell_type": "code",
      "source": [
        "enero2019 = pd.read_csv(\"/content/201901.txt\", sep=\",\", encoding= \"ISO-8859-1\")\n",
        "febrero2019 = pd.read_csv(\"/content/201902.txt\", sep=\",\", encoding= \"ISO-8859-1\")\n",
        "marzo2019 = pd.read_csv(\"/content/201903.txt\", sep=\",\", encoding= \"ISO-8859-1\")\n",
        "abril2019 = pd.read_csv(\"/content/201904.txt\", sep=\",\", encoding= \"ISO-8859-1\")\n",
        "mayo2019 = pd.read_csv(\"/content/201905.txt\", sep=\",\", encoding= \"ISO-8859-1\")\n",
        "junio2019 = pd.read_csv(\"/content/201906.txt\", sep=\",\", encoding= \"ISO-8859-1\")\n",
        "julio2019 = pd.read_csv(\"/content/201907.txt\", sep=\",\", encoding= \"ISO-8859-1\")\n",
        "agosto2019 = pd.read_csv(\"/content/201908.txt\", sep=\",\", encoding= \"ISO-8859-1\")\n",
        "septiembre2019 = pd.read_csv(\"/content/201909.txt\", sep=\",\", encoding= \"ISO-8859-1\")\n",
        "octubre2019 = pd.read_csv(\"/content/201910.txt\", sep=\",\", encoding= \"ISO-8859-1\")\n",
        "noviembre2019 = pd.read_csv(\"/content/201911.txt\", sep=\",\", encoding= \"ISO-8859-1\")\n",
        "diciembre2019 = pd.read_csv(\"/content/201912.txt\", sep=\",\", encoding= \"ISO-8859-1\")"
      ],
      "metadata": {
        "id": "W2lby2koc8Vr"
      },
      "execution_count": null,
      "outputs": []
    },
    {
      "cell_type": "code",
      "source": [
        "dataframes = [enero2019, febrero2019, marzo2019, abril2019, mayo2019, junio2019, julio2019, agosto2019, septiembre2019, octubre2019, noviembre2019,diciembre2019]"
      ],
      "metadata": {
        "id": "TteKchaUi50s"
      },
      "execution_count": null,
      "outputs": []
    },
    {
      "cell_type": "code",
      "source": [
        "total_2019 = pd.concat(dataframes)"
      ],
      "metadata": {
        "id": "1_3ghC4EjLJf"
      },
      "execution_count": null,
      "outputs": []
    },
    {
      "cell_type": "code",
      "source": [
        "total_2019.to_csv(\"/content/drive/MyDrive/Colab Notebooks/total_recambios_2019.csv\")"
      ],
      "metadata": {
        "id": "BJm-HJ83jOla"
      },
      "execution_count": null,
      "outputs": []
    },
    {
      "cell_type": "code",
      "source": [
        "enero2020 = pd.read_csv(\"/content/202001.txt\", sep=\",\", encoding= \"ISO-8859-1\")\n",
        "febrero2020 = pd.read_csv(\"/content/202002.txt\", sep=\",\", encoding= \"ISO-8859-1\")\n",
        "marzo2020 = pd.read_csv(\"/content/202003.txt\", sep=\",\", encoding= \"ISO-8859-1\")\n",
        "abril2020 = pd.read_csv(\"/content/202004.txt\", sep=\",\", encoding= \"ISO-8859-1\")\n",
        "mayo2020 = pd.read_csv(\"/content/202005.txt\", sep=\",\", encoding= \"ISO-8859-1\")\n",
        "junio2020 = pd.read_csv(\"/content/202006.txt\", sep=\",\", encoding= \"ISO-8859-1\")\n",
        "julio2020 = pd.read_csv(\"/content/202007.txt\", sep=\",\", encoding= \"ISO-8859-1\")\n",
        "agosto2020 = pd.read_csv(\"/content/202008.txt\", sep=\",\", encoding= \"ISO-8859-1\")\n",
        "septiembre2020 = pd.read_csv(\"/content/202009.txt\", sep=\",\", encoding= \"ISO-8859-1\")\n",
        "octubre2020 = pd.read_csv(\"/content/202010.txt\", sep=\",\", encoding= \"ISO-8859-1\")\n",
        "noviembre2020 = pd.read_csv(\"/content/202011.txt\", sep=\",\", encoding= \"ISO-8859-1\")\n",
        "diciembre2020 = pd.read_csv(\"/content/202012.txt\", sep=\",\", encoding= \"ISO-8859-1\")"
      ],
      "metadata": {
        "id": "23AqsmvijW-n"
      },
      "execution_count": null,
      "outputs": []
    },
    {
      "cell_type": "code",
      "source": [
        "dataframes = [enero2020, febrero2020, marzo2020, abril2020, mayo2020, junio2020, julio2020, agosto2020, septiembre2020, octubre2020, noviembre2020,diciembre2020]"
      ],
      "metadata": {
        "id": "G7xi_wHT6pY0"
      },
      "execution_count": null,
      "outputs": []
    },
    {
      "cell_type": "code",
      "source": [
        "total_2020 = pd.concat(dataframes)"
      ],
      "metadata": {
        "id": "eA95aTLC66dT"
      },
      "execution_count": null,
      "outputs": []
    },
    {
      "cell_type": "code",
      "source": [
        "total_2020.to_csv(\"/content/drive/MyDrive/Colab Notebooks/total_recambios_2020.csv\")"
      ],
      "metadata": {
        "id": "Ow-jvjFt6-if"
      },
      "execution_count": null,
      "outputs": []
    },
    {
      "cell_type": "code",
      "source": [
        "enero2021 = pd.read_csv(\"/content/202101.txt\", sep=\",\", encoding= \"ISO-8859-1\")\n",
        "febrero2021 = pd.read_csv(\"/content/202102.txt\", sep=\",\", encoding= \"ISO-8859-1\")\n",
        "marzo2021 = pd.read_csv(\"/content/202103.txt\", sep=\",\", encoding= \"ISO-8859-1\")\n",
        "abril2021 = pd.read_csv(\"/content/202104.txt\", sep=\",\", encoding= \"ISO-8859-1\")\n",
        "mayo2021 = pd.read_csv(\"/content/202105.txt\", sep=\",\", encoding= \"ISO-8859-1\")\n",
        "junio2021 = pd.read_csv(\"/content/202106.txt\", sep=\",\", encoding= \"ISO-8859-1\")\n",
        "julio2021 = pd.read_csv(\"/content/202107.txt\", sep=\",\", encoding= \"ISO-8859-1\")\n",
        "agosto2021 = pd.read_csv(\"/content/202108.txt\", sep=\",\", encoding= \"ISO-8859-1\")\n",
        "septiembre2021 = pd.read_csv(\"/content/202109.txt\", sep=\",\", encoding= \"ISO-8859-1\")\n",
        "octubre2021 = pd.read_csv(\"/content/202110.txt\", sep=\",\", encoding= \"ISO-8859-1\")\n",
        "noviembre2021 = pd.read_csv(\"/content/202111.txt\", sep=\",\", encoding= \"ISO-8859-1\")\n",
        "diciembre2021 = pd.read_csv(\"/content/202112.txt\", sep=\",\", encoding= \"ISO-8859-1\")"
      ],
      "metadata": {
        "id": "OQg59MN67EBs"
      },
      "execution_count": null,
      "outputs": []
    },
    {
      "cell_type": "code",
      "source": [
        "dataframes = [enero2021, febrero2021, marzo2021, abril2021, mayo2021, junio2021, julio2021, agosto2021, septiembre2021, octubre2021, noviembre2021,diciembre2021]"
      ],
      "metadata": {
        "id": "JKJEfttnFrEB"
      },
      "execution_count": null,
      "outputs": []
    },
    {
      "cell_type": "code",
      "source": [
        "total_2021 = pd.concat(dataframes)"
      ],
      "metadata": {
        "id": "xZb2fRrBGz37"
      },
      "execution_count": null,
      "outputs": []
    },
    {
      "cell_type": "code",
      "source": [
        "total_2021.to_csv(\"/content/drive/MyDrive/Colab Notebooks/total_recambios_2021.csv\")"
      ],
      "metadata": {
        "id": "NURVILFdG3Wz"
      },
      "execution_count": null,
      "outputs": []
    },
    {
      "cell_type": "code",
      "source": [
        "enero2022 = pd.read_csv(\"/content/202201.txt\", sep=\",\", encoding= \"ISO-8859-1\", decimal=\",\" )\n",
        "febrero2022 = pd.read_csv(\"/content/202202.txt\", sep=\",\", encoding= \"ISO-8859-1\", decimal=\",\")\n",
        "marzo2022 = pd.read_csv(\"/content/202203.txt\", sep=\",\", encoding= \"ISO-8859-1\", decimal=\",\")\n",
        "abril2022 = pd.read_csv(\"/content/202204.txt\", sep=\",\", encoding= \"ISO-8859-1\", decimal=\",\")\n",
        "mayo2022 = pd.read_csv(\"/content/202205.txt\", sep=\",\", encoding= \"ISO-8859-1\", decimal=\",\")\n",
        "junio2022 = pd.read_csv(\"/content/202206.txt\", sep=\",\", encoding= \"ISO-8859-1\", decimal=\",\")\n"
      ],
      "metadata": {
        "id": "9igjDgCiG-1n"
      },
      "execution_count": 126,
      "outputs": []
    },
    {
      "cell_type": "code",
      "source": [
        "enero2022.columns"
      ],
      "metadata": {
        "colab": {
          "base_uri": "https://localhost:8080/"
        },
        "id": "D8fmJ4Wpi03T",
        "outputId": "215c86d0-f0b0-473d-b2e2-f6f932414c5d"
      },
      "execution_count": 127,
      "outputs": [
        {
          "output_type": "execute_result",
          "data": {
            "text/plain": [
              "Index(['Alma', 'Cuenta', 'Refer.', 'Fec.sali', 'Artículo', 'Clav',\n",
              "       'Denominacion', 'Canti', 'P.V.P.', 'Dto.', 'Neto', 'Costo', 'Beneficio',\n",
              "       '% Com', 'Comision', 'Fam.a', 'F.cierre', 'Tipo', 'Recep', 'P.V.P..1',\n",
              "       'TOTAL PVP', 'Opera', 'Nombre', 'Tipo.1', 'Famil', 'Bastidor'],\n",
              "      dtype='object')"
            ]
          },
          "metadata": {},
          "execution_count": 127
        }
      ]
    },
    {
      "cell_type": "code",
      "source": [
        "enero2022 = enero2022.rename(columns={\"Refer.\":\"Refer\", \"Fec.sali\": \"Fech_Salida\", \"Artículo\":\"Articulo\", \"P.V.P.\": \"PVP\", \"Dto.\":\"Dto\", \"% Com\":\"COM\", \"Fam.a\":\"Famil_apr\", \"F.cierre\":\"Fech_cierre\",\n",
        "                        \"P.V.P..1\": \"PVP1\", \"TOTAL PVP\":\"TOTAL_PVP\",\"Tipo.1\": \"Tipo_venta\" })"
      ],
      "metadata": {
        "id": "Whb0FHWTioxG"
      },
      "execution_count": 128,
      "outputs": []
    },
    {
      "cell_type": "code",
      "source": [
        "enero2022 = enero2022[~enero2022.Cuenta.isnull()]\n",
        "enero2022 = enero2022[~enero2022.Fech_cierre.isnull()]\n",
        "enero2022 = enero2022[~enero2022.Canti.isnull()]"
      ],
      "metadata": {
        "id": "RzJtUymzj3sE"
      },
      "execution_count": 129,
      "outputs": []
    },
    {
      "cell_type": "code",
      "source": [
        "enero2022.info()"
      ],
      "metadata": {
        "colab": {
          "base_uri": "https://localhost:8080/"
        },
        "id": "rwl-ltFOkg5l",
        "outputId": "7e3a62c8-c618-47f3-f890-101bb09f8b9b"
      },
      "execution_count": 130,
      "outputs": [
        {
          "output_type": "stream",
          "name": "stdout",
          "text": [
            "<class 'pandas.core.frame.DataFrame'>\n",
            "Int64Index: 13534 entries, 0 to 14040\n",
            "Data columns (total 26 columns):\n",
            " #   Column        Non-Null Count  Dtype  \n",
            "---  ------        --------------  -----  \n",
            " 0   Alma          13534 non-null  object \n",
            " 1   Cuenta        13534 non-null  object \n",
            " 2   Refer         13534 non-null  float64\n",
            " 3   Fech_Salida   13534 non-null  object \n",
            " 4   Articulo      13534 non-null  object \n",
            " 5   Clav          12396 non-null  object \n",
            " 6   Denominacion  13534 non-null  object \n",
            " 7   Canti         13534 non-null  float64\n",
            " 8   PVP           13534 non-null  float64\n",
            " 9   Dto           9533 non-null   float64\n",
            " 10  Neto          13534 non-null  float64\n",
            " 11  Costo         13534 non-null  float64\n",
            " 12  Beneficio     13534 non-null  float64\n",
            " 13  COM           13534 non-null  float64\n",
            " 14  Comision      13534 non-null  float64\n",
            " 15  Famil_apr     11132 non-null  object \n",
            " 16  Fech_cierre   13534 non-null  object \n",
            " 17  Tipo          13534 non-null  object \n",
            " 18  Recep         13534 non-null  float64\n",
            " 19  PVP1          13534 non-null  float64\n",
            " 20  TOTAL_PVP     13534 non-null  float64\n",
            " 21  Opera         13528 non-null  float64\n",
            " 22  Nombre        13528 non-null  object \n",
            " 23  Tipo_venta    13534 non-null  object \n",
            " 24  Famil         13534 non-null  object \n",
            " 25  Bastidor      13534 non-null  object \n",
            "dtypes: float64(13), object(13)\n",
            "memory usage: 2.8+ MB\n"
          ]
        }
      ]
    },
    {
      "cell_type": "code",
      "source": [
        "# lo primero que voy a hacer es cambiar de tipo de datos. \n",
        "enero2022[\"Alma\"] = enero2022[\"Alma\"].apply(str)\n",
        "enero2022[\"Cuenta\"] = enero2022[\"Cuenta\"].apply(str)\n",
        "enero2022[\"Refer\"] = enero2022[\"Refer\"].apply(str)\n",
        "enero2022[\"Fech_cierre\"] = pd.to_datetime(enero2022[\"Fech_cierre\"])\n",
        "enero2022[\"Articulo\"] = enero2022[\"Articulo\"].apply(str)\n",
        "enero2022[\"Clav\"] = enero2022[\"Clav\"].apply(str)\n",
        "enero2022[\"Denominacion\"] = enero2022[\"Denominacion\"].apply(str)\n",
        "enero2022[\"Canti\"] = enero2022[\"Canti\"].apply(int)\n",
        "enero2022[\"PVP\"] = enero2022[\"PVP\"].apply(float)\n",
        "enero2022[\"Dto\"] = enero2022[\"Dto\"].apply(float)\n",
        "enero2022[\"Neto\"] = enero2022[\"Neto\"].apply(float)\n",
        "enero2022[\"Costo\"] = enero2022[\"Costo\"].apply(float)\n",
        "enero2022[\"Beneficio\"] = enero2022[\"Beneficio\"].apply(float)\n",
        "enero2022[\"COM\"] = enero2022[\"COM\"].apply(float)\n",
        "enero2022[\"Comision\"] = enero2022[\"Comision\"].apply(float)\n",
        "enero2022[\"Famil_apr\"] = enero2022[\"COM\"].apply(str)\n",
        "enero2022[\"Tipo\"] = enero2022[\"Tipo\"].apply(str)\n",
        "enero2022[\"Recep\"] = enero2022[\"Recep\"].apply(str)\n",
        "enero2022[\"PVP1\"] = enero2022[\"PVP1\"].apply(float)\n",
        "enero2022[\"TOTAL_PVP\"] = enero2022[\"TOTAL_PVP\"].apply(float)\n",
        "enero2022[\"Opera\"] = enero2022[\"Opera\"].apply(str)\n",
        "enero2022[\"Nombre\"] = enero2022[\"Nombre\"].apply(str)\n",
        "enero2022[\"Tipo_venta\"] = enero2022[\"Tipo_venta\"].apply(str)\n",
        "enero2022[\"Famil\"] = enero2022[\"Famil\"].apply(str)\n",
        "enero2022[\"Bastidor\"] = enero2022[\"Bastidor\"].apply(str)"
      ],
      "metadata": {
        "id": "xO2ZA5GFkBKR"
      },
      "execution_count": 131,
      "outputs": []
    },
    {
      "cell_type": "code",
      "source": [
        "print(\"la fecha va desde {} a {}\".format(enero2022.Fech_cierre.min(), enero2022.Fech_cierre.max()))"
      ],
      "metadata": {
        "colab": {
          "base_uri": "https://localhost:8080/"
        },
        "id": "u5JzSrWrmvEr",
        "outputId": "655af8ea-1b89-4c02-d481-29157dcec991"
      },
      "execution_count": 132,
      "outputs": [
        {
          "output_type": "stream",
          "name": "stdout",
          "text": [
            "la fecha va desde 2022-01-13 00:00:00 a 2022-12-01 00:00:00\n"
          ]
        }
      ]
    },
    {
      "cell_type": "code",
      "source": [
        "dataframes = [enero2022, febrero2022, marzo2022, abril2022, mayo2022, junio2022]"
      ],
      "metadata": {
        "id": "aUxUfnAHrhkJ"
      },
      "execution_count": 98,
      "outputs": []
    },
    {
      "cell_type": "code",
      "source": [
        "total_2022 = pd.concat(dataframes)"
      ],
      "metadata": {
        "id": "T50S-Do4rX4c"
      },
      "execution_count": 99,
      "outputs": []
    },
    {
      "cell_type": "code",
      "source": [
        "total_2022.to_csv(\"/content/drive/MyDrive/Colab Notebooks/total_recambios_2022.csv\")"
      ],
      "metadata": {
        "id": "cWbENf20rgRG"
      },
      "execution_count": 100,
      "outputs": []
    },
    {
      "cell_type": "code",
      "source": [
        "df_2015 = pd.read_csv(\"/content/drive/MyDrive/Colab Notebooks/total_recambios_2015.csv\", sep=\",\", encoding= \"ISO-8859-1\")\n",
        "df_2016 = pd.read_csv(\"/content/drive/MyDrive/Colab Notebooks/total_recambios_2016.csv\", sep=\",\", encoding= \"ISO-8859-1\")\n",
        "df_2017 = pd.read_csv(\"/content/drive/MyDrive/Colab Notebooks/total_recambios_2017.csv\", sep=\",\", encoding= \"ISO-8859-1\")\n",
        "df_2018 = pd.read_csv(\"/content/drive/MyDrive/Colab Notebooks/total_recambios_2018.csv\", sep=\",\", encoding= \"ISO-8859-1\")\n",
        "df_2019 = pd.read_csv(\"/content/drive/MyDrive/Colab Notebooks/total_recambios_2019.csv\", sep=\",\", encoding= \"ISO-8859-1\")\n",
        "df_2020 = pd.read_csv(\"/content/drive/MyDrive/Colab Notebooks/total_recambios_2020.csv\", sep=\",\", encoding= \"ISO-8859-1\")\n",
        "df_2021 = pd.read_csv(\"/content/drive/MyDrive/Colab Notebooks/total_recambios_2021.csv\", sep=\",\", encoding= \"ISO-8859-1\")\n",
        "df_2022 = pd.read_csv(\"/content/drive/MyDrive/Colab Notebooks/total_recambios_2022.csv\", sep=\",\", encoding= \"ISO-8859-1\")"
      ],
      "metadata": {
        "colab": {
          "base_uri": "https://localhost:8080/"
        },
        "id": "T8a0o4X8rxYS",
        "outputId": "bee32711-6608-47e8-a453-d0b7167bca56"
      },
      "execution_count": null,
      "outputs": [
        {
          "output_type": "stream",
          "name": "stderr",
          "text": [
            "/usr/local/lib/python3.7/dist-packages/IPython/core/interactiveshell.py:2882: DtypeWarning: Columns (2) have mixed types.Specify dtype option on import or set low_memory=False.\n",
            "  exec(code_obj, self.user_global_ns, self.user_ns)\n"
          ]
        }
      ]
    },
    {
      "cell_type": "code",
      "source": [
        "df_2015.head(2)"
      ],
      "metadata": {
        "colab": {
          "base_uri": "https://localhost:8080/",
          "height": 263
        },
        "id": "daqHECoKswh7",
        "outputId": "169a6003-f15c-47b9-b143-92bc936ef0ab"
      },
      "execution_count": null,
      "outputs": [
        {
          "output_type": "execute_result",
          "data": {
            "text/plain": [
              "   Unnamed: 0 Alma Cuenta  ...  Tipo.1 Famil           Bastidor\n",
              "0           0    1  98253  ...      7V   AL8  WVWZZZ1KZ9W487026\n",
              "1           1    1  98253  ...      7V   ALH  WVWZZZ1KZ9W487026\n",
              "\n",
              "[2 rows x 27 columns]"
            ],
            "text/html": [
              "\n",
              "  <div id=\"df-6fa81e35-8518-4527-8171-7049de32fc00\">\n",
              "    <div class=\"colab-df-container\">\n",
              "      <div>\n",
              "<style scoped>\n",
              "    .dataframe tbody tr th:only-of-type {\n",
              "        vertical-align: middle;\n",
              "    }\n",
              "\n",
              "    .dataframe tbody tr th {\n",
              "        vertical-align: top;\n",
              "    }\n",
              "\n",
              "    .dataframe thead th {\n",
              "        text-align: right;\n",
              "    }\n",
              "</style>\n",
              "<table border=\"1\" class=\"dataframe\">\n",
              "  <thead>\n",
              "    <tr style=\"text-align: right;\">\n",
              "      <th></th>\n",
              "      <th>Unnamed: 0</th>\n",
              "      <th>Alma</th>\n",
              "      <th>Cuenta</th>\n",
              "      <th>Refer.</th>\n",
              "      <th>Fec.sali</th>\n",
              "      <th>ArtÃ­culo</th>\n",
              "      <th>Clav</th>\n",
              "      <th>Denominacion</th>\n",
              "      <th>Canti</th>\n",
              "      <th>P.V.P.</th>\n",
              "      <th>Dto.</th>\n",
              "      <th>Neto</th>\n",
              "      <th>Costo</th>\n",
              "      <th>Beneficio</th>\n",
              "      <th>% Com</th>\n",
              "      <th>Comision</th>\n",
              "      <th>Fam.a</th>\n",
              "      <th>F.cierre</th>\n",
              "      <th>Tipo</th>\n",
              "      <th>Recep</th>\n",
              "      <th>P.V.P..1</th>\n",
              "      <th>TOTAL PVP</th>\n",
              "      <th>Opera</th>\n",
              "      <th>Nombre</th>\n",
              "      <th>Tipo.1</th>\n",
              "      <th>Famil</th>\n",
              "      <th>Bastidor</th>\n",
              "    </tr>\n",
              "  </thead>\n",
              "  <tbody>\n",
              "    <tr>\n",
              "      <th>0</th>\n",
              "      <td>0</td>\n",
              "      <td>1</td>\n",
              "      <td>98253</td>\n",
              "      <td>6522204.0</td>\n",
              "      <td>27/01/15</td>\n",
              "      <td>11/5K0807109M</td>\n",
              "      <td>6</td>\n",
              "      <td>REFUERZO 10</td>\n",
              "      <td>1</td>\n",
              "      <td>173,93</td>\n",
              "      <td>10,00</td>\n",
              "      <td>156,54</td>\n",
              "      <td>140,44</td>\n",
              "      <td>16,10</td>\n",
              "      <td>0,00</td>\n",
              "      <td>0,00</td>\n",
              "      <td>AL8</td>\n",
              "      <td>27/01/15</td>\n",
              "      <td>5V</td>\n",
              "      <td>85.0</td>\n",
              "      <td>214,00</td>\n",
              "      <td>214,00</td>\n",
              "      <td>1.0</td>\n",
              "      <td>MANUEL ESCUDERO GARCIA</td>\n",
              "      <td>7V</td>\n",
              "      <td>AL8</td>\n",
              "      <td>WVWZZZ1KZ9W487026</td>\n",
              "    </tr>\n",
              "    <tr>\n",
              "      <th>1</th>\n",
              "      <td>1</td>\n",
              "      <td>1</td>\n",
              "      <td>98253</td>\n",
              "      <td>6522204.0</td>\n",
              "      <td>27/01/15</td>\n",
              "      <td>11/5K0807217BLGRU</td>\n",
              "      <td>4</td>\n",
              "      <td>GUARNECID 10</td>\n",
              "      <td>1</td>\n",
              "      <td>316,39</td>\n",
              "      <td>10,00</td>\n",
              "      <td>284,75</td>\n",
              "      <td>186,05</td>\n",
              "      <td>98,70</td>\n",
              "      <td>0,00</td>\n",
              "      <td>0,00</td>\n",
              "      <td>ALH</td>\n",
              "      <td>27/01/15</td>\n",
              "      <td>5V</td>\n",
              "      <td>85.0</td>\n",
              "      <td>401,00</td>\n",
              "      <td>401,00</td>\n",
              "      <td>1.0</td>\n",
              "      <td>MANUEL ESCUDERO GARCIA</td>\n",
              "      <td>7V</td>\n",
              "      <td>ALH</td>\n",
              "      <td>WVWZZZ1KZ9W487026</td>\n",
              "    </tr>\n",
              "  </tbody>\n",
              "</table>\n",
              "</div>\n",
              "      <button class=\"colab-df-convert\" onclick=\"convertToInteractive('df-6fa81e35-8518-4527-8171-7049de32fc00')\"\n",
              "              title=\"Convert this dataframe to an interactive table.\"\n",
              "              style=\"display:none;\">\n",
              "        \n",
              "  <svg xmlns=\"http://www.w3.org/2000/svg\" height=\"24px\"viewBox=\"0 0 24 24\"\n",
              "       width=\"24px\">\n",
              "    <path d=\"M0 0h24v24H0V0z\" fill=\"none\"/>\n",
              "    <path d=\"M18.56 5.44l.94 2.06.94-2.06 2.06-.94-2.06-.94-.94-2.06-.94 2.06-2.06.94zm-11 1L8.5 8.5l.94-2.06 2.06-.94-2.06-.94L8.5 2.5l-.94 2.06-2.06.94zm10 10l.94 2.06.94-2.06 2.06-.94-2.06-.94-.94-2.06-.94 2.06-2.06.94z\"/><path d=\"M17.41 7.96l-1.37-1.37c-.4-.4-.92-.59-1.43-.59-.52 0-1.04.2-1.43.59L10.3 9.45l-7.72 7.72c-.78.78-.78 2.05 0 2.83L4 21.41c.39.39.9.59 1.41.59.51 0 1.02-.2 1.41-.59l7.78-7.78 2.81-2.81c.8-.78.8-2.07 0-2.86zM5.41 20L4 18.59l7.72-7.72 1.47 1.35L5.41 20z\"/>\n",
              "  </svg>\n",
              "      </button>\n",
              "      \n",
              "  <style>\n",
              "    .colab-df-container {\n",
              "      display:flex;\n",
              "      flex-wrap:wrap;\n",
              "      gap: 12px;\n",
              "    }\n",
              "\n",
              "    .colab-df-convert {\n",
              "      background-color: #E8F0FE;\n",
              "      border: none;\n",
              "      border-radius: 50%;\n",
              "      cursor: pointer;\n",
              "      display: none;\n",
              "      fill: #1967D2;\n",
              "      height: 32px;\n",
              "      padding: 0 0 0 0;\n",
              "      width: 32px;\n",
              "    }\n",
              "\n",
              "    .colab-df-convert:hover {\n",
              "      background-color: #E2EBFA;\n",
              "      box-shadow: 0px 1px 2px rgba(60, 64, 67, 0.3), 0px 1px 3px 1px rgba(60, 64, 67, 0.15);\n",
              "      fill: #174EA6;\n",
              "    }\n",
              "\n",
              "    [theme=dark] .colab-df-convert {\n",
              "      background-color: #3B4455;\n",
              "      fill: #D2E3FC;\n",
              "    }\n",
              "\n",
              "    [theme=dark] .colab-df-convert:hover {\n",
              "      background-color: #434B5C;\n",
              "      box-shadow: 0px 1px 3px 1px rgba(0, 0, 0, 0.15);\n",
              "      filter: drop-shadow(0px 1px 2px rgba(0, 0, 0, 0.3));\n",
              "      fill: #FFFFFF;\n",
              "    }\n",
              "  </style>\n",
              "\n",
              "      <script>\n",
              "        const buttonEl =\n",
              "          document.querySelector('#df-6fa81e35-8518-4527-8171-7049de32fc00 button.colab-df-convert');\n",
              "        buttonEl.style.display =\n",
              "          google.colab.kernel.accessAllowed ? 'block' : 'none';\n",
              "\n",
              "        async function convertToInteractive(key) {\n",
              "          const element = document.querySelector('#df-6fa81e35-8518-4527-8171-7049de32fc00');\n",
              "          const dataTable =\n",
              "            await google.colab.kernel.invokeFunction('convertToInteractive',\n",
              "                                                     [key], {});\n",
              "          if (!dataTable) return;\n",
              "\n",
              "          const docLinkHtml = 'Like what you see? Visit the ' +\n",
              "            '<a target=\"_blank\" href=https://colab.research.google.com/notebooks/data_table.ipynb>data table notebook</a>'\n",
              "            + ' to learn more about interactive tables.';\n",
              "          element.innerHTML = '';\n",
              "          dataTable['output_type'] = 'display_data';\n",
              "          await google.colab.output.renderOutput(dataTable, element);\n",
              "          const docLink = document.createElement('div');\n",
              "          docLink.innerHTML = docLinkHtml;\n",
              "          element.appendChild(docLink);\n",
              "        }\n",
              "      </script>\n",
              "    </div>\n",
              "  </div>\n",
              "  "
            ]
          },
          "metadata": {},
          "execution_count": 47
        }
      ]
    },
    {
      "cell_type": "code",
      "source": [
        "df[\"Fech_cierre\"] = pd.to_datetime(df[\"Fech_cierre\"])"
      ],
      "metadata": {
        "id": "t46xjjSrskMq"
      },
      "execution_count": null,
      "outputs": []
    },
    {
      "cell_type": "code",
      "source": [
        "print(\"la fecha va desde {} a {}\".format(df_2015.F.cierre.min(), df_2015.F.cierre.max()))"
      ],
      "metadata": {
        "colab": {
          "base_uri": "https://localhost:8080/",
          "height": 299
        },
        "id": "7zhJTNn1sOrl",
        "outputId": "882fe52c-2292-4a8d-b957-c6bd72ae4684"
      },
      "execution_count": null,
      "outputs": [
        {
          "output_type": "error",
          "ename": "AttributeError",
          "evalue": "ignored",
          "traceback": [
            "\u001b[0;31m---------------------------------------------------------------------------\u001b[0m",
            "\u001b[0;31mAttributeError\u001b[0m                            Traceback (most recent call last)",
            "\u001b[0;32m<ipython-input-48-f36eef02776b>\u001b[0m in \u001b[0;36m<module>\u001b[0;34m()\u001b[0m\n\u001b[0;32m----> 1\u001b[0;31m \u001b[0mprint\u001b[0m\u001b[0;34m(\u001b[0m\u001b[0;34m\"la fecha va desde {} a {}\"\u001b[0m\u001b[0;34m.\u001b[0m\u001b[0mformat\u001b[0m\u001b[0;34m(\u001b[0m\u001b[0mdf_2015\u001b[0m\u001b[0;34m.\u001b[0m\u001b[0mF\u001b[0m\u001b[0;34m.\u001b[0m\u001b[0mcierre\u001b[0m\u001b[0;34m.\u001b[0m\u001b[0mmin\u001b[0m\u001b[0;34m(\u001b[0m\u001b[0;34m)\u001b[0m\u001b[0;34m,\u001b[0m \u001b[0mdf_2015\u001b[0m\u001b[0;34m.\u001b[0m\u001b[0mF\u001b[0m\u001b[0;34m.\u001b[0m\u001b[0mcierre\u001b[0m\u001b[0;34m.\u001b[0m\u001b[0mmax\u001b[0m\u001b[0;34m(\u001b[0m\u001b[0;34m)\u001b[0m\u001b[0;34m)\u001b[0m\u001b[0;34m)\u001b[0m\u001b[0;34m\u001b[0m\u001b[0;34m\u001b[0m\u001b[0m\n\u001b[0m",
            "\u001b[0;32m/usr/local/lib/python3.7/dist-packages/pandas/core/generic.py\u001b[0m in \u001b[0;36m__getattr__\u001b[0;34m(self, name)\u001b[0m\n\u001b[1;32m   5485\u001b[0m         ):\n\u001b[1;32m   5486\u001b[0m             \u001b[0;32mreturn\u001b[0m \u001b[0mself\u001b[0m\u001b[0;34m[\u001b[0m\u001b[0mname\u001b[0m\u001b[0;34m]\u001b[0m\u001b[0;34m\u001b[0m\u001b[0;34m\u001b[0m\u001b[0m\n\u001b[0;32m-> 5487\u001b[0;31m         \u001b[0;32mreturn\u001b[0m \u001b[0mobject\u001b[0m\u001b[0;34m.\u001b[0m\u001b[0m__getattribute__\u001b[0m\u001b[0;34m(\u001b[0m\u001b[0mself\u001b[0m\u001b[0;34m,\u001b[0m \u001b[0mname\u001b[0m\u001b[0;34m)\u001b[0m\u001b[0;34m\u001b[0m\u001b[0;34m\u001b[0m\u001b[0m\n\u001b[0m\u001b[1;32m   5488\u001b[0m \u001b[0;34m\u001b[0m\u001b[0m\n\u001b[1;32m   5489\u001b[0m     \u001b[0;32mdef\u001b[0m \u001b[0m__setattr__\u001b[0m\u001b[0;34m(\u001b[0m\u001b[0mself\u001b[0m\u001b[0;34m,\u001b[0m \u001b[0mname\u001b[0m\u001b[0;34m:\u001b[0m \u001b[0mstr\u001b[0m\u001b[0;34m,\u001b[0m \u001b[0mvalue\u001b[0m\u001b[0;34m)\u001b[0m \u001b[0;34m->\u001b[0m \u001b[0;32mNone\u001b[0m\u001b[0;34m:\u001b[0m\u001b[0;34m\u001b[0m\u001b[0;34m\u001b[0m\u001b[0m\n",
            "\u001b[0;31mAttributeError\u001b[0m: 'DataFrame' object has no attribute 'F'"
          ]
        }
      ]
    },
    {
      "cell_type": "code",
      "source": [
        "dataframes = [df_2015, df_2016, df_2017, df_2018, df_2019, df_2020, df_2021, df_2022]"
      ],
      "metadata": {
        "id": "_nhLLW4msbeP"
      },
      "execution_count": null,
      "outputs": []
    },
    {
      "cell_type": "code",
      "source": [
        "total_recambios_hasta_junio = pd.concat(dataframes)"
      ],
      "metadata": {
        "id": "8z3n6TA_tRvV"
      },
      "execution_count": null,
      "outputs": []
    },
    {
      "cell_type": "code",
      "source": [
        "total_recambios_hasta_junio.shape"
      ],
      "metadata": {
        "colab": {
          "base_uri": "https://localhost:8080/"
        },
        "id": "eZEjQzvftchz",
        "outputId": "6e2b4b35-ce4d-46ae-a5a2-1fec2eaa8b64"
      },
      "execution_count": null,
      "outputs": [
        {
          "output_type": "execute_result",
          "data": {
            "text/plain": [
              "(1521897, 27)"
            ]
          },
          "metadata": {},
          "execution_count": 14
        }
      ]
    },
    {
      "cell_type": "code",
      "source": [
        "total_recambios_hasta_junio.to_csv(\"/content/drive/MyDrive/Colab Notebooks/total_recambios_recambios_hasta_junio.csv\")"
      ],
      "metadata": {
        "id": "jsrSd1xCtfxM"
      },
      "execution_count": null,
      "outputs": []
    },
    {
      "cell_type": "code",
      "source": [
        ""
      ],
      "metadata": {
        "id": "L4vJUCrqnuJi"
      },
      "execution_count": null,
      "outputs": []
    },
    {
      "cell_type": "code",
      "source": [
        ""
      ],
      "metadata": {
        "id": "iA3T42dDNmdS"
      },
      "execution_count": null,
      "outputs": []
    },
    {
      "cell_type": "markdown",
      "source": [
        "# TRATAMIENTO DEL ARCHIVO"
      ],
      "metadata": {
        "id": "sZ5CR2PFPrdk"
      }
    },
    {
      "cell_type": "code",
      "source": [
        "import pandas as pd\n"
      ],
      "metadata": {
        "id": "i_jPDj_SSfce"
      },
      "execution_count": null,
      "outputs": []
    },
    {
      "cell_type": "code",
      "source": [
        "df = pd.read_csv(\"/content/drive/MyDrive/Colab Notebooks/total_recambios_recambios_hasta_junio.csv\", decimal=\",\")"
      ],
      "metadata": {
        "id": "9hMNMNwItsom"
      },
      "execution_count": null,
      "outputs": []
    },
    {
      "cell_type": "code",
      "source": [
        "pd.options.display.max_columns = 0"
      ],
      "metadata": {
        "id": "4abUomV_P4r8"
      },
      "execution_count": null,
      "outputs": []
    },
    {
      "cell_type": "code",
      "source": [
        "df.head()"
      ],
      "metadata": {
        "colab": {
          "base_uri": "https://localhost:8080/",
          "height": 461
        },
        "id": "yVX4moUZPnud",
        "outputId": "2a937e1f-3ff6-45a5-e161-4211b555bcaa"
      },
      "execution_count": null,
      "outputs": [
        {
          "output_type": "execute_result",
          "data": {
            "text/plain": [
              "   Unnamed: 0  Unnamed: 0.1 Alma  ... Tipo.1 Famil           Bastidor\n",
              "0           0             0    1  ...     7V   AL8  WVWZZZ1KZ9W487026\n",
              "1           1             1    1  ...     7V   ALH  WVWZZZ1KZ9W487026\n",
              "2           2             2    1  ...     7V   AL7  WVWZZZ1KZ9W487026\n",
              "3           3             3    1  ...     7V   ANW  WVWZZZ1KZ9W487026\n",
              "4           4             4    1  ...     7V   ANW  WVWZZZ1KZ9W487026\n",
              "\n",
              "[5 rows x 28 columns]"
            ],
            "text/html": [
              "\n",
              "  <div id=\"df-65131076-8e26-4e3d-8759-9f0f14fc817c\">\n",
              "    <div class=\"colab-df-container\">\n",
              "      <div>\n",
              "<style scoped>\n",
              "    .dataframe tbody tr th:only-of-type {\n",
              "        vertical-align: middle;\n",
              "    }\n",
              "\n",
              "    .dataframe tbody tr th {\n",
              "        vertical-align: top;\n",
              "    }\n",
              "\n",
              "    .dataframe thead th {\n",
              "        text-align: right;\n",
              "    }\n",
              "</style>\n",
              "<table border=\"1\" class=\"dataframe\">\n",
              "  <thead>\n",
              "    <tr style=\"text-align: right;\">\n",
              "      <th></th>\n",
              "      <th>Unnamed: 0</th>\n",
              "      <th>Unnamed: 0.1</th>\n",
              "      <th>Alma</th>\n",
              "      <th>Cuenta</th>\n",
              "      <th>Refer.</th>\n",
              "      <th>Fec.sali</th>\n",
              "      <th>ArtÃ­culo</th>\n",
              "      <th>Clav</th>\n",
              "      <th>Denominacion</th>\n",
              "      <th>Canti</th>\n",
              "      <th>P.V.P.</th>\n",
              "      <th>Dto.</th>\n",
              "      <th>Neto</th>\n",
              "      <th>Costo</th>\n",
              "      <th>Beneficio</th>\n",
              "      <th>% Com</th>\n",
              "      <th>Comision</th>\n",
              "      <th>Fam.a</th>\n",
              "      <th>F.cierre</th>\n",
              "      <th>Tipo</th>\n",
              "      <th>Recep</th>\n",
              "      <th>P.V.P..1</th>\n",
              "      <th>TOTAL PVP</th>\n",
              "      <th>Opera</th>\n",
              "      <th>Nombre</th>\n",
              "      <th>Tipo.1</th>\n",
              "      <th>Famil</th>\n",
              "      <th>Bastidor</th>\n",
              "    </tr>\n",
              "  </thead>\n",
              "  <tbody>\n",
              "    <tr>\n",
              "      <th>0</th>\n",
              "      <td>0</td>\n",
              "      <td>0</td>\n",
              "      <td>1</td>\n",
              "      <td>98253</td>\n",
              "      <td>6522204.0</td>\n",
              "      <td>27/01/15</td>\n",
              "      <td>11/5K0807109M</td>\n",
              "      <td>6</td>\n",
              "      <td>REFUERZO 10</td>\n",
              "      <td>1.0</td>\n",
              "      <td>173.93</td>\n",
              "      <td>10.0</td>\n",
              "      <td>156.54</td>\n",
              "      <td>140.44</td>\n",
              "      <td>16.10</td>\n",
              "      <td>0.0</td>\n",
              "      <td>0.0</td>\n",
              "      <td>AL8</td>\n",
              "      <td>27/01/15</td>\n",
              "      <td>5V</td>\n",
              "      <td>85.0</td>\n",
              "      <td>214.00</td>\n",
              "      <td>214.0</td>\n",
              "      <td>1.0</td>\n",
              "      <td>MANUEL ESCUDERO GARCIA</td>\n",
              "      <td>7V</td>\n",
              "      <td>AL8</td>\n",
              "      <td>WVWZZZ1KZ9W487026</td>\n",
              "    </tr>\n",
              "    <tr>\n",
              "      <th>1</th>\n",
              "      <td>1</td>\n",
              "      <td>1</td>\n",
              "      <td>1</td>\n",
              "      <td>98253</td>\n",
              "      <td>6522204.0</td>\n",
              "      <td>27/01/15</td>\n",
              "      <td>11/5K0807217BLGRU</td>\n",
              "      <td>4</td>\n",
              "      <td>GUARNECID 10</td>\n",
              "      <td>1.0</td>\n",
              "      <td>316.39</td>\n",
              "      <td>10.0</td>\n",
              "      <td>284.75</td>\n",
              "      <td>186.05</td>\n",
              "      <td>98.70</td>\n",
              "      <td>0.0</td>\n",
              "      <td>0.0</td>\n",
              "      <td>ALH</td>\n",
              "      <td>27/01/15</td>\n",
              "      <td>5V</td>\n",
              "      <td>85.0</td>\n",
              "      <td>401.00</td>\n",
              "      <td>401.0</td>\n",
              "      <td>1.0</td>\n",
              "      <td>MANUEL ESCUDERO GARCIA</td>\n",
              "      <td>7V</td>\n",
              "      <td>ALH</td>\n",
              "      <td>WVWZZZ1KZ9W487026</td>\n",
              "    </tr>\n",
              "    <tr>\n",
              "      <th>2</th>\n",
              "      <td>2</td>\n",
              "      <td>2</td>\n",
              "      <td>1</td>\n",
              "      <td>98253</td>\n",
              "      <td>6522204.0</td>\n",
              "      <td>27/01/15</td>\n",
              "      <td>11/5K0807571J</td>\n",
              "      <td>6</td>\n",
              "      <td>GUIA 10</td>\n",
              "      <td>1.0</td>\n",
              "      <td>31.75</td>\n",
              "      <td>10.0</td>\n",
              "      <td>28.58</td>\n",
              "      <td>25.68</td>\n",
              "      <td>2.90</td>\n",
              "      <td>0.0</td>\n",
              "      <td>0.0</td>\n",
              "      <td>AL7</td>\n",
              "      <td>27/01/15</td>\n",
              "      <td>5V</td>\n",
              "      <td>85.0</td>\n",
              "      <td>45.40</td>\n",
              "      <td>45.4</td>\n",
              "      <td>1.0</td>\n",
              "      <td>MANUEL ESCUDERO GARCIA</td>\n",
              "      <td>7V</td>\n",
              "      <td>AL7</td>\n",
              "      <td>WVWZZZ1KZ9W487026</td>\n",
              "    </tr>\n",
              "    <tr>\n",
              "      <th>3</th>\n",
              "      <td>3</td>\n",
              "      <td>3</td>\n",
              "      <td>1</td>\n",
              "      <td>98253</td>\n",
              "      <td>6522204.0</td>\n",
              "      <td>27/01/15</td>\n",
              "      <td>11/5K0919491B</td>\n",
              "      <td>8</td>\n",
              "      <td>HALTER 10</td>\n",
              "      <td>2.0</td>\n",
              "      <td>13.60</td>\n",
              "      <td>10.0</td>\n",
              "      <td>12.24</td>\n",
              "      <td>12.66</td>\n",
              "      <td>-0.42</td>\n",
              "      <td>0.0</td>\n",
              "      <td>0.0</td>\n",
              "      <td>ANW</td>\n",
              "      <td>27/01/15</td>\n",
              "      <td>5V</td>\n",
              "      <td>85.0</td>\n",
              "      <td>11.15</td>\n",
              "      <td>22.3</td>\n",
              "      <td>1.0</td>\n",
              "      <td>MANUEL ESCUDERO GARCIA</td>\n",
              "      <td>7V</td>\n",
              "      <td>ANW</td>\n",
              "      <td>WVWZZZ1KZ9W487026</td>\n",
              "    </tr>\n",
              "    <tr>\n",
              "      <th>4</th>\n",
              "      <td>4</td>\n",
              "      <td>4</td>\n",
              "      <td>1</td>\n",
              "      <td>98253</td>\n",
              "      <td>6522204.0</td>\n",
              "      <td>27/01/15</td>\n",
              "      <td>11/5K0919493G</td>\n",
              "      <td>8</td>\n",
              "      <td>HALTER 10</td>\n",
              "      <td>2.0</td>\n",
              "      <td>13.60</td>\n",
              "      <td>10.0</td>\n",
              "      <td>12.24</td>\n",
              "      <td>12.54</td>\n",
              "      <td>-0.30</td>\n",
              "      <td>0.0</td>\n",
              "      <td>0.0</td>\n",
              "      <td>ANW</td>\n",
              "      <td>27/01/15</td>\n",
              "      <td>5V</td>\n",
              "      <td>85.0</td>\n",
              "      <td>11.15</td>\n",
              "      <td>22.3</td>\n",
              "      <td>1.0</td>\n",
              "      <td>MANUEL ESCUDERO GARCIA</td>\n",
              "      <td>7V</td>\n",
              "      <td>ANW</td>\n",
              "      <td>WVWZZZ1KZ9W487026</td>\n",
              "    </tr>\n",
              "  </tbody>\n",
              "</table>\n",
              "</div>\n",
              "      <button class=\"colab-df-convert\" onclick=\"convertToInteractive('df-65131076-8e26-4e3d-8759-9f0f14fc817c')\"\n",
              "              title=\"Convert this dataframe to an interactive table.\"\n",
              "              style=\"display:none;\">\n",
              "        \n",
              "  <svg xmlns=\"http://www.w3.org/2000/svg\" height=\"24px\"viewBox=\"0 0 24 24\"\n",
              "       width=\"24px\">\n",
              "    <path d=\"M0 0h24v24H0V0z\" fill=\"none\"/>\n",
              "    <path d=\"M18.56 5.44l.94 2.06.94-2.06 2.06-.94-2.06-.94-.94-2.06-.94 2.06-2.06.94zm-11 1L8.5 8.5l.94-2.06 2.06-.94-2.06-.94L8.5 2.5l-.94 2.06-2.06.94zm10 10l.94 2.06.94-2.06 2.06-.94-2.06-.94-.94-2.06-.94 2.06-2.06.94z\"/><path d=\"M17.41 7.96l-1.37-1.37c-.4-.4-.92-.59-1.43-.59-.52 0-1.04.2-1.43.59L10.3 9.45l-7.72 7.72c-.78.78-.78 2.05 0 2.83L4 21.41c.39.39.9.59 1.41.59.51 0 1.02-.2 1.41-.59l7.78-7.78 2.81-2.81c.8-.78.8-2.07 0-2.86zM5.41 20L4 18.59l7.72-7.72 1.47 1.35L5.41 20z\"/>\n",
              "  </svg>\n",
              "      </button>\n",
              "      \n",
              "  <style>\n",
              "    .colab-df-container {\n",
              "      display:flex;\n",
              "      flex-wrap:wrap;\n",
              "      gap: 12px;\n",
              "    }\n",
              "\n",
              "    .colab-df-convert {\n",
              "      background-color: #E8F0FE;\n",
              "      border: none;\n",
              "      border-radius: 50%;\n",
              "      cursor: pointer;\n",
              "      display: none;\n",
              "      fill: #1967D2;\n",
              "      height: 32px;\n",
              "      padding: 0 0 0 0;\n",
              "      width: 32px;\n",
              "    }\n",
              "\n",
              "    .colab-df-convert:hover {\n",
              "      background-color: #E2EBFA;\n",
              "      box-shadow: 0px 1px 2px rgba(60, 64, 67, 0.3), 0px 1px 3px 1px rgba(60, 64, 67, 0.15);\n",
              "      fill: #174EA6;\n",
              "    }\n",
              "\n",
              "    [theme=dark] .colab-df-convert {\n",
              "      background-color: #3B4455;\n",
              "      fill: #D2E3FC;\n",
              "    }\n",
              "\n",
              "    [theme=dark] .colab-df-convert:hover {\n",
              "      background-color: #434B5C;\n",
              "      box-shadow: 0px 1px 3px 1px rgba(0, 0, 0, 0.15);\n",
              "      filter: drop-shadow(0px 1px 2px rgba(0, 0, 0, 0.3));\n",
              "      fill: #FFFFFF;\n",
              "    }\n",
              "  </style>\n",
              "\n",
              "      <script>\n",
              "        const buttonEl =\n",
              "          document.querySelector('#df-65131076-8e26-4e3d-8759-9f0f14fc817c button.colab-df-convert');\n",
              "        buttonEl.style.display =\n",
              "          google.colab.kernel.accessAllowed ? 'block' : 'none';\n",
              "\n",
              "        async function convertToInteractive(key) {\n",
              "          const element = document.querySelector('#df-65131076-8e26-4e3d-8759-9f0f14fc817c');\n",
              "          const dataTable =\n",
              "            await google.colab.kernel.invokeFunction('convertToInteractive',\n",
              "                                                     [key], {});\n",
              "          if (!dataTable) return;\n",
              "\n",
              "          const docLinkHtml = 'Like what you see? Visit the ' +\n",
              "            '<a target=\"_blank\" href=https://colab.research.google.com/notebooks/data_table.ipynb>data table notebook</a>'\n",
              "            + ' to learn more about interactive tables.';\n",
              "          element.innerHTML = '';\n",
              "          dataTable['output_type'] = 'display_data';\n",
              "          await google.colab.output.renderOutput(dataTable, element);\n",
              "          const docLink = document.createElement('div');\n",
              "          docLink.innerHTML = docLinkHtml;\n",
              "          element.appendChild(docLink);\n",
              "        }\n",
              "      </script>\n",
              "    </div>\n",
              "  </div>\n",
              "  "
            ]
          },
          "metadata": {},
          "execution_count": 4
        }
      ]
    },
    {
      "cell_type": "code",
      "source": [
        "df.columns"
      ],
      "metadata": {
        "colab": {
          "base_uri": "https://localhost:8080/"
        },
        "id": "-rH3L0yoPyXn",
        "outputId": "6011a897-1abd-496c-e2cc-93f175c85646"
      },
      "execution_count": null,
      "outputs": [
        {
          "output_type": "execute_result",
          "data": {
            "text/plain": [
              "Index(['Unnamed: 0', 'Unnamed: 0.1', 'Alma', 'Cuenta', 'Refer.', 'Fec.sali',\n",
              "       'ArtÃ­culo', 'Clav', 'Denominacion', 'Canti', 'P.V.P.', 'Dto.', 'Neto',\n",
              "       'Costo', 'Beneficio', '% Com', 'Comision', 'Fam.a', 'F.cierre', 'Tipo',\n",
              "       'Recep', 'P.V.P..1', 'TOTAL PVP', 'Opera', 'Nombre', 'Tipo.1', 'Famil',\n",
              "       'Bastidor'],\n",
              "      dtype='object')"
            ]
          },
          "metadata": {},
          "execution_count": 5
        }
      ]
    },
    {
      "cell_type": "code",
      "source": [
        "df = df.rename(columns={\"Refer.\":\"Refer\", \"Fec.sali\": \"Fech_Salida\", \"ArtÃ­culo\":\"Articulo\", \"P.V.P.\": \"PVP\", \"Dto.\":\"Dto\", \"% Com\":\"COM\", \"Fam.a\":\"Famil_apr\", \"F.cierre\":\"Fech_cierre\",\n",
        "                        \"P.V.P..1\": \"PVP1\", \"TOTAL PVP\":\"TOTAL_PVP\",\"Tipo.1\": \"Tipo_venta\" })"
      ],
      "metadata": {
        "id": "SIJ8oYfSQCvo"
      },
      "execution_count": null,
      "outputs": []
    },
    {
      "cell_type": "code",
      "source": [
        "df.tail()"
      ],
      "metadata": {
        "colab": {
          "base_uri": "https://localhost:8080/",
          "height": 513
        },
        "id": "N7KrL46wSBx_",
        "outputId": "9272f6f0-7621-4ec7-b867-cd2f5ff9dc9b"
      },
      "execution_count": null,
      "outputs": [
        {
          "output_type": "execute_result",
          "data": {
            "text/plain": [
              "         Unnamed: 0  Unnamed: 0.1 Alma  ... Tipo_venta Famil           Bastidor\n",
              "1521887       96403         15376    9  ...         5V    MP  WVWZZZAUZLW905090\n",
              "1521888       96404         15377    9  ...         7V   ALS  WVWZZZAWZLY054759\n",
              "1521889       96405         15378    9  ...         7V   ANW  WVWZZZAWZLY054759\n",
              "1521890       96406         15379    9  ...         7V    VA  WVWZZZAWZLY054759\n",
              "1521891       96407         15380    9  ...         5V    MP  WVWZZZCDZMW303010\n",
              "\n",
              "[5 rows x 28 columns]"
            ],
            "text/html": [
              "\n",
              "  <div id=\"df-888a8e55-9f9f-484b-bb63-211ed027d2f3\">\n",
              "    <div class=\"colab-df-container\">\n",
              "      <div>\n",
              "<style scoped>\n",
              "    .dataframe tbody tr th:only-of-type {\n",
              "        vertical-align: middle;\n",
              "    }\n",
              "\n",
              "    .dataframe tbody tr th {\n",
              "        vertical-align: top;\n",
              "    }\n",
              "\n",
              "    .dataframe thead th {\n",
              "        text-align: right;\n",
              "    }\n",
              "</style>\n",
              "<table border=\"1\" class=\"dataframe\">\n",
              "  <thead>\n",
              "    <tr style=\"text-align: right;\">\n",
              "      <th></th>\n",
              "      <th>Unnamed: 0</th>\n",
              "      <th>Unnamed: 0.1</th>\n",
              "      <th>Alma</th>\n",
              "      <th>Cuenta</th>\n",
              "      <th>Refer</th>\n",
              "      <th>Fech_Salida</th>\n",
              "      <th>Articulo</th>\n",
              "      <th>Clav</th>\n",
              "      <th>Denominacion</th>\n",
              "      <th>Canti</th>\n",
              "      <th>PVP</th>\n",
              "      <th>Dto</th>\n",
              "      <th>Neto</th>\n",
              "      <th>Costo</th>\n",
              "      <th>Beneficio</th>\n",
              "      <th>COM</th>\n",
              "      <th>Comision</th>\n",
              "      <th>Famil_apr</th>\n",
              "      <th>Fech_cierre</th>\n",
              "      <th>Tipo</th>\n",
              "      <th>Recep</th>\n",
              "      <th>PVP1</th>\n",
              "      <th>TOTAL_PVP</th>\n",
              "      <th>Opera</th>\n",
              "      <th>Nombre</th>\n",
              "      <th>Tipo_venta</th>\n",
              "      <th>Famil</th>\n",
              "      <th>Bastidor</th>\n",
              "    </tr>\n",
              "  </thead>\n",
              "  <tbody>\n",
              "    <tr>\n",
              "      <th>1521887</th>\n",
              "      <td>96403</td>\n",
              "      <td>15376</td>\n",
              "      <td>9</td>\n",
              "      <td>610431</td>\n",
              "      <td>13828461.0</td>\n",
              "      <td>27/06/22</td>\n",
              "      <td>99/MPC</td>\n",
              "      <td>0</td>\n",
              "      <td>MATERIAL DE PINTURA</td>\n",
              "      <td>9000.0</td>\n",
              "      <td>90.00</td>\n",
              "      <td>NaN</td>\n",
              "      <td>90.00</td>\n",
              "      <td>90.00</td>\n",
              "      <td>0.00</td>\n",
              "      <td>0.0</td>\n",
              "      <td>0.0</td>\n",
              "      <td>0.0</td>\n",
              "      <td>2022-06-27</td>\n",
              "      <td>9A</td>\n",
              "      <td>796.0</td>\n",
              "      <td>0.01</td>\n",
              "      <td>90.00</td>\n",
              "      <td>151.0</td>\n",
              "      <td>JOSE DAVID NUÃEZ</td>\n",
              "      <td>5V</td>\n",
              "      <td>MP</td>\n",
              "      <td>WVWZZZAUZLW905090</td>\n",
              "    </tr>\n",
              "    <tr>\n",
              "      <th>1521888</th>\n",
              "      <td>96404</td>\n",
              "      <td>15377</td>\n",
              "      <td>9</td>\n",
              "      <td>104596</td>\n",
              "      <td>13830592.0</td>\n",
              "      <td>27/06/22</td>\n",
              "      <td>11/2G0845011T NVB</td>\n",
              "      <td>2</td>\n",
              "      <td>PARABRISAS Y10</td>\n",
              "      <td>1.0</td>\n",
              "      <td>294.00</td>\n",
              "      <td>10.0</td>\n",
              "      <td>264.60</td>\n",
              "      <td>141.12</td>\n",
              "      <td>123.48</td>\n",
              "      <td>0.0</td>\n",
              "      <td>0.0</td>\n",
              "      <td>0.0</td>\n",
              "      <td>2022-06-28</td>\n",
              "      <td>5V</td>\n",
              "      <td>679.0</td>\n",
              "      <td>294.00</td>\n",
              "      <td>294.00</td>\n",
              "      <td>70.0</td>\n",
              "      <td>JOSE CARLOS GALLARDO CARR</td>\n",
              "      <td>7V</td>\n",
              "      <td>ALS</td>\n",
              "      <td>WVWZZZAWZLY054759</td>\n",
              "    </tr>\n",
              "    <tr>\n",
              "      <th>1521889</th>\n",
              "      <td>96405</td>\n",
              "      <td>15378</td>\n",
              "      <td>9</td>\n",
              "      <td>104596</td>\n",
              "      <td>13830592.0</td>\n",
              "      <td>27/06/22</td>\n",
              "      <td>11/7N0955609</td>\n",
              "      <td>8</td>\n",
              "      <td>LAMINA GEL Y10</td>\n",
              "      <td>1.0</td>\n",
              "      <td>36.85</td>\n",
              "      <td>10.0</td>\n",
              "      <td>33.17</td>\n",
              "      <td>30.78</td>\n",
              "      <td>2.39</td>\n",
              "      <td>0.0</td>\n",
              "      <td>0.0</td>\n",
              "      <td>0.0</td>\n",
              "      <td>2022-06-28</td>\n",
              "      <td>5V</td>\n",
              "      <td>679.0</td>\n",
              "      <td>36.85</td>\n",
              "      <td>36.85</td>\n",
              "      <td>70.0</td>\n",
              "      <td>JOSE CARLOS GALLARDO CARR</td>\n",
              "      <td>7V</td>\n",
              "      <td>ANW</td>\n",
              "      <td>WVWZZZAWZLY054759</td>\n",
              "    </tr>\n",
              "    <tr>\n",
              "      <th>1521890</th>\n",
              "      <td>96406</td>\n",
              "      <td>15379</td>\n",
              "      <td>9</td>\n",
              "      <td>104596</td>\n",
              "      <td>13830592.0</td>\n",
              "      <td>27/06/22</td>\n",
              "      <td>99/D004660M</td>\n",
              "      <td>60</td>\n",
              "      <td>KIT LUNAS</td>\n",
              "      <td>1.0</td>\n",
              "      <td>54.17</td>\n",
              "      <td>10.0</td>\n",
              "      <td>48.75</td>\n",
              "      <td>14.27</td>\n",
              "      <td>34.48</td>\n",
              "      <td>0.0</td>\n",
              "      <td>0.0</td>\n",
              "      <td>0.0</td>\n",
              "      <td>2022-06-28</td>\n",
              "      <td>5V</td>\n",
              "      <td>679.0</td>\n",
              "      <td>54.17</td>\n",
              "      <td>54.17</td>\n",
              "      <td>70.0</td>\n",
              "      <td>JOSE CARLOS GALLARDO CARR</td>\n",
              "      <td>7V</td>\n",
              "      <td>VA</td>\n",
              "      <td>WVWZZZAWZLY054759</td>\n",
              "    </tr>\n",
              "    <tr>\n",
              "      <th>1521891</th>\n",
              "      <td>96407</td>\n",
              "      <td>15380</td>\n",
              "      <td>9</td>\n",
              "      <td>610624</td>\n",
              "      <td>13831741.0</td>\n",
              "      <td>29/06/22</td>\n",
              "      <td>99/MPC</td>\n",
              "      <td>0</td>\n",
              "      <td>MATERIAL DE PINTURA</td>\n",
              "      <td>1200.0</td>\n",
              "      <td>12.00</td>\n",
              "      <td>NaN</td>\n",
              "      <td>12.00</td>\n",
              "      <td>12.00</td>\n",
              "      <td>0.00</td>\n",
              "      <td>0.0</td>\n",
              "      <td>0.0</td>\n",
              "      <td>0.0</td>\n",
              "      <td>2022-06-29</td>\n",
              "      <td>9A</td>\n",
              "      <td>796.0</td>\n",
              "      <td>0.01</td>\n",
              "      <td>12.00</td>\n",
              "      <td>151.0</td>\n",
              "      <td>JOSE DAVID NUÃEZ</td>\n",
              "      <td>5V</td>\n",
              "      <td>MP</td>\n",
              "      <td>WVWZZZCDZMW303010</td>\n",
              "    </tr>\n",
              "  </tbody>\n",
              "</table>\n",
              "</div>\n",
              "      <button class=\"colab-df-convert\" onclick=\"convertToInteractive('df-888a8e55-9f9f-484b-bb63-211ed027d2f3')\"\n",
              "              title=\"Convert this dataframe to an interactive table.\"\n",
              "              style=\"display:none;\">\n",
              "        \n",
              "  <svg xmlns=\"http://www.w3.org/2000/svg\" height=\"24px\"viewBox=\"0 0 24 24\"\n",
              "       width=\"24px\">\n",
              "    <path d=\"M0 0h24v24H0V0z\" fill=\"none\"/>\n",
              "    <path d=\"M18.56 5.44l.94 2.06.94-2.06 2.06-.94-2.06-.94-.94-2.06-.94 2.06-2.06.94zm-11 1L8.5 8.5l.94-2.06 2.06-.94-2.06-.94L8.5 2.5l-.94 2.06-2.06.94zm10 10l.94 2.06.94-2.06 2.06-.94-2.06-.94-.94-2.06-.94 2.06-2.06.94z\"/><path d=\"M17.41 7.96l-1.37-1.37c-.4-.4-.92-.59-1.43-.59-.52 0-1.04.2-1.43.59L10.3 9.45l-7.72 7.72c-.78.78-.78 2.05 0 2.83L4 21.41c.39.39.9.59 1.41.59.51 0 1.02-.2 1.41-.59l7.78-7.78 2.81-2.81c.8-.78.8-2.07 0-2.86zM5.41 20L4 18.59l7.72-7.72 1.47 1.35L5.41 20z\"/>\n",
              "  </svg>\n",
              "      </button>\n",
              "      \n",
              "  <style>\n",
              "    .colab-df-container {\n",
              "      display:flex;\n",
              "      flex-wrap:wrap;\n",
              "      gap: 12px;\n",
              "    }\n",
              "\n",
              "    .colab-df-convert {\n",
              "      background-color: #E8F0FE;\n",
              "      border: none;\n",
              "      border-radius: 50%;\n",
              "      cursor: pointer;\n",
              "      display: none;\n",
              "      fill: #1967D2;\n",
              "      height: 32px;\n",
              "      padding: 0 0 0 0;\n",
              "      width: 32px;\n",
              "    }\n",
              "\n",
              "    .colab-df-convert:hover {\n",
              "      background-color: #E2EBFA;\n",
              "      box-shadow: 0px 1px 2px rgba(60, 64, 67, 0.3), 0px 1px 3px 1px rgba(60, 64, 67, 0.15);\n",
              "      fill: #174EA6;\n",
              "    }\n",
              "\n",
              "    [theme=dark] .colab-df-convert {\n",
              "      background-color: #3B4455;\n",
              "      fill: #D2E3FC;\n",
              "    }\n",
              "\n",
              "    [theme=dark] .colab-df-convert:hover {\n",
              "      background-color: #434B5C;\n",
              "      box-shadow: 0px 1px 3px 1px rgba(0, 0, 0, 0.15);\n",
              "      filter: drop-shadow(0px 1px 2px rgba(0, 0, 0, 0.3));\n",
              "      fill: #FFFFFF;\n",
              "    }\n",
              "  </style>\n",
              "\n",
              "      <script>\n",
              "        const buttonEl =\n",
              "          document.querySelector('#df-888a8e55-9f9f-484b-bb63-211ed027d2f3 button.colab-df-convert');\n",
              "        buttonEl.style.display =\n",
              "          google.colab.kernel.accessAllowed ? 'block' : 'none';\n",
              "\n",
              "        async function convertToInteractive(key) {\n",
              "          const element = document.querySelector('#df-888a8e55-9f9f-484b-bb63-211ed027d2f3');\n",
              "          const dataTable =\n",
              "            await google.colab.kernel.invokeFunction('convertToInteractive',\n",
              "                                                     [key], {});\n",
              "          if (!dataTable) return;\n",
              "\n",
              "          const docLinkHtml = 'Like what you see? Visit the ' +\n",
              "            '<a target=\"_blank\" href=https://colab.research.google.com/notebooks/data_table.ipynb>data table notebook</a>'\n",
              "            + ' to learn more about interactive tables.';\n",
              "          element.innerHTML = '';\n",
              "          dataTable['output_type'] = 'display_data';\n",
              "          await google.colab.output.renderOutput(dataTable, element);\n",
              "          const docLink = document.createElement('div');\n",
              "          docLink.innerHTML = docLinkHtml;\n",
              "          element.appendChild(docLink);\n",
              "        }\n",
              "      </script>\n",
              "    </div>\n",
              "  </div>\n",
              "  "
            ]
          },
          "metadata": {},
          "execution_count": 42
        }
      ]
    },
    {
      "cell_type": "code",
      "source": [
        "df.isnull().sum()"
      ],
      "metadata": {
        "colab": {
          "base_uri": "https://localhost:8080/"
        },
        "id": "kcfazesvW-Pg",
        "outputId": "38f8829c-9749-4b9c-ca2b-98c5a2d9f6ce"
      },
      "execution_count": null,
      "outputs": [
        {
          "output_type": "execute_result",
          "data": {
            "text/plain": [
              "Unnamed: 0           0\n",
              "Unnamed: 0.1         0\n",
              "Alma             33879\n",
              "Cuenta           36673\n",
              "Refer            36673\n",
              "Fech_Salida      36681\n",
              "Articulo         36673\n",
              "Clav            148627\n",
              "Denominacion     36674\n",
              "Canti            36674\n",
              "PVP              33872\n",
              "Dto             569407\n",
              "Neto             33872\n",
              "Costo            33879\n",
              "Beneficio        33871\n",
              "COM              36673\n",
              "Comision         33879\n",
              "Famil_apr       147425\n",
              "Fech_cierre      36673\n",
              "Tipo             36673\n",
              "Recep            36673\n",
              "PVP1             36673\n",
              "TOTAL_PVP        36673\n",
              "Opera            37021\n",
              "Nombre           37025\n",
              "Tipo_venta       36673\n",
              "Famil            36687\n",
              "Bastidor         36810\n",
              "dtype: int64"
            ]
          },
          "metadata": {},
          "execution_count": 8
        }
      ]
    },
    {
      "cell_type": "code",
      "source": [
        "df = df[~df.Cuenta.isnull()]"
      ],
      "metadata": {
        "id": "WQAYoqxvXtEV"
      },
      "execution_count": null,
      "outputs": []
    },
    {
      "cell_type": "code",
      "source": [
        "df.isnull().sum()"
      ],
      "metadata": {
        "colab": {
          "base_uri": "https://localhost:8080/"
        },
        "id": "y5n83htbX5wH",
        "outputId": "998d79a5-166a-487a-d1fe-33e1014f6f85"
      },
      "execution_count": null,
      "outputs": [
        {
          "output_type": "execute_result",
          "data": {
            "text/plain": [
              "Unnamed: 0           0\n",
              "Unnamed: 0.1         0\n",
              "Alma                 0\n",
              "Cuenta               0\n",
              "Refer                0\n",
              "Fech_Salida          8\n",
              "Articulo             0\n",
              "Clav            111954\n",
              "Denominacion         1\n",
              "Canti              206\n",
              "PVP                  0\n",
              "Dto             558282\n",
              "Neto                 0\n",
              "Costo                0\n",
              "Beneficio            0\n",
              "COM                  0\n",
              "Comision             0\n",
              "Famil_apr       110752\n",
              "Fech_cierre          0\n",
              "Tipo                 0\n",
              "Recep                0\n",
              "PVP1                 0\n",
              "TOTAL_PVP            0\n",
              "Opera              348\n",
              "Nombre             352\n",
              "Tipo_venta           0\n",
              "Famil               14\n",
              "Bastidor           137\n",
              "dtype: int64"
            ]
          },
          "metadata": {},
          "execution_count": 10
        }
      ]
    },
    {
      "cell_type": "code",
      "source": [
        "df.columns"
      ],
      "metadata": {
        "colab": {
          "base_uri": "https://localhost:8080/"
        },
        "id": "3mE_50AlS73L",
        "outputId": "d94db8fd-fe31-48c9-cf51-a54e3d54666f"
      },
      "execution_count": null,
      "outputs": [
        {
          "output_type": "execute_result",
          "data": {
            "text/plain": [
              "Index(['Unnamed: 0', 'Unnamed: 0.1', 'Alma', 'Cuenta', 'Refer', 'Fech_Salida',\n",
              "       'Articulo', 'Clav', 'Denominacion', 'Canti', 'PVP', 'Dto', 'Neto',\n",
              "       'Costo', 'Beneficio', 'COM', 'Comision', 'Famil_apr', 'Fech_cierre',\n",
              "       'Tipo', 'Recep', 'PVP1', 'TOTAL_PVP', 'Opera', 'Nombre', 'Tipo_venta',\n",
              "       'Famil', 'Bastidor'],\n",
              "      dtype='object')"
            ]
          },
          "metadata": {},
          "execution_count": 11
        }
      ]
    },
    {
      "cell_type": "code",
      "source": [
        "# lo primero que voy a hacer es cambiar de tipo de datos. \n",
        "df[\"Alma\"] = df[\"Alma\"].apply(str)\n",
        "df[\"Cuenta\"] = df[\"Cuenta\"].apply(str)\n",
        "df[\"Refer\"] = df[\"Refer\"].apply(str)\n",
        "df[\"Fech_cierre\"] = pd.to_datetime(df[\"Fech_cierre\"])\n",
        "df[\"Articulo\"] = df[\"Articulo\"].apply(str)\n",
        "df[\"Clav\"] = df[\"Clav\"].apply(str)\n",
        "df[\"Denominacion\"] = df[\"Denominacion\"].apply(str)\n",
        "df[\"Canti\"] = df[\"Canti\"].apply(float)\n",
        "df[\"PVP\"] = df[\"PVP\"].apply(float)\n",
        "df[\"Dto\"] = df[\"Dto\"].apply(float)\n",
        "df[\"Neto\"] = df[\"Neto\"].apply(float)\n",
        "df[\"Costo\"] = df[\"Costo\"].apply(float)\n",
        "df[\"Beneficio\"] = df[\"Beneficio\"].apply(float)\n",
        "df[\"COM\"] = df[\"COM\"].apply(float)\n",
        "df[\"Comision\"] = df[\"Comision\"].apply(float)\n",
        "df[\"Famil_apr\"] = df[\"COM\"].apply(str)\n",
        "df[\"Tipo\"] = df[\"Tipo\"].apply(str)\n",
        "df[\"Recep\"] = df[\"Recep\"].apply(str)\n",
        "df[\"PVP1\"] = df[\"PVP1\"].apply(float)\n",
        "df[\"TOTAL_PVP\"] = df[\"TOTAL_PVP\"].apply(float)\n",
        "df[\"Opera\"] = df[\"Opera\"].apply(str)\n",
        "df[\"Nombre\"] = df[\"Nombre\"].apply(str)\n",
        "df[\"Tipo_venta\"] = df[\"Tipo_venta\"].apply(str)\n",
        "df[\"Famil\"] = df[\"Famil\"].apply(str)\n",
        "df[\"Bastidor\"] = df[\"Bastidor\"].apply(str)"
      ],
      "metadata": {
        "id": "2KOW2VloTDRq"
      },
      "execution_count": null,
      "outputs": []
    },
    {
      "cell_type": "code",
      "source": [
        "df.Fech_cierre.value_counts()"
      ],
      "metadata": {
        "colab": {
          "base_uri": "https://localhost:8080/"
        },
        "id": "FAFn6RDznYmi",
        "outputId": "ff66005b-2620-4c64-acc3-bf3255232204"
      },
      "execution_count": null,
      "outputs": [
        {
          "output_type": "execute_result",
          "data": {
            "text/plain": [
              "2016-07-29    5440\n",
              "2018-02-28    5074\n",
              "2016-05-31    4422\n",
              "2016-09-30    4143\n",
              "2018-05-31    3788\n",
              "              ... \n",
              "2020-08-03       1\n",
              "2018-09-09       1\n",
              "2018-07-07       1\n",
              "2019-02-02       1\n",
              "2017-03-06       1\n",
              "Name: Fech_cierre, Length: 1911, dtype: int64"
            ]
          },
          "metadata": {},
          "execution_count": 44
        }
      ]
    },
    {
      "cell_type": "code",
      "source": [
        "print(\"la fecha va desde {} a {}\".format(df.Fech_cierre.min(), df.Fech_cierre.max()))"
      ],
      "metadata": {
        "colab": {
          "base_uri": "https://localhost:8080/"
        },
        "id": "fIT-_vwig3Ip",
        "outputId": "69549d65-93c5-4265-b954-d1b12141fcec"
      },
      "execution_count": null,
      "outputs": [
        {
          "output_type": "stream",
          "name": "stdout",
          "text": [
            "la fecha va desde 2015-01-04 00:00:00 a 2022-12-05 00:00:00\n"
          ]
        }
      ]
    },
    {
      "cell_type": "code",
      "source": [
        ""
      ],
      "metadata": {
        "id": "5WyhVaZriqeD"
      },
      "execution_count": null,
      "outputs": []
    },
    {
      "cell_type": "code",
      "source": [
        "df.info()"
      ],
      "metadata": {
        "colab": {
          "base_uri": "https://localhost:8080/"
        },
        "id": "OpHbJkM6VDGi",
        "outputId": "19c39666-a344-4b69-dd93-ee97d9030e9e"
      },
      "execution_count": null,
      "outputs": [
        {
          "output_type": "stream",
          "name": "stdout",
          "text": [
            "<class 'pandas.core.frame.DataFrame'>\n",
            "Int64Index: 1485224 entries, 0 to 1521891\n",
            "Data columns (total 28 columns):\n",
            " #   Column        Non-Null Count    Dtype         \n",
            "---  ------        --------------    -----         \n",
            " 0   Unnamed: 0    1485224 non-null  int64         \n",
            " 1   Unnamed: 0.1  1485224 non-null  int64         \n",
            " 2   Alma          1485224 non-null  object        \n",
            " 3   Cuenta        1485224 non-null  object        \n",
            " 4   Refer         1485224 non-null  object        \n",
            " 5   Fech_Salida   1485216 non-null  object        \n",
            " 6   Articulo      1485224 non-null  object        \n",
            " 7   Clav          1485224 non-null  object        \n",
            " 8   Denominacion  1485224 non-null  object        \n",
            " 9   Canti         1485018 non-null  float64       \n",
            " 10  PVP           1485224 non-null  float64       \n",
            " 11  Dto           926942 non-null   float64       \n",
            " 12  Neto          1485224 non-null  float64       \n",
            " 13  Costo         1485224 non-null  float64       \n",
            " 14  Beneficio     1485224 non-null  float64       \n",
            " 15  COM           1485224 non-null  float64       \n",
            " 16  Comision      1485224 non-null  float64       \n",
            " 17  Famil_apr     1485224 non-null  object        \n",
            " 18  Fech_cierre   1485224 non-null  datetime64[ns]\n",
            " 19  Tipo          1485224 non-null  object        \n",
            " 20  Recep         1485224 non-null  object        \n",
            " 21  PVP1          1485224 non-null  float64       \n",
            " 22  TOTAL_PVP     1485224 non-null  float64       \n",
            " 23  Opera         1485224 non-null  object        \n",
            " 24  Nombre        1485224 non-null  object        \n",
            " 25  Tipo_venta    1485224 non-null  object        \n",
            " 26  Famil         1485224 non-null  object        \n",
            " 27  Bastidor      1485224 non-null  object        \n",
            "dtypes: datetime64[ns](1), float64(10), int64(2), object(15)\n",
            "memory usage: 328.6+ MB\n"
          ]
        }
      ]
    },
    {
      "cell_type": "code",
      "source": [
        "df.columns"
      ],
      "metadata": {
        "colab": {
          "base_uri": "https://localhost:8080/"
        },
        "id": "ca8bC0arVEcz",
        "outputId": "113b0075-9ebf-4fd3-ac40-d525b5c22ed7"
      },
      "execution_count": null,
      "outputs": [
        {
          "output_type": "execute_result",
          "data": {
            "text/plain": [
              "Index(['Unnamed: 0', 'Unnamed: 0.1', 'Alma', 'Cuenta', 'Refer', 'Fech_Salida',\n",
              "       'Articulo', 'Clav', 'Denominacion', 'Canti', 'PVP', 'Dto', 'Neto',\n",
              "       'Costo', 'Beneficio', 'COM', 'Comision', 'Famil_apr', 'Fech_cierre',\n",
              "       'Tipo', 'Recep', 'PVP1', 'TOTAL_PVP', 'Opera', 'Nombre', 'Tipo_venta',\n",
              "       'Famil', 'Bastidor'],\n",
              "      dtype='object')"
            ]
          },
          "metadata": {},
          "execution_count": 18
        }
      ]
    },
    {
      "cell_type": "code",
      "source": [
        "df.head(2)"
      ],
      "metadata": {
        "colab": {
          "base_uri": "https://localhost:8080/",
          "height": 263
        },
        "id": "mF8gk1s3azpu",
        "outputId": "ff5c1b8f-9314-4882-b34f-1ae668081eb6"
      },
      "execution_count": null,
      "outputs": [
        {
          "output_type": "execute_result",
          "data": {
            "text/plain": [
              "   Unnamed: 0  Unnamed: 0.1 Alma  ... Tipo_venta Famil           Bastidor\n",
              "0           0             0    1  ...         7V   AL8  WVWZZZ1KZ9W487026\n",
              "1           1             1    1  ...         7V   ALH  WVWZZZ1KZ9W487026\n",
              "\n",
              "[2 rows x 28 columns]"
            ],
            "text/html": [
              "\n",
              "  <div id=\"df-9ac2fc3c-e193-4259-be66-9ae4de370f0e\">\n",
              "    <div class=\"colab-df-container\">\n",
              "      <div>\n",
              "<style scoped>\n",
              "    .dataframe tbody tr th:only-of-type {\n",
              "        vertical-align: middle;\n",
              "    }\n",
              "\n",
              "    .dataframe tbody tr th {\n",
              "        vertical-align: top;\n",
              "    }\n",
              "\n",
              "    .dataframe thead th {\n",
              "        text-align: right;\n",
              "    }\n",
              "</style>\n",
              "<table border=\"1\" class=\"dataframe\">\n",
              "  <thead>\n",
              "    <tr style=\"text-align: right;\">\n",
              "      <th></th>\n",
              "      <th>Unnamed: 0</th>\n",
              "      <th>Unnamed: 0.1</th>\n",
              "      <th>Alma</th>\n",
              "      <th>Cuenta</th>\n",
              "      <th>Refer</th>\n",
              "      <th>Fech_Salida</th>\n",
              "      <th>Articulo</th>\n",
              "      <th>Clav</th>\n",
              "      <th>Denominacion</th>\n",
              "      <th>Canti</th>\n",
              "      <th>PVP</th>\n",
              "      <th>Dto</th>\n",
              "      <th>Neto</th>\n",
              "      <th>Costo</th>\n",
              "      <th>Beneficio</th>\n",
              "      <th>COM</th>\n",
              "      <th>Comision</th>\n",
              "      <th>Famil_apr</th>\n",
              "      <th>Fech_cierre</th>\n",
              "      <th>Tipo</th>\n",
              "      <th>Recep</th>\n",
              "      <th>PVP1</th>\n",
              "      <th>TOTAL_PVP</th>\n",
              "      <th>Opera</th>\n",
              "      <th>Nombre</th>\n",
              "      <th>Tipo_venta</th>\n",
              "      <th>Famil</th>\n",
              "      <th>Bastidor</th>\n",
              "    </tr>\n",
              "  </thead>\n",
              "  <tbody>\n",
              "    <tr>\n",
              "      <th>0</th>\n",
              "      <td>0</td>\n",
              "      <td>0</td>\n",
              "      <td>1</td>\n",
              "      <td>98253</td>\n",
              "      <td>6522204.0</td>\n",
              "      <td>27/01/15</td>\n",
              "      <td>11/5K0807109M</td>\n",
              "      <td>6</td>\n",
              "      <td>REFUERZO 10</td>\n",
              "      <td>1.0</td>\n",
              "      <td>173.93</td>\n",
              "      <td>10.0</td>\n",
              "      <td>156.54</td>\n",
              "      <td>140.44</td>\n",
              "      <td>16.1</td>\n",
              "      <td>0.0</td>\n",
              "      <td>0.0</td>\n",
              "      <td>0.0</td>\n",
              "      <td>2015-01-27</td>\n",
              "      <td>5V</td>\n",
              "      <td>85.0</td>\n",
              "      <td>214.0</td>\n",
              "      <td>214.0</td>\n",
              "      <td>1.0</td>\n",
              "      <td>MANUEL ESCUDERO GARCIA</td>\n",
              "      <td>7V</td>\n",
              "      <td>AL8</td>\n",
              "      <td>WVWZZZ1KZ9W487026</td>\n",
              "    </tr>\n",
              "    <tr>\n",
              "      <th>1</th>\n",
              "      <td>1</td>\n",
              "      <td>1</td>\n",
              "      <td>1</td>\n",
              "      <td>98253</td>\n",
              "      <td>6522204.0</td>\n",
              "      <td>27/01/15</td>\n",
              "      <td>11/5K0807217BLGRU</td>\n",
              "      <td>4</td>\n",
              "      <td>GUARNECID 10</td>\n",
              "      <td>1.0</td>\n",
              "      <td>316.39</td>\n",
              "      <td>10.0</td>\n",
              "      <td>284.75</td>\n",
              "      <td>186.05</td>\n",
              "      <td>98.7</td>\n",
              "      <td>0.0</td>\n",
              "      <td>0.0</td>\n",
              "      <td>0.0</td>\n",
              "      <td>2015-01-27</td>\n",
              "      <td>5V</td>\n",
              "      <td>85.0</td>\n",
              "      <td>401.0</td>\n",
              "      <td>401.0</td>\n",
              "      <td>1.0</td>\n",
              "      <td>MANUEL ESCUDERO GARCIA</td>\n",
              "      <td>7V</td>\n",
              "      <td>ALH</td>\n",
              "      <td>WVWZZZ1KZ9W487026</td>\n",
              "    </tr>\n",
              "  </tbody>\n",
              "</table>\n",
              "</div>\n",
              "      <button class=\"colab-df-convert\" onclick=\"convertToInteractive('df-9ac2fc3c-e193-4259-be66-9ae4de370f0e')\"\n",
              "              title=\"Convert this dataframe to an interactive table.\"\n",
              "              style=\"display:none;\">\n",
              "        \n",
              "  <svg xmlns=\"http://www.w3.org/2000/svg\" height=\"24px\"viewBox=\"0 0 24 24\"\n",
              "       width=\"24px\">\n",
              "    <path d=\"M0 0h24v24H0V0z\" fill=\"none\"/>\n",
              "    <path d=\"M18.56 5.44l.94 2.06.94-2.06 2.06-.94-2.06-.94-.94-2.06-.94 2.06-2.06.94zm-11 1L8.5 8.5l.94-2.06 2.06-.94-2.06-.94L8.5 2.5l-.94 2.06-2.06.94zm10 10l.94 2.06.94-2.06 2.06-.94-2.06-.94-.94-2.06-.94 2.06-2.06.94z\"/><path d=\"M17.41 7.96l-1.37-1.37c-.4-.4-.92-.59-1.43-.59-.52 0-1.04.2-1.43.59L10.3 9.45l-7.72 7.72c-.78.78-.78 2.05 0 2.83L4 21.41c.39.39.9.59 1.41.59.51 0 1.02-.2 1.41-.59l7.78-7.78 2.81-2.81c.8-.78.8-2.07 0-2.86zM5.41 20L4 18.59l7.72-7.72 1.47 1.35L5.41 20z\"/>\n",
              "  </svg>\n",
              "      </button>\n",
              "      \n",
              "  <style>\n",
              "    .colab-df-container {\n",
              "      display:flex;\n",
              "      flex-wrap:wrap;\n",
              "      gap: 12px;\n",
              "    }\n",
              "\n",
              "    .colab-df-convert {\n",
              "      background-color: #E8F0FE;\n",
              "      border: none;\n",
              "      border-radius: 50%;\n",
              "      cursor: pointer;\n",
              "      display: none;\n",
              "      fill: #1967D2;\n",
              "      height: 32px;\n",
              "      padding: 0 0 0 0;\n",
              "      width: 32px;\n",
              "    }\n",
              "\n",
              "    .colab-df-convert:hover {\n",
              "      background-color: #E2EBFA;\n",
              "      box-shadow: 0px 1px 2px rgba(60, 64, 67, 0.3), 0px 1px 3px 1px rgba(60, 64, 67, 0.15);\n",
              "      fill: #174EA6;\n",
              "    }\n",
              "\n",
              "    [theme=dark] .colab-df-convert {\n",
              "      background-color: #3B4455;\n",
              "      fill: #D2E3FC;\n",
              "    }\n",
              "\n",
              "    [theme=dark] .colab-df-convert:hover {\n",
              "      background-color: #434B5C;\n",
              "      box-shadow: 0px 1px 3px 1px rgba(0, 0, 0, 0.15);\n",
              "      filter: drop-shadow(0px 1px 2px rgba(0, 0, 0, 0.3));\n",
              "      fill: #FFFFFF;\n",
              "    }\n",
              "  </style>\n",
              "\n",
              "      <script>\n",
              "        const buttonEl =\n",
              "          document.querySelector('#df-9ac2fc3c-e193-4259-be66-9ae4de370f0e button.colab-df-convert');\n",
              "        buttonEl.style.display =\n",
              "          google.colab.kernel.accessAllowed ? 'block' : 'none';\n",
              "\n",
              "        async function convertToInteractive(key) {\n",
              "          const element = document.querySelector('#df-9ac2fc3c-e193-4259-be66-9ae4de370f0e');\n",
              "          const dataTable =\n",
              "            await google.colab.kernel.invokeFunction('convertToInteractive',\n",
              "                                                     [key], {});\n",
              "          if (!dataTable) return;\n",
              "\n",
              "          const docLinkHtml = 'Like what you see? Visit the ' +\n",
              "            '<a target=\"_blank\" href=https://colab.research.google.com/notebooks/data_table.ipynb>data table notebook</a>'\n",
              "            + ' to learn more about interactive tables.';\n",
              "          element.innerHTML = '';\n",
              "          dataTable['output_type'] = 'display_data';\n",
              "          await google.colab.output.renderOutput(dataTable, element);\n",
              "          const docLink = document.createElement('div');\n",
              "          docLink.innerHTML = docLinkHtml;\n",
              "          element.appendChild(docLink);\n",
              "        }\n",
              "      </script>\n",
              "    </div>\n",
              "  </div>\n",
              "  "
            ]
          },
          "metadata": {},
          "execution_count": 19
        }
      ]
    },
    {
      "cell_type": "code",
      "source": [
        "mis_columnas = [\"Alma\", \"Refer\", \"Clav\", \"Canti\", \"PVP\", \"Fech_cierre\", \"Opera\", \"Tipo_venta\", \"Famil\", \"Bastidor\" ]"
      ],
      "metadata": {
        "id": "Pf7WAkOJag_J"
      },
      "execution_count": null,
      "outputs": []
    },
    {
      "cell_type": "code",
      "source": [
        "df2 = df[mis_columnas]\n",
        "df2.head(2)"
      ],
      "metadata": {
        "colab": {
          "base_uri": "https://localhost:8080/",
          "height": 112
        },
        "id": "-y2hRbXmbp36",
        "outputId": "f62ef300-9368-4f7d-f760-3b8528c8b7f0"
      },
      "execution_count": null,
      "outputs": [
        {
          "output_type": "execute_result",
          "data": {
            "text/plain": [
              "  Alma      Refer Clav  Canti  ...  Opera Tipo_venta Famil           Bastidor\n",
              "0    1  6522204.0    6    1.0  ...    1.0         7V   AL8  WVWZZZ1KZ9W487026\n",
              "1    1  6522204.0    4    1.0  ...    1.0         7V   ALH  WVWZZZ1KZ9W487026\n",
              "\n",
              "[2 rows x 10 columns]"
            ],
            "text/html": [
              "\n",
              "  <div id=\"df-bf2218f6-234f-4f79-84de-c540a9dd8ac5\">\n",
              "    <div class=\"colab-df-container\">\n",
              "      <div>\n",
              "<style scoped>\n",
              "    .dataframe tbody tr th:only-of-type {\n",
              "        vertical-align: middle;\n",
              "    }\n",
              "\n",
              "    .dataframe tbody tr th {\n",
              "        vertical-align: top;\n",
              "    }\n",
              "\n",
              "    .dataframe thead th {\n",
              "        text-align: right;\n",
              "    }\n",
              "</style>\n",
              "<table border=\"1\" class=\"dataframe\">\n",
              "  <thead>\n",
              "    <tr style=\"text-align: right;\">\n",
              "      <th></th>\n",
              "      <th>Alma</th>\n",
              "      <th>Refer</th>\n",
              "      <th>Clav</th>\n",
              "      <th>Canti</th>\n",
              "      <th>PVP</th>\n",
              "      <th>Fech_cierre</th>\n",
              "      <th>Opera</th>\n",
              "      <th>Tipo_venta</th>\n",
              "      <th>Famil</th>\n",
              "      <th>Bastidor</th>\n",
              "    </tr>\n",
              "  </thead>\n",
              "  <tbody>\n",
              "    <tr>\n",
              "      <th>0</th>\n",
              "      <td>1</td>\n",
              "      <td>6522204.0</td>\n",
              "      <td>6</td>\n",
              "      <td>1.0</td>\n",
              "      <td>173.93</td>\n",
              "      <td>2015-01-27</td>\n",
              "      <td>1.0</td>\n",
              "      <td>7V</td>\n",
              "      <td>AL8</td>\n",
              "      <td>WVWZZZ1KZ9W487026</td>\n",
              "    </tr>\n",
              "    <tr>\n",
              "      <th>1</th>\n",
              "      <td>1</td>\n",
              "      <td>6522204.0</td>\n",
              "      <td>4</td>\n",
              "      <td>1.0</td>\n",
              "      <td>316.39</td>\n",
              "      <td>2015-01-27</td>\n",
              "      <td>1.0</td>\n",
              "      <td>7V</td>\n",
              "      <td>ALH</td>\n",
              "      <td>WVWZZZ1KZ9W487026</td>\n",
              "    </tr>\n",
              "  </tbody>\n",
              "</table>\n",
              "</div>\n",
              "      <button class=\"colab-df-convert\" onclick=\"convertToInteractive('df-bf2218f6-234f-4f79-84de-c540a9dd8ac5')\"\n",
              "              title=\"Convert this dataframe to an interactive table.\"\n",
              "              style=\"display:none;\">\n",
              "        \n",
              "  <svg xmlns=\"http://www.w3.org/2000/svg\" height=\"24px\"viewBox=\"0 0 24 24\"\n",
              "       width=\"24px\">\n",
              "    <path d=\"M0 0h24v24H0V0z\" fill=\"none\"/>\n",
              "    <path d=\"M18.56 5.44l.94 2.06.94-2.06 2.06-.94-2.06-.94-.94-2.06-.94 2.06-2.06.94zm-11 1L8.5 8.5l.94-2.06 2.06-.94-2.06-.94L8.5 2.5l-.94 2.06-2.06.94zm10 10l.94 2.06.94-2.06 2.06-.94-2.06-.94-.94-2.06-.94 2.06-2.06.94z\"/><path d=\"M17.41 7.96l-1.37-1.37c-.4-.4-.92-.59-1.43-.59-.52 0-1.04.2-1.43.59L10.3 9.45l-7.72 7.72c-.78.78-.78 2.05 0 2.83L4 21.41c.39.39.9.59 1.41.59.51 0 1.02-.2 1.41-.59l7.78-7.78 2.81-2.81c.8-.78.8-2.07 0-2.86zM5.41 20L4 18.59l7.72-7.72 1.47 1.35L5.41 20z\"/>\n",
              "  </svg>\n",
              "      </button>\n",
              "      \n",
              "  <style>\n",
              "    .colab-df-container {\n",
              "      display:flex;\n",
              "      flex-wrap:wrap;\n",
              "      gap: 12px;\n",
              "    }\n",
              "\n",
              "    .colab-df-convert {\n",
              "      background-color: #E8F0FE;\n",
              "      border: none;\n",
              "      border-radius: 50%;\n",
              "      cursor: pointer;\n",
              "      display: none;\n",
              "      fill: #1967D2;\n",
              "      height: 32px;\n",
              "      padding: 0 0 0 0;\n",
              "      width: 32px;\n",
              "    }\n",
              "\n",
              "    .colab-df-convert:hover {\n",
              "      background-color: #E2EBFA;\n",
              "      box-shadow: 0px 1px 2px rgba(60, 64, 67, 0.3), 0px 1px 3px 1px rgba(60, 64, 67, 0.15);\n",
              "      fill: #174EA6;\n",
              "    }\n",
              "\n",
              "    [theme=dark] .colab-df-convert {\n",
              "      background-color: #3B4455;\n",
              "      fill: #D2E3FC;\n",
              "    }\n",
              "\n",
              "    [theme=dark] .colab-df-convert:hover {\n",
              "      background-color: #434B5C;\n",
              "      box-shadow: 0px 1px 3px 1px rgba(0, 0, 0, 0.15);\n",
              "      filter: drop-shadow(0px 1px 2px rgba(0, 0, 0, 0.3));\n",
              "      fill: #FFFFFF;\n",
              "    }\n",
              "  </style>\n",
              "\n",
              "      <script>\n",
              "        const buttonEl =\n",
              "          document.querySelector('#df-bf2218f6-234f-4f79-84de-c540a9dd8ac5 button.colab-df-convert');\n",
              "        buttonEl.style.display =\n",
              "          google.colab.kernel.accessAllowed ? 'block' : 'none';\n",
              "\n",
              "        async function convertToInteractive(key) {\n",
              "          const element = document.querySelector('#df-bf2218f6-234f-4f79-84de-c540a9dd8ac5');\n",
              "          const dataTable =\n",
              "            await google.colab.kernel.invokeFunction('convertToInteractive',\n",
              "                                                     [key], {});\n",
              "          if (!dataTable) return;\n",
              "\n",
              "          const docLinkHtml = 'Like what you see? Visit the ' +\n",
              "            '<a target=\"_blank\" href=https://colab.research.google.com/notebooks/data_table.ipynb>data table notebook</a>'\n",
              "            + ' to learn more about interactive tables.';\n",
              "          element.innerHTML = '';\n",
              "          dataTable['output_type'] = 'display_data';\n",
              "          await google.colab.output.renderOutput(dataTable, element);\n",
              "          const docLink = document.createElement('div');\n",
              "          docLink.innerHTML = docLinkHtml;\n",
              "          element.appendChild(docLink);\n",
              "        }\n",
              "      </script>\n",
              "    </div>\n",
              "  </div>\n",
              "  "
            ]
          },
          "metadata": {},
          "execution_count": 21
        }
      ]
    },
    {
      "cell_type": "code",
      "source": [
        "df2.shape"
      ],
      "metadata": {
        "colab": {
          "base_uri": "https://localhost:8080/"
        },
        "id": "6EHFNj2Xbva1",
        "outputId": "01274e30-f759-4d4e-89b4-07bb91dc1d41"
      },
      "execution_count": null,
      "outputs": [
        {
          "output_type": "execute_result",
          "data": {
            "text/plain": [
              "(1485224, 10)"
            ]
          },
          "metadata": {},
          "execution_count": 22
        }
      ]
    },
    {
      "cell_type": "code",
      "source": [
        "df2['Refer2'] = df.apply(lambda x: x[\"Refer\"][:-3], axis=1)"
      ],
      "metadata": {
        "colab": {
          "base_uri": "https://localhost:8080/"
        },
        "id": "e1MoAEVdb2q7",
        "outputId": "af43c0cf-148d-47ae-8b2b-54e11b5ef938"
      },
      "execution_count": null,
      "outputs": [
        {
          "output_type": "stream",
          "name": "stderr",
          "text": [
            "/usr/local/lib/python3.7/dist-packages/ipykernel_launcher.py:1: SettingWithCopyWarning: \n",
            "A value is trying to be set on a copy of a slice from a DataFrame.\n",
            "Try using .loc[row_indexer,col_indexer] = value instead\n",
            "\n",
            "See the caveats in the documentation: https://pandas.pydata.org/pandas-docs/stable/user_guide/indexing.html#returning-a-view-versus-a-copy\n",
            "  \"\"\"Entry point for launching an IPython kernel.\n"
          ]
        }
      ]
    },
    {
      "cell_type": "code",
      "source": [
        "df2.head()"
      ],
      "metadata": {
        "colab": {
          "base_uri": "https://localhost:8080/",
          "height": 206
        },
        "id": "qF2wuYMMcSE3",
        "outputId": "191d0476-750c-4a7e-f9c5-594b1bd33aea"
      },
      "execution_count": null,
      "outputs": [
        {
          "output_type": "execute_result",
          "data": {
            "text/plain": [
              "  Alma      Refer Clav  Canti  ...  Tipo_venta Famil           Bastidor  Refer2\n",
              "0    1  6522204.0    6    1.0  ...          7V   AL8  WVWZZZ1KZ9W487026  652220\n",
              "1    1  6522204.0    4    1.0  ...          7V   ALH  WVWZZZ1KZ9W487026  652220\n",
              "2    1  6522204.0    6    1.0  ...          7V   AL7  WVWZZZ1KZ9W487026  652220\n",
              "3    1  6522204.0    8    2.0  ...          7V   ANW  WVWZZZ1KZ9W487026  652220\n",
              "4    1  6522204.0    8    2.0  ...          7V   ANW  WVWZZZ1KZ9W487026  652220\n",
              "\n",
              "[5 rows x 11 columns]"
            ],
            "text/html": [
              "\n",
              "  <div id=\"df-30956a64-c9ed-494b-9ca2-0af56cefef9c\">\n",
              "    <div class=\"colab-df-container\">\n",
              "      <div>\n",
              "<style scoped>\n",
              "    .dataframe tbody tr th:only-of-type {\n",
              "        vertical-align: middle;\n",
              "    }\n",
              "\n",
              "    .dataframe tbody tr th {\n",
              "        vertical-align: top;\n",
              "    }\n",
              "\n",
              "    .dataframe thead th {\n",
              "        text-align: right;\n",
              "    }\n",
              "</style>\n",
              "<table border=\"1\" class=\"dataframe\">\n",
              "  <thead>\n",
              "    <tr style=\"text-align: right;\">\n",
              "      <th></th>\n",
              "      <th>Alma</th>\n",
              "      <th>Refer</th>\n",
              "      <th>Clav</th>\n",
              "      <th>Canti</th>\n",
              "      <th>PVP</th>\n",
              "      <th>Fech_cierre</th>\n",
              "      <th>Opera</th>\n",
              "      <th>Tipo_venta</th>\n",
              "      <th>Famil</th>\n",
              "      <th>Bastidor</th>\n",
              "      <th>Refer2</th>\n",
              "    </tr>\n",
              "  </thead>\n",
              "  <tbody>\n",
              "    <tr>\n",
              "      <th>0</th>\n",
              "      <td>1</td>\n",
              "      <td>6522204.0</td>\n",
              "      <td>6</td>\n",
              "      <td>1.0</td>\n",
              "      <td>173.93</td>\n",
              "      <td>2015-01-27</td>\n",
              "      <td>1.0</td>\n",
              "      <td>7V</td>\n",
              "      <td>AL8</td>\n",
              "      <td>WVWZZZ1KZ9W487026</td>\n",
              "      <td>652220</td>\n",
              "    </tr>\n",
              "    <tr>\n",
              "      <th>1</th>\n",
              "      <td>1</td>\n",
              "      <td>6522204.0</td>\n",
              "      <td>4</td>\n",
              "      <td>1.0</td>\n",
              "      <td>316.39</td>\n",
              "      <td>2015-01-27</td>\n",
              "      <td>1.0</td>\n",
              "      <td>7V</td>\n",
              "      <td>ALH</td>\n",
              "      <td>WVWZZZ1KZ9W487026</td>\n",
              "      <td>652220</td>\n",
              "    </tr>\n",
              "    <tr>\n",
              "      <th>2</th>\n",
              "      <td>1</td>\n",
              "      <td>6522204.0</td>\n",
              "      <td>6</td>\n",
              "      <td>1.0</td>\n",
              "      <td>31.75</td>\n",
              "      <td>2015-01-27</td>\n",
              "      <td>1.0</td>\n",
              "      <td>7V</td>\n",
              "      <td>AL7</td>\n",
              "      <td>WVWZZZ1KZ9W487026</td>\n",
              "      <td>652220</td>\n",
              "    </tr>\n",
              "    <tr>\n",
              "      <th>3</th>\n",
              "      <td>1</td>\n",
              "      <td>6522204.0</td>\n",
              "      <td>8</td>\n",
              "      <td>2.0</td>\n",
              "      <td>13.60</td>\n",
              "      <td>2015-01-27</td>\n",
              "      <td>1.0</td>\n",
              "      <td>7V</td>\n",
              "      <td>ANW</td>\n",
              "      <td>WVWZZZ1KZ9W487026</td>\n",
              "      <td>652220</td>\n",
              "    </tr>\n",
              "    <tr>\n",
              "      <th>4</th>\n",
              "      <td>1</td>\n",
              "      <td>6522204.0</td>\n",
              "      <td>8</td>\n",
              "      <td>2.0</td>\n",
              "      <td>13.60</td>\n",
              "      <td>2015-01-27</td>\n",
              "      <td>1.0</td>\n",
              "      <td>7V</td>\n",
              "      <td>ANW</td>\n",
              "      <td>WVWZZZ1KZ9W487026</td>\n",
              "      <td>652220</td>\n",
              "    </tr>\n",
              "  </tbody>\n",
              "</table>\n",
              "</div>\n",
              "      <button class=\"colab-df-convert\" onclick=\"convertToInteractive('df-30956a64-c9ed-494b-9ca2-0af56cefef9c')\"\n",
              "              title=\"Convert this dataframe to an interactive table.\"\n",
              "              style=\"display:none;\">\n",
              "        \n",
              "  <svg xmlns=\"http://www.w3.org/2000/svg\" height=\"24px\"viewBox=\"0 0 24 24\"\n",
              "       width=\"24px\">\n",
              "    <path d=\"M0 0h24v24H0V0z\" fill=\"none\"/>\n",
              "    <path d=\"M18.56 5.44l.94 2.06.94-2.06 2.06-.94-2.06-.94-.94-2.06-.94 2.06-2.06.94zm-11 1L8.5 8.5l.94-2.06 2.06-.94-2.06-.94L8.5 2.5l-.94 2.06-2.06.94zm10 10l.94 2.06.94-2.06 2.06-.94-2.06-.94-.94-2.06-.94 2.06-2.06.94z\"/><path d=\"M17.41 7.96l-1.37-1.37c-.4-.4-.92-.59-1.43-.59-.52 0-1.04.2-1.43.59L10.3 9.45l-7.72 7.72c-.78.78-.78 2.05 0 2.83L4 21.41c.39.39.9.59 1.41.59.51 0 1.02-.2 1.41-.59l7.78-7.78 2.81-2.81c.8-.78.8-2.07 0-2.86zM5.41 20L4 18.59l7.72-7.72 1.47 1.35L5.41 20z\"/>\n",
              "  </svg>\n",
              "      </button>\n",
              "      \n",
              "  <style>\n",
              "    .colab-df-container {\n",
              "      display:flex;\n",
              "      flex-wrap:wrap;\n",
              "      gap: 12px;\n",
              "    }\n",
              "\n",
              "    .colab-df-convert {\n",
              "      background-color: #E8F0FE;\n",
              "      border: none;\n",
              "      border-radius: 50%;\n",
              "      cursor: pointer;\n",
              "      display: none;\n",
              "      fill: #1967D2;\n",
              "      height: 32px;\n",
              "      padding: 0 0 0 0;\n",
              "      width: 32px;\n",
              "    }\n",
              "\n",
              "    .colab-df-convert:hover {\n",
              "      background-color: #E2EBFA;\n",
              "      box-shadow: 0px 1px 2px rgba(60, 64, 67, 0.3), 0px 1px 3px 1px rgba(60, 64, 67, 0.15);\n",
              "      fill: #174EA6;\n",
              "    }\n",
              "\n",
              "    [theme=dark] .colab-df-convert {\n",
              "      background-color: #3B4455;\n",
              "      fill: #D2E3FC;\n",
              "    }\n",
              "\n",
              "    [theme=dark] .colab-df-convert:hover {\n",
              "      background-color: #434B5C;\n",
              "      box-shadow: 0px 1px 3px 1px rgba(0, 0, 0, 0.15);\n",
              "      filter: drop-shadow(0px 1px 2px rgba(0, 0, 0, 0.3));\n",
              "      fill: #FFFFFF;\n",
              "    }\n",
              "  </style>\n",
              "\n",
              "      <script>\n",
              "        const buttonEl =\n",
              "          document.querySelector('#df-30956a64-c9ed-494b-9ca2-0af56cefef9c button.colab-df-convert');\n",
              "        buttonEl.style.display =\n",
              "          google.colab.kernel.accessAllowed ? 'block' : 'none';\n",
              "\n",
              "        async function convertToInteractive(key) {\n",
              "          const element = document.querySelector('#df-30956a64-c9ed-494b-9ca2-0af56cefef9c');\n",
              "          const dataTable =\n",
              "            await google.colab.kernel.invokeFunction('convertToInteractive',\n",
              "                                                     [key], {});\n",
              "          if (!dataTable) return;\n",
              "\n",
              "          const docLinkHtml = 'Like what you see? Visit the ' +\n",
              "            '<a target=\"_blank\" href=https://colab.research.google.com/notebooks/data_table.ipynb>data table notebook</a>'\n",
              "            + ' to learn more about interactive tables.';\n",
              "          element.innerHTML = '';\n",
              "          dataTable['output_type'] = 'display_data';\n",
              "          await google.colab.output.renderOutput(dataTable, element);\n",
              "          const docLink = document.createElement('div');\n",
              "          docLink.innerHTML = docLinkHtml;\n",
              "          element.appendChild(docLink);\n",
              "        }\n",
              "      </script>\n",
              "    </div>\n",
              "  </div>\n",
              "  "
            ]
          },
          "metadata": {},
          "execution_count": 24
        }
      ]
    },
    {
      "cell_type": "code",
      "source": [
        "df.shape"
      ],
      "metadata": {
        "colab": {
          "base_uri": "https://localhost:8080/"
        },
        "id": "zItoTxmocaWW",
        "outputId": "46277c86-087e-4171-f8f8-c602fedd71d2"
      },
      "execution_count": null,
      "outputs": [
        {
          "output_type": "execute_result",
          "data": {
            "text/plain": [
              "(1485224, 28)"
            ]
          },
          "metadata": {},
          "execution_count": 25
        }
      ]
    },
    {
      "cell_type": "code",
      "source": [
        "df2['year'] = df2['Fech_cierre'].dt.year # sacamos el año de la fecha\n",
        "df2['month'] = df2['Fech_cierre'].dt.month # sacamos el mes\n",
        "df2['day'] = df2['Fech_cierre'].dt.day # sacamos el día. \n",
        "df2['day_of_week'] = df2['Fech_cierre'].dt.dayofweek # sacamos el día de la semana. "
      ],
      "metadata": {
        "colab": {
          "base_uri": "https://localhost:8080/"
        },
        "id": "XZDt81gndXIe",
        "outputId": "d21b8e3c-16c0-4405-d79c-69a99cc16c3a"
      },
      "execution_count": null,
      "outputs": [
        {
          "output_type": "stream",
          "name": "stderr",
          "text": [
            "/usr/local/lib/python3.7/dist-packages/ipykernel_launcher.py:1: SettingWithCopyWarning: \n",
            "A value is trying to be set on a copy of a slice from a DataFrame.\n",
            "Try using .loc[row_indexer,col_indexer] = value instead\n",
            "\n",
            "See the caveats in the documentation: https://pandas.pydata.org/pandas-docs/stable/user_guide/indexing.html#returning-a-view-versus-a-copy\n",
            "  \"\"\"Entry point for launching an IPython kernel.\n",
            "/usr/local/lib/python3.7/dist-packages/ipykernel_launcher.py:2: SettingWithCopyWarning: \n",
            "A value is trying to be set on a copy of a slice from a DataFrame.\n",
            "Try using .loc[row_indexer,col_indexer] = value instead\n",
            "\n",
            "See the caveats in the documentation: https://pandas.pydata.org/pandas-docs/stable/user_guide/indexing.html#returning-a-view-versus-a-copy\n",
            "  \n",
            "/usr/local/lib/python3.7/dist-packages/ipykernel_launcher.py:3: SettingWithCopyWarning: \n",
            "A value is trying to be set on a copy of a slice from a DataFrame.\n",
            "Try using .loc[row_indexer,col_indexer] = value instead\n",
            "\n",
            "See the caveats in the documentation: https://pandas.pydata.org/pandas-docs/stable/user_guide/indexing.html#returning-a-view-versus-a-copy\n",
            "  This is separate from the ipykernel package so we can avoid doing imports until\n",
            "/usr/local/lib/python3.7/dist-packages/ipykernel_launcher.py:4: SettingWithCopyWarning: \n",
            "A value is trying to be set on a copy of a slice from a DataFrame.\n",
            "Try using .loc[row_indexer,col_indexer] = value instead\n",
            "\n",
            "See the caveats in the documentation: https://pandas.pydata.org/pandas-docs/stable/user_guide/indexing.html#returning-a-view-versus-a-copy\n",
            "  after removing the cwd from sys.path.\n"
          ]
        }
      ]
    },
    {
      "cell_type": "code",
      "source": [
        "df2.head(2)"
      ],
      "metadata": {
        "colab": {
          "base_uri": "https://localhost:8080/",
          "height": 112
        },
        "id": "cZ6eOmFzdm8-",
        "outputId": "b8a99808-5af9-442c-dc51-d71b2c8d0b5d"
      },
      "execution_count": null,
      "outputs": [
        {
          "output_type": "execute_result",
          "data": {
            "text/plain": [
              "  Alma      Refer Clav  Canti     PVP  ...  Refer2  year month day day_of_week\n",
              "0    1  6522204.0    6    1.0  173.93  ...  652220  2015     1  27           1\n",
              "1    1  6522204.0    4    1.0  316.39  ...  652220  2015     1  27           1\n",
              "\n",
              "[2 rows x 15 columns]"
            ],
            "text/html": [
              "\n",
              "  <div id=\"df-21a82377-a193-4f6b-8241-c359fc28a0e2\">\n",
              "    <div class=\"colab-df-container\">\n",
              "      <div>\n",
              "<style scoped>\n",
              "    .dataframe tbody tr th:only-of-type {\n",
              "        vertical-align: middle;\n",
              "    }\n",
              "\n",
              "    .dataframe tbody tr th {\n",
              "        vertical-align: top;\n",
              "    }\n",
              "\n",
              "    .dataframe thead th {\n",
              "        text-align: right;\n",
              "    }\n",
              "</style>\n",
              "<table border=\"1\" class=\"dataframe\">\n",
              "  <thead>\n",
              "    <tr style=\"text-align: right;\">\n",
              "      <th></th>\n",
              "      <th>Alma</th>\n",
              "      <th>Refer</th>\n",
              "      <th>Clav</th>\n",
              "      <th>Canti</th>\n",
              "      <th>PVP</th>\n",
              "      <th>Fech_cierre</th>\n",
              "      <th>Opera</th>\n",
              "      <th>Tipo_venta</th>\n",
              "      <th>Famil</th>\n",
              "      <th>Bastidor</th>\n",
              "      <th>Refer2</th>\n",
              "      <th>year</th>\n",
              "      <th>month</th>\n",
              "      <th>day</th>\n",
              "      <th>day_of_week</th>\n",
              "    </tr>\n",
              "  </thead>\n",
              "  <tbody>\n",
              "    <tr>\n",
              "      <th>0</th>\n",
              "      <td>1</td>\n",
              "      <td>6522204.0</td>\n",
              "      <td>6</td>\n",
              "      <td>1.0</td>\n",
              "      <td>173.93</td>\n",
              "      <td>2015-01-27</td>\n",
              "      <td>1.0</td>\n",
              "      <td>7V</td>\n",
              "      <td>AL8</td>\n",
              "      <td>WVWZZZ1KZ9W487026</td>\n",
              "      <td>652220</td>\n",
              "      <td>2015</td>\n",
              "      <td>1</td>\n",
              "      <td>27</td>\n",
              "      <td>1</td>\n",
              "    </tr>\n",
              "    <tr>\n",
              "      <th>1</th>\n",
              "      <td>1</td>\n",
              "      <td>6522204.0</td>\n",
              "      <td>4</td>\n",
              "      <td>1.0</td>\n",
              "      <td>316.39</td>\n",
              "      <td>2015-01-27</td>\n",
              "      <td>1.0</td>\n",
              "      <td>7V</td>\n",
              "      <td>ALH</td>\n",
              "      <td>WVWZZZ1KZ9W487026</td>\n",
              "      <td>652220</td>\n",
              "      <td>2015</td>\n",
              "      <td>1</td>\n",
              "      <td>27</td>\n",
              "      <td>1</td>\n",
              "    </tr>\n",
              "  </tbody>\n",
              "</table>\n",
              "</div>\n",
              "      <button class=\"colab-df-convert\" onclick=\"convertToInteractive('df-21a82377-a193-4f6b-8241-c359fc28a0e2')\"\n",
              "              title=\"Convert this dataframe to an interactive table.\"\n",
              "              style=\"display:none;\">\n",
              "        \n",
              "  <svg xmlns=\"http://www.w3.org/2000/svg\" height=\"24px\"viewBox=\"0 0 24 24\"\n",
              "       width=\"24px\">\n",
              "    <path d=\"M0 0h24v24H0V0z\" fill=\"none\"/>\n",
              "    <path d=\"M18.56 5.44l.94 2.06.94-2.06 2.06-.94-2.06-.94-.94-2.06-.94 2.06-2.06.94zm-11 1L8.5 8.5l.94-2.06 2.06-.94-2.06-.94L8.5 2.5l-.94 2.06-2.06.94zm10 10l.94 2.06.94-2.06 2.06-.94-2.06-.94-.94-2.06-.94 2.06-2.06.94z\"/><path d=\"M17.41 7.96l-1.37-1.37c-.4-.4-.92-.59-1.43-.59-.52 0-1.04.2-1.43.59L10.3 9.45l-7.72 7.72c-.78.78-.78 2.05 0 2.83L4 21.41c.39.39.9.59 1.41.59.51 0 1.02-.2 1.41-.59l7.78-7.78 2.81-2.81c.8-.78.8-2.07 0-2.86zM5.41 20L4 18.59l7.72-7.72 1.47 1.35L5.41 20z\"/>\n",
              "  </svg>\n",
              "      </button>\n",
              "      \n",
              "  <style>\n",
              "    .colab-df-container {\n",
              "      display:flex;\n",
              "      flex-wrap:wrap;\n",
              "      gap: 12px;\n",
              "    }\n",
              "\n",
              "    .colab-df-convert {\n",
              "      background-color: #E8F0FE;\n",
              "      border: none;\n",
              "      border-radius: 50%;\n",
              "      cursor: pointer;\n",
              "      display: none;\n",
              "      fill: #1967D2;\n",
              "      height: 32px;\n",
              "      padding: 0 0 0 0;\n",
              "      width: 32px;\n",
              "    }\n",
              "\n",
              "    .colab-df-convert:hover {\n",
              "      background-color: #E2EBFA;\n",
              "      box-shadow: 0px 1px 2px rgba(60, 64, 67, 0.3), 0px 1px 3px 1px rgba(60, 64, 67, 0.15);\n",
              "      fill: #174EA6;\n",
              "    }\n",
              "\n",
              "    [theme=dark] .colab-df-convert {\n",
              "      background-color: #3B4455;\n",
              "      fill: #D2E3FC;\n",
              "    }\n",
              "\n",
              "    [theme=dark] .colab-df-convert:hover {\n",
              "      background-color: #434B5C;\n",
              "      box-shadow: 0px 1px 3px 1px rgba(0, 0, 0, 0.15);\n",
              "      filter: drop-shadow(0px 1px 2px rgba(0, 0, 0, 0.3));\n",
              "      fill: #FFFFFF;\n",
              "    }\n",
              "  </style>\n",
              "\n",
              "      <script>\n",
              "        const buttonEl =\n",
              "          document.querySelector('#df-21a82377-a193-4f6b-8241-c359fc28a0e2 button.colab-df-convert');\n",
              "        buttonEl.style.display =\n",
              "          google.colab.kernel.accessAllowed ? 'block' : 'none';\n",
              "\n",
              "        async function convertToInteractive(key) {\n",
              "          const element = document.querySelector('#df-21a82377-a193-4f6b-8241-c359fc28a0e2');\n",
              "          const dataTable =\n",
              "            await google.colab.kernel.invokeFunction('convertToInteractive',\n",
              "                                                     [key], {});\n",
              "          if (!dataTable) return;\n",
              "\n",
              "          const docLinkHtml = 'Like what you see? Visit the ' +\n",
              "            '<a target=\"_blank\" href=https://colab.research.google.com/notebooks/data_table.ipynb>data table notebook</a>'\n",
              "            + ' to learn more about interactive tables.';\n",
              "          element.innerHTML = '';\n",
              "          dataTable['output_type'] = 'display_data';\n",
              "          await google.colab.output.renderOutput(dataTable, element);\n",
              "          const docLink = document.createElement('div');\n",
              "          docLink.innerHTML = docLinkHtml;\n",
              "          element.appendChild(docLink);\n",
              "        }\n",
              "      </script>\n",
              "    </div>\n",
              "  </div>\n",
              "  "
            ]
          },
          "metadata": {},
          "execution_count": 27
        }
      ]
    },
    {
      "cell_type": "code",
      "source": [
        "# voy a quitar las internas. \n",
        "df2 = df2[df2[\"Tipo_venta\"].str.startswith(\"5\")!=True]\n",
        "# voy a quitar las internas. \n",
        "df2 = df2[df2[\"Tipo_venta\"].str.startswith(\"6\")!=True]"
      ],
      "metadata": {
        "id": "d0sKwO9Gd1iY"
      },
      "execution_count": null,
      "outputs": []
    },
    {
      "cell_type": "code",
      "source": [
        "df2.shape"
      ],
      "metadata": {
        "colab": {
          "base_uri": "https://localhost:8080/"
        },
        "id": "jwK4CtaUeMFj",
        "outputId": "48e92c32-3cf4-4392-bbc8-c1150d79d4bc"
      },
      "execution_count": null,
      "outputs": [
        {
          "output_type": "execute_result",
          "data": {
            "text/plain": [
              "(1197530, 15)"
            ]
          },
          "metadata": {},
          "execution_count": 29
        }
      ]
    },
    {
      "cell_type": "code",
      "source": [
        "df2 = df2[df2[\"Famil\"]==\"AIB\"]"
      ],
      "metadata": {
        "id": "xF1nqH7MePs3"
      },
      "execution_count": null,
      "outputs": []
    },
    {
      "cell_type": "code",
      "source": [
        "df2.shape"
      ],
      "metadata": {
        "colab": {
          "base_uri": "https://localhost:8080/"
        },
        "id": "dK6htEanebnE",
        "outputId": "bdf05166-9903-4842-bf86-d8c58596d36a"
      },
      "execution_count": null,
      "outputs": [
        {
          "output_type": "execute_result",
          "data": {
            "text/plain": [
              "(61866, 15)"
            ]
          },
          "metadata": {},
          "execution_count": 31
        }
      ]
    },
    {
      "cell_type": "code",
      "source": [
        "df2.Tipo_venta.value_counts(normalize=True)"
      ],
      "metadata": {
        "colab": {
          "base_uri": "https://localhost:8080/"
        },
        "id": "HgWA-2wsfhkp",
        "outputId": "44ff19b4-37fa-4090-be56-f727fd58f1dd"
      },
      "execution_count": null,
      "outputs": [
        {
          "output_type": "execute_result",
          "data": {
            "text/plain": [
              "2A      0.469191\n",
              "2V      0.303769\n",
              "11LA    0.093945\n",
              "11LV    0.091779\n",
              "2RA     0.006482\n",
              "4A      0.006417\n",
              "12LA    0.005544\n",
              "2L      0.004833\n",
              "2RV     0.004235\n",
              "7A      0.003152\n",
              "12LV    0.002554\n",
              "11LL    0.002554\n",
              "7V      0.001891\n",
              "4V      0.001794\n",
              "12LL    0.000420\n",
              "2RL     0.000323\n",
              "DG      0.000307\n",
              "2Q      0.000226\n",
              "7LV     0.000162\n",
              "4L      0.000145\n",
              "7LA     0.000113\n",
              "GD      0.000065\n",
              "2P      0.000032\n",
              "1A      0.000032\n",
              "2VR     0.000032\n",
              "Name: Tipo_venta, dtype: float64"
            ]
          },
          "metadata": {},
          "execution_count": 32
        }
      ]
    },
    {
      "cell_type": "code",
      "source": [
        "print(\"la fecha va desde {} a {}\".format(df.Fech_cierre.min(), df.Fech_cierre.max()))"
      ],
      "metadata": {
        "colab": {
          "base_uri": "https://localhost:8080/"
        },
        "id": "b1yMeWXcfu2W",
        "outputId": "d3e9d1d1-4716-4437-b928-2776ec814c68"
      },
      "execution_count": null,
      "outputs": [
        {
          "output_type": "stream",
          "name": "stdout",
          "text": [
            "la fecha va desde 2015-01-04 00:00:00 a 2022-12-05 00:00:00\n"
          ]
        }
      ]
    },
    {
      "cell_type": "code",
      "source": [
        "df2.tail()"
      ],
      "metadata": {
        "colab": {
          "base_uri": "https://localhost:8080/",
          "height": 206
        },
        "id": "ElePe-KvgSMv",
        "outputId": "cc9e6655-538b-4eb7-dbcd-7a9a59e59bec"
      },
      "execution_count": null,
      "outputs": [
        {
          "output_type": "execute_result",
          "data": {
            "text/plain": [
              "        Alma       Refer Clav  Canti  ...  year month day day_of_week\n",
              "1521357    3  13773131.0    1    1.0  ...  2022    10   6           3\n",
              "1521380    3  13772921.0    1    1.0  ...  2022     6  13           0\n",
              "1521506    3  13838511.0    1    1.0  ...  2022     6  29           2\n",
              "1521663    9  13695303.0    1   -1.0  ...  2022     2   6           6\n",
              "1521664    9  13695304.0    1    1.0  ...  2022     2   6           6\n",
              "\n",
              "[5 rows x 15 columns]"
            ],
            "text/html": [
              "\n",
              "  <div id=\"df-4bc97b49-34dc-400c-a387-63cc6c8e5172\">\n",
              "    <div class=\"colab-df-container\">\n",
              "      <div>\n",
              "<style scoped>\n",
              "    .dataframe tbody tr th:only-of-type {\n",
              "        vertical-align: middle;\n",
              "    }\n",
              "\n",
              "    .dataframe tbody tr th {\n",
              "        vertical-align: top;\n",
              "    }\n",
              "\n",
              "    .dataframe thead th {\n",
              "        text-align: right;\n",
              "    }\n",
              "</style>\n",
              "<table border=\"1\" class=\"dataframe\">\n",
              "  <thead>\n",
              "    <tr style=\"text-align: right;\">\n",
              "      <th></th>\n",
              "      <th>Alma</th>\n",
              "      <th>Refer</th>\n",
              "      <th>Clav</th>\n",
              "      <th>Canti</th>\n",
              "      <th>PVP</th>\n",
              "      <th>Fech_cierre</th>\n",
              "      <th>Opera</th>\n",
              "      <th>Tipo_venta</th>\n",
              "      <th>Famil</th>\n",
              "      <th>Bastidor</th>\n",
              "      <th>Refer2</th>\n",
              "      <th>year</th>\n",
              "      <th>month</th>\n",
              "      <th>day</th>\n",
              "      <th>day_of_week</th>\n",
              "    </tr>\n",
              "  </thead>\n",
              "  <tbody>\n",
              "    <tr>\n",
              "      <th>1521357</th>\n",
              "      <td>3</td>\n",
              "      <td>13773131.0</td>\n",
              "      <td>1</td>\n",
              "      <td>1.0</td>\n",
              "      <td>18.13</td>\n",
              "      <td>2022-10-06</td>\n",
              "      <td>70.0</td>\n",
              "      <td>2A</td>\n",
              "      <td>AIB</td>\n",
              "      <td>WAUZZZF40HA020960</td>\n",
              "      <td>1377313</td>\n",
              "      <td>2022</td>\n",
              "      <td>10</td>\n",
              "      <td>6</td>\n",
              "      <td>3</td>\n",
              "    </tr>\n",
              "    <tr>\n",
              "      <th>1521380</th>\n",
              "      <td>3</td>\n",
              "      <td>13772921.0</td>\n",
              "      <td>1</td>\n",
              "      <td>1.0</td>\n",
              "      <td>18.13</td>\n",
              "      <td>2022-06-13</td>\n",
              "      <td>70.0</td>\n",
              "      <td>11LA</td>\n",
              "      <td>AIB</td>\n",
              "      <td>WAUZZZ8U1JR071288</td>\n",
              "      <td>1377292</td>\n",
              "      <td>2022</td>\n",
              "      <td>6</td>\n",
              "      <td>13</td>\n",
              "      <td>0</td>\n",
              "    </tr>\n",
              "    <tr>\n",
              "      <th>1521506</th>\n",
              "      <td>3</td>\n",
              "      <td>13838511.0</td>\n",
              "      <td>1</td>\n",
              "      <td>1.0</td>\n",
              "      <td>18.13</td>\n",
              "      <td>2022-06-29</td>\n",
              "      <td>70.0</td>\n",
              "      <td>2A</td>\n",
              "      <td>AIB</td>\n",
              "      <td>WAUZZZ8R2GA004606</td>\n",
              "      <td>1383851</td>\n",
              "      <td>2022</td>\n",
              "      <td>6</td>\n",
              "      <td>29</td>\n",
              "      <td>2</td>\n",
              "    </tr>\n",
              "    <tr>\n",
              "      <th>1521663</th>\n",
              "      <td>9</td>\n",
              "      <td>13695303.0</td>\n",
              "      <td>1</td>\n",
              "      <td>-1.0</td>\n",
              "      <td>-16.70</td>\n",
              "      <td>2022-02-06</td>\n",
              "      <td>151.0</td>\n",
              "      <td>2V</td>\n",
              "      <td>AIB</td>\n",
              "      <td>WVWZZZAUZJW289969</td>\n",
              "      <td>1369530</td>\n",
              "      <td>2022</td>\n",
              "      <td>2</td>\n",
              "      <td>6</td>\n",
              "      <td>6</td>\n",
              "    </tr>\n",
              "    <tr>\n",
              "      <th>1521664</th>\n",
              "      <td>9</td>\n",
              "      <td>13695304.0</td>\n",
              "      <td>1</td>\n",
              "      <td>1.0</td>\n",
              "      <td>16.70</td>\n",
              "      <td>2022-02-06</td>\n",
              "      <td>151.0</td>\n",
              "      <td>2V</td>\n",
              "      <td>AIB</td>\n",
              "      <td>WVWZZZAUZJW289969</td>\n",
              "      <td>1369530</td>\n",
              "      <td>2022</td>\n",
              "      <td>2</td>\n",
              "      <td>6</td>\n",
              "      <td>6</td>\n",
              "    </tr>\n",
              "  </tbody>\n",
              "</table>\n",
              "</div>\n",
              "      <button class=\"colab-df-convert\" onclick=\"convertToInteractive('df-4bc97b49-34dc-400c-a387-63cc6c8e5172')\"\n",
              "              title=\"Convert this dataframe to an interactive table.\"\n",
              "              style=\"display:none;\">\n",
              "        \n",
              "  <svg xmlns=\"http://www.w3.org/2000/svg\" height=\"24px\"viewBox=\"0 0 24 24\"\n",
              "       width=\"24px\">\n",
              "    <path d=\"M0 0h24v24H0V0z\" fill=\"none\"/>\n",
              "    <path d=\"M18.56 5.44l.94 2.06.94-2.06 2.06-.94-2.06-.94-.94-2.06-.94 2.06-2.06.94zm-11 1L8.5 8.5l.94-2.06 2.06-.94-2.06-.94L8.5 2.5l-.94 2.06-2.06.94zm10 10l.94 2.06.94-2.06 2.06-.94-2.06-.94-.94-2.06-.94 2.06-2.06.94z\"/><path d=\"M17.41 7.96l-1.37-1.37c-.4-.4-.92-.59-1.43-.59-.52 0-1.04.2-1.43.59L10.3 9.45l-7.72 7.72c-.78.78-.78 2.05 0 2.83L4 21.41c.39.39.9.59 1.41.59.51 0 1.02-.2 1.41-.59l7.78-7.78 2.81-2.81c.8-.78.8-2.07 0-2.86zM5.41 20L4 18.59l7.72-7.72 1.47 1.35L5.41 20z\"/>\n",
              "  </svg>\n",
              "      </button>\n",
              "      \n",
              "  <style>\n",
              "    .colab-df-container {\n",
              "      display:flex;\n",
              "      flex-wrap:wrap;\n",
              "      gap: 12px;\n",
              "    }\n",
              "\n",
              "    .colab-df-convert {\n",
              "      background-color: #E8F0FE;\n",
              "      border: none;\n",
              "      border-radius: 50%;\n",
              "      cursor: pointer;\n",
              "      display: none;\n",
              "      fill: #1967D2;\n",
              "      height: 32px;\n",
              "      padding: 0 0 0 0;\n",
              "      width: 32px;\n",
              "    }\n",
              "\n",
              "    .colab-df-convert:hover {\n",
              "      background-color: #E2EBFA;\n",
              "      box-shadow: 0px 1px 2px rgba(60, 64, 67, 0.3), 0px 1px 3px 1px rgba(60, 64, 67, 0.15);\n",
              "      fill: #174EA6;\n",
              "    }\n",
              "\n",
              "    [theme=dark] .colab-df-convert {\n",
              "      background-color: #3B4455;\n",
              "      fill: #D2E3FC;\n",
              "    }\n",
              "\n",
              "    [theme=dark] .colab-df-convert:hover {\n",
              "      background-color: #434B5C;\n",
              "      box-shadow: 0px 1px 3px 1px rgba(0, 0, 0, 0.15);\n",
              "      filter: drop-shadow(0px 1px 2px rgba(0, 0, 0, 0.3));\n",
              "      fill: #FFFFFF;\n",
              "    }\n",
              "  </style>\n",
              "\n",
              "      <script>\n",
              "        const buttonEl =\n",
              "          document.querySelector('#df-4bc97b49-34dc-400c-a387-63cc6c8e5172 button.colab-df-convert');\n",
              "        buttonEl.style.display =\n",
              "          google.colab.kernel.accessAllowed ? 'block' : 'none';\n",
              "\n",
              "        async function convertToInteractive(key) {\n",
              "          const element = document.querySelector('#df-4bc97b49-34dc-400c-a387-63cc6c8e5172');\n",
              "          const dataTable =\n",
              "            await google.colab.kernel.invokeFunction('convertToInteractive',\n",
              "                                                     [key], {});\n",
              "          if (!dataTable) return;\n",
              "\n",
              "          const docLinkHtml = 'Like what you see? Visit the ' +\n",
              "            '<a target=\"_blank\" href=https://colab.research.google.com/notebooks/data_table.ipynb>data table notebook</a>'\n",
              "            + ' to learn more about interactive tables.';\n",
              "          element.innerHTML = '';\n",
              "          dataTable['output_type'] = 'display_data';\n",
              "          await google.colab.output.renderOutput(dataTable, element);\n",
              "          const docLink = document.createElement('div');\n",
              "          docLink.innerHTML = docLinkHtml;\n",
              "          element.appendChild(docLink);\n",
              "        }\n",
              "      </script>\n",
              "    </div>\n",
              "  </div>\n",
              "  "
            ]
          },
          "metadata": {},
          "execution_count": 34
        }
      ]
    },
    {
      "cell_type": "code",
      "source": [
        "df2.loc[(df2[\"year\"] == \"2022\") | (df2[\"month\"] == \"10\")]"
      ],
      "metadata": {
        "colab": {
          "base_uri": "https://localhost:8080/",
          "height": 49
        },
        "id": "l19Oal34iGWy",
        "outputId": "2e09f968-b1b3-4892-d37f-bd2c1083c580"
      },
      "execution_count": null,
      "outputs": [
        {
          "output_type": "execute_result",
          "data": {
            "text/plain": [
              "Empty DataFrame\n",
              "Columns: [Alma, Refer, Clav, Canti, PVP, Fech_cierre, Opera, Tipo_venta, Famil, Bastidor, Refer2, year, month, day, day_of_week]\n",
              "Index: []"
            ],
            "text/html": [
              "\n",
              "  <div id=\"df-3987b28f-fbfa-46c3-aeaa-b5af4265cfc6\">\n",
              "    <div class=\"colab-df-container\">\n",
              "      <div>\n",
              "<style scoped>\n",
              "    .dataframe tbody tr th:only-of-type {\n",
              "        vertical-align: middle;\n",
              "    }\n",
              "\n",
              "    .dataframe tbody tr th {\n",
              "        vertical-align: top;\n",
              "    }\n",
              "\n",
              "    .dataframe thead th {\n",
              "        text-align: right;\n",
              "    }\n",
              "</style>\n",
              "<table border=\"1\" class=\"dataframe\">\n",
              "  <thead>\n",
              "    <tr style=\"text-align: right;\">\n",
              "      <th></th>\n",
              "      <th>Alma</th>\n",
              "      <th>Refer</th>\n",
              "      <th>Clav</th>\n",
              "      <th>Canti</th>\n",
              "      <th>PVP</th>\n",
              "      <th>Fech_cierre</th>\n",
              "      <th>Opera</th>\n",
              "      <th>Tipo_venta</th>\n",
              "      <th>Famil</th>\n",
              "      <th>Bastidor</th>\n",
              "      <th>Refer2</th>\n",
              "      <th>year</th>\n",
              "      <th>month</th>\n",
              "      <th>day</th>\n",
              "      <th>day_of_week</th>\n",
              "    </tr>\n",
              "  </thead>\n",
              "  <tbody>\n",
              "  </tbody>\n",
              "</table>\n",
              "</div>\n",
              "      <button class=\"colab-df-convert\" onclick=\"convertToInteractive('df-3987b28f-fbfa-46c3-aeaa-b5af4265cfc6')\"\n",
              "              title=\"Convert this dataframe to an interactive table.\"\n",
              "              style=\"display:none;\">\n",
              "        \n",
              "  <svg xmlns=\"http://www.w3.org/2000/svg\" height=\"24px\"viewBox=\"0 0 24 24\"\n",
              "       width=\"24px\">\n",
              "    <path d=\"M0 0h24v24H0V0z\" fill=\"none\"/>\n",
              "    <path d=\"M18.56 5.44l.94 2.06.94-2.06 2.06-.94-2.06-.94-.94-2.06-.94 2.06-2.06.94zm-11 1L8.5 8.5l.94-2.06 2.06-.94-2.06-.94L8.5 2.5l-.94 2.06-2.06.94zm10 10l.94 2.06.94-2.06 2.06-.94-2.06-.94-.94-2.06-.94 2.06-2.06.94z\"/><path d=\"M17.41 7.96l-1.37-1.37c-.4-.4-.92-.59-1.43-.59-.52 0-1.04.2-1.43.59L10.3 9.45l-7.72 7.72c-.78.78-.78 2.05 0 2.83L4 21.41c.39.39.9.59 1.41.59.51 0 1.02-.2 1.41-.59l7.78-7.78 2.81-2.81c.8-.78.8-2.07 0-2.86zM5.41 20L4 18.59l7.72-7.72 1.47 1.35L5.41 20z\"/>\n",
              "  </svg>\n",
              "      </button>\n",
              "      \n",
              "  <style>\n",
              "    .colab-df-container {\n",
              "      display:flex;\n",
              "      flex-wrap:wrap;\n",
              "      gap: 12px;\n",
              "    }\n",
              "\n",
              "    .colab-df-convert {\n",
              "      background-color: #E8F0FE;\n",
              "      border: none;\n",
              "      border-radius: 50%;\n",
              "      cursor: pointer;\n",
              "      display: none;\n",
              "      fill: #1967D2;\n",
              "      height: 32px;\n",
              "      padding: 0 0 0 0;\n",
              "      width: 32px;\n",
              "    }\n",
              "\n",
              "    .colab-df-convert:hover {\n",
              "      background-color: #E2EBFA;\n",
              "      box-shadow: 0px 1px 2px rgba(60, 64, 67, 0.3), 0px 1px 3px 1px rgba(60, 64, 67, 0.15);\n",
              "      fill: #174EA6;\n",
              "    }\n",
              "\n",
              "    [theme=dark] .colab-df-convert {\n",
              "      background-color: #3B4455;\n",
              "      fill: #D2E3FC;\n",
              "    }\n",
              "\n",
              "    [theme=dark] .colab-df-convert:hover {\n",
              "      background-color: #434B5C;\n",
              "      box-shadow: 0px 1px 3px 1px rgba(0, 0, 0, 0.15);\n",
              "      filter: drop-shadow(0px 1px 2px rgba(0, 0, 0, 0.3));\n",
              "      fill: #FFFFFF;\n",
              "    }\n",
              "  </style>\n",
              "\n",
              "      <script>\n",
              "        const buttonEl =\n",
              "          document.querySelector('#df-3987b28f-fbfa-46c3-aeaa-b5af4265cfc6 button.colab-df-convert');\n",
              "        buttonEl.style.display =\n",
              "          google.colab.kernel.accessAllowed ? 'block' : 'none';\n",
              "\n",
              "        async function convertToInteractive(key) {\n",
              "          const element = document.querySelector('#df-3987b28f-fbfa-46c3-aeaa-b5af4265cfc6');\n",
              "          const dataTable =\n",
              "            await google.colab.kernel.invokeFunction('convertToInteractive',\n",
              "                                                     [key], {});\n",
              "          if (!dataTable) return;\n",
              "\n",
              "          const docLinkHtml = 'Like what you see? Visit the ' +\n",
              "            '<a target=\"_blank\" href=https://colab.research.google.com/notebooks/data_table.ipynb>data table notebook</a>'\n",
              "            + ' to learn more about interactive tables.';\n",
              "          element.innerHTML = '';\n",
              "          dataTable['output_type'] = 'display_data';\n",
              "          await google.colab.output.renderOutput(dataTable, element);\n",
              "          const docLink = document.createElement('div');\n",
              "          docLink.innerHTML = docLinkHtml;\n",
              "          element.appendChild(docLink);\n",
              "        }\n",
              "      </script>\n",
              "    </div>\n",
              "  </div>\n",
              "  "
            ]
          },
          "metadata": {},
          "execution_count": 41
        }
      ]
    },
    {
      "cell_type": "markdown",
      "source": [
        "# NUEVO INTENTO"
      ],
      "metadata": {
        "id": "iE2AA7OjI9Dn"
      }
    },
    {
      "cell_type": "code",
      "source": [
        "import pandas as pd"
      ],
      "metadata": {
        "id": "IN5bIzrXjbwl"
      },
      "execution_count": 1,
      "outputs": []
    },
    {
      "cell_type": "code",
      "source": [
        "df_2015 = pd.read_csv(\"/content/drive/MyDrive/Colab Notebooks/total_recambios_2015.csv\", decimal=\",\")"
      ],
      "metadata": {
        "id": "SpVEaQltJUsN"
      },
      "execution_count": 2,
      "outputs": []
    },
    {
      "cell_type": "code",
      "source": [
        "df_2015.columns"
      ],
      "metadata": {
        "colab": {
          "base_uri": "https://localhost:8080/"
        },
        "id": "NiaxnBKXJvPA",
        "outputId": "08c1b7d0-a614-45c1-92ab-a4e9b7213292"
      },
      "execution_count": 3,
      "outputs": [
        {
          "output_type": "execute_result",
          "data": {
            "text/plain": [
              "Index(['Unnamed: 0', 'Alma', 'Cuenta', 'Refer.', 'Fec.sali', 'Artículo',\n",
              "       'Clav', 'Denominacion', 'Canti', 'P.V.P.', 'Dto.', 'Neto', 'Costo',\n",
              "       'Beneficio', '% Com', 'Comision', 'Fam.a', 'F.cierre', 'Tipo', 'Recep',\n",
              "       'P.V.P..1', 'TOTAL PVP', 'Opera', 'Nombre', 'Tipo.1', 'Famil',\n",
              "       'Bastidor'],\n",
              "      dtype='object')"
            ]
          },
          "metadata": {},
          "execution_count": 3
        }
      ]
    },
    {
      "cell_type": "code",
      "source": [
        "df_2015 = df_2015.rename(columns={\"Refer.\":\"Refer\", \"Fec.sali\": \"Fech_Salida\", \"Artículo\":\"Articulo\", \"P.V.P.\": \"PVP\", \"Dto.\":\"Dto\", \"% Com\":\"COM\", \"Fam.a\":\"Famil_apr\", \"F.cierre\":\"Fech_cierre\",\n",
        "                        \"P.V.P..1\": \"PVP1\", \"TOTAL PVP\":\"TOTAL_PVP\",\"Tipo.1\": \"Tipo_venta\" })"
      ],
      "metadata": {
        "id": "GKxLJ25CKHY_"
      },
      "execution_count": 4,
      "outputs": []
    },
    {
      "cell_type": "code",
      "source": [
        "df_2015 = df_2015[~df_2015.Cuenta.isnull()]\n",
        "df_2015 = df_2015[~df_2015.Fech_cierre.isnull()]\n",
        "df_2015 = df_2015[~df_2015.Canti.isnull()]"
      ],
      "metadata": {
        "id": "ryltWz7gKrzt"
      },
      "execution_count": 5,
      "outputs": []
    },
    {
      "cell_type": "code",
      "source": [
        "# lo primero que voy a hacer es cambiar de tipo de datos. \n",
        "df_2015[\"Alma\"] = df_2015[\"Alma\"].apply(str)\n",
        "df_2015[\"Cuenta\"] = df_2015[\"Cuenta\"].apply(str)\n",
        "df_2015[\"Refer\"] = df_2015[\"Refer\"].apply(str)\n",
        "df_2015[\"Fech_cierre\"] = pd.to_datetime(df_2015[\"Fech_cierre\"])\n",
        "df_2015[\"Articulo\"] = df_2015[\"Articulo\"].apply(str)\n",
        "df_2015[\"Clav\"] = df_2015[\"Clav\"].apply(str)\n",
        "df_2015[\"Denominacion\"] = df_2015[\"Denominacion\"].apply(str)\n",
        "df_2015[\"Canti\"] = df_2015[\"Canti\"].apply(float)\n",
        "df_2015[\"PVP\"] = df_2015[\"PVP\"].apply(float)\n",
        "df_2015[\"Dto\"] = df_2015[\"Dto\"].apply(float)\n",
        "df_2015[\"Neto\"] = df_2015[\"Neto\"].apply(float)\n",
        "df_2015[\"Costo\"] = df_2015[\"Costo\"].apply(float)\n",
        "df_2015[\"Beneficio\"] = df_2015[\"Beneficio\"].apply(float)\n",
        "df_2015[\"COM\"] = df_2015[\"COM\"].apply(float)\n",
        "df_2015[\"Comision\"] = df_2015[\"Comision\"].apply(float)\n",
        "df_2015[\"Famil_apr\"] = df_2015[\"COM\"].apply(str)\n",
        "df_2015[\"Tipo\"] = df_2015[\"Tipo\"].apply(str)\n",
        "df_2015[\"Recep\"] = df_2015[\"Recep\"].apply(str)\n",
        "df_2015[\"PVP1\"] = df_2015[\"PVP1\"].apply(float)\n",
        "df_2015[\"TOTAL_PVP\"] = df_2015[\"TOTAL_PVP\"].apply(float)\n",
        "df_2015[\"Opera\"] = df_2015[\"Opera\"].apply(str)\n",
        "df_2015[\"Nombre\"] = df_2015[\"Nombre\"].apply(str)\n",
        "df_2015[\"Tipo_venta\"] = df_2015[\"Tipo_venta\"].apply(str)\n",
        "df_2015[\"Famil\"] = df_2015[\"Famil\"].apply(str)\n",
        "df_2015[\"Bastidor\"] = df_2015[\"Bastidor\"].apply(str)"
      ],
      "metadata": {
        "id": "yuE96QD8JNQw"
      },
      "execution_count": 6,
      "outputs": []
    },
    {
      "cell_type": "code",
      "source": [
        "df_2015.info()"
      ],
      "metadata": {
        "colab": {
          "base_uri": "https://localhost:8080/"
        },
        "id": "fxvwAvG_KE4U",
        "outputId": "f031f754-e33a-4867-eb11-1c621e8fae44"
      },
      "execution_count": 7,
      "outputs": [
        {
          "output_type": "stream",
          "name": "stdout",
          "text": [
            "<class 'pandas.core.frame.DataFrame'>\n",
            "Int64Index: 165140 entries, 0 to 166522\n",
            "Data columns (total 27 columns):\n",
            " #   Column        Non-Null Count   Dtype         \n",
            "---  ------        --------------   -----         \n",
            " 0   Unnamed: 0    165140 non-null  int64         \n",
            " 1   Alma          165140 non-null  object        \n",
            " 2   Cuenta        165140 non-null  object        \n",
            " 3   Refer         165140 non-null  object        \n",
            " 4   Fech_Salida   165140 non-null  object        \n",
            " 5   Articulo      165140 non-null  object        \n",
            " 6   Clav          165140 non-null  object        \n",
            " 7   Denominacion  165140 non-null  object        \n",
            " 8   Canti         165140 non-null  float64       \n",
            " 9   PVP           165140 non-null  float64       \n",
            " 10  Dto           81251 non-null   float64       \n",
            " 11  Neto          165140 non-null  float64       \n",
            " 12  Costo         165140 non-null  float64       \n",
            " 13  Beneficio     165140 non-null  float64       \n",
            " 14  COM           165140 non-null  float64       \n",
            " 15  Comision      165140 non-null  float64       \n",
            " 16  Famil_apr     165140 non-null  object        \n",
            " 17  Fech_cierre   165140 non-null  datetime64[ns]\n",
            " 18  Tipo          165140 non-null  object        \n",
            " 19  Recep         165140 non-null  object        \n",
            " 20  PVP1          165140 non-null  float64       \n",
            " 21  TOTAL_PVP     165140 non-null  float64       \n",
            " 22  Opera         165140 non-null  object        \n",
            " 23  Nombre        165140 non-null  object        \n",
            " 24  Tipo_venta    165140 non-null  object        \n",
            " 25  Famil         165140 non-null  object        \n",
            " 26  Bastidor      165140 non-null  object        \n",
            "dtypes: datetime64[ns](1), float64(10), int64(1), object(15)\n",
            "memory usage: 35.3+ MB\n"
          ]
        }
      ]
    },
    {
      "cell_type": "code",
      "source": [
        "print(\"la fecha va desde {} a {}\".format(df_2015.Fech_cierre.min(), df_2015.Fech_cierre.max()))"
      ],
      "metadata": {
        "colab": {
          "base_uri": "https://localhost:8080/"
        },
        "id": "0Jq1oqB8LXpp",
        "outputId": "6992f523-3619-4d0f-befa-9ecf5a20c51a"
      },
      "execution_count": 8,
      "outputs": [
        {
          "output_type": "stream",
          "name": "stdout",
          "text": [
            "la fecha va desde 2015-01-04 00:00:00 a 2015-12-30 00:00:00\n"
          ]
        }
      ]
    },
    {
      "cell_type": "code",
      "source": [
        "df_2015.shape"
      ],
      "metadata": {
        "colab": {
          "base_uri": "https://localhost:8080/"
        },
        "id": "SHRsr80cLfHw",
        "outputId": "0f8d3d04-f34c-496a-f382-16877579a32f"
      },
      "execution_count": 9,
      "outputs": [
        {
          "output_type": "execute_result",
          "data": {
            "text/plain": [
              "(165140, 27)"
            ]
          },
          "metadata": {},
          "execution_count": 9
        }
      ]
    },
    {
      "cell_type": "code",
      "source": [
        "df_2016 = pd.read_csv(\"/content/drive/MyDrive/Colab Notebooks/total_recambios_2016.csv\", decimal=\",\")"
      ],
      "metadata": {
        "colab": {
          "base_uri": "https://localhost:8080/"
        },
        "id": "TvMfKyBQLkWK",
        "outputId": "518c2fdf-35f1-4c01-fed1-8e7b5821cdeb"
      },
      "execution_count": 10,
      "outputs": [
        {
          "output_type": "stream",
          "name": "stderr",
          "text": [
            "/usr/local/lib/python3.7/dist-packages/IPython/core/interactiveshell.py:2882: DtypeWarning: Columns (2) have mixed types.Specify dtype option on import or set low_memory=False.\n",
            "  exec(code_obj, self.user_global_ns, self.user_ns)\n"
          ]
        }
      ]
    },
    {
      "cell_type": "code",
      "source": [
        "df_2016.columns"
      ],
      "metadata": {
        "colab": {
          "base_uri": "https://localhost:8080/"
        },
        "id": "JpqZjXnPL7CH",
        "outputId": "3477e6ce-fd18-43ff-c9f1-5b227c0695b8"
      },
      "execution_count": 11,
      "outputs": [
        {
          "output_type": "execute_result",
          "data": {
            "text/plain": [
              "Index(['Unnamed: 0', 'Alma', 'Cuenta', 'Refer.', 'Fec.sali', 'Artículo',\n",
              "       'Clav', 'Denominacion', 'Canti', 'P.V.P.', 'Dto.', 'Neto', 'Costo',\n",
              "       'Beneficio', '% Com', 'Comision', 'Fam.a', 'F.cierre', 'Tipo', 'Recep',\n",
              "       'P.V.P..1', 'TOTAL PVP', 'Opera', 'Nombre', 'Tipo.1', 'Famil',\n",
              "       'Bastidor'],\n",
              "      dtype='object')"
            ]
          },
          "metadata": {},
          "execution_count": 11
        }
      ]
    },
    {
      "cell_type": "code",
      "source": [
        "df_2016 = df_2016.rename(columns={\"Refer.\":\"Refer\", \"Fec.sali\": \"Fech_Salida\", \"Artículo\":\"Articulo\", \"P.V.P.\": \"PVP\", \"Dto.\":\"Dto\", \"% Com\":\"COM\", \"Fam.a\":\"Famil_apr\", \"F.cierre\":\"Fech_cierre\",\n",
        "                        \"P.V.P..1\": \"PVP1\", \"TOTAL PVP\":\"TOTAL_PVP\",\"Tipo.1\": \"Tipo_venta\" })"
      ],
      "metadata": {
        "id": "BgozQJc6MK8n"
      },
      "execution_count": 12,
      "outputs": []
    },
    {
      "cell_type": "code",
      "source": [
        "df_2016 = df_2016[~df_2016.Cuenta.isnull()]\n",
        "df_2016 = df_2016[~df_2016.Fech_cierre.isnull()]\n",
        "df_2016 = df_2016[~df_2016.Canti.isnull()]"
      ],
      "metadata": {
        "id": "5kGckYWiUlnV"
      },
      "execution_count": 13,
      "outputs": []
    },
    {
      "cell_type": "code",
      "source": [
        "# lo primero que voy a hacer es cambiar de tipo de datos. \n",
        "df_2016[\"Alma\"] = df_2016[\"Alma\"].apply(str)\n",
        "df_2016[\"Cuenta\"] = df_2016[\"Cuenta\"].apply(str)\n",
        "df_2016[\"Refer\"] = df_2016[\"Refer\"].apply(str)\n",
        "df_2016[\"Fech_cierre\"] = pd.to_datetime(df_2016[\"Fech_cierre\"])\n",
        "df_2016[\"Articulo\"] = df_2016[\"Articulo\"].apply(str)\n",
        "df_2016[\"Clav\"] = df_2016[\"Clav\"].apply(str)\n",
        "df_2016[\"Denominacion\"] = df_2016[\"Denominacion\"].apply(str)\n",
        "df_2016[\"Canti\"] = df_2016[\"Canti\"].apply(float)\n",
        "df_2016[\"PVP\"] = df_2016[\"PVP\"].apply(float)\n",
        "df_2016[\"Dto\"] = df_2016[\"Dto\"].apply(float)\n",
        "df_2016[\"Neto\"] = df_2016[\"Neto\"].apply(float)\n",
        "df_2016[\"Costo\"] = df_2016[\"Costo\"].apply(float)\n",
        "df_2016[\"Beneficio\"] = df_2016[\"Beneficio\"].apply(float)\n",
        "df_2016[\"COM\"] = df_2016[\"COM\"].apply(float)\n",
        "df_2016[\"Comision\"] = df_2016[\"Comision\"].apply(float)\n",
        "df_2016[\"Famil_apr\"] = df_2016[\"COM\"].apply(str)\n",
        "df_2016[\"Tipo\"] = df_2016[\"Tipo\"].apply(str)\n",
        "df_2016[\"Recep\"] = df_2016[\"Recep\"].apply(str)\n",
        "df_2016[\"PVP1\"] = df_2016[\"PVP1\"].apply(float)\n",
        "df_2016[\"TOTAL_PVP\"] = df_2016[\"TOTAL_PVP\"].apply(float)\n",
        "df_2016[\"Opera\"] = df_2016[\"Opera\"].apply(str)\n",
        "df_2016[\"Nombre\"] = df_2016[\"Nombre\"].apply(str)\n",
        "df_2016[\"Tipo_venta\"] = df_2016[\"Tipo_venta\"].apply(str)\n",
        "df_2016[\"Famil\"] = df_2016[\"Famil\"].apply(str)\n",
        "df_2016[\"Bastidor\"] = df_2016[\"Bastidor\"].apply(str)"
      ],
      "metadata": {
        "id": "Rjy6dyCNMUGo"
      },
      "execution_count": 14,
      "outputs": []
    },
    {
      "cell_type": "code",
      "source": [
        "print(\"la fecha va desde {} a {}\".format(df_2016.Fech_cierre.min(), df_2016.Fech_cierre.max()))"
      ],
      "metadata": {
        "colab": {
          "base_uri": "https://localhost:8080/"
        },
        "id": "ybbnx17mMcIn",
        "outputId": "89d200d2-7fb8-4156-96a4-ce2188fd80a7"
      },
      "execution_count": 15,
      "outputs": [
        {
          "output_type": "stream",
          "name": "stdout",
          "text": [
            "la fecha va desde 2016-01-02 00:00:00 a 2016-12-30 00:00:00\n"
          ]
        }
      ]
    },
    {
      "cell_type": "code",
      "source": [
        "dataframes = [df_2015, df_2016]"
      ],
      "metadata": {
        "id": "ky-iquBuMki3"
      },
      "execution_count": 16,
      "outputs": []
    },
    {
      "cell_type": "code",
      "source": [
        "total_2015_2016 = pd.concat(dataframes)"
      ],
      "metadata": {
        "id": "seoAA9VjNDf8"
      },
      "execution_count": 17,
      "outputs": []
    },
    {
      "cell_type": "code",
      "source": [
        "total_2015_2016.shape"
      ],
      "metadata": {
        "colab": {
          "base_uri": "https://localhost:8080/"
        },
        "id": "gZhzgm6uNTt4",
        "outputId": "7b98a509-d5ff-4f54-9dd5-34b63e322432"
      },
      "execution_count": 18,
      "outputs": [
        {
          "output_type": "execute_result",
          "data": {
            "text/plain": [
              "(363329, 27)"
            ]
          },
          "metadata": {},
          "execution_count": 18
        }
      ]
    },
    {
      "cell_type": "code",
      "source": [
        "print(\"la fecha va desde {} a {}\".format(total_2015_2016.Fech_cierre.min(), total_2015_2016.Fech_cierre.max()))"
      ],
      "metadata": {
        "colab": {
          "base_uri": "https://localhost:8080/"
        },
        "id": "Bn1rTEyZNXoD",
        "outputId": "14c7e46c-3799-4d1e-ab06-795a659ee1df"
      },
      "execution_count": 19,
      "outputs": [
        {
          "output_type": "stream",
          "name": "stdout",
          "text": [
            "la fecha va desde 2015-01-04 00:00:00 a 2016-12-30 00:00:00\n"
          ]
        }
      ]
    },
    {
      "cell_type": "code",
      "source": [
        "total_2015_2016.isnull().sum()"
      ],
      "metadata": {
        "colab": {
          "base_uri": "https://localhost:8080/"
        },
        "id": "x7i_1YK2Nd6U",
        "outputId": "6233bf82-d994-4a1e-96fe-14a69659e834"
      },
      "execution_count": 20,
      "outputs": [
        {
          "output_type": "execute_result",
          "data": {
            "text/plain": [
              "Unnamed: 0           0\n",
              "Alma                 0\n",
              "Cuenta               0\n",
              "Refer                0\n",
              "Fech_Salida          2\n",
              "Articulo             0\n",
              "Clav                 0\n",
              "Denominacion         0\n",
              "Canti                0\n",
              "PVP                  0\n",
              "Dto             174829\n",
              "Neto                 0\n",
              "Costo                0\n",
              "Beneficio            0\n",
              "COM                  0\n",
              "Comision             0\n",
              "Famil_apr            0\n",
              "Fech_cierre          0\n",
              "Tipo                 0\n",
              "Recep                0\n",
              "PVP1                 0\n",
              "TOTAL_PVP            0\n",
              "Opera                0\n",
              "Nombre               0\n",
              "Tipo_venta           0\n",
              "Famil                0\n",
              "Bastidor             0\n",
              "dtype: int64"
            ]
          },
          "metadata": {},
          "execution_count": 20
        }
      ]
    },
    {
      "cell_type": "code",
      "source": [
        "total_2015_2016 = total_2015_2016[~total_2015_2016.Fech_cierre.isnull()]"
      ],
      "metadata": {
        "id": "VG2n1_UDNsTr"
      },
      "execution_count": 21,
      "outputs": []
    },
    {
      "cell_type": "code",
      "source": [
        "total_2015_2016.isnull().sum()"
      ],
      "metadata": {
        "colab": {
          "base_uri": "https://localhost:8080/"
        },
        "id": "x_WysX3UOPMR",
        "outputId": "130abf75-928c-41df-c57a-d7272a9eb221"
      },
      "execution_count": 22,
      "outputs": [
        {
          "output_type": "execute_result",
          "data": {
            "text/plain": [
              "Unnamed: 0           0\n",
              "Alma                 0\n",
              "Cuenta               0\n",
              "Refer                0\n",
              "Fech_Salida          2\n",
              "Articulo             0\n",
              "Clav                 0\n",
              "Denominacion         0\n",
              "Canti                0\n",
              "PVP                  0\n",
              "Dto             174829\n",
              "Neto                 0\n",
              "Costo                0\n",
              "Beneficio            0\n",
              "COM                  0\n",
              "Comision             0\n",
              "Famil_apr            0\n",
              "Fech_cierre          0\n",
              "Tipo                 0\n",
              "Recep                0\n",
              "PVP1                 0\n",
              "TOTAL_PVP            0\n",
              "Opera                0\n",
              "Nombre               0\n",
              "Tipo_venta           0\n",
              "Famil                0\n",
              "Bastidor             0\n",
              "dtype: int64"
            ]
          },
          "metadata": {},
          "execution_count": 22
        }
      ]
    },
    {
      "cell_type": "code",
      "source": [
        "total_2015_2016.shape"
      ],
      "metadata": {
        "colab": {
          "base_uri": "https://localhost:8080/"
        },
        "id": "7LSpj4a3OZvH",
        "outputId": "fff95eb5-d895-4cb8-edd6-83799dce2ce4"
      },
      "execution_count": 23,
      "outputs": [
        {
          "output_type": "execute_result",
          "data": {
            "text/plain": [
              "(363329, 27)"
            ]
          },
          "metadata": {},
          "execution_count": 23
        }
      ]
    },
    {
      "cell_type": "code",
      "source": [
        "df_2017 = pd.read_csv(\"/content/drive/MyDrive/Colab Notebooks/total_recambios_2017.csv\", decimal=\",\")"
      ],
      "metadata": {
        "id": "Ewh0LKzsOl8V"
      },
      "execution_count": 24,
      "outputs": []
    },
    {
      "cell_type": "code",
      "source": [
        "df_2017 = df_2017.rename(columns={\"Refer.\":\"Refer\", \"Fec.sali\": \"Fech_Salida\", \"Artículo\":\"Articulo\", \"P.V.P.\": \"PVP\", \"Dto.\":\"Dto\", \"% Com\":\"COM\", \"Fam.a\":\"Famil_apr\", \"F.cierre\":\"Fech_cierre\",\n",
        "                        \"P.V.P..1\": \"PVP1\", \"TOTAL PVP\":\"TOTAL_PVP\",\"Tipo.1\": \"Tipo_venta\" })"
      ],
      "metadata": {
        "id": "N7BbsCJkOv7o"
      },
      "execution_count": 25,
      "outputs": []
    },
    {
      "cell_type": "code",
      "source": [
        "df_2017.shape"
      ],
      "metadata": {
        "colab": {
          "base_uri": "https://localhost:8080/"
        },
        "id": "JFYPc2oZO4x0",
        "outputId": "870a95f6-6485-4879-de50-a75aa4000f69"
      },
      "execution_count": 26,
      "outputs": [
        {
          "output_type": "execute_result",
          "data": {
            "text/plain": [
              "(229351, 27)"
            ]
          },
          "metadata": {},
          "execution_count": 26
        }
      ]
    },
    {
      "cell_type": "code",
      "source": [
        "df_2017 = df_2017[~df_2017.Cuenta.isnull()]\n",
        "df_2017 = df_2017[~df_2017.Fech_cierre.isnull()]\n",
        "df_2017 = df_2017[~df_2017.Canti.isnull()]"
      ],
      "metadata": {
        "id": "I6lrg_anUt18"
      },
      "execution_count": 27,
      "outputs": []
    },
    {
      "cell_type": "code",
      "source": [
        "# lo primero que voy a hacer es cambiar de tipo de datos. \n",
        "df_2017[\"Alma\"] = df_2017[\"Alma\"].apply(str)\n",
        "df_2017[\"Cuenta\"] = df_2017[\"Cuenta\"].apply(str)\n",
        "df_2017[\"Refer\"] = df_2017[\"Refer\"].apply(str)\n",
        "df_2017[\"Fech_cierre\"] = pd.to_datetime(df_2017[\"Fech_cierre\"])\n",
        "df_2017[\"Articulo\"] = df_2017[\"Articulo\"].apply(str)\n",
        "df_2017[\"Clav\"] = df_2017[\"Clav\"].apply(str)\n",
        "df_2017[\"Denominacion\"] = df_2017[\"Denominacion\"].apply(str)\n",
        "df_2017[\"Canti\"] = df_2017[\"Canti\"].apply(float)\n",
        "df_2017[\"PVP\"] = df_2017[\"PVP\"].apply(float)\n",
        "df_2017[\"Dto\"] = df_2017[\"Dto\"].apply(float)\n",
        "df_2017[\"Neto\"] = df_2017[\"Neto\"].apply(float)\n",
        "df_2017[\"Costo\"] = df_2017[\"Costo\"].apply(float)\n",
        "df_2017[\"Beneficio\"] = df_2017[\"Beneficio\"].apply(float)\n",
        "df_2017[\"COM\"] = df_2017[\"COM\"].apply(float)\n",
        "df_2017[\"Comision\"] = df_2017[\"Comision\"].apply(float)\n",
        "df_2017[\"Famil_apr\"] = df_2017[\"COM\"].apply(str)\n",
        "df_2017[\"Tipo\"] = df_2017[\"Tipo\"].apply(str)\n",
        "df_2017[\"Recep\"] = df_2017[\"Recep\"].apply(str)\n",
        "df_2017[\"PVP1\"] = df_2017[\"PVP1\"].apply(float)\n",
        "df_2017[\"TOTAL_PVP\"] = df_2017[\"TOTAL_PVP\"].apply(float)\n",
        "df_2017[\"Opera\"] = df_2017[\"Opera\"].apply(str)\n",
        "df_2017[\"Nombre\"] = df_2017[\"Nombre\"].apply(str)\n",
        "df_2017[\"Tipo_venta\"] = df_2017[\"Tipo_venta\"].apply(str)\n",
        "df_2017[\"Famil\"] = df_2017[\"Famil\"].apply(str)\n",
        "df_2017[\"Bastidor\"] = df_2017[\"Bastidor\"].apply(str)"
      ],
      "metadata": {
        "id": "DxA4ruHIO60m"
      },
      "execution_count": 28,
      "outputs": []
    },
    {
      "cell_type": "code",
      "source": [
        "print(\"la fecha va desde {} a {}\".format(df_2017.Fech_cierre.min(), df_2017.Fech_cierre.max()))"
      ],
      "metadata": {
        "colab": {
          "base_uri": "https://localhost:8080/"
        },
        "id": "K6dInxojPEko",
        "outputId": "6a33c997-1372-4e08-e764-1d5658960706"
      },
      "execution_count": 29,
      "outputs": [
        {
          "output_type": "stream",
          "name": "stdout",
          "text": [
            "la fecha va desde 2017-01-02 00:00:00 a 2017-12-29 00:00:00\n"
          ]
        }
      ]
    },
    {
      "cell_type": "code",
      "source": [
        "dataframes = [df_2015, df_2016, df_2017]"
      ],
      "metadata": {
        "id": "4k-GSeo7PP3b"
      },
      "execution_count": 30,
      "outputs": []
    },
    {
      "cell_type": "code",
      "source": [
        "total_2015_2016_2017 = pd.concat(dataframes)"
      ],
      "metadata": {
        "id": "NE9YsAn5PbWL"
      },
      "execution_count": 31,
      "outputs": []
    },
    {
      "cell_type": "code",
      "source": [
        "total_2015_2016_2017.shape"
      ],
      "metadata": {
        "colab": {
          "base_uri": "https://localhost:8080/"
        },
        "id": "2Q9uVinHPkAn",
        "outputId": "0119c936-a323-4feb-9d06-80b4093442de"
      },
      "execution_count": 32,
      "outputs": [
        {
          "output_type": "execute_result",
          "data": {
            "text/plain": [
              "(590079, 27)"
            ]
          },
          "metadata": {},
          "execution_count": 32
        }
      ]
    },
    {
      "cell_type": "code",
      "source": [
        "total_2015_2016_2017 = total_2015_2016_2017[~total_2015_2016_2017.Fech_cierre.isnull()]\n"
      ],
      "metadata": {
        "id": "lYL-qdwFPmrH"
      },
      "execution_count": 33,
      "outputs": []
    },
    {
      "cell_type": "code",
      "source": [
        "total_2015_2016_2017.isnull().sum()"
      ],
      "metadata": {
        "colab": {
          "base_uri": "https://localhost:8080/"
        },
        "id": "f2hvKccGPyST",
        "outputId": "8bb02a2e-c8ce-4695-ba2b-5dc4a649fde7"
      },
      "execution_count": 34,
      "outputs": [
        {
          "output_type": "execute_result",
          "data": {
            "text/plain": [
              "Unnamed: 0           0\n",
              "Alma                 0\n",
              "Cuenta               0\n",
              "Refer                0\n",
              "Fech_Salida          2\n",
              "Articulo             0\n",
              "Clav                 0\n",
              "Denominacion         0\n",
              "Canti                0\n",
              "PVP                  0\n",
              "Dto             273694\n",
              "Neto                 0\n",
              "Costo                0\n",
              "Beneficio            0\n",
              "COM                  0\n",
              "Comision             0\n",
              "Famil_apr            0\n",
              "Fech_cierre          0\n",
              "Tipo                 0\n",
              "Recep                0\n",
              "PVP1                 0\n",
              "TOTAL_PVP            0\n",
              "Opera                0\n",
              "Nombre               0\n",
              "Tipo_venta           0\n",
              "Famil                0\n",
              "Bastidor             0\n",
              "dtype: int64"
            ]
          },
          "metadata": {},
          "execution_count": 34
        }
      ]
    },
    {
      "cell_type": "code",
      "source": [
        "print(\"la fecha va desde {} a {}\".format(total_2015_2016_2017.Fech_cierre.min(), total_2015_2016_2017.Fech_cierre.max()))"
      ],
      "metadata": {
        "colab": {
          "base_uri": "https://localhost:8080/"
        },
        "id": "Uv391itCP2Nq",
        "outputId": "41bde088-e3a0-4ffc-f480-34cf07fee28d"
      },
      "execution_count": 35,
      "outputs": [
        {
          "output_type": "stream",
          "name": "stdout",
          "text": [
            "la fecha va desde 2015-01-04 00:00:00 a 2017-12-29 00:00:00\n"
          ]
        }
      ]
    },
    {
      "cell_type": "code",
      "source": [
        "total_2015_2016_2017.shape"
      ],
      "metadata": {
        "colab": {
          "base_uri": "https://localhost:8080/"
        },
        "id": "yUirEYYBQHSc",
        "outputId": "12a52a0e-2121-4edd-df20-59375b297b40"
      },
      "execution_count": 36,
      "outputs": [
        {
          "output_type": "execute_result",
          "data": {
            "text/plain": [
              "(590079, 27)"
            ]
          },
          "metadata": {},
          "execution_count": 36
        }
      ]
    },
    {
      "cell_type": "code",
      "source": [
        "df_2018 = pd.read_csv(\"/content/drive/MyDrive/Colab Notebooks/total_recambios_2018.csv\", decimal=\",\")"
      ],
      "metadata": {
        "id": "KRPox8fRQn6o"
      },
      "execution_count": 37,
      "outputs": []
    },
    {
      "cell_type": "code",
      "source": [
        "df_2018.shape"
      ],
      "metadata": {
        "colab": {
          "base_uri": "https://localhost:8080/"
        },
        "id": "OexhtLH9Rb-n",
        "outputId": "c619a011-9623-4cf3-ecb7-3f0fb4754d89"
      },
      "execution_count": 38,
      "outputs": [
        {
          "output_type": "execute_result",
          "data": {
            "text/plain": [
              "(234023, 27)"
            ]
          },
          "metadata": {},
          "execution_count": 38
        }
      ]
    },
    {
      "cell_type": "code",
      "source": [
        "df_2018 = df_2018.rename(columns={\"Refer.\":\"Refer\", \"Fec.sali\": \"Fech_Salida\", \"Artículo\":\"Articulo\", \"P.V.P.\": \"PVP\", \"Dto.\":\"Dto\", \"% Com\":\"COM\", \"Fam.a\":\"Famil_apr\", \"F.cierre\":\"Fech_cierre\",\n",
        "                        \"P.V.P..1\": \"PVP1\", \"TOTAL PVP\":\"TOTAL_PVP\",\"Tipo.1\": \"Tipo_venta\" })"
      ],
      "metadata": {
        "id": "AxDOiPY9RtvD"
      },
      "execution_count": 39,
      "outputs": []
    },
    {
      "cell_type": "code",
      "source": [
        "df_2018 = df_2018[~df_2018.Cuenta.isnull()]\n",
        "df_2018 = df_2018[~df_2018.Fech_cierre.isnull()]\n",
        "df_2018 = df_2018[~df_2018.Canti.isnull()]"
      ],
      "metadata": {
        "id": "Psc-yGrTSFgy"
      },
      "execution_count": 40,
      "outputs": []
    },
    {
      "cell_type": "code",
      "source": [
        "# lo primero que voy a hacer es cambiar de tipo de datos. \n",
        "df_2018[\"Alma\"] = df_2018[\"Alma\"].apply(str)\n",
        "df_2018[\"Cuenta\"] = df_2018[\"Cuenta\"].apply(str)\n",
        "df_2018[\"Refer\"] = df_2018[\"Refer\"].apply(str)\n",
        "df_2018[\"Fech_cierre\"] = pd.to_datetime(df_2018[\"Fech_cierre\"])\n",
        "df_2018[\"Articulo\"] = df_2018[\"Articulo\"].apply(str)\n",
        "df_2018[\"Clav\"] = df_2018[\"Clav\"].apply(str)\n",
        "df_2018[\"Denominacion\"] = df_2018[\"Denominacion\"].apply(str)\n",
        "df_2018[\"Canti\"] = df_2018[\"Canti\"].apply(float)\n",
        "df_2018[\"PVP\"] = df_2018[\"PVP\"].apply(float)\n",
        "df_2018[\"Dto\"] = df_2018[\"Dto\"].apply(float)\n",
        "df_2018[\"Neto\"] = df_2018[\"Neto\"].apply(float)\n",
        "df_2018[\"Costo\"] = df_2018[\"Costo\"].apply(float)\n",
        "df_2018[\"Beneficio\"] = df_2018[\"Beneficio\"].apply(float)\n",
        "df_2018[\"COM\"] = df_2018[\"COM\"].apply(float)\n",
        "df_2018[\"Comision\"] = df_2018[\"Comision\"].apply(float)\n",
        "df_2018[\"Famil_apr\"] = df_2018[\"COM\"].apply(str)\n",
        "df_2018[\"Tipo\"] = df_2018[\"Tipo\"].apply(str)\n",
        "df_2018[\"Recep\"] = df_2018[\"Recep\"].apply(str)\n",
        "df_2018[\"PVP1\"] = df_2018[\"PVP1\"].apply(float)\n",
        "df_2018[\"TOTAL_PVP\"] = df_2018[\"TOTAL_PVP\"].apply(float)\n",
        "df_2018[\"Opera\"] = df_2018[\"Opera\"].apply(str)\n",
        "df_2018[\"Nombre\"] = df_2018[\"Nombre\"].apply(str)\n",
        "df_2018[\"Tipo_venta\"] = df_2018[\"Tipo_venta\"].apply(str)\n",
        "df_2018[\"Famil\"] = df_2018[\"Famil\"].apply(str)\n",
        "df_2018[\"Bastidor\"] = df_2018[\"Bastidor\"].apply(str)"
      ],
      "metadata": {
        "colab": {
          "base_uri": "https://localhost:8080/"
        },
        "id": "ysoV3iolR19A",
        "outputId": "0606a39a-6e85-4854-dc26-1d4c6781c24f"
      },
      "execution_count": 41,
      "outputs": [
        {
          "output_type": "stream",
          "name": "stderr",
          "text": [
            "/usr/local/lib/python3.7/dist-packages/ipykernel_launcher.py:2: SettingWithCopyWarning: \n",
            "A value is trying to be set on a copy of a slice from a DataFrame.\n",
            "Try using .loc[row_indexer,col_indexer] = value instead\n",
            "\n",
            "See the caveats in the documentation: https://pandas.pydata.org/pandas-docs/stable/user_guide/indexing.html#returning-a-view-versus-a-copy\n",
            "  \n"
          ]
        }
      ]
    },
    {
      "cell_type": "code",
      "source": [
        "df_2018.isnull().sum()"
      ],
      "metadata": {
        "colab": {
          "base_uri": "https://localhost:8080/"
        },
        "id": "JTbE7loCR-OF",
        "outputId": "d89a4a1b-1b4a-4692-93dd-8660a6604c08"
      },
      "execution_count": 42,
      "outputs": [
        {
          "output_type": "execute_result",
          "data": {
            "text/plain": [
              "Unnamed: 0          0\n",
              "Alma                0\n",
              "Cuenta              0\n",
              "Refer               0\n",
              "Fech_Salida         0\n",
              "Articulo            0\n",
              "Clav                0\n",
              "Denominacion        0\n",
              "Canti               0\n",
              "PVP                 0\n",
              "Dto             80003\n",
              "Neto                0\n",
              "Costo               0\n",
              "Beneficio           0\n",
              "COM                 0\n",
              "Comision            0\n",
              "Famil_apr           0\n",
              "Fech_cierre         0\n",
              "Tipo                0\n",
              "Recep               0\n",
              "PVP1                0\n",
              "TOTAL_PVP           0\n",
              "Opera               0\n",
              "Nombre              0\n",
              "Tipo_venta          0\n",
              "Famil               0\n",
              "Bastidor            0\n",
              "dtype: int64"
            ]
          },
          "metadata": {},
          "execution_count": 42
        }
      ]
    },
    {
      "cell_type": "code",
      "source": [
        "print(\"la fecha va desde {} a {}\".format(df_2018.Fech_cierre.min(), df_2018.Fech_cierre.max()))"
      ],
      "metadata": {
        "colab": {
          "base_uri": "https://localhost:8080/"
        },
        "id": "BGnR9lXBTCUD",
        "outputId": "459a245e-0e36-4b5a-8da2-a30fd13c5ce5"
      },
      "execution_count": 43,
      "outputs": [
        {
          "output_type": "stream",
          "name": "stdout",
          "text": [
            "la fecha va desde 2018-01-02 00:00:00 a 2018-12-28 00:00:00\n"
          ]
        }
      ]
    },
    {
      "cell_type": "code",
      "source": [
        "dataframes = [df_2015, df_2016, df_2017, df_2018]"
      ],
      "metadata": {
        "id": "AZ6bYDHcTPTJ"
      },
      "execution_count": 44,
      "outputs": []
    },
    {
      "cell_type": "code",
      "source": [
        "total_2015_2016_2017_2018 = pd.concat(dataframes)"
      ],
      "metadata": {
        "id": "halYbnvVTprt"
      },
      "execution_count": 45,
      "outputs": []
    },
    {
      "cell_type": "code",
      "source": [
        "total_2015_2016_2017_2018.shape"
      ],
      "metadata": {
        "colab": {
          "base_uri": "https://localhost:8080/"
        },
        "id": "wOe_ZauOTwKN",
        "outputId": "622759e7-d1d1-425b-efed-7caef06f0982"
      },
      "execution_count": 46,
      "outputs": [
        {
          "output_type": "execute_result",
          "data": {
            "text/plain": [
              "(818583, 27)"
            ]
          },
          "metadata": {},
          "execution_count": 46
        }
      ]
    },
    {
      "cell_type": "code",
      "source": [
        "total_2015_2016_2017_2018.isnull().sum()"
      ],
      "metadata": {
        "colab": {
          "base_uri": "https://localhost:8080/"
        },
        "id": "NhN0EUWlTzNr",
        "outputId": "66b93aec-d576-4d55-af71-4b8a7067145c"
      },
      "execution_count": 47,
      "outputs": [
        {
          "output_type": "execute_result",
          "data": {
            "text/plain": [
              "Unnamed: 0           0\n",
              "Alma                 0\n",
              "Cuenta               0\n",
              "Refer                0\n",
              "Fech_Salida          2\n",
              "Articulo             0\n",
              "Clav                 0\n",
              "Denominacion         0\n",
              "Canti                0\n",
              "PVP                  0\n",
              "Dto             353697\n",
              "Neto                 0\n",
              "Costo                0\n",
              "Beneficio            0\n",
              "COM                  0\n",
              "Comision             0\n",
              "Famil_apr            0\n",
              "Fech_cierre          0\n",
              "Tipo                 0\n",
              "Recep                0\n",
              "PVP1                 0\n",
              "TOTAL_PVP            0\n",
              "Opera                0\n",
              "Nombre               0\n",
              "Tipo_venta           0\n",
              "Famil                0\n",
              "Bastidor             0\n",
              "dtype: int64"
            ]
          },
          "metadata": {},
          "execution_count": 47
        }
      ]
    },
    {
      "cell_type": "code",
      "source": [
        "df_2019 = pd.read_csv(\"/content/drive/MyDrive/Colab Notebooks/total_recambios_2019.csv\", decimal=\",\")"
      ],
      "metadata": {
        "colab": {
          "base_uri": "https://localhost:8080/"
        },
        "id": "B2-LuhZ9T3CW",
        "outputId": "ca80722c-8bd4-4c61-b1f5-3228294fa143"
      },
      "execution_count": 48,
      "outputs": [
        {
          "output_type": "stream",
          "name": "stderr",
          "text": [
            "/usr/local/lib/python3.7/dist-packages/IPython/core/interactiveshell.py:2882: DtypeWarning: Columns (2) have mixed types.Specify dtype option on import or set low_memory=False.\n",
            "  exec(code_obj, self.user_global_ns, self.user_ns)\n"
          ]
        }
      ]
    },
    {
      "cell_type": "code",
      "source": [
        "df_2019.shape"
      ],
      "metadata": {
        "colab": {
          "base_uri": "https://localhost:8080/"
        },
        "id": "MHxcfvSCViTE",
        "outputId": "44cce6ce-1fa1-43ba-9142-e8907b882561"
      },
      "execution_count": 49,
      "outputs": [
        {
          "output_type": "execute_result",
          "data": {
            "text/plain": [
              "(232806, 27)"
            ]
          },
          "metadata": {},
          "execution_count": 49
        }
      ]
    },
    {
      "cell_type": "code",
      "source": [
        "df_2019 = df_2019.rename(columns={\"Refer.\":\"Refer\", \"Fec.sali\": \"Fech_Salida\", \"Artículo\":\"Articulo\", \"P.V.P.\": \"PVP\", \"Dto.\":\"Dto\", \"% Com\":\"COM\", \"Fam.a\":\"Famil_apr\", \"F.cierre\":\"Fech_cierre\",\n",
        "                        \"P.V.P..1\": \"PVP1\", \"TOTAL PVP\":\"TOTAL_PVP\",\"Tipo.1\": \"Tipo_venta\" })"
      ],
      "metadata": {
        "id": "PEAGSGzFVmy8"
      },
      "execution_count": 50,
      "outputs": []
    },
    {
      "cell_type": "code",
      "source": [
        "df_2019 = df_2019[~df_2019.Cuenta.isnull()]\n",
        "df_2019 = df_2019[~df_2019.Fech_cierre.isnull()]\n",
        "df_2019 = df_2019[~df_2019.Canti.isnull()]"
      ],
      "metadata": {
        "id": "CcfUezipVsXF"
      },
      "execution_count": 51,
      "outputs": []
    },
    {
      "cell_type": "code",
      "source": [
        "# lo primero que voy a hacer es cambiar de tipo de datos. \n",
        "df_2019[\"Alma\"] = df_2019[\"Alma\"].apply(str)\n",
        "df_2019[\"Cuenta\"] = df_2019[\"Cuenta\"].apply(str)\n",
        "df_2019[\"Refer\"] = df_2019[\"Refer\"].apply(str)\n",
        "df_2019[\"Fech_cierre\"] = pd.to_datetime(df_2019[\"Fech_cierre\"])\n",
        "df_2019[\"Articulo\"] = df_2019[\"Articulo\"].apply(str)\n",
        "df_2019[\"Clav\"] = df_2019[\"Clav\"].apply(str)\n",
        "df_2019[\"Denominacion\"] = df_2019[\"Denominacion\"].apply(str)\n",
        "df_2019[\"Canti\"] = df_2019[\"Canti\"].apply(float)\n",
        "df_2019[\"PVP\"] = df_2019[\"PVP\"].apply(float)\n",
        "df_2019[\"Dto\"] = df_2019[\"Dto\"].apply(float)\n",
        "df_2019[\"Neto\"] = df_2019[\"Neto\"].apply(float)\n",
        "df_2019[\"Costo\"] = df_2019[\"Costo\"].apply(float)\n",
        "df_2019[\"Beneficio\"] = df_2019[\"Beneficio\"].apply(float)\n",
        "df_2019[\"COM\"] = df_2019[\"COM\"].apply(float)\n",
        "df_2019[\"Comision\"] = df_2019[\"Comision\"].apply(float)\n",
        "df_2019[\"Famil_apr\"] = df_2019[\"COM\"].apply(str)\n",
        "df_2019[\"Tipo\"] = df_2019[\"Tipo\"].apply(str)\n",
        "df_2019[\"Recep\"] = df_2019[\"Recep\"].apply(str)\n",
        "df_2019[\"PVP1\"] = df_2019[\"PVP1\"].apply(float)\n",
        "df_2019[\"TOTAL_PVP\"] = df_2019[\"TOTAL_PVP\"].apply(float)\n",
        "df_2019[\"Opera\"] = df_2019[\"Opera\"].apply(str)\n",
        "df_2019[\"Nombre\"] = df_2019[\"Nombre\"].apply(str)\n",
        "df_2019[\"Tipo_venta\"] = df_2019[\"Tipo_venta\"].apply(str)\n",
        "df_2019[\"Famil\"] = df_2019[\"Famil\"].apply(str)\n",
        "df_2019[\"Bastidor\"] = df_2019[\"Bastidor\"].apply(str)"
      ],
      "metadata": {
        "colab": {
          "base_uri": "https://localhost:8080/"
        },
        "id": "isvJv1pvVxP9",
        "outputId": "9727d145-b955-47bc-fc09-337252148ed4"
      },
      "execution_count": 52,
      "outputs": [
        {
          "output_type": "stream",
          "name": "stderr",
          "text": [
            "/usr/local/lib/python3.7/dist-packages/ipykernel_launcher.py:2: SettingWithCopyWarning: \n",
            "A value is trying to be set on a copy of a slice from a DataFrame.\n",
            "Try using .loc[row_indexer,col_indexer] = value instead\n",
            "\n",
            "See the caveats in the documentation: https://pandas.pydata.org/pandas-docs/stable/user_guide/indexing.html#returning-a-view-versus-a-copy\n",
            "  \n",
            "/usr/local/lib/python3.7/dist-packages/ipykernel_launcher.py:3: SettingWithCopyWarning: \n",
            "A value is trying to be set on a copy of a slice from a DataFrame.\n",
            "Try using .loc[row_indexer,col_indexer] = value instead\n",
            "\n",
            "See the caveats in the documentation: https://pandas.pydata.org/pandas-docs/stable/user_guide/indexing.html#returning-a-view-versus-a-copy\n",
            "  This is separate from the ipykernel package so we can avoid doing imports until\n",
            "/usr/local/lib/python3.7/dist-packages/ipykernel_launcher.py:4: SettingWithCopyWarning: \n",
            "A value is trying to be set on a copy of a slice from a DataFrame.\n",
            "Try using .loc[row_indexer,col_indexer] = value instead\n",
            "\n",
            "See the caveats in the documentation: https://pandas.pydata.org/pandas-docs/stable/user_guide/indexing.html#returning-a-view-versus-a-copy\n",
            "  after removing the cwd from sys.path.\n",
            "/usr/local/lib/python3.7/dist-packages/ipykernel_launcher.py:5: SettingWithCopyWarning: \n",
            "A value is trying to be set on a copy of a slice from a DataFrame.\n",
            "Try using .loc[row_indexer,col_indexer] = value instead\n",
            "\n",
            "See the caveats in the documentation: https://pandas.pydata.org/pandas-docs/stable/user_guide/indexing.html#returning-a-view-versus-a-copy\n",
            "  \"\"\"\n"
          ]
        }
      ]
    },
    {
      "cell_type": "code",
      "source": [
        "print(\"la fecha va desde {} a {}\".format(df_2019.Fech_cierre.min(), df_2019.Fech_cierre.max()))"
      ],
      "metadata": {
        "colab": {
          "base_uri": "https://localhost:8080/"
        },
        "id": "el9VqQLCV0Pj",
        "outputId": "11b33188-2f87-4cb1-a078-333e4873bafd"
      },
      "execution_count": 53,
      "outputs": [
        {
          "output_type": "stream",
          "name": "stdout",
          "text": [
            "la fecha va desde 2019-01-02 00:00:00 a 2019-12-30 00:00:00\n"
          ]
        }
      ]
    },
    {
      "cell_type": "code",
      "source": [
        "dataframes = [df_2015, df_2016, df_2017, df_2018, df_2019]"
      ],
      "metadata": {
        "id": "Bynw-YIgV7j2"
      },
      "execution_count": 55,
      "outputs": []
    },
    {
      "cell_type": "code",
      "source": [
        "total_2015_2016_2017_2018_2019 = pd.concat(dataframes)"
      ],
      "metadata": {
        "id": "Ps6JVURGWFqY"
      },
      "execution_count": 56,
      "outputs": []
    },
    {
      "cell_type": "code",
      "source": [
        "total_2015_2016_2017_2018_2019.shape"
      ],
      "metadata": {
        "colab": {
          "base_uri": "https://localhost:8080/"
        },
        "id": "JnyGNA5BXCpI",
        "outputId": "cdcc5622-74d6-4ccc-e22a-8c040e002ceb"
      },
      "execution_count": 58,
      "outputs": [
        {
          "output_type": "execute_result",
          "data": {
            "text/plain": [
              "(1041797, 27)"
            ]
          },
          "metadata": {},
          "execution_count": 58
        }
      ]
    },
    {
      "cell_type": "code",
      "source": [
        "print(\"la fecha va desde {} a {}\".format(total_2015_2016_2017_2018_2019.Fech_cierre.min(), total_2015_2016_2017_2018_2019.Fech_cierre.max()))"
      ],
      "metadata": {
        "colab": {
          "base_uri": "https://localhost:8080/"
        },
        "id": "FoTMd9OFXE5_",
        "outputId": "9988508f-413b-4127-c1de-57f1954816a7"
      },
      "execution_count": 59,
      "outputs": [
        {
          "output_type": "stream",
          "name": "stdout",
          "text": [
            "la fecha va desde 2015-01-04 00:00:00 a 2019-12-30 00:00:00\n"
          ]
        }
      ]
    },
    {
      "cell_type": "code",
      "source": [
        "total_2015_2016_2017_2018_2019.isnull().sum()"
      ],
      "metadata": {
        "colab": {
          "base_uri": "https://localhost:8080/"
        },
        "id": "x4OtYFDQXQhh",
        "outputId": "a56c2fff-1c6e-4ba7-e6cd-3931697df965"
      },
      "execution_count": 60,
      "outputs": [
        {
          "output_type": "execute_result",
          "data": {
            "text/plain": [
              "Unnamed: 0           0\n",
              "Alma                 0\n",
              "Cuenta               0\n",
              "Refer                0\n",
              "Fech_Salida          2\n",
              "Articulo             0\n",
              "Clav                 0\n",
              "Denominacion         0\n",
              "Canti                0\n",
              "PVP                  0\n",
              "Dto             424522\n",
              "Neto                 0\n",
              "Costo                0\n",
              "Beneficio            0\n",
              "COM                  0\n",
              "Comision             0\n",
              "Famil_apr            0\n",
              "Fech_cierre          0\n",
              "Tipo                 0\n",
              "Recep                0\n",
              "PVP1                 0\n",
              "TOTAL_PVP            0\n",
              "Opera                0\n",
              "Nombre               0\n",
              "Tipo_venta           0\n",
              "Famil                0\n",
              "Bastidor             0\n",
              "dtype: int64"
            ]
          },
          "metadata": {},
          "execution_count": 60
        }
      ]
    },
    {
      "cell_type": "code",
      "source": [
        "df_2020 = pd.read_csv(\"/content/drive/MyDrive/Colab Notebooks/total_recambios_2020.csv\", decimal=\",\")"
      ],
      "metadata": {
        "id": "jbDsBnXrXa7a"
      },
      "execution_count": 61,
      "outputs": []
    },
    {
      "cell_type": "code",
      "source": [
        "df_2020.shape"
      ],
      "metadata": {
        "colab": {
          "base_uri": "https://localhost:8080/"
        },
        "id": "HYMLp5F_X4vz",
        "outputId": "b88653fa-03a0-4261-b7dd-d39d045d79f8"
      },
      "execution_count": 62,
      "outputs": [
        {
          "output_type": "execute_result",
          "data": {
            "text/plain": [
              "(169121, 27)"
            ]
          },
          "metadata": {},
          "execution_count": 62
        }
      ]
    },
    {
      "cell_type": "code",
      "source": [
        "df_2020 = df_2020.rename(columns={\"Refer.\":\"Refer\", \"Fec.sali\": \"Fech_Salida\", \"Artículo\":\"Articulo\", \"P.V.P.\": \"PVP\", \"Dto.\":\"Dto\", \"% Com\":\"COM\", \"Fam.a\":\"Famil_apr\", \"F.cierre\":\"Fech_cierre\",\n",
        "                        \"P.V.P..1\": \"PVP1\", \"TOTAL PVP\":\"TOTAL_PVP\",\"Tipo.1\": \"Tipo_venta\" })"
      ],
      "metadata": {
        "id": "L3YVfBAXX6Z3"
      },
      "execution_count": 63,
      "outputs": []
    },
    {
      "cell_type": "code",
      "source": [
        "df_2020 = df_2020[~df_2020.Cuenta.isnull()]\n",
        "df_2020 = df_2020[~df_2020.Fech_cierre.isnull()]\n",
        "df_2020 = df_2020[~df_2020.Canti.isnull()]"
      ],
      "metadata": {
        "id": "SUbHhbIdYFnF"
      },
      "execution_count": 64,
      "outputs": []
    },
    {
      "cell_type": "code",
      "source": [
        "# lo primero que voy a hacer es cambiar de tipo de datos. \n",
        "df_2020[\"Alma\"] = df_2020[\"Alma\"].apply(str)\n",
        "df_2020[\"Cuenta\"] = df_2020[\"Cuenta\"].apply(str)\n",
        "df_2020[\"Refer\"] = df_2020[\"Refer\"].apply(str)\n",
        "df_2020[\"Fech_cierre\"] = pd.to_datetime(df_2020[\"Fech_cierre\"])\n",
        "df_2020[\"Articulo\"] = df_2020[\"Articulo\"].apply(str)\n",
        "df_2020[\"Clav\"] = df_2020[\"Clav\"].apply(str)\n",
        "df_2020[\"Denominacion\"] = df_2020[\"Denominacion\"].apply(str)\n",
        "df_2020[\"Canti\"] = df_2020[\"Canti\"].apply(float)\n",
        "df_2020[\"PVP\"] = df_2020[\"PVP\"].apply(float)\n",
        "df_2020[\"Dto\"] = df_2020[\"Dto\"].apply(float)\n",
        "df_2020[\"Neto\"] = df_2020[\"Neto\"].apply(float)\n",
        "df_2020[\"Costo\"] = df_2020[\"Costo\"].apply(float)\n",
        "df_2020[\"Beneficio\"] = df_2020[\"Beneficio\"].apply(float)\n",
        "df_2020[\"COM\"] = df_2020[\"COM\"].apply(float)\n",
        "df_2020[\"Comision\"] = df_2020[\"Comision\"].apply(float)\n",
        "df_2020[\"Famil_apr\"] = df_2020[\"COM\"].apply(str)\n",
        "df_2020[\"Tipo\"] = df_2020[\"Tipo\"].apply(str)\n",
        "df_2020[\"Recep\"] = df_2020[\"Recep\"].apply(str)\n",
        "df_2020[\"PVP1\"] = df_2020[\"PVP1\"].apply(float)\n",
        "df_2020[\"TOTAL_PVP\"] = df_2020[\"TOTAL_PVP\"].apply(float)\n",
        "df_2020[\"Opera\"] = df_2020[\"Opera\"].apply(str)\n",
        "df_2020[\"Nombre\"] = df_2020[\"Nombre\"].apply(str)\n",
        "df_2020[\"Tipo_venta\"] = df_2020[\"Tipo_venta\"].apply(str)\n",
        "df_2020[\"Famil\"] = df_2020[\"Famil\"].apply(str)\n",
        "df_2020[\"Bastidor\"] = df_2020[\"Bastidor\"].apply(str)"
      ],
      "metadata": {
        "id": "5m0UNqFVYLWd"
      },
      "execution_count": 67,
      "outputs": []
    },
    {
      "cell_type": "code",
      "source": [
        "print(\"la fecha va desde {} a {}\".format(df_2020.Fech_cierre.min(), df_2020.Fech_cierre.max()))"
      ],
      "metadata": {
        "colab": {
          "base_uri": "https://localhost:8080/"
        },
        "id": "cYaZj8yoYOZN",
        "outputId": "7a187b46-a13f-4b60-90a1-c195cefe8590"
      },
      "execution_count": 68,
      "outputs": [
        {
          "output_type": "stream",
          "name": "stdout",
          "text": [
            "la fecha va desde 2020-01-02 00:00:00 a 2020-12-30 00:00:00\n"
          ]
        }
      ]
    },
    {
      "cell_type": "code",
      "source": [
        "dataframes = [df_2015, df_2016, df_2017, df_2018, df_2019, df_2020]"
      ],
      "metadata": {
        "id": "ET0Vyp0zYVfy"
      },
      "execution_count": 69,
      "outputs": []
    },
    {
      "cell_type": "code",
      "source": [
        "total_2015_2016_2017_2018_2019_2020 = pd.concat(dataframes)"
      ],
      "metadata": {
        "id": "ioswJJpnaWJv"
      },
      "execution_count": 70,
      "outputs": []
    },
    {
      "cell_type": "code",
      "source": [
        "total_2015_2016_2017_2018_2019_2020.shape"
      ],
      "metadata": {
        "colab": {
          "base_uri": "https://localhost:8080/"
        },
        "id": "AYL1Cb8XadkX",
        "outputId": "cffa0677-fd0f-4b88-ca12-8baa10cea162"
      },
      "execution_count": 71,
      "outputs": [
        {
          "output_type": "execute_result",
          "data": {
            "text/plain": [
              "(1205131, 27)"
            ]
          },
          "metadata": {},
          "execution_count": 71
        }
      ]
    },
    {
      "cell_type": "code",
      "source": [
        "print(\"la fecha va desde {} a {}\".format(total_2015_2016_2017_2018_2019_2020.Fech_cierre.min(), total_2015_2016_2017_2018_2019_2020.Fech_cierre.max()))"
      ],
      "metadata": {
        "colab": {
          "base_uri": "https://localhost:8080/"
        },
        "id": "FY2zg0vpajO1",
        "outputId": "4fdf232f-5341-432f-92ea-fb1a2c5fb519"
      },
      "execution_count": 72,
      "outputs": [
        {
          "output_type": "stream",
          "name": "stdout",
          "text": [
            "la fecha va desde 2015-01-04 00:00:00 a 2020-12-30 00:00:00\n"
          ]
        }
      ]
    },
    {
      "cell_type": "code",
      "source": [
        "total_2015_2016_2017_2018_2019_2020.isnull().sum()"
      ],
      "metadata": {
        "colab": {
          "base_uri": "https://localhost:8080/"
        },
        "id": "3E6Ao2yzaw9t",
        "outputId": "86b838fd-5949-493a-d6b7-9f7f6609e476"
      },
      "execution_count": 73,
      "outputs": [
        {
          "output_type": "execute_result",
          "data": {
            "text/plain": [
              "Unnamed: 0           0\n",
              "Alma                 0\n",
              "Cuenta               0\n",
              "Refer                0\n",
              "Fech_Salida          2\n",
              "Articulo             0\n",
              "Clav                 0\n",
              "Denominacion         0\n",
              "Canti                0\n",
              "PVP                  0\n",
              "Dto             475362\n",
              "Neto                 0\n",
              "Costo                0\n",
              "Beneficio            0\n",
              "COM                  0\n",
              "Comision             0\n",
              "Famil_apr            0\n",
              "Fech_cierre          0\n",
              "Tipo                 0\n",
              "Recep                0\n",
              "PVP1                 0\n",
              "TOTAL_PVP            0\n",
              "Opera                0\n",
              "Nombre               0\n",
              "Tipo_venta           0\n",
              "Famil                0\n",
              "Bastidor             0\n",
              "dtype: int64"
            ]
          },
          "metadata": {},
          "execution_count": 73
        }
      ]
    },
    {
      "cell_type": "code",
      "source": [
        "df_2021 = pd.read_csv(\"/content/drive/MyDrive/Colab Notebooks/total_recambios_2021.csv\", decimal=\",\")"
      ],
      "metadata": {
        "id": "nsMRohoMa4_s"
      },
      "execution_count": 74,
      "outputs": []
    },
    {
      "cell_type": "code",
      "source": [
        "df_2021.shape"
      ],
      "metadata": {
        "colab": {
          "base_uri": "https://localhost:8080/"
        },
        "id": "Corq1g-ibFS1",
        "outputId": "e8b04248-2511-454a-8652-0ff7870953d4"
      },
      "execution_count": 75,
      "outputs": [
        {
          "output_type": "execute_result",
          "data": {
            "text/plain": [
              "(193820, 27)"
            ]
          },
          "metadata": {},
          "execution_count": 75
        }
      ]
    },
    {
      "cell_type": "code",
      "source": [
        "df_2021 = df_2021.rename(columns={\"Refer.\":\"Refer\", \"Fec.sali\": \"Fech_Salida\", \"Artículo\":\"Articulo\", \"P.V.P.\": \"PVP\", \"Dto.\":\"Dto\", \"% Com\":\"COM\", \"Fam.a\":\"Famil_apr\", \"F.cierre\":\"Fech_cierre\",\n",
        "                        \"P.V.P..1\": \"PVP1\", \"TOTAL PVP\":\"TOTAL_PVP\",\"Tipo.1\": \"Tipo_venta\" })"
      ],
      "metadata": {
        "id": "PwLLgUDAbWG-"
      },
      "execution_count": 78,
      "outputs": []
    },
    {
      "cell_type": "code",
      "source": [
        "df_2021 = df_2021[~df_2021.Cuenta.isnull()]\n",
        "df_2021 = df_2021[~df_2021.Fech_cierre.isnull()]\n",
        "df_2021 = df_2021[~df_2021.Canti.isnull()]"
      ],
      "metadata": {
        "id": "yx-JZ-YnbIwU"
      },
      "execution_count": 79,
      "outputs": []
    },
    {
      "cell_type": "code",
      "source": [
        "# lo primero que voy a hacer es cambiar de tipo de datos. \n",
        "df_2021[\"Alma\"] = df_2021[\"Alma\"].apply(str)\n",
        "df_2021[\"Cuenta\"] = df_2021[\"Cuenta\"].apply(str)\n",
        "df_2021[\"Refer\"] = df_2021[\"Refer\"].apply(str)\n",
        "df_2021[\"Fech_cierre\"] = pd.to_datetime(df_2021[\"Fech_cierre\"])\n",
        "df_2021[\"Articulo\"] = df_2021[\"Articulo\"].apply(str)\n",
        "df_2021[\"Clav\"] = df_2021[\"Clav\"].apply(str)\n",
        "df_2021[\"Denominacion\"] = df_2021[\"Denominacion\"].apply(str)\n",
        "df_2021[\"Canti\"] = df_2021[\"Canti\"].apply(float)\n",
        "df_2021[\"PVP\"] = df_2021[\"PVP\"].apply(float)\n",
        "df_2021[\"Dto\"] = df_2021[\"Dto\"].apply(float)\n",
        "df_2021[\"Neto\"] = df_2021[\"Neto\"].apply(float)\n",
        "df_2021[\"Costo\"] = df_2021[\"Costo\"].apply(float)\n",
        "df_2021[\"Beneficio\"] = df_2021[\"Beneficio\"].apply(float)\n",
        "df_2021[\"COM\"] = df_2021[\"COM\"].apply(float)\n",
        "df_2021[\"Comision\"] = df_2021[\"Comision\"].apply(float)\n",
        "df_2021[\"Famil_apr\"] = df_2021[\"COM\"].apply(str)\n",
        "df_2021[\"Tipo\"] = df_2021[\"Tipo\"].apply(str)\n",
        "df_2021[\"Recep\"] = df_2021[\"Recep\"].apply(str)\n",
        "df_2021[\"PVP1\"] = df_2021[\"PVP1\"].apply(float)\n",
        "df_2021[\"TOTAL_PVP\"] = df_2021[\"TOTAL_PVP\"].apply(float)\n",
        "df_2021[\"Opera\"] = df_2021[\"Opera\"].apply(str)\n",
        "df_2021[\"Nombre\"] = df_2021[\"Nombre\"].apply(str)\n",
        "df_2021[\"Tipo_venta\"] = df_2021[\"Tipo_venta\"].apply(str)\n",
        "df_2021[\"Famil\"] = df_2021[\"Famil\"].apply(str)\n",
        "df_2021[\"Bastidor\"] = df_2021[\"Bastidor\"].apply(str)"
      ],
      "metadata": {
        "id": "-6LfL1fGbP23"
      },
      "execution_count": 80,
      "outputs": []
    },
    {
      "cell_type": "code",
      "source": [
        "print(\"la fecha va desde {} a {}\".format(df_2021.Fech_cierre.min(), df_2021.Fech_cierre.max()))"
      ],
      "metadata": {
        "colab": {
          "base_uri": "https://localhost:8080/"
        },
        "id": "2ZsPA0gSbiO3",
        "outputId": "c69d9d49-19f9-45e4-bdd1-43769a498604"
      },
      "execution_count": 81,
      "outputs": [
        {
          "output_type": "stream",
          "name": "stdout",
          "text": [
            "la fecha va desde 2021-01-02 00:00:00 a 2021-12-30 00:00:00\n"
          ]
        }
      ]
    },
    {
      "cell_type": "code",
      "source": [
        "dataframes = [df_2015, df_2016, df_2017, df_2018, df_2019, df_2020, df_2021]"
      ],
      "metadata": {
        "id": "5YiqYA14bpmp"
      },
      "execution_count": 82,
      "outputs": []
    },
    {
      "cell_type": "code",
      "source": [
        "total_2015_2016_2017_2018_2019_2020_2021 = pd.concat(dataframes)"
      ],
      "metadata": {
        "id": "ce3F33I1cBux"
      },
      "execution_count": 83,
      "outputs": []
    },
    {
      "cell_type": "code",
      "source": [
        "total_2015_2016_2017_2018_2019_2020_2021.shape"
      ],
      "metadata": {
        "colab": {
          "base_uri": "https://localhost:8080/"
        },
        "id": "8L--YkZDcIKc",
        "outputId": "470f2b85-b414-4282-847a-df1f91402e87"
      },
      "execution_count": 84,
      "outputs": [
        {
          "output_type": "execute_result",
          "data": {
            "text/plain": [
              "(1392433, 27)"
            ]
          },
          "metadata": {},
          "execution_count": 84
        }
      ]
    },
    {
      "cell_type": "code",
      "source": [
        "total_2015_2016_2017_2018_2019_2020_2021.isnull().sum()"
      ],
      "metadata": {
        "colab": {
          "base_uri": "https://localhost:8080/"
        },
        "id": "zkDvQbLycP4v",
        "outputId": "067dd3aa-7916-4c78-ea1d-d71d5f3a274c"
      },
      "execution_count": 85,
      "outputs": [
        {
          "output_type": "execute_result",
          "data": {
            "text/plain": [
              "Unnamed: 0           0\n",
              "Alma                 0\n",
              "Cuenta               0\n",
              "Refer                0\n",
              "Fech_Salida          4\n",
              "Articulo             0\n",
              "Clav                 0\n",
              "Denominacion         0\n",
              "Canti                0\n",
              "PVP                  0\n",
              "Dto             531685\n",
              "Neto                 0\n",
              "Costo                0\n",
              "Beneficio            0\n",
              "COM                  0\n",
              "Comision             0\n",
              "Famil_apr            0\n",
              "Fech_cierre          0\n",
              "Tipo                 0\n",
              "Recep                0\n",
              "PVP1                 0\n",
              "TOTAL_PVP            0\n",
              "Opera                0\n",
              "Nombre               0\n",
              "Tipo_venta           0\n",
              "Famil                0\n",
              "Bastidor             0\n",
              "dtype: int64"
            ]
          },
          "metadata": {},
          "execution_count": 85
        }
      ]
    },
    {
      "cell_type": "code",
      "source": [
        "total_2015_2016_2017_2018_2019_2020_2021.to_csv(\"/content/drive/MyDrive/Colab Notebooks/total_recambios_hasta_2021_final.csv\")"
      ],
      "metadata": {
        "id": "UQfRNMwirEMs"
      },
      "execution_count": 134,
      "outputs": []
    },
    {
      "cell_type": "markdown",
      "source": [
        "# DEFINITIVO ARCHIVO DE RECAMBIOS"
      ],
      "metadata": {
        "id": "cz4-y9sazalT"
      }
    },
    {
      "cell_type": "code",
      "source": [
        "total_recambios_hasta_2021_final = pd.read_csv(\"/content/drive/MyDrive/Colab Notebooks/total_recambios_hasta_2021_final.csv\")\n",
        "# abro el archivo que tengo guardado en google drive. "
      ],
      "metadata": {
        "id": "bAnkay-Tuua9"
      },
      "execution_count": 186,
      "outputs": []
    },
    {
      "cell_type": "code",
      "source": [
        "total_recambios_hasta_2021_final.shape # tengo dos columnas de más. "
      ],
      "metadata": {
        "colab": {
          "base_uri": "https://localhost:8080/"
        },
        "id": "GyJqF-HfvteK",
        "outputId": "5f1edf3c-c7fe-4d97-ad9c-24c2d3495952"
      },
      "execution_count": 187,
      "outputs": [
        {
          "output_type": "execute_result",
          "data": {
            "text/plain": [
              "(1392433, 28)"
            ]
          },
          "metadata": {},
          "execution_count": 187
        }
      ]
    },
    {
      "cell_type": "code",
      "source": [
        "total_recambios_hasta_2021_final.head()"
      ],
      "metadata": {
        "colab": {
          "base_uri": "https://localhost:8080/",
          "height": 490
        },
        "id": "MvB4HgwQv0Nj",
        "outputId": "70ee8174-b965-4cf4-f71a-51d6202c1201"
      },
      "execution_count": 188,
      "outputs": [
        {
          "output_type": "execute_result",
          "data": {
            "text/plain": [
              "   Unnamed: 0  Unnamed: 0.1  Alma Cuenta      Refer Fech_Salida  \\\n",
              "0           0             0     1  98253  6522204.0    27/01/15   \n",
              "1           1             1     1  98253  6522204.0    27/01/15   \n",
              "2           2             2     1  98253  6522204.0    27/01/15   \n",
              "3           3             3     1  98253  6522204.0    27/01/15   \n",
              "4           4             4     1  98253  6522204.0    27/01/15   \n",
              "\n",
              "            Articulo Clav  Denominacion  Canti  ...  Fech_cierre  Tipo  Recep  \\\n",
              "0      11/5K0807109M    6   REFUERZO 10    1.0  ...   2015-01-27    5V   85.0   \n",
              "1  11/5K0807217BLGRU    4  GUARNECID 10    1.0  ...   2015-01-27    5V   85.0   \n",
              "2      11/5K0807571J    6       GUIA 10    1.0  ...   2015-01-27    5V   85.0   \n",
              "3      11/5K0919491B    8     HALTER 10    2.0  ...   2015-01-27    5V   85.0   \n",
              "4      11/5K0919493G    8     HALTER 10    2.0  ...   2015-01-27    5V   85.0   \n",
              "\n",
              "     PVP1  TOTAL_PVP  Opera                  Nombre  Tipo_venta Famil  \\\n",
              "0  214.00      214.0    1.0  MANUEL ESCUDERO GARCIA          7V   AL8   \n",
              "1  401.00      401.0    1.0  MANUEL ESCUDERO GARCIA          7V   ALH   \n",
              "2   45.40       45.4    1.0  MANUEL ESCUDERO GARCIA          7V   AL7   \n",
              "3   11.15       22.3    1.0  MANUEL ESCUDERO GARCIA          7V   ANW   \n",
              "4   11.15       22.3    1.0  MANUEL ESCUDERO GARCIA          7V   ANW   \n",
              "\n",
              "            Bastidor  \n",
              "0  WVWZZZ1KZ9W487026  \n",
              "1  WVWZZZ1KZ9W487026  \n",
              "2  WVWZZZ1KZ9W487026  \n",
              "3  WVWZZZ1KZ9W487026  \n",
              "4  WVWZZZ1KZ9W487026  \n",
              "\n",
              "[5 rows x 28 columns]"
            ],
            "text/html": [
              "\n",
              "  <div id=\"df-b81c7865-c75c-4541-aaf0-5bad02eb16b2\">\n",
              "    <div class=\"colab-df-container\">\n",
              "      <div>\n",
              "<style scoped>\n",
              "    .dataframe tbody tr th:only-of-type {\n",
              "        vertical-align: middle;\n",
              "    }\n",
              "\n",
              "    .dataframe tbody tr th {\n",
              "        vertical-align: top;\n",
              "    }\n",
              "\n",
              "    .dataframe thead th {\n",
              "        text-align: right;\n",
              "    }\n",
              "</style>\n",
              "<table border=\"1\" class=\"dataframe\">\n",
              "  <thead>\n",
              "    <tr style=\"text-align: right;\">\n",
              "      <th></th>\n",
              "      <th>Unnamed: 0</th>\n",
              "      <th>Unnamed: 0.1</th>\n",
              "      <th>Alma</th>\n",
              "      <th>Cuenta</th>\n",
              "      <th>Refer</th>\n",
              "      <th>Fech_Salida</th>\n",
              "      <th>Articulo</th>\n",
              "      <th>Clav</th>\n",
              "      <th>Denominacion</th>\n",
              "      <th>Canti</th>\n",
              "      <th>...</th>\n",
              "      <th>Fech_cierre</th>\n",
              "      <th>Tipo</th>\n",
              "      <th>Recep</th>\n",
              "      <th>PVP1</th>\n",
              "      <th>TOTAL_PVP</th>\n",
              "      <th>Opera</th>\n",
              "      <th>Nombre</th>\n",
              "      <th>Tipo_venta</th>\n",
              "      <th>Famil</th>\n",
              "      <th>Bastidor</th>\n",
              "    </tr>\n",
              "  </thead>\n",
              "  <tbody>\n",
              "    <tr>\n",
              "      <th>0</th>\n",
              "      <td>0</td>\n",
              "      <td>0</td>\n",
              "      <td>1</td>\n",
              "      <td>98253</td>\n",
              "      <td>6522204.0</td>\n",
              "      <td>27/01/15</td>\n",
              "      <td>11/5K0807109M</td>\n",
              "      <td>6</td>\n",
              "      <td>REFUERZO 10</td>\n",
              "      <td>1.0</td>\n",
              "      <td>...</td>\n",
              "      <td>2015-01-27</td>\n",
              "      <td>5V</td>\n",
              "      <td>85.0</td>\n",
              "      <td>214.00</td>\n",
              "      <td>214.0</td>\n",
              "      <td>1.0</td>\n",
              "      <td>MANUEL ESCUDERO GARCIA</td>\n",
              "      <td>7V</td>\n",
              "      <td>AL8</td>\n",
              "      <td>WVWZZZ1KZ9W487026</td>\n",
              "    </tr>\n",
              "    <tr>\n",
              "      <th>1</th>\n",
              "      <td>1</td>\n",
              "      <td>1</td>\n",
              "      <td>1</td>\n",
              "      <td>98253</td>\n",
              "      <td>6522204.0</td>\n",
              "      <td>27/01/15</td>\n",
              "      <td>11/5K0807217BLGRU</td>\n",
              "      <td>4</td>\n",
              "      <td>GUARNECID 10</td>\n",
              "      <td>1.0</td>\n",
              "      <td>...</td>\n",
              "      <td>2015-01-27</td>\n",
              "      <td>5V</td>\n",
              "      <td>85.0</td>\n",
              "      <td>401.00</td>\n",
              "      <td>401.0</td>\n",
              "      <td>1.0</td>\n",
              "      <td>MANUEL ESCUDERO GARCIA</td>\n",
              "      <td>7V</td>\n",
              "      <td>ALH</td>\n",
              "      <td>WVWZZZ1KZ9W487026</td>\n",
              "    </tr>\n",
              "    <tr>\n",
              "      <th>2</th>\n",
              "      <td>2</td>\n",
              "      <td>2</td>\n",
              "      <td>1</td>\n",
              "      <td>98253</td>\n",
              "      <td>6522204.0</td>\n",
              "      <td>27/01/15</td>\n",
              "      <td>11/5K0807571J</td>\n",
              "      <td>6</td>\n",
              "      <td>GUIA 10</td>\n",
              "      <td>1.0</td>\n",
              "      <td>...</td>\n",
              "      <td>2015-01-27</td>\n",
              "      <td>5V</td>\n",
              "      <td>85.0</td>\n",
              "      <td>45.40</td>\n",
              "      <td>45.4</td>\n",
              "      <td>1.0</td>\n",
              "      <td>MANUEL ESCUDERO GARCIA</td>\n",
              "      <td>7V</td>\n",
              "      <td>AL7</td>\n",
              "      <td>WVWZZZ1KZ9W487026</td>\n",
              "    </tr>\n",
              "    <tr>\n",
              "      <th>3</th>\n",
              "      <td>3</td>\n",
              "      <td>3</td>\n",
              "      <td>1</td>\n",
              "      <td>98253</td>\n",
              "      <td>6522204.0</td>\n",
              "      <td>27/01/15</td>\n",
              "      <td>11/5K0919491B</td>\n",
              "      <td>8</td>\n",
              "      <td>HALTER 10</td>\n",
              "      <td>2.0</td>\n",
              "      <td>...</td>\n",
              "      <td>2015-01-27</td>\n",
              "      <td>5V</td>\n",
              "      <td>85.0</td>\n",
              "      <td>11.15</td>\n",
              "      <td>22.3</td>\n",
              "      <td>1.0</td>\n",
              "      <td>MANUEL ESCUDERO GARCIA</td>\n",
              "      <td>7V</td>\n",
              "      <td>ANW</td>\n",
              "      <td>WVWZZZ1KZ9W487026</td>\n",
              "    </tr>\n",
              "    <tr>\n",
              "      <th>4</th>\n",
              "      <td>4</td>\n",
              "      <td>4</td>\n",
              "      <td>1</td>\n",
              "      <td>98253</td>\n",
              "      <td>6522204.0</td>\n",
              "      <td>27/01/15</td>\n",
              "      <td>11/5K0919493G</td>\n",
              "      <td>8</td>\n",
              "      <td>HALTER 10</td>\n",
              "      <td>2.0</td>\n",
              "      <td>...</td>\n",
              "      <td>2015-01-27</td>\n",
              "      <td>5V</td>\n",
              "      <td>85.0</td>\n",
              "      <td>11.15</td>\n",
              "      <td>22.3</td>\n",
              "      <td>1.0</td>\n",
              "      <td>MANUEL ESCUDERO GARCIA</td>\n",
              "      <td>7V</td>\n",
              "      <td>ANW</td>\n",
              "      <td>WVWZZZ1KZ9W487026</td>\n",
              "    </tr>\n",
              "  </tbody>\n",
              "</table>\n",
              "<p>5 rows × 28 columns</p>\n",
              "</div>\n",
              "      <button class=\"colab-df-convert\" onclick=\"convertToInteractive('df-b81c7865-c75c-4541-aaf0-5bad02eb16b2')\"\n",
              "              title=\"Convert this dataframe to an interactive table.\"\n",
              "              style=\"display:none;\">\n",
              "        \n",
              "  <svg xmlns=\"http://www.w3.org/2000/svg\" height=\"24px\"viewBox=\"0 0 24 24\"\n",
              "       width=\"24px\">\n",
              "    <path d=\"M0 0h24v24H0V0z\" fill=\"none\"/>\n",
              "    <path d=\"M18.56 5.44l.94 2.06.94-2.06 2.06-.94-2.06-.94-.94-2.06-.94 2.06-2.06.94zm-11 1L8.5 8.5l.94-2.06 2.06-.94-2.06-.94L8.5 2.5l-.94 2.06-2.06.94zm10 10l.94 2.06.94-2.06 2.06-.94-2.06-.94-.94-2.06-.94 2.06-2.06.94z\"/><path d=\"M17.41 7.96l-1.37-1.37c-.4-.4-.92-.59-1.43-.59-.52 0-1.04.2-1.43.59L10.3 9.45l-7.72 7.72c-.78.78-.78 2.05 0 2.83L4 21.41c.39.39.9.59 1.41.59.51 0 1.02-.2 1.41-.59l7.78-7.78 2.81-2.81c.8-.78.8-2.07 0-2.86zM5.41 20L4 18.59l7.72-7.72 1.47 1.35L5.41 20z\"/>\n",
              "  </svg>\n",
              "      </button>\n",
              "      \n",
              "  <style>\n",
              "    .colab-df-container {\n",
              "      display:flex;\n",
              "      flex-wrap:wrap;\n",
              "      gap: 12px;\n",
              "    }\n",
              "\n",
              "    .colab-df-convert {\n",
              "      background-color: #E8F0FE;\n",
              "      border: none;\n",
              "      border-radius: 50%;\n",
              "      cursor: pointer;\n",
              "      display: none;\n",
              "      fill: #1967D2;\n",
              "      height: 32px;\n",
              "      padding: 0 0 0 0;\n",
              "      width: 32px;\n",
              "    }\n",
              "\n",
              "    .colab-df-convert:hover {\n",
              "      background-color: #E2EBFA;\n",
              "      box-shadow: 0px 1px 2px rgba(60, 64, 67, 0.3), 0px 1px 3px 1px rgba(60, 64, 67, 0.15);\n",
              "      fill: #174EA6;\n",
              "    }\n",
              "\n",
              "    [theme=dark] .colab-df-convert {\n",
              "      background-color: #3B4455;\n",
              "      fill: #D2E3FC;\n",
              "    }\n",
              "\n",
              "    [theme=dark] .colab-df-convert:hover {\n",
              "      background-color: #434B5C;\n",
              "      box-shadow: 0px 1px 3px 1px rgba(0, 0, 0, 0.15);\n",
              "      filter: drop-shadow(0px 1px 2px rgba(0, 0, 0, 0.3));\n",
              "      fill: #FFFFFF;\n",
              "    }\n",
              "  </style>\n",
              "\n",
              "      <script>\n",
              "        const buttonEl =\n",
              "          document.querySelector('#df-b81c7865-c75c-4541-aaf0-5bad02eb16b2 button.colab-df-convert');\n",
              "        buttonEl.style.display =\n",
              "          google.colab.kernel.accessAllowed ? 'block' : 'none';\n",
              "\n",
              "        async function convertToInteractive(key) {\n",
              "          const element = document.querySelector('#df-b81c7865-c75c-4541-aaf0-5bad02eb16b2');\n",
              "          const dataTable =\n",
              "            await google.colab.kernel.invokeFunction('convertToInteractive',\n",
              "                                                     [key], {});\n",
              "          if (!dataTable) return;\n",
              "\n",
              "          const docLinkHtml = 'Like what you see? Visit the ' +\n",
              "            '<a target=\"_blank\" href=https://colab.research.google.com/notebooks/data_table.ipynb>data table notebook</a>'\n",
              "            + ' to learn more about interactive tables.';\n",
              "          element.innerHTML = '';\n",
              "          dataTable['output_type'] = 'display_data';\n",
              "          await google.colab.output.renderOutput(dataTable, element);\n",
              "          const docLink = document.createElement('div');\n",
              "          docLink.innerHTML = docLinkHtml;\n",
              "          element.appendChild(docLink);\n",
              "        }\n",
              "      </script>\n",
              "    </div>\n",
              "  </div>\n",
              "  "
            ]
          },
          "metadata": {},
          "execution_count": 188
        }
      ]
    },
    {
      "cell_type": "code",
      "source": [
        "total_recambios_hasta_2021_final = total_recambios_hasta_2021_final.drop(['Unnamed: 0', 'Unnamed: 0.1'], axis=1)\n",
        "# me quito las dos columnas que no quiero. "
      ],
      "metadata": {
        "id": "BnxiNSxvv_pL"
      },
      "execution_count": 189,
      "outputs": []
    },
    {
      "cell_type": "code",
      "source": [
        "total_recambios_hasta_2021_final.head(2)"
      ],
      "metadata": {
        "colab": {
          "base_uri": "https://localhost:8080/",
          "height": 255
        },
        "id": "sTBozMBpwvYs",
        "outputId": "efce69d9-0c7d-4654-f183-90100ed08b22"
      },
      "execution_count": 165,
      "outputs": [
        {
          "output_type": "execute_result",
          "data": {
            "text/plain": [
              "   Alma Cuenta      Refer Fech_Salida           Articulo Clav  Denominacion  \\\n",
              "0     1  98253  6522204.0    27/01/15      11/5K0807109M    6   REFUERZO 10   \n",
              "1     1  98253  6522204.0    27/01/15  11/5K0807217BLGRU    4  GUARNECID 10   \n",
              "\n",
              "   Canti     PVP   Dto  ...  Fech_cierre  Tipo  Recep   PVP1  TOTAL_PVP  \\\n",
              "0    1.0  173.93  10.0  ...   2015-01-27    5V   85.0  214.0      214.0   \n",
              "1    1.0  316.39  10.0  ...   2015-01-27    5V   85.0  401.0      401.0   \n",
              "\n",
              "   Opera                  Nombre Tipo_venta  Famil           Bastidor  \n",
              "0    1.0  MANUEL ESCUDERO GARCIA         7V    AL8  WVWZZZ1KZ9W487026  \n",
              "1    1.0  MANUEL ESCUDERO GARCIA         7V    ALH  WVWZZZ1KZ9W487026  \n",
              "\n",
              "[2 rows x 26 columns]"
            ],
            "text/html": [
              "\n",
              "  <div id=\"df-eec4d8d9-49b8-4a0c-bbc8-6ea652165dbc\">\n",
              "    <div class=\"colab-df-container\">\n",
              "      <div>\n",
              "<style scoped>\n",
              "    .dataframe tbody tr th:only-of-type {\n",
              "        vertical-align: middle;\n",
              "    }\n",
              "\n",
              "    .dataframe tbody tr th {\n",
              "        vertical-align: top;\n",
              "    }\n",
              "\n",
              "    .dataframe thead th {\n",
              "        text-align: right;\n",
              "    }\n",
              "</style>\n",
              "<table border=\"1\" class=\"dataframe\">\n",
              "  <thead>\n",
              "    <tr style=\"text-align: right;\">\n",
              "      <th></th>\n",
              "      <th>Alma</th>\n",
              "      <th>Cuenta</th>\n",
              "      <th>Refer</th>\n",
              "      <th>Fech_Salida</th>\n",
              "      <th>Articulo</th>\n",
              "      <th>Clav</th>\n",
              "      <th>Denominacion</th>\n",
              "      <th>Canti</th>\n",
              "      <th>PVP</th>\n",
              "      <th>Dto</th>\n",
              "      <th>...</th>\n",
              "      <th>Fech_cierre</th>\n",
              "      <th>Tipo</th>\n",
              "      <th>Recep</th>\n",
              "      <th>PVP1</th>\n",
              "      <th>TOTAL_PVP</th>\n",
              "      <th>Opera</th>\n",
              "      <th>Nombre</th>\n",
              "      <th>Tipo_venta</th>\n",
              "      <th>Famil</th>\n",
              "      <th>Bastidor</th>\n",
              "    </tr>\n",
              "  </thead>\n",
              "  <tbody>\n",
              "    <tr>\n",
              "      <th>0</th>\n",
              "      <td>1</td>\n",
              "      <td>98253</td>\n",
              "      <td>6522204.0</td>\n",
              "      <td>27/01/15</td>\n",
              "      <td>11/5K0807109M</td>\n",
              "      <td>6</td>\n",
              "      <td>REFUERZO 10</td>\n",
              "      <td>1.0</td>\n",
              "      <td>173.93</td>\n",
              "      <td>10.0</td>\n",
              "      <td>...</td>\n",
              "      <td>2015-01-27</td>\n",
              "      <td>5V</td>\n",
              "      <td>85.0</td>\n",
              "      <td>214.0</td>\n",
              "      <td>214.0</td>\n",
              "      <td>1.0</td>\n",
              "      <td>MANUEL ESCUDERO GARCIA</td>\n",
              "      <td>7V</td>\n",
              "      <td>AL8</td>\n",
              "      <td>WVWZZZ1KZ9W487026</td>\n",
              "    </tr>\n",
              "    <tr>\n",
              "      <th>1</th>\n",
              "      <td>1</td>\n",
              "      <td>98253</td>\n",
              "      <td>6522204.0</td>\n",
              "      <td>27/01/15</td>\n",
              "      <td>11/5K0807217BLGRU</td>\n",
              "      <td>4</td>\n",
              "      <td>GUARNECID 10</td>\n",
              "      <td>1.0</td>\n",
              "      <td>316.39</td>\n",
              "      <td>10.0</td>\n",
              "      <td>...</td>\n",
              "      <td>2015-01-27</td>\n",
              "      <td>5V</td>\n",
              "      <td>85.0</td>\n",
              "      <td>401.0</td>\n",
              "      <td>401.0</td>\n",
              "      <td>1.0</td>\n",
              "      <td>MANUEL ESCUDERO GARCIA</td>\n",
              "      <td>7V</td>\n",
              "      <td>ALH</td>\n",
              "      <td>WVWZZZ1KZ9W487026</td>\n",
              "    </tr>\n",
              "  </tbody>\n",
              "</table>\n",
              "<p>2 rows × 26 columns</p>\n",
              "</div>\n",
              "      <button class=\"colab-df-convert\" onclick=\"convertToInteractive('df-eec4d8d9-49b8-4a0c-bbc8-6ea652165dbc')\"\n",
              "              title=\"Convert this dataframe to an interactive table.\"\n",
              "              style=\"display:none;\">\n",
              "        \n",
              "  <svg xmlns=\"http://www.w3.org/2000/svg\" height=\"24px\"viewBox=\"0 0 24 24\"\n",
              "       width=\"24px\">\n",
              "    <path d=\"M0 0h24v24H0V0z\" fill=\"none\"/>\n",
              "    <path d=\"M18.56 5.44l.94 2.06.94-2.06 2.06-.94-2.06-.94-.94-2.06-.94 2.06-2.06.94zm-11 1L8.5 8.5l.94-2.06 2.06-.94-2.06-.94L8.5 2.5l-.94 2.06-2.06.94zm10 10l.94 2.06.94-2.06 2.06-.94-2.06-.94-.94-2.06-.94 2.06-2.06.94z\"/><path d=\"M17.41 7.96l-1.37-1.37c-.4-.4-.92-.59-1.43-.59-.52 0-1.04.2-1.43.59L10.3 9.45l-7.72 7.72c-.78.78-.78 2.05 0 2.83L4 21.41c.39.39.9.59 1.41.59.51 0 1.02-.2 1.41-.59l7.78-7.78 2.81-2.81c.8-.78.8-2.07 0-2.86zM5.41 20L4 18.59l7.72-7.72 1.47 1.35L5.41 20z\"/>\n",
              "  </svg>\n",
              "      </button>\n",
              "      \n",
              "  <style>\n",
              "    .colab-df-container {\n",
              "      display:flex;\n",
              "      flex-wrap:wrap;\n",
              "      gap: 12px;\n",
              "    }\n",
              "\n",
              "    .colab-df-convert {\n",
              "      background-color: #E8F0FE;\n",
              "      border: none;\n",
              "      border-radius: 50%;\n",
              "      cursor: pointer;\n",
              "      display: none;\n",
              "      fill: #1967D2;\n",
              "      height: 32px;\n",
              "      padding: 0 0 0 0;\n",
              "      width: 32px;\n",
              "    }\n",
              "\n",
              "    .colab-df-convert:hover {\n",
              "      background-color: #E2EBFA;\n",
              "      box-shadow: 0px 1px 2px rgba(60, 64, 67, 0.3), 0px 1px 3px 1px rgba(60, 64, 67, 0.15);\n",
              "      fill: #174EA6;\n",
              "    }\n",
              "\n",
              "    [theme=dark] .colab-df-convert {\n",
              "      background-color: #3B4455;\n",
              "      fill: #D2E3FC;\n",
              "    }\n",
              "\n",
              "    [theme=dark] .colab-df-convert:hover {\n",
              "      background-color: #434B5C;\n",
              "      box-shadow: 0px 1px 3px 1px rgba(0, 0, 0, 0.15);\n",
              "      filter: drop-shadow(0px 1px 2px rgba(0, 0, 0, 0.3));\n",
              "      fill: #FFFFFF;\n",
              "    }\n",
              "  </style>\n",
              "\n",
              "      <script>\n",
              "        const buttonEl =\n",
              "          document.querySelector('#df-eec4d8d9-49b8-4a0c-bbc8-6ea652165dbc button.colab-df-convert');\n",
              "        buttonEl.style.display =\n",
              "          google.colab.kernel.accessAllowed ? 'block' : 'none';\n",
              "\n",
              "        async function convertToInteractive(key) {\n",
              "          const element = document.querySelector('#df-eec4d8d9-49b8-4a0c-bbc8-6ea652165dbc');\n",
              "          const dataTable =\n",
              "            await google.colab.kernel.invokeFunction('convertToInteractive',\n",
              "                                                     [key], {});\n",
              "          if (!dataTable) return;\n",
              "\n",
              "          const docLinkHtml = 'Like what you see? Visit the ' +\n",
              "            '<a target=\"_blank\" href=https://colab.research.google.com/notebooks/data_table.ipynb>data table notebook</a>'\n",
              "            + ' to learn more about interactive tables.';\n",
              "          element.innerHTML = '';\n",
              "          dataTable['output_type'] = 'display_data';\n",
              "          await google.colab.output.renderOutput(dataTable, element);\n",
              "          const docLink = document.createElement('div');\n",
              "          docLink.innerHTML = docLinkHtml;\n",
              "          element.appendChild(docLink);\n",
              "        }\n",
              "      </script>\n",
              "    </div>\n",
              "  </div>\n",
              "  "
            ]
          },
          "metadata": {},
          "execution_count": 165
        }
      ]
    },
    {
      "cell_type": "code",
      "source": [
        "total_recambios_hasta_2021_final.shape"
      ],
      "metadata": {
        "colab": {
          "base_uri": "https://localhost:8080/"
        },
        "id": "bATXu5nlBZQZ",
        "outputId": "0d8321a2-692a-41d5-b656-a4824500427f"
      },
      "execution_count": 190,
      "outputs": [
        {
          "output_type": "execute_result",
          "data": {
            "text/plain": [
              "(1392433, 26)"
            ]
          },
          "metadata": {},
          "execution_count": 190
        }
      ]
    },
    {
      "cell_type": "code",
      "source": [
        "# este lo importo del archivo que tengo en la carpeta local machine learning recambios. Cada mes tendré que ir incorporando uno. \n",
        "xlsx = pd.ExcelFile(\"/content/RECAMBIOS_2022.xlsx\")\n",
        "df_enero_2022 = pd.read_excel(xlsx, \"ENERO2022\")\n",
        "df_febrero_2022 = pd.read_excel(xlsx, \"FEBRERO2022\")\n",
        "df_marzo_2022 = pd.read_excel(xlsx, \"MARZO2022\")\n",
        "df_abril_2022 = pd.read_excel(xlsx, \"ABRIL2022\")\n",
        "df_mayo_2022 = pd.read_excel(xlsx, \"MAYO2022\")\n",
        "df_junio_2022 = pd.read_excel(xlsx, \"JUNIO2022\")"
      ],
      "metadata": {
        "id": "Hx7udJ45dUFb"
      },
      "execution_count": 191,
      "outputs": []
    },
    {
      "cell_type": "code",
      "source": [
        "dataframes = [df_enero_2022, df_febrero_2022, df_marzo_2022, df_abril_2022, df_mayo_2022, df_junio_2022]\n",
        "# los uno"
      ],
      "metadata": {
        "id": "dWe7StrmzhZ5"
      },
      "execution_count": 192,
      "outputs": []
    },
    {
      "cell_type": "code",
      "source": [
        "total_recambios_2022 = pd.concat(dataframes)\n",
        "# los uno con concat"
      ],
      "metadata": {
        "id": "KWGMZrvauRRS"
      },
      "execution_count": 193,
      "outputs": []
    },
    {
      "cell_type": "code",
      "source": [
        "total_recambios_2022 = total_recambios_2022.rename(columns={\"Refer.\":\"Refer\", \"Fec.sali\": \"Fech_Salida\", \"Artículo\":\"Articulo\", \"P.V.P.\": \"PVP\", \"Dto.\":\"Dto\", \"% Com\":\"COM\", \"Fam.a\":\"Famil_apr\", \"F.cierre\":\"Fech_cierre\",\n",
        "                        \"P.V.P..1\": \"PVP1\", \"TOTAL PVP\":\"TOTAL_PVP\",\"Tipo.1\": \"Tipo_venta\" })\n",
        "# les cambio el nombre"
      ],
      "metadata": {
        "id": "WxDXBtJ90T_r"
      },
      "execution_count": 194,
      "outputs": []
    },
    {
      "cell_type": "code",
      "source": [
        "total_recambios_2022.columns"
      ],
      "metadata": {
        "colab": {
          "base_uri": "https://localhost:8080/"
        },
        "id": "AB3QCBlSyoPx",
        "outputId": "e9063f7c-a12f-47f4-d929-4db5626668ab"
      },
      "execution_count": 195,
      "outputs": [
        {
          "output_type": "execute_result",
          "data": {
            "text/plain": [
              "Index(['Alma', 'Cuenta', 'Refer', 'Fech_Salida', 'Articulo', 'Clav',\n",
              "       'Denominacion', 'Canti', 'PVP', 'Dto', 'Neto', 'Costo', 'Beneficio',\n",
              "       'COM', 'Comision', 'Famil_apr', 'Fech_cierre', 'Tipo', 'Recep',\n",
              "       'P.V.P._1', 'TOTAL_PVP', 'Opera', 'Nombre', 'Tipo_2', 'Famil',\n",
              "       'Bastidor'],\n",
              "      dtype='object')"
            ]
          },
          "metadata": {},
          "execution_count": 195
        }
      ]
    },
    {
      "cell_type": "code",
      "source": [
        "total_recambios_2022.shape"
      ],
      "metadata": {
        "colab": {
          "base_uri": "https://localhost:8080/"
        },
        "id": "5iYAMChdBsr6",
        "outputId": "2559ebe7-dde9-46e8-f20f-ffc6d38e34be"
      },
      "execution_count": 196,
      "outputs": [
        {
          "output_type": "execute_result",
          "data": {
            "text/plain": [
              "(92631, 26)"
            ]
          },
          "metadata": {},
          "execution_count": 196
        }
      ]
    },
    {
      "cell_type": "code",
      "source": [
        "total_recambios_2022 = total_recambios_2022[~total_recambios_2022.Cuenta.isnull()]\n",
        "total_recambios_2022 = total_recambios_2022[~total_recambios_2022.Fech_cierre.isnull()]\n",
        "total_recambios_2022 = total_recambios_2022[~total_recambios_2022.Canti.isnull()]\n",
        "# quito los nulos"
      ],
      "metadata": {
        "id": "Mu66kflj1qQG"
      },
      "execution_count": 197,
      "outputs": []
    },
    {
      "cell_type": "code",
      "source": [
        "total_recambios_2022.shape"
      ],
      "metadata": {
        "colab": {
          "base_uri": "https://localhost:8080/"
        },
        "id": "27ftE2wtBx3Q",
        "outputId": "2e59fb43-a354-4090-88af-785d5fcd0f83"
      },
      "execution_count": 198,
      "outputs": [
        {
          "output_type": "execute_result",
          "data": {
            "text/plain": [
              "(92586, 26)"
            ]
          },
          "metadata": {},
          "execution_count": 198
        }
      ]
    },
    {
      "cell_type": "code",
      "source": [
        "# lo primero que voy a hacer es cambiar de tipo de datos. \n",
        "total_recambios_2022[\"Alma\"] = total_recambios_2022[\"Alma\"].apply(str)\n",
        "total_recambios_2022[\"Cuenta\"] = total_recambios_2022[\"Cuenta\"].apply(str)\n",
        "total_recambios_2022[\"Refer\"] = total_recambios_2022[\"Refer\"].apply(str)\n",
        "total_recambios_2022[\"Fech_cierre\"] = pd.to_datetime(total_recambios_2022[\"Fech_cierre\"])\n",
        "total_recambios_2022[\"Articulo\"] = total_recambios_2022[\"Articulo\"].apply(str)\n",
        "total_recambios_2022[\"Clav\"] = total_recambios_2022[\"Clav\"].apply(str)\n",
        "total_recambios_2022[\"Denominacion\"] = total_recambios_2022[\"Denominacion\"].apply(str)\n",
        "total_recambios_2022[\"Canti\"] = total_recambios_2022[\"Canti\"].apply(float)\n",
        "total_recambios_2022[\"PVP\"] = total_recambios_2022[\"PVP\"].apply(float)\n",
        "total_recambios_2022[\"Dto\"] = total_recambios_2022[\"Dto\"].apply(float)\n",
        "total_recambios_2022[\"Neto\"] = total_recambios_2022[\"Neto\"].apply(float)\n",
        "total_recambios_2022[\"Costo\"] = total_recambios_2022[\"Costo\"].apply(float)\n",
        "total_recambios_2022[\"Beneficio\"] = total_recambios_2022[\"Beneficio\"].apply(float)\n",
        "total_recambios_2022[\"COM\"] = total_recambios_2022[\"COM\"].apply(float)\n",
        "total_recambios_2022[\"Comision\"] = total_recambios_2022[\"Comision\"].apply(float)\n",
        "total_recambios_2022[\"Famil_apr\"] = total_recambios_2022[\"COM\"].apply(str)\n",
        "total_recambios_2022[\"Tipo\"] = total_recambios_2022[\"Tipo\"].apply(str)\n",
        "total_recambios_2022[\"Recep\"] = total_recambios_2022[\"Recep\"].apply(str)\n",
        "\"\"\"total_recambios_2022[\"PVP1\"] = total_recambios_2022[\"PVP1\"].apply(float)\"\"\"\n",
        "total_recambios_2022[\"TOTAL_PVP\"] = total_recambios_2022[\"TOTAL_PVP\"].apply(float)\n",
        "total_recambios_2022[\"Opera\"] = total_recambios_2022[\"Opera\"].apply(str)\n",
        "total_recambios_2022[\"Nombre\"] = total_recambios_2022[\"Nombre\"].apply(str)\n",
        "\"\"\"total_recambios_2022[\"Tipo_venta\"] = total_recambios_2022[\"Tipo_venta\"].apply(str)\"\"\"\n",
        "total_recambios_2022[\"Famil\"] = total_recambios_2022[\"Famil\"].apply(str)\n",
        "total_recambios_2022[\"Bastidor\"] = total_recambios_2022[\"Bastidor\"].apply(str)"
      ],
      "metadata": {
        "id": "-7j-ooBi1ypL"
      },
      "execution_count": 199,
      "outputs": []
    },
    {
      "cell_type": "code",
      "source": [
        "total_recambios_hasta_2021_final.shape"
      ],
      "metadata": {
        "colab": {
          "base_uri": "https://localhost:8080/"
        },
        "id": "-rIIXDrwzD8G",
        "outputId": "14b45477-84a0-4053-9126-7221471feda5"
      },
      "execution_count": 200,
      "outputs": [
        {
          "output_type": "execute_result",
          "data": {
            "text/plain": [
              "(1392433, 26)"
            ]
          },
          "metadata": {},
          "execution_count": 200
        }
      ]
    },
    {
      "cell_type": "code",
      "source": [
        "total_recambios_2022.head(2)"
      ],
      "metadata": {
        "colab": {
          "base_uri": "https://localhost:8080/",
          "height": 220
        },
        "id": "ToMUs3tfzTlV",
        "outputId": "728a6f46-1661-4ff2-8c52-da78261442af"
      },
      "execution_count": 201,
      "outputs": [
        {
          "output_type": "execute_result",
          "data": {
            "text/plain": [
              "  Alma Cuenta     Refer Fech_Salida Articulo Clav         Denominacion  \\\n",
              "0    1  98253  13425372  2022-01-31   99/MPC    0  MATERIAL DE PINTURA   \n",
              "1    1  98253  13391781  2022-01-31   99/MPC    0  MATERIAL DE PINTURA   \n",
              "\n",
              "     Canti     PVP   Dto  ...  Fech_cierre  Tipo  Recep  P.V.P._1  TOTAL_PVP  \\\n",
              "0  12635.0  126.35  10.0  ...   2022-01-31    5V   2230      0.01     126.35   \n",
              "1   7118.0   71.18  10.0  ...   2022-01-31    5V   2230      0.01      71.18   \n",
              "\n",
              "   Opera                Nombre Tipo_2 Famil           Bastidor  \n",
              "0  666.0  ATIPICOS CHAPA RIVAS     7V    MP  WVWZZZ6RZHY079768  \n",
              "1  666.0  ATIPICOS CHAPA RIVAS     7V    MP  WVWZZZ7NZHV204914  \n",
              "\n",
              "[2 rows x 26 columns]"
            ],
            "text/html": [
              "\n",
              "  <div id=\"df-7e449c32-efe1-483f-b733-9a47f231a21e\">\n",
              "    <div class=\"colab-df-container\">\n",
              "      <div>\n",
              "<style scoped>\n",
              "    .dataframe tbody tr th:only-of-type {\n",
              "        vertical-align: middle;\n",
              "    }\n",
              "\n",
              "    .dataframe tbody tr th {\n",
              "        vertical-align: top;\n",
              "    }\n",
              "\n",
              "    .dataframe thead th {\n",
              "        text-align: right;\n",
              "    }\n",
              "</style>\n",
              "<table border=\"1\" class=\"dataframe\">\n",
              "  <thead>\n",
              "    <tr style=\"text-align: right;\">\n",
              "      <th></th>\n",
              "      <th>Alma</th>\n",
              "      <th>Cuenta</th>\n",
              "      <th>Refer</th>\n",
              "      <th>Fech_Salida</th>\n",
              "      <th>Articulo</th>\n",
              "      <th>Clav</th>\n",
              "      <th>Denominacion</th>\n",
              "      <th>Canti</th>\n",
              "      <th>PVP</th>\n",
              "      <th>Dto</th>\n",
              "      <th>...</th>\n",
              "      <th>Fech_cierre</th>\n",
              "      <th>Tipo</th>\n",
              "      <th>Recep</th>\n",
              "      <th>P.V.P._1</th>\n",
              "      <th>TOTAL_PVP</th>\n",
              "      <th>Opera</th>\n",
              "      <th>Nombre</th>\n",
              "      <th>Tipo_2</th>\n",
              "      <th>Famil</th>\n",
              "      <th>Bastidor</th>\n",
              "    </tr>\n",
              "  </thead>\n",
              "  <tbody>\n",
              "    <tr>\n",
              "      <th>0</th>\n",
              "      <td>1</td>\n",
              "      <td>98253</td>\n",
              "      <td>13425372</td>\n",
              "      <td>2022-01-31</td>\n",
              "      <td>99/MPC</td>\n",
              "      <td>0</td>\n",
              "      <td>MATERIAL DE PINTURA</td>\n",
              "      <td>12635.0</td>\n",
              "      <td>126.35</td>\n",
              "      <td>10.0</td>\n",
              "      <td>...</td>\n",
              "      <td>2022-01-31</td>\n",
              "      <td>5V</td>\n",
              "      <td>2230</td>\n",
              "      <td>0.01</td>\n",
              "      <td>126.35</td>\n",
              "      <td>666.0</td>\n",
              "      <td>ATIPICOS CHAPA RIVAS</td>\n",
              "      <td>7V</td>\n",
              "      <td>MP</td>\n",
              "      <td>WVWZZZ6RZHY079768</td>\n",
              "    </tr>\n",
              "    <tr>\n",
              "      <th>1</th>\n",
              "      <td>1</td>\n",
              "      <td>98253</td>\n",
              "      <td>13391781</td>\n",
              "      <td>2022-01-31</td>\n",
              "      <td>99/MPC</td>\n",
              "      <td>0</td>\n",
              "      <td>MATERIAL DE PINTURA</td>\n",
              "      <td>7118.0</td>\n",
              "      <td>71.18</td>\n",
              "      <td>10.0</td>\n",
              "      <td>...</td>\n",
              "      <td>2022-01-31</td>\n",
              "      <td>5V</td>\n",
              "      <td>2230</td>\n",
              "      <td>0.01</td>\n",
              "      <td>71.18</td>\n",
              "      <td>666.0</td>\n",
              "      <td>ATIPICOS CHAPA RIVAS</td>\n",
              "      <td>7V</td>\n",
              "      <td>MP</td>\n",
              "      <td>WVWZZZ7NZHV204914</td>\n",
              "    </tr>\n",
              "  </tbody>\n",
              "</table>\n",
              "<p>2 rows × 26 columns</p>\n",
              "</div>\n",
              "      <button class=\"colab-df-convert\" onclick=\"convertToInteractive('df-7e449c32-efe1-483f-b733-9a47f231a21e')\"\n",
              "              title=\"Convert this dataframe to an interactive table.\"\n",
              "              style=\"display:none;\">\n",
              "        \n",
              "  <svg xmlns=\"http://www.w3.org/2000/svg\" height=\"24px\"viewBox=\"0 0 24 24\"\n",
              "       width=\"24px\">\n",
              "    <path d=\"M0 0h24v24H0V0z\" fill=\"none\"/>\n",
              "    <path d=\"M18.56 5.44l.94 2.06.94-2.06 2.06-.94-2.06-.94-.94-2.06-.94 2.06-2.06.94zm-11 1L8.5 8.5l.94-2.06 2.06-.94-2.06-.94L8.5 2.5l-.94 2.06-2.06.94zm10 10l.94 2.06.94-2.06 2.06-.94-2.06-.94-.94-2.06-.94 2.06-2.06.94z\"/><path d=\"M17.41 7.96l-1.37-1.37c-.4-.4-.92-.59-1.43-.59-.52 0-1.04.2-1.43.59L10.3 9.45l-7.72 7.72c-.78.78-.78 2.05 0 2.83L4 21.41c.39.39.9.59 1.41.59.51 0 1.02-.2 1.41-.59l7.78-7.78 2.81-2.81c.8-.78.8-2.07 0-2.86zM5.41 20L4 18.59l7.72-7.72 1.47 1.35L5.41 20z\"/>\n",
              "  </svg>\n",
              "      </button>\n",
              "      \n",
              "  <style>\n",
              "    .colab-df-container {\n",
              "      display:flex;\n",
              "      flex-wrap:wrap;\n",
              "      gap: 12px;\n",
              "    }\n",
              "\n",
              "    .colab-df-convert {\n",
              "      background-color: #E8F0FE;\n",
              "      border: none;\n",
              "      border-radius: 50%;\n",
              "      cursor: pointer;\n",
              "      display: none;\n",
              "      fill: #1967D2;\n",
              "      height: 32px;\n",
              "      padding: 0 0 0 0;\n",
              "      width: 32px;\n",
              "    }\n",
              "\n",
              "    .colab-df-convert:hover {\n",
              "      background-color: #E2EBFA;\n",
              "      box-shadow: 0px 1px 2px rgba(60, 64, 67, 0.3), 0px 1px 3px 1px rgba(60, 64, 67, 0.15);\n",
              "      fill: #174EA6;\n",
              "    }\n",
              "\n",
              "    [theme=dark] .colab-df-convert {\n",
              "      background-color: #3B4455;\n",
              "      fill: #D2E3FC;\n",
              "    }\n",
              "\n",
              "    [theme=dark] .colab-df-convert:hover {\n",
              "      background-color: #434B5C;\n",
              "      box-shadow: 0px 1px 3px 1px rgba(0, 0, 0, 0.15);\n",
              "      filter: drop-shadow(0px 1px 2px rgba(0, 0, 0, 0.3));\n",
              "      fill: #FFFFFF;\n",
              "    }\n",
              "  </style>\n",
              "\n",
              "      <script>\n",
              "        const buttonEl =\n",
              "          document.querySelector('#df-7e449c32-efe1-483f-b733-9a47f231a21e button.colab-df-convert');\n",
              "        buttonEl.style.display =\n",
              "          google.colab.kernel.accessAllowed ? 'block' : 'none';\n",
              "\n",
              "        async function convertToInteractive(key) {\n",
              "          const element = document.querySelector('#df-7e449c32-efe1-483f-b733-9a47f231a21e');\n",
              "          const dataTable =\n",
              "            await google.colab.kernel.invokeFunction('convertToInteractive',\n",
              "                                                     [key], {});\n",
              "          if (!dataTable) return;\n",
              "\n",
              "          const docLinkHtml = 'Like what you see? Visit the ' +\n",
              "            '<a target=\"_blank\" href=https://colab.research.google.com/notebooks/data_table.ipynb>data table notebook</a>'\n",
              "            + ' to learn more about interactive tables.';\n",
              "          element.innerHTML = '';\n",
              "          dataTable['output_type'] = 'display_data';\n",
              "          await google.colab.output.renderOutput(dataTable, element);\n",
              "          const docLink = document.createElement('div');\n",
              "          docLink.innerHTML = docLinkHtml;\n",
              "          element.appendChild(docLink);\n",
              "        }\n",
              "      </script>\n",
              "    </div>\n",
              "  </div>\n",
              "  "
            ]
          },
          "metadata": {},
          "execution_count": 201
        }
      ]
    },
    {
      "cell_type": "code",
      "source": [
        "print(\"la fecha va desde {} a {}\".format(total_recambios_2022.Fech_cierre.min(), total_recambios_2022.Fech_cierre.max()))\n",
        "# aqui estoy comprobando que las fechas estén bien. "
      ],
      "metadata": {
        "colab": {
          "base_uri": "https://localhost:8080/"
        },
        "id": "Zjddrrh43DUE",
        "outputId": "f9b3393e-d3c4-4b2d-b75e-5d610e9120ac"
      },
      "execution_count": 202,
      "outputs": [
        {
          "output_type": "stream",
          "name": "stdout",
          "text": [
            "la fecha va desde 2022-01-03 00:00:00 a 2022-06-30 00:00:00\n"
          ]
        }
      ]
    },
    {
      "cell_type": "code",
      "source": [
        "total_recambios_2022.shape"
      ],
      "metadata": {
        "colab": {
          "base_uri": "https://localhost:8080/"
        },
        "id": "OyDwCeeLB7lA",
        "outputId": "5a164532-e207-4a70-9e9a-5eafd514e19c"
      },
      "execution_count": 203,
      "outputs": [
        {
          "output_type": "execute_result",
          "data": {
            "text/plain": [
              "(92586, 26)"
            ]
          },
          "metadata": {},
          "execution_count": 203
        }
      ]
    },
    {
      "cell_type": "code",
      "source": [
        "total_recambios_2022.to_csv(\"/content/drive/MyDrive/Colab Notebooks/total_recambios_2022_hasta_junio.csv\")\n",
        "# lo he guardado en drive"
      ],
      "metadata": {
        "id": "neu1TtfvCFUZ"
      },
      "execution_count": 204,
      "outputs": []
    },
    {
      "cell_type": "code",
      "source": [
        ""
      ],
      "metadata": {
        "id": "i5qa70j5ELrZ"
      },
      "execution_count": null,
      "outputs": []
    },
    {
      "cell_type": "code",
      "source": [
        "total_recambios_2022.columns"
      ],
      "metadata": {
        "colab": {
          "base_uri": "https://localhost:8080/"
        },
        "id": "rIz887KJ0cmB",
        "outputId": "5eecb24c-c966-4806-9efc-9338252520d7"
      },
      "execution_count": 178,
      "outputs": [
        {
          "output_type": "execute_result",
          "data": {
            "text/plain": [
              "Index(['Alma', 'Cuenta', 'Refer', 'Fech_Salida', 'Articulo', 'Clav',\n",
              "       'Denominacion', 'Canti', 'PVP', 'Dto', 'Neto', 'Costo', 'Beneficio',\n",
              "       'COM', 'Comision', 'Famil_apr', 'Fech_cierre', 'Tipo', 'Recep',\n",
              "       'P.V.P._1', 'TOTAL_PVP', 'Opera', 'Nombre', 'Tipo_2', 'Famil',\n",
              "       'Bastidor'],\n",
              "      dtype='object')"
            ]
          },
          "metadata": {},
          "execution_count": 178
        }
      ]
    },
    {
      "cell_type": "code",
      "source": [
        "total_recambios_hasta_2021_final.columns"
      ],
      "metadata": {
        "colab": {
          "base_uri": "https://localhost:8080/"
        },
        "id": "A12GNWpj25u6",
        "outputId": "d8e7cc48-57be-4484-fd9f-a0b1ef92e485"
      },
      "execution_count": 179,
      "outputs": [
        {
          "output_type": "execute_result",
          "data": {
            "text/plain": [
              "Index(['Alma', 'Cuenta', 'Refer', 'Fech_Salida', 'Articulo', 'Clav',\n",
              "       'Denominacion', 'Canti', 'PVP', 'Dto', 'Neto', 'Costo', 'Beneficio',\n",
              "       'COM', 'Comision', 'Famil_apr', 'Fech_cierre', 'Tipo', 'Recep', 'PVP1',\n",
              "       'TOTAL_PVP', 'Opera', 'Nombre', 'Tipo_venta', 'Famil', 'Bastidor'],\n",
              "      dtype='object')"
            ]
          },
          "metadata": {},
          "execution_count": 179
        }
      ]
    },
    {
      "cell_type": "code",
      "source": [
        "dataframes = [total_recambios_hasta_2021_final, total_recambios_2022]\n",
        "total_recambios_final_todos_anos = pd.concat(dataframes)\n",
        "# los uno"
      ],
      "metadata": {
        "id": "Et-DBj7A29a0"
      },
      "execution_count": 182,
      "outputs": []
    },
    {
      "cell_type": "code",
      "source": [
        "total_recambios_final_todos_anos.shape\n",
        "# me está dando dos columnas mas porque no he cambiado bien los nombres arriba. "
      ],
      "metadata": {
        "colab": {
          "base_uri": "https://localhost:8080/"
        },
        "id": "Z9dcRSgpAhOZ",
        "outputId": "cb1288de-3122-4f9a-bbf1-8611f5ac3c10"
      },
      "execution_count": 184,
      "outputs": [
        {
          "output_type": "execute_result",
          "data": {
            "text/plain": [
              "(1485019, 28)"
            ]
          },
          "metadata": {},
          "execution_count": 184
        }
      ]
    },
    {
      "cell_type": "code",
      "source": [
        "total_recambios_final_todos_anos.columns"
      ],
      "metadata": {
        "colab": {
          "base_uri": "https://localhost:8080/"
        },
        "id": "koqCYaXxAsNg",
        "outputId": "60136890-7064-4bea-f69d-eb7cee608a28"
      },
      "execution_count": 185,
      "outputs": [
        {
          "output_type": "execute_result",
          "data": {
            "text/plain": [
              "Index(['Alma', 'Cuenta', 'Refer', 'Fech_Salida', 'Articulo', 'Clav',\n",
              "       'Denominacion', 'Canti', 'PVP', 'Dto', 'Neto', 'Costo', 'Beneficio',\n",
              "       'COM', 'Comision', 'Famil_apr', 'Fech_cierre', 'Tipo', 'Recep', 'PVP1',\n",
              "       'TOTAL_PVP', 'Opera', 'Nombre', 'Tipo_venta', 'Famil', 'Bastidor',\n",
              "       'P.V.P._1', 'Tipo_2'],\n",
              "      dtype='object')"
            ]
          },
          "metadata": {},
          "execution_count": 185
        }
      ]
    },
    {
      "cell_type": "code",
      "source": [
        "pd.options.display.max_columns = 0"
      ],
      "metadata": {
        "id": "SojUr6j4E8Du"
      },
      "execution_count": 208,
      "outputs": []
    },
    {
      "cell_type": "code",
      "source": [
        "total_recambios_final_todos_anos.head()"
      ],
      "metadata": {
        "colab": {
          "base_uri": "https://localhost:8080/",
          "height": 444
        },
        "id": "12aSawQ9A3zV",
        "outputId": "ddfed2c0-4751-488d-ef16-99bef0025e51"
      },
      "execution_count": 209,
      "outputs": [
        {
          "output_type": "execute_result",
          "data": {
            "text/plain": [
              "  Alma Cuenta      Refer Fech_Salida  ... Famil           Bastidor P.V.P._1  Tipo_2\n",
              "0    1  98253  6522204.0    27/01/15  ...   AL8  WVWZZZ1KZ9W487026      NaN     NaN\n",
              "1    1  98253  6522204.0    27/01/15  ...   ALH  WVWZZZ1KZ9W487026      NaN     NaN\n",
              "2    1  98253  6522204.0    27/01/15  ...   AL7  WVWZZZ1KZ9W487026      NaN     NaN\n",
              "3    1  98253  6522204.0    27/01/15  ...   ANW  WVWZZZ1KZ9W487026      NaN     NaN\n",
              "4    1  98253  6522204.0    27/01/15  ...   ANW  WVWZZZ1KZ9W487026      NaN     NaN\n",
              "\n",
              "[5 rows x 28 columns]"
            ],
            "text/html": [
              "\n",
              "  <div id=\"df-681ec249-444a-4388-9530-c1357c41f435\">\n",
              "    <div class=\"colab-df-container\">\n",
              "      <div>\n",
              "<style scoped>\n",
              "    .dataframe tbody tr th:only-of-type {\n",
              "        vertical-align: middle;\n",
              "    }\n",
              "\n",
              "    .dataframe tbody tr th {\n",
              "        vertical-align: top;\n",
              "    }\n",
              "\n",
              "    .dataframe thead th {\n",
              "        text-align: right;\n",
              "    }\n",
              "</style>\n",
              "<table border=\"1\" class=\"dataframe\">\n",
              "  <thead>\n",
              "    <tr style=\"text-align: right;\">\n",
              "      <th></th>\n",
              "      <th>Alma</th>\n",
              "      <th>Cuenta</th>\n",
              "      <th>Refer</th>\n",
              "      <th>Fech_Salida</th>\n",
              "      <th>Articulo</th>\n",
              "      <th>Clav</th>\n",
              "      <th>Denominacion</th>\n",
              "      <th>Canti</th>\n",
              "      <th>PVP</th>\n",
              "      <th>Dto</th>\n",
              "      <th>Neto</th>\n",
              "      <th>Costo</th>\n",
              "      <th>Beneficio</th>\n",
              "      <th>COM</th>\n",
              "      <th>Comision</th>\n",
              "      <th>Famil_apr</th>\n",
              "      <th>Fech_cierre</th>\n",
              "      <th>Tipo</th>\n",
              "      <th>Recep</th>\n",
              "      <th>PVP1</th>\n",
              "      <th>TOTAL_PVP</th>\n",
              "      <th>Opera</th>\n",
              "      <th>Nombre</th>\n",
              "      <th>Tipo_venta</th>\n",
              "      <th>Famil</th>\n",
              "      <th>Bastidor</th>\n",
              "      <th>P.V.P._1</th>\n",
              "      <th>Tipo_2</th>\n",
              "    </tr>\n",
              "  </thead>\n",
              "  <tbody>\n",
              "    <tr>\n",
              "      <th>0</th>\n",
              "      <td>1</td>\n",
              "      <td>98253</td>\n",
              "      <td>6522204.0</td>\n",
              "      <td>27/01/15</td>\n",
              "      <td>11/5K0807109M</td>\n",
              "      <td>6</td>\n",
              "      <td>REFUERZO 10</td>\n",
              "      <td>1.0</td>\n",
              "      <td>173.93</td>\n",
              "      <td>10.0</td>\n",
              "      <td>156.54</td>\n",
              "      <td>140.44</td>\n",
              "      <td>16.10</td>\n",
              "      <td>0.0</td>\n",
              "      <td>0.0</td>\n",
              "      <td>0.0</td>\n",
              "      <td>2015-01-27</td>\n",
              "      <td>5V</td>\n",
              "      <td>85.0</td>\n",
              "      <td>214.00</td>\n",
              "      <td>214.0</td>\n",
              "      <td>1.0</td>\n",
              "      <td>MANUEL ESCUDERO GARCIA</td>\n",
              "      <td>7V</td>\n",
              "      <td>AL8</td>\n",
              "      <td>WVWZZZ1KZ9W487026</td>\n",
              "      <td>NaN</td>\n",
              "      <td>NaN</td>\n",
              "    </tr>\n",
              "    <tr>\n",
              "      <th>1</th>\n",
              "      <td>1</td>\n",
              "      <td>98253</td>\n",
              "      <td>6522204.0</td>\n",
              "      <td>27/01/15</td>\n",
              "      <td>11/5K0807217BLGRU</td>\n",
              "      <td>4</td>\n",
              "      <td>GUARNECID 10</td>\n",
              "      <td>1.0</td>\n",
              "      <td>316.39</td>\n",
              "      <td>10.0</td>\n",
              "      <td>284.75</td>\n",
              "      <td>186.05</td>\n",
              "      <td>98.70</td>\n",
              "      <td>0.0</td>\n",
              "      <td>0.0</td>\n",
              "      <td>0.0</td>\n",
              "      <td>2015-01-27</td>\n",
              "      <td>5V</td>\n",
              "      <td>85.0</td>\n",
              "      <td>401.00</td>\n",
              "      <td>401.0</td>\n",
              "      <td>1.0</td>\n",
              "      <td>MANUEL ESCUDERO GARCIA</td>\n",
              "      <td>7V</td>\n",
              "      <td>ALH</td>\n",
              "      <td>WVWZZZ1KZ9W487026</td>\n",
              "      <td>NaN</td>\n",
              "      <td>NaN</td>\n",
              "    </tr>\n",
              "    <tr>\n",
              "      <th>2</th>\n",
              "      <td>1</td>\n",
              "      <td>98253</td>\n",
              "      <td>6522204.0</td>\n",
              "      <td>27/01/15</td>\n",
              "      <td>11/5K0807571J</td>\n",
              "      <td>6</td>\n",
              "      <td>GUIA 10</td>\n",
              "      <td>1.0</td>\n",
              "      <td>31.75</td>\n",
              "      <td>10.0</td>\n",
              "      <td>28.58</td>\n",
              "      <td>25.68</td>\n",
              "      <td>2.90</td>\n",
              "      <td>0.0</td>\n",
              "      <td>0.0</td>\n",
              "      <td>0.0</td>\n",
              "      <td>2015-01-27</td>\n",
              "      <td>5V</td>\n",
              "      <td>85.0</td>\n",
              "      <td>45.40</td>\n",
              "      <td>45.4</td>\n",
              "      <td>1.0</td>\n",
              "      <td>MANUEL ESCUDERO GARCIA</td>\n",
              "      <td>7V</td>\n",
              "      <td>AL7</td>\n",
              "      <td>WVWZZZ1KZ9W487026</td>\n",
              "      <td>NaN</td>\n",
              "      <td>NaN</td>\n",
              "    </tr>\n",
              "    <tr>\n",
              "      <th>3</th>\n",
              "      <td>1</td>\n",
              "      <td>98253</td>\n",
              "      <td>6522204.0</td>\n",
              "      <td>27/01/15</td>\n",
              "      <td>11/5K0919491B</td>\n",
              "      <td>8</td>\n",
              "      <td>HALTER 10</td>\n",
              "      <td>2.0</td>\n",
              "      <td>13.60</td>\n",
              "      <td>10.0</td>\n",
              "      <td>12.24</td>\n",
              "      <td>12.66</td>\n",
              "      <td>-0.42</td>\n",
              "      <td>0.0</td>\n",
              "      <td>0.0</td>\n",
              "      <td>0.0</td>\n",
              "      <td>2015-01-27</td>\n",
              "      <td>5V</td>\n",
              "      <td>85.0</td>\n",
              "      <td>11.15</td>\n",
              "      <td>22.3</td>\n",
              "      <td>1.0</td>\n",
              "      <td>MANUEL ESCUDERO GARCIA</td>\n",
              "      <td>7V</td>\n",
              "      <td>ANW</td>\n",
              "      <td>WVWZZZ1KZ9W487026</td>\n",
              "      <td>NaN</td>\n",
              "      <td>NaN</td>\n",
              "    </tr>\n",
              "    <tr>\n",
              "      <th>4</th>\n",
              "      <td>1</td>\n",
              "      <td>98253</td>\n",
              "      <td>6522204.0</td>\n",
              "      <td>27/01/15</td>\n",
              "      <td>11/5K0919493G</td>\n",
              "      <td>8</td>\n",
              "      <td>HALTER 10</td>\n",
              "      <td>2.0</td>\n",
              "      <td>13.60</td>\n",
              "      <td>10.0</td>\n",
              "      <td>12.24</td>\n",
              "      <td>12.54</td>\n",
              "      <td>-0.30</td>\n",
              "      <td>0.0</td>\n",
              "      <td>0.0</td>\n",
              "      <td>0.0</td>\n",
              "      <td>2015-01-27</td>\n",
              "      <td>5V</td>\n",
              "      <td>85.0</td>\n",
              "      <td>11.15</td>\n",
              "      <td>22.3</td>\n",
              "      <td>1.0</td>\n",
              "      <td>MANUEL ESCUDERO GARCIA</td>\n",
              "      <td>7V</td>\n",
              "      <td>ANW</td>\n",
              "      <td>WVWZZZ1KZ9W487026</td>\n",
              "      <td>NaN</td>\n",
              "      <td>NaN</td>\n",
              "    </tr>\n",
              "  </tbody>\n",
              "</table>\n",
              "</div>\n",
              "      <button class=\"colab-df-convert\" onclick=\"convertToInteractive('df-681ec249-444a-4388-9530-c1357c41f435')\"\n",
              "              title=\"Convert this dataframe to an interactive table.\"\n",
              "              style=\"display:none;\">\n",
              "        \n",
              "  <svg xmlns=\"http://www.w3.org/2000/svg\" height=\"24px\"viewBox=\"0 0 24 24\"\n",
              "       width=\"24px\">\n",
              "    <path d=\"M0 0h24v24H0V0z\" fill=\"none\"/>\n",
              "    <path d=\"M18.56 5.44l.94 2.06.94-2.06 2.06-.94-2.06-.94-.94-2.06-.94 2.06-2.06.94zm-11 1L8.5 8.5l.94-2.06 2.06-.94-2.06-.94L8.5 2.5l-.94 2.06-2.06.94zm10 10l.94 2.06.94-2.06 2.06-.94-2.06-.94-.94-2.06-.94 2.06-2.06.94z\"/><path d=\"M17.41 7.96l-1.37-1.37c-.4-.4-.92-.59-1.43-.59-.52 0-1.04.2-1.43.59L10.3 9.45l-7.72 7.72c-.78.78-.78 2.05 0 2.83L4 21.41c.39.39.9.59 1.41.59.51 0 1.02-.2 1.41-.59l7.78-7.78 2.81-2.81c.8-.78.8-2.07 0-2.86zM5.41 20L4 18.59l7.72-7.72 1.47 1.35L5.41 20z\"/>\n",
              "  </svg>\n",
              "      </button>\n",
              "      \n",
              "  <style>\n",
              "    .colab-df-container {\n",
              "      display:flex;\n",
              "      flex-wrap:wrap;\n",
              "      gap: 12px;\n",
              "    }\n",
              "\n",
              "    .colab-df-convert {\n",
              "      background-color: #E8F0FE;\n",
              "      border: none;\n",
              "      border-radius: 50%;\n",
              "      cursor: pointer;\n",
              "      display: none;\n",
              "      fill: #1967D2;\n",
              "      height: 32px;\n",
              "      padding: 0 0 0 0;\n",
              "      width: 32px;\n",
              "    }\n",
              "\n",
              "    .colab-df-convert:hover {\n",
              "      background-color: #E2EBFA;\n",
              "      box-shadow: 0px 1px 2px rgba(60, 64, 67, 0.3), 0px 1px 3px 1px rgba(60, 64, 67, 0.15);\n",
              "      fill: #174EA6;\n",
              "    }\n",
              "\n",
              "    [theme=dark] .colab-df-convert {\n",
              "      background-color: #3B4455;\n",
              "      fill: #D2E3FC;\n",
              "    }\n",
              "\n",
              "    [theme=dark] .colab-df-convert:hover {\n",
              "      background-color: #434B5C;\n",
              "      box-shadow: 0px 1px 3px 1px rgba(0, 0, 0, 0.15);\n",
              "      filter: drop-shadow(0px 1px 2px rgba(0, 0, 0, 0.3));\n",
              "      fill: #FFFFFF;\n",
              "    }\n",
              "  </style>\n",
              "\n",
              "      <script>\n",
              "        const buttonEl =\n",
              "          document.querySelector('#df-681ec249-444a-4388-9530-c1357c41f435 button.colab-df-convert');\n",
              "        buttonEl.style.display =\n",
              "          google.colab.kernel.accessAllowed ? 'block' : 'none';\n",
              "\n",
              "        async function convertToInteractive(key) {\n",
              "          const element = document.querySelector('#df-681ec249-444a-4388-9530-c1357c41f435');\n",
              "          const dataTable =\n",
              "            await google.colab.kernel.invokeFunction('convertToInteractive',\n",
              "                                                     [key], {});\n",
              "          if (!dataTable) return;\n",
              "\n",
              "          const docLinkHtml = 'Like what you see? Visit the ' +\n",
              "            '<a target=\"_blank\" href=https://colab.research.google.com/notebooks/data_table.ipynb>data table notebook</a>'\n",
              "            + ' to learn more about interactive tables.';\n",
              "          element.innerHTML = '';\n",
              "          dataTable['output_type'] = 'display_data';\n",
              "          await google.colab.output.renderOutput(dataTable, element);\n",
              "          const docLink = document.createElement('div');\n",
              "          docLink.innerHTML = docLinkHtml;\n",
              "          element.appendChild(docLink);\n",
              "        }\n",
              "      </script>\n",
              "    </div>\n",
              "  </div>\n",
              "  "
            ]
          },
          "metadata": {},
          "execution_count": 209
        }
      ]
    },
    {
      "cell_type": "code",
      "source": [
        "total_recambios_final_todos_anos.shape"
      ],
      "metadata": {
        "colab": {
          "base_uri": "https://localhost:8080/"
        },
        "id": "KfWN6JSKEcz0",
        "outputId": "6a312505-8185-423b-d2e3-aade700575ce"
      },
      "execution_count": 206,
      "outputs": [
        {
          "output_type": "execute_result",
          "data": {
            "text/plain": [
              "(1485019, 28)"
            ]
          },
          "metadata": {},
          "execution_count": 206
        }
      ]
    },
    {
      "cell_type": "code",
      "source": [
        "total_recambios_final_todos_anos.columns"
      ],
      "metadata": {
        "colab": {
          "base_uri": "https://localhost:8080/"
        },
        "id": "7o-tMsUjFr0L",
        "outputId": "bf0ff6b4-47b3-4ba8-93f7-4cd94980fdc4"
      },
      "execution_count": 210,
      "outputs": [
        {
          "output_type": "execute_result",
          "data": {
            "text/plain": [
              "Index(['Alma', 'Cuenta', 'Refer', 'Fech_Salida', 'Articulo', 'Clav',\n",
              "       'Denominacion', 'Canti', 'PVP', 'Dto', 'Neto', 'Costo', 'Beneficio',\n",
              "       'COM', 'Comision', 'Famil_apr', 'Fech_cierre', 'Tipo', 'Recep', 'PVP1',\n",
              "       'TOTAL_PVP', 'Opera', 'Nombre', 'Tipo_venta', 'Famil', 'Bastidor',\n",
              "       'P.V.P._1', 'Tipo_2'],\n",
              "      dtype='object')"
            ]
          },
          "metadata": {},
          "execution_count": 210
        }
      ]
    },
    {
      "cell_type": "code",
      "source": [
        "total_recambios_final_todos_anos.isnull().sum()"
      ],
      "metadata": {
        "colab": {
          "base_uri": "https://localhost:8080/"
        },
        "id": "3o4JbWZpEkzV",
        "outputId": "00af8f86-268a-4b01-9c2b-dc4f55cae21a"
      },
      "execution_count": 207,
      "outputs": [
        {
          "output_type": "execute_result",
          "data": {
            "text/plain": [
              "Alma                  0\n",
              "Cuenta                0\n",
              "Refer                 0\n",
              "Fech_Salida           8\n",
              "Articulo              0\n",
              "Clav             105203\n",
              "Denominacion          1\n",
              "Canti                 0\n",
              "PVP                   0\n",
              "Dto              558180\n",
              "Neto                  0\n",
              "Costo                 0\n",
              "Beneficio             0\n",
              "COM                   0\n",
              "Comision              0\n",
              "Famil_apr             0\n",
              "Fech_cierre           0\n",
              "Tipo                  0\n",
              "Recep                 0\n",
              "PVP1              92586\n",
              "TOTAL_PVP             0\n",
              "Opera               310\n",
              "Nombre              314\n",
              "Tipo_venta        92586\n",
              "Famil                14\n",
              "Bastidor            137\n",
              "P.V.P._1        1392433\n",
              "Tipo_2          1392433\n",
              "dtype: int64"
            ]
          },
          "metadata": {},
          "execution_count": 207
        }
      ]
    },
    {
      "cell_type": "code",
      "source": [
        "total_recambios_final_todos_anos = total_recambios_final_todos_anos.drop(['P.V.P._1', 'Tipo_2'], axis=1)\n",
        "# me quito las dos columnas de más. "
      ],
      "metadata": {
        "id": "rCHeoxdkErQ8"
      },
      "execution_count": 211,
      "outputs": []
    },
    {
      "cell_type": "code",
      "source": [
        "total_recambios_final_todos_anos.shape"
      ],
      "metadata": {
        "colab": {
          "base_uri": "https://localhost:8080/"
        },
        "id": "d6n_2cLDGBUF",
        "outputId": "928860d5-8087-4784-c548-27a5216abe8c"
      },
      "execution_count": 212,
      "outputs": [
        {
          "output_type": "execute_result",
          "data": {
            "text/plain": [
              "(1485019, 26)"
            ]
          },
          "metadata": {},
          "execution_count": 212
        }
      ]
    },
    {
      "cell_type": "code",
      "source": [
        "# lo primero que voy a hacer es cambiar de tipo de datos. \n",
        "total_recambios_final_todos_anos[\"Alma\"] = total_recambios_final_todos_anos[\"Alma\"].apply(str)\n",
        "total_recambios_final_todos_anos[\"Cuenta\"] = total_recambios_final_todos_anos[\"Cuenta\"].apply(str)\n",
        "total_recambios_final_todos_anos[\"Refer\"] = total_recambios_final_todos_anos[\"Refer\"].apply(str)\n",
        "total_recambios_final_todos_anos[\"Fech_cierre\"] = pd.to_datetime(total_recambios_final_todos_anos[\"Fech_cierre\"])\n",
        "total_recambios_final_todos_anos[\"Articulo\"] = total_recambios_final_todos_anos[\"Articulo\"].apply(str)\n",
        "total_recambios_final_todos_anos[\"Clav\"] = total_recambios_final_todos_anos[\"Clav\"].apply(str)\n",
        "total_recambios_final_todos_anos[\"Denominacion\"] = total_recambios_final_todos_anos[\"Denominacion\"].apply(str)\n",
        "total_recambios_final_todos_anos[\"Canti\"] = total_recambios_final_todos_anos[\"Canti\"].apply(float)\n",
        "total_recambios_final_todos_anos[\"PVP\"] = total_recambios_final_todos_anos[\"PVP\"].apply(float)\n",
        "total_recambios_final_todos_anos[\"Dto\"] = total_recambios_final_todos_anos[\"Dto\"].apply(float)\n",
        "total_recambios_final_todos_anos[\"Neto\"] = total_recambios_final_todos_anos[\"Neto\"].apply(float)\n",
        "total_recambios_final_todos_anos[\"Costo\"] = total_recambios_final_todos_anos[\"Costo\"].apply(float)\n",
        "total_recambios_final_todos_anos[\"Beneficio\"] = total_recambios_final_todos_anos[\"Beneficio\"].apply(float)\n",
        "total_recambios_final_todos_anos[\"COM\"] = total_recambios_final_todos_anos[\"COM\"].apply(float)\n",
        "total_recambios_final_todos_anos[\"Comision\"] = total_recambios_final_todos_anos[\"Comision\"].apply(float)\n",
        "total_recambios_final_todos_anos[\"Famil_apr\"] = total_recambios_final_todos_anos[\"COM\"].apply(str)\n",
        "total_recambios_final_todos_anos[\"Tipo\"] = total_recambios_final_todos_anos[\"Tipo\"].apply(str)\n",
        "total_recambios_final_todos_anos[\"Recep\"] = total_recambios_final_todos_anos[\"Recep\"].apply(str)\n",
        "\"\"\"total_recambios_final_todos_anos[\"PVP1\"] = total_recambios_final_todos_anos[\"PVP1\"].apply(float)\"\"\"\n",
        "total_recambios_final_todos_anos[\"TOTAL_PVP\"] = total_recambios_final_todos_anos[\"TOTAL_PVP\"].apply(float)\n",
        "total_recambios_final_todos_anos[\"Opera\"] = total_recambios_final_todos_anos[\"Opera\"].apply(str)\n",
        "total_recambios_final_todos_anos[\"Nombre\"] = total_recambios_final_todos_anos[\"Nombre\"].apply(str)\n",
        "\"\"\"total_recambios_final_todos_anos[\"Tipo_venta\"] = total_recambios_final_todos_anos[\"Tipo_venta\"].apply(str)\"\"\"\n",
        "total_recambios_final_todos_anos[\"Famil\"] = total_recambios_final_todos_anos[\"Famil\"].apply(str)\n",
        "total_recambios_final_todos_anos[\"Bastidor\"] = total_recambios_final_todos_anos[\"Bastidor\"].apply(str)"
      ],
      "metadata": {
        "id": "w5JbPD6qH4Dc"
      },
      "execution_count": 214,
      "outputs": []
    },
    {
      "cell_type": "code",
      "source": [
        "total_recambios_final_todos_anos.info()"
      ],
      "metadata": {
        "colab": {
          "base_uri": "https://localhost:8080/"
        },
        "id": "dGywg9ilII1H",
        "outputId": "58576757-d559-4e72-a1e2-36eaa55f3fb2"
      },
      "execution_count": 216,
      "outputs": [
        {
          "output_type": "stream",
          "name": "stdout",
          "text": [
            "<class 'pandas.core.frame.DataFrame'>\n",
            "Int64Index: 1485019 entries, 0 to 14769\n",
            "Data columns (total 26 columns):\n",
            " #   Column        Non-Null Count    Dtype         \n",
            "---  ------        --------------    -----         \n",
            " 0   Alma          1485019 non-null  object        \n",
            " 1   Cuenta        1485019 non-null  object        \n",
            " 2   Refer         1485019 non-null  object        \n",
            " 3   Fech_Salida   1485011 non-null  object        \n",
            " 4   Articulo      1485019 non-null  object        \n",
            " 5   Clav          1485019 non-null  object        \n",
            " 6   Denominacion  1485019 non-null  object        \n",
            " 7   Canti         1485019 non-null  float64       \n",
            " 8   PVP           1485019 non-null  float64       \n",
            " 9   Dto           926839 non-null   float64       \n",
            " 10  Neto          1485019 non-null  float64       \n",
            " 11  Costo         1485019 non-null  float64       \n",
            " 12  Beneficio     1485019 non-null  float64       \n",
            " 13  COM           1485019 non-null  float64       \n",
            " 14  Comision      1485019 non-null  float64       \n",
            " 15  Famil_apr     1485019 non-null  object        \n",
            " 16  Fech_cierre   1485019 non-null  datetime64[ns]\n",
            " 17  Tipo          1485019 non-null  object        \n",
            " 18  Recep         1485019 non-null  object        \n",
            " 19  PVP1          1392433 non-null  float64       \n",
            " 20  TOTAL_PVP     1485019 non-null  float64       \n",
            " 21  Opera         1485019 non-null  object        \n",
            " 22  Nombre        1485019 non-null  object        \n",
            " 23  Tipo_venta    1392433 non-null  object        \n",
            " 24  Famil         1485019 non-null  object        \n",
            " 25  Bastidor      1485019 non-null  object        \n",
            "dtypes: datetime64[ns](1), float64(10), object(15)\n",
            "memory usage: 305.9+ MB\n"
          ]
        }
      ]
    },
    {
      "cell_type": "code",
      "source": [
        "mis_columnas = [\"Alma\", \"Refer\", \"Articulo\", \"Clav\", \"Canti\", \"PVP\", \"Fech_cierre\", \"Opera\", \"Tipo_venta\", \"Famil\", \"Bastidor\", \"Recep\" ]\n",
        "df = total_recambios_final_todos_anos[mis_columnas]"
      ],
      "metadata": {
        "id": "svDNYSRIIR5N"
      },
      "execution_count": 249,
      "outputs": []
    },
    {
      "cell_type": "code",
      "source": [
        "df.head(2)"
      ],
      "metadata": {
        "colab": {
          "base_uri": "https://localhost:8080/",
          "height": 112
        },
        "id": "rf6eERKVJ3Bs",
        "outputId": "c2baff10-a3d9-408b-b34d-b0c258816699"
      },
      "execution_count": 250,
      "outputs": [
        {
          "output_type": "execute_result",
          "data": {
            "text/plain": [
              "  Alma      Refer           Articulo  ... Famil           Bastidor  Recep\n",
              "0    1  6522204.0      11/5K0807109M  ...   AL8  WVWZZZ1KZ9W487026   85.0\n",
              "1    1  6522204.0  11/5K0807217BLGRU  ...   ALH  WVWZZZ1KZ9W487026   85.0\n",
              "\n",
              "[2 rows x 12 columns]"
            ],
            "text/html": [
              "\n",
              "  <div id=\"df-52d722df-bc85-47ea-8667-e829df598adf\">\n",
              "    <div class=\"colab-df-container\">\n",
              "      <div>\n",
              "<style scoped>\n",
              "    .dataframe tbody tr th:only-of-type {\n",
              "        vertical-align: middle;\n",
              "    }\n",
              "\n",
              "    .dataframe tbody tr th {\n",
              "        vertical-align: top;\n",
              "    }\n",
              "\n",
              "    .dataframe thead th {\n",
              "        text-align: right;\n",
              "    }\n",
              "</style>\n",
              "<table border=\"1\" class=\"dataframe\">\n",
              "  <thead>\n",
              "    <tr style=\"text-align: right;\">\n",
              "      <th></th>\n",
              "      <th>Alma</th>\n",
              "      <th>Refer</th>\n",
              "      <th>Articulo</th>\n",
              "      <th>Clav</th>\n",
              "      <th>Canti</th>\n",
              "      <th>PVP</th>\n",
              "      <th>Fech_cierre</th>\n",
              "      <th>Opera</th>\n",
              "      <th>Tipo_venta</th>\n",
              "      <th>Famil</th>\n",
              "      <th>Bastidor</th>\n",
              "      <th>Recep</th>\n",
              "    </tr>\n",
              "  </thead>\n",
              "  <tbody>\n",
              "    <tr>\n",
              "      <th>0</th>\n",
              "      <td>1</td>\n",
              "      <td>6522204.0</td>\n",
              "      <td>11/5K0807109M</td>\n",
              "      <td>6</td>\n",
              "      <td>1.0</td>\n",
              "      <td>173.93</td>\n",
              "      <td>2015-01-27</td>\n",
              "      <td>1.0</td>\n",
              "      <td>7V</td>\n",
              "      <td>AL8</td>\n",
              "      <td>WVWZZZ1KZ9W487026</td>\n",
              "      <td>85.0</td>\n",
              "    </tr>\n",
              "    <tr>\n",
              "      <th>1</th>\n",
              "      <td>1</td>\n",
              "      <td>6522204.0</td>\n",
              "      <td>11/5K0807217BLGRU</td>\n",
              "      <td>4</td>\n",
              "      <td>1.0</td>\n",
              "      <td>316.39</td>\n",
              "      <td>2015-01-27</td>\n",
              "      <td>1.0</td>\n",
              "      <td>7V</td>\n",
              "      <td>ALH</td>\n",
              "      <td>WVWZZZ1KZ9W487026</td>\n",
              "      <td>85.0</td>\n",
              "    </tr>\n",
              "  </tbody>\n",
              "</table>\n",
              "</div>\n",
              "      <button class=\"colab-df-convert\" onclick=\"convertToInteractive('df-52d722df-bc85-47ea-8667-e829df598adf')\"\n",
              "              title=\"Convert this dataframe to an interactive table.\"\n",
              "              style=\"display:none;\">\n",
              "        \n",
              "  <svg xmlns=\"http://www.w3.org/2000/svg\" height=\"24px\"viewBox=\"0 0 24 24\"\n",
              "       width=\"24px\">\n",
              "    <path d=\"M0 0h24v24H0V0z\" fill=\"none\"/>\n",
              "    <path d=\"M18.56 5.44l.94 2.06.94-2.06 2.06-.94-2.06-.94-.94-2.06-.94 2.06-2.06.94zm-11 1L8.5 8.5l.94-2.06 2.06-.94-2.06-.94L8.5 2.5l-.94 2.06-2.06.94zm10 10l.94 2.06.94-2.06 2.06-.94-2.06-.94-.94-2.06-.94 2.06-2.06.94z\"/><path d=\"M17.41 7.96l-1.37-1.37c-.4-.4-.92-.59-1.43-.59-.52 0-1.04.2-1.43.59L10.3 9.45l-7.72 7.72c-.78.78-.78 2.05 0 2.83L4 21.41c.39.39.9.59 1.41.59.51 0 1.02-.2 1.41-.59l7.78-7.78 2.81-2.81c.8-.78.8-2.07 0-2.86zM5.41 20L4 18.59l7.72-7.72 1.47 1.35L5.41 20z\"/>\n",
              "  </svg>\n",
              "      </button>\n",
              "      \n",
              "  <style>\n",
              "    .colab-df-container {\n",
              "      display:flex;\n",
              "      flex-wrap:wrap;\n",
              "      gap: 12px;\n",
              "    }\n",
              "\n",
              "    .colab-df-convert {\n",
              "      background-color: #E8F0FE;\n",
              "      border: none;\n",
              "      border-radius: 50%;\n",
              "      cursor: pointer;\n",
              "      display: none;\n",
              "      fill: #1967D2;\n",
              "      height: 32px;\n",
              "      padding: 0 0 0 0;\n",
              "      width: 32px;\n",
              "    }\n",
              "\n",
              "    .colab-df-convert:hover {\n",
              "      background-color: #E2EBFA;\n",
              "      box-shadow: 0px 1px 2px rgba(60, 64, 67, 0.3), 0px 1px 3px 1px rgba(60, 64, 67, 0.15);\n",
              "      fill: #174EA6;\n",
              "    }\n",
              "\n",
              "    [theme=dark] .colab-df-convert {\n",
              "      background-color: #3B4455;\n",
              "      fill: #D2E3FC;\n",
              "    }\n",
              "\n",
              "    [theme=dark] .colab-df-convert:hover {\n",
              "      background-color: #434B5C;\n",
              "      box-shadow: 0px 1px 3px 1px rgba(0, 0, 0, 0.15);\n",
              "      filter: drop-shadow(0px 1px 2px rgba(0, 0, 0, 0.3));\n",
              "      fill: #FFFFFF;\n",
              "    }\n",
              "  </style>\n",
              "\n",
              "      <script>\n",
              "        const buttonEl =\n",
              "          document.querySelector('#df-52d722df-bc85-47ea-8667-e829df598adf button.colab-df-convert');\n",
              "        buttonEl.style.display =\n",
              "          google.colab.kernel.accessAllowed ? 'block' : 'none';\n",
              "\n",
              "        async function convertToInteractive(key) {\n",
              "          const element = document.querySelector('#df-52d722df-bc85-47ea-8667-e829df598adf');\n",
              "          const dataTable =\n",
              "            await google.colab.kernel.invokeFunction('convertToInteractive',\n",
              "                                                     [key], {});\n",
              "          if (!dataTable) return;\n",
              "\n",
              "          const docLinkHtml = 'Like what you see? Visit the ' +\n",
              "            '<a target=\"_blank\" href=https://colab.research.google.com/notebooks/data_table.ipynb>data table notebook</a>'\n",
              "            + ' to learn more about interactive tables.';\n",
              "          element.innerHTML = '';\n",
              "          dataTable['output_type'] = 'display_data';\n",
              "          await google.colab.output.renderOutput(dataTable, element);\n",
              "          const docLink = document.createElement('div');\n",
              "          docLink.innerHTML = docLinkHtml;\n",
              "          element.appendChild(docLink);\n",
              "        }\n",
              "      </script>\n",
              "    </div>\n",
              "  </div>\n",
              "  "
            ]
          },
          "metadata": {},
          "execution_count": 250
        }
      ]
    },
    {
      "cell_type": "code",
      "source": [
        "df[\"Orden_corta2\"] = df.apply(lambda x: x[\"Refer\"][:-3], axis=1)\n",
        "df.head()"
      ],
      "metadata": {
        "colab": {
          "base_uri": "https://localhost:8080/",
          "height": 206
        },
        "id": "01BCjWalKAMd",
        "outputId": "cf8837fd-2218-4d8e-9e8d-b51c4487c377"
      },
      "execution_count": 251,
      "outputs": [
        {
          "output_type": "execute_result",
          "data": {
            "text/plain": [
              "  Alma      Refer           Articulo  ...           Bastidor  Recep  Orden_corta2\n",
              "0    1  6522204.0      11/5K0807109M  ...  WVWZZZ1KZ9W487026   85.0        652220\n",
              "1    1  6522204.0  11/5K0807217BLGRU  ...  WVWZZZ1KZ9W487026   85.0        652220\n",
              "2    1  6522204.0      11/5K0807571J  ...  WVWZZZ1KZ9W487026   85.0        652220\n",
              "3    1  6522204.0      11/5K0919491B  ...  WVWZZZ1KZ9W487026   85.0        652220\n",
              "4    1  6522204.0      11/5K0919493G  ...  WVWZZZ1KZ9W487026   85.0        652220\n",
              "\n",
              "[5 rows x 13 columns]"
            ],
            "text/html": [
              "\n",
              "  <div id=\"df-a73a675b-3f73-4fc2-a641-0784bae3e597\">\n",
              "    <div class=\"colab-df-container\">\n",
              "      <div>\n",
              "<style scoped>\n",
              "    .dataframe tbody tr th:only-of-type {\n",
              "        vertical-align: middle;\n",
              "    }\n",
              "\n",
              "    .dataframe tbody tr th {\n",
              "        vertical-align: top;\n",
              "    }\n",
              "\n",
              "    .dataframe thead th {\n",
              "        text-align: right;\n",
              "    }\n",
              "</style>\n",
              "<table border=\"1\" class=\"dataframe\">\n",
              "  <thead>\n",
              "    <tr style=\"text-align: right;\">\n",
              "      <th></th>\n",
              "      <th>Alma</th>\n",
              "      <th>Refer</th>\n",
              "      <th>Articulo</th>\n",
              "      <th>Clav</th>\n",
              "      <th>Canti</th>\n",
              "      <th>PVP</th>\n",
              "      <th>Fech_cierre</th>\n",
              "      <th>Opera</th>\n",
              "      <th>Tipo_venta</th>\n",
              "      <th>Famil</th>\n",
              "      <th>Bastidor</th>\n",
              "      <th>Recep</th>\n",
              "      <th>Orden_corta2</th>\n",
              "    </tr>\n",
              "  </thead>\n",
              "  <tbody>\n",
              "    <tr>\n",
              "      <th>0</th>\n",
              "      <td>1</td>\n",
              "      <td>6522204.0</td>\n",
              "      <td>11/5K0807109M</td>\n",
              "      <td>6</td>\n",
              "      <td>1.0</td>\n",
              "      <td>173.93</td>\n",
              "      <td>2015-01-27</td>\n",
              "      <td>1.0</td>\n",
              "      <td>7V</td>\n",
              "      <td>AL8</td>\n",
              "      <td>WVWZZZ1KZ9W487026</td>\n",
              "      <td>85.0</td>\n",
              "      <td>652220</td>\n",
              "    </tr>\n",
              "    <tr>\n",
              "      <th>1</th>\n",
              "      <td>1</td>\n",
              "      <td>6522204.0</td>\n",
              "      <td>11/5K0807217BLGRU</td>\n",
              "      <td>4</td>\n",
              "      <td>1.0</td>\n",
              "      <td>316.39</td>\n",
              "      <td>2015-01-27</td>\n",
              "      <td>1.0</td>\n",
              "      <td>7V</td>\n",
              "      <td>ALH</td>\n",
              "      <td>WVWZZZ1KZ9W487026</td>\n",
              "      <td>85.0</td>\n",
              "      <td>652220</td>\n",
              "    </tr>\n",
              "    <tr>\n",
              "      <th>2</th>\n",
              "      <td>1</td>\n",
              "      <td>6522204.0</td>\n",
              "      <td>11/5K0807571J</td>\n",
              "      <td>6</td>\n",
              "      <td>1.0</td>\n",
              "      <td>31.75</td>\n",
              "      <td>2015-01-27</td>\n",
              "      <td>1.0</td>\n",
              "      <td>7V</td>\n",
              "      <td>AL7</td>\n",
              "      <td>WVWZZZ1KZ9W487026</td>\n",
              "      <td>85.0</td>\n",
              "      <td>652220</td>\n",
              "    </tr>\n",
              "    <tr>\n",
              "      <th>3</th>\n",
              "      <td>1</td>\n",
              "      <td>6522204.0</td>\n",
              "      <td>11/5K0919491B</td>\n",
              "      <td>8</td>\n",
              "      <td>2.0</td>\n",
              "      <td>13.60</td>\n",
              "      <td>2015-01-27</td>\n",
              "      <td>1.0</td>\n",
              "      <td>7V</td>\n",
              "      <td>ANW</td>\n",
              "      <td>WVWZZZ1KZ9W487026</td>\n",
              "      <td>85.0</td>\n",
              "      <td>652220</td>\n",
              "    </tr>\n",
              "    <tr>\n",
              "      <th>4</th>\n",
              "      <td>1</td>\n",
              "      <td>6522204.0</td>\n",
              "      <td>11/5K0919493G</td>\n",
              "      <td>8</td>\n",
              "      <td>2.0</td>\n",
              "      <td>13.60</td>\n",
              "      <td>2015-01-27</td>\n",
              "      <td>1.0</td>\n",
              "      <td>7V</td>\n",
              "      <td>ANW</td>\n",
              "      <td>WVWZZZ1KZ9W487026</td>\n",
              "      <td>85.0</td>\n",
              "      <td>652220</td>\n",
              "    </tr>\n",
              "  </tbody>\n",
              "</table>\n",
              "</div>\n",
              "      <button class=\"colab-df-convert\" onclick=\"convertToInteractive('df-a73a675b-3f73-4fc2-a641-0784bae3e597')\"\n",
              "              title=\"Convert this dataframe to an interactive table.\"\n",
              "              style=\"display:none;\">\n",
              "        \n",
              "  <svg xmlns=\"http://www.w3.org/2000/svg\" height=\"24px\"viewBox=\"0 0 24 24\"\n",
              "       width=\"24px\">\n",
              "    <path d=\"M0 0h24v24H0V0z\" fill=\"none\"/>\n",
              "    <path d=\"M18.56 5.44l.94 2.06.94-2.06 2.06-.94-2.06-.94-.94-2.06-.94 2.06-2.06.94zm-11 1L8.5 8.5l.94-2.06 2.06-.94-2.06-.94L8.5 2.5l-.94 2.06-2.06.94zm10 10l.94 2.06.94-2.06 2.06-.94-2.06-.94-.94-2.06-.94 2.06-2.06.94z\"/><path d=\"M17.41 7.96l-1.37-1.37c-.4-.4-.92-.59-1.43-.59-.52 0-1.04.2-1.43.59L10.3 9.45l-7.72 7.72c-.78.78-.78 2.05 0 2.83L4 21.41c.39.39.9.59 1.41.59.51 0 1.02-.2 1.41-.59l7.78-7.78 2.81-2.81c.8-.78.8-2.07 0-2.86zM5.41 20L4 18.59l7.72-7.72 1.47 1.35L5.41 20z\"/>\n",
              "  </svg>\n",
              "      </button>\n",
              "      \n",
              "  <style>\n",
              "    .colab-df-container {\n",
              "      display:flex;\n",
              "      flex-wrap:wrap;\n",
              "      gap: 12px;\n",
              "    }\n",
              "\n",
              "    .colab-df-convert {\n",
              "      background-color: #E8F0FE;\n",
              "      border: none;\n",
              "      border-radius: 50%;\n",
              "      cursor: pointer;\n",
              "      display: none;\n",
              "      fill: #1967D2;\n",
              "      height: 32px;\n",
              "      padding: 0 0 0 0;\n",
              "      width: 32px;\n",
              "    }\n",
              "\n",
              "    .colab-df-convert:hover {\n",
              "      background-color: #E2EBFA;\n",
              "      box-shadow: 0px 1px 2px rgba(60, 64, 67, 0.3), 0px 1px 3px 1px rgba(60, 64, 67, 0.15);\n",
              "      fill: #174EA6;\n",
              "    }\n",
              "\n",
              "    [theme=dark] .colab-df-convert {\n",
              "      background-color: #3B4455;\n",
              "      fill: #D2E3FC;\n",
              "    }\n",
              "\n",
              "    [theme=dark] .colab-df-convert:hover {\n",
              "      background-color: #434B5C;\n",
              "      box-shadow: 0px 1px 3px 1px rgba(0, 0, 0, 0.15);\n",
              "      filter: drop-shadow(0px 1px 2px rgba(0, 0, 0, 0.3));\n",
              "      fill: #FFFFFF;\n",
              "    }\n",
              "  </style>\n",
              "\n",
              "      <script>\n",
              "        const buttonEl =\n",
              "          document.querySelector('#df-a73a675b-3f73-4fc2-a641-0784bae3e597 button.colab-df-convert');\n",
              "        buttonEl.style.display =\n",
              "          google.colab.kernel.accessAllowed ? 'block' : 'none';\n",
              "\n",
              "        async function convertToInteractive(key) {\n",
              "          const element = document.querySelector('#df-a73a675b-3f73-4fc2-a641-0784bae3e597');\n",
              "          const dataTable =\n",
              "            await google.colab.kernel.invokeFunction('convertToInteractive',\n",
              "                                                     [key], {});\n",
              "          if (!dataTable) return;\n",
              "\n",
              "          const docLinkHtml = 'Like what you see? Visit the ' +\n",
              "            '<a target=\"_blank\" href=https://colab.research.google.com/notebooks/data_table.ipynb>data table notebook</a>'\n",
              "            + ' to learn more about interactive tables.';\n",
              "          element.innerHTML = '';\n",
              "          dataTable['output_type'] = 'display_data';\n",
              "          await google.colab.output.renderOutput(dataTable, element);\n",
              "          const docLink = document.createElement('div');\n",
              "          docLink.innerHTML = docLinkHtml;\n",
              "          element.appendChild(docLink);\n",
              "        }\n",
              "      </script>\n",
              "    </div>\n",
              "  </div>\n",
              "  "
            ]
          },
          "metadata": {},
          "execution_count": 251
        }
      ]
    },
    {
      "cell_type": "code",
      "source": [
        "print(\"la fecha va desde {} a {}\".format(df.Fech_cierre.min(), df.Fech_cierre.max()))"
      ],
      "metadata": {
        "colab": {
          "base_uri": "https://localhost:8080/"
        },
        "id": "MozaradGLCET",
        "outputId": "04f2f2e9-eaf7-4b95-bf8c-59e492f86e87"
      },
      "execution_count": 252,
      "outputs": [
        {
          "output_type": "stream",
          "name": "stdout",
          "text": [
            "la fecha va desde 2015-01-04 00:00:00 a 2022-06-30 00:00:00\n"
          ]
        }
      ]
    },
    {
      "cell_type": "markdown",
      "source": [
        "# EMPEZAMOS A HACER EL ESTUDIO. "
      ],
      "metadata": {
        "id": "0OKmyZ7OK03v"
      }
    },
    {
      "cell_type": "markdown",
      "source": [
        "![image.png](data:image/png;base64,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)"
      ],
      "metadata": {
        "id": "E6XEEtvgPsr8"
      }
    },
    {
      "cell_type": "code",
      "source": [
        "# for data manipulation and analysis\n",
        "import pandas as pd\n",
        "import numpy as np\n",
        "\n",
        "# for plotting\n",
        "import seaborn as sns\n",
        "import matplotlib.pyplot as plt\n",
        "from mpl_toolkits import mplot3d\n",
        "sns.set_style('darkgrid')\n",
        "\n",
        "# Silhouette analysis\n",
        "from sklearn.metrics import silhouette_score\n",
        "\n",
        "# To perform KMeans clustering \n",
        "from sklearn.cluster import KMeans\n",
        "\n",
        "# for scaling\n",
        "from sklearn.preprocessing import StandardScaler\n",
        "\n",
        "import warnings\n",
        "warnings.filterwarnings('ignore')"
      ],
      "metadata": {
        "id": "HMRmg0gnNCxc"
      },
      "execution_count": 253,
      "outputs": []
    },
    {
      "cell_type": "code",
      "source": [
        "pd.options.display.max_columns = 0"
      ],
      "metadata": {
        "id": "FITHE6R2Ks0r"
      },
      "execution_count": 254,
      "outputs": []
    },
    {
      "cell_type": "code",
      "source": [
        "from shutil import copy\n",
        "df1 = df.copy()"
      ],
      "metadata": {
        "id": "1G9_v8IdLwdc"
      },
      "execution_count": 255,
      "outputs": []
    },
    {
      "cell_type": "code",
      "source": [
        "df1.head()"
      ],
      "metadata": {
        "id": "QgyAleu_L6AH",
        "outputId": "4c512caf-5f31-42c8-f02c-51fed54c9b96",
        "colab": {
          "base_uri": "https://localhost:8080/",
          "height": 206
        }
      },
      "execution_count": 256,
      "outputs": [
        {
          "output_type": "execute_result",
          "data": {
            "text/plain": [
              "  Alma      Refer           Articulo  ...           Bastidor  Recep  Orden_corta2\n",
              "0    1  6522204.0      11/5K0807109M  ...  WVWZZZ1KZ9W487026   85.0        652220\n",
              "1    1  6522204.0  11/5K0807217BLGRU  ...  WVWZZZ1KZ9W487026   85.0        652220\n",
              "2    1  6522204.0      11/5K0807571J  ...  WVWZZZ1KZ9W487026   85.0        652220\n",
              "3    1  6522204.0      11/5K0919491B  ...  WVWZZZ1KZ9W487026   85.0        652220\n",
              "4    1  6522204.0      11/5K0919493G  ...  WVWZZZ1KZ9W487026   85.0        652220\n",
              "\n",
              "[5 rows x 13 columns]"
            ],
            "text/html": [
              "\n",
              "  <div id=\"df-5f2373de-a5d1-4e0d-bc91-9f9febf9cbfc\">\n",
              "    <div class=\"colab-df-container\">\n",
              "      <div>\n",
              "<style scoped>\n",
              "    .dataframe tbody tr th:only-of-type {\n",
              "        vertical-align: middle;\n",
              "    }\n",
              "\n",
              "    .dataframe tbody tr th {\n",
              "        vertical-align: top;\n",
              "    }\n",
              "\n",
              "    .dataframe thead th {\n",
              "        text-align: right;\n",
              "    }\n",
              "</style>\n",
              "<table border=\"1\" class=\"dataframe\">\n",
              "  <thead>\n",
              "    <tr style=\"text-align: right;\">\n",
              "      <th></th>\n",
              "      <th>Alma</th>\n",
              "      <th>Refer</th>\n",
              "      <th>Articulo</th>\n",
              "      <th>Clav</th>\n",
              "      <th>Canti</th>\n",
              "      <th>PVP</th>\n",
              "      <th>Fech_cierre</th>\n",
              "      <th>Opera</th>\n",
              "      <th>Tipo_venta</th>\n",
              "      <th>Famil</th>\n",
              "      <th>Bastidor</th>\n",
              "      <th>Recep</th>\n",
              "      <th>Orden_corta2</th>\n",
              "    </tr>\n",
              "  </thead>\n",
              "  <tbody>\n",
              "    <tr>\n",
              "      <th>0</th>\n",
              "      <td>1</td>\n",
              "      <td>6522204.0</td>\n",
              "      <td>11/5K0807109M</td>\n",
              "      <td>6</td>\n",
              "      <td>1.0</td>\n",
              "      <td>173.93</td>\n",
              "      <td>2015-01-27</td>\n",
              "      <td>1.0</td>\n",
              "      <td>7V</td>\n",
              "      <td>AL8</td>\n",
              "      <td>WVWZZZ1KZ9W487026</td>\n",
              "      <td>85.0</td>\n",
              "      <td>652220</td>\n",
              "    </tr>\n",
              "    <tr>\n",
              "      <th>1</th>\n",
              "      <td>1</td>\n",
              "      <td>6522204.0</td>\n",
              "      <td>11/5K0807217BLGRU</td>\n",
              "      <td>4</td>\n",
              "      <td>1.0</td>\n",
              "      <td>316.39</td>\n",
              "      <td>2015-01-27</td>\n",
              "      <td>1.0</td>\n",
              "      <td>7V</td>\n",
              "      <td>ALH</td>\n",
              "      <td>WVWZZZ1KZ9W487026</td>\n",
              "      <td>85.0</td>\n",
              "      <td>652220</td>\n",
              "    </tr>\n",
              "    <tr>\n",
              "      <th>2</th>\n",
              "      <td>1</td>\n",
              "      <td>6522204.0</td>\n",
              "      <td>11/5K0807571J</td>\n",
              "      <td>6</td>\n",
              "      <td>1.0</td>\n",
              "      <td>31.75</td>\n",
              "      <td>2015-01-27</td>\n",
              "      <td>1.0</td>\n",
              "      <td>7V</td>\n",
              "      <td>AL7</td>\n",
              "      <td>WVWZZZ1KZ9W487026</td>\n",
              "      <td>85.0</td>\n",
              "      <td>652220</td>\n",
              "    </tr>\n",
              "    <tr>\n",
              "      <th>3</th>\n",
              "      <td>1</td>\n",
              "      <td>6522204.0</td>\n",
              "      <td>11/5K0919491B</td>\n",
              "      <td>8</td>\n",
              "      <td>2.0</td>\n",
              "      <td>13.60</td>\n",
              "      <td>2015-01-27</td>\n",
              "      <td>1.0</td>\n",
              "      <td>7V</td>\n",
              "      <td>ANW</td>\n",
              "      <td>WVWZZZ1KZ9W487026</td>\n",
              "      <td>85.0</td>\n",
              "      <td>652220</td>\n",
              "    </tr>\n",
              "    <tr>\n",
              "      <th>4</th>\n",
              "      <td>1</td>\n",
              "      <td>6522204.0</td>\n",
              "      <td>11/5K0919493G</td>\n",
              "      <td>8</td>\n",
              "      <td>2.0</td>\n",
              "      <td>13.60</td>\n",
              "      <td>2015-01-27</td>\n",
              "      <td>1.0</td>\n",
              "      <td>7V</td>\n",
              "      <td>ANW</td>\n",
              "      <td>WVWZZZ1KZ9W487026</td>\n",
              "      <td>85.0</td>\n",
              "      <td>652220</td>\n",
              "    </tr>\n",
              "  </tbody>\n",
              "</table>\n",
              "</div>\n",
              "      <button class=\"colab-df-convert\" onclick=\"convertToInteractive('df-5f2373de-a5d1-4e0d-bc91-9f9febf9cbfc')\"\n",
              "              title=\"Convert this dataframe to an interactive table.\"\n",
              "              style=\"display:none;\">\n",
              "        \n",
              "  <svg xmlns=\"http://www.w3.org/2000/svg\" height=\"24px\"viewBox=\"0 0 24 24\"\n",
              "       width=\"24px\">\n",
              "    <path d=\"M0 0h24v24H0V0z\" fill=\"none\"/>\n",
              "    <path d=\"M18.56 5.44l.94 2.06.94-2.06 2.06-.94-2.06-.94-.94-2.06-.94 2.06-2.06.94zm-11 1L8.5 8.5l.94-2.06 2.06-.94-2.06-.94L8.5 2.5l-.94 2.06-2.06.94zm10 10l.94 2.06.94-2.06 2.06-.94-2.06-.94-.94-2.06-.94 2.06-2.06.94z\"/><path d=\"M17.41 7.96l-1.37-1.37c-.4-.4-.92-.59-1.43-.59-.52 0-1.04.2-1.43.59L10.3 9.45l-7.72 7.72c-.78.78-.78 2.05 0 2.83L4 21.41c.39.39.9.59 1.41.59.51 0 1.02-.2 1.41-.59l7.78-7.78 2.81-2.81c.8-.78.8-2.07 0-2.86zM5.41 20L4 18.59l7.72-7.72 1.47 1.35L5.41 20z\"/>\n",
              "  </svg>\n",
              "      </button>\n",
              "      \n",
              "  <style>\n",
              "    .colab-df-container {\n",
              "      display:flex;\n",
              "      flex-wrap:wrap;\n",
              "      gap: 12px;\n",
              "    }\n",
              "\n",
              "    .colab-df-convert {\n",
              "      background-color: #E8F0FE;\n",
              "      border: none;\n",
              "      border-radius: 50%;\n",
              "      cursor: pointer;\n",
              "      display: none;\n",
              "      fill: #1967D2;\n",
              "      height: 32px;\n",
              "      padding: 0 0 0 0;\n",
              "      width: 32px;\n",
              "    }\n",
              "\n",
              "    .colab-df-convert:hover {\n",
              "      background-color: #E2EBFA;\n",
              "      box-shadow: 0px 1px 2px rgba(60, 64, 67, 0.3), 0px 1px 3px 1px rgba(60, 64, 67, 0.15);\n",
              "      fill: #174EA6;\n",
              "    }\n",
              "\n",
              "    [theme=dark] .colab-df-convert {\n",
              "      background-color: #3B4455;\n",
              "      fill: #D2E3FC;\n",
              "    }\n",
              "\n",
              "    [theme=dark] .colab-df-convert:hover {\n",
              "      background-color: #434B5C;\n",
              "      box-shadow: 0px 1px 3px 1px rgba(0, 0, 0, 0.15);\n",
              "      filter: drop-shadow(0px 1px 2px rgba(0, 0, 0, 0.3));\n",
              "      fill: #FFFFFF;\n",
              "    }\n",
              "  </style>\n",
              "\n",
              "      <script>\n",
              "        const buttonEl =\n",
              "          document.querySelector('#df-5f2373de-a5d1-4e0d-bc91-9f9febf9cbfc button.colab-df-convert');\n",
              "        buttonEl.style.display =\n",
              "          google.colab.kernel.accessAllowed ? 'block' : 'none';\n",
              "\n",
              "        async function convertToInteractive(key) {\n",
              "          const element = document.querySelector('#df-5f2373de-a5d1-4e0d-bc91-9f9febf9cbfc');\n",
              "          const dataTable =\n",
              "            await google.colab.kernel.invokeFunction('convertToInteractive',\n",
              "                                                     [key], {});\n",
              "          if (!dataTable) return;\n",
              "\n",
              "          const docLinkHtml = 'Like what you see? Visit the ' +\n",
              "            '<a target=\"_blank\" href=https://colab.research.google.com/notebooks/data_table.ipynb>data table notebook</a>'\n",
              "            + ' to learn more about interactive tables.';\n",
              "          element.innerHTML = '';\n",
              "          dataTable['output_type'] = 'display_data';\n",
              "          await google.colab.output.renderOutput(dataTable, element);\n",
              "          const docLink = document.createElement('div');\n",
              "          docLink.innerHTML = docLinkHtml;\n",
              "          element.appendChild(docLink);\n",
              "        }\n",
              "      </script>\n",
              "    </div>\n",
              "  </div>\n",
              "  "
            ]
          },
          "metadata": {},
          "execution_count": 256
        }
      ]
    },
    {
      "cell_type": "code",
      "source": [
        "df1[\"Taller\"] = df1.Alma.replace({\"1\": \"2\", \"2\": \"3\", \"3\": \"6\", \"5\": \"1\", \"9\": \"8\", \"10\": \"8\"})"
      ],
      "metadata": {
        "id": "4RmVHGt4QNPL"
      },
      "execution_count": 257,
      "outputs": []
    },
    {
      "cell_type": "code",
      "source": [
        "df1.head()"
      ],
      "metadata": {
        "id": "2RlK8oumQ5eF",
        "outputId": "db2efb18-1382-47bc-a395-8dc96a80ee7a",
        "colab": {
          "base_uri": "https://localhost:8080/",
          "height": 206
        }
      },
      "execution_count": 259,
      "outputs": [
        {
          "output_type": "execute_result",
          "data": {
            "text/plain": [
              "  Alma      Refer           Articulo  ... Recep  Orden_corta2  Taller\n",
              "0    1  6522204.0      11/5K0807109M  ...  85.0        652220       2\n",
              "1    1  6522204.0  11/5K0807217BLGRU  ...  85.0        652220       2\n",
              "2    1  6522204.0      11/5K0807571J  ...  85.0        652220       2\n",
              "3    1  6522204.0      11/5K0919491B  ...  85.0        652220       2\n",
              "4    1  6522204.0      11/5K0919493G  ...  85.0        652220       2\n",
              "\n",
              "[5 rows x 14 columns]"
            ],
            "text/html": [
              "\n",
              "  <div id=\"df-44bbed7b-e953-458d-be33-84e2e41fcb8d\">\n",
              "    <div class=\"colab-df-container\">\n",
              "      <div>\n",
              "<style scoped>\n",
              "    .dataframe tbody tr th:only-of-type {\n",
              "        vertical-align: middle;\n",
              "    }\n",
              "\n",
              "    .dataframe tbody tr th {\n",
              "        vertical-align: top;\n",
              "    }\n",
              "\n",
              "    .dataframe thead th {\n",
              "        text-align: right;\n",
              "    }\n",
              "</style>\n",
              "<table border=\"1\" class=\"dataframe\">\n",
              "  <thead>\n",
              "    <tr style=\"text-align: right;\">\n",
              "      <th></th>\n",
              "      <th>Alma</th>\n",
              "      <th>Refer</th>\n",
              "      <th>Articulo</th>\n",
              "      <th>Clav</th>\n",
              "      <th>Canti</th>\n",
              "      <th>PVP</th>\n",
              "      <th>Fech_cierre</th>\n",
              "      <th>Opera</th>\n",
              "      <th>Tipo_venta</th>\n",
              "      <th>Famil</th>\n",
              "      <th>Bastidor</th>\n",
              "      <th>Recep</th>\n",
              "      <th>Orden_corta2</th>\n",
              "      <th>Taller</th>\n",
              "    </tr>\n",
              "  </thead>\n",
              "  <tbody>\n",
              "    <tr>\n",
              "      <th>0</th>\n",
              "      <td>1</td>\n",
              "      <td>6522204.0</td>\n",
              "      <td>11/5K0807109M</td>\n",
              "      <td>6</td>\n",
              "      <td>1.0</td>\n",
              "      <td>173.93</td>\n",
              "      <td>2015-01-27</td>\n",
              "      <td>1.0</td>\n",
              "      <td>7V</td>\n",
              "      <td>AL8</td>\n",
              "      <td>WVWZZZ1KZ9W487026</td>\n",
              "      <td>85.0</td>\n",
              "      <td>652220</td>\n",
              "      <td>2</td>\n",
              "    </tr>\n",
              "    <tr>\n",
              "      <th>1</th>\n",
              "      <td>1</td>\n",
              "      <td>6522204.0</td>\n",
              "      <td>11/5K0807217BLGRU</td>\n",
              "      <td>4</td>\n",
              "      <td>1.0</td>\n",
              "      <td>316.39</td>\n",
              "      <td>2015-01-27</td>\n",
              "      <td>1.0</td>\n",
              "      <td>7V</td>\n",
              "      <td>ALH</td>\n",
              "      <td>WVWZZZ1KZ9W487026</td>\n",
              "      <td>85.0</td>\n",
              "      <td>652220</td>\n",
              "      <td>2</td>\n",
              "    </tr>\n",
              "    <tr>\n",
              "      <th>2</th>\n",
              "      <td>1</td>\n",
              "      <td>6522204.0</td>\n",
              "      <td>11/5K0807571J</td>\n",
              "      <td>6</td>\n",
              "      <td>1.0</td>\n",
              "      <td>31.75</td>\n",
              "      <td>2015-01-27</td>\n",
              "      <td>1.0</td>\n",
              "      <td>7V</td>\n",
              "      <td>AL7</td>\n",
              "      <td>WVWZZZ1KZ9W487026</td>\n",
              "      <td>85.0</td>\n",
              "      <td>652220</td>\n",
              "      <td>2</td>\n",
              "    </tr>\n",
              "    <tr>\n",
              "      <th>3</th>\n",
              "      <td>1</td>\n",
              "      <td>6522204.0</td>\n",
              "      <td>11/5K0919491B</td>\n",
              "      <td>8</td>\n",
              "      <td>2.0</td>\n",
              "      <td>13.60</td>\n",
              "      <td>2015-01-27</td>\n",
              "      <td>1.0</td>\n",
              "      <td>7V</td>\n",
              "      <td>ANW</td>\n",
              "      <td>WVWZZZ1KZ9W487026</td>\n",
              "      <td>85.0</td>\n",
              "      <td>652220</td>\n",
              "      <td>2</td>\n",
              "    </tr>\n",
              "    <tr>\n",
              "      <th>4</th>\n",
              "      <td>1</td>\n",
              "      <td>6522204.0</td>\n",
              "      <td>11/5K0919493G</td>\n",
              "      <td>8</td>\n",
              "      <td>2.0</td>\n",
              "      <td>13.60</td>\n",
              "      <td>2015-01-27</td>\n",
              "      <td>1.0</td>\n",
              "      <td>7V</td>\n",
              "      <td>ANW</td>\n",
              "      <td>WVWZZZ1KZ9W487026</td>\n",
              "      <td>85.0</td>\n",
              "      <td>652220</td>\n",
              "      <td>2</td>\n",
              "    </tr>\n",
              "  </tbody>\n",
              "</table>\n",
              "</div>\n",
              "      <button class=\"colab-df-convert\" onclick=\"convertToInteractive('df-44bbed7b-e953-458d-be33-84e2e41fcb8d')\"\n",
              "              title=\"Convert this dataframe to an interactive table.\"\n",
              "              style=\"display:none;\">\n",
              "        \n",
              "  <svg xmlns=\"http://www.w3.org/2000/svg\" height=\"24px\"viewBox=\"0 0 24 24\"\n",
              "       width=\"24px\">\n",
              "    <path d=\"M0 0h24v24H0V0z\" fill=\"none\"/>\n",
              "    <path d=\"M18.56 5.44l.94 2.06.94-2.06 2.06-.94-2.06-.94-.94-2.06-.94 2.06-2.06.94zm-11 1L8.5 8.5l.94-2.06 2.06-.94-2.06-.94L8.5 2.5l-.94 2.06-2.06.94zm10 10l.94 2.06.94-2.06 2.06-.94-2.06-.94-.94-2.06-.94 2.06-2.06.94z\"/><path d=\"M17.41 7.96l-1.37-1.37c-.4-.4-.92-.59-1.43-.59-.52 0-1.04.2-1.43.59L10.3 9.45l-7.72 7.72c-.78.78-.78 2.05 0 2.83L4 21.41c.39.39.9.59 1.41.59.51 0 1.02-.2 1.41-.59l7.78-7.78 2.81-2.81c.8-.78.8-2.07 0-2.86zM5.41 20L4 18.59l7.72-7.72 1.47 1.35L5.41 20z\"/>\n",
              "  </svg>\n",
              "      </button>\n",
              "      \n",
              "  <style>\n",
              "    .colab-df-container {\n",
              "      display:flex;\n",
              "      flex-wrap:wrap;\n",
              "      gap: 12px;\n",
              "    }\n",
              "\n",
              "    .colab-df-convert {\n",
              "      background-color: #E8F0FE;\n",
              "      border: none;\n",
              "      border-radius: 50%;\n",
              "      cursor: pointer;\n",
              "      display: none;\n",
              "      fill: #1967D2;\n",
              "      height: 32px;\n",
              "      padding: 0 0 0 0;\n",
              "      width: 32px;\n",
              "    }\n",
              "\n",
              "    .colab-df-convert:hover {\n",
              "      background-color: #E2EBFA;\n",
              "      box-shadow: 0px 1px 2px rgba(60, 64, 67, 0.3), 0px 1px 3px 1px rgba(60, 64, 67, 0.15);\n",
              "      fill: #174EA6;\n",
              "    }\n",
              "\n",
              "    [theme=dark] .colab-df-convert {\n",
              "      background-color: #3B4455;\n",
              "      fill: #D2E3FC;\n",
              "    }\n",
              "\n",
              "    [theme=dark] .colab-df-convert:hover {\n",
              "      background-color: #434B5C;\n",
              "      box-shadow: 0px 1px 3px 1px rgba(0, 0, 0, 0.15);\n",
              "      filter: drop-shadow(0px 1px 2px rgba(0, 0, 0, 0.3));\n",
              "      fill: #FFFFFF;\n",
              "    }\n",
              "  </style>\n",
              "\n",
              "      <script>\n",
              "        const buttonEl =\n",
              "          document.querySelector('#df-44bbed7b-e953-458d-be33-84e2e41fcb8d button.colab-df-convert');\n",
              "        buttonEl.style.display =\n",
              "          google.colab.kernel.accessAllowed ? 'block' : 'none';\n",
              "\n",
              "        async function convertToInteractive(key) {\n",
              "          const element = document.querySelector('#df-44bbed7b-e953-458d-be33-84e2e41fcb8d');\n",
              "          const dataTable =\n",
              "            await google.colab.kernel.invokeFunction('convertToInteractive',\n",
              "                                                     [key], {});\n",
              "          if (!dataTable) return;\n",
              "\n",
              "          const docLinkHtml = 'Like what you see? Visit the ' +\n",
              "            '<a target=\"_blank\" href=https://colab.research.google.com/notebooks/data_table.ipynb>data table notebook</a>'\n",
              "            + ' to learn more about interactive tables.';\n",
              "          element.innerHTML = '';\n",
              "          dataTable['output_type'] = 'display_data';\n",
              "          await google.colab.output.renderOutput(dataTable, element);\n",
              "          const docLink = document.createElement('div');\n",
              "          docLink.innerHTML = docLinkHtml;\n",
              "          element.appendChild(docLink);\n",
              "        }\n",
              "      </script>\n",
              "    </div>\n",
              "  </div>\n",
              "  "
            ]
          },
          "metadata": {},
          "execution_count": 259
        }
      ]
    },
    {
      "cell_type": "code",
      "source": [
        "df1 = df1[(df1[\"Fech_cierre\"]>=\"2015-01-01\") & (df1[\"Fech_cierre\"]<=\"2021-12-31\")]"
      ],
      "metadata": {
        "id": "h7rhTMkEL-Ig"
      },
      "execution_count": 234,
      "outputs": []
    },
    {
      "cell_type": "code",
      "source": [
        "df1.info()"
      ],
      "metadata": {
        "id": "DrHC-euyMO_y",
        "outputId": "fc7384a5-ce44-452d-e53b-f23c80c3fe3a",
        "colab": {
          "base_uri": "https://localhost:8080/"
        }
      },
      "execution_count": 235,
      "outputs": [
        {
          "output_type": "stream",
          "name": "stdout",
          "text": [
            "<class 'pandas.core.frame.DataFrame'>\n",
            "Int64Index: 1392433 entries, 0 to 1392432\n",
            "Data columns (total 12 columns):\n",
            " #   Column        Non-Null Count    Dtype         \n",
            "---  ------        --------------    -----         \n",
            " 0   Alma          1392433 non-null  object        \n",
            " 1   Refer         1392433 non-null  object        \n",
            " 2   Clav          1392433 non-null  object        \n",
            " 3   Canti         1392433 non-null  float64       \n",
            " 4   PVP           1392433 non-null  float64       \n",
            " 5   Fech_cierre   1392433 non-null  datetime64[ns]\n",
            " 6   Opera         1392433 non-null  object        \n",
            " 7   Tipo_venta    1392433 non-null  object        \n",
            " 8   Famil         1392433 non-null  object        \n",
            " 9   Bastidor      1392433 non-null  object        \n",
            " 10  Recep         1392433 non-null  object        \n",
            " 11  Orden_corta2  1392433 non-null  object        \n",
            "dtypes: datetime64[ns](1), float64(2), object(9)\n",
            "memory usage: 138.1+ MB\n"
          ]
        }
      ]
    },
    {
      "cell_type": "code",
      "source": [
        ""
      ],
      "metadata": {
        "id": "5l6FN6wgMWlT"
      },
      "execution_count": null,
      "outputs": []
    }
  ]
}