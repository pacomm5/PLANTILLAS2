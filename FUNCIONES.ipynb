{
  "nbformat": 4,
  "nbformat_minor": 0,
  "metadata": {
    "colab": {
      "name": "FUNCIONES.ipynb",
      "provenance": [],
      "authorship_tag": "ABX9TyPR+D+bM5+YZybGy5U4jmKj",
      "include_colab_link": true
    },
    "kernelspec": {
      "name": "python3",
      "display_name": "Python 3"
    },
    "language_info": {
      "name": "python"
    }
  },
  "cells": [
    {
      "cell_type": "markdown",
      "metadata": {
        "id": "view-in-github",
        "colab_type": "text"
      },
      "source": [
        "<a href=\"https://colab.research.google.com/github/pacomm5/PLANTILLAS2/blob/main/FUNCIONES.ipynb\" target=\"_parent\"><img src=\"https://colab.research.google.com/assets/colab-badge.svg\" alt=\"Open In Colab\"/></a>"
      ]
    },
    {
      "cell_type": "markdown",
      "source": [
        "- Escriba un programa que pida la anchura y altura de un rectángulo y lo dibuje con caracteres producto (*):"
      ],
      "metadata": {
        "id": "05mLX7o8WS0O"
      }
    },
    {
      "cell_type": "code",
      "execution_count": null,
      "metadata": {
        "id": "ymb2WFK-V4xy",
        "colab": {
          "base_uri": "https://localhost:8080/"
        },
        "outputId": "8ccf58a1-b3b9-41a6-852c-1606d7c86127"
      },
      "outputs": [
        {
          "output_type": "stream",
          "name": "stdout",
          "text": [
            "Anchura del triangulo: 2\n",
            "Altura del triangulo: 10\n",
            "* * \n",
            "* * \n",
            "* * \n",
            "* * \n",
            "* * \n",
            "* * \n",
            "* * \n",
            "* * \n",
            "* * \n",
            "* * \n"
          ]
        }
      ],
      "source": [
        "anchura = int(input(\"Anchura del triangulo: \"))\n",
        "altura = int(input(\"Altura del triangulo: \"))\n",
        "\n",
        "for i in range(altura):\n",
        "    for j in range(anchura):\n",
        "        print(\"* \", end=\"\")\n",
        "    print()"
      ]
    },
    {
      "cell_type": "markdown",
      "source": [
        "- viene del ejercicio anterior\n",
        "- Escriba un programa que pida la anchura y altura de un rectángulo y el caracter a utilizar en el dibujo:"
      ],
      "metadata": {
        "id": "6VkkJo9Hi9bW"
      }
    },
    {
      "cell_type": "code",
      "source": [
        "def rectangulo(ancho, alto, letra):\n",
        "    for i in range(alto):\n",
        "        for j in range(ancho):\n",
        "            print(letra, end=\"\")\n",
        "        print()\n",
        "\n",
        "anchura = int(input(\"Anchura del rectángulo: \"))\n",
        "altura = int(input(\"Altura del rectángulo: \"))\n",
        "caracter = input(\"Carácter a utilizar: \")\n",
        "rectangulo(anchura, altura, caracter)"
      ],
      "metadata": {
        "id": "llZCsj97jF8e",
        "outputId": "80d9de23-a0e7-4aa1-bfc3-5105379ab38d",
        "colab": {
          "base_uri": "https://localhost:8080/"
        }
      },
      "execution_count": 7,
      "outputs": [
        {
          "output_type": "stream",
          "name": "stdout",
          "text": [
            "Anchura del rectángulo: 2\n",
            "Altura del rectángulo: 5\n",
            "Carácter a utilizar: f\n",
            "ff\n",
            "ff\n",
            "ff\n",
            "ff\n",
            "ff\n"
          ]
        }
      ]
    },
    {
      "cell_type": "markdown",
      "source": [
        "- Escriba un programa que pida un año y que escriba si es bisiesto o no.\n",
        "\n",
        "- Se recuerda que los años bisiestos son múltiplos de 4, pero los múltiplos de 100 no lo son, aunque los múltiplos de 400 sí.\n",
        "\n",
        "- Estos son algunos ejemplos de posibles respuestas: 2012 es bisiesto, 2010 no es bisiesto, 2000 es bisiesto, 1900 no es bisiesto."
      ],
      "metadata": {
        "id": "NlZnjFvjXyaq"
      }
    },
    {
      "cell_type": "code",
      "source": [
        "print(\"COMPROBADOR DE AÑOS BISIESTOS\")\n",
        "fecha = int(input(\"Escriba un año y le diré si es bisiesto: \"))\n",
        "\n",
        "if fecha % 400  == 0 or (fecha % 100 == 0 and fecha % 4 == 0):\n",
        "    print(\"El año\", fecha, \" es un año bisiesto\")\n",
        "else:\n",
        "    print(\"El año\", fecha, \"no es un año bisiesto\")"
      ],
      "metadata": {
        "colab": {
          "base_uri": "https://localhost:8080/"
        },
        "id": "hYZ76WDTXAjb",
        "outputId": "e50323f0-beb5-4318-95f0-a1b2bb4dc775"
      },
      "execution_count": null,
      "outputs": [
        {
          "output_type": "stream",
          "name": "stdout",
          "text": [
            "COMPROBADOR DE AÑOS BISIESTOS\n",
            "Escriba un año y le diré si es bisiesto: 2021\n",
            "El año 2021 no es un año bisiesto\n"
          ]
        }
      ]
    },
    {
      "cell_type": "markdown",
      "source": [
        "-Escriba un programa que permita crear una lista de palabras (que puede ser vacía). Para ello, el programa tiene que pedir un número y luego solicitar ese número de palabras para crear la lista. Por último, el programa tiene que escribir la lista."
      ],
      "metadata": {
        "id": "e9r8B9liZJ3M"
      }
    },
    {
      "cell_type": "code",
      "source": [
        "numero = int(input(\"Digame cuantas palabras tiene la lista: \"))\n",
        "\n",
        "if numero < 1:\n",
        "    print(\"imposible\")\n",
        "else:\n",
        "    lista = []\n",
        "    for i in range(numero):\n",
        "        print(\"Digame la palabra\", str(i + 1) + \": \", end=\"\")\n",
        "        palabra = input()\n",
        "        lista += [palabra]\n",
        "    print(\"la lista creada es:\", lista)\n",
        "    "
      ],
      "metadata": {
        "id": "69AXphmgY4Bl",
        "colab": {
          "base_uri": "https://localhost:8080/"
        },
        "outputId": "025ced3a-4cdd-4019-ce32-c99b0e75ce30"
      },
      "execution_count": 5,
      "outputs": [
        {
          "output_type": "stream",
          "name": "stdout",
          "text": [
            "Digame cuantas palabras tiene la lista: 3\n",
            "Digame la palabra 1: francisco\n",
            "Digame la palabra 2: martin\n",
            "Digame la palabra 3: martin\n",
            "la lista creada es: ['francisco', 'martin', 'martin']\n"
          ]
        }
      ]
    },
    {
      "cell_type": "markdown",
      "source": [
        "- Escriba un programa que permita crear dos listas de palabras y que, a continuación, elimine de la primera lista los nombres de la segunda lista."
      ],
      "metadata": {
        "id": "teuF_Lg0fACA"
      }
    },
    {
      "cell_type": "code",
      "source": [
        "numero = int(input(\"Digame cuantas palabras tiene la lista: \"))\n",
        "\n",
        "if numero < 1:\n",
        "    print(\"imposible\")\n",
        "else:\n",
        "    lista = []\n",
        "    for i in range(numero):\n",
        "        print(\"Dígame la plabra\", str(i + 1) + \": \", end= \"\")\n",
        "        palabra = input()\n",
        "        lista += [palabra]\n",
        "    print(\"la lista creada es:\", lista)\n",
        "\n",
        "    numero2 = int(input(\"Digame cuantas palabras tiene la lista de palabras a eliminar: \"))\n",
        "\n",
        "    if numero2 < 1:\n",
        "        print(\"imposible\")\n",
        "    else:\n",
        "        eliminar = []\n",
        "        for i in range(numero2):\n",
        "            print(\"digame la palabra:\" + str(i + 1), end=\"\")\n",
        "            palabra = input()\n",
        "            eliminar += [palabra]\n",
        "        print(\"la lista de palabras a eliminar es:\", eliminar)\n",
        "\n",
        "        for i in eliminar:\n",
        "            for j in range(len(lista)-1, -1, -1):\n",
        "                if lista[j] == i:\n",
        "                    del(lista[j])\n",
        "        print(\"La lista es ahora:\", lista)\n",
        "\n",
        "       \n",
        "                     "
      ],
      "metadata": {
        "colab": {
          "base_uri": "https://localhost:8080/"
        },
        "id": "5iDqsaGjeQKQ",
        "outputId": "2ef94bb9-f826-4d16-fc7c-81df64463237"
      },
      "execution_count": 6,
      "outputs": [
        {
          "output_type": "stream",
          "name": "stdout",
          "text": [
            "Digame cuantas palabras tiene la lista: 3\n",
            "Dígame la plabra 1: francisco\n",
            "Dígame la plabra 2: martin\n",
            "Dígame la plabra 3: martin\n",
            "la lista creada es: ['francisco', 'martin', 'martin']\n",
            "Digame cuantas palabras tiene la lista de palabras a eliminar: 2\n",
            "digame la palabra:1martin\n",
            "digame la palabra:2martin\n",
            "la lista de palabras a eliminar es: ['martin', 'martin']\n",
            "La lista es ahora: ['francisco']\n"
          ]
        }
      ]
    },
    {
      "cell_type": "code",
      "source": [
        ""
      ],
      "metadata": {
        "id": "Zk_E3Sq-iV64"
      },
      "execution_count": null,
      "outputs": []
    }
  ]
}