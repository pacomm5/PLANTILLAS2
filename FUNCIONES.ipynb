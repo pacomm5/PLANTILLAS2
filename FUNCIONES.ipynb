{
  "nbformat": 4,
  "nbformat_minor": 0,
  "metadata": {
    "colab": {
      "name": "FUNCIONES.ipynb",
      "provenance": [],
      "authorship_tag": "ABX9TyOmHDL8WctQNiYhxf+hbZ9s",
      "include_colab_link": true
    },
    "kernelspec": {
      "name": "python3",
      "display_name": "Python 3"
    },
    "language_info": {
      "name": "python"
    }
  },
  "cells": [
    {
      "cell_type": "markdown",
      "metadata": {
        "id": "view-in-github",
        "colab_type": "text"
      },
      "source": [
        "<a href=\"https://colab.research.google.com/github/pacomm5/PLANTILLAS2/blob/main/FUNCIONES.ipynb\" target=\"_parent\"><img src=\"https://colab.research.google.com/assets/colab-badge.svg\" alt=\"Open In Colab\"/></a>"
      ]
    },
    {
      "cell_type": "markdown",
      "source": [
        "- Escriba un programa que pida la anchura y altura de un rectángulo y lo dibuje con caracteres producto (*):"
      ],
      "metadata": {
        "id": "05mLX7o8WS0O"
      }
    },
    {
      "cell_type": "code",
      "execution_count": 2,
      "metadata": {
        "id": "ymb2WFK-V4xy",
        "outputId": "8ccf58a1-b3b9-41a6-852c-1606d7c86127",
        "colab": {
          "base_uri": "https://localhost:8080/"
        }
      },
      "outputs": [
        {
          "output_type": "stream",
          "name": "stdout",
          "text": [
            "Anchura del triangulo: 2\n",
            "Altura del triangulo: 10\n",
            "* * \n",
            "* * \n",
            "* * \n",
            "* * \n",
            "* * \n",
            "* * \n",
            "* * \n",
            "* * \n",
            "* * \n",
            "* * \n"
          ]
        }
      ],
      "source": [
        "anchura = int(input(\"Anchura del triangulo: \"))\n",
        "altura = int(input(\"Altura del triangulo: \"))\n",
        "\n",
        "for i in range(altura):\n",
        "    for j in range(anchura):\n",
        "        print(\"* \", end=\"\")\n",
        "    print()"
      ]
    },
    {
      "cell_type": "markdown",
      "source": [
        "- Escriba un programa que pida un año y que escriba si es bisiesto o no.\n",
        "\n",
        "- Se recuerda que los años bisiestos son múltiplos de 4, pero los múltiplos de 100 no lo son, aunque los múltiplos de 400 sí.\n",
        "\n",
        "- Estos son algunos ejemplos de posibles respuestas: 2012 es bisiesto, 2010 no es bisiesto, 2000 es bisiesto, 1900 no es bisiesto."
      ],
      "metadata": {
        "id": "NlZnjFvjXyaq"
      }
    },
    {
      "cell_type": "code",
      "source": [
        "print(\"COMPROBADOR DE AÑOS BISIESTOS\")\n",
        "fecha = int(input(\"Escriba un año y le diré si es bisiesto: \"))\n",
        "\n",
        "if fecha % 400  == 0 or (fecha % 100 == 0 and fecha % 4 == 0):\n",
        "    print(\"El año\", fecha, \" es un año bisiesto\")\n",
        "else:\n",
        "    print(\"El año\", fecha, \"no es un año bisiesto\")"
      ],
      "metadata": {
        "id": "hYZ76WDTXAjb",
        "outputId": "e50323f0-beb5-4318-95f0-a1b2bb4dc775",
        "colab": {
          "base_uri": "https://localhost:8080/"
        }
      },
      "execution_count": 3,
      "outputs": [
        {
          "output_type": "stream",
          "name": "stdout",
          "text": [
            "COMPROBADOR DE AÑOS BISIESTOS\n",
            "Escriba un año y le diré si es bisiesto: 2021\n",
            "El año 2021 no es un año bisiesto\n"
          ]
        }
      ]
    },
    {
      "cell_type": "code",
      "source": [
        ""
      ],
      "metadata": {
        "id": "69AXphmgY4Bl"
      },
      "execution_count": null,
      "outputs": []
    }
  ]
}