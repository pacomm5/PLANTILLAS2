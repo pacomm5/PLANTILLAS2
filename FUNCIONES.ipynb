{
  "nbformat": 4,
  "nbformat_minor": 0,
  "metadata": {
    "colab": {
      "name": "FUNCIONES.ipynb",
      "provenance": [],
      "authorship_tag": "ABX9TyNQdiuIuelwkt+jqTtAxHI7",
      "include_colab_link": true
    },
    "kernelspec": {
      "name": "python3",
      "display_name": "Python 3"
    },
    "language_info": {
      "name": "python"
    }
  },
  "cells": [
    {
      "cell_type": "markdown",
      "metadata": {
        "id": "view-in-github",
        "colab_type": "text"
      },
      "source": [
        "<a href=\"https://colab.research.google.com/github/pacomm5/PLANTILLAS2/blob/main/FUNCIONES.ipynb\" target=\"_parent\"><img src=\"https://colab.research.google.com/assets/colab-badge.svg\" alt=\"Open In Colab\"/></a>"
      ]
    },
    {
      "cell_type": "markdown",
      "source": [
        "#FUNCIONES"
      ],
      "metadata": {
        "id": "vz4aSijyY1nw"
      }
    },
    {
      "cell_type": "markdown",
      "source": [
        "## ARGUMENTOS Y PARAMETROS. "
      ],
      "metadata": {
        "id": "B_pvigNXY9xn"
      }
    },
    {
      "cell_type": "code",
      "source": [
        "# esta es muy simple le metemos por parametro las variables. luego en return decimos lo que queremos que nos devuelva. \n",
        "def suma(a, b):\n",
        "    \"\"\"Esta función realiza la suma: c = a + b\n",
        "    sus llamado se hace\n",
        "    suma(a,b)\"\"\"\n",
        "    return a + b\n",
        "c= suma(-3,8)\n",
        "print(\"la suma es\",c)"
      ],
      "metadata": {
        "colab": {
          "base_uri": "https://localhost:8080/"
        },
        "id": "hXqC6pSEYwlf",
        "outputId": "076a406c-2d7e-4594-c745-af8a479f7ad0"
      },
      "execution_count": 9,
      "outputs": [
        {
          "output_type": "stream",
          "name": "stdout",
          "text": [
            "la suma es 5\n"
          ]
        }
      ]
    },
    {
      "cell_type": "markdown",
      "source": [
        "- parametros por defecto"
      ],
      "metadata": {
        "id": "ABL_576yZi0s"
      }
    },
    {
      "cell_type": "code",
      "source": [
        "def resta(a = None, b = None):\n",
        "    \"\"\"Esta función realiza la resta: c = a + b\n",
        "    sus llamado se hace\n",
        "    resta(a,b)\"\"\"\n",
        "    if a == None or b == None:\n",
        "        print(\"Error, debes enviar dos números a la función\")\n",
        "        return\n",
        "    return a - b\n",
        "\n",
        "c = resta()"
      ],
      "metadata": {
        "id": "VgYv3EJ6ZqQ8",
        "outputId": "fee5ca34-afb5-48fe-f103-efc7526ba75e",
        "colab": {
          "base_uri": "https://localhost:8080/"
        }
      },
      "execution_count": 12,
      "outputs": [
        {
          "output_type": "stream",
          "name": "stdout",
          "text": [
            "Error, debes enviar dos números a la función\n"
          ]
        }
      ]
    },
    {
      "cell_type": "markdown",
      "source": [
        "- Escribir una función que aplique un descuento a un precio y otra que aplique el IVA a un precio. Escribir una tercera función que reciba un diccionario con los precios y porcentajes de una cesta de la compra, y una de las funciones anteriores, y utilice la función pasada para aplicar los descuentos o el IVA a los productos de la cesta y devolver el precio final de la cesta."
      ],
      "metadata": {
        "id": "eClvs9T8abkb"
      }
    },
    {
      "cell_type": "code",
      "source": [
        "def apply_discount(price, discount): # aqui esta muy claro, dos parametros y la formula en el return.\n",
        "    '''\n",
        "    Función que aplica un descuento a una cantidad.\n",
        "    Parámetros:\n",
        "        price: Es un valor real con el precio al que aplicar el descuento.\n",
        "        discount: Es el porcentaje a descontar.\n",
        "    Devuelve:\n",
        "        El precio final tras aplicar el descuento.\n",
        "    '''\n",
        "    return price - price * discount / 100\n",
        "    \n",
        "def apply_IVA(price, percentage): # aqui lo mismo dos parametros y la formula en el return\n",
        "    '''\n",
        "    Función que aplica un IVA a una cantidad.\n",
        "    Parámetros:\n",
        "        price: Es un valor real con el precio al que aplicar el IVA.\n",
        "        percentage: Es el porcentaje del IVA a aplicar.\n",
        "    Devuelve:\n",
        "        El precio final tras aplicar el IVA.\n",
        "    '''\n",
        "    return price + price * percentage / 100\n",
        "\n",
        "def price_basket(basket, function): # se inicia la funcion y se fijan los parametros.\n",
        "    '''\n",
        "    Función que calcula el precio de una cesta de la compra una vez aplicada una función a los precios iniciales.\n",
        "    Parámetros:\n",
        "        basket: Es un diccionario formado por pares precio:descuento.\n",
        "        function: Es una función que toma dos valores reales y devuelve otro. Normalmente para aplicar descuentos o IVA.\n",
        "    Devuelve:\n",
        "        El precio final de la cesta de la compra una vez aplicada la función sobre los precios iniciales.\n",
        "    '''\n",
        "    total = 0 # incializamos con valor 0\n",
        "    for price, discount in basket.items(): # buscamos precio y descuento en la variable basket. \n",
        "        total += function(price, discount)\n",
        "    return total\n",
        "\n",
        "print('El precio de la compra tras aplicar los descuentos es: ', price_basket({1000:20, 500:10, 100:1}, apply_discount))\n",
        "print('El precio de la compra tras aplicar el IVA es: ', price_basket({1000:20, 500:10, 100:1}, apply_IVA))\n",
        "##### no me sale bien. lo que esta haciendo es aplicar un valor de IVA igual que al descuento y sobre el precio inicial"
      ],
      "metadata": {
        "id": "TmCjfSysae94",
        "outputId": "b0abf7fe-2cdd-47ea-f580-6337622d03d8",
        "colab": {
          "base_uri": "https://localhost:8080/"
        }
      },
      "execution_count": 26,
      "outputs": [
        {
          "output_type": "stream",
          "name": "stdout",
          "text": [
            "El precio de la compra tras aplicar los descuentos es:  1349.0\n",
            "El precio de la compra tras aplicar el IVA es:  1851.0\n"
          ]
        }
      ]
    },
    {
      "cell_type": "code",
      "source": [
        " price_basket({1000:20, 500:10, 100:1}, apply_discount)"
      ],
      "metadata": {
        "id": "baGrUmB5jQuZ",
        "outputId": "6275fd3a-facd-45d7-cb0d-cb6f4c909e60",
        "colab": {
          "base_uri": "https://localhost:8080/"
        }
      },
      "execution_count": 29,
      "outputs": [
        {
          "output_type": "execute_result",
          "data": {
            "text/plain": [
              "1349.0"
            ]
          },
          "metadata": {},
          "execution_count": 29
        }
      ]
    },
    {
      "cell_type": "code",
      "source": [
        "price_basket({1000:20, 500:10, 100:1}, apply_IVA)"
      ],
      "metadata": {
        "id": "VR6uJoYsjVDy",
        "outputId": "93822219-3a78-4bfa-dedb-f93f8c869d58",
        "colab": {
          "base_uri": "https://localhost:8080/"
        }
      },
      "execution_count": 31,
      "outputs": [
        {
          "output_type": "execute_result",
          "data": {
            "text/plain": [
              "1851.0"
            ]
          },
          "metadata": {},
          "execution_count": 31
        }
      ]
    },
    {
      "cell_type": "markdown",
      "source": [
        "- Escribir una función que reciba otra función y una lista, y devuelva otra lista con el resultado de aplicar la función dada a cada uno de los elementos de la lista."
      ],
      "metadata": {
        "id": "gYG40BRPiBYJ"
      }
    },
    {
      "cell_type": "code",
      "source": [
        "def aplica_funcion_lista(funcion, lista):\n",
        "    '''Función que aplica una función a todos los elementos de una lista.\n",
        "\n",
        "    Parámetros:\n",
        "        funcion: Es una función.\n",
        "        lista: Es una lista con valores que se pasarán como argumentos a funcion.\n",
        "    Devuelve:\n",
        "        Una lista con el resultado de aplicar la función a los valores de la lista.\n",
        "    '''\n",
        "    l = [] # iniciamos una lista vacía. \n",
        "    for i in lista:  # recorremos toda la lista\n",
        "        l.append(funcion(i)) # le añadimos la función a cada i\n",
        "    return l # retorna la lista. \n",
        "\n",
        "def cuadrado(n):\n",
        "    return n * n  # esta función lo que hace es elevar al cuadrado cada elemento de la lista. \n",
        "\n",
        "print(aplica_funcion_lista(cuadrado, [1, 2, 3, 4]))  "
      ],
      "metadata": {
        "id": "1yEM6zzmiC-l",
        "outputId": "c3401201-d1e3-4c80-bfae-3de81f7aea52",
        "colab": {
          "base_uri": "https://localhost:8080/"
        }
      },
      "execution_count": 27,
      "outputs": [
        {
          "output_type": "stream",
          "name": "stdout",
          "text": [
            "[1, 4, 9, 16]\n"
          ]
        }
      ]
    },
    {
      "cell_type": "code",
      "source": [
        "aplica_funcion_lista(cuadrado, [1,2,3,4])  \n",
        "# lo que estamos haciendo es llamar a la función y le metemos por parametro la función que es elevar al cuadrado cada elemento, y por otro lado la lista en si. "
      ],
      "metadata": {
        "id": "PYQFd25VisxR",
        "outputId": "dd1ac599-ca48-4e66-aeca-eb74d87466fe",
        "colab": {
          "base_uri": "https://localhost:8080/"
        }
      },
      "execution_count": 28,
      "outputs": [
        {
          "output_type": "execute_result",
          "data": {
            "text/plain": [
              "[1, 4, 9, 16]"
            ]
          },
          "metadata": {},
          "execution_count": 28
        }
      ]
    },
    {
      "cell_type": "markdown",
      "source": [
        "## EJERCICIOS"
      ],
      "metadata": {
        "id": "gJjKgBZbZl5Y"
      }
    },
    {
      "cell_type": "markdown",
      "source": [
        "- Escriba un programa que pida la anchura y altura de un rectángulo y lo dibuje con caracteres producto (*):"
      ],
      "metadata": {
        "id": "05mLX7o8WS0O"
      }
    },
    {
      "cell_type": "code",
      "execution_count": null,
      "metadata": {
        "id": "ymb2WFK-V4xy",
        "colab": {
          "base_uri": "https://localhost:8080/"
        },
        "outputId": "8ccf58a1-b3b9-41a6-852c-1606d7c86127"
      },
      "outputs": [
        {
          "output_type": "stream",
          "name": "stdout",
          "text": [
            "Anchura del triangulo: 2\n",
            "Altura del triangulo: 10\n",
            "* * \n",
            "* * \n",
            "* * \n",
            "* * \n",
            "* * \n",
            "* * \n",
            "* * \n",
            "* * \n",
            "* * \n",
            "* * \n"
          ]
        }
      ],
      "source": [
        "anchura = int(input(\"Anchura del triangulo: \"))\n",
        "altura = int(input(\"Altura del triangulo: \"))\n",
        "\n",
        "for i in range(altura): # desde 0 hasta el numero que hayamos metido como altura. \n",
        "    for j in range(anchura): # desde 0 hasta el numero que hayamos metido como anchura. \n",
        "\n",
        "    # el primer for nos define las filas. el segundo nos define las columnas. \n",
        "        print(\"* \", end=\"\") \n",
        "    print()"
      ]
    },
    {
      "cell_type": "markdown",
      "source": [
        "- viene del ejercicio anterior\n",
        "- Escriba un programa que pida la anchura y altura de un rectángulo y el caracter a utilizar en el dibujo:"
      ],
      "metadata": {
        "id": "6VkkJo9Hi9bW"
      }
    },
    {
      "cell_type": "code",
      "source": [
        "def rectangulo(ancho, alto, letra):\n",
        "    for i in range(alto):\n",
        "        for j in range(ancho):\n",
        "            print(letra, end=\"\") # aqui le estamos diciendo el caracter que tienen que imprimir. \n",
        "        print()\n",
        "\n",
        "anchura = int(input(\"Anchura del rectángulo: \"))\n",
        "altura = int(input(\"Altura del rectángulo: \"))\n",
        "caracter = input(\"Carácter a utilizar: \")\n",
        "rectangulo(anchura, altura, caracter)"
      ],
      "metadata": {
        "colab": {
          "base_uri": "https://localhost:8080/"
        },
        "id": "llZCsj97jF8e",
        "outputId": "80d9de23-a0e7-4aa1-bfc3-5105379ab38d"
      },
      "execution_count": 7,
      "outputs": [
        {
          "output_type": "stream",
          "name": "stdout",
          "text": [
            "Anchura del rectángulo: 2\n",
            "Altura del rectángulo: 5\n",
            "Carácter a utilizar: f\n",
            "ff\n",
            "ff\n",
            "ff\n",
            "ff\n",
            "ff\n"
          ]
        }
      ]
    },
    {
      "cell_type": "markdown",
      "source": [
        "- Escriba un programa que pida un año y que escriba si es bisiesto o no.\n",
        "\n",
        "- Se recuerda que los años bisiestos son múltiplos de 4, pero los múltiplos de 100 no lo son, aunque los múltiplos de 400 sí.\n",
        "\n",
        "- Estos son algunos ejemplos de posibles respuestas: 2012 es bisiesto, 2010 no es bisiesto, 2000 es bisiesto, 1900 no es bisiesto."
      ],
      "metadata": {
        "id": "NlZnjFvjXyaq"
      }
    },
    {
      "cell_type": "code",
      "source": [
        "print(\"COMPROBADOR DE AÑOS BISIESTOS\")\n",
        "fecha = int(input(\"Escriba un año y le diré si es bisiesto: \")) # le pedimos al cliente el año. \n",
        "\n",
        "if fecha % 400  == 0 or (fecha % 100 == 0 and fecha % 4 == 0):  # aqui establecemos la condicion. \n",
        "    print(\"El año\", fecha, \" es un año bisiesto\") # si se cumple\n",
        "else:\n",
        "    print(\"El año\", fecha, \"no es un año bisiesto\") # si no se cumple. "
      ],
      "metadata": {
        "colab": {
          "base_uri": "https://localhost:8080/"
        },
        "id": "hYZ76WDTXAjb",
        "outputId": "e50323f0-beb5-4318-95f0-a1b2bb4dc775"
      },
      "execution_count": null,
      "outputs": [
        {
          "output_type": "stream",
          "name": "stdout",
          "text": [
            "COMPROBADOR DE AÑOS BISIESTOS\n",
            "Escriba un año y le diré si es bisiesto: 2021\n",
            "El año 2021 no es un año bisiesto\n"
          ]
        }
      ]
    },
    {
      "cell_type": "markdown",
      "source": [
        "- Escriba un programa que pida dos años y escriba cuántos años bisiestos hay entre esas dos fechas (incluidos los dos años):"
      ],
      "metadata": {
        "id": "HJnxX4UbkTV4"
      }
    },
    {
      "cell_type": "code",
      "source": [
        "# aqui lo que hacemos es meter la condición dentro de una función para después llamarla. \n",
        "def es_bisiesto(t):\n",
        "    return t % 400 == 0 or (t % 100 != 0 and t % 4 == 0)\n",
        "\n",
        "print(\"Contador de años bisiestos\")\n",
        "inicio = int(input(\"Escriba un año: \")) # le pedimos al cliente el año de inicio\n",
        "print(\"Escriba otro año posterior a\", str(inicio) + \": \", end=\"\") # luego imprime esto \n",
        "final = int(input()) # aqui le pedimos la segunda fecha. \n",
        "while final < inicio: # mientras el segundo año sea inferior al primero. \n",
        "    print(final, \"no es mayor que\", str(inicio) + \". Inténtelo de nuevo: \",\n",
        "          end=\"\")  # esto es lo que imprimirá al final\n",
        "    final = int(input()) # aqui le pedimos al cliente la segunda fecha. \n",
        "\n",
        "# en el caso que todo esté correcto, empieza el contador. \n",
        "\n",
        "contador = 0\n",
        "for i in range(inicio, final + 1): # desde el año inicial al final más 1, ponemos más 1 porque en python el último no se cuenta. \n",
        "    if es_bisiesto(i): # aquí llamamos a la función. \n",
        "        contador += 1\n",
        "\n",
        "print(\"De\", inicio, \"a\", final, \"hay\", final - inicio + 1, \"años,\",\n",
        "      contador, \"de ellos bisiestos.\")\n"
      ],
      "metadata": {
        "colab": {
          "base_uri": "https://localhost:8080/"
        },
        "id": "q_a4W38fkXFp",
        "outputId": "ae37553a-8ef1-417f-b76a-3d5d10810d2b"
      },
      "execution_count": 9,
      "outputs": [
        {
          "output_type": "stream",
          "name": "stdout",
          "text": [
            "Contador de años bisiestos\n",
            "Escriba un año: 2010\n",
            "Escriba otro año posterior a 2010: 2020\n",
            "De 2010 a 2020 hay 11 años, 3 de ellos bisiestos.\n"
          ]
        }
      ]
    },
    {
      "cell_type": "markdown",
      "source": [
        "-Escriba un programa que permita crear una lista de palabras (que puede ser vacía). Para ello, el programa tiene que pedir un número y luego solicitar ese número de palabras para crear la lista. Por último, el programa tiene que escribir la lista."
      ],
      "metadata": {
        "id": "e9r8B9liZJ3M"
      }
    },
    {
      "cell_type": "code",
      "source": [
        "numero = int(input(\"Digame cuantas palabras tiene la lista: \"))\n",
        "\n",
        "if numero < 1:\n",
        "    print(\"imposible\")\n",
        "else:\n",
        "    lista = []\n",
        "    for i in range(numero):\n",
        "        print(\"Digame la palabra\", str(i + 1) + \": \", end=\"\")\n",
        "        palabra = input()\n",
        "        lista += [palabra]\n",
        "    print(\"la lista creada es:\", lista)\n",
        "    "
      ],
      "metadata": {
        "id": "69AXphmgY4Bl",
        "colab": {
          "base_uri": "https://localhost:8080/"
        },
        "outputId": "025ced3a-4cdd-4019-ce32-c99b0e75ce30"
      },
      "execution_count": 5,
      "outputs": [
        {
          "output_type": "stream",
          "name": "stdout",
          "text": [
            "Digame cuantas palabras tiene la lista: 3\n",
            "Digame la palabra 1: francisco\n",
            "Digame la palabra 2: martin\n",
            "Digame la palabra 3: martin\n",
            "la lista creada es: ['francisco', 'martin', 'martin']\n"
          ]
        }
      ]
    },
    {
      "cell_type": "markdown",
      "source": [
        "- Escriba un programa que pida cuántas listas se quieren crear y las solicite a continuación:"
      ],
      "metadata": {
        "id": "GoGhNBehnWSz"
      }
    },
    {
      "cell_type": "code",
      "source": [
        "def crea_lista(contador):\n",
        "    print(\"Dígame cuántas palabras tiene la lista\", str(contador) + \": \", end=\"\")\n",
        "    numero = int(input())\n",
        "    lista = []\n",
        "    for i in range(numero):\n",
        "        print(\"Dígame la palabra\", str(i + 1) + \": \", end=\"\")\n",
        "        palabra = input()\n",
        "        lista += [palabra]\n",
        "    return lista\n",
        "\n",
        "print(\"Generador de listas\")\n",
        "numero = int(input(\"¿Cuántas listas quiere escribir? \"))\n",
        "for i in range(1, numero + 1):\n",
        "    print(\"La lista\", i, \"es:\", crea_lista(i))"
      ],
      "metadata": {
        "colab": {
          "base_uri": "https://localhost:8080/"
        },
        "id": "en9yUMmGnX2U",
        "outputId": "104effee-655f-4cda-d010-78c04d944867"
      },
      "execution_count": 10,
      "outputs": [
        {
          "output_type": "stream",
          "name": "stdout",
          "text": [
            "Generador de listas\n",
            "¿Cuántas listas quiere escribir? 2\n",
            "Dígame cuántas palabras tiene la lista 1: 3\n",
            "Dígame la palabra 1: francisco\n",
            "Dígame la palabra 2: martin\n",
            "Dígame la palabra 3: martin\n",
            "La lista 1 es: ['francisco', 'martin', 'martin']\n",
            "Dígame cuántas palabras tiene la lista 2: 3\n",
            "Dígame la palabra 1: seila\n",
            "Dígame la palabra 2: alonso\n",
            "Dígame la palabra 3: cortina\n",
            "La lista 2 es: ['seila', 'alonso', 'cortina']\n"
          ]
        }
      ]
    },
    {
      "cell_type": "markdown",
      "source": [
        "- Modifique el programa anterior de manera que las listas se escriban al final del programa:"
      ],
      "metadata": {
        "id": "DFsvXGxUoE5H"
      }
    },
    {
      "cell_type": "code",
      "source": [
        "def crea_lista(contador):\n",
        "    print(\"Dígame cuántas palabras tiene la lista\", str(contador) + \": \", end=\"\")\n",
        "    numero = int(input())\n",
        "    lista = []\n",
        "    for i in range(numero):\n",
        "        print(\"Dígame la palabra\", str(i + 1) + \": \", end=\"\")\n",
        "        palabra = input()\n",
        "        lista += [palabra]\n",
        "    return lista\n",
        "\n",
        "print(\"Generador de listas\")\n",
        "numero = int(input(\"¿Cuántas listas quiere escribir? \"))\n",
        "\n",
        "listas = []\n",
        "for i in range(1, numero + 1):\n",
        "    listas += [crea_lista(i)]\n",
        "\n",
        "for i in range(numero):\n",
        "    print(\"La lista\", i + 1, \"es:\", listas[i])"
      ],
      "metadata": {
        "colab": {
          "base_uri": "https://localhost:8080/"
        },
        "id": "80zWiskeoGbY",
        "outputId": "05e33107-6d95-409c-d37c-dadb5b96155c"
      },
      "execution_count": 11,
      "outputs": [
        {
          "output_type": "stream",
          "name": "stdout",
          "text": [
            "Generador de listas\n",
            "¿Cuántas listas quiere escribir? 2\n",
            "Dígame cuántas palabras tiene la lista 1: 3\n",
            "Dígame la palabra 1: francisco\n",
            "Dígame la palabra 2: martin\n",
            "Dígame la palabra 3: martin\n",
            "Dígame cuántas palabras tiene la lista 2: 3\n",
            "Dígame la palabra 1: seila\n",
            "Dígame la palabra 2: alonso\n",
            "Dígame la palabra 3: cortina\n",
            "La lista 1 es: ['francisco', 'martin', 'martin']\n",
            "La lista 2 es: ['seila', 'alonso', 'cortina']\n"
          ]
        }
      ]
    },
    {
      "cell_type": "markdown",
      "source": [
        "- Escriba un programa que permita crear dos listas de palabras y que, a continuación, elimine de la primera lista los nombres de la segunda lista."
      ],
      "metadata": {
        "id": "teuF_Lg0fACA"
      }
    },
    {
      "cell_type": "code",
      "source": [
        "numero = int(input(\"Digame cuantas palabras tiene la lista: \"))\n",
        "\n",
        "if numero < 1:\n",
        "    print(\"imposible\")\n",
        "else:\n",
        "    lista = []\n",
        "    for i in range(numero):\n",
        "        print(\"Dígame la plabra\", str(i + 1) + \": \", end= \"\")\n",
        "        palabra = input()\n",
        "        lista += [palabra]\n",
        "    print(\"la lista creada es:\", lista)\n",
        "\n",
        "    numero2 = int(input(\"Digame cuantas palabras tiene la lista de palabras a eliminar: \"))\n",
        "\n",
        "    if numero2 < 1:\n",
        "        print(\"imposible\")\n",
        "    else:\n",
        "        eliminar = []\n",
        "        for i in range(numero2):\n",
        "            print(\"digame la palabra:\" + str(i + 1), end=\"\")\n",
        "            palabra = input()\n",
        "            eliminar += [palabra]\n",
        "        print(\"la lista de palabras a eliminar es:\", eliminar)\n",
        "\n",
        "        for i in eliminar:\n",
        "            for j in range(len(lista)-1, -1, -1):\n",
        "                if lista[j] == i:\n",
        "                    del(lista[j])\n",
        "        print(\"La lista es ahora:\", lista)\n",
        "\n",
        "       \n",
        "                     "
      ],
      "metadata": {
        "colab": {
          "base_uri": "https://localhost:8080/"
        },
        "id": "5iDqsaGjeQKQ",
        "outputId": "2ef94bb9-f826-4d16-fc7c-81df64463237"
      },
      "execution_count": 6,
      "outputs": [
        {
          "output_type": "stream",
          "name": "stdout",
          "text": [
            "Digame cuantas palabras tiene la lista: 3\n",
            "Dígame la plabra 1: francisco\n",
            "Dígame la plabra 2: martin\n",
            "Dígame la plabra 3: martin\n",
            "la lista creada es: ['francisco', 'martin', 'martin']\n",
            "Digame cuantas palabras tiene la lista de palabras a eliminar: 2\n",
            "digame la palabra:1martin\n",
            "digame la palabra:2martin\n",
            "la lista de palabras a eliminar es: ['martin', 'martin']\n",
            "La lista es ahora: ['francisco']\n"
          ]
        }
      ]
    },
    {
      "cell_type": "markdown",
      "source": [
        "- Solicitar al usuario que ingrese su dirección email. Imprimir un mensaje indicando si la dirección es válida o no, valiéndose de una función para decidirlo. Una dirección se considerará válida si contiene el símbolo \"@\""
      ],
      "metadata": {
        "id": "Ul04vPZASi9k"
      }
    },
    {
      "cell_type": "code",
      "source": [
        "def validar(email):\n",
        "    caracterBuscado=\"@\"\n",
        "    emailValido=False\n",
        "    for c in email:\n",
        "        if c==caracterBuscado:\n",
        "            return True\n",
        "    return False\n",
        "\n",
        " \n",
        "direccion=input(\"Tu email: \")\n",
        "if validar(direccion):\n",
        "    print(\"Dirección válida\")\n",
        "else:\n",
        "    print(\"Dirección inválida\")"
      ],
      "metadata": {
        "colab": {
          "base_uri": "https://localhost:8080/"
        },
        "id": "Zk_E3Sq-iV64",
        "outputId": "12bfe6b4-40fe-4361-f599-0949e90bd5f4"
      },
      "execution_count": 3,
      "outputs": [
        {
          "output_type": "stream",
          "name": "stdout",
          "text": [
            "Tu email: pacomm5@gmail.com\n",
            "Dirección válida\n"
          ]
        }
      ]
    },
    {
      "cell_type": "markdown",
      "source": [
        "Solicitar números al usuario hasta que ingrese el cero. Por cada uno, mostrar la suma de sus dígitos. Al finalizar, mostrar la sumatoria de todos los números ingresados y la suma de sus dígitos. Reutilizar la misma función realizada en el ejercicio 2."
      ],
      "metadata": {
        "id": "3iop6piNUVan"
      }
    },
    {
      "cell_type": "code",
      "source": [
        "def sumaDigitos(numero):\n",
        "    suma=0 # lo iniializamos con 0\n",
        "    while numero!=0: \n",
        "        digito=numero%10\n",
        "        suma=suma+digito\n",
        "        numero=numero//10\n",
        "    return suma\n",
        "\n",
        " \n",
        "sumatoria=0\n",
        "num=int(input(\"Número a procesar: \"))\n",
        "while num!=0:\n",
        "    print(\"Suma:\",sumaDigitos(num))\n",
        "    sumatoria=sumatoria+num\n",
        "    num=int(input(\"Número a procesar: \"))\n",
        "print(\"Sumatoria:\", sumatoria)\n",
        "print(\"Dígitos:\", sumaDigitos(sumatoria))"
      ],
      "metadata": {
        "colab": {
          "base_uri": "https://localhost:8080/"
        },
        "id": "4k-U2cYhVH21",
        "outputId": "e0ab9d4d-87d4-497d-df36-1fe83bc1a647"
      },
      "execution_count": 6,
      "outputs": [
        {
          "output_type": "stream",
          "name": "stdout",
          "text": [
            "Número a procesar: 10\n",
            "Suma: 1\n",
            "Número a procesar: 100\n",
            "Suma: 1\n",
            "Número a procesar: 1000\n",
            "Suma: 1\n",
            "Número a procesar: 0\n",
            "Sumatoria: 1110\n",
            "Dígitos: 3\n"
          ]
        }
      ]
    },
    {
      "cell_type": "code",
      "source": [
        ""
      ],
      "metadata": {
        "id": "SFHM9Li3YG_G"
      },
      "execution_count": null,
      "outputs": []
    }
  ]
}