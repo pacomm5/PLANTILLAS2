{
  "nbformat": 4,
  "nbformat_minor": 0,
  "metadata": {
    "colab": {
      "name": "COHORT3_MIO.ipynb",
      "provenance": [],
      "toc_visible": true,
      "mount_file_id": "https://github.com/pacomm5/PLANTILLAS2/blob/main/COHORT3_MIO_Carroceria.ipynb",
      "authorship_tag": "ABX9TyNZld3JyvJBrqZwpbMjdkVz",
      "include_colab_link": true
    },
    "kernelspec": {
      "name": "python3",
      "display_name": "Python 3"
    },
    "language_info": {
      "name": "python"
    }
  },
  "cells": [
    {
      "cell_type": "markdown",
      "metadata": {
        "id": "view-in-github",
        "colab_type": "text"
      },
      "source": [
        "<a href=\"https://colab.research.google.com/github/pacomm5/PLANTILLAS2/blob/main/COHORT3_MIO_Carroceria.ipynb\" target=\"_parent\"><img src=\"https://colab.research.google.com/assets/colab-badge.svg\" alt=\"Open In Colab\"/></a>"
      ]
    },
    {
      "cell_type": "markdown",
      "source": [
        "#AQUI VOY A HACER EL DE CARROCERÍA PARA MARKETING ESTE ES EL NUEVO. \n",
        "este es el nuevo despues de corregir"
      ],
      "metadata": {
        "id": "ooy6p_3VlMdU"
      }
    },
    {
      "cell_type": "code",
      "source": [
        "import pandas as pd\n",
        "# me quedo aquí tengo que volver a hacerlo a ver si me aclaro. \n",
        "# entiendo que al quitar los duplicados de las orden corta2, también me estoy cargando el bastidor y me va a salir mal. "
      ],
      "metadata": {
        "id": "oIHR-2Lgl-d-"
      },
      "execution_count": 4,
      "outputs": []
    },
    {
      "cell_type": "code",
      "source": [
        "xlsx = pd.ExcelFile(\"/content/drive/MyDrive/Colab Notebooks/U239_IMPORTADO.xlsx\") # ESTE EL NOMBRE DE LA RUTA. \n",
        "df = pd.read_excel(xlsx, \"U239_IMPORTADO\" ) # ESTE EL NOMBRE DE LA PESTAÑA. \n",
        "# he descargado el archivo en google drive para no tener que estar cargarlo cada vez que lo utilice. "
      ],
      "metadata": {
        "id": "gPlWn0V0lSwj"
      },
      "execution_count": 5,
      "outputs": []
    },
    {
      "cell_type": "code",
      "source": [
        "# for data manipulation and analysis\n",
        "import pandas as pd\n",
        "import numpy as np\n",
        "\n",
        "# for plotting\n",
        "import seaborn as sns\n",
        "import matplotlib.pyplot as plt\n",
        "from mpl_toolkits import mplot3d\n",
        "sns.set_style('darkgrid')\n",
        "\n",
        "# Silhouette analysis\n",
        "from sklearn.metrics import silhouette_score\n",
        "\n",
        "# To perform KMeans clustering \n",
        "from sklearn.cluster import KMeans\n",
        "\n",
        "# for scaling\n",
        "from sklearn.preprocessing import StandardScaler\n",
        "\n",
        "import warnings\n",
        "warnings.filterwarnings('ignore')"
      ],
      "metadata": {
        "id": "7upeqCZdneOk"
      },
      "execution_count": 33,
      "outputs": []
    },
    {
      "cell_type": "code",
      "source": [
        "pd.options.display.max_columns = 0 # con esto n olimitamos que se vean todas las columnas a lo ancho"
      ],
      "metadata": {
        "id": "rzSasm2Yl7Ge"
      },
      "execution_count": 34,
      "outputs": []
    },
    {
      "cell_type": "code",
      "source": [
        "df.columns"
      ],
      "metadata": {
        "colab": {
          "base_uri": "https://localhost:8080/"
        },
        "id": "pBYjH8SBnDpi",
        "outputId": "bcc12968-acc3-4abb-83ed-e2dfb600ee6f"
      },
      "execution_count": 35,
      "outputs": [
        {
          "output_type": "execute_result",
          "data": {
            "text/plain": [
              "Index(['Tall', 'Referencia', 'Fecha_Fact', 'Fecha_Apertura', 'Cta_Cargo',\n",
              "       'Nombre_Cliente', 'Cta_Titular', 'Nombre_Titular', 'Recamb',\n",
              "       'Recamb_Pvp', 'Tiemp_Fact', 'Total_Mo', 'Modelo', 'Recep', 'Matricula',\n",
              "       'Bastidor', 'Tipo_Or', 'Or_Unica', 'MES', 'AÑO', 'ESTANCIA',\n",
              "       'Orden_Corta', 'Fact_total', 'Orden_Corta2'],\n",
              "      dtype='object')"
            ]
          },
          "metadata": {},
          "execution_count": 35
        }
      ]
    },
    {
      "cell_type": "code",
      "source": [
        "# voy a cambiar el nombre de algunas columnas. \n",
        "df = df.rename(columns={\"Fecha Fa\":\"Fecha_Fact\", \"Fec.aper\":\"Fecha_Apertura\", \"Cta.car\":\"Cta_Cargo\",\"Nombre cliente\":\"Nombre_Cliente\", \"Cta.tit\":\"Cta_Titular\", \"Nombre titular\":\"Nombre_Titular\", \n",
        "                   \"Recamb.\":\"Recamb\", \"RECAMBIOS PVP\":\"Recamb_Pvp\", \"Tiem.fac\":\"Tiemp_Fact\", \"Total.MO\":\"Total_Mo\", \"Tipo O.R.\":\"Tipo_Or\", \"OR UNICA\": \"Or_Unica\", \"ORDEN CORTA\":\"Orden_Corta\" })\n"
      ],
      "metadata": {
        "id": "eybD-HLxnJ4i"
      },
      "execution_count": 36,
      "outputs": []
    },
    {
      "cell_type": "code",
      "source": [
        "print(\"la fecha va desde {} a {}\".format(df.Fecha_Fact.min(), df.Fecha_Fact.max()))"
      ],
      "metadata": {
        "colab": {
          "base_uri": "https://localhost:8080/"
        },
        "id": "sRrPkSsQnn8C",
        "outputId": "384fcf6a-48bd-4c2b-962b-c3e0870e53cb"
      },
      "execution_count": 37,
      "outputs": [
        {
          "output_type": "stream",
          "name": "stdout",
          "text": [
            "la fecha va desde 2015-01-02 00:00:00 a 2022-12-30 00:00:00\n"
          ]
        }
      ]
    },
    {
      "cell_type": "code",
      "source": [
        "# lo primero que voy a hacer es cambiar de tipo de datos. \n",
        "df[\"Tall\"] = df[\"Tall\"].apply(str)\n",
        "df[\"Referencia\"] = df[\"Referencia\"].apply(str)\n",
        "df[\"Cta_Cargo\"] = df[\"Cta_Cargo\"].apply(str)\n",
        "df[\"Or_Unica\"] = df[\"Or_Unica\"].apply(str)\n",
        "df[\"Orden_Corta\"] = df[\"Orden_Corta\"].apply(str)\n",
        "df[\"Cta_Cargo\"] = df[\"Cta_Cargo\"].apply(str)\n",
        "df[\"Nombre_Cliente\"] = df[\"Nombre_Cliente\"].apply(str)\n",
        "df[\"Cta_Titular\"] = df[\"Cta_Titular\"].apply(str)\n",
        "df[\"Nombre_Titular\"] = df[\"Nombre_Titular\"].apply(str)\n",
        "df[\"Modelo\"] = df[\"Modelo\"].apply(str)\n",
        "df[\"Recep\"] = df[\"Recep\"].apply(str)\n",
        "df[\"Matricula\"] = df[\"Matricula\"].apply(str)\n",
        "df[\"Bastidor\"] = df[\"Bastidor\"].apply(str)\n",
        "df[\"Tipo_Or\"] = df[\"Tipo_Or\"].apply(str)\n"
      ],
      "metadata": {
        "id": "7fXM7zsBnq-d"
      },
      "execution_count": 38,
      "outputs": []
    },
    {
      "cell_type": "code",
      "source": [
        "df[\"Fact_total\"] = df[\"Total_Mo\"] + df[\"Recamb\"]"
      ],
      "metadata": {
        "id": "30ZCOOg8nyiU"
      },
      "execution_count": 39,
      "outputs": []
    },
    {
      "cell_type": "code",
      "source": [
        "df.tail()"
      ],
      "metadata": {
        "id": "nyK387MsroeZ",
        "outputId": "520f5f8a-b3aa-4c12-dca3-17a158cf9b90",
        "colab": {
          "base_uri": "https://localhost:8080/",
          "height": 337
        }
      },
      "execution_count": 59,
      "outputs": [
        {
          "output_type": "execute_result",
          "data": {
            "text/plain": [
              "       Tall Referencia Fecha_Fact  ... Orden_Corta Fact_total Orden_Corta2\n",
              "307972    1   14213091        NaT  ...     1421309       0.00      1421309\n",
              "307973    3   14213621 2022-12-30  ...     1421362     471.56      1421362\n",
              "307974    3   14214141 2022-12-29  ...     1421414       0.00      1421414\n",
              "307975    1   14214201 2022-12-29  ...     1421420       0.00      1421420\n",
              "307978    6   14215461 2022-12-30  ...     1421546     243.61      1421546\n",
              "\n",
              "[5 rows x 24 columns]"
            ],
            "text/html": [
              "\n",
              "  <div id=\"df-ae8554bc-807f-4468-b8a5-ad5e545d79ad\">\n",
              "    <div class=\"colab-df-container\">\n",
              "      <div>\n",
              "<style scoped>\n",
              "    .dataframe tbody tr th:only-of-type {\n",
              "        vertical-align: middle;\n",
              "    }\n",
              "\n",
              "    .dataframe tbody tr th {\n",
              "        vertical-align: top;\n",
              "    }\n",
              "\n",
              "    .dataframe thead th {\n",
              "        text-align: right;\n",
              "    }\n",
              "</style>\n",
              "<table border=\"1\" class=\"dataframe\">\n",
              "  <thead>\n",
              "    <tr style=\"text-align: right;\">\n",
              "      <th></th>\n",
              "      <th>Tall</th>\n",
              "      <th>Referencia</th>\n",
              "      <th>Fecha_Fact</th>\n",
              "      <th>Fecha_Apertura</th>\n",
              "      <th>Cta_Cargo</th>\n",
              "      <th>Nombre_Cliente</th>\n",
              "      <th>Cta_Titular</th>\n",
              "      <th>Nombre_Titular</th>\n",
              "      <th>Recamb</th>\n",
              "      <th>Recamb_Pvp</th>\n",
              "      <th>Tiemp_Fact</th>\n",
              "      <th>Total_Mo</th>\n",
              "      <th>Modelo</th>\n",
              "      <th>Recep</th>\n",
              "      <th>Matricula</th>\n",
              "      <th>Bastidor</th>\n",
              "      <th>Tipo_Or</th>\n",
              "      <th>Or_Unica</th>\n",
              "      <th>MES</th>\n",
              "      <th>AÑO</th>\n",
              "      <th>ESTANCIA</th>\n",
              "      <th>Orden_Corta</th>\n",
              "      <th>Fact_total</th>\n",
              "      <th>Orden_Corta2</th>\n",
              "    </tr>\n",
              "  </thead>\n",
              "  <tbody>\n",
              "    <tr>\n",
              "      <th>307972</th>\n",
              "      <td>1</td>\n",
              "      <td>14213091</td>\n",
              "      <td>NaT</td>\n",
              "      <td>2022-12-29</td>\n",
              "      <td>137273</td>\n",
              "      <td>TERAN BARRIOBERO EUGENI</td>\n",
              "      <td>137273</td>\n",
              "      <td>TERAN BARRIOBERO EUGENI</td>\n",
              "      <td>0.00</td>\n",
              "      <td>0.00</td>\n",
              "      <td>0.0</td>\n",
              "      <td>0.00</td>\n",
              "      <td>A5</td>\n",
              "      <td>241</td>\n",
              "      <td>5977HCN</td>\n",
              "      <td>WAUZZZ8T3BA067279</td>\n",
              "      <td>2A O.R.CLIENT MEC AUDI-CO</td>\n",
              "      <td>nan</td>\n",
              "      <td>1</td>\n",
              "      <td>1900</td>\n",
              "      <td>-44924</td>\n",
              "      <td>1421309</td>\n",
              "      <td>0.00</td>\n",
              "      <td>1421309</td>\n",
              "    </tr>\n",
              "    <tr>\n",
              "      <th>307973</th>\n",
              "      <td>3</td>\n",
              "      <td>14213621</td>\n",
              "      <td>2022-12-30</td>\n",
              "      <td>2022-12-29</td>\n",
              "      <td>136805</td>\n",
              "      <td>MORALEDA MORALEDA SATUR</td>\n",
              "      <td>136805</td>\n",
              "      <td>MORALEDA MORALEDA SATUR</td>\n",
              "      <td>213.70</td>\n",
              "      <td>427.40</td>\n",
              "      <td>3.2</td>\n",
              "      <td>257.86</td>\n",
              "      <td>AUDI Q3 DE</td>\n",
              "      <td>294</td>\n",
              "      <td>7816JMZ</td>\n",
              "      <td>WAUZZZ8U2GR095043</td>\n",
              "      <td>2A O.R.CLIENT MEC AUDI-CO</td>\n",
              "      <td>nan</td>\n",
              "      <td>12</td>\n",
              "      <td>2022</td>\n",
              "      <td>1</td>\n",
              "      <td>1421362</td>\n",
              "      <td>471.56</td>\n",
              "      <td>1421362</td>\n",
              "    </tr>\n",
              "    <tr>\n",
              "      <th>307974</th>\n",
              "      <td>3</td>\n",
              "      <td>14214141</td>\n",
              "      <td>2022-12-29</td>\n",
              "      <td>2022-12-29</td>\n",
              "      <td>156237</td>\n",
              "      <td>SONIA MARTINEZ ROBLES</td>\n",
              "      <td>156237</td>\n",
              "      <td>SONIA MARTINEZ ROBLES</td>\n",
              "      <td>0.00</td>\n",
              "      <td>0.00</td>\n",
              "      <td>0.0</td>\n",
              "      <td>0.00</td>\n",
              "      <td>AUDI Q3 BL</td>\n",
              "      <td>63</td>\n",
              "      <td>7114KNX</td>\n",
              "      <td>WAUZZZ8U4JR099313</td>\n",
              "      <td>2A O.R.CLIENT MEC AUDI-CO</td>\n",
              "      <td>nan</td>\n",
              "      <td>12</td>\n",
              "      <td>2022</td>\n",
              "      <td>0</td>\n",
              "      <td>1421414</td>\n",
              "      <td>0.00</td>\n",
              "      <td>1421414</td>\n",
              "    </tr>\n",
              "    <tr>\n",
              "      <th>307975</th>\n",
              "      <td>1</td>\n",
              "      <td>14214201</td>\n",
              "      <td>2022-12-29</td>\n",
              "      <td>2022-12-29</td>\n",
              "      <td>156237</td>\n",
              "      <td>SONIA MARTINEZ ROBLES</td>\n",
              "      <td>156237</td>\n",
              "      <td>SONIA MARTINEZ ROBLES</td>\n",
              "      <td>0.00</td>\n",
              "      <td>41.32</td>\n",
              "      <td>0.0</td>\n",
              "      <td>0.00</td>\n",
              "      <td>AUDI Q3 BL</td>\n",
              "      <td>63</td>\n",
              "      <td>7114KNX</td>\n",
              "      <td>WAUZZZ8U4JR099313</td>\n",
              "      <td>2A O.R.CLIENT MEC AUDI-CO</td>\n",
              "      <td>nan</td>\n",
              "      <td>12</td>\n",
              "      <td>2022</td>\n",
              "      <td>0</td>\n",
              "      <td>1421420</td>\n",
              "      <td>0.00</td>\n",
              "      <td>1421420</td>\n",
              "    </tr>\n",
              "    <tr>\n",
              "      <th>307978</th>\n",
              "      <td>6</td>\n",
              "      <td>14215461</td>\n",
              "      <td>2022-12-30</td>\n",
              "      <td>2022-12-30</td>\n",
              "      <td>44721</td>\n",
              "      <td>Jose Maria Prieto Jimen</td>\n",
              "      <td>44721</td>\n",
              "      <td>Jose Maria Prieto Jimen</td>\n",
              "      <td>181.05</td>\n",
              "      <td>394.05</td>\n",
              "      <td>0.8</td>\n",
              "      <td>62.56</td>\n",
              "      <td>AUDI A6 3.</td>\n",
              "      <td>41</td>\n",
              "      <td>2860HVF</td>\n",
              "      <td>WAUZZZ4G7EN085953</td>\n",
              "      <td>2A O.R.CLIENT MEC AUDI-CO</td>\n",
              "      <td>nan</td>\n",
              "      <td>12</td>\n",
              "      <td>2022</td>\n",
              "      <td>0</td>\n",
              "      <td>1421546</td>\n",
              "      <td>243.61</td>\n",
              "      <td>1421546</td>\n",
              "    </tr>\n",
              "  </tbody>\n",
              "</table>\n",
              "</div>\n",
              "      <button class=\"colab-df-convert\" onclick=\"convertToInteractive('df-ae8554bc-807f-4468-b8a5-ad5e545d79ad')\"\n",
              "              title=\"Convert this dataframe to an interactive table.\"\n",
              "              style=\"display:none;\">\n",
              "        \n",
              "  <svg xmlns=\"http://www.w3.org/2000/svg\" height=\"24px\"viewBox=\"0 0 24 24\"\n",
              "       width=\"24px\">\n",
              "    <path d=\"M0 0h24v24H0V0z\" fill=\"none\"/>\n",
              "    <path d=\"M18.56 5.44l.94 2.06.94-2.06 2.06-.94-2.06-.94-.94-2.06-.94 2.06-2.06.94zm-11 1L8.5 8.5l.94-2.06 2.06-.94-2.06-.94L8.5 2.5l-.94 2.06-2.06.94zm10 10l.94 2.06.94-2.06 2.06-.94-2.06-.94-.94-2.06-.94 2.06-2.06.94z\"/><path d=\"M17.41 7.96l-1.37-1.37c-.4-.4-.92-.59-1.43-.59-.52 0-1.04.2-1.43.59L10.3 9.45l-7.72 7.72c-.78.78-.78 2.05 0 2.83L4 21.41c.39.39.9.59 1.41.59.51 0 1.02-.2 1.41-.59l7.78-7.78 2.81-2.81c.8-.78.8-2.07 0-2.86zM5.41 20L4 18.59l7.72-7.72 1.47 1.35L5.41 20z\"/>\n",
              "  </svg>\n",
              "      </button>\n",
              "      \n",
              "  <style>\n",
              "    .colab-df-container {\n",
              "      display:flex;\n",
              "      flex-wrap:wrap;\n",
              "      gap: 12px;\n",
              "    }\n",
              "\n",
              "    .colab-df-convert {\n",
              "      background-color: #E8F0FE;\n",
              "      border: none;\n",
              "      border-radius: 50%;\n",
              "      cursor: pointer;\n",
              "      display: none;\n",
              "      fill: #1967D2;\n",
              "      height: 32px;\n",
              "      padding: 0 0 0 0;\n",
              "      width: 32px;\n",
              "    }\n",
              "\n",
              "    .colab-df-convert:hover {\n",
              "      background-color: #E2EBFA;\n",
              "      box-shadow: 0px 1px 2px rgba(60, 64, 67, 0.3), 0px 1px 3px 1px rgba(60, 64, 67, 0.15);\n",
              "      fill: #174EA6;\n",
              "    }\n",
              "\n",
              "    [theme=dark] .colab-df-convert {\n",
              "      background-color: #3B4455;\n",
              "      fill: #D2E3FC;\n",
              "    }\n",
              "\n",
              "    [theme=dark] .colab-df-convert:hover {\n",
              "      background-color: #434B5C;\n",
              "      box-shadow: 0px 1px 3px 1px rgba(0, 0, 0, 0.15);\n",
              "      filter: drop-shadow(0px 1px 2px rgba(0, 0, 0, 0.3));\n",
              "      fill: #FFFFFF;\n",
              "    }\n",
              "  </style>\n",
              "\n",
              "      <script>\n",
              "        const buttonEl =\n",
              "          document.querySelector('#df-ae8554bc-807f-4468-b8a5-ad5e545d79ad button.colab-df-convert');\n",
              "        buttonEl.style.display =\n",
              "          google.colab.kernel.accessAllowed ? 'block' : 'none';\n",
              "\n",
              "        async function convertToInteractive(key) {\n",
              "          const element = document.querySelector('#df-ae8554bc-807f-4468-b8a5-ad5e545d79ad');\n",
              "          const dataTable =\n",
              "            await google.colab.kernel.invokeFunction('convertToInteractive',\n",
              "                                                     [key], {});\n",
              "          if (!dataTable) return;\n",
              "\n",
              "          const docLinkHtml = 'Like what you see? Visit the ' +\n",
              "            '<a target=\"_blank\" href=https://colab.research.google.com/notebooks/data_table.ipynb>data table notebook</a>'\n",
              "            + ' to learn more about interactive tables.';\n",
              "          element.innerHTML = '';\n",
              "          dataTable['output_type'] = 'display_data';\n",
              "          await google.colab.output.renderOutput(dataTable, element);\n",
              "          const docLink = document.createElement('div');\n",
              "          docLink.innerHTML = docLinkHtml;\n",
              "          element.appendChild(docLink);\n",
              "        }\n",
              "      </script>\n",
              "    </div>\n",
              "  </div>\n",
              "  "
            ]
          },
          "metadata": {},
          "execution_count": 59
        }
      ]
    },
    {
      "cell_type": "code",
      "source": [
        "# de esta manera lo que hago es quitar el último digito de la variable referencia. \n",
        "# lo he hecho para probar como se hace. podría haberlo metido en otra variable y luego meterla en el dataframe para no eliminar información. \n",
        "df[\"Orden_Corta2\"] = df.apply(lambda x: x[\"Referencia\"][:-1], axis=1)"
      ],
      "metadata": {
        "id": "iMYUvlhKoFtF"
      },
      "execution_count": 40,
      "outputs": []
    },
    {
      "cell_type": "code",
      "source": [
        "# voy a quitar las internas. \n",
        "df = df[df[\"Tipo_Or\"].str.startswith(\"5\")!=True]\n",
        "# voy a quitar las internas. \n",
        "df = df[df[\"Tipo_Or\"].str.startswith(\"6\")!=True]"
      ],
      "metadata": {
        "id": "bagl9LTEobOK"
      },
      "execution_count": 41,
      "outputs": []
    },
    {
      "cell_type": "code",
      "source": [
        "df_carroceria = df[df[\"Tipo_Or\"].str.startswith(\"7\")==True]"
      ],
      "metadata": {
        "id": "ha9uPFReohSA"
      },
      "execution_count": 42,
      "outputs": []
    },
    {
      "cell_type": "code",
      "source": [
        "# AQUI ESTOY COMPROBANDO QUE SOLO ME HAYA QUEDADO CON CARROCERÍA. \n",
        "df_carroceria.Tipo_Or.value_counts(normalize=True) # por numero de lineas, debajo están los pesos. "
      ],
      "metadata": {
        "id": "jRD2Un0OKWYs",
        "outputId": "2cf74e73-0ea1-408c-eb0f-9851384cc7cc",
        "colab": {
          "base_uri": "https://localhost:8080/"
        }
      },
      "execution_count": 43,
      "outputs": [
        {
          "output_type": "execute_result",
          "data": {
            "text/plain": [
              "7A PRESUPUESTO CH AUDI       0.574434\n",
              "7V PRESUPUESTO CH VW         0.381218\n",
              "7LA PRES  AU CH  LONG DRI    0.025749\n",
              "7LV PRES  VW CH  LONG DRI    0.013439\n",
              "7L PRESUPUESTO CH LCV        0.004408\n",
              "7LL PRES  LCV  CH  LONG D    0.000753\n",
              "Name: Tipo_Or, dtype: float64"
            ]
          },
          "metadata": {},
          "execution_count": 43
        }
      ]
    },
    {
      "cell_type": "code",
      "source": [
        "# antes de nada lo que voy a hacer es ver los valores null\n",
        "df_carroceria.isnull().sum()"
      ],
      "metadata": {
        "colab": {
          "base_uri": "https://localhost:8080/"
        },
        "id": "WtzCoEfJoqoT",
        "outputId": "6aee9e11-921d-483a-c4a8-ae8ad436e5a2"
      },
      "execution_count": 48,
      "outputs": [
        {
          "output_type": "execute_result",
          "data": {
            "text/plain": [
              "Tall                 0\n",
              "Referencia           0\n",
              "Fecha_Fact        1640\n",
              "Fecha_Apertura       0\n",
              "Cta_Cargo            0\n",
              "Nombre_Cliente       0\n",
              "Cta_Titular          0\n",
              "Nombre_Titular       0\n",
              "Recamb               0\n",
              "Recamb_Pvp           0\n",
              "Tiemp_Fact           0\n",
              "Total_Mo             0\n",
              "Modelo               0\n",
              "Recep                0\n",
              "Matricula            0\n",
              "Bastidor             0\n",
              "Tipo_Or              0\n",
              "Or_Unica             0\n",
              "MES                  0\n",
              "AÑO                  0\n",
              "ESTANCIA             0\n",
              "Orden_Corta          0\n",
              "Fact_total           0\n",
              "Orden_Corta2         0\n",
              "dtype: int64"
            ]
          },
          "metadata": {},
          "execution_count": 48
        }
      ]
    },
    {
      "cell_type": "code",
      "source": [
        "df_carroceria = df[~df.Fecha_Fact.isnull()] # los quito"
      ],
      "metadata": {
        "id": "lVTiDF2xpmqS"
      },
      "execution_count": 61,
      "outputs": []
    },
    {
      "cell_type": "code",
      "source": [
        "df_carroceria.isnull().sum() # tengo algunos pero no voy  aseguir quitando. "
      ],
      "metadata": {
        "colab": {
          "base_uri": "https://localhost:8080/"
        },
        "id": "4LbjtepWpzAP",
        "outputId": "035c600f-13ba-4697-e1f7-7007e32e0f9e"
      },
      "execution_count": 62,
      "outputs": [
        {
          "output_type": "execute_result",
          "data": {
            "text/plain": [
              "Tall              0\n",
              "Referencia        0\n",
              "Fecha_Fact        0\n",
              "Fecha_Apertura    0\n",
              "Cta_Cargo         0\n",
              "Nombre_Cliente    0\n",
              "Cta_Titular       0\n",
              "Nombre_Titular    0\n",
              "Recamb            0\n",
              "Recamb_Pvp        0\n",
              "Tiemp_Fact        5\n",
              "Total_Mo          5\n",
              "Modelo            0\n",
              "Recep             0\n",
              "Matricula         0\n",
              "Bastidor          0\n",
              "Tipo_Or           0\n",
              "Or_Unica          0\n",
              "MES               0\n",
              "AÑO               0\n",
              "ESTANCIA          0\n",
              "Orden_Corta       0\n",
              "Fact_total        5\n",
              "Orden_Corta2      0\n",
              "dtype: int64"
            ]
          },
          "metadata": {},
          "execution_count": 62
        }
      ]
    },
    {
      "cell_type": "code",
      "source": [
        "# vuelvo a comprobar si hay duplicados \n",
        "num_duplicados = df_carroceria[\"Orden_Corta2\"].duplicated().sum() # con esto sabemos cuantos duplicados hay en la columna. "
      ],
      "metadata": {
        "id": "wYOkiP8gNm8L"
      },
      "execution_count": 51,
      "outputs": []
    },
    {
      "cell_type": "code",
      "source": [
        "num_duplicados # y como vemos hay muchos duplicados. \n",
        "# por lo tanto lo primero que vamos a hacer es quitar los duplicados para quitar el número de visitas. "
      ],
      "metadata": {
        "id": "Ib3CikqSNsy-",
        "outputId": "2d4d4945-6d1a-4c06-e0ab-2d318e7d5845",
        "colab": {
          "base_uri": "https://localhost:8080/"
        }
      },
      "execution_count": 63,
      "outputs": [
        {
          "output_type": "execute_result",
          "data": {
            "text/plain": [
              "0"
            ]
          },
          "metadata": {},
          "execution_count": 63
        }
      ]
    },
    {
      "cell_type": "code",
      "source": [
        "# primero hago una copia del df_carrocería para no perderlo. \n",
        "df_carroceria_sinduplicados_orcorta2 = df_carroceria.copy()"
      ],
      "metadata": {
        "id": "1Jr__29KV4eX"
      },
      "execution_count": 53,
      "outputs": []
    },
    {
      "cell_type": "code",
      "source": [
        "df_carroceria_sinduplicados_orcorta2.tail()"
      ],
      "metadata": {
        "colab": {
          "base_uri": "https://localhost:8080/",
          "height": 337
        },
        "id": "pwGeykVPWNNJ",
        "outputId": "9385de2a-4aa1-441f-c94b-8ab868fedcb5"
      },
      "execution_count": 58,
      "outputs": [
        {
          "output_type": "execute_result",
          "data": {
            "text/plain": [
              "   Tall Referencia Fecha_Fact  ... Orden_Corta Fact_total Orden_Corta2\n",
              "34    2    7747121 2015-01-02  ...      774712      36.50       774712\n",
              "33    2    7747031 2015-01-02  ...      774703     608.87       774703\n",
              "32    2    7746791 2015-01-02  ...      774679      45.45       774679\n",
              "30    6    7746161 2015-01-02  ...      774616     349.14       774616\n",
              "24    2    7741801 2015-01-02  ...      774180     314.05       774180\n",
              "\n",
              "[5 rows x 24 columns]"
            ],
            "text/html": [
              "\n",
              "  <div id=\"df-3dacd2c2-2431-43ab-8330-173e6e65f2df\">\n",
              "    <div class=\"colab-df-container\">\n",
              "      <div>\n",
              "<style scoped>\n",
              "    .dataframe tbody tr th:only-of-type {\n",
              "        vertical-align: middle;\n",
              "    }\n",
              "\n",
              "    .dataframe tbody tr th {\n",
              "        vertical-align: top;\n",
              "    }\n",
              "\n",
              "    .dataframe thead th {\n",
              "        text-align: right;\n",
              "    }\n",
              "</style>\n",
              "<table border=\"1\" class=\"dataframe\">\n",
              "  <thead>\n",
              "    <tr style=\"text-align: right;\">\n",
              "      <th></th>\n",
              "      <th>Tall</th>\n",
              "      <th>Referencia</th>\n",
              "      <th>Fecha_Fact</th>\n",
              "      <th>Fecha_Apertura</th>\n",
              "      <th>Cta_Cargo</th>\n",
              "      <th>Nombre_Cliente</th>\n",
              "      <th>Cta_Titular</th>\n",
              "      <th>Nombre_Titular</th>\n",
              "      <th>Recamb</th>\n",
              "      <th>Recamb_Pvp</th>\n",
              "      <th>Tiemp_Fact</th>\n",
              "      <th>Total_Mo</th>\n",
              "      <th>Modelo</th>\n",
              "      <th>Recep</th>\n",
              "      <th>Matricula</th>\n",
              "      <th>Bastidor</th>\n",
              "      <th>Tipo_Or</th>\n",
              "      <th>Or_Unica</th>\n",
              "      <th>MES</th>\n",
              "      <th>AÑO</th>\n",
              "      <th>ESTANCIA</th>\n",
              "      <th>Orden_Corta</th>\n",
              "      <th>Fact_total</th>\n",
              "      <th>Orden_Corta2</th>\n",
              "    </tr>\n",
              "  </thead>\n",
              "  <tbody>\n",
              "    <tr>\n",
              "      <th>34</th>\n",
              "      <td>2</td>\n",
              "      <td>7747121</td>\n",
              "      <td>2015-01-02</td>\n",
              "      <td>2014-12-30</td>\n",
              "      <td>104188</td>\n",
              "      <td>PARRA TOLEDO MATILDE</td>\n",
              "      <td>104188</td>\n",
              "      <td>PARRA TOLEDO MATILDE</td>\n",
              "      <td>0.00</td>\n",
              "      <td>0.00</td>\n",
              "      <td>0.50</td>\n",
              "      <td>36.50</td>\n",
              "      <td>POLO 1.9 S</td>\n",
              "      <td>85</td>\n",
              "      <td>4873DCS</td>\n",
              "      <td>WVWZZZ9NZ5Y069802</td>\n",
              "      <td>2V O.R.CLIENT MEC VW</td>\n",
              "      <td>nan</td>\n",
              "      <td>1</td>\n",
              "      <td>2015</td>\n",
              "      <td>3</td>\n",
              "      <td>774712</td>\n",
              "      <td>36.50</td>\n",
              "      <td>774712</td>\n",
              "    </tr>\n",
              "    <tr>\n",
              "      <th>33</th>\n",
              "      <td>2</td>\n",
              "      <td>7747031</td>\n",
              "      <td>2015-01-02</td>\n",
              "      <td>2014-12-29</td>\n",
              "      <td>126338</td>\n",
              "      <td>CORDERO HERNANDEZ M ISA</td>\n",
              "      <td>126338</td>\n",
              "      <td>CORDERO HERNANDEZ M ISA</td>\n",
              "      <td>469.17</td>\n",
              "      <td>991.90</td>\n",
              "      <td>2.05</td>\n",
              "      <td>139.70</td>\n",
              "      <td>TOUAREG</td>\n",
              "      <td>9</td>\n",
              "      <td>8394FLK</td>\n",
              "      <td>WVGZZZ7LZ7D065443</td>\n",
              "      <td>2V O.R.CLIENT MEC VW</td>\n",
              "      <td>nan</td>\n",
              "      <td>1</td>\n",
              "      <td>2015</td>\n",
              "      <td>4</td>\n",
              "      <td>774703</td>\n",
              "      <td>608.87</td>\n",
              "      <td>774703</td>\n",
              "    </tr>\n",
              "    <tr>\n",
              "      <th>32</th>\n",
              "      <td>2</td>\n",
              "      <td>7746791</td>\n",
              "      <td>2015-01-02</td>\n",
              "      <td>2014-12-30</td>\n",
              "      <td>112379</td>\n",
              "      <td>CARMONA PARRA VANESA</td>\n",
              "      <td>112379</td>\n",
              "      <td>CARMONA PARRA VANESA</td>\n",
              "      <td>9.68</td>\n",
              "      <td>22.98</td>\n",
              "      <td>0.70</td>\n",
              "      <td>35.77</td>\n",
              "      <td>POLO ADVAN</td>\n",
              "      <td>50</td>\n",
              "      <td>7991HGN</td>\n",
              "      <td>WVWZZZ6RZCY070767</td>\n",
              "      <td>2V O.R.CLIENT MEC VW</td>\n",
              "      <td>nan</td>\n",
              "      <td>1</td>\n",
              "      <td>2015</td>\n",
              "      <td>3</td>\n",
              "      <td>774679</td>\n",
              "      <td>45.45</td>\n",
              "      <td>774679</td>\n",
              "    </tr>\n",
              "    <tr>\n",
              "      <th>30</th>\n",
              "      <td>6</td>\n",
              "      <td>7746161</td>\n",
              "      <td>2015-01-02</td>\n",
              "      <td>2014-12-29</td>\n",
              "      <td>120718</td>\n",
              "      <td>OSKAR SCHUNCK ESPAñA</td>\n",
              "      <td>120718</td>\n",
              "      <td>OSKAR SCHUNCK ESPAñA</td>\n",
              "      <td>207.04</td>\n",
              "      <td>465.84</td>\n",
              "      <td>2.10</td>\n",
              "      <td>142.10</td>\n",
              "      <td>AUDI A6 2.</td>\n",
              "      <td>56</td>\n",
              "      <td>5248HML</td>\n",
              "      <td>WAUZZZ4G1CN153418</td>\n",
              "      <td>2A O.R.CLIENT MEC AUDI</td>\n",
              "      <td>nan</td>\n",
              "      <td>1</td>\n",
              "      <td>2015</td>\n",
              "      <td>4</td>\n",
              "      <td>774616</td>\n",
              "      <td>349.14</td>\n",
              "      <td>774616</td>\n",
              "    </tr>\n",
              "    <tr>\n",
              "      <th>24</th>\n",
              "      <td>2</td>\n",
              "      <td>7741801</td>\n",
              "      <td>2015-01-02</td>\n",
              "      <td>2015-01-02</td>\n",
              "      <td>97987</td>\n",
              "      <td>MIRA GOMEZ PALOMA</td>\n",
              "      <td>97987</td>\n",
              "      <td>MIRA GOMEZ PALOMA</td>\n",
              "      <td>197.25</td>\n",
              "      <td>429.30</td>\n",
              "      <td>1.60</td>\n",
              "      <td>116.80</td>\n",
              "      <td>TOURAN EDI</td>\n",
              "      <td>9</td>\n",
              "      <td>4533GKB</td>\n",
              "      <td>WVGZZZ1TZ9W031579</td>\n",
              "      <td>2V O.R.CLIENT MEC VW</td>\n",
              "      <td>nan</td>\n",
              "      <td>1</td>\n",
              "      <td>2015</td>\n",
              "      <td>0</td>\n",
              "      <td>774180</td>\n",
              "      <td>314.05</td>\n",
              "      <td>774180</td>\n",
              "    </tr>\n",
              "  </tbody>\n",
              "</table>\n",
              "</div>\n",
              "      <button class=\"colab-df-convert\" onclick=\"convertToInteractive('df-3dacd2c2-2431-43ab-8330-173e6e65f2df')\"\n",
              "              title=\"Convert this dataframe to an interactive table.\"\n",
              "              style=\"display:none;\">\n",
              "        \n",
              "  <svg xmlns=\"http://www.w3.org/2000/svg\" height=\"24px\"viewBox=\"0 0 24 24\"\n",
              "       width=\"24px\">\n",
              "    <path d=\"M0 0h24v24H0V0z\" fill=\"none\"/>\n",
              "    <path d=\"M18.56 5.44l.94 2.06.94-2.06 2.06-.94-2.06-.94-.94-2.06-.94 2.06-2.06.94zm-11 1L8.5 8.5l.94-2.06 2.06-.94-2.06-.94L8.5 2.5l-.94 2.06-2.06.94zm10 10l.94 2.06.94-2.06 2.06-.94-2.06-.94-.94-2.06-.94 2.06-2.06.94z\"/><path d=\"M17.41 7.96l-1.37-1.37c-.4-.4-.92-.59-1.43-.59-.52 0-1.04.2-1.43.59L10.3 9.45l-7.72 7.72c-.78.78-.78 2.05 0 2.83L4 21.41c.39.39.9.59 1.41.59.51 0 1.02-.2 1.41-.59l7.78-7.78 2.81-2.81c.8-.78.8-2.07 0-2.86zM5.41 20L4 18.59l7.72-7.72 1.47 1.35L5.41 20z\"/>\n",
              "  </svg>\n",
              "      </button>\n",
              "      \n",
              "  <style>\n",
              "    .colab-df-container {\n",
              "      display:flex;\n",
              "      flex-wrap:wrap;\n",
              "      gap: 12px;\n",
              "    }\n",
              "\n",
              "    .colab-df-convert {\n",
              "      background-color: #E8F0FE;\n",
              "      border: none;\n",
              "      border-radius: 50%;\n",
              "      cursor: pointer;\n",
              "      display: none;\n",
              "      fill: #1967D2;\n",
              "      height: 32px;\n",
              "      padding: 0 0 0 0;\n",
              "      width: 32px;\n",
              "    }\n",
              "\n",
              "    .colab-df-convert:hover {\n",
              "      background-color: #E2EBFA;\n",
              "      box-shadow: 0px 1px 2px rgba(60, 64, 67, 0.3), 0px 1px 3px 1px rgba(60, 64, 67, 0.15);\n",
              "      fill: #174EA6;\n",
              "    }\n",
              "\n",
              "    [theme=dark] .colab-df-convert {\n",
              "      background-color: #3B4455;\n",
              "      fill: #D2E3FC;\n",
              "    }\n",
              "\n",
              "    [theme=dark] .colab-df-convert:hover {\n",
              "      background-color: #434B5C;\n",
              "      box-shadow: 0px 1px 3px 1px rgba(0, 0, 0, 0.15);\n",
              "      filter: drop-shadow(0px 1px 2px rgba(0, 0, 0, 0.3));\n",
              "      fill: #FFFFFF;\n",
              "    }\n",
              "  </style>\n",
              "\n",
              "      <script>\n",
              "        const buttonEl =\n",
              "          document.querySelector('#df-3dacd2c2-2431-43ab-8330-173e6e65f2df button.colab-df-convert');\n",
              "        buttonEl.style.display =\n",
              "          google.colab.kernel.accessAllowed ? 'block' : 'none';\n",
              "\n",
              "        async function convertToInteractive(key) {\n",
              "          const element = document.querySelector('#df-3dacd2c2-2431-43ab-8330-173e6e65f2df');\n",
              "          const dataTable =\n",
              "            await google.colab.kernel.invokeFunction('convertToInteractive',\n",
              "                                                     [key], {});\n",
              "          if (!dataTable) return;\n",
              "\n",
              "          const docLinkHtml = 'Like what you see? Visit the ' +\n",
              "            '<a target=\"_blank\" href=https://colab.research.google.com/notebooks/data_table.ipynb>data table notebook</a>'\n",
              "            + ' to learn more about interactive tables.';\n",
              "          element.innerHTML = '';\n",
              "          dataTable['output_type'] = 'display_data';\n",
              "          await google.colab.output.renderOutput(dataTable, element);\n",
              "          const docLink = document.createElement('div');\n",
              "          docLink.innerHTML = docLinkHtml;\n",
              "          element.appendChild(docLink);\n",
              "        }\n",
              "      </script>\n",
              "    </div>\n",
              "  </div>\n",
              "  "
            ]
          },
          "metadata": {},
          "execution_count": 58
        }
      ]
    },
    {
      "cell_type": "code",
      "source": [
        "# ahora lo que hago es ordenarlos por fecha de Facturación en orden descedente y me quedo con la primera, que es la fecha más reciente. \n",
        "df_carroceria_sinduplicados_orcorta2 = df_carroceria_sinduplicados_orcorta2.sort_values(by=\"Fecha_Fact\", ascending=False).drop_duplicates(\n",
        "    subset=[\"Orden_Corta2\"], keep= \"first\")"
      ],
      "metadata": {
        "id": "LgaVyotUWdHq"
      },
      "execution_count": 55,
      "outputs": []
    },
    {
      "cell_type": "code",
      "source": [
        "# voy a comprobar si tengo duplicados después de hacerlo.\n",
        "num_duplicados = df_carroceria_sinduplicados_orcorta2[\"Orden_Corta2\"].duplicated().sum()\n",
        "num_duplicados\n",
        "# y vemos que no tenemos ningún duplicado. "
      ],
      "metadata": {
        "id": "3bZAlYv1OKSh",
        "outputId": "a84920ac-88a7-4578-b54c-2c7643b95cd7",
        "colab": {
          "base_uri": "https://localhost:8080/"
        }
      },
      "execution_count": 56,
      "outputs": [
        {
          "output_type": "execute_result",
          "data": {
            "text/plain": [
              "0"
            ]
          },
          "metadata": {},
          "execution_count": 56
        }
      ]
    },
    {
      "cell_type": "code",
      "source": [
        "# voy a comprobar si tengo duplicados después de hacerlo.\n",
        "num_duplicados2 = df_carroceria_sinduplicados_orcorta2[\"Bastidor\"].duplicated().sum()\n",
        "num_duplicados\n",
        "# y vemos que no tenemos ningún duplicado. "
      ],
      "metadata": {
        "colab": {
          "base_uri": "https://localhost:8080/"
        },
        "id": "TxPzcWVMZQVx",
        "outputId": "48c0f29f-e6cd-478f-a461-a4e133bed33f"
      },
      "execution_count": 57,
      "outputs": [
        {
          "output_type": "execute_result",
          "data": {
            "text/plain": [
              "0"
            ]
          },
          "metadata": {},
          "execution_count": 57
        }
      ]
    },
    {
      "cell_type": "code",
      "source": [
        "# ahora sí puedo calcular el numero de visitas. \n",
        "visitas = pd.DataFrame(df_carroceria_sinduplicados.groupby(\"Bastidor\")[\"Orden_Corta2\"].nunique().reset_index())\n",
        "visitas.columns = [\"vBastidor\", \"visitas\"]\n",
        "visitas.head()"
      ],
      "metadata": {
        "colab": {
          "base_uri": "https://localhost:8080/",
          "height": 206
        },
        "id": "bEBBzKlnp1nP",
        "outputId": "8c5e1663-d729-4b9b-b7e4-57179ed6c1e7"
      },
      "execution_count": 30,
      "outputs": [
        {
          "output_type": "execute_result",
          "data": {
            "text/plain": [
              "           vBastidor  visitas\n",
              "0   WAUZZZ4L97D07664        5\n",
              "1   WAUZZZ8E55A50910        1\n",
              "2   WAUZZZ8P07A02124        2\n",
              "3   WAUZZZ8P1CA04845        1\n",
              "4   WAUZZZ8T4EA06800        6"
            ],
            "text/html": [
              "\n",
              "  <div id=\"df-9314fefe-95d7-4684-a0b1-0db0460ce056\">\n",
              "    <div class=\"colab-df-container\">\n",
              "      <div>\n",
              "<style scoped>\n",
              "    .dataframe tbody tr th:only-of-type {\n",
              "        vertical-align: middle;\n",
              "    }\n",
              "\n",
              "    .dataframe tbody tr th {\n",
              "        vertical-align: top;\n",
              "    }\n",
              "\n",
              "    .dataframe thead th {\n",
              "        text-align: right;\n",
              "    }\n",
              "</style>\n",
              "<table border=\"1\" class=\"dataframe\">\n",
              "  <thead>\n",
              "    <tr style=\"text-align: right;\">\n",
              "      <th></th>\n",
              "      <th>vBastidor</th>\n",
              "      <th>visitas</th>\n",
              "    </tr>\n",
              "  </thead>\n",
              "  <tbody>\n",
              "    <tr>\n",
              "      <th>0</th>\n",
              "      <td>WAUZZZ4L97D07664</td>\n",
              "      <td>5</td>\n",
              "    </tr>\n",
              "    <tr>\n",
              "      <th>1</th>\n",
              "      <td>WAUZZZ8E55A50910</td>\n",
              "      <td>1</td>\n",
              "    </tr>\n",
              "    <tr>\n",
              "      <th>2</th>\n",
              "      <td>WAUZZZ8P07A02124</td>\n",
              "      <td>2</td>\n",
              "    </tr>\n",
              "    <tr>\n",
              "      <th>3</th>\n",
              "      <td>WAUZZZ8P1CA04845</td>\n",
              "      <td>1</td>\n",
              "    </tr>\n",
              "    <tr>\n",
              "      <th>4</th>\n",
              "      <td>WAUZZZ8T4EA06800</td>\n",
              "      <td>6</td>\n",
              "    </tr>\n",
              "  </tbody>\n",
              "</table>\n",
              "</div>\n",
              "      <button class=\"colab-df-convert\" onclick=\"convertToInteractive('df-9314fefe-95d7-4684-a0b1-0db0460ce056')\"\n",
              "              title=\"Convert this dataframe to an interactive table.\"\n",
              "              style=\"display:none;\">\n",
              "        \n",
              "  <svg xmlns=\"http://www.w3.org/2000/svg\" height=\"24px\"viewBox=\"0 0 24 24\"\n",
              "       width=\"24px\">\n",
              "    <path d=\"M0 0h24v24H0V0z\" fill=\"none\"/>\n",
              "    <path d=\"M18.56 5.44l.94 2.06.94-2.06 2.06-.94-2.06-.94-.94-2.06-.94 2.06-2.06.94zm-11 1L8.5 8.5l.94-2.06 2.06-.94-2.06-.94L8.5 2.5l-.94 2.06-2.06.94zm10 10l.94 2.06.94-2.06 2.06-.94-2.06-.94-.94-2.06-.94 2.06-2.06.94z\"/><path d=\"M17.41 7.96l-1.37-1.37c-.4-.4-.92-.59-1.43-.59-.52 0-1.04.2-1.43.59L10.3 9.45l-7.72 7.72c-.78.78-.78 2.05 0 2.83L4 21.41c.39.39.9.59 1.41.59.51 0 1.02-.2 1.41-.59l7.78-7.78 2.81-2.81c.8-.78.8-2.07 0-2.86zM5.41 20L4 18.59l7.72-7.72 1.47 1.35L5.41 20z\"/>\n",
              "  </svg>\n",
              "      </button>\n",
              "      \n",
              "  <style>\n",
              "    .colab-df-container {\n",
              "      display:flex;\n",
              "      flex-wrap:wrap;\n",
              "      gap: 12px;\n",
              "    }\n",
              "\n",
              "    .colab-df-convert {\n",
              "      background-color: #E8F0FE;\n",
              "      border: none;\n",
              "      border-radius: 50%;\n",
              "      cursor: pointer;\n",
              "      display: none;\n",
              "      fill: #1967D2;\n",
              "      height: 32px;\n",
              "      padding: 0 0 0 0;\n",
              "      width: 32px;\n",
              "    }\n",
              "\n",
              "    .colab-df-convert:hover {\n",
              "      background-color: #E2EBFA;\n",
              "      box-shadow: 0px 1px 2px rgba(60, 64, 67, 0.3), 0px 1px 3px 1px rgba(60, 64, 67, 0.15);\n",
              "      fill: #174EA6;\n",
              "    }\n",
              "\n",
              "    [theme=dark] .colab-df-convert {\n",
              "      background-color: #3B4455;\n",
              "      fill: #D2E3FC;\n",
              "    }\n",
              "\n",
              "    [theme=dark] .colab-df-convert:hover {\n",
              "      background-color: #434B5C;\n",
              "      box-shadow: 0px 1px 3px 1px rgba(0, 0, 0, 0.15);\n",
              "      filter: drop-shadow(0px 1px 2px rgba(0, 0, 0, 0.3));\n",
              "      fill: #FFFFFF;\n",
              "    }\n",
              "  </style>\n",
              "\n",
              "      <script>\n",
              "        const buttonEl =\n",
              "          document.querySelector('#df-9314fefe-95d7-4684-a0b1-0db0460ce056 button.colab-df-convert');\n",
              "        buttonEl.style.display =\n",
              "          google.colab.kernel.accessAllowed ? 'block' : 'none';\n",
              "\n",
              "        async function convertToInteractive(key) {\n",
              "          const element = document.querySelector('#df-9314fefe-95d7-4684-a0b1-0db0460ce056');\n",
              "          const dataTable =\n",
              "            await google.colab.kernel.invokeFunction('convertToInteractive',\n",
              "                                                     [key], {});\n",
              "          if (!dataTable) return;\n",
              "\n",
              "          const docLinkHtml = 'Like what you see? Visit the ' +\n",
              "            '<a target=\"_blank\" href=https://colab.research.google.com/notebooks/data_table.ipynb>data table notebook</a>'\n",
              "            + ' to learn more about interactive tables.';\n",
              "          element.innerHTML = '';\n",
              "          dataTable['output_type'] = 'display_data';\n",
              "          await google.colab.output.renderOutput(dataTable, element);\n",
              "          const docLink = document.createElement('div');\n",
              "          docLink.innerHTML = docLinkHtml;\n",
              "          element.appendChild(docLink);\n",
              "        }\n",
              "      </script>\n",
              "    </div>\n",
              "  </div>\n",
              "  "
            ]
          },
          "metadata": {},
          "execution_count": 30
        }
      ]
    },
    {
      "cell_type": "code",
      "source": [
        "visitas.info()"
      ],
      "metadata": {
        "colab": {
          "base_uri": "https://localhost:8080/"
        },
        "id": "TMXluq1wt-Vo",
        "outputId": "dfef6fa9-0c64-4703-ee21-32f7a0713380"
      },
      "execution_count": null,
      "outputs": [
        {
          "output_type": "stream",
          "name": "stdout",
          "text": [
            "<class 'pandas.core.frame.DataFrame'>\n",
            "RangeIndex: 51759 entries, 0 to 51758\n",
            "Data columns (total 2 columns):\n",
            " #   Column     Non-Null Count  Dtype \n",
            "---  ------     --------------  ----- \n",
            " 0   vBastidor  51759 non-null  object\n",
            " 1   visitas    51759 non-null  int64 \n",
            "dtypes: int64(1), object(1)\n",
            "memory usage: 808.9+ KB\n"
          ]
        }
      ]
    },
    {
      "cell_type": "code",
      "source": [
        "ultima_visita = pd.DataFrame(df_carroceria.groupby(\"Bastidor\")[\"Fecha_Fact\"].max().reset_index())\n",
        "ultima_visita.columns = [\"uBastidor\", \"Ulti_visita\"]\n",
        "ultima_visita.head()\n"
      ],
      "metadata": {
        "colab": {
          "base_uri": "https://localhost:8080/",
          "height": 206
        },
        "id": "Anqc-Z75qoZJ",
        "outputId": "aa3f5643-8e4e-4792-dd45-751c9826da58"
      },
      "execution_count": null,
      "outputs": [
        {
          "output_type": "execute_result",
          "data": {
            "text/plain": [
              "           uBastidor Ulti_visita\n",
              "0   WAUZZZ4L97D07664  2020-10-09\n",
              "1   WAUZZZ8E55A50910  2017-12-20\n",
              "2   WAUZZZ8P07A02124  2021-09-06\n",
              "3   WAUZZZ8P1CA04845  2016-04-15\n",
              "4   WAUZZZ8T4EA06800  2020-03-16"
            ],
            "text/html": [
              "\n",
              "  <div id=\"df-b7f684b3-be32-4f60-b529-7c5e3534602b\">\n",
              "    <div class=\"colab-df-container\">\n",
              "      <div>\n",
              "<style scoped>\n",
              "    .dataframe tbody tr th:only-of-type {\n",
              "        vertical-align: middle;\n",
              "    }\n",
              "\n",
              "    .dataframe tbody tr th {\n",
              "        vertical-align: top;\n",
              "    }\n",
              "\n",
              "    .dataframe thead th {\n",
              "        text-align: right;\n",
              "    }\n",
              "</style>\n",
              "<table border=\"1\" class=\"dataframe\">\n",
              "  <thead>\n",
              "    <tr style=\"text-align: right;\">\n",
              "      <th></th>\n",
              "      <th>uBastidor</th>\n",
              "      <th>Ulti_visita</th>\n",
              "    </tr>\n",
              "  </thead>\n",
              "  <tbody>\n",
              "    <tr>\n",
              "      <th>0</th>\n",
              "      <td>WAUZZZ4L97D07664</td>\n",
              "      <td>2020-10-09</td>\n",
              "    </tr>\n",
              "    <tr>\n",
              "      <th>1</th>\n",
              "      <td>WAUZZZ8E55A50910</td>\n",
              "      <td>2017-12-20</td>\n",
              "    </tr>\n",
              "    <tr>\n",
              "      <th>2</th>\n",
              "      <td>WAUZZZ8P07A02124</td>\n",
              "      <td>2021-09-06</td>\n",
              "    </tr>\n",
              "    <tr>\n",
              "      <th>3</th>\n",
              "      <td>WAUZZZ8P1CA04845</td>\n",
              "      <td>2016-04-15</td>\n",
              "    </tr>\n",
              "    <tr>\n",
              "      <th>4</th>\n",
              "      <td>WAUZZZ8T4EA06800</td>\n",
              "      <td>2020-03-16</td>\n",
              "    </tr>\n",
              "  </tbody>\n",
              "</table>\n",
              "</div>\n",
              "      <button class=\"colab-df-convert\" onclick=\"convertToInteractive('df-b7f684b3-be32-4f60-b529-7c5e3534602b')\"\n",
              "              title=\"Convert this dataframe to an interactive table.\"\n",
              "              style=\"display:none;\">\n",
              "        \n",
              "  <svg xmlns=\"http://www.w3.org/2000/svg\" height=\"24px\"viewBox=\"0 0 24 24\"\n",
              "       width=\"24px\">\n",
              "    <path d=\"M0 0h24v24H0V0z\" fill=\"none\"/>\n",
              "    <path d=\"M18.56 5.44l.94 2.06.94-2.06 2.06-.94-2.06-.94-.94-2.06-.94 2.06-2.06.94zm-11 1L8.5 8.5l.94-2.06 2.06-.94-2.06-.94L8.5 2.5l-.94 2.06-2.06.94zm10 10l.94 2.06.94-2.06 2.06-.94-2.06-.94-.94-2.06-.94 2.06-2.06.94z\"/><path d=\"M17.41 7.96l-1.37-1.37c-.4-.4-.92-.59-1.43-.59-.52 0-1.04.2-1.43.59L10.3 9.45l-7.72 7.72c-.78.78-.78 2.05 0 2.83L4 21.41c.39.39.9.59 1.41.59.51 0 1.02-.2 1.41-.59l7.78-7.78 2.81-2.81c.8-.78.8-2.07 0-2.86zM5.41 20L4 18.59l7.72-7.72 1.47 1.35L5.41 20z\"/>\n",
              "  </svg>\n",
              "      </button>\n",
              "      \n",
              "  <style>\n",
              "    .colab-df-container {\n",
              "      display:flex;\n",
              "      flex-wrap:wrap;\n",
              "      gap: 12px;\n",
              "    }\n",
              "\n",
              "    .colab-df-convert {\n",
              "      background-color: #E8F0FE;\n",
              "      border: none;\n",
              "      border-radius: 50%;\n",
              "      cursor: pointer;\n",
              "      display: none;\n",
              "      fill: #1967D2;\n",
              "      height: 32px;\n",
              "      padding: 0 0 0 0;\n",
              "      width: 32px;\n",
              "    }\n",
              "\n",
              "    .colab-df-convert:hover {\n",
              "      background-color: #E2EBFA;\n",
              "      box-shadow: 0px 1px 2px rgba(60, 64, 67, 0.3), 0px 1px 3px 1px rgba(60, 64, 67, 0.15);\n",
              "      fill: #174EA6;\n",
              "    }\n",
              "\n",
              "    [theme=dark] .colab-df-convert {\n",
              "      background-color: #3B4455;\n",
              "      fill: #D2E3FC;\n",
              "    }\n",
              "\n",
              "    [theme=dark] .colab-df-convert:hover {\n",
              "      background-color: #434B5C;\n",
              "      box-shadow: 0px 1px 3px 1px rgba(0, 0, 0, 0.15);\n",
              "      filter: drop-shadow(0px 1px 2px rgba(0, 0, 0, 0.3));\n",
              "      fill: #FFFFFF;\n",
              "    }\n",
              "  </style>\n",
              "\n",
              "      <script>\n",
              "        const buttonEl =\n",
              "          document.querySelector('#df-b7f684b3-be32-4f60-b529-7c5e3534602b button.colab-df-convert');\n",
              "        buttonEl.style.display =\n",
              "          google.colab.kernel.accessAllowed ? 'block' : 'none';\n",
              "\n",
              "        async function convertToInteractive(key) {\n",
              "          const element = document.querySelector('#df-b7f684b3-be32-4f60-b529-7c5e3534602b');\n",
              "          const dataTable =\n",
              "            await google.colab.kernel.invokeFunction('convertToInteractive',\n",
              "                                                     [key], {});\n",
              "          if (!dataTable) return;\n",
              "\n",
              "          const docLinkHtml = 'Like what you see? Visit the ' +\n",
              "            '<a target=\"_blank\" href=https://colab.research.google.com/notebooks/data_table.ipynb>data table notebook</a>'\n",
              "            + ' to learn more about interactive tables.';\n",
              "          element.innerHTML = '';\n",
              "          dataTable['output_type'] = 'display_data';\n",
              "          await google.colab.output.renderOutput(dataTable, element);\n",
              "          const docLink = document.createElement('div');\n",
              "          docLink.innerHTML = docLinkHtml;\n",
              "          element.appendChild(docLink);\n",
              "        }\n",
              "      </script>\n",
              "    </div>\n",
              "  </div>\n",
              "  "
            ]
          },
          "metadata": {},
          "execution_count": 29
        }
      ]
    },
    {
      "cell_type": "code",
      "source": [
        "num_duplicados = ultima_visita[\"uBastidor\"].duplicated().sum() # con esto sabemos cuantos duplicados hay en la columna.\n",
        "num_duplicados"
      ],
      "metadata": {
        "id": "NWh_SEt6QG7e",
        "outputId": "7f00c055-eca6-4e33-8ffd-6368e4a7a3dd",
        "colab": {
          "base_uri": "https://localhost:8080/"
        }
      },
      "execution_count": null,
      "outputs": [
        {
          "output_type": "execute_result",
          "data": {
            "text/plain": [
              "0"
            ]
          },
          "metadata": {},
          "execution_count": 32
        }
      ]
    },
    {
      "cell_type": "code",
      "source": [
        "ultima_visita.info()"
      ],
      "metadata": {
        "colab": {
          "base_uri": "https://localhost:8080/"
        },
        "id": "jloaPZ2ouGS-",
        "outputId": "314067c3-37f9-4bc8-8509-8d1039c6a8f2"
      },
      "execution_count": null,
      "outputs": [
        {
          "output_type": "stream",
          "name": "stdout",
          "text": [
            "<class 'pandas.core.frame.DataFrame'>\n",
            "RangeIndex: 51759 entries, 0 to 51758\n",
            "Data columns (total 2 columns):\n",
            " #   Column       Non-Null Count  Dtype         \n",
            "---  ------       --------------  -----         \n",
            " 0   uBastidor    51759 non-null  object        \n",
            " 1   Ulti_visita  51759 non-null  datetime64[ns]\n",
            "dtypes: datetime64[ns](1), object(1)\n",
            "memory usage: 808.9+ KB\n"
          ]
        }
      ]
    },
    {
      "cell_type": "code",
      "source": [
        "df_carroceria_marketing = pd.concat([visitas, ultima_visita], axis=1)\n",
        "df_carroceria_marketing.drop([ \"uBastidor\"], axis=1, inplace=True)\n",
        "df_carroceria_marketing.head()"
      ],
      "metadata": {
        "colab": {
          "base_uri": "https://localhost:8080/",
          "height": 206
        },
        "id": "Tc_vfvTctgw7",
        "outputId": "ce37119a-9697-48e2-8342-fb498251eb56"
      },
      "execution_count": null,
      "outputs": [
        {
          "output_type": "execute_result",
          "data": {
            "text/plain": [
              "           vBastidor  visitas Ulti_visita\n",
              "0   WAUZZZ4L97D07664        5  2020-10-09\n",
              "1   WAUZZZ8E55A50910        1  2017-12-20\n",
              "2   WAUZZZ8P07A02124        2  2021-09-06\n",
              "3   WAUZZZ8P1CA04845        1  2016-04-15\n",
              "4   WAUZZZ8T4EA06800        6  2020-03-16"
            ],
            "text/html": [
              "\n",
              "  <div id=\"df-e18baab1-dcf1-4ef3-b349-c6ec7a44ac58\">\n",
              "    <div class=\"colab-df-container\">\n",
              "      <div>\n",
              "<style scoped>\n",
              "    .dataframe tbody tr th:only-of-type {\n",
              "        vertical-align: middle;\n",
              "    }\n",
              "\n",
              "    .dataframe tbody tr th {\n",
              "        vertical-align: top;\n",
              "    }\n",
              "\n",
              "    .dataframe thead th {\n",
              "        text-align: right;\n",
              "    }\n",
              "</style>\n",
              "<table border=\"1\" class=\"dataframe\">\n",
              "  <thead>\n",
              "    <tr style=\"text-align: right;\">\n",
              "      <th></th>\n",
              "      <th>vBastidor</th>\n",
              "      <th>visitas</th>\n",
              "      <th>Ulti_visita</th>\n",
              "    </tr>\n",
              "  </thead>\n",
              "  <tbody>\n",
              "    <tr>\n",
              "      <th>0</th>\n",
              "      <td>WAUZZZ4L97D07664</td>\n",
              "      <td>5</td>\n",
              "      <td>2020-10-09</td>\n",
              "    </tr>\n",
              "    <tr>\n",
              "      <th>1</th>\n",
              "      <td>WAUZZZ8E55A50910</td>\n",
              "      <td>1</td>\n",
              "      <td>2017-12-20</td>\n",
              "    </tr>\n",
              "    <tr>\n",
              "      <th>2</th>\n",
              "      <td>WAUZZZ8P07A02124</td>\n",
              "      <td>2</td>\n",
              "      <td>2021-09-06</td>\n",
              "    </tr>\n",
              "    <tr>\n",
              "      <th>3</th>\n",
              "      <td>WAUZZZ8P1CA04845</td>\n",
              "      <td>1</td>\n",
              "      <td>2016-04-15</td>\n",
              "    </tr>\n",
              "    <tr>\n",
              "      <th>4</th>\n",
              "      <td>WAUZZZ8T4EA06800</td>\n",
              "      <td>6</td>\n",
              "      <td>2020-03-16</td>\n",
              "    </tr>\n",
              "  </tbody>\n",
              "</table>\n",
              "</div>\n",
              "      <button class=\"colab-df-convert\" onclick=\"convertToInteractive('df-e18baab1-dcf1-4ef3-b349-c6ec7a44ac58')\"\n",
              "              title=\"Convert this dataframe to an interactive table.\"\n",
              "              style=\"display:none;\">\n",
              "        \n",
              "  <svg xmlns=\"http://www.w3.org/2000/svg\" height=\"24px\"viewBox=\"0 0 24 24\"\n",
              "       width=\"24px\">\n",
              "    <path d=\"M0 0h24v24H0V0z\" fill=\"none\"/>\n",
              "    <path d=\"M18.56 5.44l.94 2.06.94-2.06 2.06-.94-2.06-.94-.94-2.06-.94 2.06-2.06.94zm-11 1L8.5 8.5l.94-2.06 2.06-.94-2.06-.94L8.5 2.5l-.94 2.06-2.06.94zm10 10l.94 2.06.94-2.06 2.06-.94-2.06-.94-.94-2.06-.94 2.06-2.06.94z\"/><path d=\"M17.41 7.96l-1.37-1.37c-.4-.4-.92-.59-1.43-.59-.52 0-1.04.2-1.43.59L10.3 9.45l-7.72 7.72c-.78.78-.78 2.05 0 2.83L4 21.41c.39.39.9.59 1.41.59.51 0 1.02-.2 1.41-.59l7.78-7.78 2.81-2.81c.8-.78.8-2.07 0-2.86zM5.41 20L4 18.59l7.72-7.72 1.47 1.35L5.41 20z\"/>\n",
              "  </svg>\n",
              "      </button>\n",
              "      \n",
              "  <style>\n",
              "    .colab-df-container {\n",
              "      display:flex;\n",
              "      flex-wrap:wrap;\n",
              "      gap: 12px;\n",
              "    }\n",
              "\n",
              "    .colab-df-convert {\n",
              "      background-color: #E8F0FE;\n",
              "      border: none;\n",
              "      border-radius: 50%;\n",
              "      cursor: pointer;\n",
              "      display: none;\n",
              "      fill: #1967D2;\n",
              "      height: 32px;\n",
              "      padding: 0 0 0 0;\n",
              "      width: 32px;\n",
              "    }\n",
              "\n",
              "    .colab-df-convert:hover {\n",
              "      background-color: #E2EBFA;\n",
              "      box-shadow: 0px 1px 2px rgba(60, 64, 67, 0.3), 0px 1px 3px 1px rgba(60, 64, 67, 0.15);\n",
              "      fill: #174EA6;\n",
              "    }\n",
              "\n",
              "    [theme=dark] .colab-df-convert {\n",
              "      background-color: #3B4455;\n",
              "      fill: #D2E3FC;\n",
              "    }\n",
              "\n",
              "    [theme=dark] .colab-df-convert:hover {\n",
              "      background-color: #434B5C;\n",
              "      box-shadow: 0px 1px 3px 1px rgba(0, 0, 0, 0.15);\n",
              "      filter: drop-shadow(0px 1px 2px rgba(0, 0, 0, 0.3));\n",
              "      fill: #FFFFFF;\n",
              "    }\n",
              "  </style>\n",
              "\n",
              "      <script>\n",
              "        const buttonEl =\n",
              "          document.querySelector('#df-e18baab1-dcf1-4ef3-b349-c6ec7a44ac58 button.colab-df-convert');\n",
              "        buttonEl.style.display =\n",
              "          google.colab.kernel.accessAllowed ? 'block' : 'none';\n",
              "\n",
              "        async function convertToInteractive(key) {\n",
              "          const element = document.querySelector('#df-e18baab1-dcf1-4ef3-b349-c6ec7a44ac58');\n",
              "          const dataTable =\n",
              "            await google.colab.kernel.invokeFunction('convertToInteractive',\n",
              "                                                     [key], {});\n",
              "          if (!dataTable) return;\n",
              "\n",
              "          const docLinkHtml = 'Like what you see? Visit the ' +\n",
              "            '<a target=\"_blank\" href=https://colab.research.google.com/notebooks/data_table.ipynb>data table notebook</a>'\n",
              "            + ' to learn more about interactive tables.';\n",
              "          element.innerHTML = '';\n",
              "          dataTable['output_type'] = 'display_data';\n",
              "          await google.colab.output.renderOutput(dataTable, element);\n",
              "          const docLink = document.createElement('div');\n",
              "          docLink.innerHTML = docLinkHtml;\n",
              "          element.appendChild(docLink);\n",
              "        }\n",
              "      </script>\n",
              "    </div>\n",
              "  </div>\n",
              "  "
            ]
          },
          "metadata": {},
          "execution_count": 35
        }
      ]
    },
    {
      "cell_type": "code",
      "source": [
        "num_duplicados = df_carroceria_marketing[\"vBastidor\"].duplicated().sum() # con esto sabemos cuantos duplicados hay en la columna.\n",
        "num_duplicados"
      ],
      "metadata": {
        "id": "WOBaTV1hRNO6",
        "outputId": "1b86c162-e383-4bf7-90ab-00ad8244f055",
        "colab": {
          "base_uri": "https://localhost:8080/"
        }
      },
      "execution_count": null,
      "outputs": [
        {
          "output_type": "execute_result",
          "data": {
            "text/plain": [
              "0"
            ]
          },
          "metadata": {},
          "execution_count": 36
        }
      ]
    },
    {
      "cell_type": "code",
      "source": [
        "df_carroceria_marketing.to_excel(\"/content/drive/MyDrive/Colab Notebooks/Carroceria_unicos.xlsx\", index=False)"
      ],
      "metadata": {
        "id": "B50A4Yc7uhW8"
      },
      "execution_count": null,
      "outputs": []
    },
    {
      "cell_type": "code",
      "source": [],
      "metadata": {
        "id": "nO5BhP36vUyV"
      },
      "execution_count": null,
      "outputs": []
    }
  ]
}