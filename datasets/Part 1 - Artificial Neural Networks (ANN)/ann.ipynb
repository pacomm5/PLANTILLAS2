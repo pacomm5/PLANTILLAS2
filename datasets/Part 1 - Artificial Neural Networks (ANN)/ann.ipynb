{
  "nbformat": 4,
  "nbformat_minor": 0,
  "metadata": {
    "colab": {
      "name": "ann.ipynb",
      "provenance": [],
      "collapsed_sections": [],
      "include_colab_link": true
    },
    "kernelspec": {
      "display_name": "Python 3",
      "language": "python",
      "name": "python3"
    },
    "language_info": {
      "codemirror_mode": {
        "name": "ipython",
        "version": 3
      },
      "file_extension": ".py",
      "mimetype": "text/x-python",
      "name": "python",
      "nbconvert_exporter": "python",
      "pygments_lexer": "ipython3",
      "version": "3.8.3"
    },
    "accelerator": "GPU"
  },
  "cells": [
    {
      "cell_type": "markdown",
      "metadata": {
        "id": "view-in-github",
        "colab_type": "text"
      },
      "source": [
        "<a href=\"https://colab.research.google.com/github/pacomm5/PLANTILLAS2/blob/main/datasets/Part%201%20-%20Artificial%20Neural%20Networks%20(ANN)/ann.ipynb\" target=\"_parent\"><img src=\"https://colab.research.google.com/assets/colab-badge.svg\" alt=\"Open In Colab\"/></a>"
      ]
    },
    {
      "cell_type": "markdown",
      "metadata": {
        "id": "KdUFcDsdzRyw"
      },
      "source": [
        "# Clonamos el repositorio para obtener los dataSet"
      ]
    },
    {
      "cell_type": "code",
      "metadata": {
        "id": "mHReFf3_y9ms",
        "colab": {
          "base_uri": "https://localhost:8080/",
          "height": 153
        },
        "outputId": "16e47efa-2691-4fcc-992e-e0577a7d0098"
      },
      "source": [
        "#!git clone https://github.com/joanby/deeplearning-az.git"
      ],
      "execution_count": null,
      "outputs": [
        {
          "output_type": "stream",
          "text": [
            "Cloning into 'deeplearning-az'...\n",
            "remote: Enumerating objects: 71, done.\u001b[K\n",
            "remote: Counting objects: 100% (71/71), done.\u001b[K\n",
            "remote: Compressing objects: 100% (51/51), done.\u001b[K\n",
            "remote: Total 10167 (delta 35), reused 44 (delta 20), pack-reused 10096\u001b[K\n",
            "Receiving objects: 100% (10167/10167), 236.96 MiB | 24.11 MiB/s, done.\n",
            "Resolving deltas: 100% (60/60), done.\n",
            "Checking out files: 100% (10110/10110), done.\n"
          ],
          "name": "stdout"
        }
      ]
    },
    {
      "cell_type": "code",
      "source": [
        "!git clone https://github.com/pacomm5/deeplearning-az\n",
        "# esto nos abrirá provisionalmente una carpeta con todos los datos en temporal de google colab, en este caso la carpeta deeplearning-az"
      ],
      "metadata": {
        "id": "4vBAfGCy0mf7",
        "outputId": "875ad2ed-5a82-4f48-ded2-a6affb84165b",
        "colab": {
          "base_uri": "https://localhost:8080/"
        }
      },
      "execution_count": 1,
      "outputs": [
        {
          "output_type": "stream",
          "name": "stdout",
          "text": [
            "Cloning into 'deeplearning-az'...\n",
            "remote: Enumerating objects: 10196, done.\u001b[K\n",
            "remote: Counting objects: 100% (100/100), done.\u001b[K\n",
            "remote: Compressing objects: 100% (60/60), done.\u001b[K\n",
            "remote: Total 10196 (delta 52), reused 78 (delta 40), pack-reused 10096\u001b[K\n",
            "Receiving objects: 100% (10196/10196), 281.16 MiB | 24.86 MiB/s, done.\n",
            "Resolving deltas: 100% (77/77), done.\n",
            "Checking out files: 100% (10119/10119), done.\n"
          ]
        }
      ]
    },
    {
      "cell_type": "markdown",
      "metadata": {
        "id": "vNKZXgtKzU2x"
      },
      "source": [
        "# Damos acceso a nuestro Drive"
      ]
    },
    {
      "cell_type": "code",
      "metadata": {
        "id": "5gu7KWnzzUQ0",
        "colab": {
          "base_uri": "https://localhost:8080/"
        },
        "outputId": "2992cdd9-363e-4652-f1b9-4892bd650f4a"
      },
      "source": [
        "from google.colab import drive\n",
        "drive.mount('/content/drive')"
      ],
      "execution_count": 2,
      "outputs": [
        {
          "output_type": "stream",
          "name": "stdout",
          "text": [
            "Mounted at /content/drive\n"
          ]
        }
      ]
    },
    {
      "cell_type": "markdown",
      "metadata": {
        "id": "1gUxIkHWzfHV"
      },
      "source": [
        "# Test it"
      ]
    },
    {
      "cell_type": "code",
      "metadata": {
        "id": "mIQt3jBMzYRE",
        "outputId": "427261b8-cc8d-4b08-e266-96f297d9d5aa",
        "colab": {
          "base_uri": "https://localhost:8080/"
        }
      },
      "source": [
        "!ls '/content/drive/My Drive' "
      ],
      "execution_count": null,
      "outputs": [
        {
          "output_type": "stream",
          "name": "stdout",
          "text": [
            "'2019_097 Audi Service News - Campaña Modelo de predicción de abandono.msg'\n",
            "'31 de agosto.xlsx'\n",
            "'Acuerdos_Preformance meeting_Junio17- Jarmauto_v1.pdf'\n",
            " C3942BF2-8A67-4F4F-B37D-7656F1E356DD.doc\n",
            "'Chalet Loranca.doc'\n",
            " characters-simpsons.csv\n",
            "'Colab Notebooks'\n",
            "'Copia de Clasificacion-1.ipynb'\n",
            "'Copia de Clasificación-2.ipynb'\n",
            "'Copia de Clustering.ipynb'\n",
            "'Copia de EDA-Feature_Selection.ipynb'\n",
            "'Copia de Feature_Engineering.ipynb'\n",
            "'Copia de Regression.ipynb'\n",
            "'Copia de requirements.txt'\n",
            "'Copy of 1. Les verbes en -ER-Rosa (1).pdf'\n",
            "'Copy of 1. Les verbes en -ER-Rosa.pdf'\n",
            " curriculum.doc\n",
            " curriculum.doc.gdoc\n",
            "'Escaneado 21 ago 2016 3.21.pdf'\n",
            " HS3ABA.ZIP\n",
            " HS4EF4.ZIP\n",
            "'HS4EF4.ZIP (Unzipped Files)'\n",
            " HS6.ZIP\n",
            " HS7859.ZIP\n",
            "'HS7859.ZIP (Unzipped Files)'\n",
            " HSA151.ZIP\n",
            " HSA9B3.ZIP\n",
            " HSD86A.ZIP\n",
            "'HSD86A.ZIP (Unzipped Files)'\n",
            " Inversión.gsheet\n",
            " jarmauto\n",
            " JARMAUTO2\n",
            " Justificante.pdf\n",
            " kaggle\n",
            " libros\n",
            "'parque jarmauto (1).docx.gdoc'\n",
            "'parque jarmauto.docx'\n",
            "'parque jarmauto.docx.gdoc'\n",
            "'Performance meeting17_Comun_v8_SV.PDF'\n",
            " prueba\n",
            " Report.gdoc\n",
            " ScannerPro\n",
            " TFM_clientes6_2.ipynb\n",
            " Transferencia_en_euros_desde_la_cuenta_ES38_2038_2936_2830_0103_8184.pdf\n",
            "'UNIVERSIDAD PYTHON'\n",
            "'Untitled Presentation.gslides'\n",
            " Vocabulario.gsheet\n",
            " y_pred_BATS_ejecutado.csv\n",
            " y_pred_TBATS_ejecutado.csv\n"
          ]
        }
      ]
    },
    {
      "cell_type": "markdown",
      "metadata": {
        "id": "mHsK36uN0XB-"
      },
      "source": [
        "# Google colab tools"
      ]
    },
    {
      "cell_type": "code",
      "metadata": {
        "id": "kTzwfUPWzrm4"
      },
      "source": [
        "from google.colab import files # Para manejar los archivos y, por ejemplo, exportar a su navegador\n",
        "import glob # Para manejar los archivos y, por ejemplo, exportar a su navegador\n",
        "from google.colab import drive # Montar tu Google drive"
      ],
      "execution_count": 3,
      "outputs": []
    },
    {
      "cell_type": "markdown",
      "metadata": {
        "id": "uab9OAbV8hYN"
      },
      "source": [
        "# Instalar dependendias"
      ]
    },
    {
      "cell_type": "code",
      "metadata": {
        "id": "qukjDgj98kE4",
        "colab": {
          "base_uri": "https://localhost:8080/"
        },
        "outputId": "941dacb4-9fdb-410d-fab4-84f07f62e1bd"
      },
      "source": [
        "!pip install sklearn"
      ],
      "execution_count": 4,
      "outputs": [
        {
          "output_type": "stream",
          "name": "stdout",
          "text": [
            "Looking in indexes: https://pypi.org/simple, https://us-python.pkg.dev/colab-wheels/public/simple/\n",
            "Collecting sklearn\n",
            "  Downloading sklearn-0.0.tar.gz (1.1 kB)\n",
            "Requirement already satisfied: scikit-learn in /usr/local/lib/python3.7/dist-packages (from sklearn) (1.0.2)\n",
            "Requirement already satisfied: numpy>=1.14.6 in /usr/local/lib/python3.7/dist-packages (from scikit-learn->sklearn) (1.21.6)\n",
            "Requirement already satisfied: scipy>=1.1.0 in /usr/local/lib/python3.7/dist-packages (from scikit-learn->sklearn) (1.7.3)\n",
            "Requirement already satisfied: joblib>=0.11 in /usr/local/lib/python3.7/dist-packages (from scikit-learn->sklearn) (1.1.0)\n",
            "Requirement already satisfied: threadpoolctl>=2.0.0 in /usr/local/lib/python3.7/dist-packages (from scikit-learn->sklearn) (3.1.0)\n",
            "Building wheels for collected packages: sklearn\n",
            "  Building wheel for sklearn (setup.py) ... \u001b[?25l\u001b[?25hdone\n",
            "  Created wheel for sklearn: filename=sklearn-0.0-py2.py3-none-any.whl size=1310 sha256=7023dd29729bc0dbc5e66de6542a0aba8eb9fd60134442d2a26b0a1bca8bf3b7\n",
            "  Stored in directory: /root/.cache/pip/wheels/46/ef/c3/157e41f5ee1372d1be90b09f74f82b10e391eaacca8f22d33e\n",
            "Successfully built sklearn\n",
            "Installing collected packages: sklearn\n",
            "Successfully installed sklearn-0.0\n"
          ]
        }
      ]
    },
    {
      "cell_type": "markdown",
      "metadata": {
        "id": "4_lCXxqObOEc"
      },
      "source": [
        "# Instalar Theano"
      ]
    },
    {
      "cell_type": "code",
      "metadata": {
        "id": "ZuKBi9yzbOEd",
        "colab": {
          "base_uri": "https://localhost:8080/"
        },
        "outputId": "83e67496-0ec9-4bca-eac2-7dc52a0c32ac"
      },
      "source": [
        "!pip install --upgrade --no-deps git+git://github.com/Theano/Theano.git"
      ],
      "execution_count": null,
      "outputs": [
        {
          "output_type": "stream",
          "name": "stdout",
          "text": [
            "Looking in indexes: https://pypi.org/simple, https://us-python.pkg.dev/colab-wheels/public/simple/\n",
            "Collecting git+git://github.com/Theano/Theano.git\n",
            "  Cloning git://github.com/Theano/Theano.git to /tmp/pip-req-build-cctpydfn\n",
            "  Running command git clone -q git://github.com/Theano/Theano.git /tmp/pip-req-build-cctpydfn\n",
            "  fatal: unable to connect to github.com:\n",
            "  github.com[0: 140.82.112.4]: errno=Connection timed out\n",
            "\n",
            "\u001b[33mWARNING: Discarding git+git://github.com/Theano/Theano.git. Command errored out with exit status 128: git clone -q git://github.com/Theano/Theano.git /tmp/pip-req-build-cctpydfn Check the logs for full command output.\u001b[0m\n",
            "\u001b[31mERROR: Command errored out with exit status 128: git clone -q git://github.com/Theano/Theano.git /tmp/pip-req-build-cctpydfn Check the logs for full command output.\u001b[0m\n"
          ]
        }
      ]
    },
    {
      "cell_type": "markdown",
      "metadata": {
        "id": "JQVWgYPgbOEg"
      },
      "source": [
        "# Instalar Tensorflow y Keras\n"
      ]
    },
    {
      "cell_type": "code",
      "metadata": {
        "id": "lQlELtH5bOEg",
        "colab": {
          "base_uri": "https://localhost:8080/"
        },
        "outputId": "7e526195-1057-4ac7-d2bd-a6254f55ff4a"
      },
      "source": [
        "!pip install keras\n",
        "!pip install tensorflow"
      ],
      "execution_count": 5,
      "outputs": [
        {
          "output_type": "stream",
          "name": "stdout",
          "text": [
            "Looking in indexes: https://pypi.org/simple, https://us-python.pkg.dev/colab-wheels/public/simple/\n",
            "Requirement already satisfied: keras in /usr/local/lib/python3.7/dist-packages (2.8.0)\n",
            "Looking in indexes: https://pypi.org/simple, https://us-python.pkg.dev/colab-wheels/public/simple/\n",
            "Requirement already satisfied: tensorflow in /usr/local/lib/python3.7/dist-packages (2.8.2+zzzcolab20220719082949)\n",
            "Requirement already satisfied: opt-einsum>=2.3.2 in /usr/local/lib/python3.7/dist-packages (from tensorflow) (3.3.0)\n",
            "Requirement already satisfied: google-pasta>=0.1.1 in /usr/local/lib/python3.7/dist-packages (from tensorflow) (0.2.0)\n",
            "Requirement already satisfied: libclang>=9.0.1 in /usr/local/lib/python3.7/dist-packages (from tensorflow) (14.0.6)\n",
            "Requirement already satisfied: h5py>=2.9.0 in /usr/local/lib/python3.7/dist-packages (from tensorflow) (3.1.0)\n",
            "Requirement already satisfied: tensorflow-io-gcs-filesystem>=0.23.1 in /usr/local/lib/python3.7/dist-packages (from tensorflow) (0.26.0)\n",
            "Requirement already satisfied: grpcio<2.0,>=1.24.3 in /usr/local/lib/python3.7/dist-packages (from tensorflow) (1.47.0)\n",
            "Requirement already satisfied: flatbuffers>=1.12 in /usr/local/lib/python3.7/dist-packages (from tensorflow) (2.0)\n",
            "Requirement already satisfied: keras<2.9,>=2.8.0rc0 in /usr/local/lib/python3.7/dist-packages (from tensorflow) (2.8.0)\n",
            "Requirement already satisfied: tensorboard<2.9,>=2.8 in /usr/local/lib/python3.7/dist-packages (from tensorflow) (2.8.0)\n",
            "Requirement already satisfied: tensorflow-estimator<2.9,>=2.8 in /usr/local/lib/python3.7/dist-packages (from tensorflow) (2.8.0)\n",
            "Requirement already satisfied: termcolor>=1.1.0 in /usr/local/lib/python3.7/dist-packages (from tensorflow) (1.1.0)\n",
            "Requirement already satisfied: keras-preprocessing>=1.1.1 in /usr/local/lib/python3.7/dist-packages (from tensorflow) (1.1.2)\n",
            "Requirement already satisfied: setuptools in /usr/local/lib/python3.7/dist-packages (from tensorflow) (57.4.0)\n",
            "Requirement already satisfied: gast>=0.2.1 in /usr/local/lib/python3.7/dist-packages (from tensorflow) (0.5.3)\n",
            "Requirement already satisfied: absl-py>=0.4.0 in /usr/local/lib/python3.7/dist-packages (from tensorflow) (1.2.0)\n",
            "Requirement already satisfied: astunparse>=1.6.0 in /usr/local/lib/python3.7/dist-packages (from tensorflow) (1.6.3)\n",
            "Requirement already satisfied: numpy>=1.20 in /usr/local/lib/python3.7/dist-packages (from tensorflow) (1.21.6)\n",
            "Requirement already satisfied: six>=1.12.0 in /usr/local/lib/python3.7/dist-packages (from tensorflow) (1.15.0)\n",
            "Requirement already satisfied: typing-extensions>=3.6.6 in /usr/local/lib/python3.7/dist-packages (from tensorflow) (4.1.1)\n",
            "Requirement already satisfied: wrapt>=1.11.0 in /usr/local/lib/python3.7/dist-packages (from tensorflow) (1.14.1)\n",
            "Requirement already satisfied: protobuf<3.20,>=3.9.2 in /usr/local/lib/python3.7/dist-packages (from tensorflow) (3.17.3)\n",
            "Requirement already satisfied: wheel<1.0,>=0.23.0 in /usr/local/lib/python3.7/dist-packages (from astunparse>=1.6.0->tensorflow) (0.37.1)\n",
            "Requirement already satisfied: cached-property in /usr/local/lib/python3.7/dist-packages (from h5py>=2.9.0->tensorflow) (1.5.2)\n",
            "Requirement already satisfied: markdown>=2.6.8 in /usr/local/lib/python3.7/dist-packages (from tensorboard<2.9,>=2.8->tensorflow) (3.4.1)\n",
            "Requirement already satisfied: werkzeug>=0.11.15 in /usr/local/lib/python3.7/dist-packages (from tensorboard<2.9,>=2.8->tensorflow) (1.0.1)\n",
            "Requirement already satisfied: tensorboard-plugin-wit>=1.6.0 in /usr/local/lib/python3.7/dist-packages (from tensorboard<2.9,>=2.8->tensorflow) (1.8.1)\n",
            "Requirement already satisfied: tensorboard-data-server<0.7.0,>=0.6.0 in /usr/local/lib/python3.7/dist-packages (from tensorboard<2.9,>=2.8->tensorflow) (0.6.1)\n",
            "Requirement already satisfied: google-auth<3,>=1.6.3 in /usr/local/lib/python3.7/dist-packages (from tensorboard<2.9,>=2.8->tensorflow) (1.35.0)\n",
            "Requirement already satisfied: requests<3,>=2.21.0 in /usr/local/lib/python3.7/dist-packages (from tensorboard<2.9,>=2.8->tensorflow) (2.23.0)\n",
            "Requirement already satisfied: google-auth-oauthlib<0.5,>=0.4.1 in /usr/local/lib/python3.7/dist-packages (from tensorboard<2.9,>=2.8->tensorflow) (0.4.6)\n",
            "Requirement already satisfied: cachetools<5.0,>=2.0.0 in /usr/local/lib/python3.7/dist-packages (from google-auth<3,>=1.6.3->tensorboard<2.9,>=2.8->tensorflow) (4.2.4)\n",
            "Requirement already satisfied: rsa<5,>=3.1.4 in /usr/local/lib/python3.7/dist-packages (from google-auth<3,>=1.6.3->tensorboard<2.9,>=2.8->tensorflow) (4.9)\n",
            "Requirement already satisfied: pyasn1-modules>=0.2.1 in /usr/local/lib/python3.7/dist-packages (from google-auth<3,>=1.6.3->tensorboard<2.9,>=2.8->tensorflow) (0.2.8)\n",
            "Requirement already satisfied: requests-oauthlib>=0.7.0 in /usr/local/lib/python3.7/dist-packages (from google-auth-oauthlib<0.5,>=0.4.1->tensorboard<2.9,>=2.8->tensorflow) (1.3.1)\n",
            "Requirement already satisfied: importlib-metadata>=4.4 in /usr/local/lib/python3.7/dist-packages (from markdown>=2.6.8->tensorboard<2.9,>=2.8->tensorflow) (4.12.0)\n",
            "Requirement already satisfied: zipp>=0.5 in /usr/local/lib/python3.7/dist-packages (from importlib-metadata>=4.4->markdown>=2.6.8->tensorboard<2.9,>=2.8->tensorflow) (3.8.1)\n",
            "Requirement already satisfied: pyasn1<0.5.0,>=0.4.6 in /usr/local/lib/python3.7/dist-packages (from pyasn1-modules>=0.2.1->google-auth<3,>=1.6.3->tensorboard<2.9,>=2.8->tensorflow) (0.4.8)\n",
            "Requirement already satisfied: chardet<4,>=3.0.2 in /usr/local/lib/python3.7/dist-packages (from requests<3,>=2.21.0->tensorboard<2.9,>=2.8->tensorflow) (3.0.4)\n",
            "Requirement already satisfied: certifi>=2017.4.17 in /usr/local/lib/python3.7/dist-packages (from requests<3,>=2.21.0->tensorboard<2.9,>=2.8->tensorflow) (2022.6.15)\n",
            "Requirement already satisfied: idna<3,>=2.5 in /usr/local/lib/python3.7/dist-packages (from requests<3,>=2.21.0->tensorboard<2.9,>=2.8->tensorflow) (2.10)\n",
            "Requirement already satisfied: urllib3!=1.25.0,!=1.25.1,<1.26,>=1.21.1 in /usr/local/lib/python3.7/dist-packages (from requests<3,>=2.21.0->tensorboard<2.9,>=2.8->tensorflow) (1.24.3)\n",
            "Requirement already satisfied: oauthlib>=3.0.0 in /usr/local/lib/python3.7/dist-packages (from requests-oauthlib>=0.7.0->google-auth-oauthlib<0.5,>=0.4.1->tensorboard<2.9,>=2.8->tensorflow) (3.2.0)\n"
          ]
        }
      ]
    },
    {
      "cell_type": "markdown",
      "metadata": {
        "id": "3yFpBwmNz70v"
      },
      "source": [
        "# Redes Neuronales Artificales"
      ]
    },
    {
      "cell_type": "markdown",
      "metadata": {
        "id": "v8OxSXXSz-OP"
      },
      "source": [
        "# Cómo importar las librerías\n"
      ]
    },
    {
      "cell_type": "code",
      "metadata": {
        "id": "edZX51YLzs59"
      },
      "source": [
        "import numpy as np\n",
        "import matplotlib.pyplot as plt\n",
        "import pandas as pd"
      ],
      "execution_count": 6,
      "outputs": []
    },
    {
      "cell_type": "markdown",
      "metadata": {
        "id": "8XfXlqtF0B58"
      },
      "source": [
        "# Importar el data set\n"
      ]
    },
    {
      "cell_type": "code",
      "metadata": {
        "id": "-nnozsHsz_-N"
      },
      "source": [
        "dataset = pd.read_csv('/content/deeplearning-az/datasets/Part 1 - Artificial Neural Networks (ANN)/Churn_Modelling.csv')\n"
      ],
      "execution_count": 7,
      "outputs": []
    },
    {
      "cell_type": "code",
      "source": [
        "dataset"
      ],
      "metadata": {
        "colab": {
          "base_uri": "https://localhost:8080/",
          "height": 424
        },
        "id": "ZZ5TstedX83z",
        "outputId": "f98b5993-8eee-43d3-e7ce-dd2301c4a6cb"
      },
      "execution_count": 8,
      "outputs": [
        {
          "output_type": "execute_result",
          "data": {
            "text/plain": [
              "      RowNumber  CustomerId    Surname  CreditScore Geography  Gender  Age  \\\n",
              "0             1    15634602   Hargrave          619    France  Female   42   \n",
              "1             2    15647311       Hill          608     Spain  Female   41   \n",
              "2             3    15619304       Onio          502    France  Female   42   \n",
              "3             4    15701354       Boni          699    France  Female   39   \n",
              "4             5    15737888   Mitchell          850     Spain  Female   43   \n",
              "...         ...         ...        ...          ...       ...     ...  ...   \n",
              "9995       9996    15606229   Obijiaku          771    France    Male   39   \n",
              "9996       9997    15569892  Johnstone          516    France    Male   35   \n",
              "9997       9998    15584532        Liu          709    France  Female   36   \n",
              "9998       9999    15682355  Sabbatini          772   Germany    Male   42   \n",
              "9999      10000    15628319     Walker          792    France  Female   28   \n",
              "\n",
              "      Tenure    Balance  NumOfProducts  HasCrCard  IsActiveMember  \\\n",
              "0          2       0.00              1          1               1   \n",
              "1          1   83807.86              1          0               1   \n",
              "2          8  159660.80              3          1               0   \n",
              "3          1       0.00              2          0               0   \n",
              "4          2  125510.82              1          1               1   \n",
              "...      ...        ...            ...        ...             ...   \n",
              "9995       5       0.00              2          1               0   \n",
              "9996      10   57369.61              1          1               1   \n",
              "9997       7       0.00              1          0               1   \n",
              "9998       3   75075.31              2          1               0   \n",
              "9999       4  130142.79              1          1               0   \n",
              "\n",
              "      EstimatedSalary  Exited  \n",
              "0           101348.88       1  \n",
              "1           112542.58       0  \n",
              "2           113931.57       1  \n",
              "3            93826.63       0  \n",
              "4            79084.10       0  \n",
              "...               ...     ...  \n",
              "9995         96270.64       0  \n",
              "9996        101699.77       0  \n",
              "9997         42085.58       1  \n",
              "9998         92888.52       1  \n",
              "9999         38190.78       0  \n",
              "\n",
              "[10000 rows x 14 columns]"
            ],
            "text/html": [
              "\n",
              "  <div id=\"df-22392fac-bc3b-4d09-a64b-ef7e3bdbe2ae\">\n",
              "    <div class=\"colab-df-container\">\n",
              "      <div>\n",
              "<style scoped>\n",
              "    .dataframe tbody tr th:only-of-type {\n",
              "        vertical-align: middle;\n",
              "    }\n",
              "\n",
              "    .dataframe tbody tr th {\n",
              "        vertical-align: top;\n",
              "    }\n",
              "\n",
              "    .dataframe thead th {\n",
              "        text-align: right;\n",
              "    }\n",
              "</style>\n",
              "<table border=\"1\" class=\"dataframe\">\n",
              "  <thead>\n",
              "    <tr style=\"text-align: right;\">\n",
              "      <th></th>\n",
              "      <th>RowNumber</th>\n",
              "      <th>CustomerId</th>\n",
              "      <th>Surname</th>\n",
              "      <th>CreditScore</th>\n",
              "      <th>Geography</th>\n",
              "      <th>Gender</th>\n",
              "      <th>Age</th>\n",
              "      <th>Tenure</th>\n",
              "      <th>Balance</th>\n",
              "      <th>NumOfProducts</th>\n",
              "      <th>HasCrCard</th>\n",
              "      <th>IsActiveMember</th>\n",
              "      <th>EstimatedSalary</th>\n",
              "      <th>Exited</th>\n",
              "    </tr>\n",
              "  </thead>\n",
              "  <tbody>\n",
              "    <tr>\n",
              "      <th>0</th>\n",
              "      <td>1</td>\n",
              "      <td>15634602</td>\n",
              "      <td>Hargrave</td>\n",
              "      <td>619</td>\n",
              "      <td>France</td>\n",
              "      <td>Female</td>\n",
              "      <td>42</td>\n",
              "      <td>2</td>\n",
              "      <td>0.00</td>\n",
              "      <td>1</td>\n",
              "      <td>1</td>\n",
              "      <td>1</td>\n",
              "      <td>101348.88</td>\n",
              "      <td>1</td>\n",
              "    </tr>\n",
              "    <tr>\n",
              "      <th>1</th>\n",
              "      <td>2</td>\n",
              "      <td>15647311</td>\n",
              "      <td>Hill</td>\n",
              "      <td>608</td>\n",
              "      <td>Spain</td>\n",
              "      <td>Female</td>\n",
              "      <td>41</td>\n",
              "      <td>1</td>\n",
              "      <td>83807.86</td>\n",
              "      <td>1</td>\n",
              "      <td>0</td>\n",
              "      <td>1</td>\n",
              "      <td>112542.58</td>\n",
              "      <td>0</td>\n",
              "    </tr>\n",
              "    <tr>\n",
              "      <th>2</th>\n",
              "      <td>3</td>\n",
              "      <td>15619304</td>\n",
              "      <td>Onio</td>\n",
              "      <td>502</td>\n",
              "      <td>France</td>\n",
              "      <td>Female</td>\n",
              "      <td>42</td>\n",
              "      <td>8</td>\n",
              "      <td>159660.80</td>\n",
              "      <td>3</td>\n",
              "      <td>1</td>\n",
              "      <td>0</td>\n",
              "      <td>113931.57</td>\n",
              "      <td>1</td>\n",
              "    </tr>\n",
              "    <tr>\n",
              "      <th>3</th>\n",
              "      <td>4</td>\n",
              "      <td>15701354</td>\n",
              "      <td>Boni</td>\n",
              "      <td>699</td>\n",
              "      <td>France</td>\n",
              "      <td>Female</td>\n",
              "      <td>39</td>\n",
              "      <td>1</td>\n",
              "      <td>0.00</td>\n",
              "      <td>2</td>\n",
              "      <td>0</td>\n",
              "      <td>0</td>\n",
              "      <td>93826.63</td>\n",
              "      <td>0</td>\n",
              "    </tr>\n",
              "    <tr>\n",
              "      <th>4</th>\n",
              "      <td>5</td>\n",
              "      <td>15737888</td>\n",
              "      <td>Mitchell</td>\n",
              "      <td>850</td>\n",
              "      <td>Spain</td>\n",
              "      <td>Female</td>\n",
              "      <td>43</td>\n",
              "      <td>2</td>\n",
              "      <td>125510.82</td>\n",
              "      <td>1</td>\n",
              "      <td>1</td>\n",
              "      <td>1</td>\n",
              "      <td>79084.10</td>\n",
              "      <td>0</td>\n",
              "    </tr>\n",
              "    <tr>\n",
              "      <th>...</th>\n",
              "      <td>...</td>\n",
              "      <td>...</td>\n",
              "      <td>...</td>\n",
              "      <td>...</td>\n",
              "      <td>...</td>\n",
              "      <td>...</td>\n",
              "      <td>...</td>\n",
              "      <td>...</td>\n",
              "      <td>...</td>\n",
              "      <td>...</td>\n",
              "      <td>...</td>\n",
              "      <td>...</td>\n",
              "      <td>...</td>\n",
              "      <td>...</td>\n",
              "    </tr>\n",
              "    <tr>\n",
              "      <th>9995</th>\n",
              "      <td>9996</td>\n",
              "      <td>15606229</td>\n",
              "      <td>Obijiaku</td>\n",
              "      <td>771</td>\n",
              "      <td>France</td>\n",
              "      <td>Male</td>\n",
              "      <td>39</td>\n",
              "      <td>5</td>\n",
              "      <td>0.00</td>\n",
              "      <td>2</td>\n",
              "      <td>1</td>\n",
              "      <td>0</td>\n",
              "      <td>96270.64</td>\n",
              "      <td>0</td>\n",
              "    </tr>\n",
              "    <tr>\n",
              "      <th>9996</th>\n",
              "      <td>9997</td>\n",
              "      <td>15569892</td>\n",
              "      <td>Johnstone</td>\n",
              "      <td>516</td>\n",
              "      <td>France</td>\n",
              "      <td>Male</td>\n",
              "      <td>35</td>\n",
              "      <td>10</td>\n",
              "      <td>57369.61</td>\n",
              "      <td>1</td>\n",
              "      <td>1</td>\n",
              "      <td>1</td>\n",
              "      <td>101699.77</td>\n",
              "      <td>0</td>\n",
              "    </tr>\n",
              "    <tr>\n",
              "      <th>9997</th>\n",
              "      <td>9998</td>\n",
              "      <td>15584532</td>\n",
              "      <td>Liu</td>\n",
              "      <td>709</td>\n",
              "      <td>France</td>\n",
              "      <td>Female</td>\n",
              "      <td>36</td>\n",
              "      <td>7</td>\n",
              "      <td>0.00</td>\n",
              "      <td>1</td>\n",
              "      <td>0</td>\n",
              "      <td>1</td>\n",
              "      <td>42085.58</td>\n",
              "      <td>1</td>\n",
              "    </tr>\n",
              "    <tr>\n",
              "      <th>9998</th>\n",
              "      <td>9999</td>\n",
              "      <td>15682355</td>\n",
              "      <td>Sabbatini</td>\n",
              "      <td>772</td>\n",
              "      <td>Germany</td>\n",
              "      <td>Male</td>\n",
              "      <td>42</td>\n",
              "      <td>3</td>\n",
              "      <td>75075.31</td>\n",
              "      <td>2</td>\n",
              "      <td>1</td>\n",
              "      <td>0</td>\n",
              "      <td>92888.52</td>\n",
              "      <td>1</td>\n",
              "    </tr>\n",
              "    <tr>\n",
              "      <th>9999</th>\n",
              "      <td>10000</td>\n",
              "      <td>15628319</td>\n",
              "      <td>Walker</td>\n",
              "      <td>792</td>\n",
              "      <td>France</td>\n",
              "      <td>Female</td>\n",
              "      <td>28</td>\n",
              "      <td>4</td>\n",
              "      <td>130142.79</td>\n",
              "      <td>1</td>\n",
              "      <td>1</td>\n",
              "      <td>0</td>\n",
              "      <td>38190.78</td>\n",
              "      <td>0</td>\n",
              "    </tr>\n",
              "  </tbody>\n",
              "</table>\n",
              "<p>10000 rows × 14 columns</p>\n",
              "</div>\n",
              "      <button class=\"colab-df-convert\" onclick=\"convertToInteractive('df-22392fac-bc3b-4d09-a64b-ef7e3bdbe2ae')\"\n",
              "              title=\"Convert this dataframe to an interactive table.\"\n",
              "              style=\"display:none;\">\n",
              "        \n",
              "  <svg xmlns=\"http://www.w3.org/2000/svg\" height=\"24px\"viewBox=\"0 0 24 24\"\n",
              "       width=\"24px\">\n",
              "    <path d=\"M0 0h24v24H0V0z\" fill=\"none\"/>\n",
              "    <path d=\"M18.56 5.44l.94 2.06.94-2.06 2.06-.94-2.06-.94-.94-2.06-.94 2.06-2.06.94zm-11 1L8.5 8.5l.94-2.06 2.06-.94-2.06-.94L8.5 2.5l-.94 2.06-2.06.94zm10 10l.94 2.06.94-2.06 2.06-.94-2.06-.94-.94-2.06-.94 2.06-2.06.94z\"/><path d=\"M17.41 7.96l-1.37-1.37c-.4-.4-.92-.59-1.43-.59-.52 0-1.04.2-1.43.59L10.3 9.45l-7.72 7.72c-.78.78-.78 2.05 0 2.83L4 21.41c.39.39.9.59 1.41.59.51 0 1.02-.2 1.41-.59l7.78-7.78 2.81-2.81c.8-.78.8-2.07 0-2.86zM5.41 20L4 18.59l7.72-7.72 1.47 1.35L5.41 20z\"/>\n",
              "  </svg>\n",
              "      </button>\n",
              "      \n",
              "  <style>\n",
              "    .colab-df-container {\n",
              "      display:flex;\n",
              "      flex-wrap:wrap;\n",
              "      gap: 12px;\n",
              "    }\n",
              "\n",
              "    .colab-df-convert {\n",
              "      background-color: #E8F0FE;\n",
              "      border: none;\n",
              "      border-radius: 50%;\n",
              "      cursor: pointer;\n",
              "      display: none;\n",
              "      fill: #1967D2;\n",
              "      height: 32px;\n",
              "      padding: 0 0 0 0;\n",
              "      width: 32px;\n",
              "    }\n",
              "\n",
              "    .colab-df-convert:hover {\n",
              "      background-color: #E2EBFA;\n",
              "      box-shadow: 0px 1px 2px rgba(60, 64, 67, 0.3), 0px 1px 3px 1px rgba(60, 64, 67, 0.15);\n",
              "      fill: #174EA6;\n",
              "    }\n",
              "\n",
              "    [theme=dark] .colab-df-convert {\n",
              "      background-color: #3B4455;\n",
              "      fill: #D2E3FC;\n",
              "    }\n",
              "\n",
              "    [theme=dark] .colab-df-convert:hover {\n",
              "      background-color: #434B5C;\n",
              "      box-shadow: 0px 1px 3px 1px rgba(0, 0, 0, 0.15);\n",
              "      filter: drop-shadow(0px 1px 2px rgba(0, 0, 0, 0.3));\n",
              "      fill: #FFFFFF;\n",
              "    }\n",
              "  </style>\n",
              "\n",
              "      <script>\n",
              "        const buttonEl =\n",
              "          document.querySelector('#df-22392fac-bc3b-4d09-a64b-ef7e3bdbe2ae button.colab-df-convert');\n",
              "        buttonEl.style.display =\n",
              "          google.colab.kernel.accessAllowed ? 'block' : 'none';\n",
              "\n",
              "        async function convertToInteractive(key) {\n",
              "          const element = document.querySelector('#df-22392fac-bc3b-4d09-a64b-ef7e3bdbe2ae');\n",
              "          const dataTable =\n",
              "            await google.colab.kernel.invokeFunction('convertToInteractive',\n",
              "                                                     [key], {});\n",
              "          if (!dataTable) return;\n",
              "\n",
              "          const docLinkHtml = 'Like what you see? Visit the ' +\n",
              "            '<a target=\"_blank\" href=https://colab.research.google.com/notebooks/data_table.ipynb>data table notebook</a>'\n",
              "            + ' to learn more about interactive tables.';\n",
              "          element.innerHTML = '';\n",
              "          dataTable['output_type'] = 'display_data';\n",
              "          await google.colab.output.renderOutput(dataTable, element);\n",
              "          const docLink = document.createElement('div');\n",
              "          docLink.innerHTML = docLinkHtml;\n",
              "          element.appendChild(docLink);\n",
              "        }\n",
              "      </script>\n",
              "    </div>\n",
              "  </div>\n",
              "  "
            ]
          },
          "metadata": {},
          "execution_count": 8
        }
      ]
    },
    {
      "cell_type": "code",
      "source": [
        "X = dataset.iloc[:, 3:13].values # incluye desde la tercera a la 13, no inclusive. esta es la matriz de características. \n",
        "y = dataset.iloc[:, 13].values # aqui solo la variable dependiente. "
      ],
      "metadata": {
        "id": "FWxwz9tUX5aD"
      },
      "execution_count": 9,
      "outputs": []
    },
    {
      "cell_type": "code",
      "source": [
        "X"
      ],
      "metadata": {
        "colab": {
          "base_uri": "https://localhost:8080/"
        },
        "id": "HV7_1sODZi8G",
        "outputId": "b9f97590-a156-494b-87fe-2dde7cc9659a"
      },
      "execution_count": 10,
      "outputs": [
        {
          "output_type": "execute_result",
          "data": {
            "text/plain": [
              "array([[619, 'France', 'Female', ..., 1, 1, 101348.88],\n",
              "       [608, 'Spain', 'Female', ..., 0, 1, 112542.58],\n",
              "       [502, 'France', 'Female', ..., 1, 0, 113931.57],\n",
              "       ...,\n",
              "       [709, 'France', 'Female', ..., 0, 1, 42085.58],\n",
              "       [772, 'Germany', 'Male', ..., 1, 0, 92888.52],\n",
              "       [792, 'France', 'Female', ..., 1, 0, 38190.78]], dtype=object)"
            ]
          },
          "metadata": {},
          "execution_count": 10
        }
      ]
    },
    {
      "cell_type": "code",
      "source": [
        "y"
      ],
      "metadata": {
        "colab": {
          "base_uri": "https://localhost:8080/"
        },
        "id": "PMuF7FczZkh8",
        "outputId": "d1a4c440-467c-4a58-f7b8-d3262dbecdb1"
      },
      "execution_count": 11,
      "outputs": [
        {
          "output_type": "execute_result",
          "data": {
            "text/plain": [
              "array([1, 0, 1, ..., 1, 1, 0])"
            ]
          },
          "metadata": {},
          "execution_count": 11
        }
      ]
    },
    {
      "cell_type": "markdown",
      "metadata": {
        "id": "xtzD5VD4bOEn"
      },
      "source": [
        "# Parte 1 - Pre procesado de datos"
      ]
    },
    {
      "cell_type": "markdown",
      "metadata": {
        "id": "SsVEdPzf4XmV"
      },
      "source": [
        "# Codificar datos categóricos"
      ]
    },
    {
      "cell_type": "markdown",
      "source": [
        "tenemos dos variables categoricas"
      ],
      "metadata": {
        "id": "vK9-eo_UaPUz"
      }
    },
    {
      "cell_type": "code",
      "metadata": {
        "id": "v9CtwK834bjy"
      },
      "source": [
        "from sklearn.preprocessing import LabelEncoder, OneHotEncoder\n",
        "from sklearn.compose import ColumnTransformer\n",
        "\n",
        "labelencoder_X_1 = LabelEncoder() # la primera variable categorica le llamamos X_1\n",
        "X[:, 1] = labelencoder_X_1.fit_transform(X[:, 1]) # cogemos la columna 1 y hacemos un fittrasnform\n"
      ],
      "execution_count": 12,
      "outputs": []
    },
    {
      "cell_type": "code",
      "source": [
        "X # aqui ya vemos que no aparece la columna pais, sino que la ha codificado con 0 y 1, y 2"
      ],
      "metadata": {
        "colab": {
          "base_uri": "https://localhost:8080/"
        },
        "id": "PecGP0UpaxQp",
        "outputId": "6f09c9a9-5334-4a15-80fb-adbf26b1d0a5"
      },
      "execution_count": 13,
      "outputs": [
        {
          "output_type": "execute_result",
          "data": {
            "text/plain": [
              "array([[619, 0, 'Female', ..., 1, 1, 101348.88],\n",
              "       [608, 2, 'Female', ..., 0, 1, 112542.58],\n",
              "       [502, 0, 'Female', ..., 1, 0, 113931.57],\n",
              "       ...,\n",
              "       [709, 0, 'Female', ..., 0, 1, 42085.58],\n",
              "       [772, 1, 'Male', ..., 1, 0, 92888.52],\n",
              "       [792, 0, 'Female', ..., 1, 0, 38190.78]], dtype=object)"
            ]
          },
          "metadata": {},
          "execution_count": 13
        }
      ]
    },
    {
      "cell_type": "code",
      "source": [
        "labelencoder_X_2 = LabelEncoder() # aqui lo mismo con la otra. \n",
        "X[:, 2] = labelencoder_X_2.fit_transform(X[:, 2])\n"
      ],
      "metadata": {
        "id": "WlIHX4Q9asQZ"
      },
      "execution_count": 14,
      "outputs": []
    },
    {
      "cell_type": "code",
      "source": [
        "X"
      ],
      "metadata": {
        "colab": {
          "base_uri": "https://localhost:8080/"
        },
        "id": "QXAXsA6ZbcL0",
        "outputId": "6cc5391a-a824-452b-b76a-cf22c698ed2d"
      },
      "execution_count": 15,
      "outputs": [
        {
          "output_type": "execute_result",
          "data": {
            "text/plain": [
              "array([[619, 0, 0, ..., 1, 1, 101348.88],\n",
              "       [608, 2, 0, ..., 0, 1, 112542.58],\n",
              "       [502, 0, 0, ..., 1, 0, 113931.57],\n",
              "       ...,\n",
              "       [709, 0, 0, ..., 0, 1, 42085.58],\n",
              "       [772, 1, 1, ..., 1, 0, 92888.52],\n",
              "       [792, 0, 0, ..., 1, 0, 38190.78]], dtype=object)"
            ]
          },
          "metadata": {},
          "execution_count": 15
        }
      ]
    },
    {
      "cell_type": "code",
      "source": [
        "# ahora lo que nos toca es separar los 0 1 2 y lo que sea. solo lo hacemos con los paises ya que en el genero solo tenemso 0 y 1\n",
        "onehotencoder = ColumnTransformer( # \n",
        "    [('one_hot_encoder', OneHotEncoder(categories='auto'), [1])],   \n",
        "    remainder='passthrough'                        \n",
        ")\n",
        "X = onehotencoder.fit_transform(X)\n",
        "X = X[:, 1:] # con esto evitamos el problema de la multicolinealidad, es decir si tenemos tres paises, no ponemos tres columnas sino dos. \n",
        "# en el genero igual, si tenemos dos quitamos una y nos quedamos con una. "
      ],
      "metadata": {
        "id": "vY4q9yBkbYJ_"
      },
      "execution_count": 16,
      "outputs": []
    },
    {
      "cell_type": "code",
      "source": [
        "X"
      ],
      "metadata": {
        "colab": {
          "base_uri": "https://localhost:8080/"
        },
        "id": "hbQuWmIyb1Dv",
        "outputId": "a0aceec5-d6ed-4841-acd8-974cf3239862"
      },
      "execution_count": null,
      "outputs": [
        {
          "output_type": "execute_result",
          "data": {
            "text/plain": [
              "array([[0.0, 0.0, 619, ..., 1, 1, 101348.88],\n",
              "       [0.0, 1.0, 608, ..., 0, 1, 112542.58],\n",
              "       [0.0, 0.0, 502, ..., 1, 0, 113931.57],\n",
              "       ...,\n",
              "       [0.0, 0.0, 709, ..., 0, 1, 42085.58],\n",
              "       [1.0, 0.0, 772, ..., 1, 0, 92888.52],\n",
              "       [0.0, 0.0, 792, ..., 1, 0, 38190.78]], dtype=object)"
            ]
          },
          "metadata": {},
          "execution_count": 29
        }
      ]
    },
    {
      "cell_type": "markdown",
      "metadata": {
        "id": "5AH_uCEz68rb"
      },
      "source": [
        "# Dividir el data set en conjunto de entrenamiento y conjunto de testing"
      ]
    },
    {
      "cell_type": "code",
      "metadata": {
        "id": "oeuAy8LI69vi"
      },
      "source": [
        "from sklearn.model_selection import train_test_split\n",
        "X_train, X_test, y_train, y_test = train_test_split(X, y, test_size = 0.2, random_state = 0)"
      ],
      "execution_count": 17,
      "outputs": []
    },
    {
      "cell_type": "markdown",
      "metadata": {
        "id": "sfzLXHPwbOEt"
      },
      "source": [
        "# Escalado de variables"
      ]
    },
    {
      "cell_type": "code",
      "metadata": {
        "id": "8m2LCgz8bOEt"
      },
      "source": [
        "from sklearn.preprocessing import StandardScaler\n",
        "sc_X = StandardScaler()\n",
        "X_train = sc_X.fit_transform(X_train)\n",
        "X_test = sc_X.transform(X_test)"
      ],
      "execution_count": 18,
      "outputs": []
    },
    {
      "cell_type": "code",
      "source": [
        "X_train"
      ],
      "metadata": {
        "colab": {
          "base_uri": "https://localhost:8080/"
        },
        "id": "qErcdl73dARL",
        "outputId": "4f55d8fd-f00c-40da-9733-e5a1e7158438"
      },
      "execution_count": 19,
      "outputs": [
        {
          "output_type": "execute_result",
          "data": {
            "text/plain": [
              "array([[-0.5698444 ,  1.74309049,  0.16958176, ...,  0.64259497,\n",
              "        -1.03227043,  1.10643166],\n",
              "       [ 1.75486502, -0.57369368, -2.30455945, ...,  0.64259497,\n",
              "         0.9687384 , -0.74866447],\n",
              "       [-0.5698444 , -0.57369368, -1.19119591, ...,  0.64259497,\n",
              "        -1.03227043,  1.48533467],\n",
              "       ...,\n",
              "       [-0.5698444 , -0.57369368,  0.9015152 , ...,  0.64259497,\n",
              "        -1.03227043,  1.41231994],\n",
              "       [-0.5698444 ,  1.74309049, -0.62420521, ...,  0.64259497,\n",
              "         0.9687384 ,  0.84432121],\n",
              "       [ 1.75486502, -0.57369368, -0.28401079, ...,  0.64259497,\n",
              "        -1.03227043,  0.32472465]])"
            ]
          },
          "metadata": {},
          "execution_count": 19
        }
      ]
    },
    {
      "cell_type": "code",
      "source": [
        "X_test"
      ],
      "metadata": {
        "colab": {
          "base_uri": "https://localhost:8080/"
        },
        "id": "IOAyObvNdCzk",
        "outputId": "67611745-3fd1-491b-99ff-a70bc6521b63"
      },
      "execution_count": 20,
      "outputs": [
        {
          "output_type": "execute_result",
          "data": {
            "text/plain": [
              "array([[ 1.75486502, -0.57369368, -0.55204276, ...,  0.64259497,\n",
              "         0.9687384 ,  1.61085707],\n",
              "       [-0.5698444 , -0.57369368, -1.31490297, ...,  0.64259497,\n",
              "        -1.03227043,  0.49587037],\n",
              "       [-0.5698444 ,  1.74309049,  0.57162971, ...,  0.64259497,\n",
              "         0.9687384 , -0.42478674],\n",
              "       ...,\n",
              "       [-0.5698444 ,  1.74309049, -0.74791227, ...,  0.64259497,\n",
              "        -1.03227043,  0.71888467],\n",
              "       [ 1.75486502, -0.57369368, -0.00566991, ...,  0.64259497,\n",
              "         0.9687384 , -1.54507805],\n",
              "       [ 1.75486502, -0.57369368, -0.79945688, ...,  0.64259497,\n",
              "        -1.03227043,  1.61255917]])"
            ]
          },
          "metadata": {},
          "execution_count": 20
        }
      ]
    },
    {
      "cell_type": "markdown",
      "metadata": {
        "id": "cgweTaJ67BOB"
      },
      "source": [
        "# Parte 2 - Construir la RNA"
      ]
    },
    {
      "cell_type": "markdown",
      "metadata": {
        "id": "tm4Hg995bOEw"
      },
      "source": [
        "# Importar Keras y librerías adicionales\n"
      ]
    },
    {
      "cell_type": "code",
      "metadata": {
        "id": "HLEt5ni_bOEw"
      },
      "source": [
        "\n",
        "import keras\n",
        "from keras.models import Sequential # esta es para inicializar \n",
        "from keras.layers import Dense # esta es para crear las capas intermedias. "
      ],
      "execution_count": 21,
      "outputs": []
    },
    {
      "cell_type": "markdown",
      "metadata": {
        "id": "ezfPlyegbOEy"
      },
      "source": [
        "# Inicializar la RNA"
      ]
    },
    {
      "cell_type": "code",
      "metadata": {
        "id": "zRmQjNVzbOEz"
      },
      "source": [
        "classifier = Sequential() # creamos el modelo, lo inicicializamos. "
      ],
      "execution_count": 22,
      "outputs": []
    },
    {
      "cell_type": "markdown",
      "metadata": {
        "id": "ML7H-iqsbOE1"
      },
      "source": [
        "# Añadir las capas de entrada y primera capa oculta\n"
      ]
    },
    {
      "cell_type": "code",
      "source": [
        "X.shape"
      ],
      "metadata": {
        "colab": {
          "base_uri": "https://localhost:8080/"
        },
        "id": "_em6optnhKNm",
        "outputId": "83bd5c91-c5f0-4459-f8aa-cd83ad81ef97"
      },
      "execution_count": null,
      "outputs": [
        {
          "output_type": "execute_result",
          "data": {
            "text/plain": [
              "(10000, 11)"
            ]
          },
          "metadata": {},
          "execution_count": 30
        }
      ]
    },
    {
      "cell_type": "code",
      "metadata": {
        "id": "amkkZxnebOE1"
      },
      "source": [
        "# empezamos a meter capas, la de entrada y la capa oculta. \n",
        "classifier.add(Dense(units = 6, kernel_initializer = \"uniform\",  \n",
        "                     activation = \"relu\", input_dim = 11))\n",
        "# imput dim son las variables que tenemos. Utilizamos relu (rectificador) para activar \n",
        "# en la capa de salida utilizaremos la sigmoide. esta en los apuntes anteriores lo que es cada una. \n",
        "# unit es el número de nodos de la capa oculta. una regla  o consejo es fijar la media entre los nodos de entrada y salida. como tenemos 11 de entrada y 1 de salida la media ponemos 6\n",
        "# kernel_initializer es como iniciamos esos pesos, uniform serán pequeños y cercanos a 0."
      ],
      "execution_count": 23,
      "outputs": []
    },
    {
      "cell_type": "markdown",
      "metadata": {
        "id": "xKoC5UOwbOE3"
      },
      "source": [
        "# Añadir la segunda capa oculta"
      ]
    },
    {
      "cell_type": "code",
      "metadata": {
        "id": "ZTDhh_JibOE3"
      },
      "source": [
        "classifier.add(Dense(units = 6, kernel_initializer = \"uniform\",  activation = \"relu\"))\n",
        "# no hace falta meter el input dim, porque ya lo conoce la anterior que son 6 nodos. "
      ],
      "execution_count": 24,
      "outputs": []
    },
    {
      "cell_type": "markdown",
      "metadata": {
        "id": "wvUfptEtbOE5"
      },
      "source": [
        "# Añadir la capa de salida"
      ]
    },
    {
      "cell_type": "code",
      "metadata": {
        "id": "6C2x9RUGbOE5"
      },
      "source": [
        "classifier.add(Dense(units = 1, kernel_initializer = \"uniform\",  activation = \"sigmoid\"))\n",
        "# como dijimos arriba para la de salida utilizamos la función de activación sigmoid. \n",
        "# units 1, ya que es la de salida. Ya que solo queremos clasificar solo en dos categorías."
      ],
      "execution_count": 25,
      "outputs": []
    },
    {
      "cell_type": "markdown",
      "metadata": {
        "id": "_Je4JFqsbOE7"
      },
      "source": [
        "# Compilar la RNA"
      ]
    },
    {
      "cell_type": "code",
      "metadata": {
        "id": "f89xXBswbOE7"
      },
      "source": [
        "classifier.compile(optimizer = \"adam\", loss = \"binary_crossentropy\", metrics = [\"accuracy\"])\n",
        "# Vamos a compilar. optimizer adam (buscar el conjunto optimo de pesos y hemos elegido adam)\n",
        "# loss la función de perdidas es la que minimiza el error. binary_crossentropy \n",
        "# metric  son las matericas que queremos que utilice para mejorar en entrenamiento"
      ],
      "execution_count": 26,
      "outputs": []
    },
    {
      "cell_type": "markdown",
      "metadata": {
        "id": "Dr34zpQrbOE9"
      },
      "source": [
        "# Ajustamos la RNA al Conjunto de Entrenamiento. ME QUEDO AQUI"
      ]
    },
    {
      "cell_type": "code",
      "metadata": {
        "id": "bwNUtZp7bOE9",
        "colab": {
          "base_uri": "https://localhost:8080/"
        },
        "outputId": "b692cb4a-7ec4-4d46-9a2d-1efc550ddd31"
      },
      "source": [
        "classifier.fit(X_train, y_train,  batch_size = 10, epochs = 100)\n",
        "# lote de 10 en 10 y epoch numeros de veces que queramos que haga. pasa 100 veces por la red neuronal. \n",
        "# lotes de 10  en 10 y cada vez que lo hacemos corregimos pesos. "
      ],
      "execution_count": 27,
      "outputs": [
        {
          "output_type": "stream",
          "name": "stdout",
          "text": [
            "Epoch 1/100\n",
            "800/800 [==============================] - 5s 2ms/step - loss: 0.4859 - accuracy: 0.7959\n",
            "Epoch 2/100\n",
            "800/800 [==============================] - 2s 2ms/step - loss: 0.4255 - accuracy: 0.7960\n",
            "Epoch 3/100\n",
            "800/800 [==============================] - 2s 2ms/step - loss: 0.4179 - accuracy: 0.8177\n",
            "Epoch 4/100\n",
            "800/800 [==============================] - 2s 2ms/step - loss: 0.4133 - accuracy: 0.8303\n",
            "Epoch 5/100\n",
            "800/800 [==============================] - 2s 2ms/step - loss: 0.4090 - accuracy: 0.8330\n",
            "Epoch 6/100\n",
            "800/800 [==============================] - 2s 2ms/step - loss: 0.4069 - accuracy: 0.8334\n",
            "Epoch 7/100\n",
            "800/800 [==============================] - 2s 2ms/step - loss: 0.4049 - accuracy: 0.8350\n",
            "Epoch 8/100\n",
            "800/800 [==============================] - 2s 2ms/step - loss: 0.4033 - accuracy: 0.8344\n",
            "Epoch 9/100\n",
            "800/800 [==============================] - 2s 2ms/step - loss: 0.4017 - accuracy: 0.8364\n",
            "Epoch 10/100\n",
            "800/800 [==============================] - 2s 2ms/step - loss: 0.4013 - accuracy: 0.8359\n",
            "Epoch 11/100\n",
            "800/800 [==============================] - 2s 2ms/step - loss: 0.4002 - accuracy: 0.8367\n",
            "Epoch 12/100\n",
            "800/800 [==============================] - 2s 2ms/step - loss: 0.3993 - accuracy: 0.8357\n",
            "Epoch 13/100\n",
            "800/800 [==============================] - 2s 2ms/step - loss: 0.3994 - accuracy: 0.8357\n",
            "Epoch 14/100\n",
            "800/800 [==============================] - 2s 2ms/step - loss: 0.3987 - accuracy: 0.8356\n",
            "Epoch 15/100\n",
            "800/800 [==============================] - 2s 2ms/step - loss: 0.3985 - accuracy: 0.8370\n",
            "Epoch 16/100\n",
            "800/800 [==============================] - 2s 2ms/step - loss: 0.3976 - accuracy: 0.8349\n",
            "Epoch 17/100\n",
            "800/800 [==============================] - 2s 2ms/step - loss: 0.3975 - accuracy: 0.8374\n",
            "Epoch 18/100\n",
            "800/800 [==============================] - 2s 2ms/step - loss: 0.3976 - accuracy: 0.8347\n",
            "Epoch 19/100\n",
            "800/800 [==============================] - 2s 2ms/step - loss: 0.3972 - accuracy: 0.8357\n",
            "Epoch 20/100\n",
            "800/800 [==============================] - 2s 2ms/step - loss: 0.3971 - accuracy: 0.8355\n",
            "Epoch 21/100\n",
            "800/800 [==============================] - 2s 2ms/step - loss: 0.3969 - accuracy: 0.8355\n",
            "Epoch 22/100\n",
            "800/800 [==============================] - 2s 2ms/step - loss: 0.3970 - accuracy: 0.8349\n",
            "Epoch 23/100\n",
            "800/800 [==============================] - 2s 2ms/step - loss: 0.3968 - accuracy: 0.8363\n",
            "Epoch 24/100\n",
            "800/800 [==============================] - 2s 2ms/step - loss: 0.3968 - accuracy: 0.8356\n",
            "Epoch 25/100\n",
            "800/800 [==============================] - 2s 2ms/step - loss: 0.3968 - accuracy: 0.8354\n",
            "Epoch 26/100\n",
            "800/800 [==============================] - 2s 2ms/step - loss: 0.3960 - accuracy: 0.8378\n",
            "Epoch 27/100\n",
            "800/800 [==============================] - 2s 2ms/step - loss: 0.3965 - accuracy: 0.8354\n",
            "Epoch 28/100\n",
            "800/800 [==============================] - 2s 2ms/step - loss: 0.3967 - accuracy: 0.8361\n",
            "Epoch 29/100\n",
            "800/800 [==============================] - 2s 2ms/step - loss: 0.3960 - accuracy: 0.8361\n",
            "Epoch 30/100\n",
            "800/800 [==============================] - 2s 2ms/step - loss: 0.3955 - accuracy: 0.8367\n",
            "Epoch 31/100\n",
            "800/800 [==============================] - 2s 2ms/step - loss: 0.3960 - accuracy: 0.8360\n",
            "Epoch 32/100\n",
            "800/800 [==============================] - 2s 2ms/step - loss: 0.3959 - accuracy: 0.8360\n",
            "Epoch 33/100\n",
            "800/800 [==============================] - 2s 2ms/step - loss: 0.3962 - accuracy: 0.8357\n",
            "Epoch 34/100\n",
            "800/800 [==============================] - 2s 2ms/step - loss: 0.3954 - accuracy: 0.8355\n",
            "Epoch 35/100\n",
            "800/800 [==============================] - 2s 2ms/step - loss: 0.3953 - accuracy: 0.8369\n",
            "Epoch 36/100\n",
            "800/800 [==============================] - 2s 2ms/step - loss: 0.3955 - accuracy: 0.8380\n",
            "Epoch 37/100\n",
            "800/800 [==============================] - 2s 2ms/step - loss: 0.3953 - accuracy: 0.8366\n",
            "Epoch 38/100\n",
            "800/800 [==============================] - 2s 2ms/step - loss: 0.3950 - accuracy: 0.8355\n",
            "Epoch 39/100\n",
            "800/800 [==============================] - 2s 2ms/step - loss: 0.3957 - accuracy: 0.8361\n",
            "Epoch 40/100\n",
            "800/800 [==============================] - 2s 2ms/step - loss: 0.3949 - accuracy: 0.8354\n",
            "Epoch 41/100\n",
            "800/800 [==============================] - 2s 2ms/step - loss: 0.3950 - accuracy: 0.8363\n",
            "Epoch 42/100\n",
            "800/800 [==============================] - 2s 2ms/step - loss: 0.3945 - accuracy: 0.8364\n",
            "Epoch 43/100\n",
            "800/800 [==============================] - 2s 2ms/step - loss: 0.3945 - accuracy: 0.8365\n",
            "Epoch 44/100\n",
            "800/800 [==============================] - 2s 2ms/step - loss: 0.3948 - accuracy: 0.8370\n",
            "Epoch 45/100\n",
            "800/800 [==============================] - 2s 2ms/step - loss: 0.3937 - accuracy: 0.8379\n",
            "Epoch 46/100\n",
            "800/800 [==============================] - 2s 2ms/step - loss: 0.3945 - accuracy: 0.8367\n",
            "Epoch 47/100\n",
            "800/800 [==============================] - 2s 2ms/step - loss: 0.3941 - accuracy: 0.8369\n",
            "Epoch 48/100\n",
            "800/800 [==============================] - 2s 2ms/step - loss: 0.3942 - accuracy: 0.8359\n",
            "Epoch 49/100\n",
            "800/800 [==============================] - 2s 2ms/step - loss: 0.3937 - accuracy: 0.8372\n",
            "Epoch 50/100\n",
            "800/800 [==============================] - 2s 2ms/step - loss: 0.3935 - accuracy: 0.8367\n",
            "Epoch 51/100\n",
            "800/800 [==============================] - 2s 2ms/step - loss: 0.3934 - accuracy: 0.8378\n",
            "Epoch 52/100\n",
            "800/800 [==============================] - 2s 2ms/step - loss: 0.3932 - accuracy: 0.8355\n",
            "Epoch 53/100\n",
            "800/800 [==============================] - 2s 2ms/step - loss: 0.3935 - accuracy: 0.8381\n",
            "Epoch 54/100\n",
            "800/800 [==============================] - 2s 2ms/step - loss: 0.3933 - accuracy: 0.8355\n",
            "Epoch 55/100\n",
            "800/800 [==============================] - 2s 2ms/step - loss: 0.3933 - accuracy: 0.8365\n",
            "Epoch 56/100\n",
            "800/800 [==============================] - 2s 2ms/step - loss: 0.3931 - accuracy: 0.8379\n",
            "Epoch 57/100\n",
            "800/800 [==============================] - 2s 2ms/step - loss: 0.3934 - accuracy: 0.8359\n",
            "Epoch 58/100\n",
            "800/800 [==============================] - 2s 2ms/step - loss: 0.3926 - accuracy: 0.8376\n",
            "Epoch 59/100\n",
            "800/800 [==============================] - 2s 2ms/step - loss: 0.3930 - accuracy: 0.8356\n",
            "Epoch 60/100\n",
            "800/800 [==============================] - 2s 2ms/step - loss: 0.3931 - accuracy: 0.8380\n",
            "Epoch 61/100\n",
            "800/800 [==============================] - 2s 2ms/step - loss: 0.3928 - accuracy: 0.8366\n",
            "Epoch 62/100\n",
            "800/800 [==============================] - 2s 2ms/step - loss: 0.3930 - accuracy: 0.8372\n",
            "Epoch 63/100\n",
            "800/800 [==============================] - 2s 2ms/step - loss: 0.3922 - accuracy: 0.8378\n",
            "Epoch 64/100\n",
            "800/800 [==============================] - 2s 2ms/step - loss: 0.3922 - accuracy: 0.8371\n",
            "Epoch 65/100\n",
            "800/800 [==============================] - 2s 2ms/step - loss: 0.3925 - accuracy: 0.8378\n",
            "Epoch 66/100\n",
            "800/800 [==============================] - 2s 2ms/step - loss: 0.3923 - accuracy: 0.8378\n",
            "Epoch 67/100\n",
            "800/800 [==============================] - 2s 2ms/step - loss: 0.3916 - accuracy: 0.8389\n",
            "Epoch 68/100\n",
            "800/800 [==============================] - 2s 2ms/step - loss: 0.3911 - accuracy: 0.8394\n",
            "Epoch 69/100\n",
            "800/800 [==============================] - 2s 2ms/step - loss: 0.3907 - accuracy: 0.8395\n",
            "Epoch 70/100\n",
            "800/800 [==============================] - 2s 2ms/step - loss: 0.3913 - accuracy: 0.8386\n",
            "Epoch 71/100\n",
            "800/800 [==============================] - 2s 2ms/step - loss: 0.3903 - accuracy: 0.8384\n",
            "Epoch 72/100\n",
            "800/800 [==============================] - 2s 2ms/step - loss: 0.3899 - accuracy: 0.8389\n",
            "Epoch 73/100\n",
            "800/800 [==============================] - 2s 2ms/step - loss: 0.3883 - accuracy: 0.8404\n",
            "Epoch 74/100\n",
            "800/800 [==============================] - 2s 2ms/step - loss: 0.3860 - accuracy: 0.8397\n",
            "Epoch 75/100\n",
            "800/800 [==============================] - 2s 2ms/step - loss: 0.3841 - accuracy: 0.8411\n",
            "Epoch 76/100\n",
            "800/800 [==============================] - 2s 2ms/step - loss: 0.3812 - accuracy: 0.8367\n",
            "Epoch 77/100\n",
            "800/800 [==============================] - 2s 2ms/step - loss: 0.3786 - accuracy: 0.8370\n",
            "Epoch 78/100\n",
            "800/800 [==============================] - 2s 2ms/step - loss: 0.3755 - accuracy: 0.8380\n",
            "Epoch 79/100\n",
            "800/800 [==============================] - 2s 2ms/step - loss: 0.3728 - accuracy: 0.8407\n",
            "Epoch 80/100\n",
            "800/800 [==============================] - 2s 2ms/step - loss: 0.3711 - accuracy: 0.8421\n",
            "Epoch 81/100\n",
            "800/800 [==============================] - 2s 2ms/step - loss: 0.3695 - accuracy: 0.8456\n",
            "Epoch 82/100\n",
            "800/800 [==============================] - 2s 2ms/step - loss: 0.3679 - accuracy: 0.8421\n",
            "Epoch 83/100\n",
            "800/800 [==============================] - 2s 2ms/step - loss: 0.3660 - accuracy: 0.8454\n",
            "Epoch 84/100\n",
            "800/800 [==============================] - 2s 2ms/step - loss: 0.3637 - accuracy: 0.8480\n",
            "Epoch 85/100\n",
            "800/800 [==============================] - 2s 2ms/step - loss: 0.3622 - accuracy: 0.8476\n",
            "Epoch 86/100\n",
            "800/800 [==============================] - 2s 2ms/step - loss: 0.3611 - accuracy: 0.8505\n",
            "Epoch 87/100\n",
            "800/800 [==============================] - 2s 2ms/step - loss: 0.3593 - accuracy: 0.8508\n",
            "Epoch 88/100\n",
            "800/800 [==============================] - 2s 2ms/step - loss: 0.3574 - accuracy: 0.8521\n",
            "Epoch 89/100\n",
            "800/800 [==============================] - 2s 2ms/step - loss: 0.3554 - accuracy: 0.8556\n",
            "Epoch 90/100\n",
            "800/800 [==============================] - 2s 2ms/step - loss: 0.3538 - accuracy: 0.8574\n",
            "Epoch 91/100\n",
            "800/800 [==============================] - 2s 2ms/step - loss: 0.3527 - accuracy: 0.8576\n",
            "Epoch 92/100\n",
            "800/800 [==============================] - 2s 2ms/step - loss: 0.3511 - accuracy: 0.8568\n",
            "Epoch 93/100\n",
            "800/800 [==============================] - 2s 2ms/step - loss: 0.3506 - accuracy: 0.8600\n",
            "Epoch 94/100\n",
            "800/800 [==============================] - 2s 2ms/step - loss: 0.3504 - accuracy: 0.8556\n",
            "Epoch 95/100\n",
            "800/800 [==============================] - 2s 2ms/step - loss: 0.3484 - accuracy: 0.8590\n",
            "Epoch 96/100\n",
            "800/800 [==============================] - 2s 2ms/step - loss: 0.3483 - accuracy: 0.8599\n",
            "Epoch 97/100\n",
            "800/800 [==============================] - 2s 2ms/step - loss: 0.3476 - accuracy: 0.8616\n",
            "Epoch 98/100\n",
            "800/800 [==============================] - 2s 2ms/step - loss: 0.3476 - accuracy: 0.8584\n",
            "Epoch 99/100\n",
            "800/800 [==============================] - 2s 2ms/step - loss: 0.3467 - accuracy: 0.8600\n",
            "Epoch 100/100\n",
            "800/800 [==============================] - 2s 2ms/step - loss: 0.3464 - accuracy: 0.8591\n"
          ]
        },
        {
          "output_type": "execute_result",
          "data": {
            "text/plain": [
              "<keras.callbacks.History at 0x7f2572185510>"
            ]
          },
          "metadata": {},
          "execution_count": 27
        }
      ]
    },
    {
      "cell_type": "markdown",
      "metadata": {
        "id": "jsUJ7kBnbOE_"
      },
      "source": [
        "# Parte 3 - Evaluar el modelo y calcular predicciones finales"
      ]
    },
    {
      "cell_type": "markdown",
      "metadata": {
        "id": "7ZWV9kiBbOFA"
      },
      "source": [
        "# Predicción de los resultados con el Conjunto de Testing"
      ]
    },
    {
      "cell_type": "code",
      "metadata": {
        "id": "XVzX_pIhbOFA"
      },
      "source": [
        "# arriba hemos lo hemos hecho sobre el train ahora lo vamos a hacer sobre el test.\n",
        "# es decir vamos a ver como se comporta el modelo. \n",
        "y_pred  = classifier.predict(X_test)\n",
        "y_pred = (y_pred>0.5) # le ponemos el umbral en 0.5, umbral de abandono. \n",
        "# podemos poner otro numero, depende de lo que estemeos calculando. "
      ],
      "execution_count": 28,
      "outputs": []
    },
    {
      "cell_type": "code",
      "source": [
        "y_pred"
      ],
      "metadata": {
        "id": "1LIb_MSCgNPP",
        "outputId": "59813ba7-eab0-4ec6-f1c7-461405f3bdaa",
        "colab": {
          "base_uri": "https://localhost:8080/"
        }
      },
      "execution_count": 29,
      "outputs": [
        {
          "output_type": "execute_result",
          "data": {
            "text/plain": [
              "array([[False],\n",
              "       [False],\n",
              "       [False],\n",
              "       ...,\n",
              "       [False],\n",
              "       [False],\n",
              "       [False]])"
            ]
          },
          "metadata": {},
          "execution_count": 29
        }
      ]
    },
    {
      "cell_type": "markdown",
      "metadata": {
        "id": "W0R6AD0bbOFD"
      },
      "source": [
        "# Elaborar una matriz de confusión"
      ]
    },
    {
      "cell_type": "code",
      "metadata": {
        "id": "cv-193GvbOFD"
      },
      "source": [
        "from sklearn.metrics import confusion_matrix\n",
        "cm = confusion_matrix(y_test, y_pred)"
      ],
      "execution_count": 30,
      "outputs": []
    },
    {
      "cell_type": "code",
      "source": [
        "cm"
      ],
      "metadata": {
        "id": "I-sYUP3jgT2N",
        "outputId": "f8d9e324-39c5-4277-8055-e75e0d3a3624",
        "colab": {
          "base_uri": "https://localhost:8080/"
        }
      },
      "execution_count": 31,
      "outputs": [
        {
          "output_type": "execute_result",
          "data": {
            "text/plain": [
              "array([[1534,   61],\n",
              "       [ 208,  197]])"
            ]
          },
          "metadata": {},
          "execution_count": 31
        }
      ]
    },
    {
      "cell_type": "code",
      "source": [
        "(1534+197)/(1534+61+208+197)"
      ],
      "metadata": {
        "id": "OKlS0ga_gVkS",
        "outputId": "24dca6df-1508-4d25-c30f-db522ba3ef49",
        "colab": {
          "base_uri": "https://localhost:8080/"
        }
      },
      "execution_count": 32,
      "outputs": [
        {
          "output_type": "execute_result",
          "data": {
            "text/plain": [
              "0.8655"
            ]
          },
          "metadata": {},
          "execution_count": 32
        }
      ]
    },
    {
      "cell_type": "markdown",
      "source": [
        "# AQUI VAMOS A HACER EL EJERCICIO PROPUESTO"
      ],
      "metadata": {
        "id": "msl5xqUOh138"
      }
    },
    {
      "cell_type": "markdown",
      "source": [
        "Vamos a utilizar nuestro modelo de RNA para predecir si un cliente se va a marachar o no del banco. "
      ],
      "metadata": {
        "id": "8KXvaAhXh7_7"
      }
    },
    {
      "cell_type": "markdown",
      "source": [
        "![image.png](data:image/png;base64,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)"
      ],
      "metadata": {
        "id": "lYClvXDbiImD"
      }
    },
    {
      "cell_type": "code",
      "source": [
        "# si tuvieramos un conjunto de datos, lo unico que tendríamos que haceer es meterlo como matriz, la unica duda que tengo es que si hemos hecho el onehotencoder\n",
        "# entiendo que tendriamos que darle a estas variables el valor adecuado. \n",
        "# sabemos que la primera linea era francés, lo que vamos a hacer es sacar esa linea para ver el orden de las columnas. \n",
        "dataset.iloc[0,:].values  # primera fila y todas las columnas. "
      ],
      "metadata": {
        "id": "uuV4NlEVkkho",
        "outputId": "45bd44a0-2c54-456a-bb2e-6fb7b3f2a39e",
        "colab": {
          "base_uri": "https://localhost:8080/"
        }
      },
      "execution_count": 33,
      "outputs": [
        {
          "output_type": "execute_result",
          "data": {
            "text/plain": [
              "array([1, 15634602, 'Hargrave', 619, 'France', 'Female', 42, 2, 0.0, 1, 1,\n",
              "       1, 101348.88, 1], dtype=object)"
            ]
          },
          "metadata": {},
          "execution_count": 33
        }
      ]
    },
    {
      "cell_type": "code",
      "source": [
        "# como le hemos hecho un onehotencoder tenemos que ver su analogo después de hecho. lo hemos hecho en los anteriores pasos. \n",
        "X[0,:] # recordamos que hemos quitado los datos que no nos interesaban y que empezamos en el score que es 619"
      ],
      "metadata": {
        "id": "2yhk__W7l6TK",
        "outputId": "027cd137-35f9-4f2a-82d6-01dfeff59744",
        "colab": {
          "base_uri": "https://localhost:8080/"
        }
      },
      "execution_count": 34,
      "outputs": [
        {
          "output_type": "execute_result",
          "data": {
            "text/plain": [
              "array([0.0, 0.0, 619, 0, 42, 2, 0.0, 1, 1, 1, 101348.88], dtype=object)"
            ]
          },
          "metadata": {},
          "execution_count": 34
        }
      ]
    },
    {
      "cell_type": "code",
      "source": [
        "# lo que vamos a meter es una matriz, que contiene solo una fila, y tantas columnas como datos tengamos. \n",
        "\n",
        "new_prediction = classifier.predict(np.array[[]]) # el primer corchete es para indicar la matriz, el segundo corchete para indicar la fila. \n",
        "# ahora lo que tenemos dentro del parentesis tienen que ser los datos del cliente que estamos tratando. \n",
        "# si tuviera un conjunto de cliente igual. \n",
        "# tenemos 11 datos de entrada según hemos visto anteriormente. "
      ],
      "metadata": {
        "id": "YJdAv7OpiZ7W"
      },
      "execution_count": null,
      "outputs": []
    },
    {
      "cell_type": "markdown",
      "metadata": {
        "id": "3qBAu2KobrIh"
      },
      "source": [
        "## Parte 4 - Evaluar, mejorar y Ajustar la RNA\n"
      ]
    },
    {
      "cell_type": "markdown",
      "metadata": {
        "id": "E3by0rPFbuM3"
      },
      "source": [
        "### Evaluar la **RNA**\n"
      ]
    },
    {
      "cell_type": "code",
      "metadata": {
        "id": "Xn44nPWXbsbS"
      },
      "source": [
        "from keras.wrappers.scikit_learn import KerasClassifier\n",
        "from sklearn.model_selection import cross_val_score"
      ],
      "execution_count": null,
      "outputs": []
    },
    {
      "cell_type": "code",
      "metadata": {
        "id": "VEv9LR5MbwJ_"
      },
      "source": [
        "def build_classifier():\n",
        "  classifier = Sequential()\n",
        "  classifier.add(Dense(units = 6, kernel_initializer = \"uniform\", activation = \"relu\", input_dim = 11))\n",
        "  classifier.add(Dense(units = 6, kernel_initializer = \"uniform\", activation = \"relu\"))\n",
        "  classifier.add(Dense(units = 1, kernel_initializer = \"uniform\", activation = \"sigmoid\"))\n",
        "  classifier.compile(optimizer = \"adam\", loss = \"binary_crossentropy\", metrics = [\"accuracy\"])\n",
        "  return classifier"
      ],
      "execution_count": null,
      "outputs": []
    },
    {
      "cell_type": "code",
      "metadata": {
        "id": "84ER1wwKbx-s",
        "colab": {
          "base_uri": "https://localhost:8080/",
          "height": 51
        },
        "outputId": "6c5a2563-275c-426c-f7e3-0c20708acd05"
      },
      "source": [
        "classifier = KerasClassifier(build_fn = build_classifier, batch_size = 10, nb_epoch = 100)\n",
        "accuracies = cross_val_score(estimator=classifier, X = X_train, y = y_train, cv = 10, n_jobs=-1, verbose = 1)"
      ],
      "execution_count": null,
      "outputs": [
        {
          "output_type": "stream",
          "text": [
            "[Parallel(n_jobs=-1)]: Using backend LokyBackend with 2 concurrent workers.\n",
            "[Parallel(n_jobs=-1)]: Done  10 out of  10 | elapsed:   18.9s finished\n"
          ],
          "name": "stderr"
        }
      ]
    },
    {
      "cell_type": "code",
      "metadata": {
        "id": "kH5SWOLjbz1J"
      },
      "source": [
        "mean = accuracies.mean()\n",
        "variance = accuracies.std()"
      ],
      "execution_count": null,
      "outputs": []
    },
    {
      "cell_type": "markdown",
      "metadata": {
        "id": "Mv-Hs66Tb3Mv"
      },
      "source": [
        "### Mejorar la RNA"
      ]
    },
    {
      "cell_type": "markdown",
      "metadata": {
        "id": "d-TdOlIlb22x"
      },
      "source": [
        "#### Regularización de Dropout para evitar el *overfitting*\n"
      ]
    },
    {
      "cell_type": "markdown",
      "metadata": {
        "id": "k0xNpbSSb7_D"
      },
      "source": [
        "### Ajustar la *RNA*\n"
      ]
    },
    {
      "cell_type": "code",
      "metadata": {
        "id": "4XOkEVJ_eE93"
      },
      "source": [
        "from sklearn.model_selection import GridSearchCV"
      ],
      "execution_count": null,
      "outputs": []
    },
    {
      "cell_type": "code",
      "metadata": {
        "id": "lURNzjkSb1Ce"
      },
      "source": [
        "def build_classifier(optimizer):\n",
        "  classifier = Sequential()\n",
        "  classifier.add(Dense(units = 6, kernel_initializer = \"uniform\",  activation = \"relu\", input_dim = 11))\n",
        "  classifier.add(Dense(units = 6, kernel_initializer = \"uniform\",  activation = \"relu\"))\n",
        "  classifier.add(Dense(units = 1, kernel_initializer = \"uniform\",  activation = \"sigmoid\"))\n",
        "  classifier.compile(optimizer = optimizer, loss = \"binary_crossentropy\", metrics = [\"accuracy\"])\n",
        "  return classifier\n"
      ],
      "execution_count": null,
      "outputs": []
    },
    {
      "cell_type": "code",
      "metadata": {
        "id": "1mRpi1Kcb96V"
      },
      "source": [
        "classifier = KerasClassifier(build_fn = build_classifier)"
      ],
      "execution_count": null,
      "outputs": []
    },
    {
      "cell_type": "code",
      "metadata": {
        "id": "KkRJLSzAb_6R"
      },
      "source": [
        "parameters = {\n",
        "    'batch_size' : [25,32],\n",
        "    'nb_epoch' : [100, 500], \n",
        "    'optimizer' : ['adam', 'rmsprop']\n",
        "}"
      ],
      "execution_count": null,
      "outputs": []
    },
    {
      "cell_type": "code",
      "metadata": {
        "id": "_Ejn37PBcB-7",
        "colab": {
          "base_uri": "https://localhost:8080/",
          "height": 922
        },
        "outputId": "608bcae3-2311-4466-b4f1-4f4998a075db"
      },
      "source": [
        "grid_search = GridSearchCV(estimator = classifier, \n",
        "                           param_grid = parameters, \n",
        "                           scoring = 'accuracy', \n",
        "                           cv = 10)\n",
        "grid_search = grid_search.fit(X_train, y_train)\n",
        "\n",
        "best_parameters = grid_search.best_params_\n",
        "best_accuracy = grid_search.best_score_"
      ],
      "execution_count": null,
      "outputs": [
        {
          "output_type": "stream",
          "text": [
            "288/288 [==============================] - 0s 2ms/step - loss: 0.5595 - accuracy: 0.7960\n",
            "WARNING:tensorflow:From /usr/local/lib/python3.6/dist-packages/tensorflow/python/keras/wrappers/scikit_learn.py:241: Sequential.predict_classes (from tensorflow.python.keras.engine.sequential) is deprecated and will be removed after 2021-01-01.\n",
            "Instructions for updating:\n",
            "Please use instead:* `np.argmax(model.predict(x), axis=-1)`,   if your model does multi-class classification   (e.g. if it uses a `softmax` last-layer activation).* `(model.predict(x) > 0.5).astype(\"int32\")`,   if your model does binary classification   (e.g. if it uses a `sigmoid` last-layer activation).\n",
            "288/288 [==============================] - 0s 2ms/step - loss: 0.5741 - accuracy: 0.7946\n",
            "288/288 [==============================] - 0s 2ms/step - loss: 0.5798 - accuracy: 0.7933\n",
            "288/288 [==============================] - 1s 2ms/step - loss: 0.5651 - accuracy: 0.7962\n",
            "288/288 [==============================] - 0s 2ms/step - loss: 0.5633 - accuracy: 0.7937\n",
            "288/288 [==============================] - 0s 2ms/step - loss: 0.5897 - accuracy: 0.7922\n",
            "288/288 [==============================] - 1s 2ms/step - loss: 0.5586 - accuracy: 0.7965\n",
            "288/288 [==============================] - 0s 2ms/step - loss: 0.5527 - accuracy: 0.7947\n",
            "288/288 [==============================] - 1s 2ms/step - loss: 0.5689 - accuracy: 0.7949\n",
            "288/288 [==============================] - 1s 2ms/step - loss: 0.5542 - accuracy: 0.7960\n",
            "288/288 [==============================] - 1s 2ms/step - loss: 0.5835 - accuracy: 0.7967\n",
            "288/288 [==============================] - 1s 2ms/step - loss: 0.6071 - accuracy: 0.7943\n",
            "288/288 [==============================] - 1s 2ms/step - loss: 0.6058 - accuracy: 0.7942\n",
            "288/288 [==============================] - 1s 2ms/step - loss: 0.5745 - accuracy: 0.7965\n",
            "288/288 [==============================] - 1s 2ms/step - loss: 0.5673 - accuracy: 0.7929\n",
            "288/288 [==============================] - 1s 2ms/step - loss: 0.6254 - accuracy: 0.7918\n",
            "288/288 [==============================] - 1s 2ms/step - loss: 0.5645 - accuracy: 0.7965\n",
            "288/288 [==============================] - 1s 2ms/step - loss: 0.5663 - accuracy: 0.7961\n",
            "288/288 [==============================] - 1s 2ms/step - loss: 0.5845 - accuracy: 0.7956\n",
            "288/288 [==============================] - 1s 2ms/step - loss: 0.5886 - accuracy: 0.7956\n",
            "288/288 [==============================] - 0s 2ms/step - loss: 0.5763 - accuracy: 0.7961\n",
            "288/288 [==============================] - 0s 2ms/step - loss: 0.5451 - accuracy: 0.7965\n",
            "288/288 [==============================] - 0s 2ms/step - loss: 0.5629 - accuracy: 0.7951\n",
            "288/288 [==============================] - 0s 2ms/step - loss: 0.5882 - accuracy: 0.7957\n",
            "288/288 [==============================] - 0s 2ms/step - loss: 0.5617 - accuracy: 0.7922\n",
            "288/288 [==============================] - 0s 2ms/step - loss: 0.5851 - accuracy: 0.7935\n",
            " 25/288 [=>............................] - ETA: 0s - loss: 0.6893 - accuracy: 0.7776"
          ],
          "name": "stdout"
        },
        {
          "output_type": "error",
          "ename": "KeyboardInterrupt",
          "evalue": "ignored",
          "traceback": [
            "\u001b[0;31m---------------------------------------------------------------------------\u001b[0m",
            "\u001b[0;31mKeyboardInterrupt\u001b[0m                         Traceback (most recent call last)",
            "\u001b[0;32m<ipython-input-39-f2d4fd603a69>\u001b[0m in \u001b[0;36m<module>\u001b[0;34m()\u001b[0m\n\u001b[1;32m      3\u001b[0m                            \u001b[0mscoring\u001b[0m \u001b[0;34m=\u001b[0m \u001b[0;34m'accuracy'\u001b[0m\u001b[0;34m,\u001b[0m\u001b[0;34m\u001b[0m\u001b[0;34m\u001b[0m\u001b[0m\n\u001b[1;32m      4\u001b[0m                            cv = 10)\n\u001b[0;32m----> 5\u001b[0;31m \u001b[0mgrid_search\u001b[0m \u001b[0;34m=\u001b[0m \u001b[0mgrid_search\u001b[0m\u001b[0;34m.\u001b[0m\u001b[0mfit\u001b[0m\u001b[0;34m(\u001b[0m\u001b[0mX_train\u001b[0m\u001b[0;34m,\u001b[0m \u001b[0my_train\u001b[0m\u001b[0;34m)\u001b[0m\u001b[0;34m\u001b[0m\u001b[0;34m\u001b[0m\u001b[0m\n\u001b[0m\u001b[1;32m      6\u001b[0m \u001b[0;34m\u001b[0m\u001b[0m\n\u001b[1;32m      7\u001b[0m \u001b[0mbest_parameters\u001b[0m \u001b[0;34m=\u001b[0m \u001b[0mgrid_search\u001b[0m\u001b[0;34m.\u001b[0m\u001b[0mbest_params_\u001b[0m\u001b[0;34m\u001b[0m\u001b[0;34m\u001b[0m\u001b[0m\n",
            "\u001b[0;32m/usr/local/lib/python3.6/dist-packages/sklearn/model_selection/_search.py\u001b[0m in \u001b[0;36mfit\u001b[0;34m(self, X, y, groups, **fit_params)\u001b[0m\n\u001b[1;32m    708\u001b[0m                 \u001b[0;32mreturn\u001b[0m \u001b[0mresults\u001b[0m\u001b[0;34m\u001b[0m\u001b[0;34m\u001b[0m\u001b[0m\n\u001b[1;32m    709\u001b[0m \u001b[0;34m\u001b[0m\u001b[0m\n\u001b[0;32m--> 710\u001b[0;31m             \u001b[0mself\u001b[0m\u001b[0;34m.\u001b[0m\u001b[0m_run_search\u001b[0m\u001b[0;34m(\u001b[0m\u001b[0mevaluate_candidates\u001b[0m\u001b[0;34m)\u001b[0m\u001b[0;34m\u001b[0m\u001b[0;34m\u001b[0m\u001b[0m\n\u001b[0m\u001b[1;32m    711\u001b[0m \u001b[0;34m\u001b[0m\u001b[0m\n\u001b[1;32m    712\u001b[0m         \u001b[0;31m# For multi-metric evaluation, store the best_index_, best_params_ and\u001b[0m\u001b[0;34m\u001b[0m\u001b[0;34m\u001b[0m\u001b[0;34m\u001b[0m\u001b[0m\n",
            "\u001b[0;32m/usr/local/lib/python3.6/dist-packages/sklearn/model_selection/_search.py\u001b[0m in \u001b[0;36m_run_search\u001b[0;34m(self, evaluate_candidates)\u001b[0m\n\u001b[1;32m   1149\u001b[0m     \u001b[0;32mdef\u001b[0m \u001b[0m_run_search\u001b[0m\u001b[0;34m(\u001b[0m\u001b[0mself\u001b[0m\u001b[0;34m,\u001b[0m \u001b[0mevaluate_candidates\u001b[0m\u001b[0;34m)\u001b[0m\u001b[0;34m:\u001b[0m\u001b[0;34m\u001b[0m\u001b[0;34m\u001b[0m\u001b[0m\n\u001b[1;32m   1150\u001b[0m         \u001b[0;34m\"\"\"Search all candidates in param_grid\"\"\"\u001b[0m\u001b[0;34m\u001b[0m\u001b[0;34m\u001b[0m\u001b[0m\n\u001b[0;32m-> 1151\u001b[0;31m         \u001b[0mevaluate_candidates\u001b[0m\u001b[0;34m(\u001b[0m\u001b[0mParameterGrid\u001b[0m\u001b[0;34m(\u001b[0m\u001b[0mself\u001b[0m\u001b[0;34m.\u001b[0m\u001b[0mparam_grid\u001b[0m\u001b[0;34m)\u001b[0m\u001b[0;34m)\u001b[0m\u001b[0;34m\u001b[0m\u001b[0;34m\u001b[0m\u001b[0m\n\u001b[0m\u001b[1;32m   1152\u001b[0m \u001b[0;34m\u001b[0m\u001b[0m\n\u001b[1;32m   1153\u001b[0m \u001b[0;34m\u001b[0m\u001b[0m\n",
            "\u001b[0;32m/usr/local/lib/python3.6/dist-packages/sklearn/model_selection/_search.py\u001b[0m in \u001b[0;36mevaluate_candidates\u001b[0;34m(candidate_params)\u001b[0m\n\u001b[1;32m    687\u001b[0m                                \u001b[0;32mfor\u001b[0m \u001b[0mparameters\u001b[0m\u001b[0;34m,\u001b[0m \u001b[0;34m(\u001b[0m\u001b[0mtrain\u001b[0m\u001b[0;34m,\u001b[0m \u001b[0mtest\u001b[0m\u001b[0;34m)\u001b[0m\u001b[0;34m\u001b[0m\u001b[0;34m\u001b[0m\u001b[0m\n\u001b[1;32m    688\u001b[0m                                in product(candidate_params,\n\u001b[0;32m--> 689\u001b[0;31m                                           cv.split(X, y, groups)))\n\u001b[0m\u001b[1;32m    690\u001b[0m \u001b[0;34m\u001b[0m\u001b[0m\n\u001b[1;32m    691\u001b[0m                 \u001b[0;32mif\u001b[0m \u001b[0mlen\u001b[0m\u001b[0;34m(\u001b[0m\u001b[0mout\u001b[0m\u001b[0;34m)\u001b[0m \u001b[0;34m<\u001b[0m \u001b[0;36m1\u001b[0m\u001b[0;34m:\u001b[0m\u001b[0;34m\u001b[0m\u001b[0;34m\u001b[0m\u001b[0m\n",
            "\u001b[0;32m/usr/local/lib/python3.6/dist-packages/joblib/parallel.py\u001b[0m in \u001b[0;36m__call__\u001b[0;34m(self, iterable)\u001b[0m\n\u001b[1;32m   1030\u001b[0m                 \u001b[0mself\u001b[0m\u001b[0;34m.\u001b[0m\u001b[0m_iterating\u001b[0m \u001b[0;34m=\u001b[0m \u001b[0mself\u001b[0m\u001b[0;34m.\u001b[0m\u001b[0m_original_iterator\u001b[0m \u001b[0;32mis\u001b[0m \u001b[0;32mnot\u001b[0m \u001b[0;32mNone\u001b[0m\u001b[0;34m\u001b[0m\u001b[0;34m\u001b[0m\u001b[0m\n\u001b[1;32m   1031\u001b[0m \u001b[0;34m\u001b[0m\u001b[0m\n\u001b[0;32m-> 1032\u001b[0;31m             \u001b[0;32mwhile\u001b[0m \u001b[0mself\u001b[0m\u001b[0;34m.\u001b[0m\u001b[0mdispatch_one_batch\u001b[0m\u001b[0;34m(\u001b[0m\u001b[0miterator\u001b[0m\u001b[0;34m)\u001b[0m\u001b[0;34m:\u001b[0m\u001b[0;34m\u001b[0m\u001b[0;34m\u001b[0m\u001b[0m\n\u001b[0m\u001b[1;32m   1033\u001b[0m                 \u001b[0;32mpass\u001b[0m\u001b[0;34m\u001b[0m\u001b[0;34m\u001b[0m\u001b[0m\n\u001b[1;32m   1034\u001b[0m \u001b[0;34m\u001b[0m\u001b[0m\n",
            "\u001b[0;32m/usr/local/lib/python3.6/dist-packages/joblib/parallel.py\u001b[0m in \u001b[0;36mdispatch_one_batch\u001b[0;34m(self, iterator)\u001b[0m\n\u001b[1;32m    845\u001b[0m                 \u001b[0;32mreturn\u001b[0m \u001b[0;32mFalse\u001b[0m\u001b[0;34m\u001b[0m\u001b[0;34m\u001b[0m\u001b[0m\n\u001b[1;32m    846\u001b[0m             \u001b[0;32melse\u001b[0m\u001b[0;34m:\u001b[0m\u001b[0;34m\u001b[0m\u001b[0;34m\u001b[0m\u001b[0m\n\u001b[0;32m--> 847\u001b[0;31m                 \u001b[0mself\u001b[0m\u001b[0;34m.\u001b[0m\u001b[0m_dispatch\u001b[0m\u001b[0;34m(\u001b[0m\u001b[0mtasks\u001b[0m\u001b[0;34m)\u001b[0m\u001b[0;34m\u001b[0m\u001b[0;34m\u001b[0m\u001b[0m\n\u001b[0m\u001b[1;32m    848\u001b[0m                 \u001b[0;32mreturn\u001b[0m \u001b[0;32mTrue\u001b[0m\u001b[0;34m\u001b[0m\u001b[0;34m\u001b[0m\u001b[0m\n\u001b[1;32m    849\u001b[0m \u001b[0;34m\u001b[0m\u001b[0m\n",
            "\u001b[0;32m/usr/local/lib/python3.6/dist-packages/joblib/parallel.py\u001b[0m in \u001b[0;36m_dispatch\u001b[0;34m(self, batch)\u001b[0m\n\u001b[1;32m    763\u001b[0m         \u001b[0;32mwith\u001b[0m \u001b[0mself\u001b[0m\u001b[0;34m.\u001b[0m\u001b[0m_lock\u001b[0m\u001b[0;34m:\u001b[0m\u001b[0;34m\u001b[0m\u001b[0;34m\u001b[0m\u001b[0m\n\u001b[1;32m    764\u001b[0m             \u001b[0mjob_idx\u001b[0m \u001b[0;34m=\u001b[0m \u001b[0mlen\u001b[0m\u001b[0;34m(\u001b[0m\u001b[0mself\u001b[0m\u001b[0;34m.\u001b[0m\u001b[0m_jobs\u001b[0m\u001b[0;34m)\u001b[0m\u001b[0;34m\u001b[0m\u001b[0;34m\u001b[0m\u001b[0m\n\u001b[0;32m--> 765\u001b[0;31m             \u001b[0mjob\u001b[0m \u001b[0;34m=\u001b[0m \u001b[0mself\u001b[0m\u001b[0;34m.\u001b[0m\u001b[0m_backend\u001b[0m\u001b[0;34m.\u001b[0m\u001b[0mapply_async\u001b[0m\u001b[0;34m(\u001b[0m\u001b[0mbatch\u001b[0m\u001b[0;34m,\u001b[0m \u001b[0mcallback\u001b[0m\u001b[0;34m=\u001b[0m\u001b[0mcb\u001b[0m\u001b[0;34m)\u001b[0m\u001b[0;34m\u001b[0m\u001b[0;34m\u001b[0m\u001b[0m\n\u001b[0m\u001b[1;32m    766\u001b[0m             \u001b[0;31m# A job can complete so quickly than its callback is\u001b[0m\u001b[0;34m\u001b[0m\u001b[0;34m\u001b[0m\u001b[0;34m\u001b[0m\u001b[0m\n\u001b[1;32m    767\u001b[0m             \u001b[0;31m# called before we get here, causing self._jobs to\u001b[0m\u001b[0;34m\u001b[0m\u001b[0;34m\u001b[0m\u001b[0;34m\u001b[0m\u001b[0m\n",
            "\u001b[0;32m/usr/local/lib/python3.6/dist-packages/joblib/_parallel_backends.py\u001b[0m in \u001b[0;36mapply_async\u001b[0;34m(self, func, callback)\u001b[0m\n\u001b[1;32m    206\u001b[0m     \u001b[0;32mdef\u001b[0m \u001b[0mapply_async\u001b[0m\u001b[0;34m(\u001b[0m\u001b[0mself\u001b[0m\u001b[0;34m,\u001b[0m \u001b[0mfunc\u001b[0m\u001b[0;34m,\u001b[0m \u001b[0mcallback\u001b[0m\u001b[0;34m=\u001b[0m\u001b[0;32mNone\u001b[0m\u001b[0;34m)\u001b[0m\u001b[0;34m:\u001b[0m\u001b[0;34m\u001b[0m\u001b[0;34m\u001b[0m\u001b[0m\n\u001b[1;32m    207\u001b[0m         \u001b[0;34m\"\"\"Schedule a func to be run\"\"\"\u001b[0m\u001b[0;34m\u001b[0m\u001b[0;34m\u001b[0m\u001b[0m\n\u001b[0;32m--> 208\u001b[0;31m         \u001b[0mresult\u001b[0m \u001b[0;34m=\u001b[0m \u001b[0mImmediateResult\u001b[0m\u001b[0;34m(\u001b[0m\u001b[0mfunc\u001b[0m\u001b[0;34m)\u001b[0m\u001b[0;34m\u001b[0m\u001b[0;34m\u001b[0m\u001b[0m\n\u001b[0m\u001b[1;32m    209\u001b[0m         \u001b[0;32mif\u001b[0m \u001b[0mcallback\u001b[0m\u001b[0;34m:\u001b[0m\u001b[0;34m\u001b[0m\u001b[0;34m\u001b[0m\u001b[0m\n\u001b[1;32m    210\u001b[0m             \u001b[0mcallback\u001b[0m\u001b[0;34m(\u001b[0m\u001b[0mresult\u001b[0m\u001b[0;34m)\u001b[0m\u001b[0;34m\u001b[0m\u001b[0;34m\u001b[0m\u001b[0m\n",
            "\u001b[0;32m/usr/local/lib/python3.6/dist-packages/joblib/_parallel_backends.py\u001b[0m in \u001b[0;36m__init__\u001b[0;34m(self, batch)\u001b[0m\n\u001b[1;32m    570\u001b[0m         \u001b[0;31m# Don't delay the application, to avoid keeping the input\u001b[0m\u001b[0;34m\u001b[0m\u001b[0;34m\u001b[0m\u001b[0;34m\u001b[0m\u001b[0m\n\u001b[1;32m    571\u001b[0m         \u001b[0;31m# arguments in memory\u001b[0m\u001b[0;34m\u001b[0m\u001b[0;34m\u001b[0m\u001b[0;34m\u001b[0m\u001b[0m\n\u001b[0;32m--> 572\u001b[0;31m         \u001b[0mself\u001b[0m\u001b[0;34m.\u001b[0m\u001b[0mresults\u001b[0m \u001b[0;34m=\u001b[0m \u001b[0mbatch\u001b[0m\u001b[0;34m(\u001b[0m\u001b[0;34m)\u001b[0m\u001b[0;34m\u001b[0m\u001b[0;34m\u001b[0m\u001b[0m\n\u001b[0m\u001b[1;32m    573\u001b[0m \u001b[0;34m\u001b[0m\u001b[0m\n\u001b[1;32m    574\u001b[0m     \u001b[0;32mdef\u001b[0m \u001b[0mget\u001b[0m\u001b[0;34m(\u001b[0m\u001b[0mself\u001b[0m\u001b[0;34m)\u001b[0m\u001b[0;34m:\u001b[0m\u001b[0;34m\u001b[0m\u001b[0;34m\u001b[0m\u001b[0m\n",
            "\u001b[0;32m/usr/local/lib/python3.6/dist-packages/joblib/parallel.py\u001b[0m in \u001b[0;36m__call__\u001b[0;34m(self)\u001b[0m\n\u001b[1;32m    251\u001b[0m         \u001b[0;32mwith\u001b[0m \u001b[0mparallel_backend\u001b[0m\u001b[0;34m(\u001b[0m\u001b[0mself\u001b[0m\u001b[0;34m.\u001b[0m\u001b[0m_backend\u001b[0m\u001b[0;34m,\u001b[0m \u001b[0mn_jobs\u001b[0m\u001b[0;34m=\u001b[0m\u001b[0mself\u001b[0m\u001b[0;34m.\u001b[0m\u001b[0m_n_jobs\u001b[0m\u001b[0;34m)\u001b[0m\u001b[0;34m:\u001b[0m\u001b[0;34m\u001b[0m\u001b[0;34m\u001b[0m\u001b[0m\n\u001b[1;32m    252\u001b[0m             return [func(*args, **kwargs)\n\u001b[0;32m--> 253\u001b[0;31m                     for func, args, kwargs in self.items]\n\u001b[0m\u001b[1;32m    254\u001b[0m \u001b[0;34m\u001b[0m\u001b[0m\n\u001b[1;32m    255\u001b[0m     \u001b[0;32mdef\u001b[0m \u001b[0m__reduce__\u001b[0m\u001b[0;34m(\u001b[0m\u001b[0mself\u001b[0m\u001b[0;34m)\u001b[0m\u001b[0;34m:\u001b[0m\u001b[0;34m\u001b[0m\u001b[0;34m\u001b[0m\u001b[0m\n",
            "\u001b[0;32m/usr/local/lib/python3.6/dist-packages/joblib/parallel.py\u001b[0m in \u001b[0;36m<listcomp>\u001b[0;34m(.0)\u001b[0m\n\u001b[1;32m    251\u001b[0m         \u001b[0;32mwith\u001b[0m \u001b[0mparallel_backend\u001b[0m\u001b[0;34m(\u001b[0m\u001b[0mself\u001b[0m\u001b[0;34m.\u001b[0m\u001b[0m_backend\u001b[0m\u001b[0;34m,\u001b[0m \u001b[0mn_jobs\u001b[0m\u001b[0;34m=\u001b[0m\u001b[0mself\u001b[0m\u001b[0;34m.\u001b[0m\u001b[0m_n_jobs\u001b[0m\u001b[0;34m)\u001b[0m\u001b[0;34m:\u001b[0m\u001b[0;34m\u001b[0m\u001b[0;34m\u001b[0m\u001b[0m\n\u001b[1;32m    252\u001b[0m             return [func(*args, **kwargs)\n\u001b[0;32m--> 253\u001b[0;31m                     for func, args, kwargs in self.items]\n\u001b[0m\u001b[1;32m    254\u001b[0m \u001b[0;34m\u001b[0m\u001b[0m\n\u001b[1;32m    255\u001b[0m     \u001b[0;32mdef\u001b[0m \u001b[0m__reduce__\u001b[0m\u001b[0;34m(\u001b[0m\u001b[0mself\u001b[0m\u001b[0;34m)\u001b[0m\u001b[0;34m:\u001b[0m\u001b[0;34m\u001b[0m\u001b[0;34m\u001b[0m\u001b[0m\n",
            "\u001b[0;32m/usr/local/lib/python3.6/dist-packages/sklearn/model_selection/_validation.py\u001b[0m in \u001b[0;36m_fit_and_score\u001b[0;34m(estimator, X, y, scorer, train, test, verbose, parameters, fit_params, return_train_score, return_parameters, return_n_test_samples, return_times, return_estimator, error_score)\u001b[0m\n\u001b[1;32m    513\u001b[0m             \u001b[0mestimator\u001b[0m\u001b[0;34m.\u001b[0m\u001b[0mfit\u001b[0m\u001b[0;34m(\u001b[0m\u001b[0mX_train\u001b[0m\u001b[0;34m,\u001b[0m \u001b[0;34m**\u001b[0m\u001b[0mfit_params\u001b[0m\u001b[0;34m)\u001b[0m\u001b[0;34m\u001b[0m\u001b[0;34m\u001b[0m\u001b[0m\n\u001b[1;32m    514\u001b[0m         \u001b[0;32melse\u001b[0m\u001b[0;34m:\u001b[0m\u001b[0;34m\u001b[0m\u001b[0;34m\u001b[0m\u001b[0m\n\u001b[0;32m--> 515\u001b[0;31m             \u001b[0mestimator\u001b[0m\u001b[0;34m.\u001b[0m\u001b[0mfit\u001b[0m\u001b[0;34m(\u001b[0m\u001b[0mX_train\u001b[0m\u001b[0;34m,\u001b[0m \u001b[0my_train\u001b[0m\u001b[0;34m,\u001b[0m \u001b[0;34m**\u001b[0m\u001b[0mfit_params\u001b[0m\u001b[0;34m)\u001b[0m\u001b[0;34m\u001b[0m\u001b[0;34m\u001b[0m\u001b[0m\n\u001b[0m\u001b[1;32m    516\u001b[0m \u001b[0;34m\u001b[0m\u001b[0m\n\u001b[1;32m    517\u001b[0m     \u001b[0;32mexcept\u001b[0m \u001b[0mException\u001b[0m \u001b[0;32mas\u001b[0m \u001b[0me\u001b[0m\u001b[0;34m:\u001b[0m\u001b[0;34m\u001b[0m\u001b[0;34m\u001b[0m\u001b[0m\n",
            "\u001b[0;32m/usr/local/lib/python3.6/dist-packages/tensorflow/python/keras/wrappers/scikit_learn.py\u001b[0m in \u001b[0;36mfit\u001b[0;34m(self, x, y, **kwargs)\u001b[0m\n\u001b[1;32m    221\u001b[0m       \u001b[0;32mraise\u001b[0m \u001b[0mValueError\u001b[0m\u001b[0;34m(\u001b[0m\u001b[0;34m'Invalid shape for y: '\u001b[0m \u001b[0;34m+\u001b[0m \u001b[0mstr\u001b[0m\u001b[0;34m(\u001b[0m\u001b[0my\u001b[0m\u001b[0;34m.\u001b[0m\u001b[0mshape\u001b[0m\u001b[0;34m)\u001b[0m\u001b[0;34m)\u001b[0m\u001b[0;34m\u001b[0m\u001b[0;34m\u001b[0m\u001b[0m\n\u001b[1;32m    222\u001b[0m     \u001b[0mself\u001b[0m\u001b[0;34m.\u001b[0m\u001b[0mn_classes_\u001b[0m \u001b[0;34m=\u001b[0m \u001b[0mlen\u001b[0m\u001b[0;34m(\u001b[0m\u001b[0mself\u001b[0m\u001b[0;34m.\u001b[0m\u001b[0mclasses_\u001b[0m\u001b[0;34m)\u001b[0m\u001b[0;34m\u001b[0m\u001b[0;34m\u001b[0m\u001b[0m\n\u001b[0;32m--> 223\u001b[0;31m     \u001b[0;32mreturn\u001b[0m \u001b[0msuper\u001b[0m\u001b[0;34m(\u001b[0m\u001b[0mKerasClassifier\u001b[0m\u001b[0;34m,\u001b[0m \u001b[0mself\u001b[0m\u001b[0;34m)\u001b[0m\u001b[0;34m.\u001b[0m\u001b[0mfit\u001b[0m\u001b[0;34m(\u001b[0m\u001b[0mx\u001b[0m\u001b[0;34m,\u001b[0m \u001b[0my\u001b[0m\u001b[0;34m,\u001b[0m \u001b[0;34m**\u001b[0m\u001b[0mkwargs\u001b[0m\u001b[0;34m)\u001b[0m\u001b[0;34m\u001b[0m\u001b[0;34m\u001b[0m\u001b[0m\n\u001b[0m\u001b[1;32m    224\u001b[0m \u001b[0;34m\u001b[0m\u001b[0m\n\u001b[1;32m    225\u001b[0m   \u001b[0;32mdef\u001b[0m \u001b[0mpredict\u001b[0m\u001b[0;34m(\u001b[0m\u001b[0mself\u001b[0m\u001b[0;34m,\u001b[0m \u001b[0mx\u001b[0m\u001b[0;34m,\u001b[0m \u001b[0;34m**\u001b[0m\u001b[0mkwargs\u001b[0m\u001b[0;34m)\u001b[0m\u001b[0;34m:\u001b[0m\u001b[0;34m\u001b[0m\u001b[0;34m\u001b[0m\u001b[0m\n",
            "\u001b[0;32m/usr/local/lib/python3.6/dist-packages/tensorflow/python/keras/wrappers/scikit_learn.py\u001b[0m in \u001b[0;36mfit\u001b[0;34m(self, x, y, **kwargs)\u001b[0m\n\u001b[1;32m    164\u001b[0m     \u001b[0mfit_args\u001b[0m\u001b[0;34m.\u001b[0m\u001b[0mupdate\u001b[0m\u001b[0;34m(\u001b[0m\u001b[0mkwargs\u001b[0m\u001b[0;34m)\u001b[0m\u001b[0;34m\u001b[0m\u001b[0;34m\u001b[0m\u001b[0m\n\u001b[1;32m    165\u001b[0m \u001b[0;34m\u001b[0m\u001b[0m\n\u001b[0;32m--> 166\u001b[0;31m     \u001b[0mhistory\u001b[0m \u001b[0;34m=\u001b[0m \u001b[0mself\u001b[0m\u001b[0;34m.\u001b[0m\u001b[0mmodel\u001b[0m\u001b[0;34m.\u001b[0m\u001b[0mfit\u001b[0m\u001b[0;34m(\u001b[0m\u001b[0mx\u001b[0m\u001b[0;34m,\u001b[0m \u001b[0my\u001b[0m\u001b[0;34m,\u001b[0m \u001b[0;34m**\u001b[0m\u001b[0mfit_args\u001b[0m\u001b[0;34m)\u001b[0m\u001b[0;34m\u001b[0m\u001b[0;34m\u001b[0m\u001b[0m\n\u001b[0m\u001b[1;32m    167\u001b[0m \u001b[0;34m\u001b[0m\u001b[0m\n\u001b[1;32m    168\u001b[0m     \u001b[0;32mreturn\u001b[0m \u001b[0mhistory\u001b[0m\u001b[0;34m\u001b[0m\u001b[0;34m\u001b[0m\u001b[0m\n",
            "\u001b[0;32m/usr/local/lib/python3.6/dist-packages/tensorflow/python/keras/engine/training.py\u001b[0m in \u001b[0;36m_method_wrapper\u001b[0;34m(self, *args, **kwargs)\u001b[0m\n\u001b[1;32m    106\u001b[0m   \u001b[0;32mdef\u001b[0m \u001b[0m_method_wrapper\u001b[0m\u001b[0;34m(\u001b[0m\u001b[0mself\u001b[0m\u001b[0;34m,\u001b[0m \u001b[0;34m*\u001b[0m\u001b[0margs\u001b[0m\u001b[0;34m,\u001b[0m \u001b[0;34m**\u001b[0m\u001b[0mkwargs\u001b[0m\u001b[0;34m)\u001b[0m\u001b[0;34m:\u001b[0m\u001b[0;34m\u001b[0m\u001b[0;34m\u001b[0m\u001b[0m\n\u001b[1;32m    107\u001b[0m     \u001b[0;32mif\u001b[0m \u001b[0;32mnot\u001b[0m \u001b[0mself\u001b[0m\u001b[0;34m.\u001b[0m\u001b[0m_in_multi_worker_mode\u001b[0m\u001b[0;34m(\u001b[0m\u001b[0;34m)\u001b[0m\u001b[0;34m:\u001b[0m  \u001b[0;31m# pylint: disable=protected-access\u001b[0m\u001b[0;34m\u001b[0m\u001b[0;34m\u001b[0m\u001b[0m\n\u001b[0;32m--> 108\u001b[0;31m       \u001b[0;32mreturn\u001b[0m \u001b[0mmethod\u001b[0m\u001b[0;34m(\u001b[0m\u001b[0mself\u001b[0m\u001b[0;34m,\u001b[0m \u001b[0;34m*\u001b[0m\u001b[0margs\u001b[0m\u001b[0;34m,\u001b[0m \u001b[0;34m**\u001b[0m\u001b[0mkwargs\u001b[0m\u001b[0;34m)\u001b[0m\u001b[0;34m\u001b[0m\u001b[0;34m\u001b[0m\u001b[0m\n\u001b[0m\u001b[1;32m    109\u001b[0m \u001b[0;34m\u001b[0m\u001b[0m\n\u001b[1;32m    110\u001b[0m     \u001b[0;31m# Running inside `run_distribute_coordinator` already.\u001b[0m\u001b[0;34m\u001b[0m\u001b[0;34m\u001b[0m\u001b[0;34m\u001b[0m\u001b[0m\n",
            "\u001b[0;32m/usr/local/lib/python3.6/dist-packages/tensorflow/python/keras/engine/training.py\u001b[0m in \u001b[0;36mfit\u001b[0;34m(self, x, y, batch_size, epochs, verbose, callbacks, validation_split, validation_data, shuffle, class_weight, sample_weight, initial_epoch, steps_per_epoch, validation_steps, validation_batch_size, validation_freq, max_queue_size, workers, use_multiprocessing)\u001b[0m\n\u001b[1;32m   1096\u001b[0m                 batch_size=batch_size):\n\u001b[1;32m   1097\u001b[0m               \u001b[0mcallbacks\u001b[0m\u001b[0;34m.\u001b[0m\u001b[0mon_train_batch_begin\u001b[0m\u001b[0;34m(\u001b[0m\u001b[0mstep\u001b[0m\u001b[0;34m)\u001b[0m\u001b[0;34m\u001b[0m\u001b[0;34m\u001b[0m\u001b[0m\n\u001b[0;32m-> 1098\u001b[0;31m               \u001b[0mtmp_logs\u001b[0m \u001b[0;34m=\u001b[0m \u001b[0mtrain_function\u001b[0m\u001b[0;34m(\u001b[0m\u001b[0miterator\u001b[0m\u001b[0;34m)\u001b[0m\u001b[0;34m\u001b[0m\u001b[0;34m\u001b[0m\u001b[0m\n\u001b[0m\u001b[1;32m   1099\u001b[0m               \u001b[0;32mif\u001b[0m \u001b[0mdata_handler\u001b[0m\u001b[0;34m.\u001b[0m\u001b[0mshould_sync\u001b[0m\u001b[0;34m:\u001b[0m\u001b[0;34m\u001b[0m\u001b[0;34m\u001b[0m\u001b[0m\n\u001b[1;32m   1100\u001b[0m                 \u001b[0mcontext\u001b[0m\u001b[0;34m.\u001b[0m\u001b[0masync_wait\u001b[0m\u001b[0;34m(\u001b[0m\u001b[0;34m)\u001b[0m\u001b[0;34m\u001b[0m\u001b[0;34m\u001b[0m\u001b[0m\n",
            "\u001b[0;32m/usr/local/lib/python3.6/dist-packages/tensorflow/python/eager/def_function.py\u001b[0m in \u001b[0;36m__call__\u001b[0;34m(self, *args, **kwds)\u001b[0m\n\u001b[1;32m    778\u001b[0m       \u001b[0;32melse\u001b[0m\u001b[0;34m:\u001b[0m\u001b[0;34m\u001b[0m\u001b[0;34m\u001b[0m\u001b[0m\n\u001b[1;32m    779\u001b[0m         \u001b[0mcompiler\u001b[0m \u001b[0;34m=\u001b[0m \u001b[0;34m\"nonXla\"\u001b[0m\u001b[0;34m\u001b[0m\u001b[0;34m\u001b[0m\u001b[0m\n\u001b[0;32m--> 780\u001b[0;31m         \u001b[0mresult\u001b[0m \u001b[0;34m=\u001b[0m \u001b[0mself\u001b[0m\u001b[0;34m.\u001b[0m\u001b[0m_call\u001b[0m\u001b[0;34m(\u001b[0m\u001b[0;34m*\u001b[0m\u001b[0margs\u001b[0m\u001b[0;34m,\u001b[0m \u001b[0;34m**\u001b[0m\u001b[0mkwds\u001b[0m\u001b[0;34m)\u001b[0m\u001b[0;34m\u001b[0m\u001b[0;34m\u001b[0m\u001b[0m\n\u001b[0m\u001b[1;32m    781\u001b[0m \u001b[0;34m\u001b[0m\u001b[0m\n\u001b[1;32m    782\u001b[0m       \u001b[0mnew_tracing_count\u001b[0m \u001b[0;34m=\u001b[0m \u001b[0mself\u001b[0m\u001b[0;34m.\u001b[0m\u001b[0m_get_tracing_count\u001b[0m\u001b[0;34m(\u001b[0m\u001b[0;34m)\u001b[0m\u001b[0;34m\u001b[0m\u001b[0;34m\u001b[0m\u001b[0m\n",
            "\u001b[0;32m/usr/local/lib/python3.6/dist-packages/tensorflow/python/eager/def_function.py\u001b[0m in \u001b[0;36m_call\u001b[0;34m(self, *args, **kwds)\u001b[0m\n\u001b[1;32m    805\u001b[0m       \u001b[0;31m# In this case we have created variables on the first call, so we run the\u001b[0m\u001b[0;34m\u001b[0m\u001b[0;34m\u001b[0m\u001b[0;34m\u001b[0m\u001b[0m\n\u001b[1;32m    806\u001b[0m       \u001b[0;31m# defunned version which is guaranteed to never create variables.\u001b[0m\u001b[0;34m\u001b[0m\u001b[0;34m\u001b[0m\u001b[0;34m\u001b[0m\u001b[0m\n\u001b[0;32m--> 807\u001b[0;31m       \u001b[0;32mreturn\u001b[0m \u001b[0mself\u001b[0m\u001b[0;34m.\u001b[0m\u001b[0m_stateless_fn\u001b[0m\u001b[0;34m(\u001b[0m\u001b[0;34m*\u001b[0m\u001b[0margs\u001b[0m\u001b[0;34m,\u001b[0m \u001b[0;34m**\u001b[0m\u001b[0mkwds\u001b[0m\u001b[0;34m)\u001b[0m  \u001b[0;31m# pylint: disable=not-callable\u001b[0m\u001b[0;34m\u001b[0m\u001b[0;34m\u001b[0m\u001b[0m\n\u001b[0m\u001b[1;32m    808\u001b[0m     \u001b[0;32melif\u001b[0m \u001b[0mself\u001b[0m\u001b[0;34m.\u001b[0m\u001b[0m_stateful_fn\u001b[0m \u001b[0;32mis\u001b[0m \u001b[0;32mnot\u001b[0m \u001b[0;32mNone\u001b[0m\u001b[0;34m:\u001b[0m\u001b[0;34m\u001b[0m\u001b[0;34m\u001b[0m\u001b[0m\n\u001b[1;32m    809\u001b[0m       \u001b[0;31m# Release the lock early so that multiple threads can perform the call\u001b[0m\u001b[0;34m\u001b[0m\u001b[0;34m\u001b[0m\u001b[0;34m\u001b[0m\u001b[0m\n",
            "\u001b[0;32m/usr/local/lib/python3.6/dist-packages/tensorflow/python/eager/function.py\u001b[0m in \u001b[0;36m__call__\u001b[0;34m(self, *args, **kwargs)\u001b[0m\n\u001b[1;32m   2827\u001b[0m     \u001b[0;32mwith\u001b[0m \u001b[0mself\u001b[0m\u001b[0;34m.\u001b[0m\u001b[0m_lock\u001b[0m\u001b[0;34m:\u001b[0m\u001b[0;34m\u001b[0m\u001b[0;34m\u001b[0m\u001b[0m\n\u001b[1;32m   2828\u001b[0m       \u001b[0mgraph_function\u001b[0m\u001b[0;34m,\u001b[0m \u001b[0margs\u001b[0m\u001b[0;34m,\u001b[0m \u001b[0mkwargs\u001b[0m \u001b[0;34m=\u001b[0m \u001b[0mself\u001b[0m\u001b[0;34m.\u001b[0m\u001b[0m_maybe_define_function\u001b[0m\u001b[0;34m(\u001b[0m\u001b[0margs\u001b[0m\u001b[0;34m,\u001b[0m \u001b[0mkwargs\u001b[0m\u001b[0;34m)\u001b[0m\u001b[0;34m\u001b[0m\u001b[0;34m\u001b[0m\u001b[0m\n\u001b[0;32m-> 2829\u001b[0;31m     \u001b[0;32mreturn\u001b[0m \u001b[0mgraph_function\u001b[0m\u001b[0;34m.\u001b[0m\u001b[0m_filtered_call\u001b[0m\u001b[0;34m(\u001b[0m\u001b[0margs\u001b[0m\u001b[0;34m,\u001b[0m \u001b[0mkwargs\u001b[0m\u001b[0;34m)\u001b[0m  \u001b[0;31m# pylint: disable=protected-access\u001b[0m\u001b[0;34m\u001b[0m\u001b[0;34m\u001b[0m\u001b[0m\n\u001b[0m\u001b[1;32m   2830\u001b[0m \u001b[0;34m\u001b[0m\u001b[0m\n\u001b[1;32m   2831\u001b[0m   \u001b[0;34m@\u001b[0m\u001b[0mproperty\u001b[0m\u001b[0;34m\u001b[0m\u001b[0;34m\u001b[0m\u001b[0m\n",
            "\u001b[0;32m/usr/local/lib/python3.6/dist-packages/tensorflow/python/eager/function.py\u001b[0m in \u001b[0;36m_filtered_call\u001b[0;34m(self, args, kwargs, cancellation_manager)\u001b[0m\n\u001b[1;32m   1846\u001b[0m                            resource_variable_ops.BaseResourceVariable))],\n\u001b[1;32m   1847\u001b[0m         \u001b[0mcaptured_inputs\u001b[0m\u001b[0;34m=\u001b[0m\u001b[0mself\u001b[0m\u001b[0;34m.\u001b[0m\u001b[0mcaptured_inputs\u001b[0m\u001b[0;34m,\u001b[0m\u001b[0;34m\u001b[0m\u001b[0;34m\u001b[0m\u001b[0m\n\u001b[0;32m-> 1848\u001b[0;31m         cancellation_manager=cancellation_manager)\n\u001b[0m\u001b[1;32m   1849\u001b[0m \u001b[0;34m\u001b[0m\u001b[0m\n\u001b[1;32m   1850\u001b[0m   \u001b[0;32mdef\u001b[0m \u001b[0m_call_flat\u001b[0m\u001b[0;34m(\u001b[0m\u001b[0mself\u001b[0m\u001b[0;34m,\u001b[0m \u001b[0margs\u001b[0m\u001b[0;34m,\u001b[0m \u001b[0mcaptured_inputs\u001b[0m\u001b[0;34m,\u001b[0m \u001b[0mcancellation_manager\u001b[0m\u001b[0;34m=\u001b[0m\u001b[0;32mNone\u001b[0m\u001b[0;34m)\u001b[0m\u001b[0;34m:\u001b[0m\u001b[0;34m\u001b[0m\u001b[0;34m\u001b[0m\u001b[0m\n",
            "\u001b[0;32m/usr/local/lib/python3.6/dist-packages/tensorflow/python/eager/function.py\u001b[0m in \u001b[0;36m_call_flat\u001b[0;34m(self, args, captured_inputs, cancellation_manager)\u001b[0m\n\u001b[1;32m   1922\u001b[0m       \u001b[0;31m# No tape is watching; skip to running the function.\u001b[0m\u001b[0;34m\u001b[0m\u001b[0;34m\u001b[0m\u001b[0;34m\u001b[0m\u001b[0m\n\u001b[1;32m   1923\u001b[0m       return self._build_call_outputs(self._inference_function.call(\n\u001b[0;32m-> 1924\u001b[0;31m           ctx, args, cancellation_manager=cancellation_manager))\n\u001b[0m\u001b[1;32m   1925\u001b[0m     forward_backward = self._select_forward_and_backward_functions(\n\u001b[1;32m   1926\u001b[0m         \u001b[0margs\u001b[0m\u001b[0;34m,\u001b[0m\u001b[0;34m\u001b[0m\u001b[0;34m\u001b[0m\u001b[0m\n",
            "\u001b[0;32m/usr/local/lib/python3.6/dist-packages/tensorflow/python/eager/function.py\u001b[0m in \u001b[0;36mcall\u001b[0;34m(self, ctx, args, cancellation_manager)\u001b[0m\n\u001b[1;32m    548\u001b[0m               \u001b[0minputs\u001b[0m\u001b[0;34m=\u001b[0m\u001b[0margs\u001b[0m\u001b[0;34m,\u001b[0m\u001b[0;34m\u001b[0m\u001b[0;34m\u001b[0m\u001b[0m\n\u001b[1;32m    549\u001b[0m               \u001b[0mattrs\u001b[0m\u001b[0;34m=\u001b[0m\u001b[0mattrs\u001b[0m\u001b[0;34m,\u001b[0m\u001b[0;34m\u001b[0m\u001b[0;34m\u001b[0m\u001b[0m\n\u001b[0;32m--> 550\u001b[0;31m               ctx=ctx)\n\u001b[0m\u001b[1;32m    551\u001b[0m         \u001b[0;32melse\u001b[0m\u001b[0;34m:\u001b[0m\u001b[0;34m\u001b[0m\u001b[0;34m\u001b[0m\u001b[0m\n\u001b[1;32m    552\u001b[0m           outputs = execute.execute_with_cancellation(\n",
            "\u001b[0;32m/usr/local/lib/python3.6/dist-packages/tensorflow/python/eager/execute.py\u001b[0m in \u001b[0;36mquick_execute\u001b[0;34m(op_name, num_outputs, inputs, attrs, ctx, name)\u001b[0m\n\u001b[1;32m     58\u001b[0m     \u001b[0mctx\u001b[0m\u001b[0;34m.\u001b[0m\u001b[0mensure_initialized\u001b[0m\u001b[0;34m(\u001b[0m\u001b[0;34m)\u001b[0m\u001b[0;34m\u001b[0m\u001b[0;34m\u001b[0m\u001b[0m\n\u001b[1;32m     59\u001b[0m     tensors = pywrap_tfe.TFE_Py_Execute(ctx._handle, device_name, op_name,\n\u001b[0;32m---> 60\u001b[0;31m                                         inputs, attrs, num_outputs)\n\u001b[0m\u001b[1;32m     61\u001b[0m   \u001b[0;32mexcept\u001b[0m \u001b[0mcore\u001b[0m\u001b[0;34m.\u001b[0m\u001b[0m_NotOkStatusException\u001b[0m \u001b[0;32mas\u001b[0m \u001b[0me\u001b[0m\u001b[0;34m:\u001b[0m\u001b[0;34m\u001b[0m\u001b[0;34m\u001b[0m\u001b[0m\n\u001b[1;32m     62\u001b[0m     \u001b[0;32mif\u001b[0m \u001b[0mname\u001b[0m \u001b[0;32mis\u001b[0m \u001b[0;32mnot\u001b[0m \u001b[0;32mNone\u001b[0m\u001b[0;34m:\u001b[0m\u001b[0;34m\u001b[0m\u001b[0;34m\u001b[0m\u001b[0m\n",
            "\u001b[0;31mKeyboardInterrupt\u001b[0m: "
          ]
        }
      ]
    }
  ]
}