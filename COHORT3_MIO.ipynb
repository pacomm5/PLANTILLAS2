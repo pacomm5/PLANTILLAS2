{
  "nbformat": 4,
  "nbformat_minor": 0,
  "metadata": {
    "colab": {
      "name": "COHORT3_MIO.ipynb",
      "provenance": [],
      "mount_file_id": "https://github.com/pacomm5/PLANTILLAS2/blob/main/COHORT3_MIO.ipynb",
      "authorship_tag": "ABX9TyM8FVaix+osN7kxm6BvaIb8",
      "include_colab_link": true
    },
    "kernelspec": {
      "name": "python3",
      "display_name": "Python 3"
    },
    "language_info": {
      "name": "python"
    }
  },
  "cells": [
    {
      "cell_type": "markdown",
      "metadata": {
        "id": "view-in-github",
        "colab_type": "text"
      },
      "source": [
        "<a href=\"https://colab.research.google.com/github/pacomm5/PLANTILLAS2/blob/main/COHORT3_MIO.ipynb\" target=\"_parent\"><img src=\"https://colab.research.google.com/assets/colab-badge.svg\" alt=\"Open In Colab\"/></a>"
      ]
    },
    {
      "cell_type": "code",
      "execution_count": 29,
      "metadata": {
        "id": "VG8Hv_9hZQpP"
      },
      "outputs": [],
      "source": [
        "# EN ESTE EJERCICIO VOY A INTENTAR HACER TODO EN PYTHON.\n",
        "# TRABAJO CON EL ARCHIVO U239_IMPORTADO QUE TENGO EN LA CARPETA DE MACHINE LEARNING. ESTA IMPORTADO DEL U239 ORIGINAL QUE TENGO EN MAESTRO"
      ]
    },
    {
      "cell_type": "code",
      "source": [
        "from google.colab import drive\n",
        "drive.mount('/content/drive')"
      ],
      "metadata": {
        "colab": {
          "base_uri": "https://localhost:8080/"
        },
        "id": "qAPTQ-kEZsHk",
        "outputId": "2b3ea708-4fd3-4d69-cdd5-0c2e0282552b"
      },
      "execution_count": 30,
      "outputs": [
        {
          "output_type": "stream",
          "name": "stdout",
          "text": [
            "Drive already mounted at /content/drive; to attempt to forcibly remount, call drive.mount(\"/content/drive\", force_remount=True).\n"
          ]
        }
      ]
    },
    {
      "cell_type": "code",
      "source": [
        "import pandas as pd"
      ],
      "metadata": {
        "id": "5h_LyK5NZ2w3"
      },
      "execution_count": 31,
      "outputs": []
    },
    {
      "cell_type": "code",
      "source": [
        "\n",
        "\n",
        "xlsx = pd.ExcelFile(\"/content/drive/MyDrive/Colab Notebooks/U239_IMPORTADO.xlsx\") # ESTE EL NOMBRE DE LA RUTA. \n",
        "df = pd.read_excel(xlsx, \"U239_IMPORTADO\" ) # ESTE EL NOMBRE DE LA PESTAÑA. \n",
        "# he descargado el archivo en google drive para no tener que estar cargarlo cada vez que lo utilice. \n"
      ],
      "metadata": {
        "id": "YXiyaDhFe2sv"
      },
      "execution_count": 32,
      "outputs": []
    },
    {
      "cell_type": "code",
      "source": [
        "pd.options.display.max_columns = 0 # con esto n olimitamos que se vean todas las columnas a lo ancho"
      ],
      "metadata": {
        "id": "avcRClvahbJa"
      },
      "execution_count": 33,
      "outputs": []
    },
    {
      "cell_type": "code",
      "source": [
        "df.head()"
      ],
      "metadata": {
        "colab": {
          "base_uri": "https://localhost:8080/",
          "height": 354
        },
        "id": "esGTz3fyfad5",
        "outputId": "956fcb15-cc18-4661-f9c0-a2d3e8d6bdcf"
      },
      "execution_count": 34,
      "outputs": [
        {
          "output_type": "execute_result",
          "data": {
            "text/plain": [
              "   Tall  Referencia   Fecha Fa   Fec.aper  ... MES   AÑO ESTANCIA ORDEN CORTA\n",
              "0     6     7655783 2015-01-02 2014-11-11  ...   1  2015       52      765578\n",
              "1     6     7655784 2015-01-02 2014-11-11  ...   1  2015       52      765578\n",
              "2     6     7655785 2015-01-02 2014-11-11  ...   1  2015       52      765578\n",
              "3     1     7683941 2015-01-02 2014-11-24  ...   1  2015       39      768394\n",
              "4     2     7702661 2015-01-02 2014-12-30  ...   1  2015        3      770266\n",
              "\n",
              "[5 rows x 22 columns]"
            ],
            "text/html": [
              "\n",
              "  <div id=\"df-89920f77-ec52-4761-940d-9ba92cf35cec\">\n",
              "    <div class=\"colab-df-container\">\n",
              "      <div>\n",
              "<style scoped>\n",
              "    .dataframe tbody tr th:only-of-type {\n",
              "        vertical-align: middle;\n",
              "    }\n",
              "\n",
              "    .dataframe tbody tr th {\n",
              "        vertical-align: top;\n",
              "    }\n",
              "\n",
              "    .dataframe thead th {\n",
              "        text-align: right;\n",
              "    }\n",
              "</style>\n",
              "<table border=\"1\" class=\"dataframe\">\n",
              "  <thead>\n",
              "    <tr style=\"text-align: right;\">\n",
              "      <th></th>\n",
              "      <th>Tall</th>\n",
              "      <th>Referencia</th>\n",
              "      <th>Fecha Fa</th>\n",
              "      <th>Fec.aper</th>\n",
              "      <th>Cta.car</th>\n",
              "      <th>Nombre cliente</th>\n",
              "      <th>Cta.tit</th>\n",
              "      <th>Nombre titular</th>\n",
              "      <th>Recamb.</th>\n",
              "      <th>RECAMBIOS PVP</th>\n",
              "      <th>Tiem.fac</th>\n",
              "      <th>Total.MO</th>\n",
              "      <th>Modelo</th>\n",
              "      <th>Recep</th>\n",
              "      <th>Matricula</th>\n",
              "      <th>Bastidor</th>\n",
              "      <th>Tipo O.R.</th>\n",
              "      <th>OR UNICA</th>\n",
              "      <th>MES</th>\n",
              "      <th>AÑO</th>\n",
              "      <th>ESTANCIA</th>\n",
              "      <th>ORDEN CORTA</th>\n",
              "    </tr>\n",
              "  </thead>\n",
              "  <tbody>\n",
              "    <tr>\n",
              "      <th>0</th>\n",
              "      <td>6</td>\n",
              "      <td>7655783</td>\n",
              "      <td>2015-01-02</td>\n",
              "      <td>2014-11-11</td>\n",
              "      <td>116</td>\n",
              "      <td>ORDENES DE REPARACION G</td>\n",
              "      <td>130187</td>\n",
              "      <td>GARCIA VILLAYZAN JOSE E</td>\n",
              "      <td>846.25</td>\n",
              "      <td>2336.55</td>\n",
              "      <td>11.13</td>\n",
              "      <td>788.47</td>\n",
              "      <td>A4 2.0 DIE</td>\n",
              "      <td>56</td>\n",
              "      <td>5249DJV</td>\n",
              "      <td>WAUZZZ8E65A483946</td>\n",
              "      <td>4A GARANTIA MECAN AUDI</td>\n",
              "      <td>NaN</td>\n",
              "      <td>1</td>\n",
              "      <td>2015</td>\n",
              "      <td>52</td>\n",
              "      <td>765578</td>\n",
              "    </tr>\n",
              "    <tr>\n",
              "      <th>1</th>\n",
              "      <td>6</td>\n",
              "      <td>7655784</td>\n",
              "      <td>2015-01-02</td>\n",
              "      <td>2014-11-11</td>\n",
              "      <td>610662</td>\n",
              "      <td>GASTOS ASUMIDOS POR TAL</td>\n",
              "      <td>130187</td>\n",
              "      <td>GARCIA VILLAYZAN JOSE E</td>\n",
              "      <td>16.38</td>\n",
              "      <td>32.76</td>\n",
              "      <td>0.00</td>\n",
              "      <td>0.00</td>\n",
              "      <td>A4 2.0 DIE</td>\n",
              "      <td>56</td>\n",
              "      <td>5249DJV</td>\n",
              "      <td>WAUZZZ8E65A483946</td>\n",
              "      <td>6A O.R. INTER MEC.AUDI</td>\n",
              "      <td>NaN</td>\n",
              "      <td>1</td>\n",
              "      <td>2015</td>\n",
              "      <td>52</td>\n",
              "      <td>765578</td>\n",
              "    </tr>\n",
              "    <tr>\n",
              "      <th>2</th>\n",
              "      <td>6</td>\n",
              "      <td>7655785</td>\n",
              "      <td>2015-01-02</td>\n",
              "      <td>2014-11-11</td>\n",
              "      <td>610662</td>\n",
              "      <td>GASTOS ASUMIDOS POR TAL</td>\n",
              "      <td>130187</td>\n",
              "      <td>GARCIA VILLAYZAN JOSE E</td>\n",
              "      <td>644.11</td>\n",
              "      <td>2134.41</td>\n",
              "      <td>6.77</td>\n",
              "      <td>324.90</td>\n",
              "      <td>A4 2.0 DIE</td>\n",
              "      <td>56</td>\n",
              "      <td>5249DJV</td>\n",
              "      <td>WAUZZZ8E65A483946</td>\n",
              "      <td>DG DEFER.GARANTIA AUDI</td>\n",
              "      <td>NaN</td>\n",
              "      <td>1</td>\n",
              "      <td>2015</td>\n",
              "      <td>52</td>\n",
              "      <td>765578</td>\n",
              "    </tr>\n",
              "    <tr>\n",
              "      <th>3</th>\n",
              "      <td>1</td>\n",
              "      <td>7683941</td>\n",
              "      <td>2015-01-02</td>\n",
              "      <td>2014-11-24</td>\n",
              "      <td>99234</td>\n",
              "      <td>SALVADOR DEL OLMO GERMA</td>\n",
              "      <td>99234</td>\n",
              "      <td>SALVADOR DEL OLMO GERMA</td>\n",
              "      <td>1675.97</td>\n",
              "      <td>3351.94</td>\n",
              "      <td>1.10</td>\n",
              "      <td>84.70</td>\n",
              "      <td>A-4 2.0 TD</td>\n",
              "      <td>272</td>\n",
              "      <td>8087DGN</td>\n",
              "      <td>WAUZZZ8E85A473547</td>\n",
              "      <td>2A O.R.CLIENT MEC AUDI</td>\n",
              "      <td>NaN</td>\n",
              "      <td>1</td>\n",
              "      <td>2015</td>\n",
              "      <td>39</td>\n",
              "      <td>768394</td>\n",
              "    </tr>\n",
              "    <tr>\n",
              "      <th>4</th>\n",
              "      <td>2</td>\n",
              "      <td>7702661</td>\n",
              "      <td>2015-01-02</td>\n",
              "      <td>2014-12-30</td>\n",
              "      <td>71917</td>\n",
              "      <td>RODRIGUEZ RICO MARIA CA</td>\n",
              "      <td>71917</td>\n",
              "      <td>RODRIGUEZ RICO MARIA CA</td>\n",
              "      <td>50.04</td>\n",
              "      <td>116.40</td>\n",
              "      <td>2.10</td>\n",
              "      <td>147.41</td>\n",
              "      <td>POLO 1.4 8</td>\n",
              "      <td>50</td>\n",
              "      <td>8194FBX</td>\n",
              "      <td>WVWZZZ9NZ7Y003242</td>\n",
              "      <td>2V O.R.CLIENT MEC VW</td>\n",
              "      <td>NaN</td>\n",
              "      <td>1</td>\n",
              "      <td>2015</td>\n",
              "      <td>3</td>\n",
              "      <td>770266</td>\n",
              "    </tr>\n",
              "  </tbody>\n",
              "</table>\n",
              "</div>\n",
              "      <button class=\"colab-df-convert\" onclick=\"convertToInteractive('df-89920f77-ec52-4761-940d-9ba92cf35cec')\"\n",
              "              title=\"Convert this dataframe to an interactive table.\"\n",
              "              style=\"display:none;\">\n",
              "        \n",
              "  <svg xmlns=\"http://www.w3.org/2000/svg\" height=\"24px\"viewBox=\"0 0 24 24\"\n",
              "       width=\"24px\">\n",
              "    <path d=\"M0 0h24v24H0V0z\" fill=\"none\"/>\n",
              "    <path d=\"M18.56 5.44l.94 2.06.94-2.06 2.06-.94-2.06-.94-.94-2.06-.94 2.06-2.06.94zm-11 1L8.5 8.5l.94-2.06 2.06-.94-2.06-.94L8.5 2.5l-.94 2.06-2.06.94zm10 10l.94 2.06.94-2.06 2.06-.94-2.06-.94-.94-2.06-.94 2.06-2.06.94z\"/><path d=\"M17.41 7.96l-1.37-1.37c-.4-.4-.92-.59-1.43-.59-.52 0-1.04.2-1.43.59L10.3 9.45l-7.72 7.72c-.78.78-.78 2.05 0 2.83L4 21.41c.39.39.9.59 1.41.59.51 0 1.02-.2 1.41-.59l7.78-7.78 2.81-2.81c.8-.78.8-2.07 0-2.86zM5.41 20L4 18.59l7.72-7.72 1.47 1.35L5.41 20z\"/>\n",
              "  </svg>\n",
              "      </button>\n",
              "      \n",
              "  <style>\n",
              "    .colab-df-container {\n",
              "      display:flex;\n",
              "      flex-wrap:wrap;\n",
              "      gap: 12px;\n",
              "    }\n",
              "\n",
              "    .colab-df-convert {\n",
              "      background-color: #E8F0FE;\n",
              "      border: none;\n",
              "      border-radius: 50%;\n",
              "      cursor: pointer;\n",
              "      display: none;\n",
              "      fill: #1967D2;\n",
              "      height: 32px;\n",
              "      padding: 0 0 0 0;\n",
              "      width: 32px;\n",
              "    }\n",
              "\n",
              "    .colab-df-convert:hover {\n",
              "      background-color: #E2EBFA;\n",
              "      box-shadow: 0px 1px 2px rgba(60, 64, 67, 0.3), 0px 1px 3px 1px rgba(60, 64, 67, 0.15);\n",
              "      fill: #174EA6;\n",
              "    }\n",
              "\n",
              "    [theme=dark] .colab-df-convert {\n",
              "      background-color: #3B4455;\n",
              "      fill: #D2E3FC;\n",
              "    }\n",
              "\n",
              "    [theme=dark] .colab-df-convert:hover {\n",
              "      background-color: #434B5C;\n",
              "      box-shadow: 0px 1px 3px 1px rgba(0, 0, 0, 0.15);\n",
              "      filter: drop-shadow(0px 1px 2px rgba(0, 0, 0, 0.3));\n",
              "      fill: #FFFFFF;\n",
              "    }\n",
              "  </style>\n",
              "\n",
              "      <script>\n",
              "        const buttonEl =\n",
              "          document.querySelector('#df-89920f77-ec52-4761-940d-9ba92cf35cec button.colab-df-convert');\n",
              "        buttonEl.style.display =\n",
              "          google.colab.kernel.accessAllowed ? 'block' : 'none';\n",
              "\n",
              "        async function convertToInteractive(key) {\n",
              "          const element = document.querySelector('#df-89920f77-ec52-4761-940d-9ba92cf35cec');\n",
              "          const dataTable =\n",
              "            await google.colab.kernel.invokeFunction('convertToInteractive',\n",
              "                                                     [key], {});\n",
              "          if (!dataTable) return;\n",
              "\n",
              "          const docLinkHtml = 'Like what you see? Visit the ' +\n",
              "            '<a target=\"_blank\" href=https://colab.research.google.com/notebooks/data_table.ipynb>data table notebook</a>'\n",
              "            + ' to learn more about interactive tables.';\n",
              "          element.innerHTML = '';\n",
              "          dataTable['output_type'] = 'display_data';\n",
              "          await google.colab.output.renderOutput(dataTable, element);\n",
              "          const docLink = document.createElement('div');\n",
              "          docLink.innerHTML = docLinkHtml;\n",
              "          element.appendChild(docLink);\n",
              "        }\n",
              "      </script>\n",
              "    </div>\n",
              "  </div>\n",
              "  "
            ]
          },
          "metadata": {},
          "execution_count": 34
        }
      ]
    },
    {
      "cell_type": "code",
      "source": [
        "df.columns"
      ],
      "metadata": {
        "colab": {
          "base_uri": "https://localhost:8080/"
        },
        "id": "APP4xtU-flz9",
        "outputId": "e8935f12-a62f-4d30-e7d9-09ce2e7c7598"
      },
      "execution_count": 35,
      "outputs": [
        {
          "output_type": "execute_result",
          "data": {
            "text/plain": [
              "Index(['Tall', 'Referencia', 'Fecha Fa', 'Fec.aper', 'Cta.car',\n",
              "       'Nombre cliente', 'Cta.tit', 'Nombre titular', 'Recamb.',\n",
              "       'RECAMBIOS PVP', 'Tiem.fac', 'Total.MO', 'Modelo', 'Recep', 'Matricula',\n",
              "       'Bastidor', 'Tipo O.R.', 'OR UNICA', 'MES', 'AÑO', 'ESTANCIA',\n",
              "       'ORDEN CORTA'],\n",
              "      dtype='object')"
            ]
          },
          "metadata": {},
          "execution_count": 35
        }
      ]
    },
    {
      "cell_type": "code",
      "source": [
        "# voy a cambiar el nombre de algunas columnas. \n",
        "df = df.rename(columns={\"Fecha Fa\":\"Fecha_Fact\", \"Fec.aper\":\"Fecha_Apertura\", \"Cta.car\":\"Cta_Cargo\",\"Nombre cliente\":\"Nombre_Cliente\", \"Cta.tit\":\"Cta_Titular\", \"Nombre titular\":\"Nombre_Titular\", \n",
        "                   \"Recamb.\":\"Recamb\", \"RECAMBIOS PVP\":\"Recamb_Pvp\", \"Tiem.fac\":\"Tiemp_Fact\", \"Total.MO\":\"Total_Mo\", \"Tipo O.R.\":\"Tipo_Or\", \"OR UNICA\": \"Or_Unica\", \"ORDEN CORTA\":\"Orden_Corta\" })\n"
      ],
      "metadata": {
        "id": "Mftp8hb7zwdE"
      },
      "execution_count": 57,
      "outputs": []
    },
    {
      "cell_type": "code",
      "source": [
        "df.columns"
      ],
      "metadata": {
        "id": "oGci7agk34AQ",
        "outputId": "a97e6ca1-8256-4c20-ce95-ac44817c9495",
        "colab": {
          "base_uri": "https://localhost:8080/"
        }
      },
      "execution_count": 59,
      "outputs": [
        {
          "output_type": "execute_result",
          "data": {
            "text/plain": [
              "Index(['Tall', 'Referencia', 'Fecha_Fact', 'Fecha_Apertura', 'Cta_Cargo',\n",
              "       'Nombre_Cliente', 'Cta_Titular', 'Nombre_Titular', 'Recamb',\n",
              "       'Recamb_Pvp', 'Tiemp_Fact', 'Total_Mo', 'Modelo', 'Recep', 'Matricula',\n",
              "       'Bastidor', 'Tipo_Or', 'Or_Unica', 'MES', 'AÑO', 'ESTANCIA',\n",
              "       'Orden_Corta', 'Fact_total', 'Orden_Corta2'],\n",
              "      dtype='object')"
            ]
          },
          "metadata": {},
          "execution_count": 59
        }
      ]
    },
    {
      "cell_type": "code",
      "source": [
        "df.info()"
      ],
      "metadata": {
        "colab": {
          "base_uri": "https://localhost:8080/"
        },
        "id": "TtbpzZ2YgCSv",
        "outputId": "9ef58911-5b5a-4301-fc34-511d7303f81c"
      },
      "execution_count": 58,
      "outputs": [
        {
          "output_type": "stream",
          "name": "stdout",
          "text": [
            "<class 'pandas.core.frame.DataFrame'>\n",
            "Int64Index: 283275 entries, 0 to 287596\n",
            "Data columns (total 24 columns):\n",
            " #   Column          Non-Null Count   Dtype         \n",
            "---  ------          --------------   -----         \n",
            " 0   Tall            283275 non-null  object        \n",
            " 1   Referencia      283275 non-null  object        \n",
            " 2   Fecha_Fact      269577 non-null  datetime64[ns]\n",
            " 3   Fecha_Apertura  283275 non-null  datetime64[ns]\n",
            " 4   Cta_Cargo       283275 non-null  object        \n",
            " 5   Nombre_Cliente  283274 non-null  object        \n",
            " 6   Cta_Titular     283245 non-null  object        \n",
            " 7   Nombre_Titular  283244 non-null  object        \n",
            " 8   Recamb          283275 non-null  float64       \n",
            " 9   Recamb_Pvp      283275 non-null  float64       \n",
            " 10  Tiemp_Fact      283270 non-null  float64       \n",
            " 11  Total_Mo        283275 non-null  float64       \n",
            " 12  Modelo          282008 non-null  object        \n",
            " 13  Recep           283275 non-null  object        \n",
            " 14  Matricula       283275 non-null  object        \n",
            " 15  Bastidor        283235 non-null  object        \n",
            " 16  Tipo_Or         283270 non-null  object        \n",
            " 17  Or_Unica        283275 non-null  object        \n",
            " 18  MES             283275 non-null  int64         \n",
            " 19  AÑO             283275 non-null  int64         \n",
            " 20  ESTANCIA        283275 non-null  int64         \n",
            " 21  Orden_Corta     283275 non-null  object        \n",
            " 22  Fact_total      283275 non-null  float64       \n",
            " 23  Orden_Corta2    283275 non-null  object        \n",
            "dtypes: datetime64[ns](2), float64(5), int64(3), object(14)\n",
            "memory usage: 54.0+ MB\n"
          ]
        }
      ]
    },
    {
      "cell_type": "code",
      "source": [
        "df.columns"
      ],
      "metadata": {
        "id": "AqNaXKAW38Hk",
        "outputId": "96fab2e4-e931-4f12-8047-ec029c8c9a83",
        "colab": {
          "base_uri": "https://localhost:8080/"
        }
      },
      "execution_count": 60,
      "outputs": [
        {
          "output_type": "execute_result",
          "data": {
            "text/plain": [
              "Index(['Tall', 'Referencia', 'Fecha_Fact', 'Fecha_Apertura', 'Cta_Cargo',\n",
              "       'Nombre_Cliente', 'Cta_Titular', 'Nombre_Titular', 'Recamb',\n",
              "       'Recamb_Pvp', 'Tiemp_Fact', 'Total_Mo', 'Modelo', 'Recep', 'Matricula',\n",
              "       'Bastidor', 'Tipo_Or', 'Or_Unica', 'MES', 'AÑO', 'ESTANCIA',\n",
              "       'Orden_Corta', 'Fact_total', 'Orden_Corta2'],\n",
              "      dtype='object')"
            ]
          },
          "metadata": {},
          "execution_count": 60
        }
      ]
    },
    {
      "cell_type": "code",
      "source": [
        "# lo primero que voy a hacer es cambiar de tipo de datos. \n",
        "df[\"Tall\"] = df[\"Tall\"].apply(str)\n",
        "df[\"Referencia\"] = df[\"Referencia\"].apply(str)\n",
        "df[\"Cta_Cargo\"] = df[\"Cta_Cargo\"].apply(str)\n",
        "df[\"Or_Unica\"] = df[\"Or_Unica\"].apply(str)\n",
        "df[\"Orden_Corta\"] = df[\"Orden_Corta\"].apply(str)"
      ],
      "metadata": {
        "id": "aYMxi35KgGr9"
      },
      "execution_count": 61,
      "outputs": []
    },
    {
      "cell_type": "code",
      "source": [
        "df[\"Fact_total\"] = df[\"Total_Mo\"] + df[\"Recamb\"]"
      ],
      "metadata": {
        "id": "SddpMHblgoZJ"
      },
      "execution_count": 62,
      "outputs": []
    },
    {
      "cell_type": "code",
      "source": [
        "df.head()"
      ],
      "metadata": {
        "colab": {
          "base_uri": "https://localhost:8080/",
          "height": 389
        },
        "id": "eUgmJUG5f5Hg",
        "outputId": "b1b9f501-3ef9-479f-dd6d-a830c066a780"
      },
      "execution_count": 63,
      "outputs": [
        {
          "output_type": "execute_result",
          "data": {
            "text/plain": [
              "  Tall Referencia Fecha_Fact  ... Orden_Corta Fact_total Orden_Corta2\n",
              "0    6    7655783 2015-01-02  ...      765578    1634.72       765578\n",
              "1    6    7655784 2015-01-02  ...      765578      16.38       765578\n",
              "2    6    7655785 2015-01-02  ...      765578     969.01       765578\n",
              "3    1    7683941 2015-01-02  ...      768394    1760.67       768394\n",
              "4    2    7702661 2015-01-02  ...      770266     197.45       770266\n",
              "\n",
              "[5 rows x 24 columns]"
            ],
            "text/html": [
              "\n",
              "  <div id=\"df-581d3a1d-d24f-456e-a77b-f77bbf428a1e\">\n",
              "    <div class=\"colab-df-container\">\n",
              "      <div>\n",
              "<style scoped>\n",
              "    .dataframe tbody tr th:only-of-type {\n",
              "        vertical-align: middle;\n",
              "    }\n",
              "\n",
              "    .dataframe tbody tr th {\n",
              "        vertical-align: top;\n",
              "    }\n",
              "\n",
              "    .dataframe thead th {\n",
              "        text-align: right;\n",
              "    }\n",
              "</style>\n",
              "<table border=\"1\" class=\"dataframe\">\n",
              "  <thead>\n",
              "    <tr style=\"text-align: right;\">\n",
              "      <th></th>\n",
              "      <th>Tall</th>\n",
              "      <th>Referencia</th>\n",
              "      <th>Fecha_Fact</th>\n",
              "      <th>Fecha_Apertura</th>\n",
              "      <th>Cta_Cargo</th>\n",
              "      <th>Nombre_Cliente</th>\n",
              "      <th>Cta_Titular</th>\n",
              "      <th>Nombre_Titular</th>\n",
              "      <th>Recamb</th>\n",
              "      <th>Recamb_Pvp</th>\n",
              "      <th>Tiemp_Fact</th>\n",
              "      <th>Total_Mo</th>\n",
              "      <th>Modelo</th>\n",
              "      <th>Recep</th>\n",
              "      <th>Matricula</th>\n",
              "      <th>Bastidor</th>\n",
              "      <th>Tipo_Or</th>\n",
              "      <th>Or_Unica</th>\n",
              "      <th>MES</th>\n",
              "      <th>AÑO</th>\n",
              "      <th>ESTANCIA</th>\n",
              "      <th>Orden_Corta</th>\n",
              "      <th>Fact_total</th>\n",
              "      <th>Orden_Corta2</th>\n",
              "    </tr>\n",
              "  </thead>\n",
              "  <tbody>\n",
              "    <tr>\n",
              "      <th>0</th>\n",
              "      <td>6</td>\n",
              "      <td>7655783</td>\n",
              "      <td>2015-01-02</td>\n",
              "      <td>2014-11-11</td>\n",
              "      <td>116</td>\n",
              "      <td>ORDENES DE REPARACION G</td>\n",
              "      <td>130187</td>\n",
              "      <td>GARCIA VILLAYZAN JOSE E</td>\n",
              "      <td>846.25</td>\n",
              "      <td>2336.55</td>\n",
              "      <td>11.13</td>\n",
              "      <td>788.47</td>\n",
              "      <td>A4 2.0 DIE</td>\n",
              "      <td>56</td>\n",
              "      <td>5249DJV</td>\n",
              "      <td>WAUZZZ8E65A483946</td>\n",
              "      <td>4A GARANTIA MECAN AUDI</td>\n",
              "      <td>nan</td>\n",
              "      <td>1</td>\n",
              "      <td>2015</td>\n",
              "      <td>52</td>\n",
              "      <td>765578</td>\n",
              "      <td>1634.72</td>\n",
              "      <td>765578</td>\n",
              "    </tr>\n",
              "    <tr>\n",
              "      <th>1</th>\n",
              "      <td>6</td>\n",
              "      <td>7655784</td>\n",
              "      <td>2015-01-02</td>\n",
              "      <td>2014-11-11</td>\n",
              "      <td>610662</td>\n",
              "      <td>GASTOS ASUMIDOS POR TAL</td>\n",
              "      <td>130187</td>\n",
              "      <td>GARCIA VILLAYZAN JOSE E</td>\n",
              "      <td>16.38</td>\n",
              "      <td>32.76</td>\n",
              "      <td>0.00</td>\n",
              "      <td>0.00</td>\n",
              "      <td>A4 2.0 DIE</td>\n",
              "      <td>56</td>\n",
              "      <td>5249DJV</td>\n",
              "      <td>WAUZZZ8E65A483946</td>\n",
              "      <td>6A O.R. INTER MEC.AUDI</td>\n",
              "      <td>nan</td>\n",
              "      <td>1</td>\n",
              "      <td>2015</td>\n",
              "      <td>52</td>\n",
              "      <td>765578</td>\n",
              "      <td>16.38</td>\n",
              "      <td>765578</td>\n",
              "    </tr>\n",
              "    <tr>\n",
              "      <th>2</th>\n",
              "      <td>6</td>\n",
              "      <td>7655785</td>\n",
              "      <td>2015-01-02</td>\n",
              "      <td>2014-11-11</td>\n",
              "      <td>610662</td>\n",
              "      <td>GASTOS ASUMIDOS POR TAL</td>\n",
              "      <td>130187</td>\n",
              "      <td>GARCIA VILLAYZAN JOSE E</td>\n",
              "      <td>644.11</td>\n",
              "      <td>2134.41</td>\n",
              "      <td>6.77</td>\n",
              "      <td>324.90</td>\n",
              "      <td>A4 2.0 DIE</td>\n",
              "      <td>56</td>\n",
              "      <td>5249DJV</td>\n",
              "      <td>WAUZZZ8E65A483946</td>\n",
              "      <td>DG DEFER.GARANTIA AUDI</td>\n",
              "      <td>nan</td>\n",
              "      <td>1</td>\n",
              "      <td>2015</td>\n",
              "      <td>52</td>\n",
              "      <td>765578</td>\n",
              "      <td>969.01</td>\n",
              "      <td>765578</td>\n",
              "    </tr>\n",
              "    <tr>\n",
              "      <th>3</th>\n",
              "      <td>1</td>\n",
              "      <td>7683941</td>\n",
              "      <td>2015-01-02</td>\n",
              "      <td>2014-11-24</td>\n",
              "      <td>99234</td>\n",
              "      <td>SALVADOR DEL OLMO GERMA</td>\n",
              "      <td>99234</td>\n",
              "      <td>SALVADOR DEL OLMO GERMA</td>\n",
              "      <td>1675.97</td>\n",
              "      <td>3351.94</td>\n",
              "      <td>1.10</td>\n",
              "      <td>84.70</td>\n",
              "      <td>A-4 2.0 TD</td>\n",
              "      <td>272</td>\n",
              "      <td>8087DGN</td>\n",
              "      <td>WAUZZZ8E85A473547</td>\n",
              "      <td>2A O.R.CLIENT MEC AUDI</td>\n",
              "      <td>nan</td>\n",
              "      <td>1</td>\n",
              "      <td>2015</td>\n",
              "      <td>39</td>\n",
              "      <td>768394</td>\n",
              "      <td>1760.67</td>\n",
              "      <td>768394</td>\n",
              "    </tr>\n",
              "    <tr>\n",
              "      <th>4</th>\n",
              "      <td>2</td>\n",
              "      <td>7702661</td>\n",
              "      <td>2015-01-02</td>\n",
              "      <td>2014-12-30</td>\n",
              "      <td>71917</td>\n",
              "      <td>RODRIGUEZ RICO MARIA CA</td>\n",
              "      <td>71917</td>\n",
              "      <td>RODRIGUEZ RICO MARIA CA</td>\n",
              "      <td>50.04</td>\n",
              "      <td>116.40</td>\n",
              "      <td>2.10</td>\n",
              "      <td>147.41</td>\n",
              "      <td>POLO 1.4 8</td>\n",
              "      <td>50</td>\n",
              "      <td>8194FBX</td>\n",
              "      <td>WVWZZZ9NZ7Y003242</td>\n",
              "      <td>2V O.R.CLIENT MEC VW</td>\n",
              "      <td>nan</td>\n",
              "      <td>1</td>\n",
              "      <td>2015</td>\n",
              "      <td>3</td>\n",
              "      <td>770266</td>\n",
              "      <td>197.45</td>\n",
              "      <td>770266</td>\n",
              "    </tr>\n",
              "  </tbody>\n",
              "</table>\n",
              "</div>\n",
              "      <button class=\"colab-df-convert\" onclick=\"convertToInteractive('df-581d3a1d-d24f-456e-a77b-f77bbf428a1e')\"\n",
              "              title=\"Convert this dataframe to an interactive table.\"\n",
              "              style=\"display:none;\">\n",
              "        \n",
              "  <svg xmlns=\"http://www.w3.org/2000/svg\" height=\"24px\"viewBox=\"0 0 24 24\"\n",
              "       width=\"24px\">\n",
              "    <path d=\"M0 0h24v24H0V0z\" fill=\"none\"/>\n",
              "    <path d=\"M18.56 5.44l.94 2.06.94-2.06 2.06-.94-2.06-.94-.94-2.06-.94 2.06-2.06.94zm-11 1L8.5 8.5l.94-2.06 2.06-.94-2.06-.94L8.5 2.5l-.94 2.06-2.06.94zm10 10l.94 2.06.94-2.06 2.06-.94-2.06-.94-.94-2.06-.94 2.06-2.06.94z\"/><path d=\"M17.41 7.96l-1.37-1.37c-.4-.4-.92-.59-1.43-.59-.52 0-1.04.2-1.43.59L10.3 9.45l-7.72 7.72c-.78.78-.78 2.05 0 2.83L4 21.41c.39.39.9.59 1.41.59.51 0 1.02-.2 1.41-.59l7.78-7.78 2.81-2.81c.8-.78.8-2.07 0-2.86zM5.41 20L4 18.59l7.72-7.72 1.47 1.35L5.41 20z\"/>\n",
              "  </svg>\n",
              "      </button>\n",
              "      \n",
              "  <style>\n",
              "    .colab-df-container {\n",
              "      display:flex;\n",
              "      flex-wrap:wrap;\n",
              "      gap: 12px;\n",
              "    }\n",
              "\n",
              "    .colab-df-convert {\n",
              "      background-color: #E8F0FE;\n",
              "      border: none;\n",
              "      border-radius: 50%;\n",
              "      cursor: pointer;\n",
              "      display: none;\n",
              "      fill: #1967D2;\n",
              "      height: 32px;\n",
              "      padding: 0 0 0 0;\n",
              "      width: 32px;\n",
              "    }\n",
              "\n",
              "    .colab-df-convert:hover {\n",
              "      background-color: #E2EBFA;\n",
              "      box-shadow: 0px 1px 2px rgba(60, 64, 67, 0.3), 0px 1px 3px 1px rgba(60, 64, 67, 0.15);\n",
              "      fill: #174EA6;\n",
              "    }\n",
              "\n",
              "    [theme=dark] .colab-df-convert {\n",
              "      background-color: #3B4455;\n",
              "      fill: #D2E3FC;\n",
              "    }\n",
              "\n",
              "    [theme=dark] .colab-df-convert:hover {\n",
              "      background-color: #434B5C;\n",
              "      box-shadow: 0px 1px 3px 1px rgba(0, 0, 0, 0.15);\n",
              "      filter: drop-shadow(0px 1px 2px rgba(0, 0, 0, 0.3));\n",
              "      fill: #FFFFFF;\n",
              "    }\n",
              "  </style>\n",
              "\n",
              "      <script>\n",
              "        const buttonEl =\n",
              "          document.querySelector('#df-581d3a1d-d24f-456e-a77b-f77bbf428a1e button.colab-df-convert');\n",
              "        buttonEl.style.display =\n",
              "          google.colab.kernel.accessAllowed ? 'block' : 'none';\n",
              "\n",
              "        async function convertToInteractive(key) {\n",
              "          const element = document.querySelector('#df-581d3a1d-d24f-456e-a77b-f77bbf428a1e');\n",
              "          const dataTable =\n",
              "            await google.colab.kernel.invokeFunction('convertToInteractive',\n",
              "                                                     [key], {});\n",
              "          if (!dataTable) return;\n",
              "\n",
              "          const docLinkHtml = 'Like what you see? Visit the ' +\n",
              "            '<a target=\"_blank\" href=https://colab.research.google.com/notebooks/data_table.ipynb>data table notebook</a>'\n",
              "            + ' to learn more about interactive tables.';\n",
              "          element.innerHTML = '';\n",
              "          dataTable['output_type'] = 'display_data';\n",
              "          await google.colab.output.renderOutput(dataTable, element);\n",
              "          const docLink = document.createElement('div');\n",
              "          docLink.innerHTML = docLinkHtml;\n",
              "          element.appendChild(docLink);\n",
              "        }\n",
              "      </script>\n",
              "    </div>\n",
              "  </div>\n",
              "  "
            ]
          },
          "metadata": {},
          "execution_count": 63
        }
      ]
    },
    {
      "cell_type": "code",
      "source": [
        "# de esta manera lo que hago es quitar el último digito de la variable referencia. \n",
        "# lo he hecho para probar como se hace. podría haberlo metido en otra variable y luego meterla en el dataframe para no eliminar información. \n",
        "df[\"Orden_Corta2\"] = df.apply(lambda x: x[\"Referencia\"][:-1], axis=1)"
      ],
      "metadata": {
        "id": "2-Fv7MqIsyN6"
      },
      "execution_count": 64,
      "outputs": []
    },
    {
      "cell_type": "code",
      "source": [
        "df.head()"
      ],
      "metadata": {
        "colab": {
          "base_uri": "https://localhost:8080/",
          "height": 389
        },
        "id": "EQpFeamUtUp9",
        "outputId": "ed0a81a5-713b-40b5-d7a4-3131136a3036"
      },
      "execution_count": 65,
      "outputs": [
        {
          "output_type": "execute_result",
          "data": {
            "text/plain": [
              "  Tall Referencia Fecha_Fact  ... Orden_Corta Fact_total Orden_Corta2\n",
              "0    6    7655783 2015-01-02  ...      765578    1634.72       765578\n",
              "1    6    7655784 2015-01-02  ...      765578      16.38       765578\n",
              "2    6    7655785 2015-01-02  ...      765578     969.01       765578\n",
              "3    1    7683941 2015-01-02  ...      768394    1760.67       768394\n",
              "4    2    7702661 2015-01-02  ...      770266     197.45       770266\n",
              "\n",
              "[5 rows x 24 columns]"
            ],
            "text/html": [
              "\n",
              "  <div id=\"df-387c8a63-3606-4112-b9cd-7fa18fe48bb7\">\n",
              "    <div class=\"colab-df-container\">\n",
              "      <div>\n",
              "<style scoped>\n",
              "    .dataframe tbody tr th:only-of-type {\n",
              "        vertical-align: middle;\n",
              "    }\n",
              "\n",
              "    .dataframe tbody tr th {\n",
              "        vertical-align: top;\n",
              "    }\n",
              "\n",
              "    .dataframe thead th {\n",
              "        text-align: right;\n",
              "    }\n",
              "</style>\n",
              "<table border=\"1\" class=\"dataframe\">\n",
              "  <thead>\n",
              "    <tr style=\"text-align: right;\">\n",
              "      <th></th>\n",
              "      <th>Tall</th>\n",
              "      <th>Referencia</th>\n",
              "      <th>Fecha_Fact</th>\n",
              "      <th>Fecha_Apertura</th>\n",
              "      <th>Cta_Cargo</th>\n",
              "      <th>Nombre_Cliente</th>\n",
              "      <th>Cta_Titular</th>\n",
              "      <th>Nombre_Titular</th>\n",
              "      <th>Recamb</th>\n",
              "      <th>Recamb_Pvp</th>\n",
              "      <th>Tiemp_Fact</th>\n",
              "      <th>Total_Mo</th>\n",
              "      <th>Modelo</th>\n",
              "      <th>Recep</th>\n",
              "      <th>Matricula</th>\n",
              "      <th>Bastidor</th>\n",
              "      <th>Tipo_Or</th>\n",
              "      <th>Or_Unica</th>\n",
              "      <th>MES</th>\n",
              "      <th>AÑO</th>\n",
              "      <th>ESTANCIA</th>\n",
              "      <th>Orden_Corta</th>\n",
              "      <th>Fact_total</th>\n",
              "      <th>Orden_Corta2</th>\n",
              "    </tr>\n",
              "  </thead>\n",
              "  <tbody>\n",
              "    <tr>\n",
              "      <th>0</th>\n",
              "      <td>6</td>\n",
              "      <td>7655783</td>\n",
              "      <td>2015-01-02</td>\n",
              "      <td>2014-11-11</td>\n",
              "      <td>116</td>\n",
              "      <td>ORDENES DE REPARACION G</td>\n",
              "      <td>130187</td>\n",
              "      <td>GARCIA VILLAYZAN JOSE E</td>\n",
              "      <td>846.25</td>\n",
              "      <td>2336.55</td>\n",
              "      <td>11.13</td>\n",
              "      <td>788.47</td>\n",
              "      <td>A4 2.0 DIE</td>\n",
              "      <td>56</td>\n",
              "      <td>5249DJV</td>\n",
              "      <td>WAUZZZ8E65A483946</td>\n",
              "      <td>4A GARANTIA MECAN AUDI</td>\n",
              "      <td>nan</td>\n",
              "      <td>1</td>\n",
              "      <td>2015</td>\n",
              "      <td>52</td>\n",
              "      <td>765578</td>\n",
              "      <td>1634.72</td>\n",
              "      <td>765578</td>\n",
              "    </tr>\n",
              "    <tr>\n",
              "      <th>1</th>\n",
              "      <td>6</td>\n",
              "      <td>7655784</td>\n",
              "      <td>2015-01-02</td>\n",
              "      <td>2014-11-11</td>\n",
              "      <td>610662</td>\n",
              "      <td>GASTOS ASUMIDOS POR TAL</td>\n",
              "      <td>130187</td>\n",
              "      <td>GARCIA VILLAYZAN JOSE E</td>\n",
              "      <td>16.38</td>\n",
              "      <td>32.76</td>\n",
              "      <td>0.00</td>\n",
              "      <td>0.00</td>\n",
              "      <td>A4 2.0 DIE</td>\n",
              "      <td>56</td>\n",
              "      <td>5249DJV</td>\n",
              "      <td>WAUZZZ8E65A483946</td>\n",
              "      <td>6A O.R. INTER MEC.AUDI</td>\n",
              "      <td>nan</td>\n",
              "      <td>1</td>\n",
              "      <td>2015</td>\n",
              "      <td>52</td>\n",
              "      <td>765578</td>\n",
              "      <td>16.38</td>\n",
              "      <td>765578</td>\n",
              "    </tr>\n",
              "    <tr>\n",
              "      <th>2</th>\n",
              "      <td>6</td>\n",
              "      <td>7655785</td>\n",
              "      <td>2015-01-02</td>\n",
              "      <td>2014-11-11</td>\n",
              "      <td>610662</td>\n",
              "      <td>GASTOS ASUMIDOS POR TAL</td>\n",
              "      <td>130187</td>\n",
              "      <td>GARCIA VILLAYZAN JOSE E</td>\n",
              "      <td>644.11</td>\n",
              "      <td>2134.41</td>\n",
              "      <td>6.77</td>\n",
              "      <td>324.90</td>\n",
              "      <td>A4 2.0 DIE</td>\n",
              "      <td>56</td>\n",
              "      <td>5249DJV</td>\n",
              "      <td>WAUZZZ8E65A483946</td>\n",
              "      <td>DG DEFER.GARANTIA AUDI</td>\n",
              "      <td>nan</td>\n",
              "      <td>1</td>\n",
              "      <td>2015</td>\n",
              "      <td>52</td>\n",
              "      <td>765578</td>\n",
              "      <td>969.01</td>\n",
              "      <td>765578</td>\n",
              "    </tr>\n",
              "    <tr>\n",
              "      <th>3</th>\n",
              "      <td>1</td>\n",
              "      <td>7683941</td>\n",
              "      <td>2015-01-02</td>\n",
              "      <td>2014-11-24</td>\n",
              "      <td>99234</td>\n",
              "      <td>SALVADOR DEL OLMO GERMA</td>\n",
              "      <td>99234</td>\n",
              "      <td>SALVADOR DEL OLMO GERMA</td>\n",
              "      <td>1675.97</td>\n",
              "      <td>3351.94</td>\n",
              "      <td>1.10</td>\n",
              "      <td>84.70</td>\n",
              "      <td>A-4 2.0 TD</td>\n",
              "      <td>272</td>\n",
              "      <td>8087DGN</td>\n",
              "      <td>WAUZZZ8E85A473547</td>\n",
              "      <td>2A O.R.CLIENT MEC AUDI</td>\n",
              "      <td>nan</td>\n",
              "      <td>1</td>\n",
              "      <td>2015</td>\n",
              "      <td>39</td>\n",
              "      <td>768394</td>\n",
              "      <td>1760.67</td>\n",
              "      <td>768394</td>\n",
              "    </tr>\n",
              "    <tr>\n",
              "      <th>4</th>\n",
              "      <td>2</td>\n",
              "      <td>7702661</td>\n",
              "      <td>2015-01-02</td>\n",
              "      <td>2014-12-30</td>\n",
              "      <td>71917</td>\n",
              "      <td>RODRIGUEZ RICO MARIA CA</td>\n",
              "      <td>71917</td>\n",
              "      <td>RODRIGUEZ RICO MARIA CA</td>\n",
              "      <td>50.04</td>\n",
              "      <td>116.40</td>\n",
              "      <td>2.10</td>\n",
              "      <td>147.41</td>\n",
              "      <td>POLO 1.4 8</td>\n",
              "      <td>50</td>\n",
              "      <td>8194FBX</td>\n",
              "      <td>WVWZZZ9NZ7Y003242</td>\n",
              "      <td>2V O.R.CLIENT MEC VW</td>\n",
              "      <td>nan</td>\n",
              "      <td>1</td>\n",
              "      <td>2015</td>\n",
              "      <td>3</td>\n",
              "      <td>770266</td>\n",
              "      <td>197.45</td>\n",
              "      <td>770266</td>\n",
              "    </tr>\n",
              "  </tbody>\n",
              "</table>\n",
              "</div>\n",
              "      <button class=\"colab-df-convert\" onclick=\"convertToInteractive('df-387c8a63-3606-4112-b9cd-7fa18fe48bb7')\"\n",
              "              title=\"Convert this dataframe to an interactive table.\"\n",
              "              style=\"display:none;\">\n",
              "        \n",
              "  <svg xmlns=\"http://www.w3.org/2000/svg\" height=\"24px\"viewBox=\"0 0 24 24\"\n",
              "       width=\"24px\">\n",
              "    <path d=\"M0 0h24v24H0V0z\" fill=\"none\"/>\n",
              "    <path d=\"M18.56 5.44l.94 2.06.94-2.06 2.06-.94-2.06-.94-.94-2.06-.94 2.06-2.06.94zm-11 1L8.5 8.5l.94-2.06 2.06-.94-2.06-.94L8.5 2.5l-.94 2.06-2.06.94zm10 10l.94 2.06.94-2.06 2.06-.94-2.06-.94-.94-2.06-.94 2.06-2.06.94z\"/><path d=\"M17.41 7.96l-1.37-1.37c-.4-.4-.92-.59-1.43-.59-.52 0-1.04.2-1.43.59L10.3 9.45l-7.72 7.72c-.78.78-.78 2.05 0 2.83L4 21.41c.39.39.9.59 1.41.59.51 0 1.02-.2 1.41-.59l7.78-7.78 2.81-2.81c.8-.78.8-2.07 0-2.86zM5.41 20L4 18.59l7.72-7.72 1.47 1.35L5.41 20z\"/>\n",
              "  </svg>\n",
              "      </button>\n",
              "      \n",
              "  <style>\n",
              "    .colab-df-container {\n",
              "      display:flex;\n",
              "      flex-wrap:wrap;\n",
              "      gap: 12px;\n",
              "    }\n",
              "\n",
              "    .colab-df-convert {\n",
              "      background-color: #E8F0FE;\n",
              "      border: none;\n",
              "      border-radius: 50%;\n",
              "      cursor: pointer;\n",
              "      display: none;\n",
              "      fill: #1967D2;\n",
              "      height: 32px;\n",
              "      padding: 0 0 0 0;\n",
              "      width: 32px;\n",
              "    }\n",
              "\n",
              "    .colab-df-convert:hover {\n",
              "      background-color: #E2EBFA;\n",
              "      box-shadow: 0px 1px 2px rgba(60, 64, 67, 0.3), 0px 1px 3px 1px rgba(60, 64, 67, 0.15);\n",
              "      fill: #174EA6;\n",
              "    }\n",
              "\n",
              "    [theme=dark] .colab-df-convert {\n",
              "      background-color: #3B4455;\n",
              "      fill: #D2E3FC;\n",
              "    }\n",
              "\n",
              "    [theme=dark] .colab-df-convert:hover {\n",
              "      background-color: #434B5C;\n",
              "      box-shadow: 0px 1px 3px 1px rgba(0, 0, 0, 0.15);\n",
              "      filter: drop-shadow(0px 1px 2px rgba(0, 0, 0, 0.3));\n",
              "      fill: #FFFFFF;\n",
              "    }\n",
              "  </style>\n",
              "\n",
              "      <script>\n",
              "        const buttonEl =\n",
              "          document.querySelector('#df-387c8a63-3606-4112-b9cd-7fa18fe48bb7 button.colab-df-convert');\n",
              "        buttonEl.style.display =\n",
              "          google.colab.kernel.accessAllowed ? 'block' : 'none';\n",
              "\n",
              "        async function convertToInteractive(key) {\n",
              "          const element = document.querySelector('#df-387c8a63-3606-4112-b9cd-7fa18fe48bb7');\n",
              "          const dataTable =\n",
              "            await google.colab.kernel.invokeFunction('convertToInteractive',\n",
              "                                                     [key], {});\n",
              "          if (!dataTable) return;\n",
              "\n",
              "          const docLinkHtml = 'Like what you see? Visit the ' +\n",
              "            '<a target=\"_blank\" href=https://colab.research.google.com/notebooks/data_table.ipynb>data table notebook</a>'\n",
              "            + ' to learn more about interactive tables.';\n",
              "          element.innerHTML = '';\n",
              "          dataTable['output_type'] = 'display_data';\n",
              "          await google.colab.output.renderOutput(dataTable, element);\n",
              "          const docLink = document.createElement('div');\n",
              "          docLink.innerHTML = docLinkHtml;\n",
              "          element.appendChild(docLink);\n",
              "        }\n",
              "      </script>\n",
              "    </div>\n",
              "  </div>\n",
              "  "
            ]
          },
          "metadata": {},
          "execution_count": 65
        }
      ]
    },
    {
      "cell_type": "code",
      "source": [
        "df.shape"
      ],
      "metadata": {
        "colab": {
          "base_uri": "https://localhost:8080/"
        },
        "id": "_Mx4t6mmtaGA",
        "outputId": "fd86f42d-7c47-4fb8-b7d3-9fa5ccaa3afe"
      },
      "execution_count": 66,
      "outputs": [
        {
          "output_type": "execute_result",
          "data": {
            "text/plain": [
              "(283275, 24)"
            ]
          },
          "metadata": {},
          "execution_count": 66
        }
      ]
    },
    {
      "cell_type": "code",
      "source": [
        "df.isnull().sum() # como podemos veer debajo tenemos 13.698 filas sin fecha de facturación. estas las voy a quitar. Lo haremos mas adelante. "
      ],
      "metadata": {
        "colab": {
          "base_uri": "https://localhost:8080/"
        },
        "id": "klYHCjIvuwm5",
        "outputId": "b309c25d-275d-4130-ef6b-a429f7c4a3cc"
      },
      "execution_count": 67,
      "outputs": [
        {
          "output_type": "execute_result",
          "data": {
            "text/plain": [
              "Tall                  0\n",
              "Referencia            0\n",
              "Fecha_Fact        13698\n",
              "Fecha_Apertura        0\n",
              "Cta_Cargo             0\n",
              "Nombre_Cliente        1\n",
              "Cta_Titular          30\n",
              "Nombre_Titular       31\n",
              "Recamb                0\n",
              "Recamb_Pvp            0\n",
              "Tiemp_Fact            5\n",
              "Total_Mo              0\n",
              "Modelo             1267\n",
              "Recep                 0\n",
              "Matricula             0\n",
              "Bastidor             40\n",
              "Tipo_Or               5\n",
              "Or_Unica              0\n",
              "MES                   0\n",
              "AÑO                   0\n",
              "ESTANCIA              0\n",
              "Orden_Corta           0\n",
              "Fact_total            0\n",
              "Orden_Corta2          0\n",
              "dtype: int64"
            ]
          },
          "metadata": {},
          "execution_count": 67
        }
      ]
    },
    {
      "cell_type": "code",
      "source": [
        "df.Orden_Corta2.nunique() # este es número total de ordenes cortas, por lo tanto de pasos. "
      ],
      "metadata": {
        "colab": {
          "base_uri": "https://localhost:8080/"
        },
        "id": "K5GjDeOuvaH_",
        "outputId": "25be1023-e506-42d8-cdd8-04ab7dcf5ccb"
      },
      "execution_count": 68,
      "outputs": [
        {
          "output_type": "execute_result",
          "data": {
            "text/plain": [
              "188811"
            ]
          },
          "metadata": {},
          "execution_count": 68
        }
      ]
    },
    {
      "cell_type": "code",
      "source": [
        "df.Bastidor.nunique() # tenemos 58.809 vehículos bastidores diferentes. "
      ],
      "metadata": {
        "colab": {
          "base_uri": "https://localhost:8080/"
        },
        "id": "uGeXDAYxwYxq",
        "outputId": "38e2b8ab-0f1f-43a6-f6b7-1eb68b2f795e"
      },
      "execution_count": 69,
      "outputs": [
        {
          "output_type": "execute_result",
          "data": {
            "text/plain": [
              "58798"
            ]
          },
          "metadata": {},
          "execution_count": 69
        }
      ]
    },
    {
      "cell_type": "code",
      "source": [
        "df.Fact_total.describe() # aquí tenemos los estadísticos de facturación total. vemos valores negativos que serán los abonos. "
      ],
      "metadata": {
        "colab": {
          "base_uri": "https://localhost:8080/"
        },
        "id": "jvkmoPy3wuvO",
        "outputId": "33681bb8-2f9d-4695-a121-07a3519ea429"
      },
      "execution_count": 70,
      "outputs": [
        {
          "output_type": "execute_result",
          "data": {
            "text/plain": [
              "count    283275.000000\n",
              "mean        389.008590\n",
              "std         786.283091\n",
              "min           0.000000\n",
              "25%          64.680000\n",
              "50%         202.960000\n",
              "75%         435.235000\n",
              "max       32716.440000\n",
              "Name: Fact_total, dtype: float64"
            ]
          },
          "metadata": {},
          "execution_count": 70
        }
      ]
    },
    {
      "cell_type": "code",
      "source": [
        "df = df[df[\"Fact_total\"]>=0] # quitamos todas las ordenes que sean negativas. \n",
        "df.shape"
      ],
      "metadata": {
        "colab": {
          "base_uri": "https://localhost:8080/"
        },
        "id": "F5DnG8zqyDL3",
        "outputId": "370deab1-43b0-4f16-c514-28ae21b0feda"
      },
      "execution_count": 50,
      "outputs": [
        {
          "output_type": "execute_result",
          "data": {
            "text/plain": [
              "(283275, 24)"
            ]
          },
          "metadata": {},
          "execution_count": 50
        }
      ]
    },
    {
      "cell_type": "code",
      "source": [
        "print(\"la fecha va desde {} a {}\".format(df.Fecha_Apertura.min(), df.Fecha_Apertura.max()))"
      ],
      "metadata": {
        "colab": {
          "base_uri": "https://localhost:8080/"
        },
        "id": "bIYU7QOVyplv",
        "outputId": "eeae1205-9561-4ecb-90c0-23cf6b7016b8"
      },
      "execution_count": 71,
      "outputs": [
        {
          "output_type": "stream",
          "name": "stdout",
          "text": [
            "la fecha va desde 2004-04-11 00:00:00 a 2022-06-29 00:00:00\n"
          ]
        }
      ]
    },
    {
      "cell_type": "code",
      "source": [
        "df.Fact_total.describe(percentiles=[0.25, 0.5, 0.75, 0.9, 0.95, 0.99])"
      ],
      "metadata": {
        "id": "fkEsjgds5S0N",
        "outputId": "6ab162c7-a222-4d11-ddc3-36221c8ea29c",
        "colab": {
          "base_uri": "https://localhost:8080/"
        }
      },
      "execution_count": 72,
      "outputs": [
        {
          "output_type": "execute_result",
          "data": {
            "text/plain": [
              "count    283275.000000\n",
              "mean        389.008590\n",
              "std         786.283091\n",
              "min           0.000000\n",
              "25%          64.680000\n",
              "50%         202.960000\n",
              "75%         435.235000\n",
              "90%         822.372000\n",
              "95%        1265.014000\n",
              "99%        3159.162000\n",
              "max       32716.440000\n",
              "Name: Fact_total, dtype: float64"
            ]
          },
          "metadata": {},
          "execution_count": 72
        }
      ]
    },
    {
      "cell_type": "code",
      "source": [
        "df.Bastidor.nunique() # por ahora después de la limpieza tenemos 58.798 clientes o bastidores. "
      ],
      "metadata": {
        "id": "wOG8Qgbr5uv7",
        "outputId": "78ace7d5-8ee5-4f9a-da53-d3d09209a413",
        "colab": {
          "base_uri": "https://localhost:8080/"
        }
      },
      "execution_count": 73,
      "outputs": [
        {
          "output_type": "execute_result",
          "data": {
            "text/plain": [
              "58798"
            ]
          },
          "metadata": {},
          "execution_count": 73
        }
      ]
    },
    {
      "cell_type": "code",
      "source": [
        "df.Tipo_Or.value_counts(normalize=True) # por numero de lineas, debajo están los pesos. "
      ],
      "metadata": {
        "id": "wjRRWsXm59t7",
        "outputId": "38cd5970-195c-475c-ed9b-75aa1dc3979f",
        "colab": {
          "base_uri": "https://localhost:8080/"
        }
      },
      "execution_count": 74,
      "outputs": [
        {
          "output_type": "execute_result",
          "data": {
            "text/plain": [
              "2A O.R.CLIENT MEC AUDI       0.189893\n",
              "2V O.R.CLIENT MEC VW         0.135030\n",
              "6A O.R. INTER MEC.AUDI       0.110859\n",
              "7A PRESUPUESTO CH AUDI       0.104349\n",
              "4A GARANTIA MECAN AUDI       0.091888\n",
              "6V O.R. INTER MEC.VW         0.076736\n",
              "7V PRESUPUESTO CH VW         0.069676\n",
              "4V GARANTIA MECAN VW         0.058990\n",
              "11LV O.R. MEC VW LONG DRI    0.030279\n",
              "2A O.R.CLIENT MEC AUDI-CO    0.027606\n",
              "11LA O.R. MEC AU LONG DRI    0.024983\n",
              "5A O.R. INTER CH AUDI        0.018816\n",
              "2V O.R.CLIENT MEC VW-CONT    0.017873\n",
              "5V O.R. INTER CH VW          0.010615\n",
              "7LA PRES  AU CH  LONG DRI    0.004275\n",
              "6L O.R. INTER MEC LCV        0.003537\n",
              "1A O.R.CLIENT CH AUDI        0.003100\n",
              "2L O.R.CLIENT MEC LCV        0.002404\n",
              "DG DEFER.GARANTIA AUDI       0.002372\n",
              "2RA O.R.CLIENT MEC AUDI -    0.002369\n",
              "7LV PRES  VW CH  LONG DRI    0.002164\n",
              "12LA O.R. MEC AU VW RENTI    0.002051\n",
              "2RV O.R.CLIENT MEC VW-CRE    0.001659\n",
              "GD DEFER.GARANTIA MECAN V    0.001613\n",
              "4L GARANTIA MECAN LCV        0.001599\n",
              "1V O.R.CLIENT CH VW          0.001116\n",
              "12LV O.R. MEC VW VW RENTI    0.001066\n",
              "2L O.R.CLIENT MEC LCV-CON    0.000830\n",
              "11LL O.R. MEC LCV LONG DR    0.000763\n",
              "7L PRESUPUESTO CH LCV        0.000741\n",
              "2RL O.R.CLIENT MEC LCV-CR    0.000169\n",
              "5L O.R. INTER CH LCV         0.000141\n",
              "12LL O.R. MEC LCV VW RENT    0.000141\n",
              "7LL PRES  LCV  CH  LONG D    0.000106\n",
              "2Q CLIENTE AUDI A8/Q7        0.000102\n",
              "GL DEFER.GARANTIA MECAN L    0.000035\n",
              "1L O.R.CLIENT CH LCV         0.000035\n",
              "2P CLIENTE PHAETON/TOUA      0.000014\n",
              "2AR O.R.ACC.RENTING AU       0.000004\n",
              "Name: Tipo_Or, dtype: float64"
            ]
          },
          "metadata": {},
          "execution_count": 74
        }
      ]
    },
    {
      "cell_type": "code",
      "source": [
        "df.Tipo_Or.nunique() # tenemos 39 tipos de ordenes. "
      ],
      "metadata": {
        "id": "RXuSix1U6P7w",
        "outputId": "5c7f287e-98f6-43ff-e029-2c8dbdcb6e27",
        "colab": {
          "base_uri": "https://localhost:8080/"
        }
      },
      "execution_count": 75,
      "outputs": [
        {
          "output_type": "execute_result",
          "data": {
            "text/plain": [
              "39"
            ]
          },
          "metadata": {},
          "execution_count": 75
        }
      ]
    },
    {
      "cell_type": "code",
      "source": [
        "# voy a quitar las internas. \n",
        "df[df[\"Tipo_Or\"].str.startswith(\"5\" or \"6\")==True]"
      ],
      "metadata": {
        "id": "j8lFJCGA6vI9",
        "outputId": "cd5db3b8-c95d-41f5-d593-8bee9b8fcf92",
        "colab": {
          "base_uri": "https://localhost:8080/",
          "height": 904
        }
      },
      "execution_count": 77,
      "outputs": [
        {
          "output_type": "execute_result",
          "data": {
            "text/plain": [
              "       Tall Referencia Fecha_Fact  ... Orden_Corta Fact_total Orden_Corta2\n",
              "84        2    7572432 2015-01-07  ...      757243     960.00       757243\n",
              "86        2    7572435 2015-01-07  ...      757243     300.00       757243\n",
              "90        2    7640901 2015-01-07  ...      764090     302.68       764090\n",
              "101       2    7706961 2015-01-07  ...      770696     150.55       770696\n",
              "146       2    7739221 2015-01-07  ...      773922     371.97       773922\n",
              "...     ...        ...        ...  ...         ...        ...          ...\n",
              "287500    8   13829451 2022-06-27  ...     1382945      48.00      1382945\n",
              "287506    6   13830371 2022-06-28  ...     1383037      70.50      1383037\n",
              "287513    6   13831721 2022-06-29  ...     1383172     192.00      1383172\n",
              "287514    8   13831741 2022-06-29  ...     1383174      60.00      1383174\n",
              "287584    1   13837151 2022-06-28  ...     1383715     131.04      1383715\n",
              "\n",
              "[8377 rows x 24 columns]"
            ],
            "text/html": [
              "\n",
              "  <div id=\"df-9a0159f7-b7d4-4c3b-8548-4fb50bc7951d\">\n",
              "    <div class=\"colab-df-container\">\n",
              "      <div>\n",
              "<style scoped>\n",
              "    .dataframe tbody tr th:only-of-type {\n",
              "        vertical-align: middle;\n",
              "    }\n",
              "\n",
              "    .dataframe tbody tr th {\n",
              "        vertical-align: top;\n",
              "    }\n",
              "\n",
              "    .dataframe thead th {\n",
              "        text-align: right;\n",
              "    }\n",
              "</style>\n",
              "<table border=\"1\" class=\"dataframe\">\n",
              "  <thead>\n",
              "    <tr style=\"text-align: right;\">\n",
              "      <th></th>\n",
              "      <th>Tall</th>\n",
              "      <th>Referencia</th>\n",
              "      <th>Fecha_Fact</th>\n",
              "      <th>Fecha_Apertura</th>\n",
              "      <th>Cta_Cargo</th>\n",
              "      <th>Nombre_Cliente</th>\n",
              "      <th>Cta_Titular</th>\n",
              "      <th>Nombre_Titular</th>\n",
              "      <th>Recamb</th>\n",
              "      <th>Recamb_Pvp</th>\n",
              "      <th>Tiemp_Fact</th>\n",
              "      <th>Total_Mo</th>\n",
              "      <th>Modelo</th>\n",
              "      <th>Recep</th>\n",
              "      <th>Matricula</th>\n",
              "      <th>Bastidor</th>\n",
              "      <th>Tipo_Or</th>\n",
              "      <th>Or_Unica</th>\n",
              "      <th>MES</th>\n",
              "      <th>AÑO</th>\n",
              "      <th>ESTANCIA</th>\n",
              "      <th>Orden_Corta</th>\n",
              "      <th>Fact_total</th>\n",
              "      <th>Orden_Corta2</th>\n",
              "    </tr>\n",
              "  </thead>\n",
              "  <tbody>\n",
              "    <tr>\n",
              "      <th>84</th>\n",
              "      <td>2</td>\n",
              "      <td>7572432</td>\n",
              "      <td>2015-01-07</td>\n",
              "      <td>2014-09-30</td>\n",
              "      <td>610431</td>\n",
              "      <td>REACONDICIONAMIENTO V.O</td>\n",
              "      <td>120</td>\n",
              "      <td>TORRES DE LA PEÑA JOAQU</td>\n",
              "      <td>0.00</td>\n",
              "      <td>0.00</td>\n",
              "      <td>26.00</td>\n",
              "      <td>960.00</td>\n",
              "      <td>TIGUAN 2.0</td>\n",
              "      <td>255</td>\n",
              "      <td>1243HDV</td>\n",
              "      <td>WVGZZZ5NZBW562392</td>\n",
              "      <td>5V O.R. INTER CH VW</td>\n",
              "      <td>nan</td>\n",
              "      <td>1</td>\n",
              "      <td>2015</td>\n",
              "      <td>99</td>\n",
              "      <td>757243</td>\n",
              "      <td>960.00</td>\n",
              "      <td>757243</td>\n",
              "    </tr>\n",
              "    <tr>\n",
              "      <th>86</th>\n",
              "      <td>2</td>\n",
              "      <td>7572435</td>\n",
              "      <td>2015-01-07</td>\n",
              "      <td>2014-09-30</td>\n",
              "      <td>610624</td>\n",
              "      <td>REACONDICIONAMIENTO V.D</td>\n",
              "      <td>120</td>\n",
              "      <td>TORRES DE LA PEÑA JOAQU</td>\n",
              "      <td>0.00</td>\n",
              "      <td>0.00</td>\n",
              "      <td>6.25</td>\n",
              "      <td>300.00</td>\n",
              "      <td>TIGUAN 2.0</td>\n",
              "      <td>255</td>\n",
              "      <td>1243HDV</td>\n",
              "      <td>WVGZZZ5NZBW562392</td>\n",
              "      <td>5A O.R. INTER CH AUDI</td>\n",
              "      <td>nan</td>\n",
              "      <td>1</td>\n",
              "      <td>2015</td>\n",
              "      <td>99</td>\n",
              "      <td>757243</td>\n",
              "      <td>300.00</td>\n",
              "      <td>757243</td>\n",
              "    </tr>\n",
              "    <tr>\n",
              "      <th>90</th>\n",
              "      <td>2</td>\n",
              "      <td>7640901</td>\n",
              "      <td>2015-01-07</td>\n",
              "      <td>2014-11-03</td>\n",
              "      <td>610431</td>\n",
              "      <td>REACONDICIONAMIENTO V.O</td>\n",
              "      <td>120</td>\n",
              "      <td>LIBERTY DRIVE FRANCE</td>\n",
              "      <td>143.68</td>\n",
              "      <td>287.36</td>\n",
              "      <td>4.30</td>\n",
              "      <td>159.00</td>\n",
              "      <td>VW Touran</td>\n",
              "      <td>56</td>\n",
              "      <td>6343HWH</td>\n",
              "      <td>WVGZZZ1TZEW074407</td>\n",
              "      <td>5V O.R. INTER CH VW</td>\n",
              "      <td>nan</td>\n",
              "      <td>1</td>\n",
              "      <td>2015</td>\n",
              "      <td>65</td>\n",
              "      <td>764090</td>\n",
              "      <td>302.68</td>\n",
              "      <td>764090</td>\n",
              "    </tr>\n",
              "    <tr>\n",
              "      <th>101</th>\n",
              "      <td>2</td>\n",
              "      <td>7706961</td>\n",
              "      <td>2015-01-07</td>\n",
              "      <td>2014-12-03</td>\n",
              "      <td>610431</td>\n",
              "      <td>REACONDICIONAMIENTO V.O</td>\n",
              "      <td>127</td>\n",
              "      <td>NO UTILIZAR</td>\n",
              "      <td>2.55</td>\n",
              "      <td>5.10</td>\n",
              "      <td>4.00</td>\n",
              "      <td>148.00</td>\n",
              "      <td>PASSAT VAR</td>\n",
              "      <td>56</td>\n",
              "      <td>1678HTL</td>\n",
              "      <td>WVWZZZ3CZEE071091</td>\n",
              "      <td>5V O.R. INTER CH VW</td>\n",
              "      <td>nan</td>\n",
              "      <td>1</td>\n",
              "      <td>2015</td>\n",
              "      <td>35</td>\n",
              "      <td>770696</td>\n",
              "      <td>150.55</td>\n",
              "      <td>770696</td>\n",
              "    </tr>\n",
              "    <tr>\n",
              "      <th>146</th>\n",
              "      <td>2</td>\n",
              "      <td>7739221</td>\n",
              "      <td>2015-01-07</td>\n",
              "      <td>2014-12-19</td>\n",
              "      <td>610431</td>\n",
              "      <td>REACONDICIONAMIENTO V.O</td>\n",
              "      <td>120</td>\n",
              "      <td>LIBERTY DRIVE FRANCE</td>\n",
              "      <td>304.47</td>\n",
              "      <td>608.94</td>\n",
              "      <td>2.25</td>\n",
              "      <td>67.50</td>\n",
              "      <td>VW Touran</td>\n",
              "      <td>282</td>\n",
              "      <td>0317HVR</td>\n",
              "      <td>WVGZZZ1TZEW059435</td>\n",
              "      <td>5V O.R. INTER CH VW</td>\n",
              "      <td>nan</td>\n",
              "      <td>1</td>\n",
              "      <td>2015</td>\n",
              "      <td>19</td>\n",
              "      <td>773922</td>\n",
              "      <td>371.97</td>\n",
              "      <td>773922</td>\n",
              "    </tr>\n",
              "    <tr>\n",
              "      <th>...</th>\n",
              "      <td>...</td>\n",
              "      <td>...</td>\n",
              "      <td>...</td>\n",
              "      <td>...</td>\n",
              "      <td>...</td>\n",
              "      <td>...</td>\n",
              "      <td>...</td>\n",
              "      <td>...</td>\n",
              "      <td>...</td>\n",
              "      <td>...</td>\n",
              "      <td>...</td>\n",
              "      <td>...</td>\n",
              "      <td>...</td>\n",
              "      <td>...</td>\n",
              "      <td>...</td>\n",
              "      <td>...</td>\n",
              "      <td>...</td>\n",
              "      <td>...</td>\n",
              "      <td>...</td>\n",
              "      <td>...</td>\n",
              "      <td>...</td>\n",
              "      <td>...</td>\n",
              "      <td>...</td>\n",
              "      <td>...</td>\n",
              "    </tr>\n",
              "    <tr>\n",
              "      <th>287500</th>\n",
              "      <td>8</td>\n",
              "      <td>13829451</td>\n",
              "      <td>2022-06-27</td>\n",
              "      <td>2022-06-24</td>\n",
              "      <td>610431</td>\n",
              "      <td>REACONDICIONAMIENTO V.O</td>\n",
              "      <td>120</td>\n",
              "      <td>Alvarez-Ossorio Piñero</td>\n",
              "      <td>0.00</td>\n",
              "      <td>0.00</td>\n",
              "      <td>1.60</td>\n",
              "      <td>48.00</td>\n",
              "      <td>POLO 1.0 E</td>\n",
              "      <td>796</td>\n",
              "      <td>2823KSV</td>\n",
              "      <td>WVWZZZAWZKY095274</td>\n",
              "      <td>5V O.R. INTER CH VW</td>\n",
              "      <td>nan</td>\n",
              "      <td>6</td>\n",
              "      <td>2022</td>\n",
              "      <td>3</td>\n",
              "      <td>1382945</td>\n",
              "      <td>48.00</td>\n",
              "      <td>1382945</td>\n",
              "    </tr>\n",
              "    <tr>\n",
              "      <th>287506</th>\n",
              "      <td>6</td>\n",
              "      <td>13830371</td>\n",
              "      <td>2022-06-28</td>\n",
              "      <td>2022-06-24</td>\n",
              "      <td>610431</td>\n",
              "      <td>REACONDICIONAMIENTO V.O</td>\n",
              "      <td>120</td>\n",
              "      <td>NO UTILIZAR</td>\n",
              "      <td>0.00</td>\n",
              "      <td>0.00</td>\n",
              "      <td>2.35</td>\n",
              "      <td>70.50</td>\n",
              "      <td>A6 35 TDI</td>\n",
              "      <td>796</td>\n",
              "      <td>6836LNZ</td>\n",
              "      <td>WAUZZZF21MN082708</td>\n",
              "      <td>5A O.R. INTER CH AUDI</td>\n",
              "      <td>nan</td>\n",
              "      <td>6</td>\n",
              "      <td>2022</td>\n",
              "      <td>4</td>\n",
              "      <td>1383037</td>\n",
              "      <td>70.50</td>\n",
              "      <td>1383037</td>\n",
              "    </tr>\n",
              "    <tr>\n",
              "      <th>287513</th>\n",
              "      <td>6</td>\n",
              "      <td>13831721</td>\n",
              "      <td>2022-06-29</td>\n",
              "      <td>2022-06-24</td>\n",
              "      <td>610622</td>\n",
              "      <td>POLITICA COMERCIAL VN A</td>\n",
              "      <td>127</td>\n",
              "      <td>NO UTILIZAR</td>\n",
              "      <td>0.00</td>\n",
              "      <td>0.00</td>\n",
              "      <td>4.00</td>\n",
              "      <td>192.00</td>\n",
              "      <td>AUDI Q5 SP</td>\n",
              "      <td>796</td>\n",
              "      <td>274280</td>\n",
              "      <td>WAUZZZFY8N2080820</td>\n",
              "      <td>5A O.R. INTER CH AUDI</td>\n",
              "      <td>nan</td>\n",
              "      <td>6</td>\n",
              "      <td>2022</td>\n",
              "      <td>5</td>\n",
              "      <td>1383172</td>\n",
              "      <td>192.00</td>\n",
              "      <td>1383172</td>\n",
              "    </tr>\n",
              "    <tr>\n",
              "      <th>287514</th>\n",
              "      <td>8</td>\n",
              "      <td>13831741</td>\n",
              "      <td>2022-06-29</td>\n",
              "      <td>2022-06-24</td>\n",
              "      <td>610624</td>\n",
              "      <td>REACONDICIONAMIENTO V.D</td>\n",
              "      <td>18918</td>\n",
              "      <td>JARMAUTO SA</td>\n",
              "      <td>12.00</td>\n",
              "      <td>24.00</td>\n",
              "      <td>1.60</td>\n",
              "      <td>48.00</td>\n",
              "      <td>GOLF STYLE</td>\n",
              "      <td>796</td>\n",
              "      <td>2098LLL</td>\n",
              "      <td>WVWZZZCDZMW303010</td>\n",
              "      <td>5V O.R. INTER CH VW</td>\n",
              "      <td>nan</td>\n",
              "      <td>6</td>\n",
              "      <td>2022</td>\n",
              "      <td>5</td>\n",
              "      <td>1383174</td>\n",
              "      <td>60.00</td>\n",
              "      <td>1383174</td>\n",
              "    </tr>\n",
              "    <tr>\n",
              "      <th>287584</th>\n",
              "      <td>1</td>\n",
              "      <td>13837151</td>\n",
              "      <td>2022-06-28</td>\n",
              "      <td>2022-06-27</td>\n",
              "      <td>610672</td>\n",
              "      <td>GOLPES DADOS POR EL PER</td>\n",
              "      <td>194275</td>\n",
              "      <td>HERRAIZ MOLINA ANTONIO</td>\n",
              "      <td>0.00</td>\n",
              "      <td>0.00</td>\n",
              "      <td>2.73</td>\n",
              "      <td>131.04</td>\n",
              "      <td>AUDI Q5  S</td>\n",
              "      <td>95</td>\n",
              "      <td>1135JJC</td>\n",
              "      <td>WAUZZZ8R4GA036571</td>\n",
              "      <td>5A O.R. INTER CH AUDI</td>\n",
              "      <td>nan</td>\n",
              "      <td>6</td>\n",
              "      <td>2022</td>\n",
              "      <td>1</td>\n",
              "      <td>1383715</td>\n",
              "      <td>131.04</td>\n",
              "      <td>1383715</td>\n",
              "    </tr>\n",
              "  </tbody>\n",
              "</table>\n",
              "<p>8377 rows × 24 columns</p>\n",
              "</div>\n",
              "      <button class=\"colab-df-convert\" onclick=\"convertToInteractive('df-9a0159f7-b7d4-4c3b-8548-4fb50bc7951d')\"\n",
              "              title=\"Convert this dataframe to an interactive table.\"\n",
              "              style=\"display:none;\">\n",
              "        \n",
              "  <svg xmlns=\"http://www.w3.org/2000/svg\" height=\"24px\"viewBox=\"0 0 24 24\"\n",
              "       width=\"24px\">\n",
              "    <path d=\"M0 0h24v24H0V0z\" fill=\"none\"/>\n",
              "    <path d=\"M18.56 5.44l.94 2.06.94-2.06 2.06-.94-2.06-.94-.94-2.06-.94 2.06-2.06.94zm-11 1L8.5 8.5l.94-2.06 2.06-.94-2.06-.94L8.5 2.5l-.94 2.06-2.06.94zm10 10l.94 2.06.94-2.06 2.06-.94-2.06-.94-.94-2.06-.94 2.06-2.06.94z\"/><path d=\"M17.41 7.96l-1.37-1.37c-.4-.4-.92-.59-1.43-.59-.52 0-1.04.2-1.43.59L10.3 9.45l-7.72 7.72c-.78.78-.78 2.05 0 2.83L4 21.41c.39.39.9.59 1.41.59.51 0 1.02-.2 1.41-.59l7.78-7.78 2.81-2.81c.8-.78.8-2.07 0-2.86zM5.41 20L4 18.59l7.72-7.72 1.47 1.35L5.41 20z\"/>\n",
              "  </svg>\n",
              "      </button>\n",
              "      \n",
              "  <style>\n",
              "    .colab-df-container {\n",
              "      display:flex;\n",
              "      flex-wrap:wrap;\n",
              "      gap: 12px;\n",
              "    }\n",
              "\n",
              "    .colab-df-convert {\n",
              "      background-color: #E8F0FE;\n",
              "      border: none;\n",
              "      border-radius: 50%;\n",
              "      cursor: pointer;\n",
              "      display: none;\n",
              "      fill: #1967D2;\n",
              "      height: 32px;\n",
              "      padding: 0 0 0 0;\n",
              "      width: 32px;\n",
              "    }\n",
              "\n",
              "    .colab-df-convert:hover {\n",
              "      background-color: #E2EBFA;\n",
              "      box-shadow: 0px 1px 2px rgba(60, 64, 67, 0.3), 0px 1px 3px 1px rgba(60, 64, 67, 0.15);\n",
              "      fill: #174EA6;\n",
              "    }\n",
              "\n",
              "    [theme=dark] .colab-df-convert {\n",
              "      background-color: #3B4455;\n",
              "      fill: #D2E3FC;\n",
              "    }\n",
              "\n",
              "    [theme=dark] .colab-df-convert:hover {\n",
              "      background-color: #434B5C;\n",
              "      box-shadow: 0px 1px 3px 1px rgba(0, 0, 0, 0.15);\n",
              "      filter: drop-shadow(0px 1px 2px rgba(0, 0, 0, 0.3));\n",
              "      fill: #FFFFFF;\n",
              "    }\n",
              "  </style>\n",
              "\n",
              "      <script>\n",
              "        const buttonEl =\n",
              "          document.querySelector('#df-9a0159f7-b7d4-4c3b-8548-4fb50bc7951d button.colab-df-convert');\n",
              "        buttonEl.style.display =\n",
              "          google.colab.kernel.accessAllowed ? 'block' : 'none';\n",
              "\n",
              "        async function convertToInteractive(key) {\n",
              "          const element = document.querySelector('#df-9a0159f7-b7d4-4c3b-8548-4fb50bc7951d');\n",
              "          const dataTable =\n",
              "            await google.colab.kernel.invokeFunction('convertToInteractive',\n",
              "                                                     [key], {});\n",
              "          if (!dataTable) return;\n",
              "\n",
              "          const docLinkHtml = 'Like what you see? Visit the ' +\n",
              "            '<a target=\"_blank\" href=https://colab.research.google.com/notebooks/data_table.ipynb>data table notebook</a>'\n",
              "            + ' to learn more about interactive tables.';\n",
              "          element.innerHTML = '';\n",
              "          dataTable['output_type'] = 'display_data';\n",
              "          await google.colab.output.renderOutput(dataTable, element);\n",
              "          const docLink = document.createElement('div');\n",
              "          docLink.innerHTML = docLinkHtml;\n",
              "          element.appendChild(docLink);\n",
              "        }\n",
              "      </script>\n",
              "    </div>\n",
              "  </div>\n",
              "  "
            ]
          },
          "metadata": {},
          "execution_count": 77
        }
      ]
    },
    {
      "cell_type": "code",
      "source": [
        "df = df[df[\"Tipo_Or\"].str.startswith(\"5\" or \"6\")!=True]"
      ],
      "metadata": {
        "id": "w18ZEadE7SgB"
      },
      "execution_count": 78,
      "outputs": []
    },
    {
      "cell_type": "code",
      "source": [
        "df.Bastidor.nunique() # después de haber quitado el interno tenemos 58.714 bastidores. "
      ],
      "metadata": {
        "id": "thOFmFQh7nV3",
        "outputId": "0f8859cc-d4c9-402b-fb7d-154124f62be7",
        "colab": {
          "base_uri": "https://localhost:8080/"
        }
      },
      "execution_count": 81,
      "outputs": [
        {
          "output_type": "execute_result",
          "data": {
            "text/plain": [
              "58714"
            ]
          },
          "metadata": {},
          "execution_count": 81
        }
      ]
    },
    {
      "cell_type": "code",
      "source": [
        "df.shape # tenemos 274.898 filas"
      ],
      "metadata": {
        "id": "wk7FB_Zj7tvy",
        "outputId": "66e801f9-01f8-4dd3-c52e-3807288dd9ea",
        "colab": {
          "base_uri": "https://localhost:8080/"
        }
      },
      "execution_count": 82,
      "outputs": [
        {
          "output_type": "execute_result",
          "data": {
            "text/plain": [
              "(274898, 24)"
            ]
          },
          "metadata": {},
          "execution_count": 82
        }
      ]
    },
    {
      "cell_type": "code",
      "source": [
        "df.isnull().sum()"
      ],
      "metadata": {
        "id": "-zkZnDK079R_",
        "outputId": "ad3bc636-34a5-4997-dde3-5cd74947af26",
        "colab": {
          "base_uri": "https://localhost:8080/"
        }
      },
      "execution_count": 84,
      "outputs": [
        {
          "output_type": "execute_result",
          "data": {
            "text/plain": [
              "Tall                  0\n",
              "Referencia            0\n",
              "Fecha_Fact        13260\n",
              "Fecha_Apertura        0\n",
              "Cta_Cargo             0\n",
              "Nombre_Cliente        1\n",
              "Cta_Titular          30\n",
              "Nombre_Titular       31\n",
              "Recamb                0\n",
              "Recamb_Pvp            0\n",
              "Tiemp_Fact            5\n",
              "Total_Mo              0\n",
              "Modelo             1255\n",
              "Recep                 0\n",
              "Matricula             0\n",
              "Bastidor             40\n",
              "Tipo_Or               5\n",
              "Or_Unica              0\n",
              "MES                   0\n",
              "AÑO                   0\n",
              "ESTANCIA              0\n",
              "Orden_Corta           0\n",
              "Fact_total            0\n",
              "Orden_Corta2          0\n",
              "dtype: int64"
            ]
          },
          "metadata": {},
          "execution_count": 84
        }
      ]
    },
    {
      "cell_type": "code",
      "source": [
        "# vamos a quitar todas las filas que no tengan numero de bastidor.\n",
        "df = df[~df.Bastidor.isnull()]\n",
        "df.shape"
      ],
      "metadata": {
        "id": "FJ2DjxBB8a_T",
        "outputId": "562f0a76-ffa3-4606-d047-c370b8f07c5d",
        "colab": {
          "base_uri": "https://localhost:8080/"
        }
      },
      "execution_count": 86,
      "outputs": [
        {
          "output_type": "execute_result",
          "data": {
            "text/plain": [
              "(274858, 24)"
            ]
          },
          "metadata": {},
          "execution_count": 86
        }
      ]
    },
    {
      "cell_type": "code",
      "source": [
        "# también vamos a quitar todos los que no tienen fecha de facturación. \n",
        "df = df[~df.Fecha_Fact.isnull()]\n",
        "# Tambien quito los que no tengan nombre del titular. \n",
        "df = df[~df.Nombre_Titular.isnull()]\n",
        "df = df[~df.Cta_Titular.isnull()]\n",
        "df = df[~df.Modelo.isnull()]"
      ],
      "metadata": {
        "id": "ReOr3OTJ9MLu"
      },
      "execution_count": 101,
      "outputs": []
    },
    {
      "cell_type": "code",
      "source": [
        "df.Bastidor.nunique() #58058 bastidores. "
      ],
      "metadata": {
        "id": "TJnVdSuf830o",
        "outputId": "a7a8aa6f-6dda-4e38-af29-def79cf88808",
        "colab": {
          "base_uri": "https://localhost:8080/"
        }
      },
      "execution_count": 102,
      "outputs": [
        {
          "output_type": "execute_result",
          "data": {
            "text/plain": [
              "58058"
            ]
          },
          "metadata": {},
          "execution_count": 102
        }
      ]
    },
    {
      "cell_type": "code",
      "source": [
        "df.info() # aqui he quitado todos los nulos. podría haberlos sustituido por otra cosa....."
      ],
      "metadata": {
        "id": "nvUEmhWX8-t3",
        "outputId": "9be43005-ed61-438e-920a-776e9a165966",
        "colab": {
          "base_uri": "https://localhost:8080/"
        }
      },
      "execution_count": 103,
      "outputs": [
        {
          "output_type": "stream",
          "name": "stdout",
          "text": [
            "<class 'pandas.core.frame.DataFrame'>\n",
            "Int64Index: 260497 entries, 0 to 287596\n",
            "Data columns (total 24 columns):\n",
            " #   Column          Non-Null Count   Dtype         \n",
            "---  ------          --------------   -----         \n",
            " 0   Tall            260497 non-null  object        \n",
            " 1   Referencia      260497 non-null  object        \n",
            " 2   Fecha_Fact      260497 non-null  datetime64[ns]\n",
            " 3   Fecha_Apertura  260497 non-null  datetime64[ns]\n",
            " 4   Cta_Cargo       260497 non-null  object        \n",
            " 5   Nombre_Cliente  260497 non-null  object        \n",
            " 6   Cta_Titular     260497 non-null  object        \n",
            " 7   Nombre_Titular  260497 non-null  object        \n",
            " 8   Recamb          260497 non-null  float64       \n",
            " 9   Recamb_Pvp      260497 non-null  float64       \n",
            " 10  Tiemp_Fact      260497 non-null  float64       \n",
            " 11  Total_Mo        260497 non-null  float64       \n",
            " 12  Modelo          260497 non-null  object        \n",
            " 13  Recep           260497 non-null  object        \n",
            " 14  Matricula       260497 non-null  object        \n",
            " 15  Bastidor        260497 non-null  object        \n",
            " 16  Tipo_Or         260497 non-null  object        \n",
            " 17  Or_Unica        260497 non-null  object        \n",
            " 18  MES             260497 non-null  int64         \n",
            " 19  AÑO             260497 non-null  int64         \n",
            " 20  ESTANCIA        260497 non-null  int64         \n",
            " 21  Orden_Corta     260497 non-null  object        \n",
            " 22  Fact_total      260497 non-null  float64       \n",
            " 23  Orden_Corta2    260497 non-null  object        \n",
            "dtypes: datetime64[ns](2), float64(5), int64(3), object(14)\n",
            "memory usage: 49.7+ MB\n"
          ]
        }
      ]
    },
    {
      "cell_type": "code",
      "source": [
        "df.isnull().sum()"
      ],
      "metadata": {
        "id": "VqAP30pI9G4o",
        "outputId": "f85d590c-a2a9-4724-bd04-24b94ebed9bd",
        "colab": {
          "base_uri": "https://localhost:8080/"
        }
      },
      "execution_count": 104,
      "outputs": [
        {
          "output_type": "execute_result",
          "data": {
            "text/plain": [
              "Tall              0\n",
              "Referencia        0\n",
              "Fecha_Fact        0\n",
              "Fecha_Apertura    0\n",
              "Cta_Cargo         0\n",
              "Nombre_Cliente    0\n",
              "Cta_Titular       0\n",
              "Nombre_Titular    0\n",
              "Recamb            0\n",
              "Recamb_Pvp        0\n",
              "Tiemp_Fact        0\n",
              "Total_Mo          0\n",
              "Modelo            0\n",
              "Recep             0\n",
              "Matricula         0\n",
              "Bastidor          0\n",
              "Tipo_Or           0\n",
              "Or_Unica          0\n",
              "MES               0\n",
              "AÑO               0\n",
              "ESTANCIA          0\n",
              "Orden_Corta       0\n",
              "Fact_total        0\n",
              "Orden_Corta2      0\n",
              "dtype: int64"
            ]
          },
          "metadata": {},
          "execution_count": 104
        }
      ]
    },
    {
      "cell_type": "code",
      "source": [
        "# creating some columns for exploratory\n",
        "\n",
        "\n",
        "df['year'] = df['Fecha_Apertura'].dt.year # sacamos el año de la fecha\n",
        "df['month'] = df['Fecha_Apertura'].dt.month # sacamos el mes\n",
        "df['day'] = df['Fecha_Apertura'].dt.day # sacamos el día. \n",
        "df['day_of_week'] = df['Fecha_Apertura'].dt.dayofweek # sacamos el día de la semana. "
      ],
      "metadata": {
        "id": "Boycrvi4-qSN"
      },
      "execution_count": 105,
      "outputs": []
    },
    {
      "cell_type": "code",
      "source": [
        "df.head(2)"
      ],
      "metadata": {
        "id": "V21mZw5m_LhI",
        "outputId": "6648e21a-9ca1-4849-a5aa-9915a9458c5b",
        "colab": {
          "base_uri": "https://localhost:8080/",
          "height": 263
        }
      },
      "execution_count": 106,
      "outputs": [
        {
          "output_type": "execute_result",
          "data": {
            "text/plain": [
              "  Tall Referencia Fecha_Fact Fecha_Apertura  ...  year month day day_of_week\n",
              "0    6    7655783 2015-01-02     2014-11-11  ...  2014    11  11           1\n",
              "1    6    7655784 2015-01-02     2014-11-11  ...  2014    11  11           1\n",
              "\n",
              "[2 rows x 28 columns]"
            ],
            "text/html": [
              "\n",
              "  <div id=\"df-3e1bbcdf-b556-4ab8-85cd-387fda684a43\">\n",
              "    <div class=\"colab-df-container\">\n",
              "      <div>\n",
              "<style scoped>\n",
              "    .dataframe tbody tr th:only-of-type {\n",
              "        vertical-align: middle;\n",
              "    }\n",
              "\n",
              "    .dataframe tbody tr th {\n",
              "        vertical-align: top;\n",
              "    }\n",
              "\n",
              "    .dataframe thead th {\n",
              "        text-align: right;\n",
              "    }\n",
              "</style>\n",
              "<table border=\"1\" class=\"dataframe\">\n",
              "  <thead>\n",
              "    <tr style=\"text-align: right;\">\n",
              "      <th></th>\n",
              "      <th>Tall</th>\n",
              "      <th>Referencia</th>\n",
              "      <th>Fecha_Fact</th>\n",
              "      <th>Fecha_Apertura</th>\n",
              "      <th>Cta_Cargo</th>\n",
              "      <th>Nombre_Cliente</th>\n",
              "      <th>Cta_Titular</th>\n",
              "      <th>Nombre_Titular</th>\n",
              "      <th>Recamb</th>\n",
              "      <th>Recamb_Pvp</th>\n",
              "      <th>Tiemp_Fact</th>\n",
              "      <th>Total_Mo</th>\n",
              "      <th>Modelo</th>\n",
              "      <th>Recep</th>\n",
              "      <th>Matricula</th>\n",
              "      <th>Bastidor</th>\n",
              "      <th>Tipo_Or</th>\n",
              "      <th>Or_Unica</th>\n",
              "      <th>MES</th>\n",
              "      <th>AÑO</th>\n",
              "      <th>ESTANCIA</th>\n",
              "      <th>Orden_Corta</th>\n",
              "      <th>Fact_total</th>\n",
              "      <th>Orden_Corta2</th>\n",
              "      <th>year</th>\n",
              "      <th>month</th>\n",
              "      <th>day</th>\n",
              "      <th>day_of_week</th>\n",
              "    </tr>\n",
              "  </thead>\n",
              "  <tbody>\n",
              "    <tr>\n",
              "      <th>0</th>\n",
              "      <td>6</td>\n",
              "      <td>7655783</td>\n",
              "      <td>2015-01-02</td>\n",
              "      <td>2014-11-11</td>\n",
              "      <td>116</td>\n",
              "      <td>ORDENES DE REPARACION G</td>\n",
              "      <td>130187</td>\n",
              "      <td>GARCIA VILLAYZAN JOSE E</td>\n",
              "      <td>846.25</td>\n",
              "      <td>2336.55</td>\n",
              "      <td>11.13</td>\n",
              "      <td>788.47</td>\n",
              "      <td>A4 2.0 DIE</td>\n",
              "      <td>56</td>\n",
              "      <td>5249DJV</td>\n",
              "      <td>WAUZZZ8E65A483946</td>\n",
              "      <td>4A GARANTIA MECAN AUDI</td>\n",
              "      <td>nan</td>\n",
              "      <td>1</td>\n",
              "      <td>2015</td>\n",
              "      <td>52</td>\n",
              "      <td>765578</td>\n",
              "      <td>1634.72</td>\n",
              "      <td>765578</td>\n",
              "      <td>2014</td>\n",
              "      <td>11</td>\n",
              "      <td>11</td>\n",
              "      <td>1</td>\n",
              "    </tr>\n",
              "    <tr>\n",
              "      <th>1</th>\n",
              "      <td>6</td>\n",
              "      <td>7655784</td>\n",
              "      <td>2015-01-02</td>\n",
              "      <td>2014-11-11</td>\n",
              "      <td>610662</td>\n",
              "      <td>GASTOS ASUMIDOS POR TAL</td>\n",
              "      <td>130187</td>\n",
              "      <td>GARCIA VILLAYZAN JOSE E</td>\n",
              "      <td>16.38</td>\n",
              "      <td>32.76</td>\n",
              "      <td>0.00</td>\n",
              "      <td>0.00</td>\n",
              "      <td>A4 2.0 DIE</td>\n",
              "      <td>56</td>\n",
              "      <td>5249DJV</td>\n",
              "      <td>WAUZZZ8E65A483946</td>\n",
              "      <td>6A O.R. INTER MEC.AUDI</td>\n",
              "      <td>nan</td>\n",
              "      <td>1</td>\n",
              "      <td>2015</td>\n",
              "      <td>52</td>\n",
              "      <td>765578</td>\n",
              "      <td>16.38</td>\n",
              "      <td>765578</td>\n",
              "      <td>2014</td>\n",
              "      <td>11</td>\n",
              "      <td>11</td>\n",
              "      <td>1</td>\n",
              "    </tr>\n",
              "  </tbody>\n",
              "</table>\n",
              "</div>\n",
              "      <button class=\"colab-df-convert\" onclick=\"convertToInteractive('df-3e1bbcdf-b556-4ab8-85cd-387fda684a43')\"\n",
              "              title=\"Convert this dataframe to an interactive table.\"\n",
              "              style=\"display:none;\">\n",
              "        \n",
              "  <svg xmlns=\"http://www.w3.org/2000/svg\" height=\"24px\"viewBox=\"0 0 24 24\"\n",
              "       width=\"24px\">\n",
              "    <path d=\"M0 0h24v24H0V0z\" fill=\"none\"/>\n",
              "    <path d=\"M18.56 5.44l.94 2.06.94-2.06 2.06-.94-2.06-.94-.94-2.06-.94 2.06-2.06.94zm-11 1L8.5 8.5l.94-2.06 2.06-.94-2.06-.94L8.5 2.5l-.94 2.06-2.06.94zm10 10l.94 2.06.94-2.06 2.06-.94-2.06-.94-.94-2.06-.94 2.06-2.06.94z\"/><path d=\"M17.41 7.96l-1.37-1.37c-.4-.4-.92-.59-1.43-.59-.52 0-1.04.2-1.43.59L10.3 9.45l-7.72 7.72c-.78.78-.78 2.05 0 2.83L4 21.41c.39.39.9.59 1.41.59.51 0 1.02-.2 1.41-.59l7.78-7.78 2.81-2.81c.8-.78.8-2.07 0-2.86zM5.41 20L4 18.59l7.72-7.72 1.47 1.35L5.41 20z\"/>\n",
              "  </svg>\n",
              "      </button>\n",
              "      \n",
              "  <style>\n",
              "    .colab-df-container {\n",
              "      display:flex;\n",
              "      flex-wrap:wrap;\n",
              "      gap: 12px;\n",
              "    }\n",
              "\n",
              "    .colab-df-convert {\n",
              "      background-color: #E8F0FE;\n",
              "      border: none;\n",
              "      border-radius: 50%;\n",
              "      cursor: pointer;\n",
              "      display: none;\n",
              "      fill: #1967D2;\n",
              "      height: 32px;\n",
              "      padding: 0 0 0 0;\n",
              "      width: 32px;\n",
              "    }\n",
              "\n",
              "    .colab-df-convert:hover {\n",
              "      background-color: #E2EBFA;\n",
              "      box-shadow: 0px 1px 2px rgba(60, 64, 67, 0.3), 0px 1px 3px 1px rgba(60, 64, 67, 0.15);\n",
              "      fill: #174EA6;\n",
              "    }\n",
              "\n",
              "    [theme=dark] .colab-df-convert {\n",
              "      background-color: #3B4455;\n",
              "      fill: #D2E3FC;\n",
              "    }\n",
              "\n",
              "    [theme=dark] .colab-df-convert:hover {\n",
              "      background-color: #434B5C;\n",
              "      box-shadow: 0px 1px 3px 1px rgba(0, 0, 0, 0.15);\n",
              "      filter: drop-shadow(0px 1px 2px rgba(0, 0, 0, 0.3));\n",
              "      fill: #FFFFFF;\n",
              "    }\n",
              "  </style>\n",
              "\n",
              "      <script>\n",
              "        const buttonEl =\n",
              "          document.querySelector('#df-3e1bbcdf-b556-4ab8-85cd-387fda684a43 button.colab-df-convert');\n",
              "        buttonEl.style.display =\n",
              "          google.colab.kernel.accessAllowed ? 'block' : 'none';\n",
              "\n",
              "        async function convertToInteractive(key) {\n",
              "          const element = document.querySelector('#df-3e1bbcdf-b556-4ab8-85cd-387fda684a43');\n",
              "          const dataTable =\n",
              "            await google.colab.kernel.invokeFunction('convertToInteractive',\n",
              "                                                     [key], {});\n",
              "          if (!dataTable) return;\n",
              "\n",
              "          const docLinkHtml = 'Like what you see? Visit the ' +\n",
              "            '<a target=\"_blank\" href=https://colab.research.google.com/notebooks/data_table.ipynb>data table notebook</a>'\n",
              "            + ' to learn more about interactive tables.';\n",
              "          element.innerHTML = '';\n",
              "          dataTable['output_type'] = 'display_data';\n",
              "          await google.colab.output.renderOutput(dataTable, element);\n",
              "          const docLink = document.createElement('div');\n",
              "          docLink.innerHTML = docLinkHtml;\n",
              "          element.appendChild(docLink);\n",
              "        }\n",
              "      </script>\n",
              "    </div>\n",
              "  </div>\n",
              "  "
            ]
          },
          "metadata": {},
          "execution_count": 106
        }
      ]
    },
    {
      "cell_type": "code",
      "source": [
        ""
      ],
      "metadata": {
        "id": "07MVggB7_NlV"
      },
      "execution_count": null,
      "outputs": []
    }
  ]
}