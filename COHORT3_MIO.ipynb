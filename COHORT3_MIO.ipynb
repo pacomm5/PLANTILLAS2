{
  "nbformat": 4,
  "nbformat_minor": 0,
  "metadata": {
    "colab": {
      "name": "COHORT3_MIO.ipynb",
      "provenance": [],
      "mount_file_id": "https://github.com/pacomm5/PLANTILLAS2/blob/main/COHORT3_MIO.ipynb",
      "authorship_tag": "ABX9TyPAj/0YTI55wJCte6dphOPa",
      "include_colab_link": true
    },
    "kernelspec": {
      "name": "python3",
      "display_name": "Python 3"
    },
    "language_info": {
      "name": "python"
    }
  },
  "cells": [
    {
      "cell_type": "markdown",
      "metadata": {
        "id": "view-in-github",
        "colab_type": "text"
      },
      "source": [
        "<a href=\"https://colab.research.google.com/github/pacomm5/PLANTILLAS2/blob/main/COHORT3_MIO.ipynb\" target=\"_parent\"><img src=\"https://colab.research.google.com/assets/colab-badge.svg\" alt=\"Open In Colab\"/></a>"
      ]
    },
    {
      "cell_type": "code",
      "execution_count": 1,
      "metadata": {
        "id": "VG8Hv_9hZQpP"
      },
      "outputs": [],
      "source": [
        "# EN ESTE EJERCICIO VOY A INTENTAR HACER TODO EN PYTHON.\n",
        "# TRABAJO CON EL ARCHIVO U239_IMPORTADO QUE TENGO EN LA CARPETA DE MACHINE LEARNING. ESTA IMPORTADO DEL U239 ORIGINAL QUE TENGO EN MAESTRO"
      ]
    },
    {
      "cell_type": "code",
      "source": [
        "from google.colab import drive\n",
        "drive.mount('/content/drive')"
      ],
      "metadata": {
        "colab": {
          "base_uri": "https://localhost:8080/"
        },
        "id": "qAPTQ-kEZsHk",
        "outputId": "e1c92bed-c5b2-4c9d-cd8d-c0f0acd5f325"
      },
      "execution_count": 2,
      "outputs": [
        {
          "output_type": "stream",
          "name": "stdout",
          "text": [
            "Drive already mounted at /content/drive; to attempt to forcibly remount, call drive.mount(\"/content/drive\", force_remount=True).\n"
          ]
        }
      ]
    },
    {
      "cell_type": "code",
      "source": [
        "# for data manipulation and analysis\n",
        "import pandas as pd\n",
        "import numpy as np\n",
        "\n",
        "# for plotting\n",
        "import seaborn as sns\n",
        "import matplotlib.pyplot as plt\n",
        "from mpl_toolkits import mplot3d\n",
        "sns.set_style('darkgrid')\n",
        "\n",
        "# Silhouette analysis\n",
        "from sklearn.metrics import silhouette_score\n",
        "\n",
        "# To perform KMeans clustering \n",
        "from sklearn.cluster import KMeans\n",
        "\n",
        "# for scaling\n",
        "from sklearn.preprocessing import StandardScaler\n",
        "\n",
        "import warnings\n",
        "warnings.filterwarnings('ignore')"
      ],
      "metadata": {
        "id": "5h_LyK5NZ2w3"
      },
      "execution_count": 3,
      "outputs": []
    },
    {
      "cell_type": "code",
      "source": [
        "\n",
        "\n",
        "xlsx = pd.ExcelFile(\"/content/drive/MyDrive/Colab Notebooks/U239_IMPORTADO.xlsx\") # ESTE EL NOMBRE DE LA RUTA. \n",
        "df = pd.read_excel(xlsx, \"U239_IMPORTADO\" ) # ESTE EL NOMBRE DE LA PESTAÑA. \n",
        "# he descargado el archivo en google drive para no tener que estar cargarlo cada vez que lo utilice. \n"
      ],
      "metadata": {
        "id": "YXiyaDhFe2sv"
      },
      "execution_count": 4,
      "outputs": []
    },
    {
      "cell_type": "code",
      "source": [
        "pd.options.display.max_columns = 0 # con esto n olimitamos que se vean todas las columnas a lo ancho"
      ],
      "metadata": {
        "id": "avcRClvahbJa"
      },
      "execution_count": 5,
      "outputs": []
    },
    {
      "cell_type": "code",
      "source": [
        "df.head()"
      ],
      "metadata": {
        "colab": {
          "base_uri": "https://localhost:8080/",
          "height": 354
        },
        "id": "esGTz3fyfad5",
        "outputId": "86afa8ba-4289-48f4-c81a-d85521089bb4"
      },
      "execution_count": 6,
      "outputs": [
        {
          "output_type": "execute_result",
          "data": {
            "text/plain": [
              "   Tall  Referencia   Fecha Fa   Fec.aper  ... MES   AÑO ESTANCIA ORDEN CORTA\n",
              "0     6     7655783 2015-01-02 2014-11-11  ...   1  2015       52      765578\n",
              "1     6     7655784 2015-01-02 2014-11-11  ...   1  2015       52      765578\n",
              "2     6     7655785 2015-01-02 2014-11-11  ...   1  2015       52      765578\n",
              "3     1     7683941 2015-01-02 2014-11-24  ...   1  2015       39      768394\n",
              "4     2     7702661 2015-01-02 2014-12-30  ...   1  2015        3      770266\n",
              "\n",
              "[5 rows x 22 columns]"
            ],
            "text/html": [
              "\n",
              "  <div id=\"df-aefd8df5-95fd-4349-9d10-3eb73b91e99f\">\n",
              "    <div class=\"colab-df-container\">\n",
              "      <div>\n",
              "<style scoped>\n",
              "    .dataframe tbody tr th:only-of-type {\n",
              "        vertical-align: middle;\n",
              "    }\n",
              "\n",
              "    .dataframe tbody tr th {\n",
              "        vertical-align: top;\n",
              "    }\n",
              "\n",
              "    .dataframe thead th {\n",
              "        text-align: right;\n",
              "    }\n",
              "</style>\n",
              "<table border=\"1\" class=\"dataframe\">\n",
              "  <thead>\n",
              "    <tr style=\"text-align: right;\">\n",
              "      <th></th>\n",
              "      <th>Tall</th>\n",
              "      <th>Referencia</th>\n",
              "      <th>Fecha Fa</th>\n",
              "      <th>Fec.aper</th>\n",
              "      <th>Cta.car</th>\n",
              "      <th>Nombre cliente</th>\n",
              "      <th>Cta.tit</th>\n",
              "      <th>Nombre titular</th>\n",
              "      <th>Recamb.</th>\n",
              "      <th>RECAMBIOS PVP</th>\n",
              "      <th>Tiem.fac</th>\n",
              "      <th>Total.MO</th>\n",
              "      <th>Modelo</th>\n",
              "      <th>Recep</th>\n",
              "      <th>Matricula</th>\n",
              "      <th>Bastidor</th>\n",
              "      <th>Tipo O.R.</th>\n",
              "      <th>OR UNICA</th>\n",
              "      <th>MES</th>\n",
              "      <th>AÑO</th>\n",
              "      <th>ESTANCIA</th>\n",
              "      <th>ORDEN CORTA</th>\n",
              "    </tr>\n",
              "  </thead>\n",
              "  <tbody>\n",
              "    <tr>\n",
              "      <th>0</th>\n",
              "      <td>6</td>\n",
              "      <td>7655783</td>\n",
              "      <td>2015-01-02</td>\n",
              "      <td>2014-11-11</td>\n",
              "      <td>116</td>\n",
              "      <td>ORDENES DE REPARACION G</td>\n",
              "      <td>130187</td>\n",
              "      <td>GARCIA VILLAYZAN JOSE E</td>\n",
              "      <td>846.25</td>\n",
              "      <td>2336.55</td>\n",
              "      <td>11.13</td>\n",
              "      <td>788.47</td>\n",
              "      <td>A4 2.0 DIE</td>\n",
              "      <td>56</td>\n",
              "      <td>5249DJV</td>\n",
              "      <td>WAUZZZ8E65A483946</td>\n",
              "      <td>4A GARANTIA MECAN AUDI</td>\n",
              "      <td>NaN</td>\n",
              "      <td>1</td>\n",
              "      <td>2015</td>\n",
              "      <td>52</td>\n",
              "      <td>765578</td>\n",
              "    </tr>\n",
              "    <tr>\n",
              "      <th>1</th>\n",
              "      <td>6</td>\n",
              "      <td>7655784</td>\n",
              "      <td>2015-01-02</td>\n",
              "      <td>2014-11-11</td>\n",
              "      <td>610662</td>\n",
              "      <td>GASTOS ASUMIDOS POR TAL</td>\n",
              "      <td>130187</td>\n",
              "      <td>GARCIA VILLAYZAN JOSE E</td>\n",
              "      <td>16.38</td>\n",
              "      <td>32.76</td>\n",
              "      <td>0.00</td>\n",
              "      <td>0.00</td>\n",
              "      <td>A4 2.0 DIE</td>\n",
              "      <td>56</td>\n",
              "      <td>5249DJV</td>\n",
              "      <td>WAUZZZ8E65A483946</td>\n",
              "      <td>6A O.R. INTER MEC.AUDI</td>\n",
              "      <td>NaN</td>\n",
              "      <td>1</td>\n",
              "      <td>2015</td>\n",
              "      <td>52</td>\n",
              "      <td>765578</td>\n",
              "    </tr>\n",
              "    <tr>\n",
              "      <th>2</th>\n",
              "      <td>6</td>\n",
              "      <td>7655785</td>\n",
              "      <td>2015-01-02</td>\n",
              "      <td>2014-11-11</td>\n",
              "      <td>610662</td>\n",
              "      <td>GASTOS ASUMIDOS POR TAL</td>\n",
              "      <td>130187</td>\n",
              "      <td>GARCIA VILLAYZAN JOSE E</td>\n",
              "      <td>644.11</td>\n",
              "      <td>2134.41</td>\n",
              "      <td>6.77</td>\n",
              "      <td>324.90</td>\n",
              "      <td>A4 2.0 DIE</td>\n",
              "      <td>56</td>\n",
              "      <td>5249DJV</td>\n",
              "      <td>WAUZZZ8E65A483946</td>\n",
              "      <td>DG DEFER.GARANTIA AUDI</td>\n",
              "      <td>NaN</td>\n",
              "      <td>1</td>\n",
              "      <td>2015</td>\n",
              "      <td>52</td>\n",
              "      <td>765578</td>\n",
              "    </tr>\n",
              "    <tr>\n",
              "      <th>3</th>\n",
              "      <td>1</td>\n",
              "      <td>7683941</td>\n",
              "      <td>2015-01-02</td>\n",
              "      <td>2014-11-24</td>\n",
              "      <td>99234</td>\n",
              "      <td>SALVADOR DEL OLMO GERMA</td>\n",
              "      <td>99234</td>\n",
              "      <td>SALVADOR DEL OLMO GERMA</td>\n",
              "      <td>1675.97</td>\n",
              "      <td>3351.94</td>\n",
              "      <td>1.10</td>\n",
              "      <td>84.70</td>\n",
              "      <td>A-4 2.0 TD</td>\n",
              "      <td>272</td>\n",
              "      <td>8087DGN</td>\n",
              "      <td>WAUZZZ8E85A473547</td>\n",
              "      <td>2A O.R.CLIENT MEC AUDI</td>\n",
              "      <td>NaN</td>\n",
              "      <td>1</td>\n",
              "      <td>2015</td>\n",
              "      <td>39</td>\n",
              "      <td>768394</td>\n",
              "    </tr>\n",
              "    <tr>\n",
              "      <th>4</th>\n",
              "      <td>2</td>\n",
              "      <td>7702661</td>\n",
              "      <td>2015-01-02</td>\n",
              "      <td>2014-12-30</td>\n",
              "      <td>71917</td>\n",
              "      <td>RODRIGUEZ RICO MARIA CA</td>\n",
              "      <td>71917</td>\n",
              "      <td>RODRIGUEZ RICO MARIA CA</td>\n",
              "      <td>50.04</td>\n",
              "      <td>116.40</td>\n",
              "      <td>2.10</td>\n",
              "      <td>147.41</td>\n",
              "      <td>POLO 1.4 8</td>\n",
              "      <td>50</td>\n",
              "      <td>8194FBX</td>\n",
              "      <td>WVWZZZ9NZ7Y003242</td>\n",
              "      <td>2V O.R.CLIENT MEC VW</td>\n",
              "      <td>NaN</td>\n",
              "      <td>1</td>\n",
              "      <td>2015</td>\n",
              "      <td>3</td>\n",
              "      <td>770266</td>\n",
              "    </tr>\n",
              "  </tbody>\n",
              "</table>\n",
              "</div>\n",
              "      <button class=\"colab-df-convert\" onclick=\"convertToInteractive('df-aefd8df5-95fd-4349-9d10-3eb73b91e99f')\"\n",
              "              title=\"Convert this dataframe to an interactive table.\"\n",
              "              style=\"display:none;\">\n",
              "        \n",
              "  <svg xmlns=\"http://www.w3.org/2000/svg\" height=\"24px\"viewBox=\"0 0 24 24\"\n",
              "       width=\"24px\">\n",
              "    <path d=\"M0 0h24v24H0V0z\" fill=\"none\"/>\n",
              "    <path d=\"M18.56 5.44l.94 2.06.94-2.06 2.06-.94-2.06-.94-.94-2.06-.94 2.06-2.06.94zm-11 1L8.5 8.5l.94-2.06 2.06-.94-2.06-.94L8.5 2.5l-.94 2.06-2.06.94zm10 10l.94 2.06.94-2.06 2.06-.94-2.06-.94-.94-2.06-.94 2.06-2.06.94z\"/><path d=\"M17.41 7.96l-1.37-1.37c-.4-.4-.92-.59-1.43-.59-.52 0-1.04.2-1.43.59L10.3 9.45l-7.72 7.72c-.78.78-.78 2.05 0 2.83L4 21.41c.39.39.9.59 1.41.59.51 0 1.02-.2 1.41-.59l7.78-7.78 2.81-2.81c.8-.78.8-2.07 0-2.86zM5.41 20L4 18.59l7.72-7.72 1.47 1.35L5.41 20z\"/>\n",
              "  </svg>\n",
              "      </button>\n",
              "      \n",
              "  <style>\n",
              "    .colab-df-container {\n",
              "      display:flex;\n",
              "      flex-wrap:wrap;\n",
              "      gap: 12px;\n",
              "    }\n",
              "\n",
              "    .colab-df-convert {\n",
              "      background-color: #E8F0FE;\n",
              "      border: none;\n",
              "      border-radius: 50%;\n",
              "      cursor: pointer;\n",
              "      display: none;\n",
              "      fill: #1967D2;\n",
              "      height: 32px;\n",
              "      padding: 0 0 0 0;\n",
              "      width: 32px;\n",
              "    }\n",
              "\n",
              "    .colab-df-convert:hover {\n",
              "      background-color: #E2EBFA;\n",
              "      box-shadow: 0px 1px 2px rgba(60, 64, 67, 0.3), 0px 1px 3px 1px rgba(60, 64, 67, 0.15);\n",
              "      fill: #174EA6;\n",
              "    }\n",
              "\n",
              "    [theme=dark] .colab-df-convert {\n",
              "      background-color: #3B4455;\n",
              "      fill: #D2E3FC;\n",
              "    }\n",
              "\n",
              "    [theme=dark] .colab-df-convert:hover {\n",
              "      background-color: #434B5C;\n",
              "      box-shadow: 0px 1px 3px 1px rgba(0, 0, 0, 0.15);\n",
              "      filter: drop-shadow(0px 1px 2px rgba(0, 0, 0, 0.3));\n",
              "      fill: #FFFFFF;\n",
              "    }\n",
              "  </style>\n",
              "\n",
              "      <script>\n",
              "        const buttonEl =\n",
              "          document.querySelector('#df-aefd8df5-95fd-4349-9d10-3eb73b91e99f button.colab-df-convert');\n",
              "        buttonEl.style.display =\n",
              "          google.colab.kernel.accessAllowed ? 'block' : 'none';\n",
              "\n",
              "        async function convertToInteractive(key) {\n",
              "          const element = document.querySelector('#df-aefd8df5-95fd-4349-9d10-3eb73b91e99f');\n",
              "          const dataTable =\n",
              "            await google.colab.kernel.invokeFunction('convertToInteractive',\n",
              "                                                     [key], {});\n",
              "          if (!dataTable) return;\n",
              "\n",
              "          const docLinkHtml = 'Like what you see? Visit the ' +\n",
              "            '<a target=\"_blank\" href=https://colab.research.google.com/notebooks/data_table.ipynb>data table notebook</a>'\n",
              "            + ' to learn more about interactive tables.';\n",
              "          element.innerHTML = '';\n",
              "          dataTable['output_type'] = 'display_data';\n",
              "          await google.colab.output.renderOutput(dataTable, element);\n",
              "          const docLink = document.createElement('div');\n",
              "          docLink.innerHTML = docLinkHtml;\n",
              "          element.appendChild(docLink);\n",
              "        }\n",
              "      </script>\n",
              "    </div>\n",
              "  </div>\n",
              "  "
            ]
          },
          "metadata": {},
          "execution_count": 6
        }
      ]
    },
    {
      "cell_type": "code",
      "source": [
        "df.columns"
      ],
      "metadata": {
        "colab": {
          "base_uri": "https://localhost:8080/"
        },
        "id": "APP4xtU-flz9",
        "outputId": "3562efaa-72f0-4f5a-a82d-1f262a6c38d8"
      },
      "execution_count": 7,
      "outputs": [
        {
          "output_type": "execute_result",
          "data": {
            "text/plain": [
              "Index(['Tall', 'Referencia', 'Fecha Fa', 'Fec.aper', 'Cta.car',\n",
              "       'Nombre cliente', 'Cta.tit', 'Nombre titular', 'Recamb.',\n",
              "       'RECAMBIOS PVP', 'Tiem.fac', 'Total.MO', 'Modelo', 'Recep', 'Matricula',\n",
              "       'Bastidor', 'Tipo O.R.', 'OR UNICA', 'MES', 'AÑO', 'ESTANCIA',\n",
              "       'ORDEN CORTA'],\n",
              "      dtype='object')"
            ]
          },
          "metadata": {},
          "execution_count": 7
        }
      ]
    },
    {
      "cell_type": "code",
      "source": [
        "# voy a cambiar el nombre de algunas columnas. \n",
        "df = df.rename(columns={\"Fecha Fa\":\"Fecha_Fact\", \"Fec.aper\":\"Fecha_Apertura\", \"Cta.car\":\"Cta_Cargo\",\"Nombre cliente\":\"Nombre_Cliente\", \"Cta.tit\":\"Cta_Titular\", \"Nombre titular\":\"Nombre_Titular\", \n",
        "                   \"Recamb.\":\"Recamb\", \"RECAMBIOS PVP\":\"Recamb_Pvp\", \"Tiem.fac\":\"Tiemp_Fact\", \"Total.MO\":\"Total_Mo\", \"Tipo O.R.\":\"Tipo_Or\", \"OR UNICA\": \"Or_Unica\", \"ORDEN CORTA\":\"Orden_Corta\" })\n"
      ],
      "metadata": {
        "id": "Mftp8hb7zwdE"
      },
      "execution_count": 8,
      "outputs": []
    },
    {
      "cell_type": "code",
      "source": [
        "df.columns"
      ],
      "metadata": {
        "colab": {
          "base_uri": "https://localhost:8080/"
        },
        "id": "oGci7agk34AQ",
        "outputId": "7ba620dd-4463-4f83-c5b6-cd4ec1fccd30"
      },
      "execution_count": 9,
      "outputs": [
        {
          "output_type": "execute_result",
          "data": {
            "text/plain": [
              "Index(['Tall', 'Referencia', 'Fecha_Fact', 'Fecha_Apertura', 'Cta_Cargo',\n",
              "       'Nombre_Cliente', 'Cta_Titular', 'Nombre_Titular', 'Recamb',\n",
              "       'Recamb_Pvp', 'Tiemp_Fact', 'Total_Mo', 'Modelo', 'Recep', 'Matricula',\n",
              "       'Bastidor', 'Tipo_Or', 'Or_Unica', 'MES', 'AÑO', 'ESTANCIA',\n",
              "       'Orden_Corta'],\n",
              "      dtype='object')"
            ]
          },
          "metadata": {},
          "execution_count": 9
        }
      ]
    },
    {
      "cell_type": "code",
      "source": [
        "df.info()"
      ],
      "metadata": {
        "colab": {
          "base_uri": "https://localhost:8080/"
        },
        "id": "TtbpzZ2YgCSv",
        "outputId": "200bc1f7-661b-4d7f-adcd-1728b146b507"
      },
      "execution_count": 10,
      "outputs": [
        {
          "output_type": "stream",
          "name": "stdout",
          "text": [
            "<class 'pandas.core.frame.DataFrame'>\n",
            "RangeIndex: 287597 entries, 0 to 287596\n",
            "Data columns (total 22 columns):\n",
            " #   Column          Non-Null Count   Dtype         \n",
            "---  ------          --------------   -----         \n",
            " 0   Tall            287597 non-null  int64         \n",
            " 1   Referencia      287597 non-null  int64         \n",
            " 2   Fecha_Fact      273899 non-null  datetime64[ns]\n",
            " 3   Fecha_Apertura  287597 non-null  datetime64[ns]\n",
            " 4   Cta_Cargo       283357 non-null  object        \n",
            " 5   Nombre_Cliente  287596 non-null  object        \n",
            " 6   Cta_Titular     287566 non-null  object        \n",
            " 7   Nombre_Titular  287565 non-null  object        \n",
            " 8   Recamb          287597 non-null  float64       \n",
            " 9   Recamb_Pvp      287597 non-null  float64       \n",
            " 10  Tiemp_Fact      287592 non-null  float64       \n",
            " 11  Total_Mo        287592 non-null  float64       \n",
            " 12  Modelo          286311 non-null  object        \n",
            " 13  Recep           287597 non-null  object        \n",
            " 14  Matricula       287597 non-null  object        \n",
            " 15  Bastidor        287557 non-null  object        \n",
            " 16  Tipo_Or         287587 non-null  object        \n",
            " 17  Or_Unica        0 non-null       float64       \n",
            " 18  MES             287597 non-null  int64         \n",
            " 19  AÑO             287597 non-null  int64         \n",
            " 20  ESTANCIA        287597 non-null  int64         \n",
            " 21  Orden_Corta     287597 non-null  int64         \n",
            "dtypes: datetime64[ns](2), float64(5), int64(6), object(9)\n",
            "memory usage: 48.3+ MB\n"
          ]
        }
      ]
    },
    {
      "cell_type": "code",
      "source": [
        "df.columns"
      ],
      "metadata": {
        "colab": {
          "base_uri": "https://localhost:8080/"
        },
        "id": "AqNaXKAW38Hk",
        "outputId": "b962110c-9c0f-4ef9-fa40-b3d282aa5f32"
      },
      "execution_count": 11,
      "outputs": [
        {
          "output_type": "execute_result",
          "data": {
            "text/plain": [
              "Index(['Tall', 'Referencia', 'Fecha_Fact', 'Fecha_Apertura', 'Cta_Cargo',\n",
              "       'Nombre_Cliente', 'Cta_Titular', 'Nombre_Titular', 'Recamb',\n",
              "       'Recamb_Pvp', 'Tiemp_Fact', 'Total_Mo', 'Modelo', 'Recep', 'Matricula',\n",
              "       'Bastidor', 'Tipo_Or', 'Or_Unica', 'MES', 'AÑO', 'ESTANCIA',\n",
              "       'Orden_Corta'],\n",
              "      dtype='object')"
            ]
          },
          "metadata": {},
          "execution_count": 11
        }
      ]
    },
    {
      "cell_type": "code",
      "source": [
        "# lo primero que voy a hacer es cambiar de tipo de datos. \n",
        "df[\"Tall\"] = df[\"Tall\"].apply(str)\n",
        "df[\"Referencia\"] = df[\"Referencia\"].apply(str)\n",
        "df[\"Cta_Cargo\"] = df[\"Cta_Cargo\"].apply(str)\n",
        "df[\"Or_Unica\"] = df[\"Or_Unica\"].apply(str)\n",
        "df[\"Orden_Corta\"] = df[\"Orden_Corta\"].apply(str)"
      ],
      "metadata": {
        "id": "aYMxi35KgGr9"
      },
      "execution_count": 12,
      "outputs": []
    },
    {
      "cell_type": "code",
      "source": [
        "df[\"Fact_total\"] = df[\"Total_Mo\"] + df[\"Recamb\"]"
      ],
      "metadata": {
        "id": "SddpMHblgoZJ"
      },
      "execution_count": 13,
      "outputs": []
    },
    {
      "cell_type": "code",
      "source": [
        "df.head()"
      ],
      "metadata": {
        "colab": {
          "base_uri": "https://localhost:8080/",
          "height": 354
        },
        "id": "eUgmJUG5f5Hg",
        "outputId": "640d3667-69d6-4901-9de2-997b1e0e13d4"
      },
      "execution_count": 14,
      "outputs": [
        {
          "output_type": "execute_result",
          "data": {
            "text/plain": [
              "  Tall Referencia Fecha_Fact  ... ESTANCIA Orden_Corta Fact_total\n",
              "0    6    7655783 2015-01-02  ...       52      765578    1634.72\n",
              "1    6    7655784 2015-01-02  ...       52      765578      16.38\n",
              "2    6    7655785 2015-01-02  ...       52      765578     969.01\n",
              "3    1    7683941 2015-01-02  ...       39      768394    1760.67\n",
              "4    2    7702661 2015-01-02  ...        3      770266     197.45\n",
              "\n",
              "[5 rows x 23 columns]"
            ],
            "text/html": [
              "\n",
              "  <div id=\"df-68f94f00-b67c-484a-a7a3-d2d9534f6e37\">\n",
              "    <div class=\"colab-df-container\">\n",
              "      <div>\n",
              "<style scoped>\n",
              "    .dataframe tbody tr th:only-of-type {\n",
              "        vertical-align: middle;\n",
              "    }\n",
              "\n",
              "    .dataframe tbody tr th {\n",
              "        vertical-align: top;\n",
              "    }\n",
              "\n",
              "    .dataframe thead th {\n",
              "        text-align: right;\n",
              "    }\n",
              "</style>\n",
              "<table border=\"1\" class=\"dataframe\">\n",
              "  <thead>\n",
              "    <tr style=\"text-align: right;\">\n",
              "      <th></th>\n",
              "      <th>Tall</th>\n",
              "      <th>Referencia</th>\n",
              "      <th>Fecha_Fact</th>\n",
              "      <th>Fecha_Apertura</th>\n",
              "      <th>Cta_Cargo</th>\n",
              "      <th>Nombre_Cliente</th>\n",
              "      <th>Cta_Titular</th>\n",
              "      <th>Nombre_Titular</th>\n",
              "      <th>Recamb</th>\n",
              "      <th>Recamb_Pvp</th>\n",
              "      <th>Tiemp_Fact</th>\n",
              "      <th>Total_Mo</th>\n",
              "      <th>Modelo</th>\n",
              "      <th>Recep</th>\n",
              "      <th>Matricula</th>\n",
              "      <th>Bastidor</th>\n",
              "      <th>Tipo_Or</th>\n",
              "      <th>Or_Unica</th>\n",
              "      <th>MES</th>\n",
              "      <th>AÑO</th>\n",
              "      <th>ESTANCIA</th>\n",
              "      <th>Orden_Corta</th>\n",
              "      <th>Fact_total</th>\n",
              "    </tr>\n",
              "  </thead>\n",
              "  <tbody>\n",
              "    <tr>\n",
              "      <th>0</th>\n",
              "      <td>6</td>\n",
              "      <td>7655783</td>\n",
              "      <td>2015-01-02</td>\n",
              "      <td>2014-11-11</td>\n",
              "      <td>116</td>\n",
              "      <td>ORDENES DE REPARACION G</td>\n",
              "      <td>130187</td>\n",
              "      <td>GARCIA VILLAYZAN JOSE E</td>\n",
              "      <td>846.25</td>\n",
              "      <td>2336.55</td>\n",
              "      <td>11.13</td>\n",
              "      <td>788.47</td>\n",
              "      <td>A4 2.0 DIE</td>\n",
              "      <td>56</td>\n",
              "      <td>5249DJV</td>\n",
              "      <td>WAUZZZ8E65A483946</td>\n",
              "      <td>4A GARANTIA MECAN AUDI</td>\n",
              "      <td>nan</td>\n",
              "      <td>1</td>\n",
              "      <td>2015</td>\n",
              "      <td>52</td>\n",
              "      <td>765578</td>\n",
              "      <td>1634.72</td>\n",
              "    </tr>\n",
              "    <tr>\n",
              "      <th>1</th>\n",
              "      <td>6</td>\n",
              "      <td>7655784</td>\n",
              "      <td>2015-01-02</td>\n",
              "      <td>2014-11-11</td>\n",
              "      <td>610662</td>\n",
              "      <td>GASTOS ASUMIDOS POR TAL</td>\n",
              "      <td>130187</td>\n",
              "      <td>GARCIA VILLAYZAN JOSE E</td>\n",
              "      <td>16.38</td>\n",
              "      <td>32.76</td>\n",
              "      <td>0.00</td>\n",
              "      <td>0.00</td>\n",
              "      <td>A4 2.0 DIE</td>\n",
              "      <td>56</td>\n",
              "      <td>5249DJV</td>\n",
              "      <td>WAUZZZ8E65A483946</td>\n",
              "      <td>6A O.R. INTER MEC.AUDI</td>\n",
              "      <td>nan</td>\n",
              "      <td>1</td>\n",
              "      <td>2015</td>\n",
              "      <td>52</td>\n",
              "      <td>765578</td>\n",
              "      <td>16.38</td>\n",
              "    </tr>\n",
              "    <tr>\n",
              "      <th>2</th>\n",
              "      <td>6</td>\n",
              "      <td>7655785</td>\n",
              "      <td>2015-01-02</td>\n",
              "      <td>2014-11-11</td>\n",
              "      <td>610662</td>\n",
              "      <td>GASTOS ASUMIDOS POR TAL</td>\n",
              "      <td>130187</td>\n",
              "      <td>GARCIA VILLAYZAN JOSE E</td>\n",
              "      <td>644.11</td>\n",
              "      <td>2134.41</td>\n",
              "      <td>6.77</td>\n",
              "      <td>324.90</td>\n",
              "      <td>A4 2.0 DIE</td>\n",
              "      <td>56</td>\n",
              "      <td>5249DJV</td>\n",
              "      <td>WAUZZZ8E65A483946</td>\n",
              "      <td>DG DEFER.GARANTIA AUDI</td>\n",
              "      <td>nan</td>\n",
              "      <td>1</td>\n",
              "      <td>2015</td>\n",
              "      <td>52</td>\n",
              "      <td>765578</td>\n",
              "      <td>969.01</td>\n",
              "    </tr>\n",
              "    <tr>\n",
              "      <th>3</th>\n",
              "      <td>1</td>\n",
              "      <td>7683941</td>\n",
              "      <td>2015-01-02</td>\n",
              "      <td>2014-11-24</td>\n",
              "      <td>99234</td>\n",
              "      <td>SALVADOR DEL OLMO GERMA</td>\n",
              "      <td>99234</td>\n",
              "      <td>SALVADOR DEL OLMO GERMA</td>\n",
              "      <td>1675.97</td>\n",
              "      <td>3351.94</td>\n",
              "      <td>1.10</td>\n",
              "      <td>84.70</td>\n",
              "      <td>A-4 2.0 TD</td>\n",
              "      <td>272</td>\n",
              "      <td>8087DGN</td>\n",
              "      <td>WAUZZZ8E85A473547</td>\n",
              "      <td>2A O.R.CLIENT MEC AUDI</td>\n",
              "      <td>nan</td>\n",
              "      <td>1</td>\n",
              "      <td>2015</td>\n",
              "      <td>39</td>\n",
              "      <td>768394</td>\n",
              "      <td>1760.67</td>\n",
              "    </tr>\n",
              "    <tr>\n",
              "      <th>4</th>\n",
              "      <td>2</td>\n",
              "      <td>7702661</td>\n",
              "      <td>2015-01-02</td>\n",
              "      <td>2014-12-30</td>\n",
              "      <td>71917</td>\n",
              "      <td>RODRIGUEZ RICO MARIA CA</td>\n",
              "      <td>71917</td>\n",
              "      <td>RODRIGUEZ RICO MARIA CA</td>\n",
              "      <td>50.04</td>\n",
              "      <td>116.40</td>\n",
              "      <td>2.10</td>\n",
              "      <td>147.41</td>\n",
              "      <td>POLO 1.4 8</td>\n",
              "      <td>50</td>\n",
              "      <td>8194FBX</td>\n",
              "      <td>WVWZZZ9NZ7Y003242</td>\n",
              "      <td>2V O.R.CLIENT MEC VW</td>\n",
              "      <td>nan</td>\n",
              "      <td>1</td>\n",
              "      <td>2015</td>\n",
              "      <td>3</td>\n",
              "      <td>770266</td>\n",
              "      <td>197.45</td>\n",
              "    </tr>\n",
              "  </tbody>\n",
              "</table>\n",
              "</div>\n",
              "      <button class=\"colab-df-convert\" onclick=\"convertToInteractive('df-68f94f00-b67c-484a-a7a3-d2d9534f6e37')\"\n",
              "              title=\"Convert this dataframe to an interactive table.\"\n",
              "              style=\"display:none;\">\n",
              "        \n",
              "  <svg xmlns=\"http://www.w3.org/2000/svg\" height=\"24px\"viewBox=\"0 0 24 24\"\n",
              "       width=\"24px\">\n",
              "    <path d=\"M0 0h24v24H0V0z\" fill=\"none\"/>\n",
              "    <path d=\"M18.56 5.44l.94 2.06.94-2.06 2.06-.94-2.06-.94-.94-2.06-.94 2.06-2.06.94zm-11 1L8.5 8.5l.94-2.06 2.06-.94-2.06-.94L8.5 2.5l-.94 2.06-2.06.94zm10 10l.94 2.06.94-2.06 2.06-.94-2.06-.94-.94-2.06-.94 2.06-2.06.94z\"/><path d=\"M17.41 7.96l-1.37-1.37c-.4-.4-.92-.59-1.43-.59-.52 0-1.04.2-1.43.59L10.3 9.45l-7.72 7.72c-.78.78-.78 2.05 0 2.83L4 21.41c.39.39.9.59 1.41.59.51 0 1.02-.2 1.41-.59l7.78-7.78 2.81-2.81c.8-.78.8-2.07 0-2.86zM5.41 20L4 18.59l7.72-7.72 1.47 1.35L5.41 20z\"/>\n",
              "  </svg>\n",
              "      </button>\n",
              "      \n",
              "  <style>\n",
              "    .colab-df-container {\n",
              "      display:flex;\n",
              "      flex-wrap:wrap;\n",
              "      gap: 12px;\n",
              "    }\n",
              "\n",
              "    .colab-df-convert {\n",
              "      background-color: #E8F0FE;\n",
              "      border: none;\n",
              "      border-radius: 50%;\n",
              "      cursor: pointer;\n",
              "      display: none;\n",
              "      fill: #1967D2;\n",
              "      height: 32px;\n",
              "      padding: 0 0 0 0;\n",
              "      width: 32px;\n",
              "    }\n",
              "\n",
              "    .colab-df-convert:hover {\n",
              "      background-color: #E2EBFA;\n",
              "      box-shadow: 0px 1px 2px rgba(60, 64, 67, 0.3), 0px 1px 3px 1px rgba(60, 64, 67, 0.15);\n",
              "      fill: #174EA6;\n",
              "    }\n",
              "\n",
              "    [theme=dark] .colab-df-convert {\n",
              "      background-color: #3B4455;\n",
              "      fill: #D2E3FC;\n",
              "    }\n",
              "\n",
              "    [theme=dark] .colab-df-convert:hover {\n",
              "      background-color: #434B5C;\n",
              "      box-shadow: 0px 1px 3px 1px rgba(0, 0, 0, 0.15);\n",
              "      filter: drop-shadow(0px 1px 2px rgba(0, 0, 0, 0.3));\n",
              "      fill: #FFFFFF;\n",
              "    }\n",
              "  </style>\n",
              "\n",
              "      <script>\n",
              "        const buttonEl =\n",
              "          document.querySelector('#df-68f94f00-b67c-484a-a7a3-d2d9534f6e37 button.colab-df-convert');\n",
              "        buttonEl.style.display =\n",
              "          google.colab.kernel.accessAllowed ? 'block' : 'none';\n",
              "\n",
              "        async function convertToInteractive(key) {\n",
              "          const element = document.querySelector('#df-68f94f00-b67c-484a-a7a3-d2d9534f6e37');\n",
              "          const dataTable =\n",
              "            await google.colab.kernel.invokeFunction('convertToInteractive',\n",
              "                                                     [key], {});\n",
              "          if (!dataTable) return;\n",
              "\n",
              "          const docLinkHtml = 'Like what you see? Visit the ' +\n",
              "            '<a target=\"_blank\" href=https://colab.research.google.com/notebooks/data_table.ipynb>data table notebook</a>'\n",
              "            + ' to learn more about interactive tables.';\n",
              "          element.innerHTML = '';\n",
              "          dataTable['output_type'] = 'display_data';\n",
              "          await google.colab.output.renderOutput(dataTable, element);\n",
              "          const docLink = document.createElement('div');\n",
              "          docLink.innerHTML = docLinkHtml;\n",
              "          element.appendChild(docLink);\n",
              "        }\n",
              "      </script>\n",
              "    </div>\n",
              "  </div>\n",
              "  "
            ]
          },
          "metadata": {},
          "execution_count": 14
        }
      ]
    },
    {
      "cell_type": "code",
      "source": [
        "# de esta manera lo que hago es quitar el último digito de la variable referencia. \n",
        "# lo he hecho para probar como se hace. podría haberlo metido en otra variable y luego meterla en el dataframe para no eliminar información. \n",
        "df[\"Orden_Corta2\"] = df.apply(lambda x: x[\"Referencia\"][:-1], axis=1)"
      ],
      "metadata": {
        "id": "2-Fv7MqIsyN6"
      },
      "execution_count": 15,
      "outputs": []
    },
    {
      "cell_type": "code",
      "source": [
        "df.head()"
      ],
      "metadata": {
        "colab": {
          "base_uri": "https://localhost:8080/",
          "height": 389
        },
        "id": "EQpFeamUtUp9",
        "outputId": "f3f2e17d-002b-456f-fae3-b65dd7c006ad"
      },
      "execution_count": 16,
      "outputs": [
        {
          "output_type": "execute_result",
          "data": {
            "text/plain": [
              "  Tall Referencia Fecha_Fact  ... Orden_Corta Fact_total Orden_Corta2\n",
              "0    6    7655783 2015-01-02  ...      765578    1634.72       765578\n",
              "1    6    7655784 2015-01-02  ...      765578      16.38       765578\n",
              "2    6    7655785 2015-01-02  ...      765578     969.01       765578\n",
              "3    1    7683941 2015-01-02  ...      768394    1760.67       768394\n",
              "4    2    7702661 2015-01-02  ...      770266     197.45       770266\n",
              "\n",
              "[5 rows x 24 columns]"
            ],
            "text/html": [
              "\n",
              "  <div id=\"df-990ccc16-84bd-4f06-8ee6-634c435ce16a\">\n",
              "    <div class=\"colab-df-container\">\n",
              "      <div>\n",
              "<style scoped>\n",
              "    .dataframe tbody tr th:only-of-type {\n",
              "        vertical-align: middle;\n",
              "    }\n",
              "\n",
              "    .dataframe tbody tr th {\n",
              "        vertical-align: top;\n",
              "    }\n",
              "\n",
              "    .dataframe thead th {\n",
              "        text-align: right;\n",
              "    }\n",
              "</style>\n",
              "<table border=\"1\" class=\"dataframe\">\n",
              "  <thead>\n",
              "    <tr style=\"text-align: right;\">\n",
              "      <th></th>\n",
              "      <th>Tall</th>\n",
              "      <th>Referencia</th>\n",
              "      <th>Fecha_Fact</th>\n",
              "      <th>Fecha_Apertura</th>\n",
              "      <th>Cta_Cargo</th>\n",
              "      <th>Nombre_Cliente</th>\n",
              "      <th>Cta_Titular</th>\n",
              "      <th>Nombre_Titular</th>\n",
              "      <th>Recamb</th>\n",
              "      <th>Recamb_Pvp</th>\n",
              "      <th>Tiemp_Fact</th>\n",
              "      <th>Total_Mo</th>\n",
              "      <th>Modelo</th>\n",
              "      <th>Recep</th>\n",
              "      <th>Matricula</th>\n",
              "      <th>Bastidor</th>\n",
              "      <th>Tipo_Or</th>\n",
              "      <th>Or_Unica</th>\n",
              "      <th>MES</th>\n",
              "      <th>AÑO</th>\n",
              "      <th>ESTANCIA</th>\n",
              "      <th>Orden_Corta</th>\n",
              "      <th>Fact_total</th>\n",
              "      <th>Orden_Corta2</th>\n",
              "    </tr>\n",
              "  </thead>\n",
              "  <tbody>\n",
              "    <tr>\n",
              "      <th>0</th>\n",
              "      <td>6</td>\n",
              "      <td>7655783</td>\n",
              "      <td>2015-01-02</td>\n",
              "      <td>2014-11-11</td>\n",
              "      <td>116</td>\n",
              "      <td>ORDENES DE REPARACION G</td>\n",
              "      <td>130187</td>\n",
              "      <td>GARCIA VILLAYZAN JOSE E</td>\n",
              "      <td>846.25</td>\n",
              "      <td>2336.55</td>\n",
              "      <td>11.13</td>\n",
              "      <td>788.47</td>\n",
              "      <td>A4 2.0 DIE</td>\n",
              "      <td>56</td>\n",
              "      <td>5249DJV</td>\n",
              "      <td>WAUZZZ8E65A483946</td>\n",
              "      <td>4A GARANTIA MECAN AUDI</td>\n",
              "      <td>nan</td>\n",
              "      <td>1</td>\n",
              "      <td>2015</td>\n",
              "      <td>52</td>\n",
              "      <td>765578</td>\n",
              "      <td>1634.72</td>\n",
              "      <td>765578</td>\n",
              "    </tr>\n",
              "    <tr>\n",
              "      <th>1</th>\n",
              "      <td>6</td>\n",
              "      <td>7655784</td>\n",
              "      <td>2015-01-02</td>\n",
              "      <td>2014-11-11</td>\n",
              "      <td>610662</td>\n",
              "      <td>GASTOS ASUMIDOS POR TAL</td>\n",
              "      <td>130187</td>\n",
              "      <td>GARCIA VILLAYZAN JOSE E</td>\n",
              "      <td>16.38</td>\n",
              "      <td>32.76</td>\n",
              "      <td>0.00</td>\n",
              "      <td>0.00</td>\n",
              "      <td>A4 2.0 DIE</td>\n",
              "      <td>56</td>\n",
              "      <td>5249DJV</td>\n",
              "      <td>WAUZZZ8E65A483946</td>\n",
              "      <td>6A O.R. INTER MEC.AUDI</td>\n",
              "      <td>nan</td>\n",
              "      <td>1</td>\n",
              "      <td>2015</td>\n",
              "      <td>52</td>\n",
              "      <td>765578</td>\n",
              "      <td>16.38</td>\n",
              "      <td>765578</td>\n",
              "    </tr>\n",
              "    <tr>\n",
              "      <th>2</th>\n",
              "      <td>6</td>\n",
              "      <td>7655785</td>\n",
              "      <td>2015-01-02</td>\n",
              "      <td>2014-11-11</td>\n",
              "      <td>610662</td>\n",
              "      <td>GASTOS ASUMIDOS POR TAL</td>\n",
              "      <td>130187</td>\n",
              "      <td>GARCIA VILLAYZAN JOSE E</td>\n",
              "      <td>644.11</td>\n",
              "      <td>2134.41</td>\n",
              "      <td>6.77</td>\n",
              "      <td>324.90</td>\n",
              "      <td>A4 2.0 DIE</td>\n",
              "      <td>56</td>\n",
              "      <td>5249DJV</td>\n",
              "      <td>WAUZZZ8E65A483946</td>\n",
              "      <td>DG DEFER.GARANTIA AUDI</td>\n",
              "      <td>nan</td>\n",
              "      <td>1</td>\n",
              "      <td>2015</td>\n",
              "      <td>52</td>\n",
              "      <td>765578</td>\n",
              "      <td>969.01</td>\n",
              "      <td>765578</td>\n",
              "    </tr>\n",
              "    <tr>\n",
              "      <th>3</th>\n",
              "      <td>1</td>\n",
              "      <td>7683941</td>\n",
              "      <td>2015-01-02</td>\n",
              "      <td>2014-11-24</td>\n",
              "      <td>99234</td>\n",
              "      <td>SALVADOR DEL OLMO GERMA</td>\n",
              "      <td>99234</td>\n",
              "      <td>SALVADOR DEL OLMO GERMA</td>\n",
              "      <td>1675.97</td>\n",
              "      <td>3351.94</td>\n",
              "      <td>1.10</td>\n",
              "      <td>84.70</td>\n",
              "      <td>A-4 2.0 TD</td>\n",
              "      <td>272</td>\n",
              "      <td>8087DGN</td>\n",
              "      <td>WAUZZZ8E85A473547</td>\n",
              "      <td>2A O.R.CLIENT MEC AUDI</td>\n",
              "      <td>nan</td>\n",
              "      <td>1</td>\n",
              "      <td>2015</td>\n",
              "      <td>39</td>\n",
              "      <td>768394</td>\n",
              "      <td>1760.67</td>\n",
              "      <td>768394</td>\n",
              "    </tr>\n",
              "    <tr>\n",
              "      <th>4</th>\n",
              "      <td>2</td>\n",
              "      <td>7702661</td>\n",
              "      <td>2015-01-02</td>\n",
              "      <td>2014-12-30</td>\n",
              "      <td>71917</td>\n",
              "      <td>RODRIGUEZ RICO MARIA CA</td>\n",
              "      <td>71917</td>\n",
              "      <td>RODRIGUEZ RICO MARIA CA</td>\n",
              "      <td>50.04</td>\n",
              "      <td>116.40</td>\n",
              "      <td>2.10</td>\n",
              "      <td>147.41</td>\n",
              "      <td>POLO 1.4 8</td>\n",
              "      <td>50</td>\n",
              "      <td>8194FBX</td>\n",
              "      <td>WVWZZZ9NZ7Y003242</td>\n",
              "      <td>2V O.R.CLIENT MEC VW</td>\n",
              "      <td>nan</td>\n",
              "      <td>1</td>\n",
              "      <td>2015</td>\n",
              "      <td>3</td>\n",
              "      <td>770266</td>\n",
              "      <td>197.45</td>\n",
              "      <td>770266</td>\n",
              "    </tr>\n",
              "  </tbody>\n",
              "</table>\n",
              "</div>\n",
              "      <button class=\"colab-df-convert\" onclick=\"convertToInteractive('df-990ccc16-84bd-4f06-8ee6-634c435ce16a')\"\n",
              "              title=\"Convert this dataframe to an interactive table.\"\n",
              "              style=\"display:none;\">\n",
              "        \n",
              "  <svg xmlns=\"http://www.w3.org/2000/svg\" height=\"24px\"viewBox=\"0 0 24 24\"\n",
              "       width=\"24px\">\n",
              "    <path d=\"M0 0h24v24H0V0z\" fill=\"none\"/>\n",
              "    <path d=\"M18.56 5.44l.94 2.06.94-2.06 2.06-.94-2.06-.94-.94-2.06-.94 2.06-2.06.94zm-11 1L8.5 8.5l.94-2.06 2.06-.94-2.06-.94L8.5 2.5l-.94 2.06-2.06.94zm10 10l.94 2.06.94-2.06 2.06-.94-2.06-.94-.94-2.06-.94 2.06-2.06.94z\"/><path d=\"M17.41 7.96l-1.37-1.37c-.4-.4-.92-.59-1.43-.59-.52 0-1.04.2-1.43.59L10.3 9.45l-7.72 7.72c-.78.78-.78 2.05 0 2.83L4 21.41c.39.39.9.59 1.41.59.51 0 1.02-.2 1.41-.59l7.78-7.78 2.81-2.81c.8-.78.8-2.07 0-2.86zM5.41 20L4 18.59l7.72-7.72 1.47 1.35L5.41 20z\"/>\n",
              "  </svg>\n",
              "      </button>\n",
              "      \n",
              "  <style>\n",
              "    .colab-df-container {\n",
              "      display:flex;\n",
              "      flex-wrap:wrap;\n",
              "      gap: 12px;\n",
              "    }\n",
              "\n",
              "    .colab-df-convert {\n",
              "      background-color: #E8F0FE;\n",
              "      border: none;\n",
              "      border-radius: 50%;\n",
              "      cursor: pointer;\n",
              "      display: none;\n",
              "      fill: #1967D2;\n",
              "      height: 32px;\n",
              "      padding: 0 0 0 0;\n",
              "      width: 32px;\n",
              "    }\n",
              "\n",
              "    .colab-df-convert:hover {\n",
              "      background-color: #E2EBFA;\n",
              "      box-shadow: 0px 1px 2px rgba(60, 64, 67, 0.3), 0px 1px 3px 1px rgba(60, 64, 67, 0.15);\n",
              "      fill: #174EA6;\n",
              "    }\n",
              "\n",
              "    [theme=dark] .colab-df-convert {\n",
              "      background-color: #3B4455;\n",
              "      fill: #D2E3FC;\n",
              "    }\n",
              "\n",
              "    [theme=dark] .colab-df-convert:hover {\n",
              "      background-color: #434B5C;\n",
              "      box-shadow: 0px 1px 3px 1px rgba(0, 0, 0, 0.15);\n",
              "      filter: drop-shadow(0px 1px 2px rgba(0, 0, 0, 0.3));\n",
              "      fill: #FFFFFF;\n",
              "    }\n",
              "  </style>\n",
              "\n",
              "      <script>\n",
              "        const buttonEl =\n",
              "          document.querySelector('#df-990ccc16-84bd-4f06-8ee6-634c435ce16a button.colab-df-convert');\n",
              "        buttonEl.style.display =\n",
              "          google.colab.kernel.accessAllowed ? 'block' : 'none';\n",
              "\n",
              "        async function convertToInteractive(key) {\n",
              "          const element = document.querySelector('#df-990ccc16-84bd-4f06-8ee6-634c435ce16a');\n",
              "          const dataTable =\n",
              "            await google.colab.kernel.invokeFunction('convertToInteractive',\n",
              "                                                     [key], {});\n",
              "          if (!dataTable) return;\n",
              "\n",
              "          const docLinkHtml = 'Like what you see? Visit the ' +\n",
              "            '<a target=\"_blank\" href=https://colab.research.google.com/notebooks/data_table.ipynb>data table notebook</a>'\n",
              "            + ' to learn more about interactive tables.';\n",
              "          element.innerHTML = '';\n",
              "          dataTable['output_type'] = 'display_data';\n",
              "          await google.colab.output.renderOutput(dataTable, element);\n",
              "          const docLink = document.createElement('div');\n",
              "          docLink.innerHTML = docLinkHtml;\n",
              "          element.appendChild(docLink);\n",
              "        }\n",
              "      </script>\n",
              "    </div>\n",
              "  </div>\n",
              "  "
            ]
          },
          "metadata": {},
          "execution_count": 16
        }
      ]
    },
    {
      "cell_type": "code",
      "source": [
        "df.shape"
      ],
      "metadata": {
        "colab": {
          "base_uri": "https://localhost:8080/"
        },
        "id": "_Mx4t6mmtaGA",
        "outputId": "fe74c5f7-40c8-4d13-ba1f-77520157085f"
      },
      "execution_count": 17,
      "outputs": [
        {
          "output_type": "execute_result",
          "data": {
            "text/plain": [
              "(287597, 24)"
            ]
          },
          "metadata": {},
          "execution_count": 17
        }
      ]
    },
    {
      "cell_type": "code",
      "source": [
        "df.isnull().sum() # como podemos veer debajo tenemos 13.698 filas sin fecha de facturación. estas las voy a quitar. Lo haremos mas adelante. "
      ],
      "metadata": {
        "colab": {
          "base_uri": "https://localhost:8080/"
        },
        "id": "klYHCjIvuwm5",
        "outputId": "fd5de102-708d-4df5-d60f-4fffd497ed7d"
      },
      "execution_count": 18,
      "outputs": [
        {
          "output_type": "execute_result",
          "data": {
            "text/plain": [
              "Tall                  0\n",
              "Referencia            0\n",
              "Fecha_Fact        13698\n",
              "Fecha_Apertura        0\n",
              "Cta_Cargo             0\n",
              "Nombre_Cliente        1\n",
              "Cta_Titular          31\n",
              "Nombre_Titular       32\n",
              "Recamb                0\n",
              "Recamb_Pvp            0\n",
              "Tiemp_Fact            5\n",
              "Total_Mo              5\n",
              "Modelo             1286\n",
              "Recep                 0\n",
              "Matricula             0\n",
              "Bastidor             40\n",
              "Tipo_Or              10\n",
              "Or_Unica              0\n",
              "MES                   0\n",
              "AÑO                   0\n",
              "ESTANCIA              0\n",
              "Orden_Corta           0\n",
              "Fact_total            5\n",
              "Orden_Corta2          0\n",
              "dtype: int64"
            ]
          },
          "metadata": {},
          "execution_count": 18
        }
      ]
    },
    {
      "cell_type": "code",
      "source": [
        "df.Orden_Corta2.nunique() # este es número total de ordenes cortas, por lo tanto de pasos. "
      ],
      "metadata": {
        "colab": {
          "base_uri": "https://localhost:8080/"
        },
        "id": "K5GjDeOuvaH_",
        "outputId": "37be017b-2a3f-47c7-be37-0490669d752b"
      },
      "execution_count": 19,
      "outputs": [
        {
          "output_type": "execute_result",
          "data": {
            "text/plain": [
              "188938"
            ]
          },
          "metadata": {},
          "execution_count": 19
        }
      ]
    },
    {
      "cell_type": "code",
      "source": [
        "df.Bastidor.nunique() # tenemos 58.809 vehículos bastidores diferentes. "
      ],
      "metadata": {
        "colab": {
          "base_uri": "https://localhost:8080/"
        },
        "id": "uGeXDAYxwYxq",
        "outputId": "ac116232-b71e-47a4-b981-3f802da98aa7"
      },
      "execution_count": 20,
      "outputs": [
        {
          "output_type": "execute_result",
          "data": {
            "text/plain": [
              "58809"
            ]
          },
          "metadata": {},
          "execution_count": 20
        }
      ]
    },
    {
      "cell_type": "code",
      "source": [
        "df.Fact_total.describe() # aquí tenemos los estadísticos de facturación total. vemos valores negativos que serán los abonos. "
      ],
      "metadata": {
        "colab": {
          "base_uri": "https://localhost:8080/"
        },
        "id": "jvkmoPy3wuvO",
        "outputId": "3b7fd582-b355-4d7d-d571-f44637d91a6c"
      },
      "execution_count": 21,
      "outputs": [
        {
          "output_type": "execute_result",
          "data": {
            "text/plain": [
              "count    287592.000000\n",
              "mean        362.644278\n",
              "std         872.600770\n",
              "min      -32419.720000\n",
              "25%          58.150000\n",
              "50%         198.630000\n",
              "75%         429.582500\n",
              "max       32716.440000\n",
              "Name: Fact_total, dtype: float64"
            ]
          },
          "metadata": {},
          "execution_count": 21
        }
      ]
    },
    {
      "cell_type": "code",
      "source": [
        "df = df[df[\"Fact_total\"]>=0] # quitamos todas las ordenes que sean negativas. \n",
        "df.shape"
      ],
      "metadata": {
        "colab": {
          "base_uri": "https://localhost:8080/"
        },
        "id": "F5DnG8zqyDL3",
        "outputId": "32b529d5-03ff-44ca-eb97-0d8a8269981a"
      },
      "execution_count": 22,
      "outputs": [
        {
          "output_type": "execute_result",
          "data": {
            "text/plain": [
              "(283275, 24)"
            ]
          },
          "metadata": {},
          "execution_count": 22
        }
      ]
    },
    {
      "cell_type": "code",
      "source": [
        "print(\"la fecha va desde {} a {}\".format(df.Fecha_Apertura.min(), df.Fecha_Apertura.max()))"
      ],
      "metadata": {
        "colab": {
          "base_uri": "https://localhost:8080/"
        },
        "id": "bIYU7QOVyplv",
        "outputId": "e0882b0b-ac48-44c0-b5be-f8b23a6df2a6"
      },
      "execution_count": 23,
      "outputs": [
        {
          "output_type": "stream",
          "name": "stdout",
          "text": [
            "la fecha va desde 2004-04-11 00:00:00 a 2022-06-29 00:00:00\n"
          ]
        }
      ]
    },
    {
      "cell_type": "code",
      "source": [
        "df.Fact_total.describe(percentiles=[0.25, 0.5, 0.75, 0.9, 0.95, 0.99])"
      ],
      "metadata": {
        "colab": {
          "base_uri": "https://localhost:8080/"
        },
        "id": "fkEsjgds5S0N",
        "outputId": "14b06833-f79c-451a-dfc4-d0c4b8f63636"
      },
      "execution_count": 24,
      "outputs": [
        {
          "output_type": "execute_result",
          "data": {
            "text/plain": [
              "count    283275.000000\n",
              "mean        389.008590\n",
              "std         786.283091\n",
              "min           0.000000\n",
              "25%          64.680000\n",
              "50%         202.960000\n",
              "75%         435.235000\n",
              "90%         822.372000\n",
              "95%        1265.014000\n",
              "99%        3159.162000\n",
              "max       32716.440000\n",
              "Name: Fact_total, dtype: float64"
            ]
          },
          "metadata": {},
          "execution_count": 24
        }
      ]
    },
    {
      "cell_type": "code",
      "source": [
        "df.Bastidor.nunique() # por ahora después de la limpieza tenemos 58.798 clientes o bastidores. "
      ],
      "metadata": {
        "colab": {
          "base_uri": "https://localhost:8080/"
        },
        "id": "wOG8Qgbr5uv7",
        "outputId": "0328fd56-4ca0-4628-cb52-2198092f0041"
      },
      "execution_count": 25,
      "outputs": [
        {
          "output_type": "execute_result",
          "data": {
            "text/plain": [
              "58798"
            ]
          },
          "metadata": {},
          "execution_count": 25
        }
      ]
    },
    {
      "cell_type": "code",
      "source": [
        "df.Tipo_Or.value_counts(normalize=True) # por numero de lineas, debajo están los pesos. "
      ],
      "metadata": {
        "colab": {
          "base_uri": "https://localhost:8080/"
        },
        "id": "wjRRWsXm59t7",
        "outputId": "4864f33c-ed0d-400c-f685-b88908ea6aef"
      },
      "execution_count": 26,
      "outputs": [
        {
          "output_type": "execute_result",
          "data": {
            "text/plain": [
              "2A O.R.CLIENT MEC AUDI       0.189893\n",
              "2V O.R.CLIENT MEC VW         0.135030\n",
              "6A O.R. INTER MEC.AUDI       0.110859\n",
              "7A PRESUPUESTO CH AUDI       0.104349\n",
              "4A GARANTIA MECAN AUDI       0.091888\n",
              "6V O.R. INTER MEC.VW         0.076736\n",
              "7V PRESUPUESTO CH VW         0.069676\n",
              "4V GARANTIA MECAN VW         0.058990\n",
              "11LV O.R. MEC VW LONG DRI    0.030279\n",
              "2A O.R.CLIENT MEC AUDI-CO    0.027606\n",
              "11LA O.R. MEC AU LONG DRI    0.024983\n",
              "5A O.R. INTER CH AUDI        0.018816\n",
              "2V O.R.CLIENT MEC VW-CONT    0.017873\n",
              "5V O.R. INTER CH VW          0.010615\n",
              "7LA PRES  AU CH  LONG DRI    0.004275\n",
              "6L O.R. INTER MEC LCV        0.003537\n",
              "1A O.R.CLIENT CH AUDI        0.003100\n",
              "2L O.R.CLIENT MEC LCV        0.002404\n",
              "DG DEFER.GARANTIA AUDI       0.002372\n",
              "2RA O.R.CLIENT MEC AUDI -    0.002369\n",
              "7LV PRES  VW CH  LONG DRI    0.002164\n",
              "12LA O.R. MEC AU VW RENTI    0.002051\n",
              "2RV O.R.CLIENT MEC VW-CRE    0.001659\n",
              "GD DEFER.GARANTIA MECAN V    0.001613\n",
              "4L GARANTIA MECAN LCV        0.001599\n",
              "1V O.R.CLIENT CH VW          0.001116\n",
              "12LV O.R. MEC VW VW RENTI    0.001066\n",
              "2L O.R.CLIENT MEC LCV-CON    0.000830\n",
              "11LL O.R. MEC LCV LONG DR    0.000763\n",
              "7L PRESUPUESTO CH LCV        0.000741\n",
              "2RL O.R.CLIENT MEC LCV-CR    0.000169\n",
              "5L O.R. INTER CH LCV         0.000141\n",
              "12LL O.R. MEC LCV VW RENT    0.000141\n",
              "7LL PRES  LCV  CH  LONG D    0.000106\n",
              "2Q CLIENTE AUDI A8/Q7        0.000102\n",
              "GL DEFER.GARANTIA MECAN L    0.000035\n",
              "1L O.R.CLIENT CH LCV         0.000035\n",
              "2P CLIENTE PHAETON/TOUA      0.000014\n",
              "2AR O.R.ACC.RENTING AU       0.000004\n",
              "Name: Tipo_Or, dtype: float64"
            ]
          },
          "metadata": {},
          "execution_count": 26
        }
      ]
    },
    {
      "cell_type": "code",
      "source": [
        "df.Tipo_Or.nunique() # tenemos 39 tipos de ordenes. "
      ],
      "metadata": {
        "colab": {
          "base_uri": "https://localhost:8080/"
        },
        "id": "RXuSix1U6P7w",
        "outputId": "e19f7a13-7b5f-46b3-fee6-c3353358737d"
      },
      "execution_count": 27,
      "outputs": [
        {
          "output_type": "execute_result",
          "data": {
            "text/plain": [
              "39"
            ]
          },
          "metadata": {},
          "execution_count": 27
        }
      ]
    },
    {
      "cell_type": "code",
      "source": [
        "# voy a quitar las internas. \n",
        "df[df[\"Tipo_Or\"].str.startswith(\"5\" or \"6\")==True]"
      ],
      "metadata": {
        "colab": {
          "base_uri": "https://localhost:8080/",
          "height": 904
        },
        "id": "j8lFJCGA6vI9",
        "outputId": "53c7dce7-2b55-4d13-d095-ed876450d1ab"
      },
      "execution_count": 28,
      "outputs": [
        {
          "output_type": "execute_result",
          "data": {
            "text/plain": [
              "       Tall Referencia Fecha_Fact  ... Orden_Corta Fact_total Orden_Corta2\n",
              "84        2    7572432 2015-01-07  ...      757243     960.00       757243\n",
              "86        2    7572435 2015-01-07  ...      757243     300.00       757243\n",
              "90        2    7640901 2015-01-07  ...      764090     302.68       764090\n",
              "101       2    7706961 2015-01-07  ...      770696     150.55       770696\n",
              "146       2    7739221 2015-01-07  ...      773922     371.97       773922\n",
              "...     ...        ...        ...  ...         ...        ...          ...\n",
              "287500    8   13829451 2022-06-27  ...     1382945      48.00      1382945\n",
              "287506    6   13830371 2022-06-28  ...     1383037      70.50      1383037\n",
              "287513    6   13831721 2022-06-29  ...     1383172     192.00      1383172\n",
              "287514    8   13831741 2022-06-29  ...     1383174      60.00      1383174\n",
              "287584    1   13837151 2022-06-28  ...     1383715     131.04      1383715\n",
              "\n",
              "[8377 rows x 24 columns]"
            ],
            "text/html": [
              "\n",
              "  <div id=\"df-a5b764c7-ae1c-4853-9682-67b3ba5781d0\">\n",
              "    <div class=\"colab-df-container\">\n",
              "      <div>\n",
              "<style scoped>\n",
              "    .dataframe tbody tr th:only-of-type {\n",
              "        vertical-align: middle;\n",
              "    }\n",
              "\n",
              "    .dataframe tbody tr th {\n",
              "        vertical-align: top;\n",
              "    }\n",
              "\n",
              "    .dataframe thead th {\n",
              "        text-align: right;\n",
              "    }\n",
              "</style>\n",
              "<table border=\"1\" class=\"dataframe\">\n",
              "  <thead>\n",
              "    <tr style=\"text-align: right;\">\n",
              "      <th></th>\n",
              "      <th>Tall</th>\n",
              "      <th>Referencia</th>\n",
              "      <th>Fecha_Fact</th>\n",
              "      <th>Fecha_Apertura</th>\n",
              "      <th>Cta_Cargo</th>\n",
              "      <th>Nombre_Cliente</th>\n",
              "      <th>Cta_Titular</th>\n",
              "      <th>Nombre_Titular</th>\n",
              "      <th>Recamb</th>\n",
              "      <th>Recamb_Pvp</th>\n",
              "      <th>Tiemp_Fact</th>\n",
              "      <th>Total_Mo</th>\n",
              "      <th>Modelo</th>\n",
              "      <th>Recep</th>\n",
              "      <th>Matricula</th>\n",
              "      <th>Bastidor</th>\n",
              "      <th>Tipo_Or</th>\n",
              "      <th>Or_Unica</th>\n",
              "      <th>MES</th>\n",
              "      <th>AÑO</th>\n",
              "      <th>ESTANCIA</th>\n",
              "      <th>Orden_Corta</th>\n",
              "      <th>Fact_total</th>\n",
              "      <th>Orden_Corta2</th>\n",
              "    </tr>\n",
              "  </thead>\n",
              "  <tbody>\n",
              "    <tr>\n",
              "      <th>84</th>\n",
              "      <td>2</td>\n",
              "      <td>7572432</td>\n",
              "      <td>2015-01-07</td>\n",
              "      <td>2014-09-30</td>\n",
              "      <td>610431</td>\n",
              "      <td>REACONDICIONAMIENTO V.O</td>\n",
              "      <td>120</td>\n",
              "      <td>TORRES DE LA PEÑA JOAQU</td>\n",
              "      <td>0.00</td>\n",
              "      <td>0.00</td>\n",
              "      <td>26.00</td>\n",
              "      <td>960.00</td>\n",
              "      <td>TIGUAN 2.0</td>\n",
              "      <td>255</td>\n",
              "      <td>1243HDV</td>\n",
              "      <td>WVGZZZ5NZBW562392</td>\n",
              "      <td>5V O.R. INTER CH VW</td>\n",
              "      <td>nan</td>\n",
              "      <td>1</td>\n",
              "      <td>2015</td>\n",
              "      <td>99</td>\n",
              "      <td>757243</td>\n",
              "      <td>960.00</td>\n",
              "      <td>757243</td>\n",
              "    </tr>\n",
              "    <tr>\n",
              "      <th>86</th>\n",
              "      <td>2</td>\n",
              "      <td>7572435</td>\n",
              "      <td>2015-01-07</td>\n",
              "      <td>2014-09-30</td>\n",
              "      <td>610624</td>\n",
              "      <td>REACONDICIONAMIENTO V.D</td>\n",
              "      <td>120</td>\n",
              "      <td>TORRES DE LA PEÑA JOAQU</td>\n",
              "      <td>0.00</td>\n",
              "      <td>0.00</td>\n",
              "      <td>6.25</td>\n",
              "      <td>300.00</td>\n",
              "      <td>TIGUAN 2.0</td>\n",
              "      <td>255</td>\n",
              "      <td>1243HDV</td>\n",
              "      <td>WVGZZZ5NZBW562392</td>\n",
              "      <td>5A O.R. INTER CH AUDI</td>\n",
              "      <td>nan</td>\n",
              "      <td>1</td>\n",
              "      <td>2015</td>\n",
              "      <td>99</td>\n",
              "      <td>757243</td>\n",
              "      <td>300.00</td>\n",
              "      <td>757243</td>\n",
              "    </tr>\n",
              "    <tr>\n",
              "      <th>90</th>\n",
              "      <td>2</td>\n",
              "      <td>7640901</td>\n",
              "      <td>2015-01-07</td>\n",
              "      <td>2014-11-03</td>\n",
              "      <td>610431</td>\n",
              "      <td>REACONDICIONAMIENTO V.O</td>\n",
              "      <td>120</td>\n",
              "      <td>LIBERTY DRIVE FRANCE</td>\n",
              "      <td>143.68</td>\n",
              "      <td>287.36</td>\n",
              "      <td>4.30</td>\n",
              "      <td>159.00</td>\n",
              "      <td>VW Touran</td>\n",
              "      <td>56</td>\n",
              "      <td>6343HWH</td>\n",
              "      <td>WVGZZZ1TZEW074407</td>\n",
              "      <td>5V O.R. INTER CH VW</td>\n",
              "      <td>nan</td>\n",
              "      <td>1</td>\n",
              "      <td>2015</td>\n",
              "      <td>65</td>\n",
              "      <td>764090</td>\n",
              "      <td>302.68</td>\n",
              "      <td>764090</td>\n",
              "    </tr>\n",
              "    <tr>\n",
              "      <th>101</th>\n",
              "      <td>2</td>\n",
              "      <td>7706961</td>\n",
              "      <td>2015-01-07</td>\n",
              "      <td>2014-12-03</td>\n",
              "      <td>610431</td>\n",
              "      <td>REACONDICIONAMIENTO V.O</td>\n",
              "      <td>127</td>\n",
              "      <td>NO UTILIZAR</td>\n",
              "      <td>2.55</td>\n",
              "      <td>5.10</td>\n",
              "      <td>4.00</td>\n",
              "      <td>148.00</td>\n",
              "      <td>PASSAT VAR</td>\n",
              "      <td>56</td>\n",
              "      <td>1678HTL</td>\n",
              "      <td>WVWZZZ3CZEE071091</td>\n",
              "      <td>5V O.R. INTER CH VW</td>\n",
              "      <td>nan</td>\n",
              "      <td>1</td>\n",
              "      <td>2015</td>\n",
              "      <td>35</td>\n",
              "      <td>770696</td>\n",
              "      <td>150.55</td>\n",
              "      <td>770696</td>\n",
              "    </tr>\n",
              "    <tr>\n",
              "      <th>146</th>\n",
              "      <td>2</td>\n",
              "      <td>7739221</td>\n",
              "      <td>2015-01-07</td>\n",
              "      <td>2014-12-19</td>\n",
              "      <td>610431</td>\n",
              "      <td>REACONDICIONAMIENTO V.O</td>\n",
              "      <td>120</td>\n",
              "      <td>LIBERTY DRIVE FRANCE</td>\n",
              "      <td>304.47</td>\n",
              "      <td>608.94</td>\n",
              "      <td>2.25</td>\n",
              "      <td>67.50</td>\n",
              "      <td>VW Touran</td>\n",
              "      <td>282</td>\n",
              "      <td>0317HVR</td>\n",
              "      <td>WVGZZZ1TZEW059435</td>\n",
              "      <td>5V O.R. INTER CH VW</td>\n",
              "      <td>nan</td>\n",
              "      <td>1</td>\n",
              "      <td>2015</td>\n",
              "      <td>19</td>\n",
              "      <td>773922</td>\n",
              "      <td>371.97</td>\n",
              "      <td>773922</td>\n",
              "    </tr>\n",
              "    <tr>\n",
              "      <th>...</th>\n",
              "      <td>...</td>\n",
              "      <td>...</td>\n",
              "      <td>...</td>\n",
              "      <td>...</td>\n",
              "      <td>...</td>\n",
              "      <td>...</td>\n",
              "      <td>...</td>\n",
              "      <td>...</td>\n",
              "      <td>...</td>\n",
              "      <td>...</td>\n",
              "      <td>...</td>\n",
              "      <td>...</td>\n",
              "      <td>...</td>\n",
              "      <td>...</td>\n",
              "      <td>...</td>\n",
              "      <td>...</td>\n",
              "      <td>...</td>\n",
              "      <td>...</td>\n",
              "      <td>...</td>\n",
              "      <td>...</td>\n",
              "      <td>...</td>\n",
              "      <td>...</td>\n",
              "      <td>...</td>\n",
              "      <td>...</td>\n",
              "    </tr>\n",
              "    <tr>\n",
              "      <th>287500</th>\n",
              "      <td>8</td>\n",
              "      <td>13829451</td>\n",
              "      <td>2022-06-27</td>\n",
              "      <td>2022-06-24</td>\n",
              "      <td>610431</td>\n",
              "      <td>REACONDICIONAMIENTO V.O</td>\n",
              "      <td>120</td>\n",
              "      <td>Alvarez-Ossorio Piñero</td>\n",
              "      <td>0.00</td>\n",
              "      <td>0.00</td>\n",
              "      <td>1.60</td>\n",
              "      <td>48.00</td>\n",
              "      <td>POLO 1.0 E</td>\n",
              "      <td>796</td>\n",
              "      <td>2823KSV</td>\n",
              "      <td>WVWZZZAWZKY095274</td>\n",
              "      <td>5V O.R. INTER CH VW</td>\n",
              "      <td>nan</td>\n",
              "      <td>6</td>\n",
              "      <td>2022</td>\n",
              "      <td>3</td>\n",
              "      <td>1382945</td>\n",
              "      <td>48.00</td>\n",
              "      <td>1382945</td>\n",
              "    </tr>\n",
              "    <tr>\n",
              "      <th>287506</th>\n",
              "      <td>6</td>\n",
              "      <td>13830371</td>\n",
              "      <td>2022-06-28</td>\n",
              "      <td>2022-06-24</td>\n",
              "      <td>610431</td>\n",
              "      <td>REACONDICIONAMIENTO V.O</td>\n",
              "      <td>120</td>\n",
              "      <td>NO UTILIZAR</td>\n",
              "      <td>0.00</td>\n",
              "      <td>0.00</td>\n",
              "      <td>2.35</td>\n",
              "      <td>70.50</td>\n",
              "      <td>A6 35 TDI</td>\n",
              "      <td>796</td>\n",
              "      <td>6836LNZ</td>\n",
              "      <td>WAUZZZF21MN082708</td>\n",
              "      <td>5A O.R. INTER CH AUDI</td>\n",
              "      <td>nan</td>\n",
              "      <td>6</td>\n",
              "      <td>2022</td>\n",
              "      <td>4</td>\n",
              "      <td>1383037</td>\n",
              "      <td>70.50</td>\n",
              "      <td>1383037</td>\n",
              "    </tr>\n",
              "    <tr>\n",
              "      <th>287513</th>\n",
              "      <td>6</td>\n",
              "      <td>13831721</td>\n",
              "      <td>2022-06-29</td>\n",
              "      <td>2022-06-24</td>\n",
              "      <td>610622</td>\n",
              "      <td>POLITICA COMERCIAL VN A</td>\n",
              "      <td>127</td>\n",
              "      <td>NO UTILIZAR</td>\n",
              "      <td>0.00</td>\n",
              "      <td>0.00</td>\n",
              "      <td>4.00</td>\n",
              "      <td>192.00</td>\n",
              "      <td>AUDI Q5 SP</td>\n",
              "      <td>796</td>\n",
              "      <td>274280</td>\n",
              "      <td>WAUZZZFY8N2080820</td>\n",
              "      <td>5A O.R. INTER CH AUDI</td>\n",
              "      <td>nan</td>\n",
              "      <td>6</td>\n",
              "      <td>2022</td>\n",
              "      <td>5</td>\n",
              "      <td>1383172</td>\n",
              "      <td>192.00</td>\n",
              "      <td>1383172</td>\n",
              "    </tr>\n",
              "    <tr>\n",
              "      <th>287514</th>\n",
              "      <td>8</td>\n",
              "      <td>13831741</td>\n",
              "      <td>2022-06-29</td>\n",
              "      <td>2022-06-24</td>\n",
              "      <td>610624</td>\n",
              "      <td>REACONDICIONAMIENTO V.D</td>\n",
              "      <td>18918</td>\n",
              "      <td>JARMAUTO SA</td>\n",
              "      <td>12.00</td>\n",
              "      <td>24.00</td>\n",
              "      <td>1.60</td>\n",
              "      <td>48.00</td>\n",
              "      <td>GOLF STYLE</td>\n",
              "      <td>796</td>\n",
              "      <td>2098LLL</td>\n",
              "      <td>WVWZZZCDZMW303010</td>\n",
              "      <td>5V O.R. INTER CH VW</td>\n",
              "      <td>nan</td>\n",
              "      <td>6</td>\n",
              "      <td>2022</td>\n",
              "      <td>5</td>\n",
              "      <td>1383174</td>\n",
              "      <td>60.00</td>\n",
              "      <td>1383174</td>\n",
              "    </tr>\n",
              "    <tr>\n",
              "      <th>287584</th>\n",
              "      <td>1</td>\n",
              "      <td>13837151</td>\n",
              "      <td>2022-06-28</td>\n",
              "      <td>2022-06-27</td>\n",
              "      <td>610672</td>\n",
              "      <td>GOLPES DADOS POR EL PER</td>\n",
              "      <td>194275</td>\n",
              "      <td>HERRAIZ MOLINA ANTONIO</td>\n",
              "      <td>0.00</td>\n",
              "      <td>0.00</td>\n",
              "      <td>2.73</td>\n",
              "      <td>131.04</td>\n",
              "      <td>AUDI Q5  S</td>\n",
              "      <td>95</td>\n",
              "      <td>1135JJC</td>\n",
              "      <td>WAUZZZ8R4GA036571</td>\n",
              "      <td>5A O.R. INTER CH AUDI</td>\n",
              "      <td>nan</td>\n",
              "      <td>6</td>\n",
              "      <td>2022</td>\n",
              "      <td>1</td>\n",
              "      <td>1383715</td>\n",
              "      <td>131.04</td>\n",
              "      <td>1383715</td>\n",
              "    </tr>\n",
              "  </tbody>\n",
              "</table>\n",
              "<p>8377 rows × 24 columns</p>\n",
              "</div>\n",
              "      <button class=\"colab-df-convert\" onclick=\"convertToInteractive('df-a5b764c7-ae1c-4853-9682-67b3ba5781d0')\"\n",
              "              title=\"Convert this dataframe to an interactive table.\"\n",
              "              style=\"display:none;\">\n",
              "        \n",
              "  <svg xmlns=\"http://www.w3.org/2000/svg\" height=\"24px\"viewBox=\"0 0 24 24\"\n",
              "       width=\"24px\">\n",
              "    <path d=\"M0 0h24v24H0V0z\" fill=\"none\"/>\n",
              "    <path d=\"M18.56 5.44l.94 2.06.94-2.06 2.06-.94-2.06-.94-.94-2.06-.94 2.06-2.06.94zm-11 1L8.5 8.5l.94-2.06 2.06-.94-2.06-.94L8.5 2.5l-.94 2.06-2.06.94zm10 10l.94 2.06.94-2.06 2.06-.94-2.06-.94-.94-2.06-.94 2.06-2.06.94z\"/><path d=\"M17.41 7.96l-1.37-1.37c-.4-.4-.92-.59-1.43-.59-.52 0-1.04.2-1.43.59L10.3 9.45l-7.72 7.72c-.78.78-.78 2.05 0 2.83L4 21.41c.39.39.9.59 1.41.59.51 0 1.02-.2 1.41-.59l7.78-7.78 2.81-2.81c.8-.78.8-2.07 0-2.86zM5.41 20L4 18.59l7.72-7.72 1.47 1.35L5.41 20z\"/>\n",
              "  </svg>\n",
              "      </button>\n",
              "      \n",
              "  <style>\n",
              "    .colab-df-container {\n",
              "      display:flex;\n",
              "      flex-wrap:wrap;\n",
              "      gap: 12px;\n",
              "    }\n",
              "\n",
              "    .colab-df-convert {\n",
              "      background-color: #E8F0FE;\n",
              "      border: none;\n",
              "      border-radius: 50%;\n",
              "      cursor: pointer;\n",
              "      display: none;\n",
              "      fill: #1967D2;\n",
              "      height: 32px;\n",
              "      padding: 0 0 0 0;\n",
              "      width: 32px;\n",
              "    }\n",
              "\n",
              "    .colab-df-convert:hover {\n",
              "      background-color: #E2EBFA;\n",
              "      box-shadow: 0px 1px 2px rgba(60, 64, 67, 0.3), 0px 1px 3px 1px rgba(60, 64, 67, 0.15);\n",
              "      fill: #174EA6;\n",
              "    }\n",
              "\n",
              "    [theme=dark] .colab-df-convert {\n",
              "      background-color: #3B4455;\n",
              "      fill: #D2E3FC;\n",
              "    }\n",
              "\n",
              "    [theme=dark] .colab-df-convert:hover {\n",
              "      background-color: #434B5C;\n",
              "      box-shadow: 0px 1px 3px 1px rgba(0, 0, 0, 0.15);\n",
              "      filter: drop-shadow(0px 1px 2px rgba(0, 0, 0, 0.3));\n",
              "      fill: #FFFFFF;\n",
              "    }\n",
              "  </style>\n",
              "\n",
              "      <script>\n",
              "        const buttonEl =\n",
              "          document.querySelector('#df-a5b764c7-ae1c-4853-9682-67b3ba5781d0 button.colab-df-convert');\n",
              "        buttonEl.style.display =\n",
              "          google.colab.kernel.accessAllowed ? 'block' : 'none';\n",
              "\n",
              "        async function convertToInteractive(key) {\n",
              "          const element = document.querySelector('#df-a5b764c7-ae1c-4853-9682-67b3ba5781d0');\n",
              "          const dataTable =\n",
              "            await google.colab.kernel.invokeFunction('convertToInteractive',\n",
              "                                                     [key], {});\n",
              "          if (!dataTable) return;\n",
              "\n",
              "          const docLinkHtml = 'Like what you see? Visit the ' +\n",
              "            '<a target=\"_blank\" href=https://colab.research.google.com/notebooks/data_table.ipynb>data table notebook</a>'\n",
              "            + ' to learn more about interactive tables.';\n",
              "          element.innerHTML = '';\n",
              "          dataTable['output_type'] = 'display_data';\n",
              "          await google.colab.output.renderOutput(dataTable, element);\n",
              "          const docLink = document.createElement('div');\n",
              "          docLink.innerHTML = docLinkHtml;\n",
              "          element.appendChild(docLink);\n",
              "        }\n",
              "      </script>\n",
              "    </div>\n",
              "  </div>\n",
              "  "
            ]
          },
          "metadata": {},
          "execution_count": 28
        }
      ]
    },
    {
      "cell_type": "code",
      "source": [
        "df = df[df[\"Tipo_Or\"].str.startswith(\"5\" or \"6\")!=True]"
      ],
      "metadata": {
        "id": "w18ZEadE7SgB"
      },
      "execution_count": 29,
      "outputs": []
    },
    {
      "cell_type": "code",
      "source": [
        "df.Bastidor.nunique() # después de haber quitado el interno tenemos 58.714 bastidores. "
      ],
      "metadata": {
        "colab": {
          "base_uri": "https://localhost:8080/"
        },
        "id": "thOFmFQh7nV3",
        "outputId": "9f368b77-7929-4363-c181-ea350e471cf1"
      },
      "execution_count": 30,
      "outputs": [
        {
          "output_type": "execute_result",
          "data": {
            "text/plain": [
              "58714"
            ]
          },
          "metadata": {},
          "execution_count": 30
        }
      ]
    },
    {
      "cell_type": "code",
      "source": [
        "df.shape # tenemos 274.898 filas"
      ],
      "metadata": {
        "colab": {
          "base_uri": "https://localhost:8080/"
        },
        "id": "wk7FB_Zj7tvy",
        "outputId": "358455e3-6fee-4e77-a1dc-3d403ca98258"
      },
      "execution_count": 31,
      "outputs": [
        {
          "output_type": "execute_result",
          "data": {
            "text/plain": [
              "(274898, 24)"
            ]
          },
          "metadata": {},
          "execution_count": 31
        }
      ]
    },
    {
      "cell_type": "code",
      "source": [
        "df.isnull().sum()"
      ],
      "metadata": {
        "colab": {
          "base_uri": "https://localhost:8080/"
        },
        "id": "-zkZnDK079R_",
        "outputId": "0767d24f-02da-425a-dd11-52023e70935d"
      },
      "execution_count": 32,
      "outputs": [
        {
          "output_type": "execute_result",
          "data": {
            "text/plain": [
              "Tall                  0\n",
              "Referencia            0\n",
              "Fecha_Fact        13260\n",
              "Fecha_Apertura        0\n",
              "Cta_Cargo             0\n",
              "Nombre_Cliente        1\n",
              "Cta_Titular          30\n",
              "Nombre_Titular       31\n",
              "Recamb                0\n",
              "Recamb_Pvp            0\n",
              "Tiemp_Fact            5\n",
              "Total_Mo              0\n",
              "Modelo             1255\n",
              "Recep                 0\n",
              "Matricula             0\n",
              "Bastidor             40\n",
              "Tipo_Or               5\n",
              "Or_Unica              0\n",
              "MES                   0\n",
              "AÑO                   0\n",
              "ESTANCIA              0\n",
              "Orden_Corta           0\n",
              "Fact_total            0\n",
              "Orden_Corta2          0\n",
              "dtype: int64"
            ]
          },
          "metadata": {},
          "execution_count": 32
        }
      ]
    },
    {
      "cell_type": "code",
      "source": [
        "# vamos a quitar todas las filas que no tengan numero de bastidor.\n",
        "df = df[~df.Bastidor.isnull()]\n",
        "df.shape"
      ],
      "metadata": {
        "colab": {
          "base_uri": "https://localhost:8080/"
        },
        "id": "FJ2DjxBB8a_T",
        "outputId": "2d8776f3-6c71-458b-c1b8-1c33374807da"
      },
      "execution_count": 33,
      "outputs": [
        {
          "output_type": "execute_result",
          "data": {
            "text/plain": [
              "(274858, 24)"
            ]
          },
          "metadata": {},
          "execution_count": 33
        }
      ]
    },
    {
      "cell_type": "code",
      "source": [
        "# también vamos a quitar todos los que no tienen fecha de facturación. \n",
        "df = df[~df.Fecha_Fact.isnull()]\n",
        "# Tambien quito los que no tengan nombre del titular. \n",
        "df = df[~df.Nombre_Titular.isnull()]\n",
        "df = df[~df.Cta_Titular.isnull()]\n",
        "df = df[~df.Modelo.isnull()]"
      ],
      "metadata": {
        "id": "ReOr3OTJ9MLu"
      },
      "execution_count": 34,
      "outputs": []
    },
    {
      "cell_type": "code",
      "source": [
        "df.Bastidor.nunique() #58058 bastidores. "
      ],
      "metadata": {
        "colab": {
          "base_uri": "https://localhost:8080/"
        },
        "id": "TJnVdSuf830o",
        "outputId": "0e4a1fc3-b225-45a0-8ba6-4c7414ab7905"
      },
      "execution_count": 35,
      "outputs": [
        {
          "output_type": "execute_result",
          "data": {
            "text/plain": [
              "58058"
            ]
          },
          "metadata": {},
          "execution_count": 35
        }
      ]
    },
    {
      "cell_type": "code",
      "source": [
        "df.info() # aqui he quitado todos los nulos. podría haberlos sustituido por otra cosa....."
      ],
      "metadata": {
        "colab": {
          "base_uri": "https://localhost:8080/"
        },
        "id": "nvUEmhWX8-t3",
        "outputId": "464e1e3f-d543-4d54-8ee5-6ec0864d910e"
      },
      "execution_count": 36,
      "outputs": [
        {
          "output_type": "stream",
          "name": "stdout",
          "text": [
            "<class 'pandas.core.frame.DataFrame'>\n",
            "Int64Index: 260497 entries, 0 to 287596\n",
            "Data columns (total 24 columns):\n",
            " #   Column          Non-Null Count   Dtype         \n",
            "---  ------          --------------   -----         \n",
            " 0   Tall            260497 non-null  object        \n",
            " 1   Referencia      260497 non-null  object        \n",
            " 2   Fecha_Fact      260497 non-null  datetime64[ns]\n",
            " 3   Fecha_Apertura  260497 non-null  datetime64[ns]\n",
            " 4   Cta_Cargo       260497 non-null  object        \n",
            " 5   Nombre_Cliente  260497 non-null  object        \n",
            " 6   Cta_Titular     260497 non-null  object        \n",
            " 7   Nombre_Titular  260497 non-null  object        \n",
            " 8   Recamb          260497 non-null  float64       \n",
            " 9   Recamb_Pvp      260497 non-null  float64       \n",
            " 10  Tiemp_Fact      260497 non-null  float64       \n",
            " 11  Total_Mo        260497 non-null  float64       \n",
            " 12  Modelo          260497 non-null  object        \n",
            " 13  Recep           260497 non-null  object        \n",
            " 14  Matricula       260497 non-null  object        \n",
            " 15  Bastidor        260497 non-null  object        \n",
            " 16  Tipo_Or         260497 non-null  object        \n",
            " 17  Or_Unica        260497 non-null  object        \n",
            " 18  MES             260497 non-null  int64         \n",
            " 19  AÑO             260497 non-null  int64         \n",
            " 20  ESTANCIA        260497 non-null  int64         \n",
            " 21  Orden_Corta     260497 non-null  object        \n",
            " 22  Fact_total      260497 non-null  float64       \n",
            " 23  Orden_Corta2    260497 non-null  object        \n",
            "dtypes: datetime64[ns](2), float64(5), int64(3), object(14)\n",
            "memory usage: 49.7+ MB\n"
          ]
        }
      ]
    },
    {
      "cell_type": "code",
      "source": [
        "df.isnull().sum()"
      ],
      "metadata": {
        "colab": {
          "base_uri": "https://localhost:8080/"
        },
        "id": "VqAP30pI9G4o",
        "outputId": "197049d4-76f3-47b9-a875-80e469a1c316"
      },
      "execution_count": 37,
      "outputs": [
        {
          "output_type": "execute_result",
          "data": {
            "text/plain": [
              "Tall              0\n",
              "Referencia        0\n",
              "Fecha_Fact        0\n",
              "Fecha_Apertura    0\n",
              "Cta_Cargo         0\n",
              "Nombre_Cliente    0\n",
              "Cta_Titular       0\n",
              "Nombre_Titular    0\n",
              "Recamb            0\n",
              "Recamb_Pvp        0\n",
              "Tiemp_Fact        0\n",
              "Total_Mo          0\n",
              "Modelo            0\n",
              "Recep             0\n",
              "Matricula         0\n",
              "Bastidor          0\n",
              "Tipo_Or           0\n",
              "Or_Unica          0\n",
              "MES               0\n",
              "AÑO               0\n",
              "ESTANCIA          0\n",
              "Orden_Corta       0\n",
              "Fact_total        0\n",
              "Orden_Corta2      0\n",
              "dtype: int64"
            ]
          },
          "metadata": {},
          "execution_count": 37
        }
      ]
    },
    {
      "cell_type": "code",
      "source": [
        "# creating some columns for exploratory\n",
        "\n",
        "\n",
        "df['year'] = df['Fecha_Apertura'].dt.year # sacamos el año de la fecha\n",
        "df['month'] = df['Fecha_Apertura'].dt.month # sacamos el mes\n",
        "df['day'] = df['Fecha_Apertura'].dt.day # sacamos el día. \n",
        "df['day_of_week'] = df['Fecha_Apertura'].dt.dayofweek # sacamos el día de la semana. "
      ],
      "metadata": {
        "id": "Boycrvi4-qSN"
      },
      "execution_count": 38,
      "outputs": []
    },
    {
      "cell_type": "code",
      "source": [
        "df.head(2)"
      ],
      "metadata": {
        "colab": {
          "base_uri": "https://localhost:8080/",
          "height": 263
        },
        "id": "V21mZw5m_LhI",
        "outputId": "9c90cbef-472a-4965-b599-4621da39d5a5"
      },
      "execution_count": 39,
      "outputs": [
        {
          "output_type": "execute_result",
          "data": {
            "text/plain": [
              "  Tall Referencia Fecha_Fact Fecha_Apertura  ...  year month day day_of_week\n",
              "0    6    7655783 2015-01-02     2014-11-11  ...  2014    11  11           1\n",
              "1    6    7655784 2015-01-02     2014-11-11  ...  2014    11  11           1\n",
              "\n",
              "[2 rows x 28 columns]"
            ],
            "text/html": [
              "\n",
              "  <div id=\"df-15312df7-8cc9-4041-beec-1ecac829a240\">\n",
              "    <div class=\"colab-df-container\">\n",
              "      <div>\n",
              "<style scoped>\n",
              "    .dataframe tbody tr th:only-of-type {\n",
              "        vertical-align: middle;\n",
              "    }\n",
              "\n",
              "    .dataframe tbody tr th {\n",
              "        vertical-align: top;\n",
              "    }\n",
              "\n",
              "    .dataframe thead th {\n",
              "        text-align: right;\n",
              "    }\n",
              "</style>\n",
              "<table border=\"1\" class=\"dataframe\">\n",
              "  <thead>\n",
              "    <tr style=\"text-align: right;\">\n",
              "      <th></th>\n",
              "      <th>Tall</th>\n",
              "      <th>Referencia</th>\n",
              "      <th>Fecha_Fact</th>\n",
              "      <th>Fecha_Apertura</th>\n",
              "      <th>Cta_Cargo</th>\n",
              "      <th>Nombre_Cliente</th>\n",
              "      <th>Cta_Titular</th>\n",
              "      <th>Nombre_Titular</th>\n",
              "      <th>Recamb</th>\n",
              "      <th>Recamb_Pvp</th>\n",
              "      <th>Tiemp_Fact</th>\n",
              "      <th>Total_Mo</th>\n",
              "      <th>Modelo</th>\n",
              "      <th>Recep</th>\n",
              "      <th>Matricula</th>\n",
              "      <th>Bastidor</th>\n",
              "      <th>Tipo_Or</th>\n",
              "      <th>Or_Unica</th>\n",
              "      <th>MES</th>\n",
              "      <th>AÑO</th>\n",
              "      <th>ESTANCIA</th>\n",
              "      <th>Orden_Corta</th>\n",
              "      <th>Fact_total</th>\n",
              "      <th>Orden_Corta2</th>\n",
              "      <th>year</th>\n",
              "      <th>month</th>\n",
              "      <th>day</th>\n",
              "      <th>day_of_week</th>\n",
              "    </tr>\n",
              "  </thead>\n",
              "  <tbody>\n",
              "    <tr>\n",
              "      <th>0</th>\n",
              "      <td>6</td>\n",
              "      <td>7655783</td>\n",
              "      <td>2015-01-02</td>\n",
              "      <td>2014-11-11</td>\n",
              "      <td>116</td>\n",
              "      <td>ORDENES DE REPARACION G</td>\n",
              "      <td>130187</td>\n",
              "      <td>GARCIA VILLAYZAN JOSE E</td>\n",
              "      <td>846.25</td>\n",
              "      <td>2336.55</td>\n",
              "      <td>11.13</td>\n",
              "      <td>788.47</td>\n",
              "      <td>A4 2.0 DIE</td>\n",
              "      <td>56</td>\n",
              "      <td>5249DJV</td>\n",
              "      <td>WAUZZZ8E65A483946</td>\n",
              "      <td>4A GARANTIA MECAN AUDI</td>\n",
              "      <td>nan</td>\n",
              "      <td>1</td>\n",
              "      <td>2015</td>\n",
              "      <td>52</td>\n",
              "      <td>765578</td>\n",
              "      <td>1634.72</td>\n",
              "      <td>765578</td>\n",
              "      <td>2014</td>\n",
              "      <td>11</td>\n",
              "      <td>11</td>\n",
              "      <td>1</td>\n",
              "    </tr>\n",
              "    <tr>\n",
              "      <th>1</th>\n",
              "      <td>6</td>\n",
              "      <td>7655784</td>\n",
              "      <td>2015-01-02</td>\n",
              "      <td>2014-11-11</td>\n",
              "      <td>610662</td>\n",
              "      <td>GASTOS ASUMIDOS POR TAL</td>\n",
              "      <td>130187</td>\n",
              "      <td>GARCIA VILLAYZAN JOSE E</td>\n",
              "      <td>16.38</td>\n",
              "      <td>32.76</td>\n",
              "      <td>0.00</td>\n",
              "      <td>0.00</td>\n",
              "      <td>A4 2.0 DIE</td>\n",
              "      <td>56</td>\n",
              "      <td>5249DJV</td>\n",
              "      <td>WAUZZZ8E65A483946</td>\n",
              "      <td>6A O.R. INTER MEC.AUDI</td>\n",
              "      <td>nan</td>\n",
              "      <td>1</td>\n",
              "      <td>2015</td>\n",
              "      <td>52</td>\n",
              "      <td>765578</td>\n",
              "      <td>16.38</td>\n",
              "      <td>765578</td>\n",
              "      <td>2014</td>\n",
              "      <td>11</td>\n",
              "      <td>11</td>\n",
              "      <td>1</td>\n",
              "    </tr>\n",
              "  </tbody>\n",
              "</table>\n",
              "</div>\n",
              "      <button class=\"colab-df-convert\" onclick=\"convertToInteractive('df-15312df7-8cc9-4041-beec-1ecac829a240')\"\n",
              "              title=\"Convert this dataframe to an interactive table.\"\n",
              "              style=\"display:none;\">\n",
              "        \n",
              "  <svg xmlns=\"http://www.w3.org/2000/svg\" height=\"24px\"viewBox=\"0 0 24 24\"\n",
              "       width=\"24px\">\n",
              "    <path d=\"M0 0h24v24H0V0z\" fill=\"none\"/>\n",
              "    <path d=\"M18.56 5.44l.94 2.06.94-2.06 2.06-.94-2.06-.94-.94-2.06-.94 2.06-2.06.94zm-11 1L8.5 8.5l.94-2.06 2.06-.94-2.06-.94L8.5 2.5l-.94 2.06-2.06.94zm10 10l.94 2.06.94-2.06 2.06-.94-2.06-.94-.94-2.06-.94 2.06-2.06.94z\"/><path d=\"M17.41 7.96l-1.37-1.37c-.4-.4-.92-.59-1.43-.59-.52 0-1.04.2-1.43.59L10.3 9.45l-7.72 7.72c-.78.78-.78 2.05 0 2.83L4 21.41c.39.39.9.59 1.41.59.51 0 1.02-.2 1.41-.59l7.78-7.78 2.81-2.81c.8-.78.8-2.07 0-2.86zM5.41 20L4 18.59l7.72-7.72 1.47 1.35L5.41 20z\"/>\n",
              "  </svg>\n",
              "      </button>\n",
              "      \n",
              "  <style>\n",
              "    .colab-df-container {\n",
              "      display:flex;\n",
              "      flex-wrap:wrap;\n",
              "      gap: 12px;\n",
              "    }\n",
              "\n",
              "    .colab-df-convert {\n",
              "      background-color: #E8F0FE;\n",
              "      border: none;\n",
              "      border-radius: 50%;\n",
              "      cursor: pointer;\n",
              "      display: none;\n",
              "      fill: #1967D2;\n",
              "      height: 32px;\n",
              "      padding: 0 0 0 0;\n",
              "      width: 32px;\n",
              "    }\n",
              "\n",
              "    .colab-df-convert:hover {\n",
              "      background-color: #E2EBFA;\n",
              "      box-shadow: 0px 1px 2px rgba(60, 64, 67, 0.3), 0px 1px 3px 1px rgba(60, 64, 67, 0.15);\n",
              "      fill: #174EA6;\n",
              "    }\n",
              "\n",
              "    [theme=dark] .colab-df-convert {\n",
              "      background-color: #3B4455;\n",
              "      fill: #D2E3FC;\n",
              "    }\n",
              "\n",
              "    [theme=dark] .colab-df-convert:hover {\n",
              "      background-color: #434B5C;\n",
              "      box-shadow: 0px 1px 3px 1px rgba(0, 0, 0, 0.15);\n",
              "      filter: drop-shadow(0px 1px 2px rgba(0, 0, 0, 0.3));\n",
              "      fill: #FFFFFF;\n",
              "    }\n",
              "  </style>\n",
              "\n",
              "      <script>\n",
              "        const buttonEl =\n",
              "          document.querySelector('#df-15312df7-8cc9-4041-beec-1ecac829a240 button.colab-df-convert');\n",
              "        buttonEl.style.display =\n",
              "          google.colab.kernel.accessAllowed ? 'block' : 'none';\n",
              "\n",
              "        async function convertToInteractive(key) {\n",
              "          const element = document.querySelector('#df-15312df7-8cc9-4041-beec-1ecac829a240');\n",
              "          const dataTable =\n",
              "            await google.colab.kernel.invokeFunction('convertToInteractive',\n",
              "                                                     [key], {});\n",
              "          if (!dataTable) return;\n",
              "\n",
              "          const docLinkHtml = 'Like what you see? Visit the ' +\n",
              "            '<a target=\"_blank\" href=https://colab.research.google.com/notebooks/data_table.ipynb>data table notebook</a>'\n",
              "            + ' to learn more about interactive tables.';\n",
              "          element.innerHTML = '';\n",
              "          dataTable['output_type'] = 'display_data';\n",
              "          await google.colab.output.renderOutput(dataTable, element);\n",
              "          const docLink = document.createElement('div');\n",
              "          docLink.innerHTML = docLinkHtml;\n",
              "          element.appendChild(docLink);\n",
              "        }\n",
              "      </script>\n",
              "    </div>\n",
              "  </div>\n",
              "  "
            ]
          },
          "metadata": {},
          "execution_count": 39
        }
      ]
    },
    {
      "cell_type": "code",
      "source": [
        "# voy a sacar unos graficos. \n",
        "\n",
        "column = [\"Orden_Corta2\", \"Bastidor\"]\n",
        "plt.figure(figsize=(15,5))\n",
        "for i, j in enumerate(column):\n",
        "    plt.subplot(1,2, i+1)\n",
        "    sns.barplot(x = df.groupby(\"Tall\")[j].nunique().sort_values(ascending=False).head(10).values,\n",
        "                y = df.groupby(\"Tall\")[j].nunique().sort_values(ascending=False).head(10).index,\n",
        "                color = \"yellow\")\n",
        "    plt.ylabel(\"\")\n",
        "    if i == 0:\n",
        "        plt.xlabel(\"Total pasos. \")\n",
        "        plt.title(\"Total Pasos\", size=15)\n",
        "    else:\n",
        "        plt.xlabel(\"Total bastidores\")\n",
        "        plt.title(\"Bastidores Unicos\", size=15)\n",
        "\n",
        "plt.tight_layout()\n",
        "plt.show()"
      ],
      "metadata": {
        "colab": {
          "base_uri": "https://localhost:8080/",
          "height": 369
        },
        "id": "07MVggB7_NlV",
        "outputId": "7044813d-f506-4f76-a3d7-4ff3bad938bd"
      },
      "execution_count": 40,
      "outputs": [
        {
          "output_type": "display_data",
          "data": {
            "text/plain": [
              "<Figure size 1080x360 with 2 Axes>"
            ],
            "image/png": "[encoded data removed]"
          },
          "metadata": {}
        }
      ]
    },
    {
      "cell_type": "code",
      "source": [
        "# voy a sacar unos graficos. \n",
        "\n",
        "column = [\"Orden_Corta2\", \"Bastidor\"]\n",
        "plt.figure(figsize=(15,5))\n",
        "for i, j in enumerate(column):\n",
        "    plt.subplot(1,2, i+1)\n",
        "    sns.barplot(x = df.groupby(\"Tall\")[j].nunique().sort_values(ascending=False).head(10).values,\n",
        "                y = df.groupby(\"Tall\")[j].nunique().sort_values(ascending=False).head(10).index,\n",
        "                color = \"yellow\")\n",
        "    plt.ylabel(\"\")\n",
        "    if i == 0:\n",
        "        plt.xlabel(\"Suma de Cantidad\")\n",
        "        plt.title(\"Pasos de taller\", size=15)\n",
        "    else:\n",
        "        plt.xlabel(\"Total bastidores\")\n",
        "        plt.title(\"Bastidores Unicos\", size=15)\n",
        "\n",
        "plt.tight_layout()\n",
        "plt.show()"
      ],
      "metadata": {
        "colab": {
          "base_uri": "https://localhost:8080/",
          "height": 369
        },
        "id": "dcxobRfqPj6b",
        "outputId": "b0dbfbc5-b1ad-4d27-da7e-b32b326f7f2b"
      },
      "execution_count": 41,
      "outputs": [
        {
          "output_type": "display_data",
          "data": {
            "text/plain": [
              "<Figure size 1080x360 with 2 Axes>"
            ],
            "image/png": "[encoded data removed]"
          },
          "metadata": {}
        }
      ]
    },
    {
      "cell_type": "code",
      "source": [
        "df.groupby(\"Tall\")[\"Bastidor\"].nunique().sort_values(ascending=False) # de esta manera estoy sacando el dato de bastidores unicos por taller. con sort_value los ordeno por cantidad de bastidores. "
      ],
      "metadata": {
        "colab": {
          "base_uri": "https://localhost:8080/"
        },
        "id": "ynq_8fM5Gu3Q",
        "outputId": "5a4f9660-bb86-4c1d-9a67-084530a8e160"
      },
      "execution_count": 42,
      "outputs": [
        {
          "output_type": "execute_result",
          "data": {
            "text/plain": [
              "Tall\n",
              "6     19441\n",
              "8     14143\n",
              "1     14020\n",
              "2     13796\n",
              "3      7532\n",
              "10      945\n",
              "4         1\n",
              "Name: Bastidor, dtype: int64"
            ]
          },
          "metadata": {},
          "execution_count": 42
        }
      ]
    },
    {
      "cell_type": "code",
      "source": [
        "df.groupby(\"Tall\")[\"Fact_total\"].sum().sort_values(ascending=False) # aqui estoy agrupando por taller y facturación total. "
      ],
      "metadata": {
        "colab": {
          "base_uri": "https://localhost:8080/"
        },
        "id": "pkkHu8JCOFgx",
        "outputId": "82782875-22af-499e-c27b-2647ade1e356"
      },
      "execution_count": 43,
      "outputs": [
        {
          "output_type": "execute_result",
          "data": {
            "text/plain": [
              "Tall\n",
              "6     32190776.77\n",
              "1     28314239.52\n",
              "2     23021706.10\n",
              "8     13262775.71\n",
              "3      8402567.53\n",
              "10      970342.89\n",
              "4            0.00\n",
              "Name: Fact_total, dtype: float64"
            ]
          },
          "metadata": {},
          "execution_count": 43
        }
      ]
    },
    {
      "cell_type": "code",
      "source": [
        "df.groupby( \"year\")[\"Bastidor\"].nunique().sort_values(ascending=False) # debería quitar todos los datos anteriores al 2015 y quizas el 2022"
      ],
      "metadata": {
        "colab": {
          "base_uri": "https://localhost:8080/"
        },
        "id": "gttlcGi4RlL4",
        "outputId": "6ccc5a6e-24b2-479b-cd20-a4cb49034c11"
      },
      "execution_count": 44,
      "outputs": [
        {
          "output_type": "execute_result",
          "data": {
            "text/plain": [
              "year\n",
              "2019    18324\n",
              "2018    18280\n",
              "2017    17975\n",
              "2021    17106\n",
              "2020    16413\n",
              "2016    15881\n",
              "2015    14399\n",
              "2022     9596\n",
              "2014      534\n",
              "2013       25\n",
              "2005        3\n",
              "2004        1\n",
              "2012        1\n",
              "Name: Bastidor, dtype: int64"
            ]
          },
          "metadata": {},
          "execution_count": 44
        }
      ]
    },
    {
      "cell_type": "code",
      "source": [
        "# si quiero agrupar por mas de una variable se hace así. \n",
        "df.groupby([\"Tall\", \"year\"])[\"Bastidor\"].nunique().sort_values(ascending=False) # de esta manera estoy sacando el dato de bastidores unicos por taller. con sort_value los ordeno por cantidad de bastidores. "
      ],
      "metadata": {
        "colab": {
          "base_uri": "https://localhost:8080/"
        },
        "id": "1NmQVzNZLe4D",
        "outputId": "96ec1a82-ca3f-4b60-c2d2-06c782b8e3f5"
      },
      "execution_count": 45,
      "outputs": [
        {
          "output_type": "execute_result",
          "data": {
            "text/plain": [
              "Tall  year\n",
              "6     2019    5031\n",
              "2     2015    4957\n",
              "6     2018    4821\n",
              "      2021    4812\n",
              "      2020    4792\n",
              "      2017    4517\n",
              "2     2017    4473\n",
              "      2016    4303\n",
              "1     2017    4220\n",
              "2     2018    4206\n",
              "1     2018    4172\n",
              "6     2016    4165\n",
              "2     2019    4022\n",
              "1     2019    3957\n",
              "2     2021    3834\n",
              "6     2015    3777\n",
              "8     2018    3735\n",
              "1     2016    3647\n",
              "8     2021    3593\n",
              "1     2021    3562\n",
              "8     2019    3542\n",
              "2     2020    3486\n",
              "8     2017    3451\n",
              "1     2020    3390\n",
              "      2015    3332\n",
              "8     2020    3177\n",
              "      2016    2621\n",
              "6     2022    2514\n",
              "3     2017    2237\n",
              "      2019    2212\n",
              "1     2022    2181\n",
              "2     2022    2159\n",
              "3     2018    2154\n",
              "      2015    2024\n",
              "      2016    1977\n",
              "      2020    1888\n",
              "8     2022    1774\n",
              "3     2021    1717\n",
              "8     2015    1172\n",
              "3     2022    1007\n",
              "10    2019     394\n",
              "      2021     392\n",
              "      2020     367\n",
              "2     2014     287\n",
              "10    2022     206\n",
              "6     2014     153\n",
              "10    2018      84\n",
              "1     2014      82\n",
              "2     2013      11\n",
              "3     2014       8\n",
              "6     2013       8\n",
              "8     2014       7\n",
              "1     2013       5\n",
              "6     2005       3\n",
              "8     2013       1\n",
              "4     2020       1\n",
              "6     2004       1\n",
              "      2012       1\n",
              "Name: Bastidor, dtype: int64"
            ]
          },
          "metadata": {},
          "execution_count": 45
        }
      ]
    },
    {
      "cell_type": "code",
      "source": [
        "# Looking the distribution of column Quantity\n",
        "plt.figure(figsize=(10,7)) # fijamos el tamaño del gráfico\n",
        "\n",
        "skewness = round(df.Fact_total.skew(),2) # calculamos el skewness\n",
        "kurtosis = round(df.Fact_total.kurtosis(),2) # calculamos la kurtosis\n",
        "mean = round(np.mean(df.Fact_total),0) # calculamos la media\n",
        "median = np.median(df.Fact_total) # calculamos la mediana. \n",
        "\n",
        "plt.subplot(2,2,1) # esto quieres decir un grafico de 2 x 2 y este ira en 0.0 primera fila primera columna. \n",
        "sns.boxplot(y=df.Fact_total)\n",
        "plt.title('Boxplot\\n Mean:{}\\n Median:{}\\n Skewness:{}\\n Kurtosis:{}'.format(mean,median,skewness,kurtosis))\n",
        "# le estamos metindo una descripción\n",
        "\n",
        "plt.subplot(2,2,2)\n",
        "sns.boxplot(y=df[df.Fact_total<500]['Fact_total'])\n",
        "plt.title('Distribution when Fact_total<500')\n",
        "\n",
        "plt.subplot(2,2,3)\n",
        "sns.boxplot(y=df[df.Fact_total<250]['Fact_total'])\n",
        "plt.title('Distribution when Fact_total<250')\n",
        "\n",
        "plt.subplot(2,2,4)\n",
        "sns.boxplot(y=df[df.Fact_total<50]['Fact_total'])\n",
        "plt.title('Distribution when Fact_total<50')\n",
        "\n",
        "plt.show()\n",
        "\n",
        "# estamos trabajando con la cantidad y la analizamos desde diferentes rangos la facturación total. "
      ],
      "metadata": {
        "colab": {
          "base_uri": "https://localhost:8080/",
          "height": 487
        },
        "id": "WJXaXt9TNs7m",
        "outputId": "55b90396-174a-40ef-8e5c-486ac25cf03c"
      },
      "execution_count": 48,
      "outputs": [
        {
          "output_type": "display_data",
          "data": {
            "text/plain": [
              "<Figure size 720x504 with 4 Axes>"
            ],
            "image/png": "[encoded data removed]"
          },
          "metadata": {}
        }
      ]
    },
    {
      "cell_type": "code",
      "source": [
        "# vamos a quitar todos los totales superiores a 5.000\n",
        "df = df[df[\"Fact_total\"]<5000]\n"
      ],
      "metadata": {
        "id": "S72UpKShPtRN"
      },
      "execution_count": 49,
      "outputs": []
    },
    {
      "cell_type": "code",
      "source": [
        "plt.figure(figsize=(15,5))\n",
        "\n",
        "plt.subplot(1,2,1)\n",
        "sns.barplot(y = df.groupby('Tall')['Fact_total'].sum().sort_values(ascending=False).head(10).values, # agrupamos por taller y facturación total\n",
        "            x = df.groupby('Tall')['Fact_total'].sum().sort_values(ascending=False).head(10).index, \n",
        "            color='green')\n",
        "\n",
        "plt.ylabel('Facturacion')\n",
        "plt.xlabel('Talleres')\n",
        "plt.xticks(rotation=45)\n",
        "plt.title('Venta por Talleres',size=15)\n",
        "\n",
        "plt.subplot(1,2,2)\n",
        "sns.barplot(y = df.groupby('Tall')['Fact_total'].mean().sort_values(ascending=False).head(10).values, # agrupamos por taller y media de facturación por paso\n",
        "            x = df.groupby('Tall')['Fact_total'].mean().sort_values(ascending=False).head(10).index, \n",
        "            color='green')\n",
        "# en este lo que hacemos es hayar valores unicos de numero de factura. \n",
        "plt.ylabel('Media')\n",
        "plt.xlabel('Venta de Talleres')\n",
        "plt.xticks(rotation=45)\n",
        "plt.title('Media de venta por paso',size=15)\n",
        "\n",
        "plt.show()"
      ],
      "metadata": {
        "id": "2CnjAqqMduYl",
        "outputId": "1e19b53f-702a-4793-ffba-b7fc0716463a",
        "colab": {
          "base_uri": "https://localhost:8080/",
          "height": 358
        }
      },
      "execution_count": 52,
      "outputs": [
        {
          "output_type": "display_data",
          "data": {
            "text/plain": [
              "<Figure size 1080x360 with 2 Axes>"
            ],
            "image/png": "[encoded data removed]"
          },
          "metadata": {}
        }
      ]
    },
    {
      "cell_type": "code",
      "source": [
        "df.Fact_total.mean() # esta es la media de todos los valores. "
      ],
      "metadata": {
        "id": "mf6_g8QXf2ci",
        "outputId": "a9508c5a-ff0b-41dd-d302-856767417885",
        "colab": {
          "base_uri": "https://localhost:8080/"
        }
      },
      "execution_count": 53,
      "outputs": [
        {
          "output_type": "execute_result",
          "data": {
            "text/plain": [
              "368.56075385024815"
            ]
          },
          "metadata": {},
          "execution_count": 53
        }
      ]
    },
    {
      "cell_type": "code",
      "source": [
        "print(df[df[\"Tall\"]==\"1\"][\"Fact_total\"].mean())\n",
        "print(df[df[\"Tall\"]==\"6\"][\"Fact_total\"].mean())\n",
        "print(df[df[\"Tall\"]==\"3\"][\"Fact_total\"].mean())\n",
        "print(df[df[\"Tall\"]==\"2\"][\"Fact_total\"].mean())\n",
        "print(df[df[\"Tall\"]==\"10\"][\"Fact_total\"].mean())\n",
        "print(df[df[\"Tall\"]==\"8\"][\"Fact_total\"].mean())"
      ],
      "metadata": {
        "id": "0PAR79aBjNlZ",
        "outputId": "65dec7c6-9014-43b8-c166-0712ff37448e",
        "colab": {
          "base_uri": "https://localhost:8080/"
        }
      },
      "execution_count": 63,
      "outputs": [
        {
          "output_type": "stream",
          "name": "stdout",
          "text": [
            "441.57695686564017\n",
            "396.80283066446316\n",
            "350.4021314916663\n",
            "345.4648431222499\n",
            "294.42880057803467\n",
            "274.10382898327623\n"
          ]
        }
      ]
    },
    {
      "cell_type": "code",
      "source": [
        ""
      ],
      "metadata": {
        "id": "-D2zNQHSj9KR"
      },
      "execution_count": null,
      "outputs": []
    }
  ]
}