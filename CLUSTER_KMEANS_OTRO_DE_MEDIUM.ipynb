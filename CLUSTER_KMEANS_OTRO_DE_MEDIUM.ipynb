{
  "nbformat": 4,
  "nbformat_minor": 0,
  "metadata": {
    "colab": {
      "name": "CLUSTER KMEANS OTRO DE MEDIUM.ipynb",
      "provenance": [],
      "authorship_tag": "ABX9TyNHGhflXyxQZmWt7UtjHcwq",
      "include_colab_link": true
    },
    "kernelspec": {
      "name": "python3",
      "display_name": "Python 3"
    },
    "language_info": {
      "name": "python"
    }
  },
  "cells": [
    {
      "cell_type": "markdown",
      "metadata": {
        "id": "view-in-github",
        "colab_type": "text"
      },
      "source": [
        "<a href=\"https://colab.research.google.com/github/pacomm5/PLANTILLAS2/blob/main/CLUSTER_KMEANS_OTRO_DE_MEDIUM.ipynb\" target=\"_parent\"><img src=\"https://colab.research.google.com/assets/colab-badge.svg\" alt=\"Open In Colab\"/></a>"
      ]
    },
    {
      "cell_type": "code",
      "execution_count": null,
      "metadata": {
        "id": "4i3orftcG6DY"
      },
      "outputs": [],
      "source": [
        "# VAMOS A ENCONTRAR LOS OPTIMOS MEDIANTE EL METODO ELVOW, LA PUNTUACION DE LA SILUETA Y LAS ESTADISTICAS DE BRECHA. \n",
        "# LAS DISTANCIAS QUE PODEMOS UTILIZAR SON MUY DIVERSAS. euclidiana, manhattan, euclidiana al cuadrado, distancia del coseno. \n",
        "# kmeans lo podemos utilizar para detención de anomálias como una detención del frauid. gegmentacion de cliente, imagenes o en su caso para mineria de datos. "
      ]
    },
    {
      "cell_type": "code",
      "source": [
        "# vamos adelante con un ejercicio. "
      ],
      "metadata": {
        "id": "WurNC2cnH0Uw"
      },
      "execution_count": null,
      "outputs": []
    }
  ]
}