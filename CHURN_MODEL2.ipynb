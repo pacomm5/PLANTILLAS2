{
  "nbformat": 4,
  "nbformat_minor": 0,
  "metadata": {
    "colab": {
      "name": "CHURN_MODEL2.ipynb",
      "provenance": [],
      "authorship_tag": "ABX9TyN2qUzdvaOJ+lACiqcGxTgg",
      "include_colab_link": true
    },
    "kernelspec": {
      "name": "python3",
      "display_name": "Python 3"
    },
    "language_info": {
      "name": "python"
    }
  },
  "cells": [
    {
      "cell_type": "markdown",
      "metadata": {
        "id": "view-in-github",
        "colab_type": "text"
      },
      "source": [
        "<a href=\"https://colab.research.google.com/github/pacomm5/PLANTILLAS2/blob/main/CHURN_MODEL2.ipynb\" target=\"_parent\"><img src=\"https://colab.research.google.com/assets/colab-badge.svg\" alt=\"Open In Colab\"/></a>"
      ]
    },
    {
      "cell_type": "markdown",
      "source": [
        "-Nuestro objetivo es completar lo siguiente para este estudio:\n",
        "\n",
        "Identifique y visualice qué factores contribuyen a la rotación de clientes:\n",
        "\n",
        "Cree un modelo de predicción que realice lo siguiente:\n",
        "\n",
        "Clasificar si un cliente va a churn o no\n",
        "Preferiblemente y en función del rendimiento del modelo, elija un modelo que atribuya una probabilidad a la rotación para facilitar que el servicio al cliente se dirija a frutas de bajo costo en sus esfuerzos por evitar la rotación."
      ],
      "metadata": {
        "id": "WWgCfYtMILao"
      }
    },
    {
      "cell_type": "markdown",
      "source": [
        "## 2. data set revisión y preparación"
      ],
      "metadata": {
        "id": "dZKKMa_-IQfI"
      }
    },
    {
      "cell_type": "code",
      "execution_count": 1,
      "metadata": {
        "id": "9WZjhAsJHsUO"
      },
      "outputs": [],
      "source": [
        "## REQUIRED LIBRARIES\n",
        "# For data wrangling \n",
        "import numpy as np\n",
        "import pandas as pd\n",
        "\n",
        "# For visualization\n",
        "import matplotlib.pyplot as plt\n",
        "%matplotlib inline\n",
        "import seaborn as sns\n",
        "pd.options.display.max_rows = None\n",
        "pd.options.display.max_columns = None"
      ]
    },
    {
      "cell_type": "code",
      "source": [
        "!pip install kaggle update # instalamos kaggle. "
      ],
      "metadata": {
        "colab": {
          "base_uri": "https://localhost:8080/"
        },
        "id": "jnY2gaBNIdJq",
        "outputId": "cb712503-9c3a-44c1-98c6-d403f3f6c446"
      },
      "execution_count": 2,
      "outputs": [
        {
          "output_type": "stream",
          "name": "stdout",
          "text": [
            "Looking in indexes: https://pypi.org/simple, https://us-python.pkg.dev/colab-wheels/public/simple/\n",
            "Requirement already satisfied: kaggle in /usr/local/lib/python3.7/dist-packages (1.5.12)\n",
            "Collecting update\n",
            "  Downloading update-0.0.1-py2.py3-none-any.whl (2.9 kB)\n",
            "Requirement already satisfied: python-slugify in /usr/local/lib/python3.7/dist-packages (from kaggle) (6.1.2)\n",
            "Requirement already satisfied: certifi in /usr/local/lib/python3.7/dist-packages (from kaggle) (2022.6.15)\n",
            "Requirement already satisfied: six>=1.10 in /usr/local/lib/python3.7/dist-packages (from kaggle) (1.15.0)\n",
            "Requirement already satisfied: requests in /usr/local/lib/python3.7/dist-packages (from kaggle) (2.23.0)\n",
            "Requirement already satisfied: python-dateutil in /usr/local/lib/python3.7/dist-packages (from kaggle) (2.8.2)\n",
            "Requirement already satisfied: urllib3 in /usr/local/lib/python3.7/dist-packages (from kaggle) (1.24.3)\n",
            "Requirement already satisfied: tqdm in /usr/local/lib/python3.7/dist-packages (from kaggle) (4.64.0)\n",
            "Collecting style==1.1.0\n",
            "  Downloading style-1.1.0-py2.py3-none-any.whl (6.4 kB)\n",
            "Requirement already satisfied: text-unidecode>=1.3 in /usr/local/lib/python3.7/dist-packages (from python-slugify->kaggle) (1.3)\n",
            "Requirement already satisfied: idna<3,>=2.5 in /usr/local/lib/python3.7/dist-packages (from requests->kaggle) (2.10)\n",
            "Requirement already satisfied: chardet<4,>=3.0.2 in /usr/local/lib/python3.7/dist-packages (from requests->kaggle) (3.0.4)\n",
            "Installing collected packages: style, update\n",
            "Successfully installed style-1.1.0 update-0.0.1\n"
          ]
        }
      ]
    },
    {
      "cell_type": "code",
      "source": [
        "# antes de nada subimos en temporal kaggle.json. OJO CON ESTO QUE NO ME ENTERO. tengo que subirlo en google colaborate. en la parte izquierda me pongo en la carpeta y en la flecha de subir.\n",
        "# posteriormente elijo el archivo json del ordenador y lo subo. \n",
        "!mkdir -p ~/.kaggle # creamos el provisional directorio de kaggle. "
      ],
      "metadata": {
        "id": "6CtjSwoUIjnc"
      },
      "execution_count": 3,
      "outputs": []
    },
    {
      "cell_type": "code",
      "source": [
        "! cp kaggle.json ~/.kaggle/ # llevamos el archivo al directorio creado."
      ],
      "metadata": {
        "id": "ctWKT_xHI288"
      },
      "execution_count": 4,
      "outputs": []
    },
    {
      "cell_type": "code",
      "source": [
        "! chmod 600 ~/.kaggle/kaggle.json # le damos permios para acceder. "
      ],
      "metadata": {
        "id": "j7ED1EWwI8xk"
      },
      "execution_count": 5,
      "outputs": []
    },
    {
      "cell_type": "code",
      "source": [
        "# importante en kaggle me tengo que poner en dataset y buscar lo que necesito. si lo encuentro tengo que poner despúes de download por ejemplo\n",
        "# en este caso pone esto https://www.kaggle.com/datasets/hellbuoy/car-price-prediction y que lo que debo poner después de download es a partir de hellbuoy\n",
        "! kaggle datasets download barelydedicated/bank-customer-churn-modeling\n",
        "# aqui es cuando no es competición e igualmente solo tenemos que meter después del download lo siguiente “https://www.kaggle.com/arenagrenade/the-complete-pokemon-images-data-set”\n",
        "# arenagrenade/the-complete-pokemon-images-data-set”"
      ],
      "metadata": {
        "colab": {
          "base_uri": "https://localhost:8080/"
        },
        "id": "uBU-Wl2uJAsP",
        "outputId": "033d8a47-3a8b-480e-877b-2ec40febc3b5"
      },
      "execution_count": 6,
      "outputs": [
        {
          "output_type": "stream",
          "name": "stdout",
          "text": [
            "Downloading bank-customer-churn-modeling.zip to /content\n",
            "\r  0% 0.00/262k [00:00<?, ?B/s]\n",
            "\r100% 262k/262k [00:00<00:00, 66.1MB/s]\n"
          ]
        }
      ]
    },
    {
      "cell_type": "code",
      "source": [
        "# si los archivos vienen en zip se abren de la siguiente manera. \n",
        "import zipfile # importamos esta librería\n",
        "datazip = zipfile.ZipFile(\"/content/bank-customer-churn-modeling.zip\") # esta es la dirección donde esta el zip\n",
        "datazip.extract(\"Churn_Modelling.csv\",\"/content/\" ) # tenemos que hacer esto para extraer solo uno. \n",
        "# a partir de este momento ya lo tenemos en temporal. \n"
      ],
      "metadata": {
        "colab": {
          "base_uri": "https://localhost:8080/",
          "height": 36
        },
        "id": "EFZrM8qPJGZg",
        "outputId": "a5ea37ef-a6f4-40ff-eef6-76a78f11efaa"
      },
      "execution_count": 7,
      "outputs": [
        {
          "output_type": "execute_result",
          "data": {
            "text/plain": [
              "'/content/Churn_Modelling.csv'"
            ],
            "application/vnd.google.colaboratory.intrinsic+json": {
              "type": "string"
            }
          },
          "metadata": {},
          "execution_count": 7
        }
      ]
    },
    {
      "cell_type": "code",
      "source": [
        "# Read the data frame\n",
        "df = pd.read_csv('/content/Churn_Modelling.csv', delimiter=',')\n",
        "df.shape"
      ],
      "metadata": {
        "colab": {
          "base_uri": "https://localhost:8080/"
        },
        "id": "TorOs1qtJO99",
        "outputId": "29fade97-6078-431f-c555-5f4603e82a4f"
      },
      "execution_count": 8,
      "outputs": [
        {
          "output_type": "execute_result",
          "data": {
            "text/plain": [
              "(10000, 14)"
            ]
          },
          "metadata": {},
          "execution_count": 8
        }
      ]
    },
    {
      "cell_type": "markdown",
      "source": [
        "-El Df tiene 1000 filas con 14 atributos. Revisamos esto más a fondo para identificar qué atributos serán necesarios y qué manipulación de datos debe llevarse a cabo antes del análisis exploratorio y el modelado de predicción."
      ],
      "metadata": {
        "id": "5SGg5eOrJi_X"
      }
    },
    {
      "cell_type": "code",
      "source": [
        ""
      ],
      "metadata": {
        "id": "MNjczt--Jbt5"
      },
      "execution_count": null,
      "outputs": []
    }
  ]
}